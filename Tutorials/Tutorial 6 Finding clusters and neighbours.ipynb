{
  "cells": [
    {
      "cell_type": "markdown",
      "metadata": {
        "id": "view-in-github",
        "colab_type": "text"
      },
      "source": [
        "<a href=\"https://colab.research.google.com/github/mnijhuis-dnb/Artificial_Intelligence_and_Machine_Learning_for_SupTech/blob/main/Tutorials/Tutorial%206%20Finding%20clusters%20and%20neighbours.ipynb\" target=\"_parent\"><img src=\"https://colab.research.google.com/assets/colab-badge.svg\" alt=\"Open In Colab\"/></a>"
      ]
    },
    {
      "cell_type": "markdown",
      "metadata": {
        "id": "NU0xCHIKJRSG"
      },
      "source": [
        "##Artificial Intelligence and Machine Learning for SupTech  \n",
        "Tutorial 6: Finding clusters and neighbours\n",
        "\n",
        "*\tImplementing K-means and DBSCAN\n",
        "*\tHierarchical clustering: Bottom-up or Top-down?\n",
        "*\tVisual inspection of results\n",
        "\n",
        "<br/>\n",
        "\n",
        "14 March 2023  \n",
        "\n",
        "**Instructors**  \n",
        "Prof. Iman van Lelyveld (iman.van.lelyveld@vu.nl)<br/>\n",
        "Dr. Michiel Nijhuis (m.nijhuis@dnb.nl)  "
      ]
    },
    {
      "cell_type": "code",
      "execution_count": null,
      "metadata": {
        "id": "cG7h_DZoN9Ld"
      },
      "outputs": [],
      "source": [
        "!gdown 1PCu4jNahysRpZ72z31KHpVkyAOp6nrKj"
      ]
    },
    {
      "cell_type": "markdown",
      "metadata": {
        "id": "vGOJH2SUQ20y"
      },
      "source": [
        "In this tutorail we will try to group companies based on a number of factors and see if the groups we made have a different revenue a couple of years later."
      ]
    },
    {
      "cell_type": "code",
      "execution_count": null,
      "metadata": {
        "id": "LCMq0j6PR6Nz"
      },
      "outputs": [],
      "source": [
        "import pandas as pd\n",
        "import numpy as np\n",
        "import matplotlib.pyplot as plt"
      ]
    },
    {
      "cell_type": "code",
      "execution_count": null,
      "metadata": {
        "id": "mMbHUa4GGgv0"
      },
      "outputs": [],
      "source": [
        "df = pd.read_csv('/content/company_data.csv', index_col=0)"
      ]
    },
    {
      "cell_type": "markdown",
      "source": [
        "We are going to cluster the data based on the 2016 data and see the effects on the 2018 data"
      ],
      "metadata": {
        "id": "VFqj-25OA3ud"
      }
    },
    {
      "cell_type": "code",
      "execution_count": null,
      "metadata": {
        "id": "VvPJ_egTZpsN"
      },
      "outputs": [],
      "source": [
        "df_2016 = df.loc[df['year'] == 2016, :]\n",
        "df_2018 = df.loc[df['year'] == 2018, :]"
      ]
    },
    {
      "cell_type": "markdown",
      "source": [
        "Select a number of columns in the dataframe which could be predictors of the revenue two years down the line. As an example, high R&D investments could transfer into larger revenue a few years later, so that could be something to select "
      ],
      "metadata": {
        "id": "31MV3oaJFQyW"
      }
    },
    {
      "cell_type": "code",
      "source": [
        "df_2016_limited = df_2016.loc[...]"
      ],
      "metadata": {
        "id": "MGgXq-lw247Q"
      },
      "execution_count": null,
      "outputs": []
    },
    {
      "cell_type": "markdown",
      "source": [
        "We are going to cluster this data using kmean"
      ],
      "metadata": {
        "id": "d-2aNQh2HkyR"
      }
    },
    {
      "cell_type": "code",
      "execution_count": null,
      "metadata": {
        "id": "jN7qRigOdUiT"
      },
      "outputs": [],
      "source": [
        "from sklearn.cluster import KMeans"
      ]
    },
    {
      "cell_type": "code",
      "execution_count": null,
      "metadata": {
        "id": "bOdbvEf8LoYn"
      },
      "outputs": [],
      "source": [
        "n_clusters = 3\n",
        "\n",
        "kmeans = KMeans(\n",
        "    n_clusters=n_clusters, \n",
        "    random_state=0,\n",
        ").fit(df_2016_limited)"
      ]
    },
    {
      "cell_type": "markdown",
      "source": [
        "Let's have a look at the results"
      ],
      "metadata": {
        "id": "grAEVj_vH0C_"
      }
    },
    {
      "cell_type": "code",
      "execution_count": null,
      "metadata": {
        "id": "OKsgFYTaNcfm"
      },
      "outputs": [],
      "source": [
        "pd.Series(kmeans.labels_, index=df_2016_limited.index, name='clusters')"
      ]
    },
    {
      "cell_type": "markdown",
      "source": [
        "Now it is time to discover whether your clusters are actually seperating the data well. Calculate the statisitcs of each of the clusters"
      ],
      "metadata": {
        "id": "TVKKA1JWIFd1"
      }
    },
    {
      "cell_type": "code",
      "source": [],
      "metadata": {
        "id": "oCR5Yt0fIZ7d"
      },
      "execution_count": null,
      "outputs": []
    },
    {
      "cell_type": "markdown",
      "source": [
        "You can also visually show your clusters, we now do it in 2 dimensions. Pick two of the columns you selected and use the code to plot the results. How does the seperation of the data look?"
      ],
      "metadata": {
        "id": "odQUpLaKIaYW"
      }
    },
    {
      "cell_type": "code",
      "execution_count": null,
      "metadata": {
        "id": "s2cD2vwqMTAv"
      },
      "outputs": [],
      "source": [
        "col_a = ''\n",
        "col_b = ''\n",
        "\n",
        "color = iter(plt.cm.rainbow(np.linspace(0, 1, n_clusters)))\n",
        "for i in range(n_clusters):\n",
        "  plot_df = df_2016_limited[kmeans.labels_==i]\n",
        "  plt.plot(\n",
        "    plot_df.loc[:, col_a], plot_df.loc[:, col_b],\n",
        "    color=next(color),\n",
        "    marker='o', markersize=3, lw=0\n",
        "  )"
      ]
    },
    {
      "cell_type": "markdown",
      "source": [
        "Another approach to clustering is agglomeratie clustering"
      ],
      "metadata": {
        "id": "zOTCYxsax0qv"
      }
    },
    {
      "cell_type": "code",
      "execution_count": null,
      "metadata": {
        "id": "PKjFCBvrdVU8"
      },
      "outputs": [],
      "source": [
        "from sklearn.cluster import AgglomerativeClustering"
      ]
    },
    {
      "cell_type": "code",
      "execution_count": null,
      "metadata": {
        "id": "dhO-dp_mbWXF"
      },
      "outputs": [],
      "source": [
        "agg = AgglomerativeClustering(\n",
        "    n_clusters=n_clusters\n",
        ").fit(df_2016_limited)"
      ]
    },
    {
      "cell_type": "markdown",
      "source": [
        "Compare the results of the agglomerative clustering to the kmeans clustering"
      ],
      "metadata": {
        "id": "PvkYweV7yCCb"
      }
    },
    {
      "cell_type": "code",
      "source": [],
      "metadata": {
        "id": "OtdY2AWyyIGR"
      },
      "execution_count": null,
      "outputs": []
    },
    {
      "cell_type": "markdown",
      "metadata": {
        "id": "vDJrU-_IfPFF"
      },
      "source": [
        "We can also use the silhouette to quality of the clustering"
      ]
    },
    {
      "cell_type": "code",
      "execution_count": null,
      "metadata": {
        "id": "cTC1iRB5jCuo"
      },
      "outputs": [],
      "source": [
        "from sklearn.metrics import silhouette_samples, silhouette_score"
      ]
    },
    {
      "cell_type": "code",
      "execution_count": null,
      "metadata": {
        "id": "mMT3itUbkfmr"
      },
      "outputs": [],
      "source": [
        "fig, axes = plt.subplots(1, n_clusters, sharey=True, figsize=[int(5*n_clusters),5])\n",
        "\n",
        "silhouette_values = silhouette_samples(df_2016_limited, kmeans.labels_)\n",
        "\n",
        "colors = iter(plt.cm.rainbow(np.linspace(0, 1, n_clusters)))\n",
        "for cluster in np.unique(kmeans.labels_):\n",
        "  ax = axes[cluster]\n",
        "  color = next(colors)\n",
        "  sils = silhouette_values[kmeans.labels_ == cluster]\n",
        "  sils = sorted(sils)\n",
        "  ax.bar(range(len(sils)), sils, color=color, width=2)\n",
        "\n",
        "  sils_avg = np.mean(sils)\n",
        "  ax.axhline(sils_avg, lw=3, ls='--', color=color)\n",
        "  ax.set_title(f'Cluster {cluster}\\n(avg. silhoutte: {sils_avg:.3f}')\n",
        "\n",
        "fig.tight_layout()"
      ]
    },
    {
      "cell_type": "markdown",
      "metadata": {
        "id": "9PSQzsH6mN5y"
      },
      "source": [
        "Can you make the same plot for the agglomarative clustering?"
      ]
    },
    {
      "cell_type": "code",
      "execution_count": null,
      "metadata": {
        "id": "7gTRbVSxmN5z"
      },
      "outputs": [],
      "source": []
    },
    {
      "cell_type": "markdown",
      "source": [
        "Now we can see if the clusters you have defined also have an effect on the revenue in 2018. Can you combine the data of 2016 to 2018 and see the differences in statistics of the revenue in 2018 between the clusters"
      ],
      "metadata": {
        "id": "2kKUQE2r-j4l"
      }
    },
    {
      "cell_type": "code",
      "source": [],
      "metadata": {
        "id": "tsCrLfI9-5U2"
      },
      "execution_count": null,
      "outputs": []
    }
  ],
  "metadata": {
    "colab": {
      "provenance": [],
      "include_colab_link": true
    },
    "kernelspec": {
      "display_name": "Python 3.9.7 ('base')",
      "language": "python",
      "name": "python3"
    },
    "language_info": {
      "codemirror_mode": {
        "name": "ipython",
        "version": 3
      },
      "file_extension": ".py",
      "mimetype": "text/x-python",
      "name": "python",
      "nbconvert_exporter": "python",
      "pygments_lexer": "ipython3",
      "version": "3.9.7"
    },
    "vscode": {
      "interpreter": {
        "hash": "1487036e2b4c3efb4b3c8f354d2634a52c03b8f86cae8ff8f4b4aaa5461f93fb"
      }
    }
  },
  "nbformat": 4,
  "nbformat_minor": 0
}