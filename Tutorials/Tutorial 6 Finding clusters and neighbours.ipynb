{
  "cells": [
    {
      "cell_type": "markdown",
      "metadata": {
        "colab_type": "text",
        "id": "view-in-github"
      },
      "source": [
        "<a href=\"https://colab.research.google.com/github/mnijhuis-dnb/Artificial_Intelligence_and_Machine_Learning_for_SupTech/blob/main/Tutorials/Tutorial%206%20Finding%20clusters%20and%20neighbours.ipynb\" target=\"_parent\"><img src=\"https://colab.research.google.com/assets/colab-badge.svg\" alt=\"Open In Colab\"/></a>"
      ]
    },
    {
      "cell_type": "markdown",
      "metadata": {
        "id": "NU0xCHIKJRSG"
      },
      "source": [
        "##Artificial Intelligence and Machine Learning for SupTech  \n",
        "Tutorial 6: Finding clusters and neighbours\n",
        "\n",
        "*\tImplementing K-means and DBSCAN\n",
        "*\tHierarchical clustering: Bottom-up or Top-down?\n",
        "*\tVisual inspection of results\n",
        "\n",
        "<br/>\n",
        "\n",
        "14 March 2023  \n",
        "\n",
        "**Instructors**  \n",
        "Prof. Iman van Lelyveld (iman.van.lelyveld@vu.nl)<br/>\n",
        "Dr. Michiel Nijhuis (m.nijhuis@dnb.nl)  "
      ]
    },
    {
      "cell_type": "code",
      "execution_count": null,
      "metadata": {
        "colab": {
          "base_uri": "https://localhost:8080/"
        },
        "id": "cG7h_DZoN9Ld",
        "outputId": "9434339a-5d23-446b-fc0d-9f8da5c3911e"
      },
      "outputs": [],
      "source": [
        "!gdown 1PCu4jNahysRpZ72z31KHpVkyAOp6nrKj"
      ]
    },
    {
      "cell_type": "markdown",
      "metadata": {
        "id": "vGOJH2SUQ20y"
      },
      "source": [
        "Tooday is about applying machine learning methods to examine stock returns in various ways. This involves data processing, standardization, normalization, model fitting etc. Importantly, we"
      ]
    },
    {
      "cell_type": "code",
      "execution_count": null,
      "metadata": {
        "id": "LCMq0j6PR6Nz"
      },
      "outputs": [],
      "source": [
        "import pandas as pd\n",
        "import numpy as np\n",
        "import matplotlib.pyplot as plt"
      ]
    },
    {
      "cell_type": "code",
      "execution_count": null,
      "metadata": {
        "id": "mMbHUa4GGgv0"
      },
      "outputs": [],
      "source": [
        "df = pd.read_csv('/content/company_data.csv', index_col=0)"
      ]
    },
    {
      "cell_type": "code",
      "execution_count": null,
      "metadata": {
        "id": "TjYHSndXOzpF"
      },
      "outputs": [],
      "source": [
        "df = df.fillna(-1)"
      ]
    },
    {
      "cell_type": "code",
      "execution_count": null,
      "metadata": {
        "id": "VvPJ_egTZpsN"
      },
      "outputs": [],
      "source": [
        "df"
      ]
    },
    {
      "cell_type": "code",
      "execution_count": null,
      "metadata": {
        "id": "jN7qRigOdUiT"
      },
      "outputs": [],
      "source": [
        "from sklearn.cluster import KMeans"
      ]
    },
    {
      "cell_type": "code",
      "execution_count": null,
      "metadata": {
        "id": "bOdbvEf8LoYn"
      },
      "outputs": [],
      "source": [
        "kmeans = KMeans(\n",
        "    n_clusters=n_clusters, \n",
        "    random_state=0,\n",
        ").fit(df_X)"
      ]
    },
    {
      "cell_type": "code",
      "execution_count": null,
      "metadata": {
        "colab": {
          "base_uri": "https://localhost:8080/"
        },
        "id": "OKsgFYTaNcfm",
        "outputId": "465c3f06-10d9-4bf1-a109-c9e25def1204"
      },
      "outputs": [],
      "source": [
        "sr_clusters = pd.Series(kmeans.labels_, index=df_X.index, name='clusters')\n",
        "sr_clusters"
      ]
    },
    {
      "cell_type": "code",
      "execution_count": null,
      "metadata": {
        "colab": {
          "base_uri": "https://localhost:8080/"
        },
        "id": "j-D8a7BCXi4G",
        "outputId": "9f9e7f23-a5d7-4284-a768-1cc6d82069f7"
      },
      "outputs": [],
      "source": [
        "sr_clusters.value_counts()"
      ]
    },
    {
      "cell_type": "code",
      "execution_count": null,
      "metadata": {
        "colab": {
          "base_uri": "https://localhost:8080/",
          "height": 175
        },
        "id": "HBysVyhSV8Kp",
        "outputId": "73bb4c06-2e20-48e5-cc5e-274d35488523"
      },
      "outputs": [],
      "source": [
        "df_X.join(sr_clusters).groupby('clusters').mean()"
      ]
    },
    {
      "cell_type": "code",
      "execution_count": null,
      "metadata": {
        "id": "Ru5E9tyfNkRi"
      },
      "outputs": [],
      "source": [
        "df_X_clusters = df_X.join(sr_clusters).groupby('clusters')\n",
        "centroids = df_X_clusters.mean().values"
      ]
    },
    {
      "cell_type": "code",
      "execution_count": null,
      "metadata": {
        "id": "oGwKYy9gl79L"
      },
      "outputs": [],
      "source": [
        "# store for comparison\n",
        "sr_clusters_km = sr_clusters.copy()"
      ]
    },
    {
      "cell_type": "code",
      "execution_count": null,
      "metadata": {
        "colab": {
          "base_uri": "https://localhost:8080/",
          "height": 265
        },
        "id": "s2cD2vwqMTAv",
        "outputId": "6d43e8c0-1c9e-4776-a8d3-40fa6cde9195"
      },
      "outputs": [],
      "source": [
        "for permno, (x1, x2) in df_X.iterrows():\n",
        "  cluster = sr_clusters[permno]\n",
        "  color = colors[cluster]\n",
        "  plt.plot(\n",
        "    x1, x2,\n",
        "    color=color,\n",
        "    marker='o', markersize=3, lw=0\n",
        "  )\n",
        "for i, (x1, x2) in enumerate(centroids):\n",
        "  plt.plot(x1, x2, color=colors[i], marker='X', markersize=40, alpha=.6)"
      ]
    },
    {
      "cell_type": "code",
      "execution_count": null,
      "metadata": {
        "id": "PKjFCBvrdVU8"
      },
      "outputs": [],
      "source": [
        "from sklearn.cluster import AgglomerativeClustering"
      ]
    },
    {
      "cell_type": "code",
      "execution_count": null,
      "metadata": {
        "id": "dhO-dp_mbWXF"
      },
      "outputs": [],
      "source": [
        "agg = AgglomerativeClustering(\n",
        "    n_clusters=n_clusters\n",
        ").fit(df_X)\n",
        "\n",
        "sr_clusters = pd.Series(agg.labels_, index=df_X.index, name='clusters')\n",
        "df_X_clusters = df_X.join(sr_clusters).groupby('clusters')\n",
        "centers = df_X_clusters.mean().values"
      ]
    },
    {
      "cell_type": "code",
      "execution_count": null,
      "metadata": {
        "id": "bZVMZGUsl5yf"
      },
      "outputs": [],
      "source": [
        "# store for comparison\n",
        "sr_clusters_agg = sr_clusters.copy()"
      ]
    },
    {
      "cell_type": "code",
      "execution_count": null,
      "metadata": {
        "colab": {
          "base_uri": "https://localhost:8080/",
          "height": 265
        },
        "id": "YFKT8h0AbWXF",
        "outputId": "1dd88dbf-fa8a-4e9c-fad9-47404ed10e80"
      },
      "outputs": [],
      "source": [
        "for permno, (x1, x2) in df_X.iterrows():\n",
        "  cluster = sr_clusters[permno]\n",
        "  color = colors[cluster]\n",
        "  plt.plot(\n",
        "    x1, x2,\n",
        "    color=color,\n",
        "    marker='o', markersize=3, lw=0\n",
        "  )\n",
        "for i, (x1, x2) in enumerate(centers):\n",
        "  plt.plot(x1, x2, color=colors[i], marker='X', markersize=40, alpha=.6)"
      ]
    },
    {
      "cell_type": "markdown",
      "metadata": {
        "id": "vDJrU-_IfPFF"
      },
      "source": [
        "## How to evaluate clustering performance?"
      ]
    },
    {
      "cell_type": "code",
      "execution_count": null,
      "metadata": {
        "id": "cTC1iRB5jCuo"
      },
      "outputs": [],
      "source": [
        "from sklearn.metrics import silhouette_samples, silhouette_score"
      ]
    },
    {
      "cell_type": "code",
      "execution_count": null,
      "metadata": {
        "colab": {
          "base_uri": "https://localhost:8080/"
        },
        "id": "dOXe3sQKYuNO",
        "outputId": "b38689f5-b377-443a-d0de-d77f770b2ba9"
      },
      "outputs": [],
      "source": [
        "\n",
        "help(silhouette_score)"
      ]
    },
    {
      "cell_type": "markdown",
      "metadata": {
        "id": "5SMykwf4jWev"
      },
      "source": [
        "## KMeans silhouette"
      ]
    },
    {
      "cell_type": "code",
      "execution_count": null,
      "metadata": {
        "colab": {
          "base_uri": "https://localhost:8080/",
          "height": 369
        },
        "id": "mMT3itUbkfmr",
        "outputId": "9c0448e3-cb18-4046-a5b5-f718ca0b957d"
      },
      "outputs": [],
      "source": [
        "fig, axes = plt.subplots(1, n_clusters, sharey=True, figsize=[15,5])\n",
        "\n",
        "silhouette_values = silhouette_samples(df_X, sr_clusters_km)\n",
        "\n",
        "for cluster in sr_clusters.unique():\n",
        "  ax = axes[cluster]\n",
        "  color = colors[cluster]\n",
        "  sils = silhouette_values[sr_clusters == cluster]\n",
        "  sils = sorted(sils)\n",
        "  ax.bar(range(len(sils)), sils, color=color, width=2)\n",
        "\n",
        "  sils_avg = np.mean(sils)\n",
        "  ax.axhline(sils_avg, lw=3, ls='--', color=color)\n",
        "  ax.set_title(f'Cluster {cluster}\\n(avg. silhoutte: {sils_avg:.3f}')\n",
        "\n",
        "fig.tight_layout()"
      ]
    },
    {
      "cell_type": "markdown",
      "metadata": {
        "id": "9PSQzsH6mN5y"
      },
      "source": [
        "## Agglomerative clustering"
      ]
    },
    {
      "cell_type": "code",
      "execution_count": null,
      "metadata": {
        "colab": {
          "base_uri": "https://localhost:8080/",
          "height": 369
        },
        "id": "7gTRbVSxmN5z",
        "outputId": "99db5822-a030-4904-f816-f28eacc8e88a"
      },
      "outputs": [],
      "source": [
        "fig, axes = plt.subplots(1, n_clusters, sharey=True, figsize=[15,5])\n",
        "\n",
        "silhouette_values = silhouette_samples(df_X, sr_clusters_agg)\n",
        "\n",
        "for cluster in sr_clusters.unique():\n",
        "  ax = axes[cluster]\n",
        "  color = colors[cluster]\n",
        "  sils = silhouette_values[sr_clusters == cluster]\n",
        "  sils = sorted(sils)\n",
        "  ax.bar(range(len(sils)), sils, color=color, width=2)\n",
        "\n",
        "  sils_avg = np.mean(sils)\n",
        "  ax.axhline(sils_avg, lw=3, ls='--', color=color)\n",
        "  ax.set_title(f'Cluster {cluster}\\n(avg. silhoutte: {sils_avg:.3f}')\n",
        "\n",
        "fig.tight_layout()"
      ]
    }
  ],
  "metadata": {
    "colab": {
      "include_colab_link": true,
      "provenance": []
    },
    "kernelspec": {
      "display_name": "Python 3.9.7 ('base')",
      "language": "python",
      "name": "python3"
    },
    "language_info": {
      "codemirror_mode": {
        "name": "ipython",
        "version": 3
      },
      "file_extension": ".py",
      "mimetype": "text/x-python",
      "name": "python",
      "nbconvert_exporter": "python",
      "pygments_lexer": "ipython3",
      "version": "3.9.7"
    },
    "vscode": {
      "interpreter": {
        "hash": "1487036e2b4c3efb4b3c8f354d2634a52c03b8f86cae8ff8f4b4aaa5461f93fb"
      }
    }
  },
  "nbformat": 4,
  "nbformat_minor": 0
}
