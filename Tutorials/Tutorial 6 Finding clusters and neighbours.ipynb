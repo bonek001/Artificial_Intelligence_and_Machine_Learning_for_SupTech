{
  "cells": [
    {
      "cell_type": "markdown",
      "metadata": {
        "colab_type": "text",
        "id": "view-in-github"
      },
      "source": [
        "<a href=\"https://colab.research.google.com/github/mnijhuis-dnb/Artificial_Intelligence_and_Machine_Learning_for_SupTech/blob/main/Tutorials/Tutorial%206%20Finding%20clusters%20and%20neighbours.ipynb\" target=\"_parent\"><img src=\"https://colab.research.google.com/assets/colab-badge.svg\" alt=\"Open In Colab\"/></a>"
      ]
    },
    {
      "cell_type": "markdown",
      "metadata": {
        "id": "NU0xCHIKJRSG"
      },
      "source": [
        "##Artificial Intelligence and Machine Learning for SupTech  \n",
        "Tutorial 6: Finding clusters and neighbours\n",
        "\n",
        "*\tImplementing K-means and DBSCAN\n",
        "*\tHierarchical clustering: Bottom-up or Top-down?\n",
        "*\tVisual inspection of results\n",
        "\n",
        "<br/>\n",
        "\n",
        "14 March 2023  \n",
        "\n",
        "**Instructors**  \n",
        "Prof. Iman van Lelyveld (iman.van.lelyveld@vu.nl)<br/>\n",
        "Dr. Michiel Nijhuis (m.nijhuis@dnb.nl)  "
      ]
    },
    {
      "cell_type": "code",
      "execution_count": 1,
      "metadata": {
        "colab": {
          "base_uri": "https://localhost:8080/"
        },
        "id": "cG7h_DZoN9Ld",
        "outputId": "9434339a-5d23-446b-fc0d-9f8da5c3911e"
      },
      "outputs": [
        {
          "name": "stderr",
          "output_type": "stream",
          "text": [
            "'gdown' is not recognized as an internal or external command,\n",
            "operable program or batch file.\n"
          ]
        }
      ],
      "source": [
        "!gdown 1PCu4jNahysRpZ72z31KHpVkyAOp6nrKj"
      ]
    },
    {
      "cell_type": "markdown",
      "metadata": {
        "id": "vGOJH2SUQ20y"
      },
      "source": [
        "Tooday is about applying machine learning methods to examine stock returns in various ways. This involves data processing, standardization, normalization, model fitting etc. Importantly, we"
      ]
    },
    {
      "cell_type": "code",
      "execution_count": null,
      "metadata": {
        "id": "LCMq0j6PR6Nz"
      },
      "outputs": [],
      "source": [
        "import pandas as pd\n",
        "import numpy as np\n",
        "import matplotlib.pyplot as plt"
      ]
    },
    {
      "cell_type": "code",
      "execution_count": null,
      "metadata": {
        "id": "mMbHUa4GGgv0"
      },
      "outputs": [],
      "source": [
        "df = pd.read_csv('/content/company_data.csv', index_col=0)"
      ]
    },
    {
      "cell_type": "code",
      "execution_count": null,
      "metadata": {
        "id": "TjYHSndXOzpF"
      },
      "outputs": [],
      "source": [
        "df = df.fillna(-1)"
      ]
    },
    {
      "cell_type": "code",
      "execution_count": null,
      "metadata": {
        "id": "VvPJ_egTZpsN"
      },
      "outputs": [],
      "source": [
        "df"
      ]
    },
    {
      "cell_type": "code",
      "execution_count": null,
      "metadata": {
        "id": "jN7qRigOdUiT"
      },
      "outputs": [],
      "source": [
        "from sklearn.cluster import KMeans"
      ]
    },
    {
      "cell_type": "code",
      "execution_count": null,
      "metadata": {
        "id": "bOdbvEf8LoYn"
      },
      "outputs": [],
      "source": [
        "kmeans = KMeans(\n",
        "    n_clusters=n_clusters, \n",
        "    random_state=0,\n",
        ").fit(df_X)"
      ]
    },
    {
      "cell_type": "code",
      "execution_count": null,
      "metadata": {
        "colab": {
          "base_uri": "https://localhost:8080/"
        },
        "id": "OKsgFYTaNcfm",
        "outputId": "465c3f06-10d9-4bf1-a109-c9e25def1204"
      },
      "outputs": [
        {
          "data": {
            "text/plain": [
              "permno\n",
              "10080    0\n",
              "10087    0\n",
              "10100    0\n",
              "10149    1\n",
              "10200    2\n",
              "        ..\n",
              "86574    1\n",
              "86685    1\n",
              "86727    0\n",
              "86729    2\n",
              "86739    2\n",
              "Name: clusters, Length: 635, dtype: int32"
            ]
          },
          "execution_count": 128,
          "metadata": {},
          "output_type": "execute_result"
        }
      ],
      "source": [
        "sr_clusters = pd.Series(kmeans.labels_, index=df_X.index, name='clusters')\n",
        "sr_clusters"
      ]
    },
    {
      "cell_type": "code",
      "execution_count": null,
      "metadata": {
        "colab": {
          "base_uri": "https://localhost:8080/"
        },
        "id": "j-D8a7BCXi4G",
        "outputId": "9f9e7f23-a5d7-4284-a768-1cc6d82069f7"
      },
      "outputs": [
        {
          "data": {
            "text/plain": [
              "1    323\n",
              "2    161\n",
              "0    151\n",
              "Name: clusters, dtype: int64"
            ]
          },
          "execution_count": 129,
          "metadata": {},
          "output_type": "execute_result"
        }
      ],
      "source": [
        "sr_clusters.value_counts()"
      ]
    },
    {
      "cell_type": "code",
      "execution_count": null,
      "metadata": {
        "colab": {
          "base_uri": "https://localhost:8080/",
          "height": 175
        },
        "id": "HBysVyhSV8Kp",
        "outputId": "73bb4c06-2e20-48e5-cc5e-274d35488523"
      },
      "outputs": [
        {
          "data": {
            "text/html": [
              "\n",
              "  <div id=\"df-832918b1-6bf9-4f2d-a4cb-6be45b098379\">\n",
              "    <div class=\"colab-df-container\">\n",
              "      <div>\n",
              "<style scoped>\n",
              "    .dataframe tbody tr th:only-of-type {\n",
              "        vertical-align: middle;\n",
              "    }\n",
              "\n",
              "    .dataframe tbody tr th {\n",
              "        vertical-align: top;\n",
              "    }\n",
              "\n",
              "    .dataframe thead th {\n",
              "        text-align: right;\n",
              "    }\n",
              "</style>\n",
              "<table border=\"1\" class=\"dataframe\">\n",
              "  <thead>\n",
              "    <tr style=\"text-align: right;\">\n",
              "      <th></th>\n",
              "      <th>aeavol</th>\n",
              "      <th>rd</th>\n",
              "    </tr>\n",
              "    <tr>\n",
              "      <th>clusters</th>\n",
              "      <th></th>\n",
              "      <th></th>\n",
              "    </tr>\n",
              "  </thead>\n",
              "  <tbody>\n",
              "    <tr>\n",
              "      <th>0</th>\n",
              "      <td>1.180454</td>\n",
              "      <td>0.019629</td>\n",
              "    </tr>\n",
              "    <tr>\n",
              "      <th>1</th>\n",
              "      <td>0.575519</td>\n",
              "      <td>0.025682</td>\n",
              "    </tr>\n",
              "    <tr>\n",
              "      <th>2</th>\n",
              "      <td>0.921984</td>\n",
              "      <td>0.639050</td>\n",
              "    </tr>\n",
              "  </tbody>\n",
              "</table>\n",
              "</div>\n",
              "      <button class=\"colab-df-convert\" onclick=\"convertToInteractive('df-832918b1-6bf9-4f2d-a4cb-6be45b098379')\"\n",
              "              title=\"Convert this dataframe to an interactive table.\"\n",
              "              style=\"display:none;\">\n",
              "        \n",
              "  <svg xmlns=\"http://www.w3.org/2000/svg\" height=\"24px\"viewBox=\"0 0 24 24\"\n",
              "       width=\"24px\">\n",
              "    <path d=\"M0 0h24v24H0V0z\" fill=\"none\"/>\n",
              "    <path d=\"M18.56 5.44l.94 2.06.94-2.06 2.06-.94-2.06-.94-.94-2.06-.94 2.06-2.06.94zm-11 1L8.5 8.5l.94-2.06 2.06-.94-2.06-.94L8.5 2.5l-.94 2.06-2.06.94zm10 10l.94 2.06.94-2.06 2.06-.94-2.06-.94-.94-2.06-.94 2.06-2.06.94z\"/><path d=\"M17.41 7.96l-1.37-1.37c-.4-.4-.92-.59-1.43-.59-.52 0-1.04.2-1.43.59L10.3 9.45l-7.72 7.72c-.78.78-.78 2.05 0 2.83L4 21.41c.39.39.9.59 1.41.59.51 0 1.02-.2 1.41-.59l7.78-7.78 2.81-2.81c.8-.78.8-2.07 0-2.86zM5.41 20L4 18.59l7.72-7.72 1.47 1.35L5.41 20z\"/>\n",
              "  </svg>\n",
              "      </button>\n",
              "      \n",
              "  <style>\n",
              "    .colab-df-container {\n",
              "      display:flex;\n",
              "      flex-wrap:wrap;\n",
              "      gap: 12px;\n",
              "    }\n",
              "\n",
              "    .colab-df-convert {\n",
              "      background-color: #E8F0FE;\n",
              "      border: none;\n",
              "      border-radius: 50%;\n",
              "      cursor: pointer;\n",
              "      display: none;\n",
              "      fill: #1967D2;\n",
              "      height: 32px;\n",
              "      padding: 0 0 0 0;\n",
              "      width: 32px;\n",
              "    }\n",
              "\n",
              "    .colab-df-convert:hover {\n",
              "      background-color: #E2EBFA;\n",
              "      box-shadow: 0px 1px 2px rgba(60, 64, 67, 0.3), 0px 1px 3px 1px rgba(60, 64, 67, 0.15);\n",
              "      fill: #174EA6;\n",
              "    }\n",
              "\n",
              "    [theme=dark] .colab-df-convert {\n",
              "      background-color: #3B4455;\n",
              "      fill: #D2E3FC;\n",
              "    }\n",
              "\n",
              "    [theme=dark] .colab-df-convert:hover {\n",
              "      background-color: #434B5C;\n",
              "      box-shadow: 0px 1px 3px 1px rgba(0, 0, 0, 0.15);\n",
              "      filter: drop-shadow(0px 1px 2px rgba(0, 0, 0, 0.3));\n",
              "      fill: #FFFFFF;\n",
              "    }\n",
              "  </style>\n",
              "\n",
              "      <script>\n",
              "        const buttonEl =\n",
              "          document.querySelector('#df-832918b1-6bf9-4f2d-a4cb-6be45b098379 button.colab-df-convert');\n",
              "        buttonEl.style.display =\n",
              "          google.colab.kernel.accessAllowed ? 'block' : 'none';\n",
              "\n",
              "        async function convertToInteractive(key) {\n",
              "          const element = document.querySelector('#df-832918b1-6bf9-4f2d-a4cb-6be45b098379');\n",
              "          const dataTable =\n",
              "            await google.colab.kernel.invokeFunction('convertToInteractive',\n",
              "                                                     [key], {});\n",
              "          if (!dataTable) return;\n",
              "\n",
              "          const docLinkHtml = 'Like what you see? Visit the ' +\n",
              "            '<a target=\"_blank\" href=https://colab.research.google.com/notebooks/data_table.ipynb>data table notebook</a>'\n",
              "            + ' to learn more about interactive tables.';\n",
              "          element.innerHTML = '';\n",
              "          dataTable['output_type'] = 'display_data';\n",
              "          await google.colab.output.renderOutput(dataTable, element);\n",
              "          const docLink = document.createElement('div');\n",
              "          docLink.innerHTML = docLinkHtml;\n",
              "          element.appendChild(docLink);\n",
              "        }\n",
              "      </script>\n",
              "    </div>\n",
              "  </div>\n",
              "  "
            ],
            "text/plain": [
              "            aeavol        rd\n",
              "clusters                    \n",
              "0         1.180454  0.019629\n",
              "1         0.575519  0.025682\n",
              "2         0.921984  0.639050"
            ]
          },
          "execution_count": 130,
          "metadata": {},
          "output_type": "execute_result"
        }
      ],
      "source": [
        "df_X.join(sr_clusters).groupby('clusters').mean()"
      ]
    },
    {
      "cell_type": "code",
      "execution_count": null,
      "metadata": {
        "id": "Ru5E9tyfNkRi"
      },
      "outputs": [],
      "source": [
        "df_X_clusters = df_X.join(sr_clusters).groupby('clusters')\n",
        "centroids = df_X_clusters.mean().values"
      ]
    },
    {
      "cell_type": "code",
      "execution_count": null,
      "metadata": {
        "id": "oGwKYy9gl79L"
      },
      "outputs": [],
      "source": [
        "# store for comparison\n",
        "sr_clusters_km = sr_clusters.copy()"
      ]
    },
    {
      "cell_type": "code",
      "execution_count": null,
      "metadata": {
        "colab": {
          "base_uri": "https://localhost:8080/",
          "height": 265
        },
        "id": "s2cD2vwqMTAv",
        "outputId": "6d43e8c0-1c9e-4776-a8d3-40fa6cde9195"
      },
      "outputs": [
        {
          "data": {
            "image/png": "[encoded data removed]",
            "text/plain": [
              "<Figure size 432x288 with 1 Axes>"
            ]
          },
          "metadata": {
            "needs_background": "light"
          },
          "output_type": "display_data"
        }
      ],
      "source": [
        "for permno, (x1, x2) in df_X.iterrows():\n",
        "  cluster = sr_clusters[permno]\n",
        "  color = colors[cluster]\n",
        "  plt.plot(\n",
        "    x1, x2,\n",
        "    color=color,\n",
        "    marker='o', markersize=3, lw=0\n",
        "  )\n",
        "for i, (x1, x2) in enumerate(centroids):\n",
        "  plt.plot(x1, x2, color=colors[i], marker='X', markersize=40, alpha=.6)"
      ]
    },
    {
      "cell_type": "code",
      "execution_count": null,
      "metadata": {
        "id": "PKjFCBvrdVU8"
      },
      "outputs": [],
      "source": [
        "from sklearn.cluster import AgglomerativeClustering"
      ]
    },
    {
      "cell_type": "code",
      "execution_count": null,
      "metadata": {
        "id": "dhO-dp_mbWXF"
      },
      "outputs": [],
      "source": [
        "agg = AgglomerativeClustering(\n",
        "    n_clusters=n_clusters\n",
        ").fit(df_X)\n",
        "\n",
        "sr_clusters = pd.Series(agg.labels_, index=df_X.index, name='clusters')\n",
        "df_X_clusters = df_X.join(sr_clusters).groupby('clusters')\n",
        "centers = df_X_clusters.mean().values"
      ]
    },
    {
      "cell_type": "code",
      "execution_count": null,
      "metadata": {
        "id": "bZVMZGUsl5yf"
      },
      "outputs": [],
      "source": [
        "# store for comparison\n",
        "sr_clusters_agg = sr_clusters.copy()"
      ]
    },
    {
      "cell_type": "code",
      "execution_count": null,
      "metadata": {
        "colab": {
          "base_uri": "https://localhost:8080/",
          "height": 265
        },
        "id": "YFKT8h0AbWXF",
        "outputId": "1dd88dbf-fa8a-4e9c-fad9-47404ed10e80"
      },
      "outputs": [
        {
          "data": {
            "image/png": "[encoded data removed]",
            "text/plain": [
              "<Figure size 432x288 with 1 Axes>"
            ]
          },
          "metadata": {
            "needs_background": "light"
          },
          "output_type": "display_data"
        }
      ],
      "source": [
        "for permno, (x1, x2) in df_X.iterrows():\n",
        "  cluster = sr_clusters[permno]\n",
        "  color = colors[cluster]\n",
        "  plt.plot(\n",
        "    x1, x2,\n",
        "    color=color,\n",
        "    marker='o', markersize=3, lw=0\n",
        "  )\n",
        "for i, (x1, x2) in enumerate(centers):\n",
        "  plt.plot(x1, x2, color=colors[i], marker='X', markersize=40, alpha=.6)"
      ]
    },
    {
      "cell_type": "markdown",
      "metadata": {
        "id": "vDJrU-_IfPFF"
      },
      "source": [
        "## How to evaluate clustering performance?"
      ]
    },
    {
      "cell_type": "code",
      "execution_count": null,
      "metadata": {
        "id": "cTC1iRB5jCuo"
      },
      "outputs": [],
      "source": [
        "from sklearn.metrics import silhouette_samples, silhouette_score"
      ]
    },
    {
      "cell_type": "code",
      "execution_count": null,
      "metadata": {
        "colab": {
          "base_uri": "https://localhost:8080/"
        },
        "id": "dOXe3sQKYuNO",
        "outputId": "b38689f5-b377-443a-d0de-d77f770b2ba9"
      },
      "outputs": [
        {
          "name": "stdout",
          "output_type": "stream",
          "text": [
            "Help on function silhouette_score in module sklearn.metrics.cluster._unsupervised:\n",
            "\n",
            "silhouette_score(X, labels, *, metric='euclidean', sample_size=None, random_state=None, **kwds)\n",
            "    Compute the mean Silhouette Coefficient of all samples.\n",
            "    \n",
            "    The Silhouette Coefficient is calculated using the mean intra-cluster\n",
            "    distance (``a``) and the mean nearest-cluster distance (``b``) for each\n",
            "    sample.  The Silhouette Coefficient for a sample is ``(b - a) / max(a,\n",
            "    b)``.  To clarify, ``b`` is the distance between a sample and the nearest\n",
            "    cluster that the sample is not a part of.\n",
            "    Note that Silhouette Coefficient is only defined if number of labels\n",
            "    is ``2 <= n_labels <= n_samples - 1``.\n",
            "    \n",
            "    This function returns the mean Silhouette Coefficient over all samples.\n",
            "    To obtain the values for each sample, use :func:`silhouette_samples`.\n",
            "    \n",
            "    The best value is 1 and the worst value is -1. Values near 0 indicate\n",
            "    overlapping clusters. Negative values generally indicate that a sample has\n",
            "    been assigned to the wrong cluster, as a different cluster is more similar.\n",
            "    \n",
            "    Read more in the :ref:`User Guide <silhouette_coefficient>`.\n",
            "    \n",
            "    Parameters\n",
            "    ----------\n",
            "    X : array-like of shape (n_samples_a, n_samples_a) if metric ==             \"precomputed\" or (n_samples_a, n_features) otherwise\n",
            "        An array of pairwise distances between samples, or a feature array.\n",
            "    \n",
            "    labels : array-like of shape (n_samples,)\n",
            "        Predicted labels for each sample.\n",
            "    \n",
            "    metric : str or callable, default='euclidean'\n",
            "        The metric to use when calculating distance between instances in a\n",
            "        feature array. If metric is a string, it must be one of the options\n",
            "        allowed by :func:`metrics.pairwise.pairwise_distances\n",
            "        <sklearn.metrics.pairwise.pairwise_distances>`. If ``X`` is\n",
            "        the distance array itself, use ``metric=\"precomputed\"``.\n",
            "    \n",
            "    sample_size : int, default=None\n",
            "        The size of the sample to use when computing the Silhouette Coefficient\n",
            "        on a random subset of the data.\n",
            "        If ``sample_size is None``, no sampling is used.\n",
            "    \n",
            "    random_state : int, RandomState instance or None, default=None\n",
            "        Determines random number generation for selecting a subset of samples.\n",
            "        Used when ``sample_size is not None``.\n",
            "        Pass an int for reproducible results across multiple function calls.\n",
            "        See :term:`Glossary <random_state>`.\n",
            "    \n",
            "    **kwds : optional keyword parameters\n",
            "        Any further parameters are passed directly to the distance function.\n",
            "        If using a scipy.spatial.distance metric, the parameters are still\n",
            "        metric dependent. See the scipy docs for usage examples.\n",
            "    \n",
            "    Returns\n",
            "    -------\n",
            "    silhouette : float\n",
            "        Mean Silhouette Coefficient for all samples.\n",
            "    \n",
            "    References\n",
            "    ----------\n",
            "    \n",
            "    .. [1] `Peter J. Rousseeuw (1987). \"Silhouettes: a Graphical Aid to the\n",
            "       Interpretation and Validation of Cluster Analysis\". Computational\n",
            "       and Applied Mathematics 20: 53-65.\n",
            "       <https://www.sciencedirect.com/science/article/pii/0377042787901257>`_\n",
            "    \n",
            "    .. [2] `Wikipedia entry on the Silhouette Coefficient\n",
            "           <https://en.wikipedia.org/wiki/Silhouette_(clustering)>`_\n",
            "\n"
          ]
        }
      ],
      "source": [
        "\n",
        "help(silhouette_score)"
      ]
    },
    {
      "cell_type": "markdown",
      "metadata": {
        "id": "5SMykwf4jWev"
      },
      "source": [
        "## KMeans silhouette"
      ]
    },
    {
      "cell_type": "code",
      "execution_count": null,
      "metadata": {
        "colab": {
          "base_uri": "https://localhost:8080/",
          "height": 369
        },
        "id": "mMT3itUbkfmr",
        "outputId": "9c0448e3-cb18-4046-a5b5-f718ca0b957d"
      },
      "outputs": [
        {
          "data": {
            "image/png": "[encoded data removed]",
            "text/plain": [
              "<Figure size 1080x360 with 3 Axes>"
            ]
          },
          "metadata": {
            "needs_background": "light"
          },
          "output_type": "display_data"
        }
      ],
      "source": [
        "fig, axes = plt.subplots(1, n_clusters, sharey=True, figsize=[15,5])\n",
        "\n",
        "silhouette_values = silhouette_samples(df_X, sr_clusters_km)\n",
        "\n",
        "for cluster in sr_clusters.unique():\n",
        "  ax = axes[cluster]\n",
        "  color = colors[cluster]\n",
        "  sils = silhouette_values[sr_clusters == cluster]\n",
        "  sils = sorted(sils)\n",
        "  ax.bar(range(len(sils)), sils, color=color, width=2)\n",
        "\n",
        "  sils_avg = np.mean(sils)\n",
        "  ax.axhline(sils_avg, lw=3, ls='--', color=color)\n",
        "  ax.set_title(f'Cluster {cluster}\\n(avg. silhoutte: {sils_avg:.3f}')\n",
        "\n",
        "fig.tight_layout()"
      ]
    },
    {
      "cell_type": "markdown",
      "metadata": {
        "id": "9PSQzsH6mN5y"
      },
      "source": [
        "## Agglomerative clustering"
      ]
    },
    {
      "cell_type": "code",
      "execution_count": null,
      "metadata": {
        "colab": {
          "base_uri": "https://localhost:8080/",
          "height": 369
        },
        "id": "7gTRbVSxmN5z",
        "outputId": "99db5822-a030-4904-f816-f28eacc8e88a"
      },
      "outputs": [
        {
          "data": {
            "image/png": "[encoded data removed]",
            "text/plain": [
              "<Figure size 1080x360 with 3 Axes>"
            ]
          },
          "metadata": {
            "needs_background": "light"
          },
          "output_type": "display_data"
        }
      ],
      "source": [
        "fig, axes = plt.subplots(1, n_clusters, sharey=True, figsize=[15,5])\n",
        "\n",
        "silhouette_values = silhouette_samples(df_X, sr_clusters_agg)\n",
        "\n",
        "for cluster in sr_clusters.unique():\n",
        "  ax = axes[cluster]\n",
        "  color = colors[cluster]\n",
        "  sils = silhouette_values[sr_clusters == cluster]\n",
        "  sils = sorted(sils)\n",
        "  ax.bar(range(len(sils)), sils, color=color, width=2)\n",
        "\n",
        "  sils_avg = np.mean(sils)\n",
        "  ax.axhline(sils_avg, lw=3, ls='--', color=color)\n",
        "  ax.set_title(f'Cluster {cluster}\\n(avg. silhoutte: {sils_avg:.3f}')\n",
        "\n",
        "fig.tight_layout()"
      ]
    }
  ],
  "metadata": {
    "colab": {
      "include_colab_link": true,
      "provenance": []
    },
    "kernelspec": {
      "display_name": "Python 3.9.7 ('base')",
      "language": "python",
      "name": "python3"
    },
    "language_info": {
      "codemirror_mode": {
        "name": "ipython",
        "version": 3
      },
      "file_extension": ".py",
      "mimetype": "text/x-python",
      "name": "python",
      "nbconvert_exporter": "python",
      "pygments_lexer": "ipython3",
      "version": "3.9.7"
    },
    "vscode": {
      "interpreter": {
        "hash": "1487036e2b4c3efb4b3c8f354d2634a52c03b8f86cae8ff8f4b4aaa5461f93fb"
      }
    }
  },
  "nbformat": 4,
  "nbformat_minor": 0
}
