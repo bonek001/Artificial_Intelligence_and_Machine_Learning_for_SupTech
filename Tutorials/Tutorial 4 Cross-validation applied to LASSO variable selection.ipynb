{
  "nbformat": 4,
  "nbformat_minor": 0,
  "metadata": {
    "colab": {
      "provenance": [],
      "include_colab_link": true
    },
    "kernelspec": {
      "name": "python3",
      "display_name": "Python 3"
    },
    "language_info": {
      "name": "python"
    }
  },
  "cells": [
    {
      "cell_type": "markdown",
      "metadata": {
        "id": "view-in-github",
        "colab_type": "text"
      },
      "source": [
        "<a href=\"https://colab.research.google.com/github/mnijhuis-dnb/Artificial_Intelligence_and_Machine_Learning_for_SupTech/blob/main/Tutorials/Tutorial%204%20Cross-validation%20applied%20to%20LASSO%20variable%20selection.ipynb\" target=\"_parent\"><img src=\"https://colab.research.google.com/assets/colab-badge.svg\" alt=\"Open In Colab\"/></a>"
      ]
    },
    {
      "cell_type": "markdown",
      "source": [
        "##Artificial Intelligence and Machine Learning for SupTech  \n",
        "Tutorial 4: Cross-validation applied to LASSO variable selection \n",
        "\n",
        "*\tLooking closer at cross-validation (CV) and holdouts\n",
        "*\tK-fold, Leave-one-out, stratified CV\n",
        "*\tSplitting your data into training and testing samples\n",
        "*\tHow to use CV to tune a LASSO model\n",
        "\n",
        "<br/>\n",
        "\n",
        "14 March 2023  \n",
        "\n",
        "**Instructors**  \n",
        "Prof. Iman van Lelyveld (iman.van.lelyveld@vu.nl)<br/>\n",
        "Dr. Michiel Nijhuis (m.nijhuis@dnb.nl)  "
      ],
      "metadata": {
        "id": "NU0xCHIKJRSG"
      }
    },
    {
      "cell_type": "code",
      "source": [
        "!gdown 1YO09naIv_Lf4Nne-_zH9oDM0SXfk2VSh"
      ],
      "metadata": {
        "id": "cG7h_DZoN9Ld"
      },
      "execution_count": null,
      "outputs": []
    },
    {
      "cell_type": "code",
      "source": [
        "import pandas as pd\n",
        "import numpy as np\n",
        "import matplotlib.pyplot as plt"
      ],
      "metadata": {
        "id": "LCMq0j6PR6Nz"
      },
      "execution_count": null,
      "outputs": []
    },
    {
      "cell_type": "markdown",
      "source": [
        "For the next few tutorials we will be looking at historical commodity price data. We are going to predict the prices of certain commodities by using a LASSO model. First let us explore the data a bit"
      ],
      "metadata": {
        "id": "vGOJH2SUQ20y"
      }
    },
    {
      "cell_type": "code",
      "source": [
        "df = pd.read_csv('/content/commodity-prices.csv', sep=';')"
      ],
      "metadata": {
        "id": "Da0eSV2s11HO"
      },
      "execution_count": null,
      "outputs": []
    },
    {
      "cell_type": "code",
      "source": [
        "df.head()"
      ],
      "metadata": {
        "id": "txu26LIE18sz"
      },
      "execution_count": null,
      "outputs": []
    },
    {
      "cell_type": "markdown",
      "source": [
        "Try to get a bit familiar with the dataset"
      ],
      "metadata": {
        "id": "fl5BkIdA6H4E"
      }
    },
    {
      "cell_type": "code",
      "source": [],
      "metadata": {
        "id": "ew_meAtZ6IXB"
      },
      "execution_count": null,
      "outputs": []
    },
    {
      "cell_type": "markdown",
      "source": [
        "We will alter the dataset to have the data in the wide format (column based) and not in the long format (row based)"
      ],
      "metadata": {
        "id": "9eON-_046YmE"
      }
    },
    {
      "cell_type": "code",
      "source": [
        "df = df.pivot_table(columns='Commodity', values='Price index', index='Date', aggfunc='mean')"
      ],
      "metadata": {
        "id": "b5Dg2uNU6YOY"
      },
      "execution_count": null,
      "outputs": []
    },
    {
      "cell_type": "code",
      "source": [
        "df.head()"
      ],
      "metadata": {
        "id": "MaRuppxZ7MAk"
      },
      "execution_count": null,
      "outputs": []
    },
    {
      "cell_type": "markdown",
      "source": [
        "To keep it simple we will first drop the NaN columns"
      ],
      "metadata": {
        "id": "upTYueF_C_Eh"
      }
    },
    {
      "cell_type": "code",
      "source": [
        "df = df.dropna(axis=1)"
      ],
      "metadata": {
        "id": "4c68UBxUDb9Q"
      },
      "execution_count": null,
      "outputs": []
    },
    {
      "cell_type": "markdown",
      "source": [
        "The data seems to have different scales, so let's scale all the data to the [0,1] range"
      ],
      "metadata": {
        "id": "1_lbGDIoYMRo"
      }
    },
    {
      "cell_type": "code",
      "source": [
        "df = df/df.max()"
      ],
      "metadata": {
        "id": "kxnOAOi-YNAO"
      },
      "execution_count": null,
      "outputs": []
    },
    {
      "cell_type": "markdown",
      "source": [
        "For the first model we are going to look at Aluminum prices"
      ],
      "metadata": {
        "id": "k-4B_R6c3D6a"
      }
    },
    {
      "cell_type": "code",
      "source": [
        "df['Aluminum'].plot()"
      ],
      "metadata": {
        "id": "YjI4xUtt-NtJ"
      },
      "execution_count": null,
      "outputs": []
    },
    {
      "cell_type": "markdown",
      "source": [
        "We will try to build a model to predict the Aluminum price based on the prices in the previous month"
      ],
      "metadata": {
        "id": "S_lkNlUzBhj7"
      }
    },
    {
      "cell_type": "code",
      "source": [
        "y = df.loc['1980-04':,'Aluminum'] # select the Aluminum price 1 quarter ahead\n",
        "x = df.loc[:'2015-11', :] # select the predictors from all of the data"
      ],
      "metadata": {
        "id": "B9DNY5IgBhQZ"
      },
      "execution_count": null,
      "outputs": []
    },
    {
      "cell_type": "code",
      "source": [
        "from sklearn.linear_model import Lasso"
      ],
      "metadata": {
        "id": "yl1zi201CY5b"
      },
      "execution_count": null,
      "outputs": []
    },
    {
      "cell_type": "code",
      "source": [
        "lasso = Lasso(alpha=0.00000001)"
      ],
      "metadata": {
        "id": "iF6UJF0XCrjo"
      },
      "execution_count": null,
      "outputs": []
    },
    {
      "cell_type": "code",
      "source": [
        "lasso = lasso.fit(x, y)"
      ],
      "metadata": {
        "id": "JFCuKpgUCyjK"
      },
      "execution_count": null,
      "outputs": []
    },
    {
      "cell_type": "markdown",
      "source": [
        "Lets have a look at out prediction"
      ],
      "metadata": {
        "id": "LjBI8QHxOUBw"
      }
    },
    {
      "cell_type": "code",
      "source": [
        "plot_data = pd.DataFrame()\n",
        "plot_data['true'] = y\n",
        "plot_data['predicted'] = lasso.predict(x)\n",
        "plot_data.plot()"
      ],
      "metadata": {
        "id": "JLuCsu68OXFQ"
      },
      "execution_count": null,
      "outputs": []
    },
    {
      "cell_type": "markdown",
      "source": [
        "That does not look like a very good prediction, we even perfectly predicted the drop because of the 2008 financial crisis"
      ],
      "metadata": {
        "id": "fISmpUIZO3Ss"
      }
    },
    {
      "cell_type": "markdown",
      "source": [
        "Could this just be because the training data also has data on the drop during the financial crisis? Let's make a simpel test train split and find out!"
      ],
      "metadata": {
        "id": "xQsWKEyaPTA8"
      }
    },
    {
      "cell_type": "code",
      "source": [
        "from sklearn.model_selection import train_test_split"
      ],
      "metadata": {
        "id": "qk2UcIKVP8s7"
      },
      "execution_count": null,
      "outputs": []
    },
    {
      "cell_type": "code",
      "source": [
        " x_train, x_test, y_train, y_test = train_test_split(x, y, test_size=0.33, random_state=42)"
      ],
      "metadata": {
        "id": "j_28lhbqQ4C3"
      },
      "execution_count": null,
      "outputs": []
    },
    {
      "cell_type": "code",
      "source": [
        "lasso = lasso.fit(x_train, y_train)"
      ],
      "metadata": {
        "id": "5BHtGVLnRGBJ"
      },
      "execution_count": null,
      "outputs": []
    },
    {
      "cell_type": "code",
      "source": [
        "plot_data = pd.DataFrame()\n",
        "plot_data['true'] = y_test\n",
        "plot_data['predicted'] = lasso.predict(x_test)\n",
        "plot_data.sort_index().plot()"
      ],
      "metadata": {
        "id": "bbb876iORHwm"
      },
      "execution_count": null,
      "outputs": []
    },
    {
      "cell_type": "markdown",
      "source": [
        "That looks still like a very good prediction. Would this be the correct way to make your test-train split in this case?"
      ],
      "metadata": {
        "id": "j5domuMR9Emc"
      }
    },
    {
      "cell_type": "markdown",
      "source": [
        "</br>\n",
        "</br>\n",
        "</br>\n",
        "</br>\n",
        "</br>\n",
        "</br>\n",
        "</br>\n",
        "</br>"
      ],
      "metadata": {
        "id": "fj3G4wAp9ZMm"
      }
    },
    {
      "cell_type": "markdown",
      "source": [
        "It would be better to select a continous period for the training laying further back in the past then the testing data "
      ],
      "metadata": {
        "id": "3T-UX-so9hcH"
      }
    },
    {
      "cell_type": "code",
      "source": [
        "train_y = df.loc['1980-04':'2006-01','Aluminum'] # select the Aluminum from the second period onwards\n",
        "train_x = df.loc[:'2005-10', :] # select the predictors from all of the data\n",
        "test_y = df.loc['2006-01':,'Aluminum'] # select the Aluminum from the second period onwards\n",
        "test_x = df.loc['2005-10':'2015-11', :] # select the predictors from all of the data"
      ],
      "metadata": {
        "id": "vM0CNLfaV-DK"
      },
      "execution_count": null,
      "outputs": []
    },
    {
      "cell_type": "code",
      "source": [
        "lasso = lasso.fit(train_x, train_y)"
      ],
      "metadata": {
        "id": "zRA6w4CwWAWy"
      },
      "execution_count": null,
      "outputs": []
    },
    {
      "cell_type": "code",
      "source": [
        "plot_data = pd.DataFrame()\n",
        "plot_data['true'] = test_y\n",
        "plot_data['predicted'] = lasso.predict(test_x)\n",
        "plot_data.plot()"
      ],
      "metadata": {
        "id": "Ypw8ieXZWB48"
      },
      "execution_count": null,
      "outputs": []
    },
    {
      "cell_type": "markdown",
      "source": [
        "Let's have a look at the coefficients the model uses"
      ],
      "metadata": {
        "id": "cKnPdd5l2tz1"
      }
    },
    {
      "cell_type": "code",
      "source": [
        "non_zero_coefficents = np.abs(lasso.coef_,)>0\n",
        "pd.Series(lasso.coef_[non_zero_coefficents], index=x.columns[non_zero_coefficents])"
      ],
      "metadata": {
        "id": "_NdXgopK2pp8"
      },
      "execution_count": null,
      "outputs": []
    },
    {
      "cell_type": "markdown",
      "source": [
        "It looks like we take in all the variables that we have. Can you see why that would be wrong to do, for instance look at the 4 Crude Oil indicators. We can calculate the correlation between the crude oil columns to see if they bring something different to the table:"
      ],
      "metadata": {
        "id": "tlyD61Oz39PK"
      }
    },
    {
      "cell_type": "code",
      "source": [
        "df.filter(like='Crude Oil').corr()"
      ],
      "metadata": {
        "id": "_dLHb_i65oWB"
      },
      "execution_count": null,
      "outputs": []
    },
    {
      "cell_type": "markdown",
      "source": [
        "Can you find other columns which might not be good predictors?"
      ],
      "metadata": {
        "id": "B-V9aVC36nQc"
      }
    },
    {
      "cell_type": "code",
      "source": [],
      "metadata": {
        "id": "eF-xGM2x6AVu"
      },
      "execution_count": null,
      "outputs": []
    },
    {
      "cell_type": "markdown",
      "source": [
        "We can adjust the regularisation in the Lasso model to reduce the amount of variables we are using in our model by adjusting the alpha values. Can you find the optimal alpha value? "
      ],
      "metadata": {
        "id": "WS6_Mmih5rfx"
      }
    },
    {
      "cell_type": "code",
      "source": [],
      "metadata": {
        "id": "n_d1k1N5Yi1u"
      },
      "execution_count": null,
      "outputs": []
    },
    {
      "cell_type": "markdown",
      "source": [
        "By using KFolds and a lasso model with cross validation we can find the optimal value of alpha based on the folds we use. "
      ],
      "metadata": {
        "id": "1Aq1sh8l60S_"
      }
    },
    {
      "cell_type": "code",
      "source": [
        "from sklearn.model_selection import KFold\n",
        "from sklearn.linear_model import LassoCV"
      ],
      "metadata": {
        "id": "EQ5HJiRpSL1-"
      },
      "execution_count": null,
      "outputs": []
    },
    {
      "cell_type": "code",
      "source": [],
      "metadata": {
        "id": "Cdk2-W4jiHSH"
      },
      "execution_count": null,
      "outputs": []
    },
    {
      "cell_type": "markdown",
      "source": [
        "The same thing can be done by using leave one out cross validation"
      ],
      "metadata": {
        "id": "Z5gE3lQi7-yB"
      }
    },
    {
      "cell_type": "code",
      "source": [
        "from sklearn.model_selection import LeaveOneOut"
      ],
      "metadata": {
        "id": "WdzvYFyT7-CW"
      },
      "execution_count": null,
      "outputs": []
    },
    {
      "cell_type": "code",
      "source": [],
      "metadata": {
        "id": "uUeJcYO48jav"
      },
      "execution_count": null,
      "outputs": []
    },
    {
      "cell_type": "markdown",
      "source": [
        "We can also use a stratisfied KFolds"
      ],
      "metadata": {
        "id": "04Uj6j1p8j2t"
      }
    },
    {
      "cell_type": "code",
      "source": [
        "from sklearn.model_selection import StratifiedKFold"
      ],
      "metadata": {
        "id": "Q6LguCdT8EII"
      },
      "execution_count": null,
      "outputs": []
    },
    {
      "cell_type": "code",
      "source": [],
      "metadata": {
        "id": "PzgYZm5Q8yrQ"
      },
      "execution_count": null,
      "outputs": []
    },
    {
      "cell_type": "markdown",
      "source": [
        "Can you show the differences between the three cross validation methods?"
      ],
      "metadata": {
        "id": "Ahc6TlQM8zXd"
      }
    },
    {
      "cell_type": "code",
      "source": [],
      "metadata": {
        "id": "sYSAF6f-870e"
      },
      "execution_count": null,
      "outputs": []
    }
  ]
}