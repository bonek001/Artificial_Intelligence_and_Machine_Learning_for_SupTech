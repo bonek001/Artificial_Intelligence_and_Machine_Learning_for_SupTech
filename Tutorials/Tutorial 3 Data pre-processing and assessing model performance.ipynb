{
  "nbformat": 4,
  "nbformat_minor": 0,
  "metadata": {
    "colab": {
      "provenance": [],
      "include_colab_link": true
    },
    "kernelspec": {
      "name": "python3",
      "display_name": "Python 3"
    },
    "language_info": {
      "name": "python"
    }
  },
  "cells": [
    {
      "cell_type": "markdown",
      "metadata": {
        "id": "view-in-github",
        "colab_type": "text"
      },
      "source": [
        "<a href=\"https://colab.research.google.com/github/mnijhuis-dnb/Artificial_Intelligence_and_Machine_Learning_for_SupTech/blob/main/Tutorials/Tutorial%203%20Data%20pre-processing%20and%20assessing%20model%20performance.ipynb\" target=\"_parent\"><img src=\"https://colab.research.google.com/assets/colab-badge.svg\" alt=\"Open In Colab\"/></a>"
      ]
    },
    {
      "cell_type": "markdown",
      "source": [
        "##Artificial Intelligence and Machine Learning for SupTech  \n",
        "Tutorial 3: Data pre-processing and assessing model performance\n",
        "\n",
        "*\tHow to pre-process: standardize your data\n",
        "*\tPros and cons of standardization\n",
        "*\tWorking with the confusion matrix\n",
        "  *\tWhat if costs are not symmetric?\n",
        "  *\tThe trade-off between precision and recall\n",
        "\n",
        "\n",
        "<br/>\n",
        "\n",
        "14 March 2023  \n",
        "\n",
        "**Instructors**  \n",
        "Prof. Iman van Lelyveld (iman.van.lelyveld@vu.nl)<br/>\n",
        "Dr. Michiel Nijhuis (m.nijhuis@dnb.nl)  "
      ],
      "metadata": {
        "id": "-x9uRovz0R8V"
      }
    },
    {
      "cell_type": "markdown",
      "source": [
        "### Previous Tutorials\n",
        "In this section we re-run some of the code from the first 2 tutorials to have a starting model. With these steps out of the way we can focus on the pre-processing and the further evauluating of the model."
      ],
      "metadata": {
        "id": "Fic-DPeTKChS"
      }
    },
    {
      "cell_type": "code",
      "source": [
        "path = 'credit_record.csv'\n",
        "df_record = pd.read_csv(path)"
      ],
      "metadata": {
        "id": "mpxP2w-isyjq"
      },
      "execution_count": null,
      "outputs": []
    },
    {
      "cell_type": "code",
      "source": [
        "path = 'application_record.csv'\n",
        "df_applications = pd.read_csv(path)"
      ],
      "metadata": {
        "id": "x-Gmuwo-syjr"
      },
      "execution_count": null,
      "outputs": []
    },
    {
      "cell_type": "code",
      "source": [
        "df_record.loc[:,'status'] = df_record.loc[:,'STATUS']\n",
        "df_record.loc[:,'status'] = df_record.loc[:,'status'].replace('X', '0')\n",
        "df_record.loc[:,'status'] = df_record.loc[:,'status'].replace('C', '0')"
      ],
      "metadata": {
        "id": "I_0sf0Jjsyjr"
      },
      "execution_count": null,
      "outputs": []
    },
    {
      "cell_type": "code",
      "source": [
        "df_record.loc[:,'status'] = pd.to_numeric(df_record.loc[:,'status'])"
      ],
      "metadata": {
        "id": "Px6-q5Qysyjs"
      },
      "execution_count": null,
      "outputs": []
    },
    {
      "cell_type": "code",
      "source": [
        "sr_defaults = df_record.groupby('ID')['status'].agg(lambda x: sum(x>=2)>0)"
      ],
      "metadata": {
        "id": "ux_-BJy9syjt"
      },
      "execution_count": null,
      "outputs": []
    },
    {
      "cell_type": "code",
      "source": [
        "df_applications = df_applications.drop_duplicates(subset='ID')"
      ],
      "metadata": {
        "id": "Yq6ZURwdsyju"
      },
      "execution_count": null,
      "outputs": []
    },
    {
      "cell_type": "code",
      "source": [
        "df_applications = df_applications.set_index('ID')"
      ],
      "metadata": {
        "id": "OoSRszIqsyjv"
      },
      "execution_count": null,
      "outputs": []
    },
    {
      "cell_type": "code",
      "source": [
        "df_applications = df_applications.dropna()"
      ],
      "metadata": {
        "id": "ovTcseW0syjw"
      },
      "execution_count": null,
      "outputs": []
    },
    {
      "cell_type": "code",
      "source": [
        "obj_cols = df_applications.select_dtypes(include=['object']).columns.tolist()\n",
        "dummies_list = [pd.get_dummies(df_applications[col], prefix=col, drop_first=True) for col in obj_cols]\n",
        "df_applications = pd.concat([df_applications.drop(columns=obj_cols)] + dummies_list, axis=1)"
      ],
      "metadata": {
        "id": "WdixnHsgVKCA"
      },
      "execution_count": null,
      "outputs": []
    },
    {
      "cell_type": "code",
      "source": [
        "df_data = df_applications.merge(sr_defaults, how='inner', left_index=True, right_on='ID')"
      ],
      "metadata": {
        "id": "50Uo0hr-VbJB"
      },
      "execution_count": null,
      "outputs": []
    },
    {
      "cell_type": "code",
      "source": [
        "df_data= df_data.rename(columns={'status':'DEFAULTED'}).dropna()"
      ],
      "metadata": {
        "id": "kCZHB6vhWPqx"
      },
      "execution_count": null,
      "outputs": []
    },
    {
      "cell_type": "code",
      "source": [
        "from sklearn.svm import SVC"
      ],
      "metadata": {
        "id": "PAHQJ8OBIUmu"
      },
      "execution_count": null,
      "outputs": []
    },
    {
      "cell_type": "code",
      "source": [
        "clf = SVC(C=1.0, \n",
        "          kernel='poly', \n",
        "          degree=3, \n",
        "          gamma='scale', \n",
        "          coef0=0.0, \n",
        "          shrinking=True, \n",
        "          probability=False, \n",
        "          tol=0.001, \n",
        "          cache_size=200, \n",
        "          class_weight=None, \n",
        "          verbose=False, \n",
        "          max_iter=-1, \n",
        "          decision_function_shape='ovr', \n",
        "          break_ties=False, \n",
        "          random_state=43)"
      ],
      "metadata": {
        "id": "LaQk3jW9syj0"
      },
      "execution_count": null,
      "outputs": []
    },
    {
      "cell_type": "code",
      "source": [
        "X = df_data.drop(columns='DEFAULTED')\n",
        "y = df_data['DEFAULTED']"
      ],
      "metadata": {
        "id": "EXpK31fGvehc"
      },
      "execution_count": null,
      "outputs": []
    },
    {
      "cell_type": "code",
      "source": [
        "clf = clf.fit()"
      ],
      "metadata": {
        "id": "7vIJ9t28Iu54"
      },
      "execution_count": null,
      "outputs": []
    },
    {
      "cell_type": "code",
      "source": [
        "y_model = clf.predict(X)"
      ],
      "metadata": {
        "id": "lO2w1k8dNHr-"
      },
      "execution_count": null,
      "outputs": []
    },
    {
      "cell_type": "markdown",
      "source": [
        "Evaluate the preformance based on the confusion matrix"
      ],
      "metadata": {
        "id": "O2M07_-fwI3p"
      }
    },
    {
      "cell_type": "code",
      "source": [
        "from sklearn.metrics import confusion_matrix"
      ],
      "metadata": {
        "id": "Q7QFZcJHMwvh"
      },
      "execution_count": null,
      "outputs": []
    },
    {
      "cell_type": "code",
      "source": [],
      "metadata": {
        "id": "DJc1MsjJwIMB"
      },
      "execution_count": null,
      "outputs": []
    },
    {
      "cell_type": "markdown",
      "source": [
        "## Employment duration\n",
        "\n",
        "For the sake of simplicity, let us only look at the predictive power of `DAYS_EMPLOYED` on the outcome variable `DEFAULTED`\n",
        "\n",
        "If `DAYS_EMPLOYED` is negative, it counts the number of days the client has already been employed.\n",
        "If it is positive, it counts how many days the client has been unemployed.\n",
        "\n",
        "Since we would assume that the longer one is employed, the lower one is to default, let us switch the signs."
      ],
      "metadata": {
        "id": "Sh0fSGMzP2E2"
      }
    },
    {
      "cell_type": "code",
      "source": [
        "sr_employ = -df_data.loc[:,'DAYS_EMPLOYED']"
      ],
      "metadata": {
        "id": "Nyi3m3BDP50f"
      },
      "execution_count": null,
      "outputs": []
    },
    {
      "cell_type": "code",
      "source": [
        "sr_employ.plot.hist(bins=20)"
      ],
      "metadata": {
        "colab": {
          "base_uri": "https://localhost:8080/",
          "height": 282
        },
        "outputId": "2b5e0773-a01d-449c-cf5d-42368e279adf",
        "id": "9ChBJMq3P50f"
      },
      "execution_count": null,
      "outputs": [
        {
          "output_type": "execute_result",
          "data": {
            "text/plain": [
              "<matplotlib.axes._subplots.AxesSubplot at 0x7f8521638b50>"
            ]
          },
          "metadata": {},
          "execution_count": 353
        },
        {
          "output_type": "display_data",
          "data": {
            "text/plain": [
              "<Figure size 432x288 with 1 Axes>"
            ],
            "image/png": "[encoded data removed]"
          },
          "metadata": {
            "needs_background": "light"
          }
        }
      ]
    },
    {
      "cell_type": "markdown",
      "source": [
        "### Log10 transformation\n",
        "\n",
        "A base-10 logarithmic transformation removes the outliers. This is useful for a regression."
      ],
      "metadata": {
        "id": "EPdwglYFTKau"
      }
    },
    {
      "cell_type": "code",
      "source": [
        "sr_employ_log10 = np.log10(sr_employ)"
      ],
      "metadata": {
        "id": "MdJecm_iTTDI"
      },
      "execution_count": null,
      "outputs": []
    },
    {
      "cell_type": "code",
      "source": [
        "sr_employ_log10.plot.hist(bins=20)"
      ],
      "metadata": {
        "colab": {
          "base_uri": "https://localhost:8080/",
          "height": 282
        },
        "outputId": "1609ca9c-c837-4675-8892-265f512e1c94",
        "id": "XxR4jTqqTTDJ"
      },
      "execution_count": null,
      "outputs": [
        {
          "output_type": "execute_result",
          "data": {
            "text/plain": [
              "<matplotlib.axes._subplots.AxesSubplot at 0x7f8521490950>"
            ]
          },
          "metadata": {},
          "execution_count": 355
        },
        {
          "output_type": "display_data",
          "data": {
            "text/plain": [
              "<Figure size 432x288 with 1 Axes>"
            ],
            "image/png": "[encoded data removed]"
          },
          "metadata": {
            "needs_background": "light"
          }
        }
      ]
    },
    {
      "cell_type": "code",
      "source": [
        "df_data.loc[:,'DAYS_EMPLOYED_LOG10'] = sr_employ_log10"
      ],
      "metadata": {
        "id": "8E3clMjDTYl5"
      },
      "execution_count": null,
      "outputs": []
    },
    {
      "cell_type": "markdown",
      "source": [
        "### Binning\n",
        "Instead of knowing how many days exactly the employment duration was, what matters for a classifier is the rough range. That is, a categorization into whether a client just started, has some experience, is very experienced, etc. We achieve this through binning."
      ],
      "metadata": {
        "id": "EBNanO_lTNwN"
      }
    },
    {
      "cell_type": "code",
      "source": [
        "sr_bins = pd.cut(sr_employ, 10)\n",
        "sr_bins.value_counts()"
      ],
      "metadata": {
        "colab": {
          "base_uri": "https://localhost:8080/"
        },
        "id": "grl2G-R6UyfC",
        "outputId": "75acc28d-1767-4128-e83e-15dd75f266a6"
      },
      "execution_count": null,
      "outputs": [
        {
          "output_type": "execute_result",
          "data": {
            "text/plain": [
              "(49.404, 1624.6]      1263\n",
              "(1624.6, 3184.2]       829\n",
              "(3184.2, 4743.8]       437\n",
              "(4743.8, 6303.4]       202\n",
              "(6303.4, 7863.0]       105\n",
              "(7863.0, 9422.6]        55\n",
              "(9422.6, 10982.2]       20\n",
              "(12541.8, 14101.4]      12\n",
              "(10982.2, 12541.8]      11\n",
              "(14101.4, 15661.0]       1\n",
              "Name: DAYS_EMPLOYED, dtype: int64"
            ]
          },
          "metadata": {},
          "execution_count": 357
        }
      ]
    },
    {
      "cell_type": "code",
      "source": [
        "df_data.loc[:,'DAYS_EMPLOYED_BINS'] = sr_bins.cat.codes"
      ],
      "metadata": {
        "id": "FGN1FJ2STNwO"
      },
      "execution_count": null,
      "outputs": []
    },
    {
      "cell_type": "markdown",
      "source": [
        "## Total income\n",
        "\n",
        "A similar argument can be made for total income. We use log-10 transformation and binning."
      ],
      "metadata": {
        "id": "dVmHcihHTuo5"
      }
    },
    {
      "cell_type": "code",
      "source": [
        "sr_income = df_data.loc[:,'AMT_INCOME_TOTAL']"
      ],
      "metadata": {
        "id": "7KTjW6bNTuo6"
      },
      "execution_count": null,
      "outputs": []
    },
    {
      "cell_type": "code",
      "source": [
        "sr_income.plot.hist(bins=20)"
      ],
      "metadata": {
        "colab": {
          "base_uri": "https://localhost:8080/",
          "height": 295
        },
        "outputId": "74aeb1d7-40b4-4474-a4f8-fdf566d28f42",
        "id": "JjrV5HU4Tuo6"
      },
      "execution_count": null,
      "outputs": [
        {
          "output_type": "execute_result",
          "data": {
            "text/plain": [
              "<matplotlib.axes._subplots.AxesSubplot at 0x7f852143d210>"
            ]
          },
          "metadata": {},
          "execution_count": 360
        },
        {
          "output_type": "display_data",
          "data": {
            "text/plain": [
              "<Figure size 432x288 with 1 Axes>"
            ],
            "image/png": "[encoded data removed]"
          },
          "metadata": {
            "needs_background": "light"
          }
        }
      ]
    },
    {
      "cell_type": "markdown",
      "source": [
        "### Log10 transformation"
      ],
      "metadata": {
        "id": "kLpq_oq4Tuo7"
      }
    },
    {
      "cell_type": "code",
      "source": [
        "sr_income_log10 = np.log10(df_data.loc[:,'AMT_INCOME_TOTAL'])"
      ],
      "metadata": {
        "id": "Rh5GJ276Tuo7"
      },
      "execution_count": null,
      "outputs": []
    },
    {
      "cell_type": "code",
      "source": [
        "sr_income_log10.plot.hist(bins=20)"
      ],
      "metadata": {
        "colab": {
          "base_uri": "https://localhost:8080/",
          "height": 282
        },
        "outputId": "990ada0e-b790-4f5e-af5c-d11209bbda1a",
        "id": "2YPmoGAfTuo7"
      },
      "execution_count": null,
      "outputs": [
        {
          "output_type": "execute_result",
          "data": {
            "text/plain": [
              "<matplotlib.axes._subplots.AxesSubplot at 0x7f8521352510>"
            ]
          },
          "metadata": {},
          "execution_count": 362
        },
        {
          "output_type": "display_data",
          "data": {
            "text/plain": [
              "<Figure size 432x288 with 1 Axes>"
            ],
            "image/png": "[encoded data removed]"
          },
          "metadata": {
            "needs_background": "light"
          }
        }
      ]
    },
    {
      "cell_type": "code",
      "source": [
        "df_data.loc[:,'AMT_INCOME_TOTAL_LOG10'] = sr_income_log10"
      ],
      "metadata": {
        "id": "9GaUhRK1Tuo7"
      },
      "execution_count": null,
      "outputs": []
    },
    {
      "cell_type": "markdown",
      "source": [
        "### Binning"
      ],
      "metadata": {
        "id": "Mbi6bc2STuo8"
      }
    },
    {
      "cell_type": "code",
      "source": [
        "sr_bins = pd.cut(sr_income, 10)"
      ],
      "metadata": {
        "id": "Xqr17efPWNLJ"
      },
      "execution_count": null,
      "outputs": []
    },
    {
      "cell_type": "code",
      "source": [
        "df_data.loc[:,'AMT_INCOME_TOTAL_BINS'] = sr_bins.cat.codes"
      ],
      "metadata": {
        "id": "yxaNv9PVTuo8"
      },
      "execution_count": null,
      "outputs": []
    },
    {
      "cell_type": "markdown",
      "source": [
        "# Linear Regression"
      ],
      "metadata": {
        "id": "1FKRhDl6F5UI"
      }
    },
    {
      "cell_type": "code",
      "source": [
        "import statsmodels.api as sm\n",
        "from sklearn.linear_model import LinearRegression"
      ],
      "metadata": {
        "id": "L0YwOfy5F_uh"
      },
      "execution_count": null,
      "outputs": []
    },
    {
      "cell_type": "code",
      "source": [
        "sr_endog = df_data.loc[:,'DEFAULTED'].astype(float)\n",
        "\n",
        "df_exogs = df_data.loc[:,[\n",
        "  'DAYS_EMPLOYED_LOG10',\n",
        "  'AMT_INCOME_TOTAL_LOG10', \n",
        "  'FEMALE',\n",
        "  'PENSIONER', \n",
        "  'CORE STAFF', \n",
        "  'LOWER SECONDARY', \n",
        "  'CIVIL MARRIAGE', \n",
        "  'MUNICIPAL APARTMENT', \n",
        "]]\n",
        "df_exogs = sm.add_constant(df_exogs)\n",
        "df_exogs.head()"
      ],
      "metadata": {
        "colab": {
          "base_uri": "https://localhost:8080/",
          "height": 354
        },
        "id": "7yvYSJfqF7Yk",
        "outputId": "4da7db41-043f-4cad-abb1-111b648487f8"
      },
      "execution_count": null,
      "outputs": [
        {
          "output_type": "stream",
          "name": "stderr",
          "text": [
            "/usr/local/lib/python3.7/dist-packages/statsmodels/tsa/tsatools.py:142: FutureWarning: In a future version of pandas all arguments of concat except for the argument 'objs' will be keyword-only\n",
            "  x = pd.concat(x[::order], 1)\n"
          ]
        },
        {
          "output_type": "execute_result",
          "data": {
            "text/plain": [
              "         const  DAYS_EMPLOYED_LOG10  AMT_INCOME_TOTAL_LOG10  FEMALE  \\\n",
              "ID                                                                    \n",
              "5088290    1.0             2.454845                5.352183       0   \n",
              "5135669    1.0             3.894316                5.334454       1   \n",
              "5143600    1.0             3.522835                4.954243       1   \n",
              "5038615    1.0             3.514813                5.051153       1   \n",
              "5050542    1.0             3.489677                5.352183       0   \n",
              "\n",
              "         PENSIONER  CORE STAFF  LOWER SECONDARY  CIVIL MARRIAGE  \\\n",
              "ID                                                                \n",
              "5088290          0           0                0               0   \n",
              "5135669          0           0                0               0   \n",
              "5143600          0           0                0               1   \n",
              "5038615          0           1                0               0   \n",
              "5050542          0           0                0               1   \n",
              "\n",
              "         MUNICIPAL APARTMENT  \n",
              "ID                            \n",
              "5088290                    0  \n",
              "5135669                    0  \n",
              "5143600                    0  \n",
              "5038615                    0  \n",
              "5050542                    0  "
            ],
            "text/html": [
              "\n",
              "  <div id=\"df-1b0a2772-2d40-4be2-9e68-b6b8f74eeda6\">\n",
              "    <div class=\"colab-df-container\">\n",
              "      <div>\n",
              "<style scoped>\n",
              "    .dataframe tbody tr th:only-of-type {\n",
              "        vertical-align: middle;\n",
              "    }\n",
              "\n",
              "    .dataframe tbody tr th {\n",
              "        vertical-align: top;\n",
              "    }\n",
              "\n",
              "    .dataframe thead th {\n",
              "        text-align: right;\n",
              "    }\n",
              "</style>\n",
              "<table border=\"1\" class=\"dataframe\">\n",
              "  <thead>\n",
              "    <tr style=\"text-align: right;\">\n",
              "      <th></th>\n",
              "      <th>const</th>\n",
              "      <th>DAYS_EMPLOYED_LOG10</th>\n",
              "      <th>AMT_INCOME_TOTAL_LOG10</th>\n",
              "      <th>FEMALE</th>\n",
              "      <th>PENSIONER</th>\n",
              "      <th>CORE STAFF</th>\n",
              "      <th>LOWER SECONDARY</th>\n",
              "      <th>CIVIL MARRIAGE</th>\n",
              "      <th>MUNICIPAL APARTMENT</th>\n",
              "    </tr>\n",
              "    <tr>\n",
              "      <th>ID</th>\n",
              "      <th></th>\n",
              "      <th></th>\n",
              "      <th></th>\n",
              "      <th></th>\n",
              "      <th></th>\n",
              "      <th></th>\n",
              "      <th></th>\n",
              "      <th></th>\n",
              "      <th></th>\n",
              "    </tr>\n",
              "  </thead>\n",
              "  <tbody>\n",
              "    <tr>\n",
              "      <th>5088290</th>\n",
              "      <td>1.0</td>\n",
              "      <td>2.454845</td>\n",
              "      <td>5.352183</td>\n",
              "      <td>0</td>\n",
              "      <td>0</td>\n",
              "      <td>0</td>\n",
              "      <td>0</td>\n",
              "      <td>0</td>\n",
              "      <td>0</td>\n",
              "    </tr>\n",
              "    <tr>\n",
              "      <th>5135669</th>\n",
              "      <td>1.0</td>\n",
              "      <td>3.894316</td>\n",
              "      <td>5.334454</td>\n",
              "      <td>1</td>\n",
              "      <td>0</td>\n",
              "      <td>0</td>\n",
              "      <td>0</td>\n",
              "      <td>0</td>\n",
              "      <td>0</td>\n",
              "    </tr>\n",
              "    <tr>\n",
              "      <th>5143600</th>\n",
              "      <td>1.0</td>\n",
              "      <td>3.522835</td>\n",
              "      <td>4.954243</td>\n",
              "      <td>1</td>\n",
              "      <td>0</td>\n",
              "      <td>0</td>\n",
              "      <td>0</td>\n",
              "      <td>1</td>\n",
              "      <td>0</td>\n",
              "    </tr>\n",
              "    <tr>\n",
              "      <th>5038615</th>\n",
              "      <td>1.0</td>\n",
              "      <td>3.514813</td>\n",
              "      <td>5.051153</td>\n",
              "      <td>1</td>\n",
              "      <td>0</td>\n",
              "      <td>1</td>\n",
              "      <td>0</td>\n",
              "      <td>0</td>\n",
              "      <td>0</td>\n",
              "    </tr>\n",
              "    <tr>\n",
              "      <th>5050542</th>\n",
              "      <td>1.0</td>\n",
              "      <td>3.489677</td>\n",
              "      <td>5.352183</td>\n",
              "      <td>0</td>\n",
              "      <td>0</td>\n",
              "      <td>0</td>\n",
              "      <td>0</td>\n",
              "      <td>1</td>\n",
              "      <td>0</td>\n",
              "    </tr>\n",
              "  </tbody>\n",
              "</table>\n",
              "</div>\n",
              "      <button class=\"colab-df-convert\" onclick=\"convertToInteractive('df-1b0a2772-2d40-4be2-9e68-b6b8f74eeda6')\"\n",
              "              title=\"Convert this dataframe to an interactive table.\"\n",
              "              style=\"display:none;\">\n",
              "        \n",
              "  <svg xmlns=\"http://www.w3.org/2000/svg\" height=\"24px\"viewBox=\"0 0 24 24\"\n",
              "       width=\"24px\">\n",
              "    <path d=\"M0 0h24v24H0V0z\" fill=\"none\"/>\n",
              "    <path d=\"M18.56 5.44l.94 2.06.94-2.06 2.06-.94-2.06-.94-.94-2.06-.94 2.06-2.06.94zm-11 1L8.5 8.5l.94-2.06 2.06-.94-2.06-.94L8.5 2.5l-.94 2.06-2.06.94zm10 10l.94 2.06.94-2.06 2.06-.94-2.06-.94-.94-2.06-.94 2.06-2.06.94z\"/><path d=\"M17.41 7.96l-1.37-1.37c-.4-.4-.92-.59-1.43-.59-.52 0-1.04.2-1.43.59L10.3 9.45l-7.72 7.72c-.78.78-.78 2.05 0 2.83L4 21.41c.39.39.9.59 1.41.59.51 0 1.02-.2 1.41-.59l7.78-7.78 2.81-2.81c.8-.78.8-2.07 0-2.86zM5.41 20L4 18.59l7.72-7.72 1.47 1.35L5.41 20z\"/>\n",
              "  </svg>\n",
              "      </button>\n",
              "      \n",
              "  <style>\n",
              "    .colab-df-container {\n",
              "      display:flex;\n",
              "      flex-wrap:wrap;\n",
              "      gap: 12px;\n",
              "    }\n",
              "\n",
              "    .colab-df-convert {\n",
              "      background-color: #E8F0FE;\n",
              "      border: none;\n",
              "      border-radius: 50%;\n",
              "      cursor: pointer;\n",
              "      display: none;\n",
              "      fill: #1967D2;\n",
              "      height: 32px;\n",
              "      padding: 0 0 0 0;\n",
              "      width: 32px;\n",
              "    }\n",
              "\n",
              "    .colab-df-convert:hover {\n",
              "      background-color: #E2EBFA;\n",
              "      box-shadow: 0px 1px 2px rgba(60, 64, 67, 0.3), 0px 1px 3px 1px rgba(60, 64, 67, 0.15);\n",
              "      fill: #174EA6;\n",
              "    }\n",
              "\n",
              "    [theme=dark] .colab-df-convert {\n",
              "      background-color: #3B4455;\n",
              "      fill: #D2E3FC;\n",
              "    }\n",
              "\n",
              "    [theme=dark] .colab-df-convert:hover {\n",
              "      background-color: #434B5C;\n",
              "      box-shadow: 0px 1px 3px 1px rgba(0, 0, 0, 0.15);\n",
              "      filter: drop-shadow(0px 1px 2px rgba(0, 0, 0, 0.3));\n",
              "      fill: #FFFFFF;\n",
              "    }\n",
              "  </style>\n",
              "\n",
              "      <script>\n",
              "        const buttonEl =\n",
              "          document.querySelector('#df-1b0a2772-2d40-4be2-9e68-b6b8f74eeda6 button.colab-df-convert');\n",
              "        buttonEl.style.display =\n",
              "          google.colab.kernel.accessAllowed ? 'block' : 'none';\n",
              "\n",
              "        async function convertToInteractive(key) {\n",
              "          const element = document.querySelector('#df-1b0a2772-2d40-4be2-9e68-b6b8f74eeda6');\n",
              "          const dataTable =\n",
              "            await google.colab.kernel.invokeFunction('convertToInteractive',\n",
              "                                                     [key], {});\n",
              "          if (!dataTable) return;\n",
              "\n",
              "          const docLinkHtml = 'Like what you see? Visit the ' +\n",
              "            '<a target=\"_blank\" href=https://colab.research.google.com/notebooks/data_table.ipynb>data table notebook</a>'\n",
              "            + ' to learn more about interactive tables.';\n",
              "          element.innerHTML = '';\n",
              "          dataTable['output_type'] = 'display_data';\n",
              "          await google.colab.output.renderOutput(dataTable, element);\n",
              "          const docLink = document.createElement('div');\n",
              "          docLink.innerHTML = docLinkHtml;\n",
              "          element.appendChild(docLink);\n",
              "        }\n",
              "      </script>\n",
              "    </div>\n",
              "  </div>\n",
              "  "
            ]
          },
          "metadata": {},
          "execution_count": 367
        }
      ]
    },
    {
      "cell_type": "markdown",
      "source": [
        "## Econometric view: with `statsmodels`"
      ],
      "metadata": {
        "id": "lEjpN_SiamWx"
      }
    },
    {
      "cell_type": "code",
      "source": [
        "linreg_sm = sm.OLS(\n",
        "    endog=sr_endog,\n",
        "    exog=df_exogs,\n",
        ").fit()\n",
        "\n",
        "print(linreg_sm.summary())"
      ],
      "metadata": {
        "colab": {
          "base_uri": "https://localhost:8080/"
        },
        "id": "_jTihRQiGIcs",
        "outputId": "1835c52b-0050-4bc0-8dc1-b40b8d19f9da"
      },
      "execution_count": null,
      "outputs": [
        {
          "output_type": "stream",
          "name": "stdout",
          "text": [
            "                            OLS Regression Results                            \n",
            "==============================================================================\n",
            "Dep. Variable:              DEFAULTED   R-squared:                       0.042\n",
            "Model:                            OLS   Adj. R-squared:                  0.040\n",
            "Method:                 Least Squares   F-statistic:                     16.11\n",
            "Date:                Mon, 19 Sep 2022   Prob (F-statistic):           1.69e-23\n",
            "Time:                        15:52:08   Log-Likelihood:                -1027.4\n",
            "No. Observations:                2935   AIC:                             2073.\n",
            "Df Residuals:                    2926   BIC:                             2127.\n",
            "Df Model:                           8                                         \n",
            "Covariance Type:            nonrobust                                         \n",
            "==========================================================================================\n",
            "                             coef    std err          t      P>|t|      [0.025      0.975]\n",
            "------------------------------------------------------------------------------------------\n",
            "const                      0.3821      0.174      2.200      0.028       0.042       0.723\n",
            "DAYS_EMPLOYED_LOG10       -0.0789      0.015     -5.412      0.000      -0.107      -0.050\n",
            "AMT_INCOME_TOTAL_LOG10     0.0053      0.032      0.164      0.870      -0.058       0.069\n",
            "FEMALE                    -0.0368      0.014     -2.684      0.007      -0.064      -0.010\n",
            "PENSIONER                  0.8454      0.096      8.823      0.000       0.657       1.033\n",
            "CORE STAFF                 0.0409      0.018      2.223      0.026       0.005       0.077\n",
            "LOWER SECONDARY            0.1171      0.072      1.623      0.105      -0.024       0.259\n",
            "CIVIL MARRIAGE            -0.0104      0.024     -0.443      0.657      -0.057       0.036\n",
            "MUNICIPAL APARTMENT        0.0264      0.034      0.772      0.440      -0.041       0.094\n",
            "==============================================================================\n",
            "Omnibus:                     1046.698   Durbin-Watson:                   0.083\n",
            "Prob(Omnibus):                  0.000   Jarque-Bera (JB):             2645.767\n",
            "Skew:                           2.031   Prob(JB):                         0.00\n",
            "Kurtosis:                       5.266   Cond. No.                         175.\n",
            "==============================================================================\n",
            "\n",
            "Notes:\n",
            "[1] Standard Errors assume that the covariance matrix of the errors is correctly specified.\n"
          ]
        }
      ]
    },
    {
      "cell_type": "markdown",
      "source": [
        "## Machine learning: with `scikit-learn`"
      ],
      "metadata": {
        "id": "tYd3dXa4ar40"
      }
    },
    {
      "cell_type": "code",
      "source": [
        "X = df_exogs.values\n",
        "y = sr_endog.values"
      ],
      "metadata": {
        "id": "2EN2luwybHqe"
      },
      "execution_count": null,
      "outputs": []
    },
    {
      "cell_type": "code",
      "source": [
        "linreg_ml = LinearRegression(fit_intercept=False)\n",
        "linreg_ml.fit(X, y)"
      ],
      "metadata": {
        "colab": {
          "base_uri": "https://localhost:8080/"
        },
        "id": "CJ_29PnIavLz",
        "outputId": "342540e5-c97c-4bad-cd3d-5b078c170ec2"
      },
      "execution_count": null,
      "outputs": [
        {
          "output_type": "execute_result",
          "data": {
            "text/plain": [
              "LinearRegression(fit_intercept=False)"
            ]
          },
          "metadata": {},
          "execution_count": 370
        }
      ]
    },
    {
      "cell_type": "code",
      "source": [
        "linreg_ml.coef_"
      ],
      "metadata": {
        "colab": {
          "base_uri": "https://localhost:8080/"
        },
        "id": "qyr5soYYa5iR",
        "outputId": "eb29f9ef-3e1b-4e22-a8dd-e5735b47f58d"
      },
      "execution_count": null,
      "outputs": [
        {
          "output_type": "execute_result",
          "data": {
            "text/plain": [
              "array([ 0.3821456 , -0.07890382,  0.00530433, -0.03677142,  0.84535328,\n",
              "        0.04088663,  0.1170635 , -0.01044891,  0.0264349 ])"
            ]
          },
          "metadata": {},
          "execution_count": 371
        }
      ]
    },
    {
      "cell_type": "code",
      "source": [
        "linreg_ml.score(X, y)"
      ],
      "metadata": {
        "colab": {
          "base_uri": "https://localhost:8080/"
        },
        "id": "IPmmHO_8a7AZ",
        "outputId": "c97e201b-26e9-4363-a014-548375b1530c"
      },
      "execution_count": null,
      "outputs": [
        {
          "output_type": "execute_result",
          "data": {
            "text/plain": [
              "0.042188629479862794"
            ]
          },
          "metadata": {},
          "execution_count": 372
        }
      ]
    },
    {
      "cell_type": "markdown",
      "source": [
        "# Classification\n",
        "\n",
        "Until now we have used linear regressions to best predict the outcome. The results are very poor. With $R^2$ of 3-4%, there is little hope for this to continue well, especially if we are concerned about \"external validity\". \n",
        "\n",
        "This is not surprising since we do not have a regression problem. Instead, the outcome is binary. We are not that much interested in a trend or \"regressing toward the mean\". A better approach is classification."
      ],
      "metadata": {
        "id": "zvnbS3yzN-oY"
      }
    },
    {
      "cell_type": "code",
      "source": [
        "sr_endog = df_data.loc[:,'DEFAULTED'].astype(float)\n",
        "\n",
        "df_exogs = df_data.loc[:,[\n",
        "  'DAYS_EMPLOYED_LOG10',\n",
        "  'AMT_INCOME_TOTAL_LOG10', \n",
        "  'DAYS_EMPLOYED_BINS',\n",
        "  'AMT_INCOME_TOTAL_BINS', \n",
        "  'FEMALE',\n",
        "  'PENSIONER', \n",
        "  'CORE STAFF', \n",
        "  'LOWER SECONDARY', \n",
        "  'CIVIL MARRIAGE', \n",
        "  'MUNICIPAL APARTMENT', \n",
        "]]\n",
        "df_exogs = sm.add_constant(df_exogs)\n",
        "df_exogs.head()"
      ],
      "metadata": {
        "id": "omqwH0zAvZAP",
        "colab": {
          "base_uri": "https://localhost:8080/",
          "height": 354
        },
        "outputId": "d29b2215-4df5-45d2-8510-f2509e47714d"
      },
      "execution_count": null,
      "outputs": [
        {
          "output_type": "stream",
          "name": "stderr",
          "text": [
            "/usr/local/lib/python3.7/dist-packages/statsmodels/tsa/tsatools.py:142: FutureWarning: In a future version of pandas all arguments of concat except for the argument 'objs' will be keyword-only\n",
            "  x = pd.concat(x[::order], 1)\n"
          ]
        },
        {
          "output_type": "execute_result",
          "data": {
            "text/plain": [
              "         const  DAYS_EMPLOYED_LOG10  AMT_INCOME_TOTAL_LOG10  \\\n",
              "ID                                                            \n",
              "5088290    1.0             2.454845                5.352183   \n",
              "5135669    1.0             3.894316                5.334454   \n",
              "5143600    1.0             3.522835                4.954243   \n",
              "5038615    1.0             3.514813                5.051153   \n",
              "5050542    1.0             3.489677                5.352183   \n",
              "\n",
              "         DAYS_EMPLOYED_BINS  AMT_INCOME_TOTAL_BINS  FEMALE  PENSIONER  \\\n",
              "ID                                                                      \n",
              "5088290                   0                      1       0          0   \n",
              "5135669                   4                      1       1          0   \n",
              "5143600                   2                      0       1          0   \n",
              "5038615                   2                      0       1          0   \n",
              "5050542                   1                      1       0          0   \n",
              "\n",
              "         CORE STAFF  LOWER SECONDARY  CIVIL MARRIAGE  MUNICIPAL APARTMENT  \n",
              "ID                                                                         \n",
              "5088290           0                0               0                    0  \n",
              "5135669           0                0               0                    0  \n",
              "5143600           0                0               1                    0  \n",
              "5038615           1                0               0                    0  \n",
              "5050542           0                0               1                    0  "
            ],
            "text/html": [
              "\n",
              "  <div id=\"df-51aa2fe2-45de-4f94-a02a-2ad82da0c956\">\n",
              "    <div class=\"colab-df-container\">\n",
              "      <div>\n",
              "<style scoped>\n",
              "    .dataframe tbody tr th:only-of-type {\n",
              "        vertical-align: middle;\n",
              "    }\n",
              "\n",
              "    .dataframe tbody tr th {\n",
              "        vertical-align: top;\n",
              "    }\n",
              "\n",
              "    .dataframe thead th {\n",
              "        text-align: right;\n",
              "    }\n",
              "</style>\n",
              "<table border=\"1\" class=\"dataframe\">\n",
              "  <thead>\n",
              "    <tr style=\"text-align: right;\">\n",
              "      <th></th>\n",
              "      <th>const</th>\n",
              "      <th>DAYS_EMPLOYED_LOG10</th>\n",
              "      <th>AMT_INCOME_TOTAL_LOG10</th>\n",
              "      <th>DAYS_EMPLOYED_BINS</th>\n",
              "      <th>AMT_INCOME_TOTAL_BINS</th>\n",
              "      <th>FEMALE</th>\n",
              "      <th>PENSIONER</th>\n",
              "      <th>CORE STAFF</th>\n",
              "      <th>LOWER SECONDARY</th>\n",
              "      <th>CIVIL MARRIAGE</th>\n",
              "      <th>MUNICIPAL APARTMENT</th>\n",
              "    </tr>\n",
              "    <tr>\n",
              "      <th>ID</th>\n",
              "      <th></th>\n",
              "      <th></th>\n",
              "      <th></th>\n",
              "      <th></th>\n",
              "      <th></th>\n",
              "      <th></th>\n",
              "      <th></th>\n",
              "      <th></th>\n",
              "      <th></th>\n",
              "      <th></th>\n",
              "      <th></th>\n",
              "    </tr>\n",
              "  </thead>\n",
              "  <tbody>\n",
              "    <tr>\n",
              "      <th>5088290</th>\n",
              "      <td>1.0</td>\n",
              "      <td>2.454845</td>\n",
              "      <td>5.352183</td>\n",
              "      <td>0</td>\n",
              "      <td>1</td>\n",
              "      <td>0</td>\n",
              "      <td>0</td>\n",
              "      <td>0</td>\n",
              "      <td>0</td>\n",
              "      <td>0</td>\n",
              "      <td>0</td>\n",
              "    </tr>\n",
              "    <tr>\n",
              "      <th>5135669</th>\n",
              "      <td>1.0</td>\n",
              "      <td>3.894316</td>\n",
              "      <td>5.334454</td>\n",
              "      <td>4</td>\n",
              "      <td>1</td>\n",
              "      <td>1</td>\n",
              "      <td>0</td>\n",
              "      <td>0</td>\n",
              "      <td>0</td>\n",
              "      <td>0</td>\n",
              "      <td>0</td>\n",
              "    </tr>\n",
              "    <tr>\n",
              "      <th>5143600</th>\n",
              "      <td>1.0</td>\n",
              "      <td>3.522835</td>\n",
              "      <td>4.954243</td>\n",
              "      <td>2</td>\n",
              "      <td>0</td>\n",
              "      <td>1</td>\n",
              "      <td>0</td>\n",
              "      <td>0</td>\n",
              "      <td>0</td>\n",
              "      <td>1</td>\n",
              "      <td>0</td>\n",
              "    </tr>\n",
              "    <tr>\n",
              "      <th>5038615</th>\n",
              "      <td>1.0</td>\n",
              "      <td>3.514813</td>\n",
              "      <td>5.051153</td>\n",
              "      <td>2</td>\n",
              "      <td>0</td>\n",
              "      <td>1</td>\n",
              "      <td>0</td>\n",
              "      <td>1</td>\n",
              "      <td>0</td>\n",
              "      <td>0</td>\n",
              "      <td>0</td>\n",
              "    </tr>\n",
              "    <tr>\n",
              "      <th>5050542</th>\n",
              "      <td>1.0</td>\n",
              "      <td>3.489677</td>\n",
              "      <td>5.352183</td>\n",
              "      <td>1</td>\n",
              "      <td>1</td>\n",
              "      <td>0</td>\n",
              "      <td>0</td>\n",
              "      <td>0</td>\n",
              "      <td>0</td>\n",
              "      <td>1</td>\n",
              "      <td>0</td>\n",
              "    </tr>\n",
              "  </tbody>\n",
              "</table>\n",
              "</div>\n",
              "      <button class=\"colab-df-convert\" onclick=\"convertToInteractive('df-51aa2fe2-45de-4f94-a02a-2ad82da0c956')\"\n",
              "              title=\"Convert this dataframe to an interactive table.\"\n",
              "              style=\"display:none;\">\n",
              "        \n",
              "  <svg xmlns=\"http://www.w3.org/2000/svg\" height=\"24px\"viewBox=\"0 0 24 24\"\n",
              "       width=\"24px\">\n",
              "    <path d=\"M0 0h24v24H0V0z\" fill=\"none\"/>\n",
              "    <path d=\"M18.56 5.44l.94 2.06.94-2.06 2.06-.94-2.06-.94-.94-2.06-.94 2.06-2.06.94zm-11 1L8.5 8.5l.94-2.06 2.06-.94-2.06-.94L8.5 2.5l-.94 2.06-2.06.94zm10 10l.94 2.06.94-2.06 2.06-.94-2.06-.94-.94-2.06-.94 2.06-2.06.94z\"/><path d=\"M17.41 7.96l-1.37-1.37c-.4-.4-.92-.59-1.43-.59-.52 0-1.04.2-1.43.59L10.3 9.45l-7.72 7.72c-.78.78-.78 2.05 0 2.83L4 21.41c.39.39.9.59 1.41.59.51 0 1.02-.2 1.41-.59l7.78-7.78 2.81-2.81c.8-.78.8-2.07 0-2.86zM5.41 20L4 18.59l7.72-7.72 1.47 1.35L5.41 20z\"/>\n",
              "  </svg>\n",
              "      </button>\n",
              "      \n",
              "  <style>\n",
              "    .colab-df-container {\n",
              "      display:flex;\n",
              "      flex-wrap:wrap;\n",
              "      gap: 12px;\n",
              "    }\n",
              "\n",
              "    .colab-df-convert {\n",
              "      background-color: #E8F0FE;\n",
              "      border: none;\n",
              "      border-radius: 50%;\n",
              "      cursor: pointer;\n",
              "      display: none;\n",
              "      fill: #1967D2;\n",
              "      height: 32px;\n",
              "      padding: 0 0 0 0;\n",
              "      width: 32px;\n",
              "    }\n",
              "\n",
              "    .colab-df-convert:hover {\n",
              "      background-color: #E2EBFA;\n",
              "      box-shadow: 0px 1px 2px rgba(60, 64, 67, 0.3), 0px 1px 3px 1px rgba(60, 64, 67, 0.15);\n",
              "      fill: #174EA6;\n",
              "    }\n",
              "\n",
              "    [theme=dark] .colab-df-convert {\n",
              "      background-color: #3B4455;\n",
              "      fill: #D2E3FC;\n",
              "    }\n",
              "\n",
              "    [theme=dark] .colab-df-convert:hover {\n",
              "      background-color: #434B5C;\n",
              "      box-shadow: 0px 1px 3px 1px rgba(0, 0, 0, 0.15);\n",
              "      filter: drop-shadow(0px 1px 2px rgba(0, 0, 0, 0.3));\n",
              "      fill: #FFFFFF;\n",
              "    }\n",
              "  </style>\n",
              "\n",
              "      <script>\n",
              "        const buttonEl =\n",
              "          document.querySelector('#df-51aa2fe2-45de-4f94-a02a-2ad82da0c956 button.colab-df-convert');\n",
              "        buttonEl.style.display =\n",
              "          google.colab.kernel.accessAllowed ? 'block' : 'none';\n",
              "\n",
              "        async function convertToInteractive(key) {\n",
              "          const element = document.querySelector('#df-51aa2fe2-45de-4f94-a02a-2ad82da0c956');\n",
              "          const dataTable =\n",
              "            await google.colab.kernel.invokeFunction('convertToInteractive',\n",
              "                                                     [key], {});\n",
              "          if (!dataTable) return;\n",
              "\n",
              "          const docLinkHtml = 'Like what you see? Visit the ' +\n",
              "            '<a target=\"_blank\" href=https://colab.research.google.com/notebooks/data_table.ipynb>data table notebook</a>'\n",
              "            + ' to learn more about interactive tables.';\n",
              "          element.innerHTML = '';\n",
              "          dataTable['output_type'] = 'display_data';\n",
              "          await google.colab.output.renderOutput(dataTable, element);\n",
              "          const docLink = document.createElement('div');\n",
              "          docLink.innerHTML = docLinkHtml;\n",
              "          element.appendChild(docLink);\n",
              "        }\n",
              "      </script>\n",
              "    </div>\n",
              "  </div>\n",
              "  "
            ]
          },
          "metadata": {},
          "execution_count": 373
        }
      ]
    },
    {
      "cell_type": "markdown",
      "source": [
        "# Preparation\n",
        "\n",
        "At the beginning of each notebook, we have a short preparation section. This section will do three things. First of all it will loads all the necessary packages or download and install them. Secondly it will also download and extract the data we are going to use during the tutorial. The third thing is to run most of the code from the previous noteboo so we can continue working with the data"
      ],
      "metadata": {
        "id": "QOxFNYmCsyjl"
      }
    },
    {
      "cell_type": "code",
      "source": [
        "import pandas as pd\n",
        "import numpy as np\n",
        "import matplotlib.pyplot as plt"
      ],
      "metadata": {
        "id": "Yb3kKUcWsyjn"
      },
      "execution_count": null,
      "outputs": []
    },
    {
      "cell_type": "code",
      "source": [
        "!gdown 1-3c9BhPfl6D92HvTI4kNd0MfmTquiUwQ\n",
        "!gdown 1-5ZzK3EAqc-i3AgnLOSZXTGGZsEPEmzH"
      ],
      "metadata": {
        "id": "wnzuR2H7syjo"
      },
      "execution_count": null,
      "outputs": []
    },
    {
      "cell_type": "code",
      "source": [
        "from sklearn.preprocessing import StandardScaler"
      ],
      "metadata": {
        "id": "LESlM8ElHx4U"
      },
      "execution_count": null,
      "outputs": []
    },
    {
      "cell_type": "markdown",
      "source": [
        "## Logistic regression\n",
        "\n",
        "<img src=\"http://dieter.wang/files/images/fig_linreg-logitreg.png\" />"
      ],
      "metadata": {
        "id": "dQhrOjNNcoOp"
      }
    },
    {
      "cell_type": "code",
      "source": [
        "from sklearn.linear_model import LogisticRegression"
      ],
      "metadata": {
        "id": "Cj7AI2luYzs4"
      },
      "execution_count": null,
      "outputs": []
    },
    {
      "cell_type": "code",
      "source": [
        "mdl_logit = LogisticRegression(\n",
        "    fit_intercept=True\n",
        ").fit(\n",
        "    X=X,\n",
        "    y=y,\n",
        ")"
      ],
      "metadata": {
        "id": "xs24v8r6Yzs4"
      },
      "execution_count": null,
      "outputs": []
    },
    {
      "cell_type": "code",
      "source": [
        "y_pred_logit = mdl_logit.predict(X)\n",
        "y_pred_logit.sum()"
      ],
      "metadata": {
        "colab": {
          "base_uri": "https://localhost:8080/"
        },
        "outputId": "b300ab85-205c-40b8-d7dc-7239c3e70768",
        "id": "0dz_EdQnYzs5"
      },
      "execution_count": null,
      "outputs": [
        {
          "output_type": "execute_result",
          "data": {
            "text/plain": [
              "13.0"
            ]
          },
          "metadata": {},
          "execution_count": 377
        }
      ]
    },
    {
      "cell_type": "code",
      "source": [
        "x = df_exogs['DAYS_EMPLOYED_LOG10']\n",
        "plt.scatter(x, y, marker='x', color='royalblue', label='true data')\n",
        "plt.scatter(x, y_pred_logit+.05, marker='o', color='r', label='predicted data')\n",
        "plt.title('LogisticRegression')\n",
        "plt.legend()\n",
        "plt.tight_layout()"
      ],
      "metadata": {
        "colab": {
          "base_uri": "https://localhost:8080/",
          "height": 297
        },
        "outputId": "977f7720-b89d-4a3e-da1b-5f2f409fb3c2",
        "id": "vjvY69J-Yzs5"
      },
      "execution_count": null,
      "outputs": [
        {
          "output_type": "display_data",
          "data": {
            "text/plain": [
              "<Figure size 432x288 with 1 Axes>"
            ],
            "image/png": "[encoded data removed]"
          },
          "metadata": {
            "needs_background": "light"
          }
        }
      ]
    }
  ]
}