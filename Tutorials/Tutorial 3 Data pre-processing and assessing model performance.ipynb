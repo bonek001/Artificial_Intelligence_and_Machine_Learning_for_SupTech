{
  "nbformat": 4,
  "nbformat_minor": 0,
  "metadata": {
    "colab": {
      "provenance": [],
      "include_colab_link": true
    },
    "kernelspec": {
      "name": "python3",
      "display_name": "Python 3"
    },
    "language_info": {
      "name": "python"
    }
  },
  "cells": [
    {
      "cell_type": "markdown",
      "metadata": {
        "id": "view-in-github",
        "colab_type": "text"
      },
      "source": [
        "<a href=\"https://colab.research.google.com/github/mnijhuis-dnb/Artificial_Intelligence_and_Machine_Learning_for_SupTech/blob/main/Tutorials/Tutorial%203%20Data%20pre-processing%20and%20assessing%20model%20performance.ipynb\" target=\"_parent\"><img src=\"https://colab.research.google.com/assets/colab-badge.svg\" alt=\"Open In Colab\"/></a>"
      ]
    },
    {
      "cell_type": "markdown",
      "source": [
        "##Artificial Intelligence and Machine Learning for SupTech  \n",
        "Tutorial 3: Data pre-processing and assessing model performance\n",
        "\n",
        "*\tHow to pre-process: standardize your data\n",
        "*\tPros and cons of standardization\n",
        "*\tWorking with the confusion matrix\n",
        "  *\tWhat if costs are not symmetric?\n",
        "  *\tThe trade-off between precision and recall\n",
        "\n",
        "\n",
        "<br/>\n",
        "\n",
        "14 March 2023  \n",
        "\n",
        "**Instructors**  \n",
        "Prof. Iman van Lelyveld (iman.van.lelyveld@vu.nl)<br/>\n",
        "Dr. Michiel Nijhuis (m.nijhuis@dnb.nl)  "
      ],
      "metadata": {
        "id": "-x9uRovz0R8V"
      }
    },
    {
      "cell_type": "markdown",
      "source": [
        "### Previous Tutorials\n",
        "In this section we re-run some of the code from the first 2 tutorials to have a starting model. With these steps out of the way we can focus on the pre-processing and the further evauluating of the model."
      ],
      "metadata": {
        "id": "Fic-DPeTKChS"
      }
    },
    {
      "cell_type": "code",
      "source": [
        "!gdown 1-3c9BhPfl6D92HvTI4kNd0MfmTquiUwQ\n",
        "!gdown 1-5ZzK3EAqc-i3AgnLOSZXTGGZsEPEmzH"
      ],
      "metadata": {
        "id": "gFTwgFfw1taU"
      },
      "execution_count": null,
      "outputs": []
    },
    {
      "cell_type": "code",
      "source": [
        "import pandas as pd\n",
        "import numpy as np\n",
        "import matplotlib.pyplot as plt"
      ],
      "metadata": {
        "id": "xq0uEXnK1erY"
      },
      "execution_count": null,
      "outputs": []
    },
    {
      "cell_type": "code",
      "source": [
        "path = 'credit_record.csv'\n",
        "df_record = pd.read_csv(path)"
      ],
      "metadata": {
        "id": "mpxP2w-isyjq"
      },
      "execution_count": null,
      "outputs": []
    },
    {
      "cell_type": "code",
      "source": [
        "path = 'application_record.csv'\n",
        "df_applications = pd.read_csv(path)"
      ],
      "metadata": {
        "id": "x-Gmuwo-syjr"
      },
      "execution_count": null,
      "outputs": []
    },
    {
      "cell_type": "code",
      "source": [
        "df_record.loc[:,'status'] = df_record.loc[:,'STATUS']\n",
        "df_record.loc[:,'status'] = df_record.loc[:,'status'].replace('X', '0')\n",
        "df_record.loc[:,'status'] = df_record.loc[:,'status'].replace('C', '0')"
      ],
      "metadata": {
        "id": "I_0sf0Jjsyjr"
      },
      "execution_count": null,
      "outputs": []
    },
    {
      "cell_type": "code",
      "source": [
        "df_record.loc[:,'status'] = pd.to_numeric(df_record.loc[:,'status'])"
      ],
      "metadata": {
        "id": "Px6-q5Qysyjs"
      },
      "execution_count": null,
      "outputs": []
    },
    {
      "cell_type": "code",
      "source": [
        "sr_defaults = df_record.groupby('ID')['status'].agg(lambda x: sum(x>=2)>0)"
      ],
      "metadata": {
        "id": "ux_-BJy9syjt"
      },
      "execution_count": null,
      "outputs": []
    },
    {
      "cell_type": "code",
      "source": [
        "df_applications = df_applications.drop_duplicates(subset='ID')"
      ],
      "metadata": {
        "id": "Yq6ZURwdsyju"
      },
      "execution_count": null,
      "outputs": []
    },
    {
      "cell_type": "code",
      "source": [
        "df_applications = df_applications.set_index('ID')"
      ],
      "metadata": {
        "id": "OoSRszIqsyjv"
      },
      "execution_count": null,
      "outputs": []
    },
    {
      "cell_type": "code",
      "source": [
        "df_applications = df_applications.dropna()"
      ],
      "metadata": {
        "id": "ovTcseW0syjw"
      },
      "execution_count": null,
      "outputs": []
    },
    {
      "cell_type": "code",
      "source": [
        "obj_cols = df_applications.select_dtypes(include=['object']).columns.tolist()\n",
        "dummies_list = [pd.get_dummies(df_applications[col], prefix=col, drop_first=True) for col in obj_cols]\n",
        "df_applications = pd.concat([df_applications.drop(columns=obj_cols)] + dummies_list, axis=1)"
      ],
      "metadata": {
        "id": "WdixnHsgVKCA"
      },
      "execution_count": null,
      "outputs": []
    },
    {
      "cell_type": "code",
      "source": [
        "df_data = df_applications.merge(sr_defaults, how='inner', left_index=True, right_on='ID')"
      ],
      "metadata": {
        "id": "50Uo0hr-VbJB"
      },
      "execution_count": null,
      "outputs": []
    },
    {
      "cell_type": "code",
      "source": [
        "df_data= df_data.rename(columns={'status':'DEFAULTED'}).dropna()"
      ],
      "metadata": {
        "id": "kCZHB6vhWPqx"
      },
      "execution_count": null,
      "outputs": []
    },
    {
      "cell_type": "code",
      "source": [
        "from sklearn.svm import SVC"
      ],
      "metadata": {
        "id": "PAHQJ8OBIUmu"
      },
      "execution_count": null,
      "outputs": []
    },
    {
      "cell_type": "code",
      "source": [
        "clf = SVC(C=1.0, \n",
        "          kernel='rbf', \n",
        "          degree=3, \n",
        "          gamma='scale', \n",
        "          coef0=0.0, \n",
        "          shrinking=True, \n",
        "          probability=False, \n",
        "          tol=0.1, \n",
        "          cache_size=200, \n",
        "          class_weight=None, \n",
        "          verbose=False, \n",
        "          max_iter=5, \n",
        "          decision_function_shape='ovr', \n",
        "          break_ties=False, \n",
        "          random_state=43)"
      ],
      "metadata": {
        "id": "LaQk3jW9syj0"
      },
      "execution_count": null,
      "outputs": []
    },
    {
      "cell_type": "code",
      "source": [
        "X = df_data.drop(columns='DEFAULTED')\n",
        "y = df_data['DEFAULTED']"
      ],
      "metadata": {
        "id": "EXpK31fGvehc"
      },
      "execution_count": null,
      "outputs": []
    },
    {
      "cell_type": "code",
      "source": [
        "clf = clf.fit(X.iloc[:10000], y.iloc[:10000])"
      ],
      "metadata": {
        "id": "7vIJ9t28Iu54"
      },
      "execution_count": null,
      "outputs": []
    },
    {
      "cell_type": "code",
      "source": [
        "y_model = clf.predict(X)"
      ],
      "metadata": {
        "id": "lO2w1k8dNHr-"
      },
      "execution_count": null,
      "outputs": []
    },
    {
      "cell_type": "markdown",
      "source": [
        "### Tutorial 3"
      ],
      "metadata": {
        "id": "HOF1F3xG13Le"
      }
    },
    {
      "cell_type": "markdown",
      "source": [
        "Evaluate the preformance based on the confusion matrix"
      ],
      "metadata": {
        "id": "O2M07_-fwI3p"
      }
    },
    {
      "cell_type": "code",
      "source": [
        "from sklearn.metrics import confusion_matrix"
      ],
      "metadata": {
        "id": "Q7QFZcJHMwvh"
      },
      "execution_count": null,
      "outputs": []
    },
    {
      "cell_type": "code",
      "source": [
        "confusion_matrix(y, y_model)"
      ],
      "metadata": {
        "id": "DJc1MsjJwIMB"
      },
      "execution_count": null,
      "outputs": []
    },
    {
      "cell_type": "markdown",
      "source": [
        "Instead of the predictions we can also get the scores the SVM produces"
      ],
      "metadata": {
        "id": "ngHtx430_mMw"
      }
    },
    {
      "cell_type": "code",
      "source": [
        "clf.predict_proba(X)"
      ],
      "metadata": {
        "id": "Vb6KpjOj_tsG"
      },
      "execution_count": null,
      "outputs": []
    },
    {
      "cell_type": "markdown",
      "source": [
        "What was the original prediction threshold?"
      ],
      "metadata": {
        "id": "XrwjVw9N_3aa"
      }
    },
    {
      "cell_type": "code",
      "source": [],
      "metadata": {
        "id": "X0gJmK6H_-xq"
      },
      "execution_count": null,
      "outputs": []
    },
    {
      "cell_type": "markdown",
      "source": [
        "Imagine we value the recall twice as much as the precision, can you adjust the decision threshold to get an optimum prediciton?"
      ],
      "metadata": {
        "id": "cuUyQT7H6Ir5"
      }
    },
    {
      "cell_type": "markdown",
      "source": [
        "An easier way to evaluate the performance is with the precision recall curve. We can use the following function for that"
      ],
      "metadata": {
        "id": "8kny88Zw5_eN"
      }
    },
    {
      "cell_type": "code",
      "source": [
        "from sklearn.metrics import precision_recall_curve"
      ],
      "metadata": {
        "id": "eeRBIJX8588C"
      },
      "execution_count": null,
      "outputs": []
    },
    {
      "cell_type": "markdown",
      "source": [
        "Can you make a precision recall curve?"
      ],
      "metadata": {
        "id": "zedTMGWhBLLO"
      }
    },
    {
      "cell_type": "code",
      "source": [],
      "metadata": {
        "id": "LM_e7CFN6Typ"
      },
      "execution_count": null,
      "outputs": []
    },
    {
      "cell_type": "markdown",
      "source": [
        "Let's have a look at the distribution of one of the variables"
      ],
      "metadata": {
        "id": "en0dcuk_yJdL"
      }
    },
    {
      "cell_type": "code",
      "source": [
        "df_data['DAYS_EMPLOYED'].plot.hist(bins=30)"
      ],
      "metadata": {
        "id": "9ChBJMq3P50f"
      },
      "execution_count": null,
      "outputs": []
    },
    {
      "cell_type": "markdown",
      "source": [
        "As you can see the distribution of the data is not that ideal for most machine learning algorithms. Can you improve the prediction of the DEFAULT rate, by adjusting the parameters?"
      ],
      "metadata": {
        "id": "y8TXw1rpzUtl"
      }
    },
    {
      "cell_type": "code",
      "source": [],
      "metadata": {
        "id": "Pvcmdx_A416y"
      },
      "execution_count": null,
      "outputs": []
    },
    {
      "cell_type": "markdown",
      "source": [
        "Another point with the DAYS_EMPLOYED varaible is that it's range is between -16000 and 0, this is much higher than most other variables, can you scale this and other variables to a better range?"
      ],
      "metadata": {
        "id": "MA0ZCMw_6VPg"
      }
    },
    {
      "cell_type": "code",
      "source": [],
      "metadata": {
        "id": "orOKr45d6kIq"
      },
      "execution_count": null,
      "outputs": []
    }
  ]
}