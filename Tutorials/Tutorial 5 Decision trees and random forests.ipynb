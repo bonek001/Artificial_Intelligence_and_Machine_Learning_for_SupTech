{
  "nbformat": 4,
  "nbformat_minor": 0,
  "metadata": {
    "colab": {
      "provenance": [],
      "include_colab_link": true
    },
    "kernelspec": {
      "name": "python3",
      "display_name": "Python 3"
    },
    "language_info": {
      "name": "python"
    }
  },
  "cells": [
    {
      "cell_type": "markdown",
      "metadata": {
        "id": "view-in-github",
        "colab_type": "text"
      },
      "source": [
        "<a href=\"https://colab.research.google.com/github/mnijhuis-dnb/Artificial_Intelligence_and_Machine_Learning_for_SupTech/blob/main/Tutorials/Tutorial%205%20Decision%20trees%20and%20random%20forests.ipynb\" target=\"_parent\"><img src=\"https://colab.research.google.com/assets/colab-badge.svg\" alt=\"Open In Colab\"/></a>"
      ]
    },
    {
      "cell_type": "markdown",
      "source": [
        "##Artificial Intelligence and Machine Learning for SupTech  \n",
        "Tutorial 5: Decision trees and random forests\n",
        "\n",
        "*\tGrowing your own decision tree\n",
        "*\tHow deep? How many splits? How big are the leaves?\n",
        "*\tFrom trees to random forests\n",
        "*\tComparing performance with the confusion matrix\n",
        "\n",
        "<br/>\n",
        "\n",
        "14 March 2023  \n",
        "\n",
        "**Instructors**  \n",
        "Prof. Iman van Lelyveld (iman.van.lelyveld@vu.nl)<br/>\n",
        "Dr. Michiel Nijhuis (m.nijhuis@dnb.nl)  "
      ],
      "metadata": {
        "id": "NU0xCHIKJRSG"
      }
    },
    {
      "cell_type": "code",
      "source": [
        "!wget -O bdp2022-material.zip https://dieter.wang/files/bdp2022-material-day2.zip\n",
        "!unzip -o bdp2022-material.zip"
      ],
      "metadata": {
        "colab": {
          "base_uri": "https://localhost:8080/"
        },
        "id": "cG7h_DZoN9Ld",
        "outputId": "9434339a-5d23-446b-fc0d-9f8da5c3911e"
      },
      "execution_count": null,
      "outputs": [
        {
          "output_type": "stream",
          "name": "stdout",
          "text": [
            "--2022-09-20 15:01:57--  https://dieter.wang/files/bdp2022-material-day2.zip\n",
            "Resolving dieter.wang (dieter.wang)... 85.13.135.217\n",
            "Connecting to dieter.wang (dieter.wang)|85.13.135.217|:443... connected.\n",
            "HTTP request sent, awaiting response... 200 OK\n",
            "Length: 16411449 (16M) [application/zip]\n",
            "Saving to: ‘bdp2022-material.zip’\n",
            "\n",
            "bdp2022-material.zi 100%[===================>]  15.65M  45.5MB/s    in 0.3s    \n",
            "\n",
            "2022-09-20 15:01:57 (45.5 MB/s) - ‘bdp2022-material.zip’ saved [16411449/16411449]\n",
            "\n",
            "Archive:  bdp2022-material.zip\n",
            "  inflating: 10_Industry_Portfolios.csv  \n",
            "  inflating: 25_Portfolios_5x5.csv   \n",
            "  inflating: company.csv             \n",
            "  inflating: F-F_Momentum_Factor.csv  \n",
            "  inflating: F-F_Research_Data_5_Factors_2x3.csv  \n",
            "  inflating: returns.csv             \n"
          ]
        }
      ]
    },
    {
      "cell_type": "markdown",
      "source": [
        "Tooday is about applying machine learning methods to examine stock returns in various ways. This involves data processing, standardization, normalization, model fitting etc. Importantly, we"
      ],
      "metadata": {
        "id": "vGOJH2SUQ20y"
      }
    },
    {
      "cell_type": "code",
      "source": [
        "import pandas as pd\n",
        "import numpy as np\n",
        "import matplotlib.pyplot as plt"
      ],
      "metadata": {
        "id": "LCMq0j6PR6Nz"
      },
      "execution_count": null,
      "outputs": []
    },
    {
      "cell_type": "markdown",
      "source": [
        "## Stock return data\n",
        "`returns.csv` contains `df_returns`\n",
        "Column 1 (`permno`) is the unique company identifier.\n",
        "Column 2 (`date`) is the unique date identifier.\n",
        "Column 3 (`RET`) is the Holding Period Return\n",
        "We will refer to these as $r_{it}$ \n",
        "The main question you need to answer is: Which companies do you use? Several factors will determine your decision."
      ],
      "metadata": {
        "id": "JiFMCYvBSw7E"
      }
    },
    {
      "cell_type": "code",
      "source": [
        "path = 'returns.csv'\n",
        "df_returns = pd.read_csv(path)"
      ],
      "metadata": {
        "id": "FI4LnwlER-8c"
      },
      "execution_count": null,
      "outputs": []
    },
    {
      "cell_type": "code",
      "source": [
        "df_returns"
      ],
      "metadata": {
        "colab": {
          "base_uri": "https://localhost:8080/",
          "height": 424
        },
        "id": "VvPJ_egTZpsN",
        "outputId": "fec336ee-5674-4dd8-8111-561992451c14"
      },
      "execution_count": null,
      "outputs": [
        {
          "output_type": "execute_result",
          "data": {
            "text/plain": [
              "       permno        date        RET\n",
              "0       10080  2000-01-31   0.583333\n",
              "1       10080  2000-02-29  -0.315789\n",
              "2       10080  2000-03-31  -0.076923\n",
              "3       10080  2000-04-28   0.125000\n",
              "4       10080  2000-05-31  -0.018519\n",
              "...       ...         ...        ...\n",
              "60402   86739  2009-03-31   0.010590\n",
              "60403   86739  2009-04-30   0.236527\n",
              "60404   86739  2009-05-29   0.566586\n",
              "60405   86739  2009-06-30   0.016229\n",
              "60406   86739  2009-07-31          .\n",
              "\n",
              "[60407 rows x 3 columns]"
            ],
            "text/html": [
              "\n",
              "  <div id=\"df-015a313b-1205-49f1-8b57-701b1eca0536\">\n",
              "    <div class=\"colab-df-container\">\n",
              "      <div>\n",
              "<style scoped>\n",
              "    .dataframe tbody tr th:only-of-type {\n",
              "        vertical-align: middle;\n",
              "    }\n",
              "\n",
              "    .dataframe tbody tr th {\n",
              "        vertical-align: top;\n",
              "    }\n",
              "\n",
              "    .dataframe thead th {\n",
              "        text-align: right;\n",
              "    }\n",
              "</style>\n",
              "<table border=\"1\" class=\"dataframe\">\n",
              "  <thead>\n",
              "    <tr style=\"text-align: right;\">\n",
              "      <th></th>\n",
              "      <th>permno</th>\n",
              "      <th>date</th>\n",
              "      <th>RET</th>\n",
              "    </tr>\n",
              "  </thead>\n",
              "  <tbody>\n",
              "    <tr>\n",
              "      <th>0</th>\n",
              "      <td>10080</td>\n",
              "      <td>2000-01-31</td>\n",
              "      <td>0.583333</td>\n",
              "    </tr>\n",
              "    <tr>\n",
              "      <th>1</th>\n",
              "      <td>10080</td>\n",
              "      <td>2000-02-29</td>\n",
              "      <td>-0.315789</td>\n",
              "    </tr>\n",
              "    <tr>\n",
              "      <th>2</th>\n",
              "      <td>10080</td>\n",
              "      <td>2000-03-31</td>\n",
              "      <td>-0.076923</td>\n",
              "    </tr>\n",
              "    <tr>\n",
              "      <th>3</th>\n",
              "      <td>10080</td>\n",
              "      <td>2000-04-28</td>\n",
              "      <td>0.125000</td>\n",
              "    </tr>\n",
              "    <tr>\n",
              "      <th>4</th>\n",
              "      <td>10080</td>\n",
              "      <td>2000-05-31</td>\n",
              "      <td>-0.018519</td>\n",
              "    </tr>\n",
              "    <tr>\n",
              "      <th>...</th>\n",
              "      <td>...</td>\n",
              "      <td>...</td>\n",
              "      <td>...</td>\n",
              "    </tr>\n",
              "    <tr>\n",
              "      <th>60402</th>\n",
              "      <td>86739</td>\n",
              "      <td>2009-03-31</td>\n",
              "      <td>0.010590</td>\n",
              "    </tr>\n",
              "    <tr>\n",
              "      <th>60403</th>\n",
              "      <td>86739</td>\n",
              "      <td>2009-04-30</td>\n",
              "      <td>0.236527</td>\n",
              "    </tr>\n",
              "    <tr>\n",
              "      <th>60404</th>\n",
              "      <td>86739</td>\n",
              "      <td>2009-05-29</td>\n",
              "      <td>0.566586</td>\n",
              "    </tr>\n",
              "    <tr>\n",
              "      <th>60405</th>\n",
              "      <td>86739</td>\n",
              "      <td>2009-06-30</td>\n",
              "      <td>0.016229</td>\n",
              "    </tr>\n",
              "    <tr>\n",
              "      <th>60406</th>\n",
              "      <td>86739</td>\n",
              "      <td>2009-07-31</td>\n",
              "      <td>.</td>\n",
              "    </tr>\n",
              "  </tbody>\n",
              "</table>\n",
              "<p>60407 rows × 3 columns</p>\n",
              "</div>\n",
              "      <button class=\"colab-df-convert\" onclick=\"convertToInteractive('df-015a313b-1205-49f1-8b57-701b1eca0536')\"\n",
              "              title=\"Convert this dataframe to an interactive table.\"\n",
              "              style=\"display:none;\">\n",
              "        \n",
              "  <svg xmlns=\"http://www.w3.org/2000/svg\" height=\"24px\"viewBox=\"0 0 24 24\"\n",
              "       width=\"24px\">\n",
              "    <path d=\"M0 0h24v24H0V0z\" fill=\"none\"/>\n",
              "    <path d=\"M18.56 5.44l.94 2.06.94-2.06 2.06-.94-2.06-.94-.94-2.06-.94 2.06-2.06.94zm-11 1L8.5 8.5l.94-2.06 2.06-.94-2.06-.94L8.5 2.5l-.94 2.06-2.06.94zm10 10l.94 2.06.94-2.06 2.06-.94-2.06-.94-.94-2.06-.94 2.06-2.06.94z\"/><path d=\"M17.41 7.96l-1.37-1.37c-.4-.4-.92-.59-1.43-.59-.52 0-1.04.2-1.43.59L10.3 9.45l-7.72 7.72c-.78.78-.78 2.05 0 2.83L4 21.41c.39.39.9.59 1.41.59.51 0 1.02-.2 1.41-.59l7.78-7.78 2.81-2.81c.8-.78.8-2.07 0-2.86zM5.41 20L4 18.59l7.72-7.72 1.47 1.35L5.41 20z\"/>\n",
              "  </svg>\n",
              "      </button>\n",
              "      \n",
              "  <style>\n",
              "    .colab-df-container {\n",
              "      display:flex;\n",
              "      flex-wrap:wrap;\n",
              "      gap: 12px;\n",
              "    }\n",
              "\n",
              "    .colab-df-convert {\n",
              "      background-color: #E8F0FE;\n",
              "      border: none;\n",
              "      border-radius: 50%;\n",
              "      cursor: pointer;\n",
              "      display: none;\n",
              "      fill: #1967D2;\n",
              "      height: 32px;\n",
              "      padding: 0 0 0 0;\n",
              "      width: 32px;\n",
              "    }\n",
              "\n",
              "    .colab-df-convert:hover {\n",
              "      background-color: #E2EBFA;\n",
              "      box-shadow: 0px 1px 2px rgba(60, 64, 67, 0.3), 0px 1px 3px 1px rgba(60, 64, 67, 0.15);\n",
              "      fill: #174EA6;\n",
              "    }\n",
              "\n",
              "    [theme=dark] .colab-df-convert {\n",
              "      background-color: #3B4455;\n",
              "      fill: #D2E3FC;\n",
              "    }\n",
              "\n",
              "    [theme=dark] .colab-df-convert:hover {\n",
              "      background-color: #434B5C;\n",
              "      box-shadow: 0px 1px 3px 1px rgba(0, 0, 0, 0.15);\n",
              "      filter: drop-shadow(0px 1px 2px rgba(0, 0, 0, 0.3));\n",
              "      fill: #FFFFFF;\n",
              "    }\n",
              "  </style>\n",
              "\n",
              "      <script>\n",
              "        const buttonEl =\n",
              "          document.querySelector('#df-015a313b-1205-49f1-8b57-701b1eca0536 button.colab-df-convert');\n",
              "        buttonEl.style.display =\n",
              "          google.colab.kernel.accessAllowed ? 'block' : 'none';\n",
              "\n",
              "        async function convertToInteractive(key) {\n",
              "          const element = document.querySelector('#df-015a313b-1205-49f1-8b57-701b1eca0536');\n",
              "          const dataTable =\n",
              "            await google.colab.kernel.invokeFunction('convertToInteractive',\n",
              "                                                     [key], {});\n",
              "          if (!dataTable) return;\n",
              "\n",
              "          const docLinkHtml = 'Like what you see? Visit the ' +\n",
              "            '<a target=\"_blank\" href=https://colab.research.google.com/notebooks/data_table.ipynb>data table notebook</a>'\n",
              "            + ' to learn more about interactive tables.';\n",
              "          element.innerHTML = '';\n",
              "          dataTable['output_type'] = 'display_data';\n",
              "          await google.colab.output.renderOutput(dataTable, element);\n",
              "          const docLink = document.createElement('div');\n",
              "          docLink.innerHTML = docLinkHtml;\n",
              "          element.appendChild(docLink);\n",
              "        }\n",
              "      </script>\n",
              "    </div>\n",
              "  </div>\n",
              "  "
            ]
          },
          "metadata": {},
          "execution_count": 5
        }
      ]
    },
    {
      "cell_type": "code",
      "source": [
        "len(df_returns['permno'].unique())"
      ],
      "metadata": {
        "colab": {
          "base_uri": "https://localhost:8080/"
        },
        "id": "ONVovoMEZt-G",
        "outputId": "63d59785-d253-4053-cc21-12b01030a304"
      },
      "execution_count": null,
      "outputs": [
        {
          "output_type": "execute_result",
          "data": {
            "text/plain": [
              "682"
            ]
          },
          "metadata": {},
          "execution_count": 6
        }
      ]
    },
    {
      "cell_type": "code",
      "source": [
        "df_returns.head(5)"
      ],
      "metadata": {
        "colab": {
          "base_uri": "https://localhost:8080/",
          "height": 206
        },
        "id": "zPJERiXITQZf",
        "outputId": "39b9161c-d45a-4532-f55f-db17ba38fd4b"
      },
      "execution_count": null,
      "outputs": [
        {
          "output_type": "execute_result",
          "data": {
            "text/plain": [
              "   permno        date        RET\n",
              "0   10080  2000-01-31   0.583333\n",
              "1   10080  2000-02-29  -0.315789\n",
              "2   10080  2000-03-31  -0.076923\n",
              "3   10080  2000-04-28   0.125000\n",
              "4   10080  2000-05-31  -0.018519"
            ],
            "text/html": [
              "\n",
              "  <div id=\"df-2c09be83-2df2-4321-a41d-52a8f1b0d291\">\n",
              "    <div class=\"colab-df-container\">\n",
              "      <div>\n",
              "<style scoped>\n",
              "    .dataframe tbody tr th:only-of-type {\n",
              "        vertical-align: middle;\n",
              "    }\n",
              "\n",
              "    .dataframe tbody tr th {\n",
              "        vertical-align: top;\n",
              "    }\n",
              "\n",
              "    .dataframe thead th {\n",
              "        text-align: right;\n",
              "    }\n",
              "</style>\n",
              "<table border=\"1\" class=\"dataframe\">\n",
              "  <thead>\n",
              "    <tr style=\"text-align: right;\">\n",
              "      <th></th>\n",
              "      <th>permno</th>\n",
              "      <th>date</th>\n",
              "      <th>RET</th>\n",
              "    </tr>\n",
              "  </thead>\n",
              "  <tbody>\n",
              "    <tr>\n",
              "      <th>0</th>\n",
              "      <td>10080</td>\n",
              "      <td>2000-01-31</td>\n",
              "      <td>0.583333</td>\n",
              "    </tr>\n",
              "    <tr>\n",
              "      <th>1</th>\n",
              "      <td>10080</td>\n",
              "      <td>2000-02-29</td>\n",
              "      <td>-0.315789</td>\n",
              "    </tr>\n",
              "    <tr>\n",
              "      <th>2</th>\n",
              "      <td>10080</td>\n",
              "      <td>2000-03-31</td>\n",
              "      <td>-0.076923</td>\n",
              "    </tr>\n",
              "    <tr>\n",
              "      <th>3</th>\n",
              "      <td>10080</td>\n",
              "      <td>2000-04-28</td>\n",
              "      <td>0.125000</td>\n",
              "    </tr>\n",
              "    <tr>\n",
              "      <th>4</th>\n",
              "      <td>10080</td>\n",
              "      <td>2000-05-31</td>\n",
              "      <td>-0.018519</td>\n",
              "    </tr>\n",
              "  </tbody>\n",
              "</table>\n",
              "</div>\n",
              "      <button class=\"colab-df-convert\" onclick=\"convertToInteractive('df-2c09be83-2df2-4321-a41d-52a8f1b0d291')\"\n",
              "              title=\"Convert this dataframe to an interactive table.\"\n",
              "              style=\"display:none;\">\n",
              "        \n",
              "  <svg xmlns=\"http://www.w3.org/2000/svg\" height=\"24px\"viewBox=\"0 0 24 24\"\n",
              "       width=\"24px\">\n",
              "    <path d=\"M0 0h24v24H0V0z\" fill=\"none\"/>\n",
              "    <path d=\"M18.56 5.44l.94 2.06.94-2.06 2.06-.94-2.06-.94-.94-2.06-.94 2.06-2.06.94zm-11 1L8.5 8.5l.94-2.06 2.06-.94-2.06-.94L8.5 2.5l-.94 2.06-2.06.94zm10 10l.94 2.06.94-2.06 2.06-.94-2.06-.94-.94-2.06-.94 2.06-2.06.94z\"/><path d=\"M17.41 7.96l-1.37-1.37c-.4-.4-.92-.59-1.43-.59-.52 0-1.04.2-1.43.59L10.3 9.45l-7.72 7.72c-.78.78-.78 2.05 0 2.83L4 21.41c.39.39.9.59 1.41.59.51 0 1.02-.2 1.41-.59l7.78-7.78 2.81-2.81c.8-.78.8-2.07 0-2.86zM5.41 20L4 18.59l7.72-7.72 1.47 1.35L5.41 20z\"/>\n",
              "  </svg>\n",
              "      </button>\n",
              "      \n",
              "  <style>\n",
              "    .colab-df-container {\n",
              "      display:flex;\n",
              "      flex-wrap:wrap;\n",
              "      gap: 12px;\n",
              "    }\n",
              "\n",
              "    .colab-df-convert {\n",
              "      background-color: #E8F0FE;\n",
              "      border: none;\n",
              "      border-radius: 50%;\n",
              "      cursor: pointer;\n",
              "      display: none;\n",
              "      fill: #1967D2;\n",
              "      height: 32px;\n",
              "      padding: 0 0 0 0;\n",
              "      width: 32px;\n",
              "    }\n",
              "\n",
              "    .colab-df-convert:hover {\n",
              "      background-color: #E2EBFA;\n",
              "      box-shadow: 0px 1px 2px rgba(60, 64, 67, 0.3), 0px 1px 3px 1px rgba(60, 64, 67, 0.15);\n",
              "      fill: #174EA6;\n",
              "    }\n",
              "\n",
              "    [theme=dark] .colab-df-convert {\n",
              "      background-color: #3B4455;\n",
              "      fill: #D2E3FC;\n",
              "    }\n",
              "\n",
              "    [theme=dark] .colab-df-convert:hover {\n",
              "      background-color: #434B5C;\n",
              "      box-shadow: 0px 1px 3px 1px rgba(0, 0, 0, 0.15);\n",
              "      filter: drop-shadow(0px 1px 2px rgba(0, 0, 0, 0.3));\n",
              "      fill: #FFFFFF;\n",
              "    }\n",
              "  </style>\n",
              "\n",
              "      <script>\n",
              "        const buttonEl =\n",
              "          document.querySelector('#df-2c09be83-2df2-4321-a41d-52a8f1b0d291 button.colab-df-convert');\n",
              "        buttonEl.style.display =\n",
              "          google.colab.kernel.accessAllowed ? 'block' : 'none';\n",
              "\n",
              "        async function convertToInteractive(key) {\n",
              "          const element = document.querySelector('#df-2c09be83-2df2-4321-a41d-52a8f1b0d291');\n",
              "          const dataTable =\n",
              "            await google.colab.kernel.invokeFunction('convertToInteractive',\n",
              "                                                     [key], {});\n",
              "          if (!dataTable) return;\n",
              "\n",
              "          const docLinkHtml = 'Like what you see? Visit the ' +\n",
              "            '<a target=\"_blank\" href=https://colab.research.google.com/notebooks/data_table.ipynb>data table notebook</a>'\n",
              "            + ' to learn more about interactive tables.';\n",
              "          element.innerHTML = '';\n",
              "          dataTable['output_type'] = 'display_data';\n",
              "          await google.colab.output.renderOutput(dataTable, element);\n",
              "          const docLink = document.createElement('div');\n",
              "          docLink.innerHTML = docLinkHtml;\n",
              "          element.appendChild(docLink);\n",
              "        }\n",
              "      </script>\n",
              "    </div>\n",
              "  </div>\n",
              "  "
            ]
          },
          "metadata": {},
          "execution_count": 7
        }
      ]
    },
    {
      "cell_type": "code",
      "source": [
        "df_returns.dtypes"
      ],
      "metadata": {
        "colab": {
          "base_uri": "https://localhost:8080/"
        },
        "id": "gcLs_hRZT2qd",
        "outputId": "915b24c9-11de-4762-a359-f0ad277f0e47"
      },
      "execution_count": null,
      "outputs": [
        {
          "output_type": "execute_result",
          "data": {
            "text/plain": [
              "permno     int64\n",
              "date      object\n",
              "RET       object\n",
              "dtype: object"
            ]
          },
          "metadata": {},
          "execution_count": 8
        }
      ]
    },
    {
      "cell_type": "markdown",
      "source": [
        "Interestingly, `RET` is stored as object. This is problematic, since we need numeric values. Can you think of a reason why this column is loaded as string?\n",
        ". <br/>\n",
        ". <br/>\n",
        ". <br/>\n",
        ". <br/>\n",
        ". <br/>\n",
        ". <br/>\n",
        ". <br/>"
      ],
      "metadata": {
        "id": "gz-dFhFoUlqw"
      }
    },
    {
      "cell_type": "code",
      "source": [
        "df_returns['RET'].describe()"
      ],
      "metadata": {
        "colab": {
          "base_uri": "https://localhost:8080/"
        },
        "id": "8qkXgQZdUxDi",
        "outputId": "a555decb-aff1-43d8-f818-a3e4524ee996"
      },
      "execution_count": null,
      "outputs": [
        {
          "output_type": "execute_result",
          "data": {
            "text/plain": [
              "count     60407\n",
              "unique    46788\n",
              "top           .\n",
              "freq       1740\n",
              "Name: RET, dtype: object"
            ]
          },
          "metadata": {},
          "execution_count": 9
        }
      ]
    },
    {
      "cell_type": "markdown",
      "source": [
        "Evidently, the most common value `top` is a dot `.`. This is a marker for missing values. In python we use `np.nan` do designate a missing value, which is a numerical data type."
      ],
      "metadata": {
        "id": "OfWehg5cU9v1"
      }
    },
    {
      "cell_type": "code",
      "source": [
        "df_returns['RET'] = df_returns['RET'].replace('.', np.nan)\n",
        "df_returns['RET'] = df_returns['RET'].astype(float)"
      ],
      "metadata": {
        "id": "1DlmZeHxVOBP"
      },
      "execution_count": null,
      "outputs": []
    },
    {
      "cell_type": "code",
      "source": [
        "df_returns['RET'].describe()"
      ],
      "metadata": {
        "colab": {
          "base_uri": "https://localhost:8080/"
        },
        "id": "9A7_pTl_VRN_",
        "outputId": "3ce6c3cf-41ae-478a-b4ba-1d3020c98e95"
      },
      "execution_count": null,
      "outputs": [
        {
          "output_type": "execute_result",
          "data": {
            "text/plain": [
              "count    58667.000000\n",
              "mean         0.009655\n",
              "std          0.166696\n",
              "min         -0.935356\n",
              "25%         -0.054363\n",
              "50%          0.005153\n",
              "75%          0.061492\n",
              "max          5.640000\n",
              "Name: RET, dtype: float64"
            ]
          },
          "metadata": {},
          "execution_count": 11
        }
      ]
    },
    {
      "cell_type": "markdown",
      "source": [
        "Note that the `date` column is an object. It is stored as a string. However, we may be interested in the date itself, i.e. the month or the year, such that we can compute monthly averages, changes over time, etc.\n"
      ],
      "metadata": {
        "id": "EOLm78I1UFPG"
      }
    },
    {
      "cell_type": "code",
      "source": [
        "df_returns['date'].head()"
      ],
      "metadata": {
        "colab": {
          "base_uri": "https://localhost:8080/"
        },
        "id": "m_Gs5alsibLQ",
        "outputId": "bf870ed1-10db-4094-bc87-bea5f72aa7df"
      },
      "execution_count": null,
      "outputs": [
        {
          "output_type": "execute_result",
          "data": {
            "text/plain": [
              "0    2000-01-31\n",
              "1    2000-02-29\n",
              "2    2000-03-31\n",
              "3    2000-04-28\n",
              "4    2000-05-31\n",
              "Name: date, dtype: object"
            ]
          },
          "metadata": {},
          "execution_count": 12
        }
      ]
    },
    {
      "cell_type": "code",
      "source": [
        "df_returns['date'] = pd.to_datetime(df_returns['date'], format=\"%Y-%m-%d\")\n",
        "df_returns['date'].head()"
      ],
      "metadata": {
        "id": "BlsNvzSET7fL",
        "colab": {
          "base_uri": "https://localhost:8080/"
        },
        "outputId": "7f1ffdbf-d8d7-4976-a8a5-27b61b13c519"
      },
      "execution_count": null,
      "outputs": [
        {
          "output_type": "execute_result",
          "data": {
            "text/plain": [
              "0   2000-01-31\n",
              "1   2000-02-29\n",
              "2   2000-03-31\n",
              "3   2000-04-28\n",
              "4   2000-05-31\n",
              "Name: date, dtype: datetime64[ns]"
            ]
          },
          "metadata": {},
          "execution_count": 13
        }
      ]
    },
    {
      "cell_type": "code",
      "source": [
        "df_returns['date'].dt.hour"
      ],
      "metadata": {
        "colab": {
          "base_uri": "https://localhost:8080/"
        },
        "id": "vDq-O2QxT_h1",
        "outputId": "649c717e-7866-4625-f21a-7169e135bc68"
      },
      "execution_count": null,
      "outputs": [
        {
          "output_type": "execute_result",
          "data": {
            "text/plain": [
              "0        0\n",
              "1        0\n",
              "2        0\n",
              "3        0\n",
              "4        0\n",
              "        ..\n",
              "60402    0\n",
              "60403    0\n",
              "60404    0\n",
              "60405    0\n",
              "60406    0\n",
              "Name: date, Length: 60407, dtype: int64"
            ]
          },
          "metadata": {},
          "execution_count": 14
        }
      ]
    },
    {
      "cell_type": "markdown",
      "source": [
        "Now, let's tell python that this is a DataFrame that contains **panel** data, i.e. it has both an entity and date identifier. \n",
        "\n",
        "In Stata, this would be similar to `xtset`"
      ],
      "metadata": {
        "id": "ezbU0pNdVdi1"
      }
    },
    {
      "cell_type": "code",
      "source": [
        "df_returns = df_returns.set_index(['permno','date'])"
      ],
      "metadata": {
        "id": "1S0Zj8L0TMT4"
      },
      "execution_count": null,
      "outputs": []
    },
    {
      "cell_type": "code",
      "source": [
        "df_returns.tail(30)"
      ],
      "metadata": {
        "colab": {
          "base_uri": "https://localhost:8080/",
          "height": 1000
        },
        "id": "awRtPl2ITEjM",
        "outputId": "a665da8e-9d52-4e8a-c697-bcb9f97ac5a8"
      },
      "execution_count": null,
      "outputs": [
        {
          "output_type": "execute_result",
          "data": {
            "text/plain": [
              "                        RET\n",
              "permno date                \n",
              "86739  2007-02-28 -0.004464\n",
              "       2007-03-30  0.040919\n",
              "       2007-04-30 -0.002692\n",
              "       2007-05-31  0.004860\n",
              "       2007-06-29  0.029554\n",
              "       2007-07-31  0.098121\n",
              "       2007-08-31 -0.072719\n",
              "       2007-09-28  0.028703\n",
              "       2007-10-31 -0.141006\n",
              "       2007-11-30 -0.107889\n",
              "       2007-12-31 -0.050065\n",
              "       2008-01-31 -0.036961\n",
              "       2008-02-29 -0.100924\n",
              "       2008-03-31  0.044269\n",
              "       2008-04-30 -0.125662\n",
              "       2008-05-30  0.121212\n",
              "       2008-06-30 -0.073359\n",
              "       2008-07-31 -0.061667\n",
              "       2008-08-29  0.210480\n",
              "       2008-09-30 -0.212032\n",
              "       2008-10-31 -0.243948\n",
              "       2008-11-28  0.071429\n",
              "       2008-12-31  0.081609\n",
              "       2009-01-30 -0.259299\n",
              "       2009-02-27 -0.051650\n",
              "       2009-03-31  0.010590\n",
              "       2009-04-30  0.236527\n",
              "       2009-05-29  0.566586\n",
              "       2009-06-30  0.016229\n",
              "       2009-07-31       NaN"
            ],
            "text/html": [
              "\n",
              "  <div id=\"df-14ad04ab-584f-40b6-9b20-d2e9c3912d69\">\n",
              "    <div class=\"colab-df-container\">\n",
              "      <div>\n",
              "<style scoped>\n",
              "    .dataframe tbody tr th:only-of-type {\n",
              "        vertical-align: middle;\n",
              "    }\n",
              "\n",
              "    .dataframe tbody tr th {\n",
              "        vertical-align: top;\n",
              "    }\n",
              "\n",
              "    .dataframe thead th {\n",
              "        text-align: right;\n",
              "    }\n",
              "</style>\n",
              "<table border=\"1\" class=\"dataframe\">\n",
              "  <thead>\n",
              "    <tr style=\"text-align: right;\">\n",
              "      <th></th>\n",
              "      <th></th>\n",
              "      <th>RET</th>\n",
              "    </tr>\n",
              "    <tr>\n",
              "      <th>permno</th>\n",
              "      <th>date</th>\n",
              "      <th></th>\n",
              "    </tr>\n",
              "  </thead>\n",
              "  <tbody>\n",
              "    <tr>\n",
              "      <th rowspan=\"30\" valign=\"top\">86739</th>\n",
              "      <th>2007-02-28</th>\n",
              "      <td>-0.004464</td>\n",
              "    </tr>\n",
              "    <tr>\n",
              "      <th>2007-03-30</th>\n",
              "      <td>0.040919</td>\n",
              "    </tr>\n",
              "    <tr>\n",
              "      <th>2007-04-30</th>\n",
              "      <td>-0.002692</td>\n",
              "    </tr>\n",
              "    <tr>\n",
              "      <th>2007-05-31</th>\n",
              "      <td>0.004860</td>\n",
              "    </tr>\n",
              "    <tr>\n",
              "      <th>2007-06-29</th>\n",
              "      <td>0.029554</td>\n",
              "    </tr>\n",
              "    <tr>\n",
              "      <th>2007-07-31</th>\n",
              "      <td>0.098121</td>\n",
              "    </tr>\n",
              "    <tr>\n",
              "      <th>2007-08-31</th>\n",
              "      <td>-0.072719</td>\n",
              "    </tr>\n",
              "    <tr>\n",
              "      <th>2007-09-28</th>\n",
              "      <td>0.028703</td>\n",
              "    </tr>\n",
              "    <tr>\n",
              "      <th>2007-10-31</th>\n",
              "      <td>-0.141006</td>\n",
              "    </tr>\n",
              "    <tr>\n",
              "      <th>2007-11-30</th>\n",
              "      <td>-0.107889</td>\n",
              "    </tr>\n",
              "    <tr>\n",
              "      <th>2007-12-31</th>\n",
              "      <td>-0.050065</td>\n",
              "    </tr>\n",
              "    <tr>\n",
              "      <th>2008-01-31</th>\n",
              "      <td>-0.036961</td>\n",
              "    </tr>\n",
              "    <tr>\n",
              "      <th>2008-02-29</th>\n",
              "      <td>-0.100924</td>\n",
              "    </tr>\n",
              "    <tr>\n",
              "      <th>2008-03-31</th>\n",
              "      <td>0.044269</td>\n",
              "    </tr>\n",
              "    <tr>\n",
              "      <th>2008-04-30</th>\n",
              "      <td>-0.125662</td>\n",
              "    </tr>\n",
              "    <tr>\n",
              "      <th>2008-05-30</th>\n",
              "      <td>0.121212</td>\n",
              "    </tr>\n",
              "    <tr>\n",
              "      <th>2008-06-30</th>\n",
              "      <td>-0.073359</td>\n",
              "    </tr>\n",
              "    <tr>\n",
              "      <th>2008-07-31</th>\n",
              "      <td>-0.061667</td>\n",
              "    </tr>\n",
              "    <tr>\n",
              "      <th>2008-08-29</th>\n",
              "      <td>0.210480</td>\n",
              "    </tr>\n",
              "    <tr>\n",
              "      <th>2008-09-30</th>\n",
              "      <td>-0.212032</td>\n",
              "    </tr>\n",
              "    <tr>\n",
              "      <th>2008-10-31</th>\n",
              "      <td>-0.243948</td>\n",
              "    </tr>\n",
              "    <tr>\n",
              "      <th>2008-11-28</th>\n",
              "      <td>0.071429</td>\n",
              "    </tr>\n",
              "    <tr>\n",
              "      <th>2008-12-31</th>\n",
              "      <td>0.081609</td>\n",
              "    </tr>\n",
              "    <tr>\n",
              "      <th>2009-01-30</th>\n",
              "      <td>-0.259299</td>\n",
              "    </tr>\n",
              "    <tr>\n",
              "      <th>2009-02-27</th>\n",
              "      <td>-0.051650</td>\n",
              "    </tr>\n",
              "    <tr>\n",
              "      <th>2009-03-31</th>\n",
              "      <td>0.010590</td>\n",
              "    </tr>\n",
              "    <tr>\n",
              "      <th>2009-04-30</th>\n",
              "      <td>0.236527</td>\n",
              "    </tr>\n",
              "    <tr>\n",
              "      <th>2009-05-29</th>\n",
              "      <td>0.566586</td>\n",
              "    </tr>\n",
              "    <tr>\n",
              "      <th>2009-06-30</th>\n",
              "      <td>0.016229</td>\n",
              "    </tr>\n",
              "    <tr>\n",
              "      <th>2009-07-31</th>\n",
              "      <td>NaN</td>\n",
              "    </tr>\n",
              "  </tbody>\n",
              "</table>\n",
              "</div>\n",
              "      <button class=\"colab-df-convert\" onclick=\"convertToInteractive('df-14ad04ab-584f-40b6-9b20-d2e9c3912d69')\"\n",
              "              title=\"Convert this dataframe to an interactive table.\"\n",
              "              style=\"display:none;\">\n",
              "        \n",
              "  <svg xmlns=\"http://www.w3.org/2000/svg\" height=\"24px\"viewBox=\"0 0 24 24\"\n",
              "       width=\"24px\">\n",
              "    <path d=\"M0 0h24v24H0V0z\" fill=\"none\"/>\n",
              "    <path d=\"M18.56 5.44l.94 2.06.94-2.06 2.06-.94-2.06-.94-.94-2.06-.94 2.06-2.06.94zm-11 1L8.5 8.5l.94-2.06 2.06-.94-2.06-.94L8.5 2.5l-.94 2.06-2.06.94zm10 10l.94 2.06.94-2.06 2.06-.94-2.06-.94-.94-2.06-.94 2.06-2.06.94z\"/><path d=\"M17.41 7.96l-1.37-1.37c-.4-.4-.92-.59-1.43-.59-.52 0-1.04.2-1.43.59L10.3 9.45l-7.72 7.72c-.78.78-.78 2.05 0 2.83L4 21.41c.39.39.9.59 1.41.59.51 0 1.02-.2 1.41-.59l7.78-7.78 2.81-2.81c.8-.78.8-2.07 0-2.86zM5.41 20L4 18.59l7.72-7.72 1.47 1.35L5.41 20z\"/>\n",
              "  </svg>\n",
              "      </button>\n",
              "      \n",
              "  <style>\n",
              "    .colab-df-container {\n",
              "      display:flex;\n",
              "      flex-wrap:wrap;\n",
              "      gap: 12px;\n",
              "    }\n",
              "\n",
              "    .colab-df-convert {\n",
              "      background-color: #E8F0FE;\n",
              "      border: none;\n",
              "      border-radius: 50%;\n",
              "      cursor: pointer;\n",
              "      display: none;\n",
              "      fill: #1967D2;\n",
              "      height: 32px;\n",
              "      padding: 0 0 0 0;\n",
              "      width: 32px;\n",
              "    }\n",
              "\n",
              "    .colab-df-convert:hover {\n",
              "      background-color: #E2EBFA;\n",
              "      box-shadow: 0px 1px 2px rgba(60, 64, 67, 0.3), 0px 1px 3px 1px rgba(60, 64, 67, 0.15);\n",
              "      fill: #174EA6;\n",
              "    }\n",
              "\n",
              "    [theme=dark] .colab-df-convert {\n",
              "      background-color: #3B4455;\n",
              "      fill: #D2E3FC;\n",
              "    }\n",
              "\n",
              "    [theme=dark] .colab-df-convert:hover {\n",
              "      background-color: #434B5C;\n",
              "      box-shadow: 0px 1px 3px 1px rgba(0, 0, 0, 0.15);\n",
              "      filter: drop-shadow(0px 1px 2px rgba(0, 0, 0, 0.3));\n",
              "      fill: #FFFFFF;\n",
              "    }\n",
              "  </style>\n",
              "\n",
              "      <script>\n",
              "        const buttonEl =\n",
              "          document.querySelector('#df-14ad04ab-584f-40b6-9b20-d2e9c3912d69 button.colab-df-convert');\n",
              "        buttonEl.style.display =\n",
              "          google.colab.kernel.accessAllowed ? 'block' : 'none';\n",
              "\n",
              "        async function convertToInteractive(key) {\n",
              "          const element = document.querySelector('#df-14ad04ab-584f-40b6-9b20-d2e9c3912d69');\n",
              "          const dataTable =\n",
              "            await google.colab.kernel.invokeFunction('convertToInteractive',\n",
              "                                                     [key], {});\n",
              "          if (!dataTable) return;\n",
              "\n",
              "          const docLinkHtml = 'Like what you see? Visit the ' +\n",
              "            '<a target=\"_blank\" href=https://colab.research.google.com/notebooks/data_table.ipynb>data table notebook</a>'\n",
              "            + ' to learn more about interactive tables.';\n",
              "          element.innerHTML = '';\n",
              "          dataTable['output_type'] = 'display_data';\n",
              "          await google.colab.output.renderOutput(dataTable, element);\n",
              "          const docLink = document.createElement('div');\n",
              "          docLink.innerHTML = docLinkHtml;\n",
              "          element.appendChild(docLink);\n",
              "        }\n",
              "      </script>\n",
              "    </div>\n",
              "  </div>\n",
              "  "
            ]
          },
          "metadata": {},
          "execution_count": 16
        }
      ]
    },
    {
      "cell_type": "markdown",
      "source": [
        "Doing so allows us to select and aggregate relevant subsets. For example, we want to plot the return series of company with id `11018`"
      ],
      "metadata": {
        "id": "kqfFG-tcV1aw"
      }
    },
    {
      "cell_type": "code",
      "source": [
        "sr_11018 = df_returns.loc[11018,'RET']\n",
        "sr_11018.head()"
      ],
      "metadata": {
        "colab": {
          "base_uri": "https://localhost:8080/"
        },
        "id": "Q4tmdKkYTHzQ",
        "outputId": "9c584e86-d228-41f1-e171-40cfb4654c79"
      },
      "execution_count": null,
      "outputs": [
        {
          "output_type": "execute_result",
          "data": {
            "text/plain": [
              "date\n",
              "2000-01-31   -0.126506\n",
              "2000-02-29   -0.062069\n",
              "2000-03-31    0.043235\n",
              "2000-04-28    0.003546\n",
              "2000-05-31    0.024735\n",
              "Name: RET, dtype: float64"
            ]
          },
          "metadata": {},
          "execution_count": 17
        }
      ]
    },
    {
      "cell_type": "code",
      "source": [
        "sr_11018.plot(title='Returns of 11018');"
      ],
      "metadata": {
        "colab": {
          "base_uri": "https://localhost:8080/",
          "height": 285
        },
        "id": "_HpS1hACWTVd",
        "outputId": "3240a472-0160-4df0-f01f-bcee2694648c"
      },
      "execution_count": null,
      "outputs": [
        {
          "output_type": "display_data",
          "data": {
            "text/plain": [
              "<Figure size 432x288 with 1 Axes>"
            ],
            "image/png": "[encoded data removed]"
          },
          "metadata": {
            "needs_background": "light"
          }
        }
      ]
    },
    {
      "cell_type": "markdown",
      "source": [
        "What if we want to know the 1-year average return?"
      ],
      "metadata": {
        "id": "k-LK9SdyWama"
      }
    },
    {
      "cell_type": "code",
      "source": [
        "sr_11018_avg = sr_11018.resample('Y').std()\n",
        "sr_11018_avg.plot(title='Returns of 11018 (annual average)');"
      ],
      "metadata": {
        "colab": {
          "base_uri": "https://localhost:8080/",
          "height": 295
        },
        "id": "SqSNJylSWjUN",
        "outputId": "b9e6dc10-4252-4ca3-8523-5a086a82f9e8"
      },
      "execution_count": null,
      "outputs": [
        {
          "output_type": "display_data",
          "data": {
            "text/plain": [
              "<Figure size 432x288 with 1 Axes>"
            ],
            "image/png": "[encoded data removed]"
          },
          "metadata": {
            "needs_background": "light"
          }
        }
      ]
    },
    {
      "cell_type": "markdown",
      "source": [
        "What if we want to know the 1-year moving average?"
      ],
      "metadata": {
        "id": "7WRf9plVXME4"
      }
    },
    {
      "cell_type": "code",
      "source": [
        "sr_11018_ma = sr_11018.rolling(12).mean()\n",
        "sr_11018_ma.plot(title='Returns of 11018 (1-year MA)');"
      ],
      "metadata": {
        "colab": {
          "base_uri": "https://localhost:8080/",
          "height": 285
        },
        "outputId": "dd9839dc-86c3-423d-f131-8077e46f65be",
        "id": "Lz1t88YCXME4"
      },
      "execution_count": null,
      "outputs": [
        {
          "output_type": "display_data",
          "data": {
            "text/plain": [
              "<Figure size 432x288 with 1 Axes>"
            ],
            "image/png": "[encoded data removed]"
          },
          "metadata": {
            "needs_background": "light"
          }
        }
      ]
    },
    {
      "cell_type": "markdown",
      "source": [
        "Or the 3-month rolling standard deviation?"
      ],
      "metadata": {
        "id": "MHV4yBR0WdSx"
      }
    },
    {
      "cell_type": "code",
      "source": [
        "sr_11018_sd = sr_11018.rolling(3).std()\n",
        "sr_11018_sd.plot(title='Returns of 11018 (1-year SD)');"
      ],
      "metadata": {
        "colab": {
          "base_uri": "https://localhost:8080/",
          "height": 285
        },
        "id": "VvD_4-H4XBCt",
        "outputId": "54eb27e1-8db4-4449-8fb6-bd827cad09be"
      },
      "execution_count": null,
      "outputs": [
        {
          "output_type": "display_data",
          "data": {
            "text/plain": [
              "<Figure size 432x288 with 1 Axes>"
            ],
            "image/png": "[encoded data removed]"
          },
          "metadata": {
            "needs_background": "light"
          }
        }
      ]
    },
    {
      "cell_type": "markdown",
      "source": [
        "## Firm characteristics\n",
        "\n",
        "`characteristics.csv` contains `df_features` Column 1 (`permno`) is the unique company identifier.\n",
        "Column 2 (`date`) is the unique date identifier.\n",
        "Column 3-96 are the 94 lagged firm characteristics.\n",
        "We will refer to these as $X_{it}$. For more information, have a look at Green, Hand, Zhang (2017), in the literature folder.\n"
      ],
      "metadata": {
        "id": "GxmlwGtGSU-9"
      }
    },
    {
      "cell_type": "code",
      "source": [
        "path = 'company.csv'\n",
        "df_features = pd.read_csv(path)\n",
        "\n",
        "df_features['date'] = pd.to_datetime(df_features['date'])\n",
        "df_features = df_features.set_index(['permno','date'])"
      ],
      "metadata": {
        "id": "MoudHQH5R7_r"
      },
      "execution_count": null,
      "outputs": []
    },
    {
      "cell_type": "code",
      "source": [
        "df_features.dtypes"
      ],
      "metadata": {
        "colab": {
          "base_uri": "https://localhost:8080/"
        },
        "id": "gqlYpG4XXe1F",
        "outputId": "b7ef879f-dd31-43ba-bac0-c84a4ccf153a"
      },
      "execution_count": null,
      "outputs": [
        {
          "output_type": "execute_result",
          "data": {
            "text/plain": [
              "mvel1         float64\n",
              "beta          float64\n",
              "betasq        float64\n",
              "chmom         float64\n",
              "dolvol        float64\n",
              "               ...   \n",
              "maxret        float64\n",
              "retvol        float64\n",
              "std_dolvol    float64\n",
              "std_turn      float64\n",
              "zerotrade     float64\n",
              "Length: 93, dtype: object"
            ]
          },
          "metadata": {},
          "execution_count": 23
        }
      ]
    },
    {
      "cell_type": "code",
      "source": [
        "df_features.describe().T"
      ],
      "metadata": {
        "colab": {
          "base_uri": "https://localhost:8080/",
          "height": 424
        },
        "id": "G4T-6A1WXxVW",
        "outputId": "1d2d1834-b9e2-45f5-da55-fc11fd69fbbd"
      },
      "execution_count": null,
      "outputs": [
        {
          "output_type": "execute_result",
          "data": {
            "text/plain": [
              "              count          mean           std           min           25%  \\\n",
              "mvel1       86682.0  2.311203e+06  7.384763e+06  2.860000e+02  7.185872e+04   \n",
              "beta        80440.0  1.009542e+00  6.870623e-01 -1.933279e+00  5.069216e-01   \n",
              "betasq      80440.0  1.494624e+00  1.932250e+00  2.267937e-11  2.597442e-01   \n",
              "chmom       81438.0 -5.954614e-05  5.743313e-01 -9.062534e+00 -2.229188e-01   \n",
              "dolvol      86039.0  1.240541e+01  2.773605e+00 -2.876821e-01  1.046905e+01   \n",
              "...             ...           ...           ...           ...           ...   \n",
              "maxret      86699.0  6.860511e-02  7.318905e-02  1.999982e-03  2.615409e-02   \n",
              "retvol      86657.0  3.027789e-02  2.590054e-02  0.000000e+00  1.360564e-02   \n",
              "std_dolvol  86606.0  7.083646e-01  3.903126e-01  0.000000e+00  4.226663e-01   \n",
              "std_turn    86682.0  6.019685e+00  1.406746e+01  0.000000e+00  1.171293e+00   \n",
              "zerotrade   86675.0  5.726262e-01  2.088369e+00  1.355393e-11  1.132695e-08   \n",
              "\n",
              "                     50%           75%           max  \n",
              "mvel1       2.723435e+05  1.178604e+06  1.221146e+08  \n",
              "beta        9.236055e-01  1.379090e+00  3.987207e+00  \n",
              "betasq      8.549868e-01  1.906975e+00  1.589782e+01  \n",
              "chmom      -8.020340e-03  2.112902e-01  8.083012e+00  \n",
              "dolvol      1.239194e+01  1.447285e+01  1.900568e+01  \n",
              "...                  ...           ...           ...  \n",
              "maxret      4.577707e-02  8.256873e-02  9.444444e-01  \n",
              "retvol      2.264192e-02  3.802162e-02  2.800543e-01  \n",
              "std_dolvol  5.860744e-01  9.008867e-01  2.786869e+00  \n",
              "std_turn    2.479289e+00  5.504330e+00  4.211951e+02  \n",
              "zerotrade   2.428004e-08  6.256039e-08  1.800000e+01  \n",
              "\n",
              "[93 rows x 8 columns]"
            ],
            "text/html": [
              "\n",
              "  <div id=\"df-7d5e3d5b-588c-489c-a44b-ebbbedb08306\">\n",
              "    <div class=\"colab-df-container\">\n",
              "      <div>\n",
              "<style scoped>\n",
              "    .dataframe tbody tr th:only-of-type {\n",
              "        vertical-align: middle;\n",
              "    }\n",
              "\n",
              "    .dataframe tbody tr th {\n",
              "        vertical-align: top;\n",
              "    }\n",
              "\n",
              "    .dataframe thead th {\n",
              "        text-align: right;\n",
              "    }\n",
              "</style>\n",
              "<table border=\"1\" class=\"dataframe\">\n",
              "  <thead>\n",
              "    <tr style=\"text-align: right;\">\n",
              "      <th></th>\n",
              "      <th>count</th>\n",
              "      <th>mean</th>\n",
              "      <th>std</th>\n",
              "      <th>min</th>\n",
              "      <th>25%</th>\n",
              "      <th>50%</th>\n",
              "      <th>75%</th>\n",
              "      <th>max</th>\n",
              "    </tr>\n",
              "  </thead>\n",
              "  <tbody>\n",
              "    <tr>\n",
              "      <th>mvel1</th>\n",
              "      <td>86682.0</td>\n",
              "      <td>2.311203e+06</td>\n",
              "      <td>7.384763e+06</td>\n",
              "      <td>2.860000e+02</td>\n",
              "      <td>7.185872e+04</td>\n",
              "      <td>2.723435e+05</td>\n",
              "      <td>1.178604e+06</td>\n",
              "      <td>1.221146e+08</td>\n",
              "    </tr>\n",
              "    <tr>\n",
              "      <th>beta</th>\n",
              "      <td>80440.0</td>\n",
              "      <td>1.009542e+00</td>\n",
              "      <td>6.870623e-01</td>\n",
              "      <td>-1.933279e+00</td>\n",
              "      <td>5.069216e-01</td>\n",
              "      <td>9.236055e-01</td>\n",
              "      <td>1.379090e+00</td>\n",
              "      <td>3.987207e+00</td>\n",
              "    </tr>\n",
              "    <tr>\n",
              "      <th>betasq</th>\n",
              "      <td>80440.0</td>\n",
              "      <td>1.494624e+00</td>\n",
              "      <td>1.932250e+00</td>\n",
              "      <td>2.267937e-11</td>\n",
              "      <td>2.597442e-01</td>\n",
              "      <td>8.549868e-01</td>\n",
              "      <td>1.906975e+00</td>\n",
              "      <td>1.589782e+01</td>\n",
              "    </tr>\n",
              "    <tr>\n",
              "      <th>chmom</th>\n",
              "      <td>81438.0</td>\n",
              "      <td>-5.954614e-05</td>\n",
              "      <td>5.743313e-01</td>\n",
              "      <td>-9.062534e+00</td>\n",
              "      <td>-2.229188e-01</td>\n",
              "      <td>-8.020340e-03</td>\n",
              "      <td>2.112902e-01</td>\n",
              "      <td>8.083012e+00</td>\n",
              "    </tr>\n",
              "    <tr>\n",
              "      <th>dolvol</th>\n",
              "      <td>86039.0</td>\n",
              "      <td>1.240541e+01</td>\n",
              "      <td>2.773605e+00</td>\n",
              "      <td>-2.876821e-01</td>\n",
              "      <td>1.046905e+01</td>\n",
              "      <td>1.239194e+01</td>\n",
              "      <td>1.447285e+01</td>\n",
              "      <td>1.900568e+01</td>\n",
              "    </tr>\n",
              "    <tr>\n",
              "      <th>...</th>\n",
              "      <td>...</td>\n",
              "      <td>...</td>\n",
              "      <td>...</td>\n",
              "      <td>...</td>\n",
              "      <td>...</td>\n",
              "      <td>...</td>\n",
              "      <td>...</td>\n",
              "      <td>...</td>\n",
              "    </tr>\n",
              "    <tr>\n",
              "      <th>maxret</th>\n",
              "      <td>86699.0</td>\n",
              "      <td>6.860511e-02</td>\n",
              "      <td>7.318905e-02</td>\n",
              "      <td>1.999982e-03</td>\n",
              "      <td>2.615409e-02</td>\n",
              "      <td>4.577707e-02</td>\n",
              "      <td>8.256873e-02</td>\n",
              "      <td>9.444444e-01</td>\n",
              "    </tr>\n",
              "    <tr>\n",
              "      <th>retvol</th>\n",
              "      <td>86657.0</td>\n",
              "      <td>3.027789e-02</td>\n",
              "      <td>2.590054e-02</td>\n",
              "      <td>0.000000e+00</td>\n",
              "      <td>1.360564e-02</td>\n",
              "      <td>2.264192e-02</td>\n",
              "      <td>3.802162e-02</td>\n",
              "      <td>2.800543e-01</td>\n",
              "    </tr>\n",
              "    <tr>\n",
              "      <th>std_dolvol</th>\n",
              "      <td>86606.0</td>\n",
              "      <td>7.083646e-01</td>\n",
              "      <td>3.903126e-01</td>\n",
              "      <td>0.000000e+00</td>\n",
              "      <td>4.226663e-01</td>\n",
              "      <td>5.860744e-01</td>\n",
              "      <td>9.008867e-01</td>\n",
              "      <td>2.786869e+00</td>\n",
              "    </tr>\n",
              "    <tr>\n",
              "      <th>std_turn</th>\n",
              "      <td>86682.0</td>\n",
              "      <td>6.019685e+00</td>\n",
              "      <td>1.406746e+01</td>\n",
              "      <td>0.000000e+00</td>\n",
              "      <td>1.171293e+00</td>\n",
              "      <td>2.479289e+00</td>\n",
              "      <td>5.504330e+00</td>\n",
              "      <td>4.211951e+02</td>\n",
              "    </tr>\n",
              "    <tr>\n",
              "      <th>zerotrade</th>\n",
              "      <td>86675.0</td>\n",
              "      <td>5.726262e-01</td>\n",
              "      <td>2.088369e+00</td>\n",
              "      <td>1.355393e-11</td>\n",
              "      <td>1.132695e-08</td>\n",
              "      <td>2.428004e-08</td>\n",
              "      <td>6.256039e-08</td>\n",
              "      <td>1.800000e+01</td>\n",
              "    </tr>\n",
              "  </tbody>\n",
              "</table>\n",
              "<p>93 rows × 8 columns</p>\n",
              "</div>\n",
              "      <button class=\"colab-df-convert\" onclick=\"convertToInteractive('df-7d5e3d5b-588c-489c-a44b-ebbbedb08306')\"\n",
              "              title=\"Convert this dataframe to an interactive table.\"\n",
              "              style=\"display:none;\">\n",
              "        \n",
              "  <svg xmlns=\"http://www.w3.org/2000/svg\" height=\"24px\"viewBox=\"0 0 24 24\"\n",
              "       width=\"24px\">\n",
              "    <path d=\"M0 0h24v24H0V0z\" fill=\"none\"/>\n",
              "    <path d=\"M18.56 5.44l.94 2.06.94-2.06 2.06-.94-2.06-.94-.94-2.06-.94 2.06-2.06.94zm-11 1L8.5 8.5l.94-2.06 2.06-.94-2.06-.94L8.5 2.5l-.94 2.06-2.06.94zm10 10l.94 2.06.94-2.06 2.06-.94-2.06-.94-.94-2.06-.94 2.06-2.06.94z\"/><path d=\"M17.41 7.96l-1.37-1.37c-.4-.4-.92-.59-1.43-.59-.52 0-1.04.2-1.43.59L10.3 9.45l-7.72 7.72c-.78.78-.78 2.05 0 2.83L4 21.41c.39.39.9.59 1.41.59.51 0 1.02-.2 1.41-.59l7.78-7.78 2.81-2.81c.8-.78.8-2.07 0-2.86zM5.41 20L4 18.59l7.72-7.72 1.47 1.35L5.41 20z\"/>\n",
              "  </svg>\n",
              "      </button>\n",
              "      \n",
              "  <style>\n",
              "    .colab-df-container {\n",
              "      display:flex;\n",
              "      flex-wrap:wrap;\n",
              "      gap: 12px;\n",
              "    }\n",
              "\n",
              "    .colab-df-convert {\n",
              "      background-color: #E8F0FE;\n",
              "      border: none;\n",
              "      border-radius: 50%;\n",
              "      cursor: pointer;\n",
              "      display: none;\n",
              "      fill: #1967D2;\n",
              "      height: 32px;\n",
              "      padding: 0 0 0 0;\n",
              "      width: 32px;\n",
              "    }\n",
              "\n",
              "    .colab-df-convert:hover {\n",
              "      background-color: #E2EBFA;\n",
              "      box-shadow: 0px 1px 2px rgba(60, 64, 67, 0.3), 0px 1px 3px 1px rgba(60, 64, 67, 0.15);\n",
              "      fill: #174EA6;\n",
              "    }\n",
              "\n",
              "    [theme=dark] .colab-df-convert {\n",
              "      background-color: #3B4455;\n",
              "      fill: #D2E3FC;\n",
              "    }\n",
              "\n",
              "    [theme=dark] .colab-df-convert:hover {\n",
              "      background-color: #434B5C;\n",
              "      box-shadow: 0px 1px 3px 1px rgba(0, 0, 0, 0.15);\n",
              "      filter: drop-shadow(0px 1px 2px rgba(0, 0, 0, 0.3));\n",
              "      fill: #FFFFFF;\n",
              "    }\n",
              "  </style>\n",
              "\n",
              "      <script>\n",
              "        const buttonEl =\n",
              "          document.querySelector('#df-7d5e3d5b-588c-489c-a44b-ebbbedb08306 button.colab-df-convert');\n",
              "        buttonEl.style.display =\n",
              "          google.colab.kernel.accessAllowed ? 'block' : 'none';\n",
              "\n",
              "        async function convertToInteractive(key) {\n",
              "          const element = document.querySelector('#df-7d5e3d5b-588c-489c-a44b-ebbbedb08306');\n",
              "          const dataTable =\n",
              "            await google.colab.kernel.invokeFunction('convertToInteractive',\n",
              "                                                     [key], {});\n",
              "          if (!dataTable) return;\n",
              "\n",
              "          const docLinkHtml = 'Like what you see? Visit the ' +\n",
              "            '<a target=\"_blank\" href=https://colab.research.google.com/notebooks/data_table.ipynb>data table notebook</a>'\n",
              "            + ' to learn more about interactive tables.';\n",
              "          element.innerHTML = '';\n",
              "          dataTable['output_type'] = 'display_data';\n",
              "          await google.colab.output.renderOutput(dataTable, element);\n",
              "          const docLink = document.createElement('div');\n",
              "          docLink.innerHTML = docLinkHtml;\n",
              "          element.appendChild(docLink);\n",
              "        }\n",
              "      </script>\n",
              "    </div>\n",
              "  </div>\n",
              "  "
            ]
          },
          "metadata": {},
          "execution_count": 24
        }
      ]
    },
    {
      "cell_type": "code",
      "source": [
        "df_features.head()"
      ],
      "metadata": {
        "colab": {
          "base_uri": "https://localhost:8080/",
          "height": 267
        },
        "id": "_8OcDW4OXdPP",
        "outputId": "4e6a4f88-bf53-4c11-a4fc-f07032400ad6"
      },
      "execution_count": null,
      "outputs": [
        {
          "output_type": "execute_result",
          "data": {
            "text/plain": [
              "                    mvel1      beta    betasq     chmom    dolvol   idiovol  \\\n",
              "permno date                                                                   \n",
              "10080  2000-01-31  2868.0 -0.073811  0.020791 -0.097727  3.065142  0.068324   \n",
              "       2000-02-29  4541.0 -0.081841  0.017610  0.483402  6.348264  0.068271   \n",
              "       2000-03-31  3107.0  0.104741  0.010971 -0.018970  8.959376  0.076380   \n",
              "       2000-04-28  2868.0  0.012597  0.000159 -0.108316  7.116191  0.080496   \n",
              "       2000-05-31  3226.5  0.162976  0.026561  0.140756  8.779481  0.137188   \n",
              "\n",
              "                     indmom     mom1m     mom6m    mom12m  ...    stdacc  \\\n",
              "permno date                                                ...             \n",
              "10080  2000-01-31 -0.097056 -0.020408 -0.257576 -0.387500  ...       NaN   \n",
              "       2000-02-29  0.002209  0.583333 -0.213115 -0.400000  ...       NaN   \n",
              "       2000-03-31  0.147039 -0.315789  0.245902  0.085714  ...       NaN   \n",
              "       2000-04-28  0.310041 -0.076923 -0.118644 -0.187500  ...       NaN   \n",
              "       2000-05-31  0.249398  0.125000 -0.142857 -0.294118  ...  0.073539   \n",
              "\n",
              "                      stdcf   ms  baspread       ill    maxret    retvol  \\\n",
              "permno date                                                                \n",
              "10080  2000-01-31       NaN  NaN  0.051729  0.000017  0.136364  0.042418   \n",
              "       2000-02-29       NaN  NaN  0.181881  0.000014  0.444444  0.127924   \n",
              "       2000-03-31       NaN  NaN  0.106763  0.000024  0.217391  0.095731   \n",
              "       2000-04-28       NaN  NaN  0.193484  0.000025  0.600000  0.170228   \n",
              "       2000-05-31  0.075737  2.0  0.116561  0.000019  0.230769  0.109373   \n",
              "\n",
              "                   std_dolvol   std_turn     zerotrade  \n",
              "permno date                                             \n",
              "10080  2000-01-31    1.382123   2.053254  1.336364e+01  \n",
              "       2000-02-29    1.801642  24.497492  8.400000e+00  \n",
              "       2000-03-31    1.007548   2.234800  3.150000e+00  \n",
              "       2000-04-28    1.714707  24.415433  9.130435e-01  \n",
              "       2000-05-31    1.121564   7.291179  2.926231e-08  \n",
              "\n",
              "[5 rows x 93 columns]"
            ],
            "text/html": [
              "\n",
              "  <div id=\"df-554409fd-7c52-478d-82b6-b3af8943311f\">\n",
              "    <div class=\"colab-df-container\">\n",
              "      <div>\n",
              "<style scoped>\n",
              "    .dataframe tbody tr th:only-of-type {\n",
              "        vertical-align: middle;\n",
              "    }\n",
              "\n",
              "    .dataframe tbody tr th {\n",
              "        vertical-align: top;\n",
              "    }\n",
              "\n",
              "    .dataframe thead th {\n",
              "        text-align: right;\n",
              "    }\n",
              "</style>\n",
              "<table border=\"1\" class=\"dataframe\">\n",
              "  <thead>\n",
              "    <tr style=\"text-align: right;\">\n",
              "      <th></th>\n",
              "      <th></th>\n",
              "      <th>mvel1</th>\n",
              "      <th>beta</th>\n",
              "      <th>betasq</th>\n",
              "      <th>chmom</th>\n",
              "      <th>dolvol</th>\n",
              "      <th>idiovol</th>\n",
              "      <th>indmom</th>\n",
              "      <th>mom1m</th>\n",
              "      <th>mom6m</th>\n",
              "      <th>mom12m</th>\n",
              "      <th>...</th>\n",
              "      <th>stdacc</th>\n",
              "      <th>stdcf</th>\n",
              "      <th>ms</th>\n",
              "      <th>baspread</th>\n",
              "      <th>ill</th>\n",
              "      <th>maxret</th>\n",
              "      <th>retvol</th>\n",
              "      <th>std_dolvol</th>\n",
              "      <th>std_turn</th>\n",
              "      <th>zerotrade</th>\n",
              "    </tr>\n",
              "    <tr>\n",
              "      <th>permno</th>\n",
              "      <th>date</th>\n",
              "      <th></th>\n",
              "      <th></th>\n",
              "      <th></th>\n",
              "      <th></th>\n",
              "      <th></th>\n",
              "      <th></th>\n",
              "      <th></th>\n",
              "      <th></th>\n",
              "      <th></th>\n",
              "      <th></th>\n",
              "      <th></th>\n",
              "      <th></th>\n",
              "      <th></th>\n",
              "      <th></th>\n",
              "      <th></th>\n",
              "      <th></th>\n",
              "      <th></th>\n",
              "      <th></th>\n",
              "      <th></th>\n",
              "      <th></th>\n",
              "      <th></th>\n",
              "    </tr>\n",
              "  </thead>\n",
              "  <tbody>\n",
              "    <tr>\n",
              "      <th rowspan=\"5\" valign=\"top\">10080</th>\n",
              "      <th>2000-01-31</th>\n",
              "      <td>2868.0</td>\n",
              "      <td>-0.073811</td>\n",
              "      <td>0.020791</td>\n",
              "      <td>-0.097727</td>\n",
              "      <td>3.065142</td>\n",
              "      <td>0.068324</td>\n",
              "      <td>-0.097056</td>\n",
              "      <td>-0.020408</td>\n",
              "      <td>-0.257576</td>\n",
              "      <td>-0.387500</td>\n",
              "      <td>...</td>\n",
              "      <td>NaN</td>\n",
              "      <td>NaN</td>\n",
              "      <td>NaN</td>\n",
              "      <td>0.051729</td>\n",
              "      <td>0.000017</td>\n",
              "      <td>0.136364</td>\n",
              "      <td>0.042418</td>\n",
              "      <td>1.382123</td>\n",
              "      <td>2.053254</td>\n",
              "      <td>1.336364e+01</td>\n",
              "    </tr>\n",
              "    <tr>\n",
              "      <th>2000-02-29</th>\n",
              "      <td>4541.0</td>\n",
              "      <td>-0.081841</td>\n",
              "      <td>0.017610</td>\n",
              "      <td>0.483402</td>\n",
              "      <td>6.348264</td>\n",
              "      <td>0.068271</td>\n",
              "      <td>0.002209</td>\n",
              "      <td>0.583333</td>\n",
              "      <td>-0.213115</td>\n",
              "      <td>-0.400000</td>\n",
              "      <td>...</td>\n",
              "      <td>NaN</td>\n",
              "      <td>NaN</td>\n",
              "      <td>NaN</td>\n",
              "      <td>0.181881</td>\n",
              "      <td>0.000014</td>\n",
              "      <td>0.444444</td>\n",
              "      <td>0.127924</td>\n",
              "      <td>1.801642</td>\n",
              "      <td>24.497492</td>\n",
              "      <td>8.400000e+00</td>\n",
              "    </tr>\n",
              "    <tr>\n",
              "      <th>2000-03-31</th>\n",
              "      <td>3107.0</td>\n",
              "      <td>0.104741</td>\n",
              "      <td>0.010971</td>\n",
              "      <td>-0.018970</td>\n",
              "      <td>8.959376</td>\n",
              "      <td>0.076380</td>\n",
              "      <td>0.147039</td>\n",
              "      <td>-0.315789</td>\n",
              "      <td>0.245902</td>\n",
              "      <td>0.085714</td>\n",
              "      <td>...</td>\n",
              "      <td>NaN</td>\n",
              "      <td>NaN</td>\n",
              "      <td>NaN</td>\n",
              "      <td>0.106763</td>\n",
              "      <td>0.000024</td>\n",
              "      <td>0.217391</td>\n",
              "      <td>0.095731</td>\n",
              "      <td>1.007548</td>\n",
              "      <td>2.234800</td>\n",
              "      <td>3.150000e+00</td>\n",
              "    </tr>\n",
              "    <tr>\n",
              "      <th>2000-04-28</th>\n",
              "      <td>2868.0</td>\n",
              "      <td>0.012597</td>\n",
              "      <td>0.000159</td>\n",
              "      <td>-0.108316</td>\n",
              "      <td>7.116191</td>\n",
              "      <td>0.080496</td>\n",
              "      <td>0.310041</td>\n",
              "      <td>-0.076923</td>\n",
              "      <td>-0.118644</td>\n",
              "      <td>-0.187500</td>\n",
              "      <td>...</td>\n",
              "      <td>NaN</td>\n",
              "      <td>NaN</td>\n",
              "      <td>NaN</td>\n",
              "      <td>0.193484</td>\n",
              "      <td>0.000025</td>\n",
              "      <td>0.600000</td>\n",
              "      <td>0.170228</td>\n",
              "      <td>1.714707</td>\n",
              "      <td>24.415433</td>\n",
              "      <td>9.130435e-01</td>\n",
              "    </tr>\n",
              "    <tr>\n",
              "      <th>2000-05-31</th>\n",
              "      <td>3226.5</td>\n",
              "      <td>0.162976</td>\n",
              "      <td>0.026561</td>\n",
              "      <td>0.140756</td>\n",
              "      <td>8.779481</td>\n",
              "      <td>0.137188</td>\n",
              "      <td>0.249398</td>\n",
              "      <td>0.125000</td>\n",
              "      <td>-0.142857</td>\n",
              "      <td>-0.294118</td>\n",
              "      <td>...</td>\n",
              "      <td>0.073539</td>\n",
              "      <td>0.075737</td>\n",
              "      <td>2.0</td>\n",
              "      <td>0.116561</td>\n",
              "      <td>0.000019</td>\n",
              "      <td>0.230769</td>\n",
              "      <td>0.109373</td>\n",
              "      <td>1.121564</td>\n",
              "      <td>7.291179</td>\n",
              "      <td>2.926231e-08</td>\n",
              "    </tr>\n",
              "  </tbody>\n",
              "</table>\n",
              "<p>5 rows × 93 columns</p>\n",
              "</div>\n",
              "      <button class=\"colab-df-convert\" onclick=\"convertToInteractive('df-554409fd-7c52-478d-82b6-b3af8943311f')\"\n",
              "              title=\"Convert this dataframe to an interactive table.\"\n",
              "              style=\"display:none;\">\n",
              "        \n",
              "  <svg xmlns=\"http://www.w3.org/2000/svg\" height=\"24px\"viewBox=\"0 0 24 24\"\n",
              "       width=\"24px\">\n",
              "    <path d=\"M0 0h24v24H0V0z\" fill=\"none\"/>\n",
              "    <path d=\"M18.56 5.44l.94 2.06.94-2.06 2.06-.94-2.06-.94-.94-2.06-.94 2.06-2.06.94zm-11 1L8.5 8.5l.94-2.06 2.06-.94-2.06-.94L8.5 2.5l-.94 2.06-2.06.94zm10 10l.94 2.06.94-2.06 2.06-.94-2.06-.94-.94-2.06-.94 2.06-2.06.94z\"/><path d=\"M17.41 7.96l-1.37-1.37c-.4-.4-.92-.59-1.43-.59-.52 0-1.04.2-1.43.59L10.3 9.45l-7.72 7.72c-.78.78-.78 2.05 0 2.83L4 21.41c.39.39.9.59 1.41.59.51 0 1.02-.2 1.41-.59l7.78-7.78 2.81-2.81c.8-.78.8-2.07 0-2.86zM5.41 20L4 18.59l7.72-7.72 1.47 1.35L5.41 20z\"/>\n",
              "  </svg>\n",
              "      </button>\n",
              "      \n",
              "  <style>\n",
              "    .colab-df-container {\n",
              "      display:flex;\n",
              "      flex-wrap:wrap;\n",
              "      gap: 12px;\n",
              "    }\n",
              "\n",
              "    .colab-df-convert {\n",
              "      background-color: #E8F0FE;\n",
              "      border: none;\n",
              "      border-radius: 50%;\n",
              "      cursor: pointer;\n",
              "      display: none;\n",
              "      fill: #1967D2;\n",
              "      height: 32px;\n",
              "      padding: 0 0 0 0;\n",
              "      width: 32px;\n",
              "    }\n",
              "\n",
              "    .colab-df-convert:hover {\n",
              "      background-color: #E2EBFA;\n",
              "      box-shadow: 0px 1px 2px rgba(60, 64, 67, 0.3), 0px 1px 3px 1px rgba(60, 64, 67, 0.15);\n",
              "      fill: #174EA6;\n",
              "    }\n",
              "\n",
              "    [theme=dark] .colab-df-convert {\n",
              "      background-color: #3B4455;\n",
              "      fill: #D2E3FC;\n",
              "    }\n",
              "\n",
              "    [theme=dark] .colab-df-convert:hover {\n",
              "      background-color: #434B5C;\n",
              "      box-shadow: 0px 1px 3px 1px rgba(0, 0, 0, 0.15);\n",
              "      filter: drop-shadow(0px 1px 2px rgba(0, 0, 0, 0.3));\n",
              "      fill: #FFFFFF;\n",
              "    }\n",
              "  </style>\n",
              "\n",
              "      <script>\n",
              "        const buttonEl =\n",
              "          document.querySelector('#df-554409fd-7c52-478d-82b6-b3af8943311f button.colab-df-convert');\n",
              "        buttonEl.style.display =\n",
              "          google.colab.kernel.accessAllowed ? 'block' : 'none';\n",
              "\n",
              "        async function convertToInteractive(key) {\n",
              "          const element = document.querySelector('#df-554409fd-7c52-478d-82b6-b3af8943311f');\n",
              "          const dataTable =\n",
              "            await google.colab.kernel.invokeFunction('convertToInteractive',\n",
              "                                                     [key], {});\n",
              "          if (!dataTable) return;\n",
              "\n",
              "          const docLinkHtml = 'Like what you see? Visit the ' +\n",
              "            '<a target=\"_blank\" href=https://colab.research.google.com/notebooks/data_table.ipynb>data table notebook</a>'\n",
              "            + ' to learn more about interactive tables.';\n",
              "          element.innerHTML = '';\n",
              "          dataTable['output_type'] = 'display_data';\n",
              "          await google.colab.output.renderOutput(dataTable, element);\n",
              "          const docLink = document.createElement('div');\n",
              "          docLink.innerHTML = docLinkHtml;\n",
              "          element.appendChild(docLink);\n",
              "        }\n",
              "      </script>\n",
              "    </div>\n",
              "  </div>\n",
              "  "
            ]
          },
          "metadata": {},
          "execution_count": 25
        }
      ]
    },
    {
      "cell_type": "markdown",
      "source": [
        "## Missing values"
      ],
      "metadata": {
        "id": "dr9_i0RwYX52"
      }
    },
    {
      "cell_type": "markdown",
      "source": [
        "## Over time"
      ],
      "metadata": {
        "id": "OK0LJR8FYn7F"
      }
    },
    {
      "cell_type": "code",
      "source": [
        "df_returns.notna()"
      ],
      "metadata": {
        "colab": {
          "base_uri": "https://localhost:8080/",
          "height": 455
        },
        "id": "h6FMipJCGtBB",
        "outputId": "b2448559-5d71-4e28-b6d5-9673e055ba2a"
      },
      "execution_count": null,
      "outputs": [
        {
          "output_type": "execute_result",
          "data": {
            "text/plain": [
              "                     RET\n",
              "permno date             \n",
              "10080  2000-01-31   True\n",
              "       2000-02-29   True\n",
              "       2000-03-31   True\n",
              "       2000-04-28   True\n",
              "       2000-05-31   True\n",
              "...                  ...\n",
              "86739  2009-03-31   True\n",
              "       2009-04-30   True\n",
              "       2009-05-29   True\n",
              "       2009-06-30   True\n",
              "       2009-07-31  False\n",
              "\n",
              "[60407 rows x 1 columns]"
            ],
            "text/html": [
              "\n",
              "  <div id=\"df-c94ffac7-436c-4297-aedb-9c51d21fe491\">\n",
              "    <div class=\"colab-df-container\">\n",
              "      <div>\n",
              "<style scoped>\n",
              "    .dataframe tbody tr th:only-of-type {\n",
              "        vertical-align: middle;\n",
              "    }\n",
              "\n",
              "    .dataframe tbody tr th {\n",
              "        vertical-align: top;\n",
              "    }\n",
              "\n",
              "    .dataframe thead th {\n",
              "        text-align: right;\n",
              "    }\n",
              "</style>\n",
              "<table border=\"1\" class=\"dataframe\">\n",
              "  <thead>\n",
              "    <tr style=\"text-align: right;\">\n",
              "      <th></th>\n",
              "      <th></th>\n",
              "      <th>RET</th>\n",
              "    </tr>\n",
              "    <tr>\n",
              "      <th>permno</th>\n",
              "      <th>date</th>\n",
              "      <th></th>\n",
              "    </tr>\n",
              "  </thead>\n",
              "  <tbody>\n",
              "    <tr>\n",
              "      <th rowspan=\"5\" valign=\"top\">10080</th>\n",
              "      <th>2000-01-31</th>\n",
              "      <td>True</td>\n",
              "    </tr>\n",
              "    <tr>\n",
              "      <th>2000-02-29</th>\n",
              "      <td>True</td>\n",
              "    </tr>\n",
              "    <tr>\n",
              "      <th>2000-03-31</th>\n",
              "      <td>True</td>\n",
              "    </tr>\n",
              "    <tr>\n",
              "      <th>2000-04-28</th>\n",
              "      <td>True</td>\n",
              "    </tr>\n",
              "    <tr>\n",
              "      <th>2000-05-31</th>\n",
              "      <td>True</td>\n",
              "    </tr>\n",
              "    <tr>\n",
              "      <th>...</th>\n",
              "      <th>...</th>\n",
              "      <td>...</td>\n",
              "    </tr>\n",
              "    <tr>\n",
              "      <th rowspan=\"5\" valign=\"top\">86739</th>\n",
              "      <th>2009-03-31</th>\n",
              "      <td>True</td>\n",
              "    </tr>\n",
              "    <tr>\n",
              "      <th>2009-04-30</th>\n",
              "      <td>True</td>\n",
              "    </tr>\n",
              "    <tr>\n",
              "      <th>2009-05-29</th>\n",
              "      <td>True</td>\n",
              "    </tr>\n",
              "    <tr>\n",
              "      <th>2009-06-30</th>\n",
              "      <td>True</td>\n",
              "    </tr>\n",
              "    <tr>\n",
              "      <th>2009-07-31</th>\n",
              "      <td>False</td>\n",
              "    </tr>\n",
              "  </tbody>\n",
              "</table>\n",
              "<p>60407 rows × 1 columns</p>\n",
              "</div>\n",
              "      <button class=\"colab-df-convert\" onclick=\"convertToInteractive('df-c94ffac7-436c-4297-aedb-9c51d21fe491')\"\n",
              "              title=\"Convert this dataframe to an interactive table.\"\n",
              "              style=\"display:none;\">\n",
              "        \n",
              "  <svg xmlns=\"http://www.w3.org/2000/svg\" height=\"24px\"viewBox=\"0 0 24 24\"\n",
              "       width=\"24px\">\n",
              "    <path d=\"M0 0h24v24H0V0z\" fill=\"none\"/>\n",
              "    <path d=\"M18.56 5.44l.94 2.06.94-2.06 2.06-.94-2.06-.94-.94-2.06-.94 2.06-2.06.94zm-11 1L8.5 8.5l.94-2.06 2.06-.94-2.06-.94L8.5 2.5l-.94 2.06-2.06.94zm10 10l.94 2.06.94-2.06 2.06-.94-2.06-.94-.94-2.06-.94 2.06-2.06.94z\"/><path d=\"M17.41 7.96l-1.37-1.37c-.4-.4-.92-.59-1.43-.59-.52 0-1.04.2-1.43.59L10.3 9.45l-7.72 7.72c-.78.78-.78 2.05 0 2.83L4 21.41c.39.39.9.59 1.41.59.51 0 1.02-.2 1.41-.59l7.78-7.78 2.81-2.81c.8-.78.8-2.07 0-2.86zM5.41 20L4 18.59l7.72-7.72 1.47 1.35L5.41 20z\"/>\n",
              "  </svg>\n",
              "      </button>\n",
              "      \n",
              "  <style>\n",
              "    .colab-df-container {\n",
              "      display:flex;\n",
              "      flex-wrap:wrap;\n",
              "      gap: 12px;\n",
              "    }\n",
              "\n",
              "    .colab-df-convert {\n",
              "      background-color: #E8F0FE;\n",
              "      border: none;\n",
              "      border-radius: 50%;\n",
              "      cursor: pointer;\n",
              "      display: none;\n",
              "      fill: #1967D2;\n",
              "      height: 32px;\n",
              "      padding: 0 0 0 0;\n",
              "      width: 32px;\n",
              "    }\n",
              "\n",
              "    .colab-df-convert:hover {\n",
              "      background-color: #E2EBFA;\n",
              "      box-shadow: 0px 1px 2px rgba(60, 64, 67, 0.3), 0px 1px 3px 1px rgba(60, 64, 67, 0.15);\n",
              "      fill: #174EA6;\n",
              "    }\n",
              "\n",
              "    [theme=dark] .colab-df-convert {\n",
              "      background-color: #3B4455;\n",
              "      fill: #D2E3FC;\n",
              "    }\n",
              "\n",
              "    [theme=dark] .colab-df-convert:hover {\n",
              "      background-color: #434B5C;\n",
              "      box-shadow: 0px 1px 3px 1px rgba(0, 0, 0, 0.15);\n",
              "      filter: drop-shadow(0px 1px 2px rgba(0, 0, 0, 0.3));\n",
              "      fill: #FFFFFF;\n",
              "    }\n",
              "  </style>\n",
              "\n",
              "      <script>\n",
              "        const buttonEl =\n",
              "          document.querySelector('#df-c94ffac7-436c-4297-aedb-9c51d21fe491 button.colab-df-convert');\n",
              "        buttonEl.style.display =\n",
              "          google.colab.kernel.accessAllowed ? 'block' : 'none';\n",
              "\n",
              "        async function convertToInteractive(key) {\n",
              "          const element = document.querySelector('#df-c94ffac7-436c-4297-aedb-9c51d21fe491');\n",
              "          const dataTable =\n",
              "            await google.colab.kernel.invokeFunction('convertToInteractive',\n",
              "                                                     [key], {});\n",
              "          if (!dataTable) return;\n",
              "\n",
              "          const docLinkHtml = 'Like what you see? Visit the ' +\n",
              "            '<a target=\"_blank\" href=https://colab.research.google.com/notebooks/data_table.ipynb>data table notebook</a>'\n",
              "            + ' to learn more about interactive tables.';\n",
              "          element.innerHTML = '';\n",
              "          dataTable['output_type'] = 'display_data';\n",
              "          await google.colab.output.renderOutput(dataTable, element);\n",
              "          const docLink = document.createElement('div');\n",
              "          docLink.innerHTML = docLinkHtml;\n",
              "          element.appendChild(docLink);\n",
              "        }\n",
              "      </script>\n",
              "    </div>\n",
              "  </div>\n",
              "  "
            ]
          },
          "metadata": {},
          "execution_count": 26
        }
      ]
    },
    {
      "cell_type": "code",
      "source": [
        "df_returns.notna().groupby('date').mean()"
      ],
      "metadata": {
        "colab": {
          "base_uri": "https://localhost:8080/",
          "height": 455
        },
        "id": "I053siw8cnOe",
        "outputId": "c16e987f-ef5f-45ef-f7b7-82f753bd6be4"
      },
      "execution_count": null,
      "outputs": [
        {
          "output_type": "execute_result",
          "data": {
            "text/plain": [
              "                 RET\n",
              "date                \n",
              "2000-01-31  0.974409\n",
              "2000-02-29  0.962302\n",
              "2000-03-31  0.965657\n",
              "2000-04-28  0.977413\n",
              "2000-05-31  0.977366\n",
              "...              ...\n",
              "2016-08-31  0.986532\n",
              "2016-09-30  0.976431\n",
              "2016-10-31  0.989831\n",
              "2016-11-30  0.982993\n",
              "2016-12-30  0.993151\n",
              "\n",
              "[204 rows x 1 columns]"
            ],
            "text/html": [
              "\n",
              "  <div id=\"df-0f759c8e-b9ac-49f8-9dc4-b09b2ded5f2b\">\n",
              "    <div class=\"colab-df-container\">\n",
              "      <div>\n",
              "<style scoped>\n",
              "    .dataframe tbody tr th:only-of-type {\n",
              "        vertical-align: middle;\n",
              "    }\n",
              "\n",
              "    .dataframe tbody tr th {\n",
              "        vertical-align: top;\n",
              "    }\n",
              "\n",
              "    .dataframe thead th {\n",
              "        text-align: right;\n",
              "    }\n",
              "</style>\n",
              "<table border=\"1\" class=\"dataframe\">\n",
              "  <thead>\n",
              "    <tr style=\"text-align: right;\">\n",
              "      <th></th>\n",
              "      <th>RET</th>\n",
              "    </tr>\n",
              "    <tr>\n",
              "      <th>date</th>\n",
              "      <th></th>\n",
              "    </tr>\n",
              "  </thead>\n",
              "  <tbody>\n",
              "    <tr>\n",
              "      <th>2000-01-31</th>\n",
              "      <td>0.974409</td>\n",
              "    </tr>\n",
              "    <tr>\n",
              "      <th>2000-02-29</th>\n",
              "      <td>0.962302</td>\n",
              "    </tr>\n",
              "    <tr>\n",
              "      <th>2000-03-31</th>\n",
              "      <td>0.965657</td>\n",
              "    </tr>\n",
              "    <tr>\n",
              "      <th>2000-04-28</th>\n",
              "      <td>0.977413</td>\n",
              "    </tr>\n",
              "    <tr>\n",
              "      <th>2000-05-31</th>\n",
              "      <td>0.977366</td>\n",
              "    </tr>\n",
              "    <tr>\n",
              "      <th>...</th>\n",
              "      <td>...</td>\n",
              "    </tr>\n",
              "    <tr>\n",
              "      <th>2016-08-31</th>\n",
              "      <td>0.986532</td>\n",
              "    </tr>\n",
              "    <tr>\n",
              "      <th>2016-09-30</th>\n",
              "      <td>0.976431</td>\n",
              "    </tr>\n",
              "    <tr>\n",
              "      <th>2016-10-31</th>\n",
              "      <td>0.989831</td>\n",
              "    </tr>\n",
              "    <tr>\n",
              "      <th>2016-11-30</th>\n",
              "      <td>0.982993</td>\n",
              "    </tr>\n",
              "    <tr>\n",
              "      <th>2016-12-30</th>\n",
              "      <td>0.993151</td>\n",
              "    </tr>\n",
              "  </tbody>\n",
              "</table>\n",
              "<p>204 rows × 1 columns</p>\n",
              "</div>\n",
              "      <button class=\"colab-df-convert\" onclick=\"convertToInteractive('df-0f759c8e-b9ac-49f8-9dc4-b09b2ded5f2b')\"\n",
              "              title=\"Convert this dataframe to an interactive table.\"\n",
              "              style=\"display:none;\">\n",
              "        \n",
              "  <svg xmlns=\"http://www.w3.org/2000/svg\" height=\"24px\"viewBox=\"0 0 24 24\"\n",
              "       width=\"24px\">\n",
              "    <path d=\"M0 0h24v24H0V0z\" fill=\"none\"/>\n",
              "    <path d=\"M18.56 5.44l.94 2.06.94-2.06 2.06-.94-2.06-.94-.94-2.06-.94 2.06-2.06.94zm-11 1L8.5 8.5l.94-2.06 2.06-.94-2.06-.94L8.5 2.5l-.94 2.06-2.06.94zm10 10l.94 2.06.94-2.06 2.06-.94-2.06-.94-.94-2.06-.94 2.06-2.06.94z\"/><path d=\"M17.41 7.96l-1.37-1.37c-.4-.4-.92-.59-1.43-.59-.52 0-1.04.2-1.43.59L10.3 9.45l-7.72 7.72c-.78.78-.78 2.05 0 2.83L4 21.41c.39.39.9.59 1.41.59.51 0 1.02-.2 1.41-.59l7.78-7.78 2.81-2.81c.8-.78.8-2.07 0-2.86zM5.41 20L4 18.59l7.72-7.72 1.47 1.35L5.41 20z\"/>\n",
              "  </svg>\n",
              "      </button>\n",
              "      \n",
              "  <style>\n",
              "    .colab-df-container {\n",
              "      display:flex;\n",
              "      flex-wrap:wrap;\n",
              "      gap: 12px;\n",
              "    }\n",
              "\n",
              "    .colab-df-convert {\n",
              "      background-color: #E8F0FE;\n",
              "      border: none;\n",
              "      border-radius: 50%;\n",
              "      cursor: pointer;\n",
              "      display: none;\n",
              "      fill: #1967D2;\n",
              "      height: 32px;\n",
              "      padding: 0 0 0 0;\n",
              "      width: 32px;\n",
              "    }\n",
              "\n",
              "    .colab-df-convert:hover {\n",
              "      background-color: #E2EBFA;\n",
              "      box-shadow: 0px 1px 2px rgba(60, 64, 67, 0.3), 0px 1px 3px 1px rgba(60, 64, 67, 0.15);\n",
              "      fill: #174EA6;\n",
              "    }\n",
              "\n",
              "    [theme=dark] .colab-df-convert {\n",
              "      background-color: #3B4455;\n",
              "      fill: #D2E3FC;\n",
              "    }\n",
              "\n",
              "    [theme=dark] .colab-df-convert:hover {\n",
              "      background-color: #434B5C;\n",
              "      box-shadow: 0px 1px 3px 1px rgba(0, 0, 0, 0.15);\n",
              "      filter: drop-shadow(0px 1px 2px rgba(0, 0, 0, 0.3));\n",
              "      fill: #FFFFFF;\n",
              "    }\n",
              "  </style>\n",
              "\n",
              "      <script>\n",
              "        const buttonEl =\n",
              "          document.querySelector('#df-0f759c8e-b9ac-49f8-9dc4-b09b2ded5f2b button.colab-df-convert');\n",
              "        buttonEl.style.display =\n",
              "          google.colab.kernel.accessAllowed ? 'block' : 'none';\n",
              "\n",
              "        async function convertToInteractive(key) {\n",
              "          const element = document.querySelector('#df-0f759c8e-b9ac-49f8-9dc4-b09b2ded5f2b');\n",
              "          const dataTable =\n",
              "            await google.colab.kernel.invokeFunction('convertToInteractive',\n",
              "                                                     [key], {});\n",
              "          if (!dataTable) return;\n",
              "\n",
              "          const docLinkHtml = 'Like what you see? Visit the ' +\n",
              "            '<a target=\"_blank\" href=https://colab.research.google.com/notebooks/data_table.ipynb>data table notebook</a>'\n",
              "            + ' to learn more about interactive tables.';\n",
              "          element.innerHTML = '';\n",
              "          dataTable['output_type'] = 'display_data';\n",
              "          await google.colab.output.renderOutput(dataTable, element);\n",
              "          const docLink = document.createElement('div');\n",
              "          docLink.innerHTML = docLinkHtml;\n",
              "          element.appendChild(docLink);\n",
              "        }\n",
              "      </script>\n",
              "    </div>\n",
              "  </div>\n",
              "  "
            ]
          },
          "metadata": {},
          "execution_count": 27
        }
      ]
    },
    {
      "cell_type": "code",
      "source": [
        "df_returns.notna().groupby('date').sum().plot()"
      ],
      "metadata": {
        "colab": {
          "base_uri": "https://localhost:8080/",
          "height": 286
        },
        "id": "MpuUhL-1Yqp8",
        "outputId": "9d5cc95a-c073-44bd-f4a7-ed7a40ae788a"
      },
      "execution_count": null,
      "outputs": [
        {
          "output_type": "execute_result",
          "data": {
            "text/plain": [
              "<matplotlib.axes._subplots.AxesSubplot at 0x7f054c68d0d0>"
            ]
          },
          "metadata": {},
          "execution_count": 28
        },
        {
          "output_type": "display_data",
          "data": {
            "text/plain": [
              "<Figure size 432x288 with 1 Axes>"
            ],
            "image/png": "[encoded data removed]"
          },
          "metadata": {
            "needs_background": "light"
          }
        }
      ]
    },
    {
      "cell_type": "markdown",
      "source": [
        "## Fill missing values for companies\n",
        "\n",
        "### Returns\n",
        "After having a look at how severe the problem is, we decide to fill in those missing with the value `0`. In other words, we assume that the companies did not have any stock appreciation or depreciation in that month."
      ],
      "metadata": {
        "id": "b0baaZdFY6iA"
      }
    },
    {
      "cell_type": "code",
      "source": [
        "sr_nb_missing = df_returns.notna().groupby('permno').sum()"
      ],
      "metadata": {
        "id": "etSwy_HdZPnC"
      },
      "execution_count": null,
      "outputs": []
    },
    {
      "cell_type": "code",
      "source": [
        "sr_nb_missing.value_counts().sort_values()"
      ],
      "metadata": {
        "colab": {
          "base_uri": "https://localhost:8080/"
        },
        "id": "pH2EghpYZS28",
        "outputId": "561a66a8-ee60-4a6c-fcab-965fec3eebbb"
      },
      "execution_count": null,
      "outputs": [
        {
          "output_type": "execute_result",
          "data": {
            "text/plain": [
              "RET\n",
              "145      1\n",
              "148      1\n",
              "96       1\n",
              "150      1\n",
              "186      1\n",
              "      ... \n",
              "17      11\n",
              "1       11\n",
              "7       12\n",
              "30      13\n",
              "204    143\n",
              "Length: 157, dtype: int64"
            ]
          },
          "metadata": {},
          "execution_count": 30
        }
      ]
    },
    {
      "cell_type": "code",
      "source": [
        "df_returns = df_returns.fillna(0)"
      ],
      "metadata": {
        "id": "ixtHJNS8YaHa"
      },
      "execution_count": null,
      "outputs": []
    },
    {
      "cell_type": "markdown",
      "source": [
        "### Firm characteristics\n",
        "In this case, for each characteristic we fill in the `median` over all companies."
      ],
      "metadata": {
        "id": "7CC78U7QbERE"
      }
    },
    {
      "cell_type": "code",
      "source": [
        "df_features"
      ],
      "metadata": {
        "colab": {
          "base_uri": "https://localhost:8080/",
          "height": 455
        },
        "id": "8ZBxMC-beRQB",
        "outputId": "e6945fe8-41b5-46a4-8fb7-6e32d9212953"
      },
      "execution_count": null,
      "outputs": [
        {
          "output_type": "execute_result",
          "data": {
            "text/plain": [
              "                          mvel1      beta    betasq     chmom     dolvol  \\\n",
              "permno date                                                                \n",
              "10080  2000-01-31   2868.000000 -0.073811  0.020791 -0.097727   3.065142   \n",
              "       2000-02-29   4541.000000 -0.081841  0.017610  0.483402   6.348264   \n",
              "       2000-03-31   3107.000000  0.104741  0.010971 -0.018970   8.959376   \n",
              "       2000-04-28   2868.000000  0.012597  0.000159 -0.108316   7.116191   \n",
              "       2000-05-31   3226.500000  0.162976  0.026561  0.140756   8.779481   \n",
              "...                         ...       ...       ...       ...        ...   \n",
              "93434  2016-08-31  81722.189349  0.613588  0.376491  0.230830  10.311459   \n",
              "       2016-09-30  81892.803254  0.640843  0.410680  0.307585  10.417335   \n",
              "       2016-10-31  89086.798334  0.621815  0.386653  0.311400  10.559307   \n",
              "       2016-11-30  89289.053372  0.611079  0.373417  0.100218  10.691081   \n",
              "       2016-12-30  85732.803407  0.628519  0.395036  0.020854  10.862196   \n",
              "\n",
              "                    idiovol    indmom     mom1m     mom6m    mom12m  ...  \\\n",
              "permno date                                                          ...   \n",
              "10080  2000-01-31  0.068324 -0.097056 -0.020408 -0.257576 -0.387500  ...   \n",
              "       2000-02-29  0.068271  0.002209  0.583333 -0.213115 -0.400000  ...   \n",
              "       2000-03-31  0.076380  0.147039 -0.315789  0.245902  0.085714  ...   \n",
              "       2000-04-28  0.080496  0.310041 -0.076923 -0.118644 -0.187500  ...   \n",
              "       2000-05-31  0.137188  0.249398  0.125000 -0.142857 -0.294118  ...   \n",
              "...                     ...       ...       ...       ...       ...  ...   \n",
              "93434  2016-08-31  0.063863 -0.098645  0.098624  0.053140 -0.024608  ...   \n",
              "       2016-09-30  0.063298 -0.032050  0.002088  0.143198 -0.042000  ...   \n",
              "       2016-10-31  0.063176  0.021838  0.062500  0.148325  0.043478  ...   \n",
              "       2016-11-30  0.060052  0.029155 -0.009804  0.111111  0.111111  ...   \n",
              "       2016-12-30  0.059797  0.015187 -0.049505  0.109890  0.147727  ...   \n",
              "\n",
              "                     stdacc     stdcf   ms  baspread           ill    maxret  \\\n",
              "permno date                                                                    \n",
              "10080  2000-01-31       NaN       NaN  NaN  0.051729  1.694670e-05  0.136364   \n",
              "       2000-02-29       NaN       NaN  NaN  0.181881  1.433350e-05  0.444444   \n",
              "       2000-03-31       NaN       NaN  NaN  0.106763  2.414690e-05  0.217391   \n",
              "       2000-04-28       NaN       NaN  NaN  0.193484  2.485920e-05  0.600000   \n",
              "       2000-05-31  0.073539  0.075737  2.0  0.116561  1.876960e-05  0.230769   \n",
              "...                     ...       ...  ...       ...           ...       ...   \n",
              "93434  2016-08-31  0.744023  0.860093  3.0  0.034544  2.078034e-07  0.050439   \n",
              "       2016-09-30  0.744023  0.860093  3.0  0.033108  1.353902e-07  0.057105   \n",
              "       2016-10-31  0.744023  0.860093  3.0  0.028333  8.153614e-08  0.027542   \n",
              "       2016-11-30  0.746650  0.860708  3.0  0.026600  1.237021e-07  0.023857   \n",
              "       2016-12-30  0.746650  0.860708  3.0  0.042877  8.576942e-08  0.031579   \n",
              "\n",
              "                     retvol  std_dolvol   std_turn     zerotrade  \n",
              "permno date                                                       \n",
              "10080  2000-01-31  0.042418    1.382123   2.053254  1.336364e+01  \n",
              "       2000-02-29  0.127924    1.801642  24.497492  8.400000e+00  \n",
              "       2000-03-31  0.095731    1.007548   2.234800  3.150000e+00  \n",
              "       2000-04-28  0.170228    1.714707  24.415433  9.130435e-01  \n",
              "       2000-05-31  0.109373    1.121564   7.291179  2.926231e-08  \n",
              "...                     ...         ...        ...           ...  \n",
              "93434  2016-08-31  0.024276    0.907406   1.873059  5.346671e-08  \n",
              "       2016-09-30  0.020000    0.791762   1.556431  4.042364e-08  \n",
              "       2016-10-31  0.014948    0.859552   1.892951  4.147196e-08  \n",
              "       2016-11-30  0.016641    0.988161   2.634311  3.531392e-08  \n",
              "       2016-12-30  0.019838    0.629682   2.431419  3.518593e-08  \n",
              "\n",
              "[86702 rows x 93 columns]"
            ],
            "text/html": [
              "\n",
              "  <div id=\"df-80782430-c94b-412a-b609-1af59e7ab4c8\">\n",
              "    <div class=\"colab-df-container\">\n",
              "      <div>\n",
              "<style scoped>\n",
              "    .dataframe tbody tr th:only-of-type {\n",
              "        vertical-align: middle;\n",
              "    }\n",
              "\n",
              "    .dataframe tbody tr th {\n",
              "        vertical-align: top;\n",
              "    }\n",
              "\n",
              "    .dataframe thead th {\n",
              "        text-align: right;\n",
              "    }\n",
              "</style>\n",
              "<table border=\"1\" class=\"dataframe\">\n",
              "  <thead>\n",
              "    <tr style=\"text-align: right;\">\n",
              "      <th></th>\n",
              "      <th></th>\n",
              "      <th>mvel1</th>\n",
              "      <th>beta</th>\n",
              "      <th>betasq</th>\n",
              "      <th>chmom</th>\n",
              "      <th>dolvol</th>\n",
              "      <th>idiovol</th>\n",
              "      <th>indmom</th>\n",
              "      <th>mom1m</th>\n",
              "      <th>mom6m</th>\n",
              "      <th>mom12m</th>\n",
              "      <th>...</th>\n",
              "      <th>stdacc</th>\n",
              "      <th>stdcf</th>\n",
              "      <th>ms</th>\n",
              "      <th>baspread</th>\n",
              "      <th>ill</th>\n",
              "      <th>maxret</th>\n",
              "      <th>retvol</th>\n",
              "      <th>std_dolvol</th>\n",
              "      <th>std_turn</th>\n",
              "      <th>zerotrade</th>\n",
              "    </tr>\n",
              "    <tr>\n",
              "      <th>permno</th>\n",
              "      <th>date</th>\n",
              "      <th></th>\n",
              "      <th></th>\n",
              "      <th></th>\n",
              "      <th></th>\n",
              "      <th></th>\n",
              "      <th></th>\n",
              "      <th></th>\n",
              "      <th></th>\n",
              "      <th></th>\n",
              "      <th></th>\n",
              "      <th></th>\n",
              "      <th></th>\n",
              "      <th></th>\n",
              "      <th></th>\n",
              "      <th></th>\n",
              "      <th></th>\n",
              "      <th></th>\n",
              "      <th></th>\n",
              "      <th></th>\n",
              "      <th></th>\n",
              "      <th></th>\n",
              "    </tr>\n",
              "  </thead>\n",
              "  <tbody>\n",
              "    <tr>\n",
              "      <th rowspan=\"5\" valign=\"top\">10080</th>\n",
              "      <th>2000-01-31</th>\n",
              "      <td>2868.000000</td>\n",
              "      <td>-0.073811</td>\n",
              "      <td>0.020791</td>\n",
              "      <td>-0.097727</td>\n",
              "      <td>3.065142</td>\n",
              "      <td>0.068324</td>\n",
              "      <td>-0.097056</td>\n",
              "      <td>-0.020408</td>\n",
              "      <td>-0.257576</td>\n",
              "      <td>-0.387500</td>\n",
              "      <td>...</td>\n",
              "      <td>NaN</td>\n",
              "      <td>NaN</td>\n",
              "      <td>NaN</td>\n",
              "      <td>0.051729</td>\n",
              "      <td>1.694670e-05</td>\n",
              "      <td>0.136364</td>\n",
              "      <td>0.042418</td>\n",
              "      <td>1.382123</td>\n",
              "      <td>2.053254</td>\n",
              "      <td>1.336364e+01</td>\n",
              "    </tr>\n",
              "    <tr>\n",
              "      <th>2000-02-29</th>\n",
              "      <td>4541.000000</td>\n",
              "      <td>-0.081841</td>\n",
              "      <td>0.017610</td>\n",
              "      <td>0.483402</td>\n",
              "      <td>6.348264</td>\n",
              "      <td>0.068271</td>\n",
              "      <td>0.002209</td>\n",
              "      <td>0.583333</td>\n",
              "      <td>-0.213115</td>\n",
              "      <td>-0.400000</td>\n",
              "      <td>...</td>\n",
              "      <td>NaN</td>\n",
              "      <td>NaN</td>\n",
              "      <td>NaN</td>\n",
              "      <td>0.181881</td>\n",
              "      <td>1.433350e-05</td>\n",
              "      <td>0.444444</td>\n",
              "      <td>0.127924</td>\n",
              "      <td>1.801642</td>\n",
              "      <td>24.497492</td>\n",
              "      <td>8.400000e+00</td>\n",
              "    </tr>\n",
              "    <tr>\n",
              "      <th>2000-03-31</th>\n",
              "      <td>3107.000000</td>\n",
              "      <td>0.104741</td>\n",
              "      <td>0.010971</td>\n",
              "      <td>-0.018970</td>\n",
              "      <td>8.959376</td>\n",
              "      <td>0.076380</td>\n",
              "      <td>0.147039</td>\n",
              "      <td>-0.315789</td>\n",
              "      <td>0.245902</td>\n",
              "      <td>0.085714</td>\n",
              "      <td>...</td>\n",
              "      <td>NaN</td>\n",
              "      <td>NaN</td>\n",
              "      <td>NaN</td>\n",
              "      <td>0.106763</td>\n",
              "      <td>2.414690e-05</td>\n",
              "      <td>0.217391</td>\n",
              "      <td>0.095731</td>\n",
              "      <td>1.007548</td>\n",
              "      <td>2.234800</td>\n",
              "      <td>3.150000e+00</td>\n",
              "    </tr>\n",
              "    <tr>\n",
              "      <th>2000-04-28</th>\n",
              "      <td>2868.000000</td>\n",
              "      <td>0.012597</td>\n",
              "      <td>0.000159</td>\n",
              "      <td>-0.108316</td>\n",
              "      <td>7.116191</td>\n",
              "      <td>0.080496</td>\n",
              "      <td>0.310041</td>\n",
              "      <td>-0.076923</td>\n",
              "      <td>-0.118644</td>\n",
              "      <td>-0.187500</td>\n",
              "      <td>...</td>\n",
              "      <td>NaN</td>\n",
              "      <td>NaN</td>\n",
              "      <td>NaN</td>\n",
              "      <td>0.193484</td>\n",
              "      <td>2.485920e-05</td>\n",
              "      <td>0.600000</td>\n",
              "      <td>0.170228</td>\n",
              "      <td>1.714707</td>\n",
              "      <td>24.415433</td>\n",
              "      <td>9.130435e-01</td>\n",
              "    </tr>\n",
              "    <tr>\n",
              "      <th>2000-05-31</th>\n",
              "      <td>3226.500000</td>\n",
              "      <td>0.162976</td>\n",
              "      <td>0.026561</td>\n",
              "      <td>0.140756</td>\n",
              "      <td>8.779481</td>\n",
              "      <td>0.137188</td>\n",
              "      <td>0.249398</td>\n",
              "      <td>0.125000</td>\n",
              "      <td>-0.142857</td>\n",
              "      <td>-0.294118</td>\n",
              "      <td>...</td>\n",
              "      <td>0.073539</td>\n",
              "      <td>0.075737</td>\n",
              "      <td>2.0</td>\n",
              "      <td>0.116561</td>\n",
              "      <td>1.876960e-05</td>\n",
              "      <td>0.230769</td>\n",
              "      <td>0.109373</td>\n",
              "      <td>1.121564</td>\n",
              "      <td>7.291179</td>\n",
              "      <td>2.926231e-08</td>\n",
              "    </tr>\n",
              "    <tr>\n",
              "      <th>...</th>\n",
              "      <th>...</th>\n",
              "      <td>...</td>\n",
              "      <td>...</td>\n",
              "      <td>...</td>\n",
              "      <td>...</td>\n",
              "      <td>...</td>\n",
              "      <td>...</td>\n",
              "      <td>...</td>\n",
              "      <td>...</td>\n",
              "      <td>...</td>\n",
              "      <td>...</td>\n",
              "      <td>...</td>\n",
              "      <td>...</td>\n",
              "      <td>...</td>\n",
              "      <td>...</td>\n",
              "      <td>...</td>\n",
              "      <td>...</td>\n",
              "      <td>...</td>\n",
              "      <td>...</td>\n",
              "      <td>...</td>\n",
              "      <td>...</td>\n",
              "      <td>...</td>\n",
              "    </tr>\n",
              "    <tr>\n",
              "      <th rowspan=\"5\" valign=\"top\">93434</th>\n",
              "      <th>2016-08-31</th>\n",
              "      <td>81722.189349</td>\n",
              "      <td>0.613588</td>\n",
              "      <td>0.376491</td>\n",
              "      <td>0.230830</td>\n",
              "      <td>10.311459</td>\n",
              "      <td>0.063863</td>\n",
              "      <td>-0.098645</td>\n",
              "      <td>0.098624</td>\n",
              "      <td>0.053140</td>\n",
              "      <td>-0.024608</td>\n",
              "      <td>...</td>\n",
              "      <td>0.744023</td>\n",
              "      <td>0.860093</td>\n",
              "      <td>3.0</td>\n",
              "      <td>0.034544</td>\n",
              "      <td>2.078034e-07</td>\n",
              "      <td>0.050439</td>\n",
              "      <td>0.024276</td>\n",
              "      <td>0.907406</td>\n",
              "      <td>1.873059</td>\n",
              "      <td>5.346671e-08</td>\n",
              "    </tr>\n",
              "    <tr>\n",
              "      <th>2016-09-30</th>\n",
              "      <td>81892.803254</td>\n",
              "      <td>0.640843</td>\n",
              "      <td>0.410680</td>\n",
              "      <td>0.307585</td>\n",
              "      <td>10.417335</td>\n",
              "      <td>0.063298</td>\n",
              "      <td>-0.032050</td>\n",
              "      <td>0.002088</td>\n",
              "      <td>0.143198</td>\n",
              "      <td>-0.042000</td>\n",
              "      <td>...</td>\n",
              "      <td>0.744023</td>\n",
              "      <td>0.860093</td>\n",
              "      <td>3.0</td>\n",
              "      <td>0.033108</td>\n",
              "      <td>1.353902e-07</td>\n",
              "      <td>0.057105</td>\n",
              "      <td>0.020000</td>\n",
              "      <td>0.791762</td>\n",
              "      <td>1.556431</td>\n",
              "      <td>4.042364e-08</td>\n",
              "    </tr>\n",
              "    <tr>\n",
              "      <th>2016-10-31</th>\n",
              "      <td>89086.798334</td>\n",
              "      <td>0.621815</td>\n",
              "      <td>0.386653</td>\n",
              "      <td>0.311400</td>\n",
              "      <td>10.559307</td>\n",
              "      <td>0.063176</td>\n",
              "      <td>0.021838</td>\n",
              "      <td>0.062500</td>\n",
              "      <td>0.148325</td>\n",
              "      <td>0.043478</td>\n",
              "      <td>...</td>\n",
              "      <td>0.744023</td>\n",
              "      <td>0.860093</td>\n",
              "      <td>3.0</td>\n",
              "      <td>0.028333</td>\n",
              "      <td>8.153614e-08</td>\n",
              "      <td>0.027542</td>\n",
              "      <td>0.014948</td>\n",
              "      <td>0.859552</td>\n",
              "      <td>1.892951</td>\n",
              "      <td>4.147196e-08</td>\n",
              "    </tr>\n",
              "    <tr>\n",
              "      <th>2016-11-30</th>\n",
              "      <td>89289.053372</td>\n",
              "      <td>0.611079</td>\n",
              "      <td>0.373417</td>\n",
              "      <td>0.100218</td>\n",
              "      <td>10.691081</td>\n",
              "      <td>0.060052</td>\n",
              "      <td>0.029155</td>\n",
              "      <td>-0.009804</td>\n",
              "      <td>0.111111</td>\n",
              "      <td>0.111111</td>\n",
              "      <td>...</td>\n",
              "      <td>0.746650</td>\n",
              "      <td>0.860708</td>\n",
              "      <td>3.0</td>\n",
              "      <td>0.026600</td>\n",
              "      <td>1.237021e-07</td>\n",
              "      <td>0.023857</td>\n",
              "      <td>0.016641</td>\n",
              "      <td>0.988161</td>\n",
              "      <td>2.634311</td>\n",
              "      <td>3.531392e-08</td>\n",
              "    </tr>\n",
              "    <tr>\n",
              "      <th>2016-12-30</th>\n",
              "      <td>85732.803407</td>\n",
              "      <td>0.628519</td>\n",
              "      <td>0.395036</td>\n",
              "      <td>0.020854</td>\n",
              "      <td>10.862196</td>\n",
              "      <td>0.059797</td>\n",
              "      <td>0.015187</td>\n",
              "      <td>-0.049505</td>\n",
              "      <td>0.109890</td>\n",
              "      <td>0.147727</td>\n",
              "      <td>...</td>\n",
              "      <td>0.746650</td>\n",
              "      <td>0.860708</td>\n",
              "      <td>3.0</td>\n",
              "      <td>0.042877</td>\n",
              "      <td>8.576942e-08</td>\n",
              "      <td>0.031579</td>\n",
              "      <td>0.019838</td>\n",
              "      <td>0.629682</td>\n",
              "      <td>2.431419</td>\n",
              "      <td>3.518593e-08</td>\n",
              "    </tr>\n",
              "  </tbody>\n",
              "</table>\n",
              "<p>86702 rows × 93 columns</p>\n",
              "</div>\n",
              "      <button class=\"colab-df-convert\" onclick=\"convertToInteractive('df-80782430-c94b-412a-b609-1af59e7ab4c8')\"\n",
              "              title=\"Convert this dataframe to an interactive table.\"\n",
              "              style=\"display:none;\">\n",
              "        \n",
              "  <svg xmlns=\"http://www.w3.org/2000/svg\" height=\"24px\"viewBox=\"0 0 24 24\"\n",
              "       width=\"24px\">\n",
              "    <path d=\"M0 0h24v24H0V0z\" fill=\"none\"/>\n",
              "    <path d=\"M18.56 5.44l.94 2.06.94-2.06 2.06-.94-2.06-.94-.94-2.06-.94 2.06-2.06.94zm-11 1L8.5 8.5l.94-2.06 2.06-.94-2.06-.94L8.5 2.5l-.94 2.06-2.06.94zm10 10l.94 2.06.94-2.06 2.06-.94-2.06-.94-.94-2.06-.94 2.06-2.06.94z\"/><path d=\"M17.41 7.96l-1.37-1.37c-.4-.4-.92-.59-1.43-.59-.52 0-1.04.2-1.43.59L10.3 9.45l-7.72 7.72c-.78.78-.78 2.05 0 2.83L4 21.41c.39.39.9.59 1.41.59.51 0 1.02-.2 1.41-.59l7.78-7.78 2.81-2.81c.8-.78.8-2.07 0-2.86zM5.41 20L4 18.59l7.72-7.72 1.47 1.35L5.41 20z\"/>\n",
              "  </svg>\n",
              "      </button>\n",
              "      \n",
              "  <style>\n",
              "    .colab-df-container {\n",
              "      display:flex;\n",
              "      flex-wrap:wrap;\n",
              "      gap: 12px;\n",
              "    }\n",
              "\n",
              "    .colab-df-convert {\n",
              "      background-color: #E8F0FE;\n",
              "      border: none;\n",
              "      border-radius: 50%;\n",
              "      cursor: pointer;\n",
              "      display: none;\n",
              "      fill: #1967D2;\n",
              "      height: 32px;\n",
              "      padding: 0 0 0 0;\n",
              "      width: 32px;\n",
              "    }\n",
              "\n",
              "    .colab-df-convert:hover {\n",
              "      background-color: #E2EBFA;\n",
              "      box-shadow: 0px 1px 2px rgba(60, 64, 67, 0.3), 0px 1px 3px 1px rgba(60, 64, 67, 0.15);\n",
              "      fill: #174EA6;\n",
              "    }\n",
              "\n",
              "    [theme=dark] .colab-df-convert {\n",
              "      background-color: #3B4455;\n",
              "      fill: #D2E3FC;\n",
              "    }\n",
              "\n",
              "    [theme=dark] .colab-df-convert:hover {\n",
              "      background-color: #434B5C;\n",
              "      box-shadow: 0px 1px 3px 1px rgba(0, 0, 0, 0.15);\n",
              "      filter: drop-shadow(0px 1px 2px rgba(0, 0, 0, 0.3));\n",
              "      fill: #FFFFFF;\n",
              "    }\n",
              "  </style>\n",
              "\n",
              "      <script>\n",
              "        const buttonEl =\n",
              "          document.querySelector('#df-80782430-c94b-412a-b609-1af59e7ab4c8 button.colab-df-convert');\n",
              "        buttonEl.style.display =\n",
              "          google.colab.kernel.accessAllowed ? 'block' : 'none';\n",
              "\n",
              "        async function convertToInteractive(key) {\n",
              "          const element = document.querySelector('#df-80782430-c94b-412a-b609-1af59e7ab4c8');\n",
              "          const dataTable =\n",
              "            await google.colab.kernel.invokeFunction('convertToInteractive',\n",
              "                                                     [key], {});\n",
              "          if (!dataTable) return;\n",
              "\n",
              "          const docLinkHtml = 'Like what you see? Visit the ' +\n",
              "            '<a target=\"_blank\" href=https://colab.research.google.com/notebooks/data_table.ipynb>data table notebook</a>'\n",
              "            + ' to learn more about interactive tables.';\n",
              "          element.innerHTML = '';\n",
              "          dataTable['output_type'] = 'display_data';\n",
              "          await google.colab.output.renderOutput(dataTable, element);\n",
              "          const docLink = document.createElement('div');\n",
              "          docLink.innerHTML = docLinkHtml;\n",
              "          element.appendChild(docLink);\n",
              "        }\n",
              "      </script>\n",
              "    </div>\n",
              "  </div>\n",
              "  "
            ]
          },
          "metadata": {},
          "execution_count": 32
        }
      ]
    },
    {
      "cell_type": "code",
      "source": [
        "df_features.dropna(axis=0).shape"
      ],
      "metadata": {
        "colab": {
          "base_uri": "https://localhost:8080/"
        },
        "id": "ZDBSFd0xeW03",
        "outputId": "a8ac1936-9282-4c8d-ec1a-e9a8d45d9d15"
      },
      "execution_count": null,
      "outputs": [
        {
          "output_type": "execute_result",
          "data": {
            "text/plain": [
              "(7659, 93)"
            ]
          },
          "metadata": {},
          "execution_count": 33
        }
      ]
    },
    {
      "cell_type": "code",
      "source": [
        "df_features.dropna(axis=1).shape"
      ],
      "metadata": {
        "colab": {
          "base_uri": "https://localhost:8080/"
        },
        "id": "oDDo4jQVerpF",
        "outputId": "1290c992-bc0a-45e3-f8b7-c8299155fe45"
      },
      "execution_count": null,
      "outputs": [
        {
          "output_type": "execute_result",
          "data": {
            "text/plain": [
              "(86702, 0)"
            ]
          },
          "metadata": {},
          "execution_count": 34
        }
      ]
    },
    {
      "cell_type": "code",
      "source": [
        "df_features.dropna(how='all', axis=0).shape"
      ],
      "metadata": {
        "colab": {
          "base_uri": "https://localhost:8080/"
        },
        "id": "nBpAbni6evhT",
        "outputId": "b3612134-b2a5-4115-d158-aa5e1aeafc73"
      },
      "execution_count": null,
      "outputs": [
        {
          "output_type": "execute_result",
          "data": {
            "text/plain": [
              "(86702, 93)"
            ]
          },
          "metadata": {},
          "execution_count": 35
        }
      ]
    },
    {
      "cell_type": "code",
      "source": [
        "sr_medians = df_features.median()\n",
        "sr_medians.head()"
      ],
      "metadata": {
        "colab": {
          "base_uri": "https://localhost:8080/"
        },
        "id": "Mebkt5ZxbQ0z",
        "outputId": "258b26c7-5b94-4b83-99f6-29efa5fea8d8"
      },
      "execution_count": null,
      "outputs": [
        {
          "output_type": "execute_result",
          "data": {
            "text/plain": [
              "mvel1     272343.477425\n",
              "beta           0.923606\n",
              "betasq         0.854987\n",
              "chmom         -0.008020\n",
              "dolvol        12.391936\n",
              "dtype: float64"
            ]
          },
          "metadata": {},
          "execution_count": 36
        }
      ]
    },
    {
      "cell_type": "code",
      "source": [
        "df_features = df_features.fillna(sr_medians)"
      ],
      "metadata": {
        "id": "0qG1s009ZLUP"
      },
      "execution_count": null,
      "outputs": []
    },
    {
      "cell_type": "code",
      "source": [
        "df_features.notna().mean().mean()"
      ],
      "metadata": {
        "colab": {
          "base_uri": "https://localhost:8080/"
        },
        "id": "jAuJDtvHbZ_A",
        "outputId": "94c65f67-5fed-4f4e-9f6d-78109349a0fa"
      },
      "execution_count": null,
      "outputs": [
        {
          "output_type": "execute_result",
          "data": {
            "text/plain": [
              "1.0"
            ]
          },
          "metadata": {},
          "execution_count": 38
        }
      ]
    },
    {
      "cell_type": "markdown",
      "source": [
        "### Ensure that returns and characteristics cover the same firms and periods"
      ],
      "metadata": {
        "id": "0_CG0IhhbdN0"
      }
    },
    {
      "cell_type": "code",
      "source": [
        "df_returns.index.shape"
      ],
      "metadata": {
        "colab": {
          "base_uri": "https://localhost:8080/"
        },
        "id": "7Ed70V9ZbpkA",
        "outputId": "a0a1de7c-30fb-4bac-99d0-620bb068c2a5"
      },
      "execution_count": null,
      "outputs": [
        {
          "output_type": "execute_result",
          "data": {
            "text/plain": [
              "(60407,)"
            ]
          },
          "metadata": {},
          "execution_count": 39
        }
      ]
    },
    {
      "cell_type": "code",
      "source": [
        "df_features.index.shape"
      ],
      "metadata": {
        "colab": {
          "base_uri": "https://localhost:8080/"
        },
        "id": "ejWTZEFubrmt",
        "outputId": "db0d3e3d-b910-4563-abfc-609f37322b61"
      },
      "execution_count": null,
      "outputs": [
        {
          "output_type": "execute_result",
          "data": {
            "text/plain": [
              "(86702,)"
            ]
          },
          "metadata": {},
          "execution_count": 40
        }
      ]
    },
    {
      "cell_type": "code",
      "source": [
        "df_returns.index"
      ],
      "metadata": {
        "colab": {
          "base_uri": "https://localhost:8080/"
        },
        "id": "UmjmD27EfWa1",
        "outputId": "03adc769-1d25-46da-8485-27a233dd24dc"
      },
      "execution_count": null,
      "outputs": [
        {
          "output_type": "execute_result",
          "data": {
            "text/plain": [
              "MultiIndex([(10080, '2000-01-31'),\n",
              "            (10080, '2000-02-29'),\n",
              "            (10080, '2000-03-31'),\n",
              "            (10080, '2000-04-28'),\n",
              "            (10080, '2000-05-31'),\n",
              "            (10080, '2000-06-30'),\n",
              "            (10080, '2000-07-31'),\n",
              "            (10080, '2000-08-31'),\n",
              "            (10080, '2000-09-29'),\n",
              "            (10080, '2000-10-31'),\n",
              "            ...\n",
              "            (86739, '2008-10-31'),\n",
              "            (86739, '2008-11-28'),\n",
              "            (86739, '2008-12-31'),\n",
              "            (86739, '2009-01-30'),\n",
              "            (86739, '2009-02-27'),\n",
              "            (86739, '2009-03-31'),\n",
              "            (86739, '2009-04-30'),\n",
              "            (86739, '2009-05-29'),\n",
              "            (86739, '2009-06-30'),\n",
              "            (86739, '2009-07-31')],\n",
              "           names=['permno', 'date'], length=60407)"
            ]
          },
          "metadata": {},
          "execution_count": 41
        }
      ]
    },
    {
      "cell_type": "code",
      "source": [
        "df_features.index"
      ],
      "metadata": {
        "colab": {
          "base_uri": "https://localhost:8080/"
        },
        "id": "nTglAjZUfhQv",
        "outputId": "83947bb8-6faf-4c7c-e432-2ae89231cb13"
      },
      "execution_count": null,
      "outputs": [
        {
          "output_type": "execute_result",
          "data": {
            "text/plain": [
              "MultiIndex([(10080, '2000-01-31'),\n",
              "            (10080, '2000-02-29'),\n",
              "            (10080, '2000-03-31'),\n",
              "            (10080, '2000-04-28'),\n",
              "            (10080, '2000-05-31'),\n",
              "            (10080, '2000-06-30'),\n",
              "            (10080, '2000-07-31'),\n",
              "            (10080, '2000-08-31'),\n",
              "            (10080, '2000-09-29'),\n",
              "            (10080, '2000-10-31'),\n",
              "            ...\n",
              "            (93434, '2016-03-31'),\n",
              "            (93434, '2016-04-29'),\n",
              "            (93434, '2016-05-31'),\n",
              "            (93434, '2016-06-30'),\n",
              "            (93434, '2016-07-29'),\n",
              "            (93434, '2016-08-31'),\n",
              "            (93434, '2016-09-30'),\n",
              "            (93434, '2016-10-31'),\n",
              "            (93434, '2016-11-30'),\n",
              "            (93434, '2016-12-30')],\n",
              "           names=['permno', 'date'], length=86702)"
            ]
          },
          "metadata": {},
          "execution_count": 42
        }
      ]
    },
    {
      "cell_type": "code",
      "source": [
        "common_index = df_returns.index.intersection(df_features.index)\n",
        "common_index"
      ],
      "metadata": {
        "id": "SyA_v276X_FK",
        "colab": {
          "base_uri": "https://localhost:8080/"
        },
        "outputId": "0df1d0f8-2464-4fcd-df36-194bc3e122fa"
      },
      "execution_count": null,
      "outputs": [
        {
          "output_type": "execute_result",
          "data": {
            "text/plain": [
              "MultiIndex([(10080, '2000-01-31'),\n",
              "            (10080, '2000-02-29'),\n",
              "            (10080, '2000-03-31'),\n",
              "            (10080, '2000-04-28'),\n",
              "            (10080, '2000-05-31'),\n",
              "            (10080, '2000-06-30'),\n",
              "            (10080, '2000-07-31'),\n",
              "            (10080, '2000-08-31'),\n",
              "            (10080, '2000-09-29'),\n",
              "            (10080, '2000-10-31'),\n",
              "            ...\n",
              "            (86739, '2008-10-31'),\n",
              "            (86739, '2008-11-28'),\n",
              "            (86739, '2008-12-31'),\n",
              "            (86739, '2009-01-30'),\n",
              "            (86739, '2009-02-27'),\n",
              "            (86739, '2009-03-31'),\n",
              "            (86739, '2009-04-30'),\n",
              "            (86739, '2009-05-29'),\n",
              "            (86739, '2009-06-30'),\n",
              "            (86739, '2009-07-31')],\n",
              "           names=['permno', 'date'], length=58487)"
            ]
          },
          "metadata": {},
          "execution_count": 43
        }
      ]
    },
    {
      "cell_type": "code",
      "source": [
        "common_index.shape"
      ],
      "metadata": {
        "colab": {
          "base_uri": "https://localhost:8080/"
        },
        "id": "XjK2AviBYBNF",
        "outputId": "69aa9596-5565-47c1-b9d7-a98eb1783dde"
      },
      "execution_count": null,
      "outputs": [
        {
          "output_type": "execute_result",
          "data": {
            "text/plain": [
              "(58487,)"
            ]
          },
          "metadata": {},
          "execution_count": 44
        }
      ]
    },
    {
      "cell_type": "code",
      "source": [
        "df_returns = df_returns.loc[common_index]\n",
        "df_features = df_features.loc[common_index]"
      ],
      "metadata": {
        "id": "bghMKvIIbytQ"
      },
      "execution_count": null,
      "outputs": []
    },
    {
      "cell_type": "markdown",
      "source": [
        "# What characteristics explain stock returns?\n",
        "\n",
        "What determines the differences between average stock returns? This perspective implies that we do not care much about the time-variation. If this were a linear regression model, you would estimate\n",
        "\n",
        "$$\n",
        "r_i = X_i\\beta + e_i\n",
        "$$\n",
        "\n",
        "where $r_i$ is the average return over the entire observation sample. Similarly, $X_i$ is the average characteristic of firm $i$."
      ],
      "metadata": {
        "id": "ircVunJBSuwg"
      }
    },
    {
      "cell_type": "code",
      "source": [
        "import statsmodels.api as sm"
      ],
      "metadata": {
        "id": "quQApuSVctHN"
      },
      "execution_count": null,
      "outputs": []
    },
    {
      "cell_type": "code",
      "source": [
        "df_returns"
      ],
      "metadata": {
        "colab": {
          "base_uri": "https://localhost:8080/",
          "height": 455
        },
        "id": "gcMWYtKegjaS",
        "outputId": "61c08775-c8f9-4e15-9067-3f0e48bd90b6"
      },
      "execution_count": null,
      "outputs": [
        {
          "output_type": "execute_result",
          "data": {
            "text/plain": [
              "                        RET\n",
              "permno date                \n",
              "10080  2000-01-31  0.583333\n",
              "       2000-02-29 -0.315789\n",
              "       2000-03-31 -0.076923\n",
              "       2000-04-28  0.125000\n",
              "       2000-05-31 -0.018519\n",
              "...                     ...\n",
              "86739  2009-03-31  0.010590\n",
              "       2009-04-30  0.236527\n",
              "       2009-05-29  0.566586\n",
              "       2009-06-30  0.016229\n",
              "       2009-07-31  0.000000\n",
              "\n",
              "[58487 rows x 1 columns]"
            ],
            "text/html": [
              "\n",
              "  <div id=\"df-5fb9a01a-2117-48fa-bb86-a626e07897b9\">\n",
              "    <div class=\"colab-df-container\">\n",
              "      <div>\n",
              "<style scoped>\n",
              "    .dataframe tbody tr th:only-of-type {\n",
              "        vertical-align: middle;\n",
              "    }\n",
              "\n",
              "    .dataframe tbody tr th {\n",
              "        vertical-align: top;\n",
              "    }\n",
              "\n",
              "    .dataframe thead th {\n",
              "        text-align: right;\n",
              "    }\n",
              "</style>\n",
              "<table border=\"1\" class=\"dataframe\">\n",
              "  <thead>\n",
              "    <tr style=\"text-align: right;\">\n",
              "      <th></th>\n",
              "      <th></th>\n",
              "      <th>RET</th>\n",
              "    </tr>\n",
              "    <tr>\n",
              "      <th>permno</th>\n",
              "      <th>date</th>\n",
              "      <th></th>\n",
              "    </tr>\n",
              "  </thead>\n",
              "  <tbody>\n",
              "    <tr>\n",
              "      <th rowspan=\"5\" valign=\"top\">10080</th>\n",
              "      <th>2000-01-31</th>\n",
              "      <td>0.583333</td>\n",
              "    </tr>\n",
              "    <tr>\n",
              "      <th>2000-02-29</th>\n",
              "      <td>-0.315789</td>\n",
              "    </tr>\n",
              "    <tr>\n",
              "      <th>2000-03-31</th>\n",
              "      <td>-0.076923</td>\n",
              "    </tr>\n",
              "    <tr>\n",
              "      <th>2000-04-28</th>\n",
              "      <td>0.125000</td>\n",
              "    </tr>\n",
              "    <tr>\n",
              "      <th>2000-05-31</th>\n",
              "      <td>-0.018519</td>\n",
              "    </tr>\n",
              "    <tr>\n",
              "      <th>...</th>\n",
              "      <th>...</th>\n",
              "      <td>...</td>\n",
              "    </tr>\n",
              "    <tr>\n",
              "      <th rowspan=\"5\" valign=\"top\">86739</th>\n",
              "      <th>2009-03-31</th>\n",
              "      <td>0.010590</td>\n",
              "    </tr>\n",
              "    <tr>\n",
              "      <th>2009-04-30</th>\n",
              "      <td>0.236527</td>\n",
              "    </tr>\n",
              "    <tr>\n",
              "      <th>2009-05-29</th>\n",
              "      <td>0.566586</td>\n",
              "    </tr>\n",
              "    <tr>\n",
              "      <th>2009-06-30</th>\n",
              "      <td>0.016229</td>\n",
              "    </tr>\n",
              "    <tr>\n",
              "      <th>2009-07-31</th>\n",
              "      <td>0.000000</td>\n",
              "    </tr>\n",
              "  </tbody>\n",
              "</table>\n",
              "<p>58487 rows × 1 columns</p>\n",
              "</div>\n",
              "      <button class=\"colab-df-convert\" onclick=\"convertToInteractive('df-5fb9a01a-2117-48fa-bb86-a626e07897b9')\"\n",
              "              title=\"Convert this dataframe to an interactive table.\"\n",
              "              style=\"display:none;\">\n",
              "        \n",
              "  <svg xmlns=\"http://www.w3.org/2000/svg\" height=\"24px\"viewBox=\"0 0 24 24\"\n",
              "       width=\"24px\">\n",
              "    <path d=\"M0 0h24v24H0V0z\" fill=\"none\"/>\n",
              "    <path d=\"M18.56 5.44l.94 2.06.94-2.06 2.06-.94-2.06-.94-.94-2.06-.94 2.06-2.06.94zm-11 1L8.5 8.5l.94-2.06 2.06-.94-2.06-.94L8.5 2.5l-.94 2.06-2.06.94zm10 10l.94 2.06.94-2.06 2.06-.94-2.06-.94-.94-2.06-.94 2.06-2.06.94z\"/><path d=\"M17.41 7.96l-1.37-1.37c-.4-.4-.92-.59-1.43-.59-.52 0-1.04.2-1.43.59L10.3 9.45l-7.72 7.72c-.78.78-.78 2.05 0 2.83L4 21.41c.39.39.9.59 1.41.59.51 0 1.02-.2 1.41-.59l7.78-7.78 2.81-2.81c.8-.78.8-2.07 0-2.86zM5.41 20L4 18.59l7.72-7.72 1.47 1.35L5.41 20z\"/>\n",
              "  </svg>\n",
              "      </button>\n",
              "      \n",
              "  <style>\n",
              "    .colab-df-container {\n",
              "      display:flex;\n",
              "      flex-wrap:wrap;\n",
              "      gap: 12px;\n",
              "    }\n",
              "\n",
              "    .colab-df-convert {\n",
              "      background-color: #E8F0FE;\n",
              "      border: none;\n",
              "      border-radius: 50%;\n",
              "      cursor: pointer;\n",
              "      display: none;\n",
              "      fill: #1967D2;\n",
              "      height: 32px;\n",
              "      padding: 0 0 0 0;\n",
              "      width: 32px;\n",
              "    }\n",
              "\n",
              "    .colab-df-convert:hover {\n",
              "      background-color: #E2EBFA;\n",
              "      box-shadow: 0px 1px 2px rgba(60, 64, 67, 0.3), 0px 1px 3px 1px rgba(60, 64, 67, 0.15);\n",
              "      fill: #174EA6;\n",
              "    }\n",
              "\n",
              "    [theme=dark] .colab-df-convert {\n",
              "      background-color: #3B4455;\n",
              "      fill: #D2E3FC;\n",
              "    }\n",
              "\n",
              "    [theme=dark] .colab-df-convert:hover {\n",
              "      background-color: #434B5C;\n",
              "      box-shadow: 0px 1px 3px 1px rgba(0, 0, 0, 0.15);\n",
              "      filter: drop-shadow(0px 1px 2px rgba(0, 0, 0, 0.3));\n",
              "      fill: #FFFFFF;\n",
              "    }\n",
              "  </style>\n",
              "\n",
              "      <script>\n",
              "        const buttonEl =\n",
              "          document.querySelector('#df-5fb9a01a-2117-48fa-bb86-a626e07897b9 button.colab-df-convert');\n",
              "        buttonEl.style.display =\n",
              "          google.colab.kernel.accessAllowed ? 'block' : 'none';\n",
              "\n",
              "        async function convertToInteractive(key) {\n",
              "          const element = document.querySelector('#df-5fb9a01a-2117-48fa-bb86-a626e07897b9');\n",
              "          const dataTable =\n",
              "            await google.colab.kernel.invokeFunction('convertToInteractive',\n",
              "                                                     [key], {});\n",
              "          if (!dataTable) return;\n",
              "\n",
              "          const docLinkHtml = 'Like what you see? Visit the ' +\n",
              "            '<a target=\"_blank\" href=https://colab.research.google.com/notebooks/data_table.ipynb>data table notebook</a>'\n",
              "            + ' to learn more about interactive tables.';\n",
              "          element.innerHTML = '';\n",
              "          dataTable['output_type'] = 'display_data';\n",
              "          await google.colab.output.renderOutput(dataTable, element);\n",
              "          const docLink = document.createElement('div');\n",
              "          docLink.innerHTML = docLinkHtml;\n",
              "          element.appendChild(docLink);\n",
              "        }\n",
              "      </script>\n",
              "    </div>\n",
              "  </div>\n",
              "  "
            ]
          },
          "metadata": {},
          "execution_count": 47
        }
      ]
    },
    {
      "cell_type": "code",
      "source": [
        "sr_targets = df_returns.groupby('permno').mean()\n",
        "sr_targets.head()"
      ],
      "metadata": {
        "colab": {
          "base_uri": "https://localhost:8080/",
          "height": 237
        },
        "id": "NDQXkqROcxIs",
        "outputId": "c40326a1-e95b-448a-9a3d-62d1edae1cea"
      },
      "execution_count": null,
      "outputs": [
        {
          "output_type": "execute_result",
          "data": {
            "text/plain": [
              "             RET\n",
              "permno          \n",
              "10080   0.029582\n",
              "10087   0.170448\n",
              "10100   0.008445\n",
              "10149   0.031076\n",
              "10200   0.030841"
            ],
            "text/html": [
              "\n",
              "  <div id=\"df-c32d8c24-42d0-4962-8ad0-bcf519658543\">\n",
              "    <div class=\"colab-df-container\">\n",
              "      <div>\n",
              "<style scoped>\n",
              "    .dataframe tbody tr th:only-of-type {\n",
              "        vertical-align: middle;\n",
              "    }\n",
              "\n",
              "    .dataframe tbody tr th {\n",
              "        vertical-align: top;\n",
              "    }\n",
              "\n",
              "    .dataframe thead th {\n",
              "        text-align: right;\n",
              "    }\n",
              "</style>\n",
              "<table border=\"1\" class=\"dataframe\">\n",
              "  <thead>\n",
              "    <tr style=\"text-align: right;\">\n",
              "      <th></th>\n",
              "      <th>RET</th>\n",
              "    </tr>\n",
              "    <tr>\n",
              "      <th>permno</th>\n",
              "      <th></th>\n",
              "    </tr>\n",
              "  </thead>\n",
              "  <tbody>\n",
              "    <tr>\n",
              "      <th>10080</th>\n",
              "      <td>0.029582</td>\n",
              "    </tr>\n",
              "    <tr>\n",
              "      <th>10087</th>\n",
              "      <td>0.170448</td>\n",
              "    </tr>\n",
              "    <tr>\n",
              "      <th>10100</th>\n",
              "      <td>0.008445</td>\n",
              "    </tr>\n",
              "    <tr>\n",
              "      <th>10149</th>\n",
              "      <td>0.031076</td>\n",
              "    </tr>\n",
              "    <tr>\n",
              "      <th>10200</th>\n",
              "      <td>0.030841</td>\n",
              "    </tr>\n",
              "  </tbody>\n",
              "</table>\n",
              "</div>\n",
              "      <button class=\"colab-df-convert\" onclick=\"convertToInteractive('df-c32d8c24-42d0-4962-8ad0-bcf519658543')\"\n",
              "              title=\"Convert this dataframe to an interactive table.\"\n",
              "              style=\"display:none;\">\n",
              "        \n",
              "  <svg xmlns=\"http://www.w3.org/2000/svg\" height=\"24px\"viewBox=\"0 0 24 24\"\n",
              "       width=\"24px\">\n",
              "    <path d=\"M0 0h24v24H0V0z\" fill=\"none\"/>\n",
              "    <path d=\"M18.56 5.44l.94 2.06.94-2.06 2.06-.94-2.06-.94-.94-2.06-.94 2.06-2.06.94zm-11 1L8.5 8.5l.94-2.06 2.06-.94-2.06-.94L8.5 2.5l-.94 2.06-2.06.94zm10 10l.94 2.06.94-2.06 2.06-.94-2.06-.94-.94-2.06-.94 2.06-2.06.94z\"/><path d=\"M17.41 7.96l-1.37-1.37c-.4-.4-.92-.59-1.43-.59-.52 0-1.04.2-1.43.59L10.3 9.45l-7.72 7.72c-.78.78-.78 2.05 0 2.83L4 21.41c.39.39.9.59 1.41.59.51 0 1.02-.2 1.41-.59l7.78-7.78 2.81-2.81c.8-.78.8-2.07 0-2.86zM5.41 20L4 18.59l7.72-7.72 1.47 1.35L5.41 20z\"/>\n",
              "  </svg>\n",
              "      </button>\n",
              "      \n",
              "  <style>\n",
              "    .colab-df-container {\n",
              "      display:flex;\n",
              "      flex-wrap:wrap;\n",
              "      gap: 12px;\n",
              "    }\n",
              "\n",
              "    .colab-df-convert {\n",
              "      background-color: #E8F0FE;\n",
              "      border: none;\n",
              "      border-radius: 50%;\n",
              "      cursor: pointer;\n",
              "      display: none;\n",
              "      fill: #1967D2;\n",
              "      height: 32px;\n",
              "      padding: 0 0 0 0;\n",
              "      width: 32px;\n",
              "    }\n",
              "\n",
              "    .colab-df-convert:hover {\n",
              "      background-color: #E2EBFA;\n",
              "      box-shadow: 0px 1px 2px rgba(60, 64, 67, 0.3), 0px 1px 3px 1px rgba(60, 64, 67, 0.15);\n",
              "      fill: #174EA6;\n",
              "    }\n",
              "\n",
              "    [theme=dark] .colab-df-convert {\n",
              "      background-color: #3B4455;\n",
              "      fill: #D2E3FC;\n",
              "    }\n",
              "\n",
              "    [theme=dark] .colab-df-convert:hover {\n",
              "      background-color: #434B5C;\n",
              "      box-shadow: 0px 1px 3px 1px rgba(0, 0, 0, 0.15);\n",
              "      filter: drop-shadow(0px 1px 2px rgba(0, 0, 0, 0.3));\n",
              "      fill: #FFFFFF;\n",
              "    }\n",
              "  </style>\n",
              "\n",
              "      <script>\n",
              "        const buttonEl =\n",
              "          document.querySelector('#df-c32d8c24-42d0-4962-8ad0-bcf519658543 button.colab-df-convert');\n",
              "        buttonEl.style.display =\n",
              "          google.colab.kernel.accessAllowed ? 'block' : 'none';\n",
              "\n",
              "        async function convertToInteractive(key) {\n",
              "          const element = document.querySelector('#df-c32d8c24-42d0-4962-8ad0-bcf519658543');\n",
              "          const dataTable =\n",
              "            await google.colab.kernel.invokeFunction('convertToInteractive',\n",
              "                                                     [key], {});\n",
              "          if (!dataTable) return;\n",
              "\n",
              "          const docLinkHtml = 'Like what you see? Visit the ' +\n",
              "            '<a target=\"_blank\" href=https://colab.research.google.com/notebooks/data_table.ipynb>data table notebook</a>'\n",
              "            + ' to learn more about interactive tables.';\n",
              "          element.innerHTML = '';\n",
              "          dataTable['output_type'] = 'display_data';\n",
              "          await google.colab.output.renderOutput(dataTable, element);\n",
              "          const docLink = document.createElement('div');\n",
              "          docLink.innerHTML = docLinkHtml;\n",
              "          element.appendChild(docLink);\n",
              "        }\n",
              "      </script>\n",
              "    </div>\n",
              "  </div>\n",
              "  "
            ]
          },
          "metadata": {},
          "execution_count": 48
        }
      ]
    },
    {
      "cell_type": "code",
      "source": [
        "df_features = df_features.groupby('permno').mean()\n",
        "df_features.head()"
      ],
      "metadata": {
        "colab": {
          "base_uri": "https://localhost:8080/",
          "height": 267
        },
        "id": "cKR9WImTc4lf",
        "outputId": "a8dda6c9-5da7-4c0b-f498-64278c67bf40"
      },
      "execution_count": null,
      "outputs": [
        {
          "output_type": "execute_result",
          "data": {
            "text/plain": [
              "                mvel1      beta    betasq     chmom     dolvol   idiovol  \\\n",
              "permno                                                                     \n",
              "10080     3688.593094  0.092230  0.016033  0.032801   6.125819  0.133591   \n",
              "10087    26031.600000  0.767602  0.602702  0.497971   8.191371  0.084836   \n",
              "10100     7375.633070  0.358533  0.250630 -0.023819   6.352762  0.125828   \n",
              "10149    85962.284264  0.553166  0.307739  0.115118  10.452021  0.051363   \n",
              "10200   256325.547538  1.045662  1.584884 -0.013792  12.125753  0.085345   \n",
              "\n",
              "          indmom     mom1m     mom6m    mom12m  ...    stdacc     stdcf  \\\n",
              "permno                                          ...                       \n",
              "10080   0.031572  0.034149  0.088863  0.160965  ...  0.075523  0.083053   \n",
              "10087   0.918286  0.075737  0.098242 -0.286399  ...  0.157823  0.167513   \n",
              "10100   0.149743  0.002619  0.017591  0.057371  ...  1.300519  4.141135   \n",
              "10149   0.134059  0.028122  0.071294  0.051525  ...  0.143748  0.171573   \n",
              "10200   0.156561  0.029119  0.127696  0.301086  ...  0.491527  1.395267   \n",
              "\n",
              "              ms  baspread           ill    maxret    retvol  std_dolvol  \\\n",
              "permno                                                                     \n",
              "10080   3.347826  0.076963  4.900416e-05  0.163908  0.062857    1.328447   \n",
              "10087   3.600000  0.075571  9.923743e-06  0.226957  0.084879    1.290583   \n",
              "10100   1.830189  0.090493  6.485417e-05  0.185270  0.074136    1.327780   \n",
              "10149   2.000000  0.026767  3.447194e-07  0.071451  0.027070    1.122640   \n",
              "10200   4.098039  0.059841  8.858787e-08  0.090149  0.038390    0.633335   \n",
              "\n",
              "        std_turn     zerotrade  \n",
              "permno                          \n",
              "10080   2.906018  9.618213e+00  \n",
              "10087   3.822246  3.055376e+00  \n",
              "10100   2.137310  6.350926e+00  \n",
              "10149   3.939814  3.243714e-01  \n",
              "10200   6.566033  2.602919e-08  \n",
              "\n",
              "[5 rows x 93 columns]"
            ],
            "text/html": [
              "\n",
              "  <div id=\"df-3c918643-5f99-4422-b3fa-36554a88daf7\">\n",
              "    <div class=\"colab-df-container\">\n",
              "      <div>\n",
              "<style scoped>\n",
              "    .dataframe tbody tr th:only-of-type {\n",
              "        vertical-align: middle;\n",
              "    }\n",
              "\n",
              "    .dataframe tbody tr th {\n",
              "        vertical-align: top;\n",
              "    }\n",
              "\n",
              "    .dataframe thead th {\n",
              "        text-align: right;\n",
              "    }\n",
              "</style>\n",
              "<table border=\"1\" class=\"dataframe\">\n",
              "  <thead>\n",
              "    <tr style=\"text-align: right;\">\n",
              "      <th></th>\n",
              "      <th>mvel1</th>\n",
              "      <th>beta</th>\n",
              "      <th>betasq</th>\n",
              "      <th>chmom</th>\n",
              "      <th>dolvol</th>\n",
              "      <th>idiovol</th>\n",
              "      <th>indmom</th>\n",
              "      <th>mom1m</th>\n",
              "      <th>mom6m</th>\n",
              "      <th>mom12m</th>\n",
              "      <th>...</th>\n",
              "      <th>stdacc</th>\n",
              "      <th>stdcf</th>\n",
              "      <th>ms</th>\n",
              "      <th>baspread</th>\n",
              "      <th>ill</th>\n",
              "      <th>maxret</th>\n",
              "      <th>retvol</th>\n",
              "      <th>std_dolvol</th>\n",
              "      <th>std_turn</th>\n",
              "      <th>zerotrade</th>\n",
              "    </tr>\n",
              "    <tr>\n",
              "      <th>permno</th>\n",
              "      <th></th>\n",
              "      <th></th>\n",
              "      <th></th>\n",
              "      <th></th>\n",
              "      <th></th>\n",
              "      <th></th>\n",
              "      <th></th>\n",
              "      <th></th>\n",
              "      <th></th>\n",
              "      <th></th>\n",
              "      <th></th>\n",
              "      <th></th>\n",
              "      <th></th>\n",
              "      <th></th>\n",
              "      <th></th>\n",
              "      <th></th>\n",
              "      <th></th>\n",
              "      <th></th>\n",
              "      <th></th>\n",
              "      <th></th>\n",
              "      <th></th>\n",
              "    </tr>\n",
              "  </thead>\n",
              "  <tbody>\n",
              "    <tr>\n",
              "      <th>10080</th>\n",
              "      <td>3688.593094</td>\n",
              "      <td>0.092230</td>\n",
              "      <td>0.016033</td>\n",
              "      <td>0.032801</td>\n",
              "      <td>6.125819</td>\n",
              "      <td>0.133591</td>\n",
              "      <td>0.031572</td>\n",
              "      <td>0.034149</td>\n",
              "      <td>0.088863</td>\n",
              "      <td>0.160965</td>\n",
              "      <td>...</td>\n",
              "      <td>0.075523</td>\n",
              "      <td>0.083053</td>\n",
              "      <td>3.347826</td>\n",
              "      <td>0.076963</td>\n",
              "      <td>4.900416e-05</td>\n",
              "      <td>0.163908</td>\n",
              "      <td>0.062857</td>\n",
              "      <td>1.328447</td>\n",
              "      <td>2.906018</td>\n",
              "      <td>9.618213e+00</td>\n",
              "    </tr>\n",
              "    <tr>\n",
              "      <th>10087</th>\n",
              "      <td>26031.600000</td>\n",
              "      <td>0.767602</td>\n",
              "      <td>0.602702</td>\n",
              "      <td>0.497971</td>\n",
              "      <td>8.191371</td>\n",
              "      <td>0.084836</td>\n",
              "      <td>0.918286</td>\n",
              "      <td>0.075737</td>\n",
              "      <td>0.098242</td>\n",
              "      <td>-0.286399</td>\n",
              "      <td>...</td>\n",
              "      <td>0.157823</td>\n",
              "      <td>0.167513</td>\n",
              "      <td>3.600000</td>\n",
              "      <td>0.075571</td>\n",
              "      <td>9.923743e-06</td>\n",
              "      <td>0.226957</td>\n",
              "      <td>0.084879</td>\n",
              "      <td>1.290583</td>\n",
              "      <td>3.822246</td>\n",
              "      <td>3.055376e+00</td>\n",
              "    </tr>\n",
              "    <tr>\n",
              "      <th>10100</th>\n",
              "      <td>7375.633070</td>\n",
              "      <td>0.358533</td>\n",
              "      <td>0.250630</td>\n",
              "      <td>-0.023819</td>\n",
              "      <td>6.352762</td>\n",
              "      <td>0.125828</td>\n",
              "      <td>0.149743</td>\n",
              "      <td>0.002619</td>\n",
              "      <td>0.017591</td>\n",
              "      <td>0.057371</td>\n",
              "      <td>...</td>\n",
              "      <td>1.300519</td>\n",
              "      <td>4.141135</td>\n",
              "      <td>1.830189</td>\n",
              "      <td>0.090493</td>\n",
              "      <td>6.485417e-05</td>\n",
              "      <td>0.185270</td>\n",
              "      <td>0.074136</td>\n",
              "      <td>1.327780</td>\n",
              "      <td>2.137310</td>\n",
              "      <td>6.350926e+00</td>\n",
              "    </tr>\n",
              "    <tr>\n",
              "      <th>10149</th>\n",
              "      <td>85962.284264</td>\n",
              "      <td>0.553166</td>\n",
              "      <td>0.307739</td>\n",
              "      <td>0.115118</td>\n",
              "      <td>10.452021</td>\n",
              "      <td>0.051363</td>\n",
              "      <td>0.134059</td>\n",
              "      <td>0.028122</td>\n",
              "      <td>0.071294</td>\n",
              "      <td>0.051525</td>\n",
              "      <td>...</td>\n",
              "      <td>0.143748</td>\n",
              "      <td>0.171573</td>\n",
              "      <td>2.000000</td>\n",
              "      <td>0.026767</td>\n",
              "      <td>3.447194e-07</td>\n",
              "      <td>0.071451</td>\n",
              "      <td>0.027070</td>\n",
              "      <td>1.122640</td>\n",
              "      <td>3.939814</td>\n",
              "      <td>3.243714e-01</td>\n",
              "    </tr>\n",
              "    <tr>\n",
              "      <th>10200</th>\n",
              "      <td>256325.547538</td>\n",
              "      <td>1.045662</td>\n",
              "      <td>1.584884</td>\n",
              "      <td>-0.013792</td>\n",
              "      <td>12.125753</td>\n",
              "      <td>0.085345</td>\n",
              "      <td>0.156561</td>\n",
              "      <td>0.029119</td>\n",
              "      <td>0.127696</td>\n",
              "      <td>0.301086</td>\n",
              "      <td>...</td>\n",
              "      <td>0.491527</td>\n",
              "      <td>1.395267</td>\n",
              "      <td>4.098039</td>\n",
              "      <td>0.059841</td>\n",
              "      <td>8.858787e-08</td>\n",
              "      <td>0.090149</td>\n",
              "      <td>0.038390</td>\n",
              "      <td>0.633335</td>\n",
              "      <td>6.566033</td>\n",
              "      <td>2.602919e-08</td>\n",
              "    </tr>\n",
              "  </tbody>\n",
              "</table>\n",
              "<p>5 rows × 93 columns</p>\n",
              "</div>\n",
              "      <button class=\"colab-df-convert\" onclick=\"convertToInteractive('df-3c918643-5f99-4422-b3fa-36554a88daf7')\"\n",
              "              title=\"Convert this dataframe to an interactive table.\"\n",
              "              style=\"display:none;\">\n",
              "        \n",
              "  <svg xmlns=\"http://www.w3.org/2000/svg\" height=\"24px\"viewBox=\"0 0 24 24\"\n",
              "       width=\"24px\">\n",
              "    <path d=\"M0 0h24v24H0V0z\" fill=\"none\"/>\n",
              "    <path d=\"M18.56 5.44l.94 2.06.94-2.06 2.06-.94-2.06-.94-.94-2.06-.94 2.06-2.06.94zm-11 1L8.5 8.5l.94-2.06 2.06-.94-2.06-.94L8.5 2.5l-.94 2.06-2.06.94zm10 10l.94 2.06.94-2.06 2.06-.94-2.06-.94-.94-2.06-.94 2.06-2.06.94z\"/><path d=\"M17.41 7.96l-1.37-1.37c-.4-.4-.92-.59-1.43-.59-.52 0-1.04.2-1.43.59L10.3 9.45l-7.72 7.72c-.78.78-.78 2.05 0 2.83L4 21.41c.39.39.9.59 1.41.59.51 0 1.02-.2 1.41-.59l7.78-7.78 2.81-2.81c.8-.78.8-2.07 0-2.86zM5.41 20L4 18.59l7.72-7.72 1.47 1.35L5.41 20z\"/>\n",
              "  </svg>\n",
              "      </button>\n",
              "      \n",
              "  <style>\n",
              "    .colab-df-container {\n",
              "      display:flex;\n",
              "      flex-wrap:wrap;\n",
              "      gap: 12px;\n",
              "    }\n",
              "\n",
              "    .colab-df-convert {\n",
              "      background-color: #E8F0FE;\n",
              "      border: none;\n",
              "      border-radius: 50%;\n",
              "      cursor: pointer;\n",
              "      display: none;\n",
              "      fill: #1967D2;\n",
              "      height: 32px;\n",
              "      padding: 0 0 0 0;\n",
              "      width: 32px;\n",
              "    }\n",
              "\n",
              "    .colab-df-convert:hover {\n",
              "      background-color: #E2EBFA;\n",
              "      box-shadow: 0px 1px 2px rgba(60, 64, 67, 0.3), 0px 1px 3px 1px rgba(60, 64, 67, 0.15);\n",
              "      fill: #174EA6;\n",
              "    }\n",
              "\n",
              "    [theme=dark] .colab-df-convert {\n",
              "      background-color: #3B4455;\n",
              "      fill: #D2E3FC;\n",
              "    }\n",
              "\n",
              "    [theme=dark] .colab-df-convert:hover {\n",
              "      background-color: #434B5C;\n",
              "      box-shadow: 0px 1px 3px 1px rgba(0, 0, 0, 0.15);\n",
              "      filter: drop-shadow(0px 1px 2px rgba(0, 0, 0, 0.3));\n",
              "      fill: #FFFFFF;\n",
              "    }\n",
              "  </style>\n",
              "\n",
              "      <script>\n",
              "        const buttonEl =\n",
              "          document.querySelector('#df-3c918643-5f99-4422-b3fa-36554a88daf7 button.colab-df-convert');\n",
              "        buttonEl.style.display =\n",
              "          google.colab.kernel.accessAllowed ? 'block' : 'none';\n",
              "\n",
              "        async function convertToInteractive(key) {\n",
              "          const element = document.querySelector('#df-3c918643-5f99-4422-b3fa-36554a88daf7');\n",
              "          const dataTable =\n",
              "            await google.colab.kernel.invokeFunction('convertToInteractive',\n",
              "                                                     [key], {});\n",
              "          if (!dataTable) return;\n",
              "\n",
              "          const docLinkHtml = 'Like what you see? Visit the ' +\n",
              "            '<a target=\"_blank\" href=https://colab.research.google.com/notebooks/data_table.ipynb>data table notebook</a>'\n",
              "            + ' to learn more about interactive tables.';\n",
              "          element.innerHTML = '';\n",
              "          dataTable['output_type'] = 'display_data';\n",
              "          await google.colab.output.renderOutput(dataTable, element);\n",
              "          const docLink = document.createElement('div');\n",
              "          docLink.innerHTML = docLinkHtml;\n",
              "          element.appendChild(docLink);\n",
              "        }\n",
              "      </script>\n",
              "    </div>\n",
              "  </div>\n",
              "  "
            ]
          },
          "metadata": {},
          "execution_count": 49
        }
      ]
    },
    {
      "cell_type": "code",
      "source": [
        "df_features.corr()"
      ],
      "metadata": {
        "colab": {
          "base_uri": "https://localhost:8080/",
          "height": 424
        },
        "id": "_hn6nO2dMVyv",
        "outputId": "938d4042-19c1-43d3-e9f8-a6533b5a4344"
      },
      "execution_count": null,
      "outputs": [
        {
          "output_type": "execute_result",
          "data": {
            "text/plain": [
              "               mvel1      beta    betasq     chmom    dolvol   idiovol  \\\n",
              "mvel1       1.000000 -0.039491 -0.060125 -0.004221  0.512737 -0.197364   \n",
              "beta       -0.039491  1.000000  0.943301  0.047721  0.239988  0.572851   \n",
              "betasq     -0.060125  0.943301  1.000000  0.070185  0.160049  0.607678   \n",
              "chmom      -0.004221  0.047721  0.070185  1.000000  0.063541  0.061290   \n",
              "dolvol      0.512737  0.239988  0.160049  0.063541  1.000000 -0.309214   \n",
              "...              ...       ...       ...       ...       ...       ...   \n",
              "maxret     -0.182541  0.447792  0.468373  0.104096 -0.362225  0.856180   \n",
              "retvol     -0.181814  0.476256  0.490733  0.053750 -0.353707  0.867953   \n",
              "std_dolvol -0.349027 -0.212217 -0.162425  0.021197 -0.826932  0.243493   \n",
              "std_turn   -0.084645  0.286173  0.259484  0.081416  0.145293  0.155557   \n",
              "zerotrade  -0.130828 -0.320802 -0.228780 -0.019731 -0.621278  0.042960   \n",
              "\n",
              "              indmom     mom1m     mom6m    mom12m  ...    stdacc     stdcf  \\\n",
              "mvel1       0.036672  0.016349  0.041136  0.059143  ... -0.023625 -0.023901   \n",
              "beta        0.241877  0.005194  0.065873  0.073076  ...  0.151119  0.138977   \n",
              "betasq      0.270245  0.009211  0.101149  0.102662  ...  0.154540  0.147667   \n",
              "chmom       0.240926  0.763202  0.799659  0.488234  ... -0.055665 -0.050947   \n",
              "dolvol      0.040666  0.094241  0.181375  0.221615  ... -0.030872 -0.028162   \n",
              "...              ...       ...       ...       ...  ...       ...       ...   \n",
              "maxret      0.257686  0.102421 -0.017439 -0.077409  ...  0.135783  0.123781   \n",
              "retvol      0.239555  0.020903 -0.066683 -0.103215  ...  0.148221  0.136477   \n",
              "std_dolvol  0.000143 -0.018301 -0.071125 -0.123659  ... -0.016541 -0.017433   \n",
              "std_turn    0.116380  0.076047  0.051942  0.024665  ...  0.011148  0.004847   \n",
              "zerotrade  -0.038692 -0.025440 -0.059121 -0.080763  ... -0.049499 -0.055168   \n",
              "\n",
              "                  ms  baspread       ill    maxret    retvol  std_dolvol  \\\n",
              "mvel1       0.257515 -0.183914 -0.113523 -0.182541 -0.181814   -0.349027   \n",
              "beta       -0.073551  0.527164 -0.028363  0.447792  0.476256   -0.212217   \n",
              "betasq     -0.124328  0.536764  0.002608  0.468373  0.490733   -0.162425   \n",
              "chmom       0.002811  0.025544 -0.060843  0.104096  0.053750    0.021197   \n",
              "dolvol      0.428742 -0.286063 -0.528828 -0.362225 -0.353707   -0.826932   \n",
              "...              ...       ...       ...       ...       ...         ...   \n",
              "maxret     -0.330227  0.925566  0.453904  1.000000  0.987035    0.304595   \n",
              "retvol     -0.333997  0.953641  0.472687  0.987035  1.000000    0.284823   \n",
              "std_dolvol -0.324728  0.179935  0.507920  0.304595  0.284823    1.000000   \n",
              "std_turn    0.010838  0.172393 -0.090829  0.165306  0.154714    0.005023   \n",
              "zerotrade  -0.228486  0.029475  0.518853  0.092762  0.081846    0.613927   \n",
              "\n",
              "            std_turn  zerotrade  \n",
              "mvel1      -0.084645  -0.130828  \n",
              "beta        0.286173  -0.320802  \n",
              "betasq      0.259484  -0.228780  \n",
              "chmom       0.081416  -0.019731  \n",
              "dolvol      0.145293  -0.621278  \n",
              "...              ...        ...  \n",
              "maxret      0.165306   0.092762  \n",
              "retvol      0.154714   0.081846  \n",
              "std_dolvol  0.005023   0.613927  \n",
              "std_turn    1.000000  -0.140693  \n",
              "zerotrade  -0.140693   1.000000  \n",
              "\n",
              "[93 rows x 93 columns]"
            ],
            "text/html": [
              "\n",
              "  <div id=\"df-386d08f1-c4f6-4acd-8805-98e42c75c82e\">\n",
              "    <div class=\"colab-df-container\">\n",
              "      <div>\n",
              "<style scoped>\n",
              "    .dataframe tbody tr th:only-of-type {\n",
              "        vertical-align: middle;\n",
              "    }\n",
              "\n",
              "    .dataframe tbody tr th {\n",
              "        vertical-align: top;\n",
              "    }\n",
              "\n",
              "    .dataframe thead th {\n",
              "        text-align: right;\n",
              "    }\n",
              "</style>\n",
              "<table border=\"1\" class=\"dataframe\">\n",
              "  <thead>\n",
              "    <tr style=\"text-align: right;\">\n",
              "      <th></th>\n",
              "      <th>mvel1</th>\n",
              "      <th>beta</th>\n",
              "      <th>betasq</th>\n",
              "      <th>chmom</th>\n",
              "      <th>dolvol</th>\n",
              "      <th>idiovol</th>\n",
              "      <th>indmom</th>\n",
              "      <th>mom1m</th>\n",
              "      <th>mom6m</th>\n",
              "      <th>mom12m</th>\n",
              "      <th>...</th>\n",
              "      <th>stdacc</th>\n",
              "      <th>stdcf</th>\n",
              "      <th>ms</th>\n",
              "      <th>baspread</th>\n",
              "      <th>ill</th>\n",
              "      <th>maxret</th>\n",
              "      <th>retvol</th>\n",
              "      <th>std_dolvol</th>\n",
              "      <th>std_turn</th>\n",
              "      <th>zerotrade</th>\n",
              "    </tr>\n",
              "  </thead>\n",
              "  <tbody>\n",
              "    <tr>\n",
              "      <th>mvel1</th>\n",
              "      <td>1.000000</td>\n",
              "      <td>-0.039491</td>\n",
              "      <td>-0.060125</td>\n",
              "      <td>-0.004221</td>\n",
              "      <td>0.512737</td>\n",
              "      <td>-0.197364</td>\n",
              "      <td>0.036672</td>\n",
              "      <td>0.016349</td>\n",
              "      <td>0.041136</td>\n",
              "      <td>0.059143</td>\n",
              "      <td>...</td>\n",
              "      <td>-0.023625</td>\n",
              "      <td>-0.023901</td>\n",
              "      <td>0.257515</td>\n",
              "      <td>-0.183914</td>\n",
              "      <td>-0.113523</td>\n",
              "      <td>-0.182541</td>\n",
              "      <td>-0.181814</td>\n",
              "      <td>-0.349027</td>\n",
              "      <td>-0.084645</td>\n",
              "      <td>-0.130828</td>\n",
              "    </tr>\n",
              "    <tr>\n",
              "      <th>beta</th>\n",
              "      <td>-0.039491</td>\n",
              "      <td>1.000000</td>\n",
              "      <td>0.943301</td>\n",
              "      <td>0.047721</td>\n",
              "      <td>0.239988</td>\n",
              "      <td>0.572851</td>\n",
              "      <td>0.241877</td>\n",
              "      <td>0.005194</td>\n",
              "      <td>0.065873</td>\n",
              "      <td>0.073076</td>\n",
              "      <td>...</td>\n",
              "      <td>0.151119</td>\n",
              "      <td>0.138977</td>\n",
              "      <td>-0.073551</td>\n",
              "      <td>0.527164</td>\n",
              "      <td>-0.028363</td>\n",
              "      <td>0.447792</td>\n",
              "      <td>0.476256</td>\n",
              "      <td>-0.212217</td>\n",
              "      <td>0.286173</td>\n",
              "      <td>-0.320802</td>\n",
              "    </tr>\n",
              "    <tr>\n",
              "      <th>betasq</th>\n",
              "      <td>-0.060125</td>\n",
              "      <td>0.943301</td>\n",
              "      <td>1.000000</td>\n",
              "      <td>0.070185</td>\n",
              "      <td>0.160049</td>\n",
              "      <td>0.607678</td>\n",
              "      <td>0.270245</td>\n",
              "      <td>0.009211</td>\n",
              "      <td>0.101149</td>\n",
              "      <td>0.102662</td>\n",
              "      <td>...</td>\n",
              "      <td>0.154540</td>\n",
              "      <td>0.147667</td>\n",
              "      <td>-0.124328</td>\n",
              "      <td>0.536764</td>\n",
              "      <td>0.002608</td>\n",
              "      <td>0.468373</td>\n",
              "      <td>0.490733</td>\n",
              "      <td>-0.162425</td>\n",
              "      <td>0.259484</td>\n",
              "      <td>-0.228780</td>\n",
              "    </tr>\n",
              "    <tr>\n",
              "      <th>chmom</th>\n",
              "      <td>-0.004221</td>\n",
              "      <td>0.047721</td>\n",
              "      <td>0.070185</td>\n",
              "      <td>1.000000</td>\n",
              "      <td>0.063541</td>\n",
              "      <td>0.061290</td>\n",
              "      <td>0.240926</td>\n",
              "      <td>0.763202</td>\n",
              "      <td>0.799659</td>\n",
              "      <td>0.488234</td>\n",
              "      <td>...</td>\n",
              "      <td>-0.055665</td>\n",
              "      <td>-0.050947</td>\n",
              "      <td>0.002811</td>\n",
              "      <td>0.025544</td>\n",
              "      <td>-0.060843</td>\n",
              "      <td>0.104096</td>\n",
              "      <td>0.053750</td>\n",
              "      <td>0.021197</td>\n",
              "      <td>0.081416</td>\n",
              "      <td>-0.019731</td>\n",
              "    </tr>\n",
              "    <tr>\n",
              "      <th>dolvol</th>\n",
              "      <td>0.512737</td>\n",
              "      <td>0.239988</td>\n",
              "      <td>0.160049</td>\n",
              "      <td>0.063541</td>\n",
              "      <td>1.000000</td>\n",
              "      <td>-0.309214</td>\n",
              "      <td>0.040666</td>\n",
              "      <td>0.094241</td>\n",
              "      <td>0.181375</td>\n",
              "      <td>0.221615</td>\n",
              "      <td>...</td>\n",
              "      <td>-0.030872</td>\n",
              "      <td>-0.028162</td>\n",
              "      <td>0.428742</td>\n",
              "      <td>-0.286063</td>\n",
              "      <td>-0.528828</td>\n",
              "      <td>-0.362225</td>\n",
              "      <td>-0.353707</td>\n",
              "      <td>-0.826932</td>\n",
              "      <td>0.145293</td>\n",
              "      <td>-0.621278</td>\n",
              "    </tr>\n",
              "    <tr>\n",
              "      <th>...</th>\n",
              "      <td>...</td>\n",
              "      <td>...</td>\n",
              "      <td>...</td>\n",
              "      <td>...</td>\n",
              "      <td>...</td>\n",
              "      <td>...</td>\n",
              "      <td>...</td>\n",
              "      <td>...</td>\n",
              "      <td>...</td>\n",
              "      <td>...</td>\n",
              "      <td>...</td>\n",
              "      <td>...</td>\n",
              "      <td>...</td>\n",
              "      <td>...</td>\n",
              "      <td>...</td>\n",
              "      <td>...</td>\n",
              "      <td>...</td>\n",
              "      <td>...</td>\n",
              "      <td>...</td>\n",
              "      <td>...</td>\n",
              "      <td>...</td>\n",
              "    </tr>\n",
              "    <tr>\n",
              "      <th>maxret</th>\n",
              "      <td>-0.182541</td>\n",
              "      <td>0.447792</td>\n",
              "      <td>0.468373</td>\n",
              "      <td>0.104096</td>\n",
              "      <td>-0.362225</td>\n",
              "      <td>0.856180</td>\n",
              "      <td>0.257686</td>\n",
              "      <td>0.102421</td>\n",
              "      <td>-0.017439</td>\n",
              "      <td>-0.077409</td>\n",
              "      <td>...</td>\n",
              "      <td>0.135783</td>\n",
              "      <td>0.123781</td>\n",
              "      <td>-0.330227</td>\n",
              "      <td>0.925566</td>\n",
              "      <td>0.453904</td>\n",
              "      <td>1.000000</td>\n",
              "      <td>0.987035</td>\n",
              "      <td>0.304595</td>\n",
              "      <td>0.165306</td>\n",
              "      <td>0.092762</td>\n",
              "    </tr>\n",
              "    <tr>\n",
              "      <th>retvol</th>\n",
              "      <td>-0.181814</td>\n",
              "      <td>0.476256</td>\n",
              "      <td>0.490733</td>\n",
              "      <td>0.053750</td>\n",
              "      <td>-0.353707</td>\n",
              "      <td>0.867953</td>\n",
              "      <td>0.239555</td>\n",
              "      <td>0.020903</td>\n",
              "      <td>-0.066683</td>\n",
              "      <td>-0.103215</td>\n",
              "      <td>...</td>\n",
              "      <td>0.148221</td>\n",
              "      <td>0.136477</td>\n",
              "      <td>-0.333997</td>\n",
              "      <td>0.953641</td>\n",
              "      <td>0.472687</td>\n",
              "      <td>0.987035</td>\n",
              "      <td>1.000000</td>\n",
              "      <td>0.284823</td>\n",
              "      <td>0.154714</td>\n",
              "      <td>0.081846</td>\n",
              "    </tr>\n",
              "    <tr>\n",
              "      <th>std_dolvol</th>\n",
              "      <td>-0.349027</td>\n",
              "      <td>-0.212217</td>\n",
              "      <td>-0.162425</td>\n",
              "      <td>0.021197</td>\n",
              "      <td>-0.826932</td>\n",
              "      <td>0.243493</td>\n",
              "      <td>0.000143</td>\n",
              "      <td>-0.018301</td>\n",
              "      <td>-0.071125</td>\n",
              "      <td>-0.123659</td>\n",
              "      <td>...</td>\n",
              "      <td>-0.016541</td>\n",
              "      <td>-0.017433</td>\n",
              "      <td>-0.324728</td>\n",
              "      <td>0.179935</td>\n",
              "      <td>0.507920</td>\n",
              "      <td>0.304595</td>\n",
              "      <td>0.284823</td>\n",
              "      <td>1.000000</td>\n",
              "      <td>0.005023</td>\n",
              "      <td>0.613927</td>\n",
              "    </tr>\n",
              "    <tr>\n",
              "      <th>std_turn</th>\n",
              "      <td>-0.084645</td>\n",
              "      <td>0.286173</td>\n",
              "      <td>0.259484</td>\n",
              "      <td>0.081416</td>\n",
              "      <td>0.145293</td>\n",
              "      <td>0.155557</td>\n",
              "      <td>0.116380</td>\n",
              "      <td>0.076047</td>\n",
              "      <td>0.051942</td>\n",
              "      <td>0.024665</td>\n",
              "      <td>...</td>\n",
              "      <td>0.011148</td>\n",
              "      <td>0.004847</td>\n",
              "      <td>0.010838</td>\n",
              "      <td>0.172393</td>\n",
              "      <td>-0.090829</td>\n",
              "      <td>0.165306</td>\n",
              "      <td>0.154714</td>\n",
              "      <td>0.005023</td>\n",
              "      <td>1.000000</td>\n",
              "      <td>-0.140693</td>\n",
              "    </tr>\n",
              "    <tr>\n",
              "      <th>zerotrade</th>\n",
              "      <td>-0.130828</td>\n",
              "      <td>-0.320802</td>\n",
              "      <td>-0.228780</td>\n",
              "      <td>-0.019731</td>\n",
              "      <td>-0.621278</td>\n",
              "      <td>0.042960</td>\n",
              "      <td>-0.038692</td>\n",
              "      <td>-0.025440</td>\n",
              "      <td>-0.059121</td>\n",
              "      <td>-0.080763</td>\n",
              "      <td>...</td>\n",
              "      <td>-0.049499</td>\n",
              "      <td>-0.055168</td>\n",
              "      <td>-0.228486</td>\n",
              "      <td>0.029475</td>\n",
              "      <td>0.518853</td>\n",
              "      <td>0.092762</td>\n",
              "      <td>0.081846</td>\n",
              "      <td>0.613927</td>\n",
              "      <td>-0.140693</td>\n",
              "      <td>1.000000</td>\n",
              "    </tr>\n",
              "  </tbody>\n",
              "</table>\n",
              "<p>93 rows × 93 columns</p>\n",
              "</div>\n",
              "      <button class=\"colab-df-convert\" onclick=\"convertToInteractive('df-386d08f1-c4f6-4acd-8805-98e42c75c82e')\"\n",
              "              title=\"Convert this dataframe to an interactive table.\"\n",
              "              style=\"display:none;\">\n",
              "        \n",
              "  <svg xmlns=\"http://www.w3.org/2000/svg\" height=\"24px\"viewBox=\"0 0 24 24\"\n",
              "       width=\"24px\">\n",
              "    <path d=\"M0 0h24v24H0V0z\" fill=\"none\"/>\n",
              "    <path d=\"M18.56 5.44l.94 2.06.94-2.06 2.06-.94-2.06-.94-.94-2.06-.94 2.06-2.06.94zm-11 1L8.5 8.5l.94-2.06 2.06-.94-2.06-.94L8.5 2.5l-.94 2.06-2.06.94zm10 10l.94 2.06.94-2.06 2.06-.94-2.06-.94-.94-2.06-.94 2.06-2.06.94z\"/><path d=\"M17.41 7.96l-1.37-1.37c-.4-.4-.92-.59-1.43-.59-.52 0-1.04.2-1.43.59L10.3 9.45l-7.72 7.72c-.78.78-.78 2.05 0 2.83L4 21.41c.39.39.9.59 1.41.59.51 0 1.02-.2 1.41-.59l7.78-7.78 2.81-2.81c.8-.78.8-2.07 0-2.86zM5.41 20L4 18.59l7.72-7.72 1.47 1.35L5.41 20z\"/>\n",
              "  </svg>\n",
              "      </button>\n",
              "      \n",
              "  <style>\n",
              "    .colab-df-container {\n",
              "      display:flex;\n",
              "      flex-wrap:wrap;\n",
              "      gap: 12px;\n",
              "    }\n",
              "\n",
              "    .colab-df-convert {\n",
              "      background-color: #E8F0FE;\n",
              "      border: none;\n",
              "      border-radius: 50%;\n",
              "      cursor: pointer;\n",
              "      display: none;\n",
              "      fill: #1967D2;\n",
              "      height: 32px;\n",
              "      padding: 0 0 0 0;\n",
              "      width: 32px;\n",
              "    }\n",
              "\n",
              "    .colab-df-convert:hover {\n",
              "      background-color: #E2EBFA;\n",
              "      box-shadow: 0px 1px 2px rgba(60, 64, 67, 0.3), 0px 1px 3px 1px rgba(60, 64, 67, 0.15);\n",
              "      fill: #174EA6;\n",
              "    }\n",
              "\n",
              "    [theme=dark] .colab-df-convert {\n",
              "      background-color: #3B4455;\n",
              "      fill: #D2E3FC;\n",
              "    }\n",
              "\n",
              "    [theme=dark] .colab-df-convert:hover {\n",
              "      background-color: #434B5C;\n",
              "      box-shadow: 0px 1px 3px 1px rgba(0, 0, 0, 0.15);\n",
              "      filter: drop-shadow(0px 1px 2px rgba(0, 0, 0, 0.3));\n",
              "      fill: #FFFFFF;\n",
              "    }\n",
              "  </style>\n",
              "\n",
              "      <script>\n",
              "        const buttonEl =\n",
              "          document.querySelector('#df-386d08f1-c4f6-4acd-8805-98e42c75c82e button.colab-df-convert');\n",
              "        buttonEl.style.display =\n",
              "          google.colab.kernel.accessAllowed ? 'block' : 'none';\n",
              "\n",
              "        async function convertToInteractive(key) {\n",
              "          const element = document.querySelector('#df-386d08f1-c4f6-4acd-8805-98e42c75c82e');\n",
              "          const dataTable =\n",
              "            await google.colab.kernel.invokeFunction('convertToInteractive',\n",
              "                                                     [key], {});\n",
              "          if (!dataTable) return;\n",
              "\n",
              "          const docLinkHtml = 'Like what you see? Visit the ' +\n",
              "            '<a target=\"_blank\" href=https://colab.research.google.com/notebooks/data_table.ipynb>data table notebook</a>'\n",
              "            + ' to learn more about interactive tables.';\n",
              "          element.innerHTML = '';\n",
              "          dataTable['output_type'] = 'display_data';\n",
              "          await google.colab.output.renderOutput(dataTable, element);\n",
              "          const docLink = document.createElement('div');\n",
              "          docLink.innerHTML = docLinkHtml;\n",
              "          element.appendChild(docLink);\n",
              "        }\n",
              "      </script>\n",
              "    </div>\n",
              "  </div>\n",
              "  "
            ]
          },
          "metadata": {},
          "execution_count": 50
        }
      ]
    },
    {
      "cell_type": "markdown",
      "source": [
        "Let us only select those with low correlation."
      ],
      "metadata": {
        "id": "Q0wDlwLt0Dgs"
      }
    },
    {
      "cell_type": "code",
      "source": [
        "sr_corr = df_features.corr().abs().stack().sort_values()\n",
        "sr_corr = sr_corr[sr_corr<1]\n",
        "sr_corr = sr_corr.groupby(level=0).max()\n",
        "sr_corr.sort_values()\n",
        "\n",
        "df_features = df_features.loc[:, sr_corr < .7]\n",
        "df_features.shape"
      ],
      "metadata": {
        "colab": {
          "base_uri": "https://localhost:8080/"
        },
        "id": "7LuJUyEZ0Lx0",
        "outputId": "f8881eb4-6f8b-480a-d581-1dc0284b0068"
      },
      "execution_count": null,
      "outputs": [
        {
          "output_type": "execute_result",
          "data": {
            "text/plain": [
              "(682, 67)"
            ]
          },
          "metadata": {},
          "execution_count": 51
        }
      ]
    },
    {
      "cell_type": "markdown",
      "source": [
        "We can now fit a regular OLS model"
      ],
      "metadata": {
        "id": "HKSkLEwF0SPf"
      }
    },
    {
      "cell_type": "code",
      "source": [
        "ols = sm.OLS(sr_targets, df_features).fit()"
      ],
      "metadata": {
        "id": "sXfGsbQAcvTc"
      },
      "execution_count": null,
      "outputs": []
    },
    {
      "cell_type": "code",
      "source": [
        "ols.summary()"
      ],
      "metadata": {
        "colab": {
          "base_uri": "https://localhost:8080/",
          "height": 1000
        },
        "id": "O8AoptPJdBLj",
        "outputId": "8a78f69d-21cb-4980-aeba-3946ea78ff23"
      },
      "execution_count": null,
      "outputs": [
        {
          "output_type": "execute_result",
          "data": {
            "text/plain": [
              "<class 'statsmodels.iolib.summary.Summary'>\n",
              "\"\"\"\n",
              "                                 OLS Regression Results                                \n",
              "=======================================================================================\n",
              "Dep. Variable:                    RET   R-squared (uncentered):                   0.367\n",
              "Model:                            OLS   Adj. R-squared (uncentered):              0.298\n",
              "Method:                 Least Squares   F-statistic:                              5.323\n",
              "Date:                Tue, 20 Sep 2022   Prob (F-statistic):                    1.92e-30\n",
              "Time:                        15:02:13   Log-Likelihood:                          1171.0\n",
              "No. Observations:                 682   AIC:                                     -2208.\n",
              "Df Residuals:                     615   BIC:                                     -1905.\n",
              "Df Model:                          67                                                  \n",
              "Covariance Type:            nonrobust                                                  \n",
              "===================================================================================\n",
              "                      coef    std err          t      P>|t|      [0.025      0.975]\n",
              "-----------------------------------------------------------------------------------\n",
              "mvel1            1.734e-10   4.97e-10      0.349      0.727   -8.03e-10    1.15e-09\n",
              "indmom              0.0532      0.009      6.105      0.000       0.036       0.070\n",
              "mom36m              0.0148      0.005      2.793      0.005       0.004       0.025\n",
              "pricedelay         -0.0046      0.005     -0.905      0.366      -0.015       0.005\n",
              "age              6.001e-07      0.000      0.003      0.998      -0.000       0.000\n",
              "agr                -0.0051      0.015     -0.348      0.728      -0.034       0.024\n",
              "cashdebt           -0.0032      0.003     -1.141      0.254      -0.009       0.002\n",
              "cashpr           7.456e-05   5.16e-05      1.445      0.149   -2.68e-05       0.000\n",
              "cfp                 0.0152      0.020      0.777      0.438      -0.023       0.053\n",
              "cfp_ia             -0.0014      0.013     -0.113      0.910      -0.027       0.024\n",
              "chatoia            -0.0007      0.022     -0.034      0.973      -0.043       0.042\n",
              "chcsho             -0.0175      0.017     -1.023      0.307      -0.051       0.016\n",
              "chempia            -0.0117      0.013     -0.913      0.362      -0.037       0.013\n",
              "chinv               0.0238      0.124      0.192      0.848      -0.219       0.267\n",
              "chpmia              0.0020      0.001      2.276      0.023       0.000       0.004\n",
              "convind            -0.0109      0.009     -1.181      0.238      -0.029       0.007\n",
              "depr               -0.0040      0.007     -0.607      0.544      -0.017       0.009\n",
              "divi               -0.0659      0.022     -2.966      0.003      -0.109      -0.022\n",
              "divo                0.0351      0.023      1.513      0.131      -0.010       0.081\n",
              "dy                 -0.1320      0.090     -1.472      0.141      -0.308       0.044\n",
              "egr                -0.0010      0.006     -0.159      0.874      -0.014       0.012\n",
              "ep                  0.0034      0.014      0.241      0.809      -0.024       0.031\n",
              "gma                 0.0231      0.013      1.730      0.084      -0.003       0.049\n",
              "grcapx              0.0020      0.002      1.246      0.213      -0.001       0.005\n",
              "grltnoa            -0.0880      0.034     -2.587      0.010      -0.155      -0.021\n",
              "herf               -0.0003      0.025     -0.013      0.990      -0.050       0.049\n",
              "hire               -0.0148      0.018     -0.820      0.412      -0.050       0.021\n",
              "invest              0.0011      0.033      0.033      0.973      -0.063       0.065\n",
              "lev              1.804e-05      0.001      0.020      0.984      -0.002       0.002\n",
              "lgr                -0.0011      0.005     -0.219      0.827      -0.011       0.009\n",
              "mve_ia           -3.74e-07   2.75e-07     -1.360      0.174   -9.14e-07    1.66e-07\n",
              "operprof            0.0047      0.007      0.627      0.531      -0.010       0.019\n",
              "orgcap             -0.5692      0.481     -1.183      0.237      -1.514       0.376\n",
              "pchcapx_ia          0.0004      0.000      1.118      0.264      -0.000       0.001\n",
              "pchdepr            -0.0074      0.007     -1.015      0.311      -0.022       0.007\n",
              "pchgm_pchsale       0.0087      0.005      1.877      0.061      -0.000       0.018\n",
              "pchsale_pchinvt    -0.0015      0.005     -0.327      0.744      -0.011       0.008\n",
              "pchsale_pchrect    -0.0174      0.008     -2.305      0.022      -0.032      -0.003\n",
              "pchsale_pchxsga     0.0007      0.016      0.044      0.965      -0.031       0.032\n",
              "pchsaleinv          0.0050      0.007      0.672      0.502      -0.010       0.020\n",
              "pctacc             -0.0011      0.001     -1.265      0.207      -0.003       0.001\n",
              "ps                  0.0032      0.002      1.364      0.173      -0.001       0.008\n",
              "rd                 -0.0160      0.011     -1.458      0.145      -0.038       0.006\n",
              "rd_mve              0.2420      0.037      6.467      0.000       0.169       0.315\n",
              "rd_sale           2.62e-05      0.001      0.052      0.959      -0.001       0.001\n",
              "realestate         -0.0412      0.020     -2.095      0.037      -0.080      -0.003\n",
              "roic               -0.0017      0.003     -0.554      0.579      -0.008       0.004\n",
              "salecash         3.688e-06   1.54e-05      0.240      0.811   -2.65e-05    3.39e-05\n",
              "saleinv          6.124e-05   3.16e-05      1.940      0.053   -7.45e-07       0.000\n",
              "salerec             0.0002      0.000      1.371      0.171   -6.97e-05       0.000\n",
              "secured            -0.0123      0.007     -1.704      0.089      -0.027       0.002\n",
              "securedind          0.0073      0.007      1.075      0.283      -0.006       0.021\n",
              "sgr                 0.0100      0.013      0.777      0.437      -0.015       0.035\n",
              "sp                  0.0032      0.001      2.706      0.007       0.001       0.005\n",
              "tang               -0.0201      0.020     -1.022      0.307      -0.059       0.019\n",
              "tb                  0.0013      0.002      0.630      0.529      -0.003       0.005\n",
              "aeavol             -0.0175      0.003     -5.942      0.000      -0.023      -0.012\n",
              "cash                0.0235      0.020      1.169      0.243      -0.016       0.063\n",
              "chtx                1.5268      0.642      2.378      0.018       0.266       2.788\n",
              "cinvest             0.0006      0.001      0.906      0.365      -0.001       0.002\n",
              "ear                 0.2836      0.066      4.310      0.000       0.154       0.413\n",
              "nincr               0.0056      0.003      1.817      0.070      -0.000       0.012\n",
              "roavol             -0.1642      0.060     -2.735      0.006      -0.282      -0.046\n",
              "rsup               -0.0089      0.023     -0.393      0.694      -0.054       0.036\n",
              "ms                 -0.0001      0.002     -0.058      0.954      -0.005       0.005\n",
              "ill               -18.6582    198.838     -0.094      0.925    -409.142     371.826\n",
              "zerotrade           0.0015      0.001      1.422      0.156      -0.001       0.003\n",
              "==============================================================================\n",
              "Omnibus:                      208.814   Durbin-Watson:                   1.958\n",
              "Prob(Omnibus):                  0.000   Jarque-Bera (JB):             6557.516\n",
              "Skew:                           0.695   Prob(JB):                         0.00\n",
              "Kurtosis:                      18.127   Cond. No.                     5.99e+11\n",
              "==============================================================================\n",
              "\n",
              "Notes:\n",
              "[1] R² is computed without centering (uncentered) since the model does not contain a constant.\n",
              "[2] Standard Errors assume that the covariance matrix of the errors is correctly specified.\n",
              "[3] The condition number is large, 5.99e+11. This might indicate that there are\n",
              "strong multicollinearity or other numerical problems.\n",
              "\"\"\""
            ],
            "text/html": [
              "<table class=\"simpletable\">\n",
              "<caption>OLS Regression Results</caption>\n",
              "<tr>\n",
              "  <th>Dep. Variable:</th>           <td>RET</td>       <th>  R-squared (uncentered):</th>      <td>   0.367</td>\n",
              "</tr>\n",
              "<tr>\n",
              "  <th>Model:</th>                   <td>OLS</td>       <th>  Adj. R-squared (uncentered):</th> <td>   0.298</td>\n",
              "</tr>\n",
              "<tr>\n",
              "  <th>Method:</th>             <td>Least Squares</td>  <th>  F-statistic:       </th>          <td>   5.323</td>\n",
              "</tr>\n",
              "<tr>\n",
              "  <th>Date:</th>             <td>Tue, 20 Sep 2022</td> <th>  Prob (F-statistic):</th>          <td>1.92e-30</td>\n",
              "</tr>\n",
              "<tr>\n",
              "  <th>Time:</th>                 <td>15:02:13</td>     <th>  Log-Likelihood:    </th>          <td>  1171.0</td>\n",
              "</tr>\n",
              "<tr>\n",
              "  <th>No. Observations:</th>      <td>   682</td>      <th>  AIC:               </th>          <td>  -2208.</td>\n",
              "</tr>\n",
              "<tr>\n",
              "  <th>Df Residuals:</th>          <td>   615</td>      <th>  BIC:               </th>          <td>  -1905.</td>\n",
              "</tr>\n",
              "<tr>\n",
              "  <th>Df Model:</th>              <td>    67</td>      <th>                     </th>              <td> </td>   \n",
              "</tr>\n",
              "<tr>\n",
              "  <th>Covariance Type:</th>      <td>nonrobust</td>    <th>                     </th>              <td> </td>   \n",
              "</tr>\n",
              "</table>\n",
              "<table class=\"simpletable\">\n",
              "<tr>\n",
              "         <td></td>            <th>coef</th>     <th>std err</th>      <th>t</th>      <th>P>|t|</th>  <th>[0.025</th>    <th>0.975]</th>  \n",
              "</tr>\n",
              "<tr>\n",
              "  <th>mvel1</th>           <td> 1.734e-10</td> <td> 4.97e-10</td> <td>    0.349</td> <td> 0.727</td> <td>-8.03e-10</td> <td> 1.15e-09</td>\n",
              "</tr>\n",
              "<tr>\n",
              "  <th>indmom</th>          <td>    0.0532</td> <td>    0.009</td> <td>    6.105</td> <td> 0.000</td> <td>    0.036</td> <td>    0.070</td>\n",
              "</tr>\n",
              "<tr>\n",
              "  <th>mom36m</th>          <td>    0.0148</td> <td>    0.005</td> <td>    2.793</td> <td> 0.005</td> <td>    0.004</td> <td>    0.025</td>\n",
              "</tr>\n",
              "<tr>\n",
              "  <th>pricedelay</th>      <td>   -0.0046</td> <td>    0.005</td> <td>   -0.905</td> <td> 0.366</td> <td>   -0.015</td> <td>    0.005</td>\n",
              "</tr>\n",
              "<tr>\n",
              "  <th>age</th>             <td> 6.001e-07</td> <td>    0.000</td> <td>    0.003</td> <td> 0.998</td> <td>   -0.000</td> <td>    0.000</td>\n",
              "</tr>\n",
              "<tr>\n",
              "  <th>agr</th>             <td>   -0.0051</td> <td>    0.015</td> <td>   -0.348</td> <td> 0.728</td> <td>   -0.034</td> <td>    0.024</td>\n",
              "</tr>\n",
              "<tr>\n",
              "  <th>cashdebt</th>        <td>   -0.0032</td> <td>    0.003</td> <td>   -1.141</td> <td> 0.254</td> <td>   -0.009</td> <td>    0.002</td>\n",
              "</tr>\n",
              "<tr>\n",
              "  <th>cashpr</th>          <td> 7.456e-05</td> <td> 5.16e-05</td> <td>    1.445</td> <td> 0.149</td> <td>-2.68e-05</td> <td>    0.000</td>\n",
              "</tr>\n",
              "<tr>\n",
              "  <th>cfp</th>             <td>    0.0152</td> <td>    0.020</td> <td>    0.777</td> <td> 0.438</td> <td>   -0.023</td> <td>    0.053</td>\n",
              "</tr>\n",
              "<tr>\n",
              "  <th>cfp_ia</th>          <td>   -0.0014</td> <td>    0.013</td> <td>   -0.113</td> <td> 0.910</td> <td>   -0.027</td> <td>    0.024</td>\n",
              "</tr>\n",
              "<tr>\n",
              "  <th>chatoia</th>         <td>   -0.0007</td> <td>    0.022</td> <td>   -0.034</td> <td> 0.973</td> <td>   -0.043</td> <td>    0.042</td>\n",
              "</tr>\n",
              "<tr>\n",
              "  <th>chcsho</th>          <td>   -0.0175</td> <td>    0.017</td> <td>   -1.023</td> <td> 0.307</td> <td>   -0.051</td> <td>    0.016</td>\n",
              "</tr>\n",
              "<tr>\n",
              "  <th>chempia</th>         <td>   -0.0117</td> <td>    0.013</td> <td>   -0.913</td> <td> 0.362</td> <td>   -0.037</td> <td>    0.013</td>\n",
              "</tr>\n",
              "<tr>\n",
              "  <th>chinv</th>           <td>    0.0238</td> <td>    0.124</td> <td>    0.192</td> <td> 0.848</td> <td>   -0.219</td> <td>    0.267</td>\n",
              "</tr>\n",
              "<tr>\n",
              "  <th>chpmia</th>          <td>    0.0020</td> <td>    0.001</td> <td>    2.276</td> <td> 0.023</td> <td>    0.000</td> <td>    0.004</td>\n",
              "</tr>\n",
              "<tr>\n",
              "  <th>convind</th>         <td>   -0.0109</td> <td>    0.009</td> <td>   -1.181</td> <td> 0.238</td> <td>   -0.029</td> <td>    0.007</td>\n",
              "</tr>\n",
              "<tr>\n",
              "  <th>depr</th>            <td>   -0.0040</td> <td>    0.007</td> <td>   -0.607</td> <td> 0.544</td> <td>   -0.017</td> <td>    0.009</td>\n",
              "</tr>\n",
              "<tr>\n",
              "  <th>divi</th>            <td>   -0.0659</td> <td>    0.022</td> <td>   -2.966</td> <td> 0.003</td> <td>   -0.109</td> <td>   -0.022</td>\n",
              "</tr>\n",
              "<tr>\n",
              "  <th>divo</th>            <td>    0.0351</td> <td>    0.023</td> <td>    1.513</td> <td> 0.131</td> <td>   -0.010</td> <td>    0.081</td>\n",
              "</tr>\n",
              "<tr>\n",
              "  <th>dy</th>              <td>   -0.1320</td> <td>    0.090</td> <td>   -1.472</td> <td> 0.141</td> <td>   -0.308</td> <td>    0.044</td>\n",
              "</tr>\n",
              "<tr>\n",
              "  <th>egr</th>             <td>   -0.0010</td> <td>    0.006</td> <td>   -0.159</td> <td> 0.874</td> <td>   -0.014</td> <td>    0.012</td>\n",
              "</tr>\n",
              "<tr>\n",
              "  <th>ep</th>              <td>    0.0034</td> <td>    0.014</td> <td>    0.241</td> <td> 0.809</td> <td>   -0.024</td> <td>    0.031</td>\n",
              "</tr>\n",
              "<tr>\n",
              "  <th>gma</th>             <td>    0.0231</td> <td>    0.013</td> <td>    1.730</td> <td> 0.084</td> <td>   -0.003</td> <td>    0.049</td>\n",
              "</tr>\n",
              "<tr>\n",
              "  <th>grcapx</th>          <td>    0.0020</td> <td>    0.002</td> <td>    1.246</td> <td> 0.213</td> <td>   -0.001</td> <td>    0.005</td>\n",
              "</tr>\n",
              "<tr>\n",
              "  <th>grltnoa</th>         <td>   -0.0880</td> <td>    0.034</td> <td>   -2.587</td> <td> 0.010</td> <td>   -0.155</td> <td>   -0.021</td>\n",
              "</tr>\n",
              "<tr>\n",
              "  <th>herf</th>            <td>   -0.0003</td> <td>    0.025</td> <td>   -0.013</td> <td> 0.990</td> <td>   -0.050</td> <td>    0.049</td>\n",
              "</tr>\n",
              "<tr>\n",
              "  <th>hire</th>            <td>   -0.0148</td> <td>    0.018</td> <td>   -0.820</td> <td> 0.412</td> <td>   -0.050</td> <td>    0.021</td>\n",
              "</tr>\n",
              "<tr>\n",
              "  <th>invest</th>          <td>    0.0011</td> <td>    0.033</td> <td>    0.033</td> <td> 0.973</td> <td>   -0.063</td> <td>    0.065</td>\n",
              "</tr>\n",
              "<tr>\n",
              "  <th>lev</th>             <td> 1.804e-05</td> <td>    0.001</td> <td>    0.020</td> <td> 0.984</td> <td>   -0.002</td> <td>    0.002</td>\n",
              "</tr>\n",
              "<tr>\n",
              "  <th>lgr</th>             <td>   -0.0011</td> <td>    0.005</td> <td>   -0.219</td> <td> 0.827</td> <td>   -0.011</td> <td>    0.009</td>\n",
              "</tr>\n",
              "<tr>\n",
              "  <th>mve_ia</th>          <td> -3.74e-07</td> <td> 2.75e-07</td> <td>   -1.360</td> <td> 0.174</td> <td>-9.14e-07</td> <td> 1.66e-07</td>\n",
              "</tr>\n",
              "<tr>\n",
              "  <th>operprof</th>        <td>    0.0047</td> <td>    0.007</td> <td>    0.627</td> <td> 0.531</td> <td>   -0.010</td> <td>    0.019</td>\n",
              "</tr>\n",
              "<tr>\n",
              "  <th>orgcap</th>          <td>   -0.5692</td> <td>    0.481</td> <td>   -1.183</td> <td> 0.237</td> <td>   -1.514</td> <td>    0.376</td>\n",
              "</tr>\n",
              "<tr>\n",
              "  <th>pchcapx_ia</th>      <td>    0.0004</td> <td>    0.000</td> <td>    1.118</td> <td> 0.264</td> <td>   -0.000</td> <td>    0.001</td>\n",
              "</tr>\n",
              "<tr>\n",
              "  <th>pchdepr</th>         <td>   -0.0074</td> <td>    0.007</td> <td>   -1.015</td> <td> 0.311</td> <td>   -0.022</td> <td>    0.007</td>\n",
              "</tr>\n",
              "<tr>\n",
              "  <th>pchgm_pchsale</th>   <td>    0.0087</td> <td>    0.005</td> <td>    1.877</td> <td> 0.061</td> <td>   -0.000</td> <td>    0.018</td>\n",
              "</tr>\n",
              "<tr>\n",
              "  <th>pchsale_pchinvt</th> <td>   -0.0015</td> <td>    0.005</td> <td>   -0.327</td> <td> 0.744</td> <td>   -0.011</td> <td>    0.008</td>\n",
              "</tr>\n",
              "<tr>\n",
              "  <th>pchsale_pchrect</th> <td>   -0.0174</td> <td>    0.008</td> <td>   -2.305</td> <td> 0.022</td> <td>   -0.032</td> <td>   -0.003</td>\n",
              "</tr>\n",
              "<tr>\n",
              "  <th>pchsale_pchxsga</th> <td>    0.0007</td> <td>    0.016</td> <td>    0.044</td> <td> 0.965</td> <td>   -0.031</td> <td>    0.032</td>\n",
              "</tr>\n",
              "<tr>\n",
              "  <th>pchsaleinv</th>      <td>    0.0050</td> <td>    0.007</td> <td>    0.672</td> <td> 0.502</td> <td>   -0.010</td> <td>    0.020</td>\n",
              "</tr>\n",
              "<tr>\n",
              "  <th>pctacc</th>          <td>   -0.0011</td> <td>    0.001</td> <td>   -1.265</td> <td> 0.207</td> <td>   -0.003</td> <td>    0.001</td>\n",
              "</tr>\n",
              "<tr>\n",
              "  <th>ps</th>              <td>    0.0032</td> <td>    0.002</td> <td>    1.364</td> <td> 0.173</td> <td>   -0.001</td> <td>    0.008</td>\n",
              "</tr>\n",
              "<tr>\n",
              "  <th>rd</th>              <td>   -0.0160</td> <td>    0.011</td> <td>   -1.458</td> <td> 0.145</td> <td>   -0.038</td> <td>    0.006</td>\n",
              "</tr>\n",
              "<tr>\n",
              "  <th>rd_mve</th>          <td>    0.2420</td> <td>    0.037</td> <td>    6.467</td> <td> 0.000</td> <td>    0.169</td> <td>    0.315</td>\n",
              "</tr>\n",
              "<tr>\n",
              "  <th>rd_sale</th>         <td>  2.62e-05</td> <td>    0.001</td> <td>    0.052</td> <td> 0.959</td> <td>   -0.001</td> <td>    0.001</td>\n",
              "</tr>\n",
              "<tr>\n",
              "  <th>realestate</th>      <td>   -0.0412</td> <td>    0.020</td> <td>   -2.095</td> <td> 0.037</td> <td>   -0.080</td> <td>   -0.003</td>\n",
              "</tr>\n",
              "<tr>\n",
              "  <th>roic</th>            <td>   -0.0017</td> <td>    0.003</td> <td>   -0.554</td> <td> 0.579</td> <td>   -0.008</td> <td>    0.004</td>\n",
              "</tr>\n",
              "<tr>\n",
              "  <th>salecash</th>        <td> 3.688e-06</td> <td> 1.54e-05</td> <td>    0.240</td> <td> 0.811</td> <td>-2.65e-05</td> <td> 3.39e-05</td>\n",
              "</tr>\n",
              "<tr>\n",
              "  <th>saleinv</th>         <td> 6.124e-05</td> <td> 3.16e-05</td> <td>    1.940</td> <td> 0.053</td> <td>-7.45e-07</td> <td>    0.000</td>\n",
              "</tr>\n",
              "<tr>\n",
              "  <th>salerec</th>         <td>    0.0002</td> <td>    0.000</td> <td>    1.371</td> <td> 0.171</td> <td>-6.97e-05</td> <td>    0.000</td>\n",
              "</tr>\n",
              "<tr>\n",
              "  <th>secured</th>         <td>   -0.0123</td> <td>    0.007</td> <td>   -1.704</td> <td> 0.089</td> <td>   -0.027</td> <td>    0.002</td>\n",
              "</tr>\n",
              "<tr>\n",
              "  <th>securedind</th>      <td>    0.0073</td> <td>    0.007</td> <td>    1.075</td> <td> 0.283</td> <td>   -0.006</td> <td>    0.021</td>\n",
              "</tr>\n",
              "<tr>\n",
              "  <th>sgr</th>             <td>    0.0100</td> <td>    0.013</td> <td>    0.777</td> <td> 0.437</td> <td>   -0.015</td> <td>    0.035</td>\n",
              "</tr>\n",
              "<tr>\n",
              "  <th>sp</th>              <td>    0.0032</td> <td>    0.001</td> <td>    2.706</td> <td> 0.007</td> <td>    0.001</td> <td>    0.005</td>\n",
              "</tr>\n",
              "<tr>\n",
              "  <th>tang</th>            <td>   -0.0201</td> <td>    0.020</td> <td>   -1.022</td> <td> 0.307</td> <td>   -0.059</td> <td>    0.019</td>\n",
              "</tr>\n",
              "<tr>\n",
              "  <th>tb</th>              <td>    0.0013</td> <td>    0.002</td> <td>    0.630</td> <td> 0.529</td> <td>   -0.003</td> <td>    0.005</td>\n",
              "</tr>\n",
              "<tr>\n",
              "  <th>aeavol</th>          <td>   -0.0175</td> <td>    0.003</td> <td>   -5.942</td> <td> 0.000</td> <td>   -0.023</td> <td>   -0.012</td>\n",
              "</tr>\n",
              "<tr>\n",
              "  <th>cash</th>            <td>    0.0235</td> <td>    0.020</td> <td>    1.169</td> <td> 0.243</td> <td>   -0.016</td> <td>    0.063</td>\n",
              "</tr>\n",
              "<tr>\n",
              "  <th>chtx</th>            <td>    1.5268</td> <td>    0.642</td> <td>    2.378</td> <td> 0.018</td> <td>    0.266</td> <td>    2.788</td>\n",
              "</tr>\n",
              "<tr>\n",
              "  <th>cinvest</th>         <td>    0.0006</td> <td>    0.001</td> <td>    0.906</td> <td> 0.365</td> <td>   -0.001</td> <td>    0.002</td>\n",
              "</tr>\n",
              "<tr>\n",
              "  <th>ear</th>             <td>    0.2836</td> <td>    0.066</td> <td>    4.310</td> <td> 0.000</td> <td>    0.154</td> <td>    0.413</td>\n",
              "</tr>\n",
              "<tr>\n",
              "  <th>nincr</th>           <td>    0.0056</td> <td>    0.003</td> <td>    1.817</td> <td> 0.070</td> <td>   -0.000</td> <td>    0.012</td>\n",
              "</tr>\n",
              "<tr>\n",
              "  <th>roavol</th>          <td>   -0.1642</td> <td>    0.060</td> <td>   -2.735</td> <td> 0.006</td> <td>   -0.282</td> <td>   -0.046</td>\n",
              "</tr>\n",
              "<tr>\n",
              "  <th>rsup</th>            <td>   -0.0089</td> <td>    0.023</td> <td>   -0.393</td> <td> 0.694</td> <td>   -0.054</td> <td>    0.036</td>\n",
              "</tr>\n",
              "<tr>\n",
              "  <th>ms</th>              <td>   -0.0001</td> <td>    0.002</td> <td>   -0.058</td> <td> 0.954</td> <td>   -0.005</td> <td>    0.005</td>\n",
              "</tr>\n",
              "<tr>\n",
              "  <th>ill</th>             <td>  -18.6582</td> <td>  198.838</td> <td>   -0.094</td> <td> 0.925</td> <td> -409.142</td> <td>  371.826</td>\n",
              "</tr>\n",
              "<tr>\n",
              "  <th>zerotrade</th>       <td>    0.0015</td> <td>    0.001</td> <td>    1.422</td> <td> 0.156</td> <td>   -0.001</td> <td>    0.003</td>\n",
              "</tr>\n",
              "</table>\n",
              "<table class=\"simpletable\">\n",
              "<tr>\n",
              "  <th>Omnibus:</th>       <td>208.814</td> <th>  Durbin-Watson:     </th> <td>   1.958</td>\n",
              "</tr>\n",
              "<tr>\n",
              "  <th>Prob(Omnibus):</th> <td> 0.000</td>  <th>  Jarque-Bera (JB):  </th> <td>6557.516</td>\n",
              "</tr>\n",
              "<tr>\n",
              "  <th>Skew:</th>          <td> 0.695</td>  <th>  Prob(JB):          </th> <td>    0.00</td>\n",
              "</tr>\n",
              "<tr>\n",
              "  <th>Kurtosis:</th>      <td>18.127</td>  <th>  Cond. No.          </th> <td>5.99e+11</td>\n",
              "</tr>\n",
              "</table><br/><br/>Notes:<br/>[1] R² is computed without centering (uncentered) since the model does not contain a constant.<br/>[2] Standard Errors assume that the covariance matrix of the errors is correctly specified.<br/>[3] The condition number is large, 5.99e+11. This might indicate that there are<br/>strong multicollinearity or other numerical problems."
            ]
          },
          "metadata": {},
          "execution_count": 53
        }
      ]
    },
    {
      "cell_type": "markdown",
      "source": [
        "However, with 93 predictors, it is hard to see what the main drivers are. Plus, we have strong multicollinarity issues."
      ],
      "metadata": {
        "id": "XR7IfpOYdGDR"
      }
    },
    {
      "cell_type": "markdown",
      "source": [
        "# Regulariztion\n",
        "\n",
        "Lasso ($L_1$-norm)\n",
        "<img src=\"http://dieter.wang/files/images/l1-reg.png\" />"
      ],
      "metadata": {
        "id": "v0H5hfoCf_u5"
      }
    },
    {
      "cell_type": "code",
      "source": [
        "from sklearn.linear_model import Lasso"
      ],
      "metadata": {
        "id": "aCKxE1rrgBjj"
      },
      "execution_count": null,
      "outputs": []
    },
    {
      "cell_type": "markdown",
      "source": [
        "Let us start with an arbitrary penalty `alpha = .001`"
      ],
      "metadata": {
        "id": "8D8t7EN6iCBR"
      }
    },
    {
      "cell_type": "code",
      "source": [
        "alpha = .001"
      ],
      "metadata": {
        "id": "Cdk2-W4jiHSH"
      },
      "execution_count": null,
      "outputs": []
    },
    {
      "cell_type": "code",
      "source": [
        "lasso = Lasso(\n",
        "    alpha=alpha,\n",
        "    fit_intercept=True\n",
        ")"
      ],
      "metadata": {
        "id": "N1d2F4JqhHwI"
      },
      "execution_count": null,
      "outputs": []
    },
    {
      "cell_type": "code",
      "source": [
        "lasso.fit(\n",
        "    df_features,\n",
        "    sr_targets, \n",
        ")"
      ],
      "metadata": {
        "colab": {
          "base_uri": "https://localhost:8080/"
        },
        "id": "x9IyDcUGiPho",
        "outputId": "613a4e36-ed11-4707-abc9-421b544c1ee9"
      },
      "execution_count": null,
      "outputs": [
        {
          "output_type": "execute_result",
          "data": {
            "text/plain": [
              "Lasso(alpha=0.001)"
            ]
          },
          "metadata": {},
          "execution_count": 57
        }
      ]
    },
    {
      "cell_type": "code",
      "source": [
        "lasso.coef_.round(3)"
      ],
      "metadata": {
        "colab": {
          "base_uri": "https://localhost:8080/"
        },
        "id": "HmegirYfiU5j",
        "outputId": "ceb12d09-16ab-4adb-f90d-768a235bd8af"
      },
      "execution_count": null,
      "outputs": [
        {
          "output_type": "execute_result",
          "data": {
            "text/plain": [
              "array([ 0.   ,  0.035,  0.006, -0.   ,  0.   ,  0.   ,  0.   ,  0.   ,\n",
              "        0.   ,  0.   ,  0.   , -0.   , -0.   , -0.   ,  0.002, -0.   ,\n",
              "       -0.   , -0.   , -0.   , -0.   , -0.   ,  0.   ,  0.   , -0.   ,\n",
              "       -0.   , -0.   , -0.   , -0.   , -0.   , -0.004, -0.   ,  0.   ,\n",
              "        0.   ,  0.   , -0.003,  0.01 , -0.   , -0.   , -0.   ,  0.   ,\n",
              "       -0.001,  0.001, -0.   ,  0.   ,  0.   , -0.   , -0.   ,  0.   ,\n",
              "        0.   ,  0.   , -0.002, -0.   , -0.   ,  0.004,  0.   ,  0.002,\n",
              "       -0.012,  0.   ,  0.   ,  0.001,  0.   ,  0.007, -0.   , -0.   ,\n",
              "        0.003, -0.   ,  0.001])"
            ]
          },
          "metadata": {},
          "execution_count": 58
        }
      ]
    },
    {
      "cell_type": "code",
      "source": [
        "sr_coef = pd.Series(lasso.coef_, index=df_features.columns)"
      ],
      "metadata": {
        "id": "wFtFUnHPiaH_"
      },
      "execution_count": null,
      "outputs": []
    },
    {
      "cell_type": "code",
      "source": [
        "marker = sr_coef != 0\n",
        "sum(marker)"
      ],
      "metadata": {
        "colab": {
          "base_uri": "https://localhost:8080/"
        },
        "id": "AX4ZgWbVlI77",
        "outputId": "c83d763d-0107-426e-8731-5c05dd890cb0"
      },
      "execution_count": null,
      "outputs": [
        {
          "output_type": "execute_result",
          "data": {
            "text/plain": [
              "26"
            ]
          },
          "metadata": {},
          "execution_count": 60
        }
      ]
    },
    {
      "cell_type": "code",
      "source": [
        "sr_coef.loc[marker]"
      ],
      "metadata": {
        "colab": {
          "base_uri": "https://localhost:8080/"
        },
        "id": "PV3PtV84ijdq",
        "outputId": "7a38a71e-aaa7-44ef-d94d-9afcd319ce32"
      },
      "execution_count": null,
      "outputs": [
        {
          "output_type": "execute_result",
          "data": {
            "text/plain": [
              "mvel1            3.384226e-11\n",
              "indmom           3.531353e-02\n",
              "mom36m           6.485888e-03\n",
              "age              1.152401e-04\n",
              "cashpr           7.512093e-05\n",
              "chpmia           1.908837e-03\n",
              "lgr             -4.204722e-03\n",
              "mve_ia          -1.779398e-07\n",
              "pchcapx_ia       9.597894e-05\n",
              "pchdepr         -2.637832e-03\n",
              "pchgm_pchsale    9.889557e-03\n",
              "pctacc          -9.123630e-04\n",
              "ps               8.892779e-04\n",
              "rd_sale          1.877139e-04\n",
              "roic            -9.693216e-05\n",
              "salecash         6.276397e-06\n",
              "saleinv          7.000300e-05\n",
              "salerec          2.378579e-05\n",
              "secured         -2.010473e-03\n",
              "sp               3.919311e-03\n",
              "tb               2.319278e-03\n",
              "aeavol          -1.179818e-02\n",
              "cinvest          9.283614e-04\n",
              "nincr            7.432279e-03\n",
              "ms               2.676227e-03\n",
              "zerotrade        1.410015e-03\n",
              "dtype: float64"
            ]
          },
          "metadata": {},
          "execution_count": 61
        }
      ]
    },
    {
      "cell_type": "markdown",
      "source": [
        "## Is this a fair competition?\n",
        "\n",
        "Regularization strongly depends on the scaling of the features. We can see that they are very heterogenous. Those with higher variance will be penalized more."
      ],
      "metadata": {
        "id": "DIpTMQ37ip3c"
      }
    },
    {
      "cell_type": "code",
      "source": [
        "df_features.std()"
      ],
      "metadata": {
        "colab": {
          "base_uri": "https://localhost:8080/"
        },
        "id": "urLpUcgmkiT7",
        "outputId": "c3179396-d3e4-4a96-e019-fff2a60d3090"
      },
      "execution_count": null,
      "outputs": [
        {
          "output_type": "execute_result",
          "data": {
            "text/plain": [
              "mvel1         5.020728e+06\n",
              "indmom        2.295636e-01\n",
              "mom36m        4.412352e-01\n",
              "pricedelay    3.771903e-01\n",
              "age           9.920937e+00\n",
              "                  ...     \n",
              "roavol        4.192334e-02\n",
              "rsup          9.929941e-02\n",
              "ms            1.015203e+00\n",
              "ill           1.362877e-05\n",
              "zerotrade     2.304105e+00\n",
              "Length: 67, dtype: float64"
            ]
          },
          "metadata": {},
          "execution_count": 62
        }
      ]
    },
    {
      "cell_type": "code",
      "source": [
        "df_features.std().sort_values()"
      ],
      "metadata": {
        "colab": {
          "base_uri": "https://localhost:8080/"
        },
        "id": "Ju9Vs7cbiuEK",
        "outputId": "476bc929-e837-4652-d31e-8773bfcd7a6c"
      },
      "execution_count": null,
      "outputs": [
        {
          "output_type": "execute_result",
          "data": {
            "text/plain": [
              "ill         1.362877e-05\n",
              "chtx        3.037467e-03\n",
              "orgcap      6.720019e-03\n",
              "chinv       2.035418e-02\n",
              "dy          2.275519e-02\n",
              "                ...     \n",
              "cashpr      4.225024e+01\n",
              "saleinv     6.187949e+01\n",
              "salecash    1.394501e+02\n",
              "mve_ia      8.757592e+03\n",
              "mvel1       5.020728e+06\n",
              "Length: 67, dtype: float64"
            ]
          },
          "metadata": {},
          "execution_count": 63
        }
      ]
    },
    {
      "cell_type": "code",
      "source": [
        "from sklearn.preprocessing import StandardScaler"
      ],
      "metadata": {
        "id": "AMU_8gZClkIv"
      },
      "execution_count": null,
      "outputs": []
    },
    {
      "cell_type": "code",
      "source": [
        "scaler = StandardScaler()\n",
        "\n",
        "df_features_rescaled = pd.DataFrame(\n",
        "    scaler.fit_transform(df_features),\n",
        "    index=df_features.index,\n",
        "    columns=df_features.columns,\n",
        ")"
      ],
      "metadata": {
        "id": "xo89kbhVi6_M"
      },
      "execution_count": null,
      "outputs": []
    },
    {
      "cell_type": "code",
      "source": [
        "df_features_rescaled.mean()"
      ],
      "metadata": {
        "colab": {
          "base_uri": "https://localhost:8080/"
        },
        "id": "oZEO5sZ2lAJX",
        "outputId": "b7ec7f8d-61d8-4eef-bfb0-6271b1b05406"
      },
      "execution_count": null,
      "outputs": [
        {
          "output_type": "execute_result",
          "data": {
            "text/plain": [
              "mvel1        -6.251109e-17\n",
              "indmom        0.000000e+00\n",
              "mom36m        4.167406e-17\n",
              "pricedelay    1.041852e-17\n",
              "age           6.251109e-17\n",
              "                  ...     \n",
              "roavol        8.334812e-17\n",
              "rsup         -5.209258e-18\n",
              "ms            1.041852e-17\n",
              "ill           5.209258e-17\n",
              "zerotrade     3.125555e-17\n",
              "Length: 67, dtype: float64"
            ]
          },
          "metadata": {},
          "execution_count": 66
        }
      ]
    },
    {
      "cell_type": "code",
      "source": [
        "df_features_rescaled.std()"
      ],
      "metadata": {
        "colab": {
          "base_uri": "https://localhost:8080/"
        },
        "id": "Qnke_vmNjFWy",
        "outputId": "5cd93ebd-01c8-4f06-97e9-2c05c5514014"
      },
      "execution_count": null,
      "outputs": [
        {
          "output_type": "execute_result",
          "data": {
            "text/plain": [
              "mvel1         1.000734\n",
              "indmom        1.000734\n",
              "mom36m        1.000734\n",
              "pricedelay    1.000734\n",
              "age           1.000734\n",
              "                ...   \n",
              "roavol        1.000734\n",
              "rsup          1.000734\n",
              "ms            1.000734\n",
              "ill           1.000734\n",
              "zerotrade     1.000734\n",
              "Length: 67, dtype: float64"
            ]
          },
          "metadata": {},
          "execution_count": 67
        }
      ]
    },
    {
      "cell_type": "markdown",
      "source": [
        "Let us now re-fit the Lasso with the rescaled `df_features`"
      ],
      "metadata": {
        "id": "HiOTlijfjNy8"
      }
    },
    {
      "cell_type": "code",
      "source": [
        "lasso.fit(\n",
        "    df_features_rescaled,\n",
        "    sr_targets, \n",
        ")"
      ],
      "metadata": {
        "colab": {
          "base_uri": "https://localhost:8080/"
        },
        "outputId": "17613854-ba8e-4a08-8df4-9d2362c5116e",
        "id": "w-6FoIwujL8g"
      },
      "execution_count": null,
      "outputs": [
        {
          "output_type": "execute_result",
          "data": {
            "text/plain": [
              "Lasso(alpha=0.001)"
            ]
          },
          "metadata": {},
          "execution_count": 68
        }
      ]
    },
    {
      "cell_type": "code",
      "source": [
        "sr_coef = pd.Series(lasso.coef_, index=df_features.columns)\n",
        "sr_coef.abs().sort_values()"
      ],
      "metadata": {
        "colab": {
          "base_uri": "https://localhost:8080/"
        },
        "id": "tv15Zdmql6Cj",
        "outputId": "a25f3cba-3b56-465f-ba49-5ef1637e4b65"
      },
      "execution_count": null,
      "outputs": [
        {
          "output_type": "execute_result",
          "data": {
            "text/plain": [
              "mvel1     0.000000\n",
              "lev       0.000000\n",
              "ep        0.000000\n",
              "egr       0.000000\n",
              "lgr       0.000000\n",
              "            ...   \n",
              "sp        0.006967\n",
              "ear       0.007489\n",
              "aeavol    0.010286\n",
              "indmom    0.010708\n",
              "rd_mve    0.011946\n",
              "Length: 67, dtype: float64"
            ]
          },
          "metadata": {},
          "execution_count": 69
        }
      ]
    },
    {
      "cell_type": "code",
      "source": [
        "sum(sr_coef != 0)"
      ],
      "metadata": {
        "colab": {
          "base_uri": "https://localhost:8080/"
        },
        "outputId": "92ba46a0-7db4-4dbc-9fb0-f14ec70427b6",
        "id": "pCCCEzDYjL8i"
      },
      "execution_count": null,
      "outputs": [
        {
          "output_type": "execute_result",
          "data": {
            "text/plain": [
              "44"
            ]
          },
          "metadata": {},
          "execution_count": 70
        }
      ]
    },
    {
      "cell_type": "markdown",
      "source": [
        "## What is the right penalty?\n",
        "\n",
        "For illustration, we just used `alpha=` to show the issue of a \"non-level playing field\". But how would we select the ideal penalty? By what criterion should this be done?"
      ],
      "metadata": {
        "id": "wWFZguIbjmPl"
      }
    },
    {
      "cell_type": "code",
      "source": [
        "from sklearn.linear_model import lasso_path"
      ],
      "metadata": {
        "id": "7igPdO6ojpE3"
      },
      "execution_count": null,
      "outputs": []
    },
    {
      "cell_type": "code",
      "source": [
        "np.logspace(-5,-1,30)"
      ],
      "metadata": {
        "colab": {
          "base_uri": "https://localhost:8080/"
        },
        "id": "HrL_nAnWokvt",
        "outputId": "442a5548-0f87-491a-8b7b-303c09614c51"
      },
      "execution_count": null,
      "outputs": [
        {
          "output_type": "execute_result",
          "data": {
            "text/plain": [
              "array([1.00000000e-05, 1.37382380e-05, 1.88739182e-05, 2.59294380e-05,\n",
              "       3.56224789e-05, 4.89390092e-05, 6.72335754e-05, 9.23670857e-05,\n",
              "       1.26896100e-04, 1.74332882e-04, 2.39502662e-04, 3.29034456e-04,\n",
              "       4.52035366e-04, 6.21016942e-04, 8.53167852e-04, 1.17210230e-03,\n",
              "       1.61026203e-03, 2.21221629e-03, 3.03919538e-03, 4.17531894e-03,\n",
              "       5.73615251e-03, 7.88046282e-03, 1.08263673e-02, 1.48735211e-02,\n",
              "       2.04335972e-02, 2.80721620e-02, 3.85662042e-02, 5.29831691e-02,\n",
              "       7.27895384e-02, 1.00000000e-01])"
            ]
          },
          "metadata": {},
          "execution_count": 72
        }
      ]
    },
    {
      "cell_type": "code",
      "source": [
        "lasso_alphas, lasso_coefs, _ = lasso_path(\n",
        "    df_features_rescaled, \n",
        "    sr_targets, \n",
        "    alphas=np.logspace(-5,-1,30)\n",
        ")\n",
        "lasso_logalphas = np.log10(lasso_alphas)"
      ],
      "metadata": {
        "id": "y7smeU9Tk38G"
      },
      "execution_count": null,
      "outputs": []
    },
    {
      "cell_type": "code",
      "source": [
        "fig, ax = plt.subplots(figsize=[16,9])\n",
        "ax.plot(lasso_logalphas, lasso_coefs.squeeze().T)\n",
        "ax.set_title('Lasso path')\n",
        "ax.set_xlabel('< low penalty | high penalty >')\n",
        "plt.grid()"
      ],
      "metadata": {
        "colab": {
          "base_uri": "https://localhost:8080/",
          "height": 568
        },
        "id": "vOpnw1mHrLjV",
        "outputId": "5e038238-aadf-48f0-cd59-d7f02c1d7d60"
      },
      "execution_count": null,
      "outputs": [
        {
          "output_type": "display_data",
          "data": {
            "text/plain": [
              "<Figure size 1152x648 with 1 Axes>"
            ],
            "image/png": "[encoded data removed]"
          },
          "metadata": {
            "needs_background": "light"
          }
        }
      ]
    },
    {
      "cell_type": "markdown",
      "source": [
        "## K-fold cross-validation\n",
        "\n",
        "<img src=\"https://scikit-learn.org/stable/_images/grid_search_cross_validation.png\" />"
      ],
      "metadata": {
        "id": "XHAfBVVSpLdM"
      }
    },
    {
      "cell_type": "code",
      "source": [
        "from sklearn.linear_model import LassoCV\n",
        "from sklearn.model_selection import KFold"
      ],
      "metadata": {
        "id": "3FnBQBhwo4DF"
      },
      "execution_count": null,
      "outputs": []
    },
    {
      "cell_type": "code",
      "source": [
        "cv = KFold(n_splits=10)"
      ],
      "metadata": {
        "id": "6IwQG1BjpU7s"
      },
      "execution_count": null,
      "outputs": []
    },
    {
      "cell_type": "code",
      "source": [
        "lassocv = LassoCV(fit_intercept=True, cv=cv, n_alphas=100)\n",
        "result = lassocv.fit(df_features_rescaled, sr_targets)"
      ],
      "metadata": {
        "colab": {
          "base_uri": "https://localhost:8080/"
        },
        "id": "ZNJubYMmpXup",
        "outputId": "de602c6c-9ff7-40fb-f7c1-52431221cdb4"
      },
      "execution_count": null,
      "outputs": [
        {
          "output_type": "stream",
          "name": "stderr",
          "text": [
            "/usr/local/lib/python3.7/dist-packages/sklearn/linear_model/_coordinate_descent.py:1571: DataConversionWarning: A column-vector y was passed when a 1d array was expected. Please change the shape of y to (n_samples, ), for example using ravel().\n",
            "  y = column_or_1d(y, warn=True)\n"
          ]
        }
      ]
    },
    {
      "cell_type": "code",
      "source": [
        "fig = plt.figure(figsize=[16,9])\n",
        "plt.plot(np.log10(result.alphas_), result.mse_path_ - result.mse_path_.mean(axis=0, keepdims=True))\n",
        "plt.axvline(np.log10(result.alpha_))\n",
        "plt.title('MSE across different log10(alpha) for 5-fold cross-validation')\n",
        "plt.grid()"
      ],
      "metadata": {
        "colab": {
          "base_uri": "https://localhost:8080/",
          "height": 553
        },
        "id": "uiU-YXS_rRTL",
        "outputId": "7294f5db-0555-42be-f407-eabf3b470815"
      },
      "execution_count": null,
      "outputs": [
        {
          "output_type": "display_data",
          "data": {
            "text/plain": [
              "<Figure size 1152x648 with 1 Axes>"
            ],
            "image/png": "[encoded data removed]"
          },
          "metadata": {
            "needs_background": "light"
          }
        }
      ]
    },
    {
      "cell_type": "code",
      "source": [
        "sr_coef = pd.Series(lassocv.coef_, index=df_features.columns)\n",
        "sr_coef[sr_coef != 0].sort_values()"
      ],
      "metadata": {
        "colab": {
          "base_uri": "https://localhost:8080/"
        },
        "id": "qz1iLuX16jVy",
        "outputId": "addedc0c-9d13-4c21-ac21-29844cbd7ec9"
      },
      "execution_count": null,
      "outputs": [
        {
          "output_type": "execute_result",
          "data": {
            "text/plain": [
              "aeavol          -0.006807\n",
              "grltnoa         -0.004020\n",
              "roavol          -0.003516\n",
              "divi            -0.003295\n",
              "pchdepr         -0.001067\n",
              "secured         -0.000554\n",
              "pctacc          -0.000420\n",
              "convind         -0.000418\n",
              "realestate      -0.000251\n",
              "dy              -0.000203\n",
              "hire            -0.000101\n",
              "cfp_ia           0.000288\n",
              "tb               0.000359\n",
              "saleinv          0.001160\n",
              "chpmia           0.001370\n",
              "nincr            0.001939\n",
              "operprof         0.002149\n",
              "cfp              0.003076\n",
              "chtx             0.003231\n",
              "pchgm_pchsale    0.003366\n",
              "mom36m           0.003547\n",
              "sp               0.004391\n",
              "ear              0.006368\n",
              "rd_mve           0.008373\n",
              "indmom           0.008701\n",
              "dtype: float64"
            ]
          },
          "metadata": {},
          "execution_count": 79
        }
      ]
    },
    {
      "cell_type": "markdown",
      "source": [
        "## Other types of cross-validation techniques\n",
        "\n",
        "Different problems, data availability require different cross-validation methods. We discuss a few here. For a comprehensive overview, see [sklearn manual](https://scikit-learn.org/stable/modules/cross_validation.html)\n",
        "\n",
        "### Leave One Out\n",
        "```\n",
        "fold 0   x . . . . . . . . .\n",
        "fold 1   . x . . . . . . . .\n",
        " ...\n",
        "fold N   . . . . . . . . . x\n",
        "```\n",
        "Pros: ?  \n",
        "Cons: ?\n",
        "\n",
        "### Stratified K-Fold\n",
        "<img src=\"https://scikit-learn.org/stable/_images/sphx_glr_plot_cv_indices_009.png\" />\n",
        "\n",
        "Pros: ?  \n",
        "Cons: ?\n",
        "\n",
        "### Timeseries Split\n",
        "<img src=\"https://scikit-learn.org/stable/_images/sphx_glr_plot_cv_indices_013.png\" />\n",
        "\n",
        "Pros: ?  \n",
        "Cons: ?\n",
        "\n",
        "\n",
        "### hv-block Cross Validation\n",
        "<img src=\"https://images.deepai.org/converted-papers/1910.08904/images/hv-block.png\"/>\n",
        "\n",
        "Pros: ?  \n",
        "Cons: ?\n",
        "\n",
        "### Group K-fold\n",
        "<img src=\"https://scikit-learn.org/stable/_images/sphx_glr_plot_cv_indices_007.png\">\n",
        "\n",
        "Pros: ?  \n",
        "Cons: ?"
      ],
      "metadata": {
        "id": "3Wlk8PQ4mPNY"
      }
    },
    {
      "cell_type": "markdown",
      "source": [
        "# Decision trees and random forests\n",
        "\n",
        "<img src=\"https://scikit-learn.org/stable/_images/sphx_glr_plot_tree_regression_001.png\" />"
      ],
      "metadata": {
        "id": "k29JTEl16sD4"
      }
    },
    {
      "cell_type": "markdown",
      "source": [
        "We now explore decision trees and their generalization, random forests. Trees are very powerful but tend to overfit. Yesterday, we looked at how their recall and precision fared when allowing for `max_depth` to change.\n",
        "\n",
        "Today we use the classification report to compare decision trees, random forests and support vector machines on **out-of-sample** performances.\n",
        "\n",
        "For this we do the following for each model\n",
        "\n",
        "1. Split the sample into training and testing\n",
        "2. Pick hyperparameters using cross-validation in the training\n",
        "3. Make predictions for the testing data"
      ],
      "metadata": {
        "id": "zftSLTGl7EAo"
      }
    },
    {
      "cell_type": "code",
      "source": [
        "from sklearn.tree import DecisionTreeRegressor\n",
        "from sklearn.ensemble import RandomForestRegressor\n",
        "from sklearn.svm import SVR\n",
        "\n",
        "from sklearn.model_selection import train_test_split\n",
        "from sklearn.model_selection import GridSearchCV\n",
        "\n",
        "from sklearn.metrics import mean_squared_error"
      ],
      "metadata": {
        "id": "fK3-y2kPZfui"
      },
      "execution_count": null,
      "outputs": []
    },
    {
      "cell_type": "markdown",
      "source": [
        "Splitting into training and testing"
      ],
      "metadata": {
        "id": "6YqPRiqR8_95"
      }
    },
    {
      "cell_type": "code",
      "source": [
        "X = df_features.values \n",
        "y = sr_targets.squeeze().values"
      ],
      "metadata": {
        "id": "tI9xo6KZLw6a"
      },
      "execution_count": null,
      "outputs": []
    },
    {
      "cell_type": "code",
      "source": [
        "X_train, X_test, y_train, y_test = train_test_split(\n",
        "    X, y, \n",
        "    test_size=.2,\n",
        "    shuffle=True,\n",
        "    random_state=1,\n",
        ")"
      ],
      "metadata": {
        "id": "2QH-BGcK9HYf"
      },
      "execution_count": null,
      "outputs": []
    },
    {
      "cell_type": "markdown",
      "source": [
        "## Decision tree"
      ],
      "metadata": {
        "id": "Bv16G0DX9RKf"
      }
    },
    {
      "cell_type": "code",
      "source": [
        "mdl_tree = DecisionTreeRegressor()"
      ],
      "metadata": {
        "id": "45papqsEZfuj"
      },
      "execution_count": null,
      "outputs": []
    },
    {
      "cell_type": "code",
      "source": [
        "gscv_tree = GridSearchCV(\n",
        "    estimator=mdl_tree,\n",
        "    param_grid=dict(\n",
        "        max_depth=np.arange(1,20),\n",
        "    ),\n",
        "    cv=KFold(n_splits=5),\n",
        ")"
      ],
      "metadata": {
        "id": "x4cdmaJm_m_n"
      },
      "execution_count": null,
      "outputs": []
    },
    {
      "cell_type": "code",
      "source": [
        "gscv_tree.fit(X_train, y_train)"
      ],
      "metadata": {
        "colab": {
          "base_uri": "https://localhost:8080/"
        },
        "id": "QJ8Dj8kqAXI6",
        "outputId": "66ff71aa-433a-436b-b978-5985c03e9a6c"
      },
      "execution_count": null,
      "outputs": [
        {
          "output_type": "execute_result",
          "data": {
            "text/plain": [
              "GridSearchCV(cv=KFold(n_splits=5, random_state=None, shuffle=False),\n",
              "             estimator=DecisionTreeRegressor(),\n",
              "             param_grid={'max_depth': array([ 1,  2,  3,  4,  5,  6,  7,  8,  9, 10, 11, 12, 13, 14, 15, 16, 17,\n",
              "       18, 19])})"
            ]
          },
          "metadata": {},
          "execution_count": 169
        }
      ]
    },
    {
      "cell_type": "code",
      "source": [
        "gscv_tree.cv_results_"
      ],
      "metadata": {
        "colab": {
          "base_uri": "https://localhost:8080/"
        },
        "id": "vvozITKoBhHw",
        "outputId": "451737e6-cfed-4fbe-cf08-3c9b822ddc29"
      },
      "execution_count": null,
      "outputs": [
        {
          "output_type": "execute_result",
          "data": {
            "text/plain": [
              "{'mean_fit_time': array([0.00334015, 0.00450325, 0.00738707, 0.0085176 , 0.01127572,\n",
              "        0.01239767, 0.01442986, 0.01650271, 0.0187108 , 0.01933517,\n",
              "        0.02102017, 0.02389264, 0.02779827, 0.02553992, 0.02799335,\n",
              "        0.02886801, 0.02989979, 0.03092895, 0.03633013]),\n",
              " 'std_fit_time': array([1.30641913e-03, 7.28005578e-05, 1.47109006e-03, 1.87530822e-04,\n",
              "        1.83263899e-03, 1.12552823e-04, 5.15531307e-04, 1.02904470e-03,\n",
              "        2.32635007e-03, 2.22330897e-04, 2.10622109e-04, 1.25474811e-03,\n",
              "        2.44813374e-03, 1.12885736e-04, 1.23726175e-03, 3.72439748e-04,\n",
              "        3.31131853e-04, 2.18943176e-04, 4.78711102e-03]),\n",
              " 'mean_score_time': array([0.00051012, 0.00044012, 0.00057154, 0.00052609, 0.0006104 ,\n",
              "        0.00059614, 0.00060058, 0.00069532, 0.00056534, 0.00058575,\n",
              "        0.0006588 , 0.00082364, 0.00063686, 0.00059876, 0.00070009,\n",
              "        0.00064521, 0.00062647, 0.00060844, 0.00068102]),\n",
              " 'std_score_time': array([1.71759670e-04, 3.70975019e-05, 1.51238991e-04, 3.74438940e-05,\n",
              "        5.95930851e-05, 6.30709032e-05, 3.25330866e-05, 1.95890520e-04,\n",
              "        3.73791064e-05, 3.16515009e-05, 9.41744816e-05, 2.00844671e-04,\n",
              "        3.73157905e-05, 8.78545775e-06, 1.58482093e-04, 2.30280260e-05,\n",
              "        2.79483529e-05, 3.16851026e-05, 7.99666861e-05]),\n",
              " 'param_max_depth': masked_array(data=[1, 2, 3, 4, 5, 6, 7, 8, 9, 10, 11, 12, 13, 14, 15, 16,\n",
              "                    17, 18, 19],\n",
              "              mask=[False, False, False, False, False, False, False, False,\n",
              "                    False, False, False, False, False, False, False, False,\n",
              "                    False, False, False],\n",
              "        fill_value='?',\n",
              "             dtype=object),\n",
              " 'params': [{'max_depth': 1},\n",
              "  {'max_depth': 2},\n",
              "  {'max_depth': 3},\n",
              "  {'max_depth': 4},\n",
              "  {'max_depth': 5},\n",
              "  {'max_depth': 6},\n",
              "  {'max_depth': 7},\n",
              "  {'max_depth': 8},\n",
              "  {'max_depth': 9},\n",
              "  {'max_depth': 10},\n",
              "  {'max_depth': 11},\n",
              "  {'max_depth': 12},\n",
              "  {'max_depth': 13},\n",
              "  {'max_depth': 14},\n",
              "  {'max_depth': 15},\n",
              "  {'max_depth': 16},\n",
              "  {'max_depth': 17},\n",
              "  {'max_depth': 18},\n",
              "  {'max_depth': 19}],\n",
              " 'split0_test_score': array([-0.00924824, -0.21009636, -0.02527048, -0.83992187, -0.67369803,\n",
              "        -0.13717774, -0.08319106, -0.15889263, -0.18577843, -0.42289551,\n",
              "        -0.45978965, -0.13273426, -0.40365012, -0.51180001, -0.76343389,\n",
              "        -0.037434  , -0.38493965, -0.52562809, -0.21132321]),\n",
              " 'split1_test_score': array([-0.00336785, -0.24306571, -0.22348683, -0.45444458, -0.23628596,\n",
              "        -0.31018111, -0.11797645, -0.83966385, -0.93537262, -1.67708311,\n",
              "        -1.46162813, -1.46507566, -0.89431232, -1.39863023, -1.11584332,\n",
              "        -0.86697198, -1.29145512, -1.25834212, -1.57834718]),\n",
              " 'split2_test_score': array([-0.03665844, -0.21158968, -0.41630667, -0.28608784, -0.76099485,\n",
              "        -0.81485644, -0.5718695 , -1.22079316, -1.03427714, -0.9299151 ,\n",
              "        -0.87246844, -0.69891687, -0.63627321, -0.62524235, -0.96087913,\n",
              "        -0.7543159 , -0.97246006, -0.98707792, -0.89719602]),\n",
              " 'split3_test_score': array([-4.40504124e-04, -3.41424712e-03, -1.20538879e-01, -1.27049414e+00,\n",
              "        -1.32107550e+00, -1.37282893e+00, -1.37301885e+00, -1.36220570e+00,\n",
              "        -1.39662965e+00, -1.46359444e+00, -1.44322761e+00, -1.51321030e+00,\n",
              "        -1.50959810e+00, -1.51124137e+00, -1.50957278e+00, -1.49611516e+00,\n",
              "        -1.51940377e+00, -1.58346904e+00, -1.46206952e+00]),\n",
              " 'split4_test_score': array([-0.046839  , -0.12875073, -0.14849214, -0.08424586, -0.08150243,\n",
              "        -0.10854412, -0.03531737, -0.22932893,  0.06659826, -0.01447526,\n",
              "        -0.03784997,  0.10856047,  0.00352778, -0.00399355, -0.15761307,\n",
              "        -0.3104121 , -0.02121242, -0.27653649, -0.02416042]),\n",
              " 'mean_test_score': array([-0.01931081, -0.15938335, -0.186819  , -0.58703886, -0.61471135,\n",
              "        -0.54871767, -0.43627465, -0.76217685, -0.69709192, -0.90159268,\n",
              "        -0.85499276, -0.74027533, -0.68806119, -0.8101815 , -0.90146844,\n",
              "        -0.69304983, -0.8378942 , -0.92621073, -0.83461927]),\n",
              " 'std_test_score': array([0.01881628, 0.08667729, 0.13112517, 0.42237768, 0.43619861,\n",
              "        0.48373686, 0.50648281, 0.4948225 , 0.54854148, 0.6219585 ,\n",
              "        0.55466025, 0.66544765, 0.50583186, 0.56761428, 0.44534289,\n",
              "        0.50103096, 0.55864438, 0.47508897, 0.6318358 ]),\n",
              " 'rank_test_score': array([ 1,  2,  3,  6,  7,  5,  4, 12, 10, 18, 16, 11,  8, 13, 17,  9, 15,\n",
              "        19, 14], dtype=int32)}"
            ]
          },
          "metadata": {},
          "execution_count": 170
        }
      ]
    },
    {
      "cell_type": "code",
      "source": [
        "optm_tree = gscv_tree.best_estimator_"
      ],
      "metadata": {
        "id": "wJmEl-kFBoir"
      },
      "execution_count": null,
      "outputs": []
    },
    {
      "cell_type": "code",
      "source": [
        "optm_tree.max_depth"
      ],
      "metadata": {
        "colab": {
          "base_uri": "https://localhost:8080/"
        },
        "id": "zkph-H4PQO3i",
        "outputId": "92f17c4c-833b-42e9-d8e1-4f502dcbda64"
      },
      "execution_count": null,
      "outputs": [
        {
          "output_type": "execute_result",
          "data": {
            "text/plain": [
              "1"
            ]
          },
          "metadata": {},
          "execution_count": 172
        }
      ]
    },
    {
      "cell_type": "code",
      "source": [
        "nonzero = optm_tree.feature_importances_ != 0"
      ],
      "metadata": {
        "id": "-8-FJkVhHrBw"
      },
      "execution_count": null,
      "outputs": []
    },
    {
      "cell_type": "code",
      "source": [
        "df_features.columns[nonzero]"
      ],
      "metadata": {
        "colab": {
          "base_uri": "https://localhost:8080/"
        },
        "id": "rPypqKp1Qj_v",
        "outputId": "c36ce183-9904-405c-a77e-85df412b5be8"
      },
      "execution_count": null,
      "outputs": [
        {
          "output_type": "execute_result",
          "data": {
            "text/plain": [
              "Index(['rd_mve'], dtype='object')"
            ]
          },
          "metadata": {},
          "execution_count": 176
        }
      ]
    },
    {
      "cell_type": "code",
      "source": [
        "nonzero = optm_tree.feature_importances_ != 0"
      ],
      "metadata": {
        "id": "_D83-B6dQYXL"
      },
      "execution_count": null,
      "outputs": []
    },
    {
      "cell_type": "code",
      "source": [
        "y_test_pred = optm_tree.predict(X_test)\n",
        "y_train_pred = optm_tree.predict(X_train)\n",
        "\n",
        "mse_tree_test = mean_squared_error(y_test_pred, y_test)\n",
        "mse_tree_train = mean_squared_error(y_train_pred, y_train)"
      ],
      "metadata": {
        "id": "n6pWef2DZfuk"
      },
      "execution_count": null,
      "outputs": []
    },
    {
      "cell_type": "code",
      "source": [
        "mse_tree_test"
      ],
      "metadata": {
        "colab": {
          "base_uri": "https://localhost:8080/"
        },
        "id": "07hiXWMuCfQS",
        "outputId": "2a6c8e97-e6e0-4ee2-a6fb-422c58ba887f"
      },
      "execution_count": null,
      "outputs": [
        {
          "output_type": "execute_result",
          "data": {
            "text/plain": [
              "0.010776644326162902"
            ]
          },
          "metadata": {},
          "execution_count": 745
        }
      ]
    },
    {
      "cell_type": "code",
      "source": [
        "mse_tree_train"
      ],
      "metadata": {
        "colab": {
          "base_uri": "https://localhost:8080/"
        },
        "id": "pioIqvDXH2fR",
        "outputId": "376b4334-fd77-47ff-de7b-d8ccfbcdbce2"
      },
      "execution_count": null,
      "outputs": [
        {
          "output_type": "execute_result",
          "data": {
            "text/plain": [
              "0.0004266635456715354"
            ]
          },
          "metadata": {},
          "execution_count": 746
        }
      ]
    },
    {
      "cell_type": "markdown",
      "source": [
        "## Random Forest\n",
        "\n",
        "<img src=\"https://upload.wikimedia.org/wikipedia/commons/7/76/Random_forest_diagram_complete.png\" />"
      ],
      "metadata": {
        "id": "tTTY1M3OCqvG"
      }
    },
    {
      "cell_type": "code",
      "source": [
        "mdl_forest = RandomForestRegressor(\n",
        "    n_estimators=5\n",
        ")"
      ],
      "metadata": {
        "id": "8KhXYOG2CqvH"
      },
      "execution_count": null,
      "outputs": []
    },
    {
      "cell_type": "code",
      "source": [
        "gscv_forest = GridSearchCV(\n",
        "    estimator=mdl_forest,\n",
        "    param_grid=dict(\n",
        "        max_depth=np.arange(1,20),\n",
        "    ),\n",
        "    cv=KFold(n_splits=10),\n",
        ")"
      ],
      "metadata": {
        "id": "6HXjPLo4CqvH"
      },
      "execution_count": null,
      "outputs": []
    },
    {
      "cell_type": "code",
      "source": [
        "gscv_forest.fit(X_train, y_train)"
      ],
      "metadata": {
        "colab": {
          "base_uri": "https://localhost:8080/"
        },
        "outputId": "12127ea7-8725-4f14-ae6e-624c2883366b",
        "id": "q80Sqst9CqvI"
      },
      "execution_count": null,
      "outputs": [
        {
          "output_type": "execute_result",
          "data": {
            "text/plain": [
              "GridSearchCV(cv=KFold(n_splits=10, random_state=None, shuffle=False),\n",
              "             estimator=RandomForestRegressor(n_estimators=5),\n",
              "             param_grid={'max_depth': array([ 1,  2,  3,  4,  5,  6,  7,  8,  9, 10, 11, 12, 13, 14, 15, 16, 17,\n",
              "       18, 19])})"
            ]
          },
          "metadata": {},
          "execution_count": 180
        }
      ]
    },
    {
      "cell_type": "code",
      "source": [
        "optm_forest = gscv_forest.best_estimator_"
      ],
      "metadata": {
        "id": "t1j2DAlrCqvI"
      },
      "execution_count": null,
      "outputs": []
    },
    {
      "cell_type": "code",
      "source": [
        "optm_forest.n_estimators"
      ],
      "metadata": {
        "colab": {
          "base_uri": "https://localhost:8080/"
        },
        "id": "hG_LEH1jQ15f",
        "outputId": "1ea029c8-fa6c-4b10-8c35-065f86f01893"
      },
      "execution_count": null,
      "outputs": [
        {
          "output_type": "execute_result",
          "data": {
            "text/plain": [
              "5"
            ]
          },
          "metadata": {},
          "execution_count": 182
        }
      ]
    },
    {
      "cell_type": "code",
      "source": [
        "optm_forest.max_depth"
      ],
      "metadata": {
        "colab": {
          "base_uri": "https://localhost:8080/"
        },
        "id": "4pZvgv2dQ3qV",
        "outputId": "743f66f8-26e4-44ad-88c7-d664f19fd458"
      },
      "execution_count": null,
      "outputs": [
        {
          "output_type": "execute_result",
          "data": {
            "text/plain": [
              "2"
            ]
          },
          "metadata": {},
          "execution_count": 183
        }
      ]
    },
    {
      "cell_type": "code",
      "source": [
        "y_test_pred = optm_forest.predict(X_test)\n",
        "y_train_pred = optm_forest.predict(X_train)\n",
        "mse_forest_test = mean_squared_error(y_test_pred, y_test)\n",
        "mse_forest_train = mean_squared_error(y_train_pred, y_train)"
      ],
      "metadata": {
        "id": "vqVU9d22CqvJ"
      },
      "execution_count": null,
      "outputs": []
    },
    {
      "cell_type": "code",
      "source": [
        "mse_forest_test"
      ],
      "metadata": {
        "colab": {
          "base_uri": "https://localhost:8080/"
        },
        "id": "2DqxF9IsCqvJ",
        "outputId": "0cc88440-827e-441e-e6ec-e284d26796b2"
      },
      "execution_count": null,
      "outputs": [
        {
          "output_type": "execute_result",
          "data": {
            "text/plain": [
              "0.002303053966116054"
            ]
          },
          "metadata": {},
          "execution_count": 185
        }
      ]
    },
    {
      "cell_type": "code",
      "source": [
        "mse_forest_train"
      ],
      "metadata": {
        "colab": {
          "base_uri": "https://localhost:8080/"
        },
        "id": "dlXTJ56-HEHb",
        "outputId": "d6016eec-45cc-4154-a83b-aa3bc91aac74"
      },
      "execution_count": null,
      "outputs": [
        {
          "output_type": "execute_result",
          "data": {
            "text/plain": [
              "0.0020266321979854054"
            ]
          },
          "metadata": {},
          "execution_count": 186
        }
      ]
    },
    {
      "cell_type": "markdown",
      "source": [
        "## Support Vector Regression\n",
        "\n",
        "\n",
        "<img src=\"https://upload.wikimedia.org/wikipedia/commons/thumb/7/7a/Svr_epsilons_demo.svg/2880px-Svr_epsilons_demo.svg.png\" />"
      ],
      "metadata": {
        "id": "3rnW4agBIAwT"
      }
    },
    {
      "cell_type": "code",
      "source": [
        "mdl_svr = SVR()"
      ],
      "metadata": {
        "id": "hK7LSKSSIAwU"
      },
      "execution_count": null,
      "outputs": []
    },
    {
      "cell_type": "code",
      "source": [
        "gscv_svr = GridSearchCV(\n",
        "    estimator=mdl_svr,\n",
        "    param_grid=dict(\n",
        "        kernel=['linear','rbf'],\n",
        "        C=np.linspace(.1,2,10),\n",
        "    ),\n",
        "    cv=KFold(n_splits=10),\n",
        ")"
      ],
      "metadata": {
        "id": "_8tWYcPrIAwU"
      },
      "execution_count": null,
      "outputs": []
    },
    {
      "cell_type": "code",
      "source": [
        "gscv_svr.fit(X_train, y_train)"
      ],
      "metadata": {
        "id": "IppcUoo4IAwV"
      },
      "execution_count": null,
      "outputs": []
    },
    {
      "cell_type": "code",
      "source": [
        "optm_svr = gscv_svr.best_estimator_"
      ],
      "metadata": {
        "id": "OXEdpGOaIAwV"
      },
      "execution_count": null,
      "outputs": []
    },
    {
      "cell_type": "code",
      "source": [
        "y_test_pred = optm_svr.predict(X_test)\n",
        "y_train_pred = optm_svr.predict(X_train)\n",
        "mse_svr_test = mean_squared_error(y_test_pred, y_test)\n",
        "mse_svr_train = mean_squared_error(y_train_pred, y_train)"
      ],
      "metadata": {
        "id": "Vst5DbM9IAwV"
      },
      "execution_count": null,
      "outputs": []
    },
    {
      "cell_type": "code",
      "source": [
        "mse_svr_test"
      ],
      "metadata": {
        "id": "VAFGnIwqIAwW"
      },
      "execution_count": null,
      "outputs": []
    },
    {
      "cell_type": "code",
      "source": [
        "mse_svr_train"
      ],
      "metadata": {
        "id": "KZFo-W-FJIBH"
      },
      "execution_count": null,
      "outputs": []
    },
    {
      "cell_type": "markdown",
      "source": [
        "## Comparison"
      ],
      "metadata": {
        "id": "4Aw3fNO5KkYB"
      }
    },
    {
      "cell_type": "code",
      "source": [
        "print('mse_tree_test   ', mse_tree_test)\n",
        "print('mse_tree_train  ', mse_tree_train)\n",
        "print('mse_forest_test ', mse_forest_test)\n",
        "print('mse_forest_train', mse_forest_train)\n",
        "print('mse_svr_test    ', mse_svr_test)\n",
        "print('mse_svr_train   ', mse_svr_train)"
      ],
      "metadata": {
        "colab": {
          "base_uri": "https://localhost:8080/"
        },
        "id": "QJpNGuJiKyNu",
        "outputId": "ea954d5c-c0cc-402e-fa1c-6c10c7b5cd34"
      },
      "execution_count": null,
      "outputs": [
        {
          "output_type": "stream",
          "name": "stdout",
          "text": [
            "mse_tree_test    0.010776644326162902\n",
            "mse_tree_train   0.0004266635456715354\n",
            "mse_forest_test  0.00420293388746303\n",
            "mse_forest_train 0.00016371620315709757\n",
            "mse_svr_test     0.0024538112517911727\n",
            "mse_svr_train    0.0013664209555746501\n"
          ]
        }
      ]
    },
    {
      "cell_type": "markdown",
      "source": [
        "# Clustering\n",
        "\n",
        "We try to cluster firms based on their characteristics. Note that we do not use the returns here, as this is **unsupervised learning**. I.e. we are not interested in clustering such that we obtain better predictions. Instead, we want to best \"summarize\" the data for the \"general reader\". \n",
        "\n",
        "See PCA and Dynamic factor models.\n",
        "\n",
        "Full documentation here [sklearn manual](https://scikit-learn.org/stable/modules/clustering.html#hierarchical-clustering)"
      ],
      "metadata": {
        "id": "Pnng3L_RLgj4"
      }
    },
    {
      "cell_type": "code",
      "source": [
        "x = 'aeavol'\n",
        "y = 'rd'"
      ],
      "metadata": {
        "id": "dMbXsT7YNDKh"
      },
      "execution_count": null,
      "outputs": []
    },
    {
      "cell_type": "code",
      "source": [
        "df_X = np.sqrt(df_features.loc[:,[x,y]])\n",
        "df_X = df_X.dropna()"
      ],
      "metadata": {
        "id": "tqD_nEODZtq7"
      },
      "execution_count": null,
      "outputs": []
    },
    {
      "cell_type": "code",
      "source": [
        "df_X.plot.scatter(x,y)"
      ],
      "metadata": {
        "colab": {
          "base_uri": "https://localhost:8080/",
          "height": 296
        },
        "id": "MgtuCD-vE5n9",
        "outputId": "d6e35ab4-0321-46f1-a454-35c31d81fdbf"
      },
      "execution_count": null,
      "outputs": [
        {
          "output_type": "execute_result",
          "data": {
            "text/plain": [
              "<matplotlib.axes._subplots.AxesSubplot at 0x7f052d3e1bd0>"
            ]
          },
          "metadata": {},
          "execution_count": 91
        },
        {
          "output_type": "display_data",
          "data": {
            "text/plain": [
              "<Figure size 432x288 with 1 Axes>"
            ],
            "image/png": "[encoded data removed]"
          },
          "metadata": {
            "needs_background": "light"
          }
        }
      ]
    },
    {
      "cell_type": "code",
      "source": [
        "n_clusters = 3\n",
        "colors = ['red','blue','green']"
      ],
      "metadata": {
        "id": "iS5-F1LGmsgg"
      },
      "execution_count": null,
      "outputs": []
    },
    {
      "cell_type": "markdown",
      "source": [
        "## KMeans clustering"
      ],
      "metadata": {
        "id": "yoII7R0kbKnr"
      }
    },
    {
      "cell_type": "code",
      "source": [
        "from sklearn.cluster import KMeans"
      ],
      "metadata": {
        "id": "jN7qRigOdUiT"
      },
      "execution_count": null,
      "outputs": []
    },
    {
      "cell_type": "markdown",
      "source": [
        "We first estimate the full model using `KMeans`"
      ],
      "metadata": {
        "id": "3hQWqMorNl3k"
      }
    },
    {
      "cell_type": "code",
      "source": [
        "kmeans = KMeans(\n",
        "    n_clusters=n_clusters, \n",
        "    random_state=0,\n",
        ").fit(df_X)"
      ],
      "metadata": {
        "id": "bOdbvEf8LoYn"
      },
      "execution_count": null,
      "outputs": []
    },
    {
      "cell_type": "markdown",
      "source": [
        "Results are the cluster memberships of each company"
      ],
      "metadata": {
        "id": "B30--UcjN5Je"
      }
    },
    {
      "cell_type": "code",
      "source": [
        "sr_clusters = pd.Series(kmeans.labels_, index=df_X.index, name='clusters')\n",
        "sr_clusters"
      ],
      "metadata": {
        "colab": {
          "base_uri": "https://localhost:8080/"
        },
        "id": "OKsgFYTaNcfm",
        "outputId": "465c3f06-10d9-4bf1-a109-c9e25def1204"
      },
      "execution_count": null,
      "outputs": [
        {
          "output_type": "execute_result",
          "data": {
            "text/plain": [
              "permno\n",
              "10080    0\n",
              "10087    0\n",
              "10100    0\n",
              "10149    1\n",
              "10200    2\n",
              "        ..\n",
              "86574    1\n",
              "86685    1\n",
              "86727    0\n",
              "86729    2\n",
              "86739    2\n",
              "Name: clusters, Length: 635, dtype: int32"
            ]
          },
          "metadata": {},
          "execution_count": 128
        }
      ]
    },
    {
      "cell_type": "code",
      "source": [
        "sr_clusters.value_counts()"
      ],
      "metadata": {
        "colab": {
          "base_uri": "https://localhost:8080/"
        },
        "id": "j-D8a7BCXi4G",
        "outputId": "9f9e7f23-a5d7-4284-a768-1cc6d82069f7"
      },
      "execution_count": null,
      "outputs": [
        {
          "output_type": "execute_result",
          "data": {
            "text/plain": [
              "1    323\n",
              "2    161\n",
              "0    151\n",
              "Name: clusters, dtype: int64"
            ]
          },
          "metadata": {},
          "execution_count": 129
        }
      ]
    },
    {
      "cell_type": "code",
      "source": [
        "df_X.join(sr_clusters).groupby('clusters').mean()"
      ],
      "metadata": {
        "colab": {
          "base_uri": "https://localhost:8080/",
          "height": 175
        },
        "id": "HBysVyhSV8Kp",
        "outputId": "73bb4c06-2e20-48e5-cc5e-274d35488523"
      },
      "execution_count": null,
      "outputs": [
        {
          "output_type": "execute_result",
          "data": {
            "text/plain": [
              "            aeavol        rd\n",
              "clusters                    \n",
              "0         1.180454  0.019629\n",
              "1         0.575519  0.025682\n",
              "2         0.921984  0.639050"
            ],
            "text/html": [
              "\n",
              "  <div id=\"df-832918b1-6bf9-4f2d-a4cb-6be45b098379\">\n",
              "    <div class=\"colab-df-container\">\n",
              "      <div>\n",
              "<style scoped>\n",
              "    .dataframe tbody tr th:only-of-type {\n",
              "        vertical-align: middle;\n",
              "    }\n",
              "\n",
              "    .dataframe tbody tr th {\n",
              "        vertical-align: top;\n",
              "    }\n",
              "\n",
              "    .dataframe thead th {\n",
              "        text-align: right;\n",
              "    }\n",
              "</style>\n",
              "<table border=\"1\" class=\"dataframe\">\n",
              "  <thead>\n",
              "    <tr style=\"text-align: right;\">\n",
              "      <th></th>\n",
              "      <th>aeavol</th>\n",
              "      <th>rd</th>\n",
              "    </tr>\n",
              "    <tr>\n",
              "      <th>clusters</th>\n",
              "      <th></th>\n",
              "      <th></th>\n",
              "    </tr>\n",
              "  </thead>\n",
              "  <tbody>\n",
              "    <tr>\n",
              "      <th>0</th>\n",
              "      <td>1.180454</td>\n",
              "      <td>0.019629</td>\n",
              "    </tr>\n",
              "    <tr>\n",
              "      <th>1</th>\n",
              "      <td>0.575519</td>\n",
              "      <td>0.025682</td>\n",
              "    </tr>\n",
              "    <tr>\n",
              "      <th>2</th>\n",
              "      <td>0.921984</td>\n",
              "      <td>0.639050</td>\n",
              "    </tr>\n",
              "  </tbody>\n",
              "</table>\n",
              "</div>\n",
              "      <button class=\"colab-df-convert\" onclick=\"convertToInteractive('df-832918b1-6bf9-4f2d-a4cb-6be45b098379')\"\n",
              "              title=\"Convert this dataframe to an interactive table.\"\n",
              "              style=\"display:none;\">\n",
              "        \n",
              "  <svg xmlns=\"http://www.w3.org/2000/svg\" height=\"24px\"viewBox=\"0 0 24 24\"\n",
              "       width=\"24px\">\n",
              "    <path d=\"M0 0h24v24H0V0z\" fill=\"none\"/>\n",
              "    <path d=\"M18.56 5.44l.94 2.06.94-2.06 2.06-.94-2.06-.94-.94-2.06-.94 2.06-2.06.94zm-11 1L8.5 8.5l.94-2.06 2.06-.94-2.06-.94L8.5 2.5l-.94 2.06-2.06.94zm10 10l.94 2.06.94-2.06 2.06-.94-2.06-.94-.94-2.06-.94 2.06-2.06.94z\"/><path d=\"M17.41 7.96l-1.37-1.37c-.4-.4-.92-.59-1.43-.59-.52 0-1.04.2-1.43.59L10.3 9.45l-7.72 7.72c-.78.78-.78 2.05 0 2.83L4 21.41c.39.39.9.59 1.41.59.51 0 1.02-.2 1.41-.59l7.78-7.78 2.81-2.81c.8-.78.8-2.07 0-2.86zM5.41 20L4 18.59l7.72-7.72 1.47 1.35L5.41 20z\"/>\n",
              "  </svg>\n",
              "      </button>\n",
              "      \n",
              "  <style>\n",
              "    .colab-df-container {\n",
              "      display:flex;\n",
              "      flex-wrap:wrap;\n",
              "      gap: 12px;\n",
              "    }\n",
              "\n",
              "    .colab-df-convert {\n",
              "      background-color: #E8F0FE;\n",
              "      border: none;\n",
              "      border-radius: 50%;\n",
              "      cursor: pointer;\n",
              "      display: none;\n",
              "      fill: #1967D2;\n",
              "      height: 32px;\n",
              "      padding: 0 0 0 0;\n",
              "      width: 32px;\n",
              "    }\n",
              "\n",
              "    .colab-df-convert:hover {\n",
              "      background-color: #E2EBFA;\n",
              "      box-shadow: 0px 1px 2px rgba(60, 64, 67, 0.3), 0px 1px 3px 1px rgba(60, 64, 67, 0.15);\n",
              "      fill: #174EA6;\n",
              "    }\n",
              "\n",
              "    [theme=dark] .colab-df-convert {\n",
              "      background-color: #3B4455;\n",
              "      fill: #D2E3FC;\n",
              "    }\n",
              "\n",
              "    [theme=dark] .colab-df-convert:hover {\n",
              "      background-color: #434B5C;\n",
              "      box-shadow: 0px 1px 3px 1px rgba(0, 0, 0, 0.15);\n",
              "      filter: drop-shadow(0px 1px 2px rgba(0, 0, 0, 0.3));\n",
              "      fill: #FFFFFF;\n",
              "    }\n",
              "  </style>\n",
              "\n",
              "      <script>\n",
              "        const buttonEl =\n",
              "          document.querySelector('#df-832918b1-6bf9-4f2d-a4cb-6be45b098379 button.colab-df-convert');\n",
              "        buttonEl.style.display =\n",
              "          google.colab.kernel.accessAllowed ? 'block' : 'none';\n",
              "\n",
              "        async function convertToInteractive(key) {\n",
              "          const element = document.querySelector('#df-832918b1-6bf9-4f2d-a4cb-6be45b098379');\n",
              "          const dataTable =\n",
              "            await google.colab.kernel.invokeFunction('convertToInteractive',\n",
              "                                                     [key], {});\n",
              "          if (!dataTable) return;\n",
              "\n",
              "          const docLinkHtml = 'Like what you see? Visit the ' +\n",
              "            '<a target=\"_blank\" href=https://colab.research.google.com/notebooks/data_table.ipynb>data table notebook</a>'\n",
              "            + ' to learn more about interactive tables.';\n",
              "          element.innerHTML = '';\n",
              "          dataTable['output_type'] = 'display_data';\n",
              "          await google.colab.output.renderOutput(dataTable, element);\n",
              "          const docLink = document.createElement('div');\n",
              "          docLink.innerHTML = docLinkHtml;\n",
              "          element.appendChild(docLink);\n",
              "        }\n",
              "      </script>\n",
              "    </div>\n",
              "  </div>\n",
              "  "
            ]
          },
          "metadata": {},
          "execution_count": 130
        }
      ]
    },
    {
      "cell_type": "code",
      "source": [
        "df_X_clusters = df_X.join(sr_clusters).groupby('clusters')\n",
        "centroids = df_X_clusters.mean().values"
      ],
      "metadata": {
        "id": "Ru5E9tyfNkRi"
      },
      "execution_count": null,
      "outputs": []
    },
    {
      "cell_type": "code",
      "source": [
        "# store for comparison\n",
        "sr_clusters_km = sr_clusters.copy()"
      ],
      "metadata": {
        "id": "oGwKYy9gl79L"
      },
      "execution_count": null,
      "outputs": []
    },
    {
      "cell_type": "code",
      "source": [
        "for permno, (x1, x2) in df_X.iterrows():\n",
        "  cluster = sr_clusters[permno]\n",
        "  color = colors[cluster]\n",
        "  plt.plot(\n",
        "    x1, x2,\n",
        "    color=color,\n",
        "    marker='o', markersize=3, lw=0\n",
        "  )\n",
        "for i, (x1, x2) in enumerate(centroids):\n",
        "  plt.plot(x1, x2, color=colors[i], marker='X', markersize=40, alpha=.6)"
      ],
      "metadata": {
        "colab": {
          "base_uri": "https://localhost:8080/",
          "height": 265
        },
        "id": "s2cD2vwqMTAv",
        "outputId": "6d43e8c0-1c9e-4776-a8d3-40fa6cde9195"
      },
      "execution_count": null,
      "outputs": [
        {
          "output_type": "display_data",
          "data": {
            "text/plain": [
              "<Figure size 432x288 with 1 Axes>"
            ],
            "image/png": "[encoded data removed]"
          },
          "metadata": {
            "needs_background": "light"
          }
        }
      ]
    },
    {
      "cell_type": "markdown",
      "source": [
        "## AgglomerativeClustering\n",
        "\n",
        "<img src=\"https://scikit-learn.org/stable/_images/sphx_glr_plot_agglomerative_dendrogram_001.png\">"
      ],
      "metadata": {
        "id": "lWrjk0azbWXE"
      }
    },
    {
      "cell_type": "code",
      "source": [
        "from sklearn.cluster import AgglomerativeClustering"
      ],
      "metadata": {
        "id": "PKjFCBvrdVU8"
      },
      "execution_count": null,
      "outputs": []
    },
    {
      "cell_type": "code",
      "source": [
        "agg = AgglomerativeClustering(\n",
        "    n_clusters=n_clusters\n",
        ").fit(df_X)\n",
        "\n",
        "sr_clusters = pd.Series(agg.labels_, index=df_X.index, name='clusters')\n",
        "df_X_clusters = df_X.join(sr_clusters).groupby('clusters')\n",
        "centers = df_X_clusters.mean().values"
      ],
      "metadata": {
        "id": "dhO-dp_mbWXF"
      },
      "execution_count": null,
      "outputs": []
    },
    {
      "cell_type": "code",
      "source": [
        "# store for comparison\n",
        "sr_clusters_agg = sr_clusters.copy()"
      ],
      "metadata": {
        "id": "bZVMZGUsl5yf"
      },
      "execution_count": null,
      "outputs": []
    },
    {
      "cell_type": "code",
      "source": [
        "for permno, (x1, x2) in df_X.iterrows():\n",
        "  cluster = sr_clusters[permno]\n",
        "  color = colors[cluster]\n",
        "  plt.plot(\n",
        "    x1, x2,\n",
        "    color=color,\n",
        "    marker='o', markersize=3, lw=0\n",
        "  )\n",
        "for i, (x1, x2) in enumerate(centers):\n",
        "  plt.plot(x1, x2, color=colors[i], marker='X', markersize=40, alpha=.6)"
      ],
      "metadata": {
        "colab": {
          "base_uri": "https://localhost:8080/",
          "height": 265
        },
        "outputId": "1dd88dbf-fa8a-4e9c-fad9-47404ed10e80",
        "id": "YFKT8h0AbWXF"
      },
      "execution_count": null,
      "outputs": [
        {
          "output_type": "display_data",
          "data": {
            "text/plain": [
              "<Figure size 432x288 with 1 Axes>"
            ],
            "image/png": "[encoded data removed]"
          },
          "metadata": {
            "needs_background": "light"
          }
        }
      ]
    },
    {
      "cell_type": "markdown",
      "source": [
        "## How to evaluate clustering performance?"
      ],
      "metadata": {
        "id": "vDJrU-_IfPFF"
      }
    },
    {
      "cell_type": "code",
      "source": [
        "from sklearn.metrics import silhouette_samples, silhouette_score"
      ],
      "metadata": {
        "id": "cTC1iRB5jCuo"
      },
      "execution_count": null,
      "outputs": []
    },
    {
      "cell_type": "code",
      "source": [
        "\n",
        "help(silhouette_score)"
      ],
      "metadata": {
        "colab": {
          "base_uri": "https://localhost:8080/"
        },
        "id": "dOXe3sQKYuNO",
        "outputId": "b38689f5-b377-443a-d0de-d77f770b2ba9"
      },
      "execution_count": null,
      "outputs": [
        {
          "output_type": "stream",
          "name": "stdout",
          "text": [
            "Help on function silhouette_score in module sklearn.metrics.cluster._unsupervised:\n",
            "\n",
            "silhouette_score(X, labels, *, metric='euclidean', sample_size=None, random_state=None, **kwds)\n",
            "    Compute the mean Silhouette Coefficient of all samples.\n",
            "    \n",
            "    The Silhouette Coefficient is calculated using the mean intra-cluster\n",
            "    distance (``a``) and the mean nearest-cluster distance (``b``) for each\n",
            "    sample.  The Silhouette Coefficient for a sample is ``(b - a) / max(a,\n",
            "    b)``.  To clarify, ``b`` is the distance between a sample and the nearest\n",
            "    cluster that the sample is not a part of.\n",
            "    Note that Silhouette Coefficient is only defined if number of labels\n",
            "    is ``2 <= n_labels <= n_samples - 1``.\n",
            "    \n",
            "    This function returns the mean Silhouette Coefficient over all samples.\n",
            "    To obtain the values for each sample, use :func:`silhouette_samples`.\n",
            "    \n",
            "    The best value is 1 and the worst value is -1. Values near 0 indicate\n",
            "    overlapping clusters. Negative values generally indicate that a sample has\n",
            "    been assigned to the wrong cluster, as a different cluster is more similar.\n",
            "    \n",
            "    Read more in the :ref:`User Guide <silhouette_coefficient>`.\n",
            "    \n",
            "    Parameters\n",
            "    ----------\n",
            "    X : array-like of shape (n_samples_a, n_samples_a) if metric ==             \"precomputed\" or (n_samples_a, n_features) otherwise\n",
            "        An array of pairwise distances between samples, or a feature array.\n",
            "    \n",
            "    labels : array-like of shape (n_samples,)\n",
            "        Predicted labels for each sample.\n",
            "    \n",
            "    metric : str or callable, default='euclidean'\n",
            "        The metric to use when calculating distance between instances in a\n",
            "        feature array. If metric is a string, it must be one of the options\n",
            "        allowed by :func:`metrics.pairwise.pairwise_distances\n",
            "        <sklearn.metrics.pairwise.pairwise_distances>`. If ``X`` is\n",
            "        the distance array itself, use ``metric=\"precomputed\"``.\n",
            "    \n",
            "    sample_size : int, default=None\n",
            "        The size of the sample to use when computing the Silhouette Coefficient\n",
            "        on a random subset of the data.\n",
            "        If ``sample_size is None``, no sampling is used.\n",
            "    \n",
            "    random_state : int, RandomState instance or None, default=None\n",
            "        Determines random number generation for selecting a subset of samples.\n",
            "        Used when ``sample_size is not None``.\n",
            "        Pass an int for reproducible results across multiple function calls.\n",
            "        See :term:`Glossary <random_state>`.\n",
            "    \n",
            "    **kwds : optional keyword parameters\n",
            "        Any further parameters are passed directly to the distance function.\n",
            "        If using a scipy.spatial.distance metric, the parameters are still\n",
            "        metric dependent. See the scipy docs for usage examples.\n",
            "    \n",
            "    Returns\n",
            "    -------\n",
            "    silhouette : float\n",
            "        Mean Silhouette Coefficient for all samples.\n",
            "    \n",
            "    References\n",
            "    ----------\n",
            "    \n",
            "    .. [1] `Peter J. Rousseeuw (1987). \"Silhouettes: a Graphical Aid to the\n",
            "       Interpretation and Validation of Cluster Analysis\". Computational\n",
            "       and Applied Mathematics 20: 53-65.\n",
            "       <https://www.sciencedirect.com/science/article/pii/0377042787901257>`_\n",
            "    \n",
            "    .. [2] `Wikipedia entry on the Silhouette Coefficient\n",
            "           <https://en.wikipedia.org/wiki/Silhouette_(clustering)>`_\n",
            "\n"
          ]
        }
      ]
    },
    {
      "cell_type": "markdown",
      "source": [
        "## KMeans silhouette"
      ],
      "metadata": {
        "id": "5SMykwf4jWev"
      }
    },
    {
      "cell_type": "code",
      "source": [
        "fig, axes = plt.subplots(1, n_clusters, sharey=True, figsize=[15,5])\n",
        "\n",
        "silhouette_values = silhouette_samples(df_X, sr_clusters_km)\n",
        "\n",
        "for cluster in sr_clusters.unique():\n",
        "  ax = axes[cluster]\n",
        "  color = colors[cluster]\n",
        "  sils = silhouette_values[sr_clusters == cluster]\n",
        "  sils = sorted(sils)\n",
        "  ax.bar(range(len(sils)), sils, color=color, width=2)\n",
        "\n",
        "  sils_avg = np.mean(sils)\n",
        "  ax.axhline(sils_avg, lw=3, ls='--', color=color)\n",
        "  ax.set_title(f'Cluster {cluster}\\n(avg. silhoutte: {sils_avg:.3f}')\n",
        "\n",
        "fig.tight_layout()"
      ],
      "metadata": {
        "colab": {
          "base_uri": "https://localhost:8080/",
          "height": 369
        },
        "id": "mMT3itUbkfmr",
        "outputId": "9c0448e3-cb18-4046-a5b5-f718ca0b957d"
      },
      "execution_count": null,
      "outputs": [
        {
          "output_type": "display_data",
          "data": {
            "text/plain": [
              "<Figure size 1080x360 with 3 Axes>"
            ],
            "image/png": "[encoded data removed]"
          },
          "metadata": {
            "needs_background": "light"
          }
        }
      ]
    },
    {
      "cell_type": "markdown",
      "source": [
        "## Agglomerative clustering"
      ],
      "metadata": {
        "id": "9PSQzsH6mN5y"
      }
    },
    {
      "cell_type": "code",
      "source": [
        "fig, axes = plt.subplots(1, n_clusters, sharey=True, figsize=[15,5])\n",
        "\n",
        "silhouette_values = silhouette_samples(df_X, sr_clusters_agg)\n",
        "\n",
        "for cluster in sr_clusters.unique():\n",
        "  ax = axes[cluster]\n",
        "  color = colors[cluster]\n",
        "  sils = silhouette_values[sr_clusters == cluster]\n",
        "  sils = sorted(sils)\n",
        "  ax.bar(range(len(sils)), sils, color=color, width=2)\n",
        "\n",
        "  sils_avg = np.mean(sils)\n",
        "  ax.axhline(sils_avg, lw=3, ls='--', color=color)\n",
        "  ax.set_title(f'Cluster {cluster}\\n(avg. silhoutte: {sils_avg:.3f}')\n",
        "\n",
        "fig.tight_layout()"
      ],
      "metadata": {
        "colab": {
          "base_uri": "https://localhost:8080/",
          "height": 369
        },
        "outputId": "99db5822-a030-4904-f816-f28eacc8e88a",
        "id": "7gTRbVSxmN5z"
      },
      "execution_count": null,
      "outputs": [
        {
          "output_type": "display_data",
          "data": {
            "text/plain": [
              "<Figure size 1080x360 with 3 Axes>"
            ],
            "image/png": "[encoded data removed]"
          },
          "metadata": {
            "needs_background": "light"
          }
        }
      ]
    }
  ]
}