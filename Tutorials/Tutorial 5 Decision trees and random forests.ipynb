{
  "cells": [
    {
      "cell_type": "markdown",
      "metadata": {
        "colab_type": "text",
        "id": "view-in-github"
      },
      "source": [
        "<a href=\"https://colab.research.google.com/github/mnijhuis-dnb/Artificial_Intelligence_and_Machine_Learning_for_SupTech/blob/main/Tutorials/Tutorial%205%20Decision%20trees%20and%20random%20forests.ipynb\" target=\"_parent\"><img src=\"https://colab.research.google.com/assets/colab-badge.svg\" alt=\"Open In Colab\"/></a>"
      ]
    },
    {
      "cell_type": "markdown",
      "metadata": {
        "id": "NU0xCHIKJRSG"
      },
      "source": [
        "##Artificial Intelligence and Machine Learning for SupTech  \n",
        "Tutorial 5: Decision trees and random forests\n",
        "\n",
        "*\tGrowing your own decision tree\n",
        "*\tHow deep? How many splits? How big are the leaves?\n",
        "*\tFrom trees to random forests\n",
        "*\tComparing performance with the confusion matrix\n",
        "\n",
        "<br/>\n",
        "\n",
        "14 March 2023  \n",
        "\n",
        "**Instructors**  \n",
        "Prof. Iman van Lelyveld (iman.van.lelyveld@vu.nl)<br/>\n",
        "Dr. Michiel Nijhuis (m.nijhuis@dnb.nl)  "
      ]
    },
    {
      "cell_type": "markdown",
      "metadata": {
        "id": "JiFMCYvBSw7E"
      },
      "source": [
        "## Company performance\n",
        "The data we are going to work with in this tutorial is data from the performance of companies over a 5 year period. We are going to see if we can predict the sector a company is operating in based on the performance data"
      ]
    },
    {
      "cell_type": "code",
      "execution_count": null,
      "metadata": {
        "colab": {
          "base_uri": "https://localhost:8080/"
        },
        "id": "cG7h_DZoN9Ld",
        "outputId": "9434339a-5d23-446b-fc0d-9f8da5c3911e"
      },
      "outputs": [],
      "source": [
        "!gdown 1PCu4jNahysRpZ72z31KHpVkyAOp6nrKj"
      ]
    },
    {
      "cell_type": "code",
      "execution_count": null,
      "metadata": {
        "id": "LCMq0j6PR6Nz"
      },
      "outputs": [],
      "source": [
        "import pandas as pd\n",
        "import numpy as np\n",
        "import matplotlib.pyplot as plt"
      ]
    },
    {
      "cell_type": "markdown",
      "metadata": {
        "id": "FI4LnwlER-8c"
      },
      "source": [
        "Let's start by reading in the data"
      ]
    },
    {
      "cell_type": "code",
      "execution_count": null,
      "metadata": {},
      "outputs": [],
      "source": [
        "df = pd.read_csv('/content/company_data.csv')"
      ]
    },
    {
      "cell_type": "code",
      "execution_count": null,
      "metadata": {
        "colab": {
          "base_uri": "https://localhost:8080/",
          "height": 424
        },
        "id": "VvPJ_egTZpsN",
        "outputId": "fec336ee-5674-4dd8-8111-561992451c14"
      },
      "outputs": [],
      "source": [
        "df"
      ]
    },
    {
      "cell_type": "code",
      "execution_count": null,
      "metadata": {
        "colab": {
          "base_uri": "https://localhost:8080/"
        },
        "id": "ONVovoMEZt-G",
        "outputId": "63d59785-d253-4053-cc21-12b01030a304"
      },
      "outputs": [],
      "source": [
        "len(df_returns['permno'].unique())"
      ]
    },
    {
      "cell_type": "code",
      "execution_count": null,
      "metadata": {
        "colab": {
          "base_uri": "https://localhost:8080/",
          "height": 206
        },
        "id": "zPJERiXITQZf",
        "outputId": "39b9161c-d45a-4532-f55f-db17ba38fd4b"
      },
      "outputs": [],
      "source": [
        "df_returns.head(5)"
      ]
    },
    {
      "cell_type": "code",
      "execution_count": null,
      "metadata": {
        "colab": {
          "base_uri": "https://localhost:8080/"
        },
        "id": "gcLs_hRZT2qd",
        "outputId": "915b24c9-11de-4762-a359-f0ad277f0e47"
      },
      "outputs": [],
      "source": [
        "df_returns.dtypes"
      ]
    },
    {
      "cell_type": "markdown",
      "metadata": {
        "id": "gz-dFhFoUlqw"
      },
      "source": [
        "Interestingly, `RET` is stored as object. This is problematic, since we need numeric values. Can you think of a reason why this column is loaded as string?\n",
        ". <br/>\n",
        ". <br/>\n",
        ". <br/>\n",
        ". <br/>\n",
        ". <br/>\n",
        ". <br/>\n",
        ". <br/>"
      ]
    },
    {
      "cell_type": "code",
      "execution_count": null,
      "metadata": {
        "colab": {
          "base_uri": "https://localhost:8080/"
        },
        "id": "8qkXgQZdUxDi",
        "outputId": "a555decb-aff1-43d8-f818-a3e4524ee996"
      },
      "outputs": [],
      "source": [
        "df_returns['RET'].describe()"
      ]
    },
    {
      "cell_type": "markdown",
      "metadata": {
        "id": "OfWehg5cU9v1"
      },
      "source": [
        "Evidently, the most common value `top` is a dot `.`. This is a marker for missing values. In python we use `np.nan` do designate a missing value, which is a numerical data type."
      ]
    },
    {
      "cell_type": "code",
      "execution_count": null,
      "metadata": {
        "id": "1DlmZeHxVOBP"
      },
      "outputs": [],
      "source": [
        "df_returns['RET'] = df_returns['RET'].replace('.', np.nan)\n",
        "df_returns['RET'] = df_returns['RET'].astype(float)"
      ]
    },
    {
      "cell_type": "code",
      "execution_count": null,
      "metadata": {
        "colab": {
          "base_uri": "https://localhost:8080/"
        },
        "id": "9A7_pTl_VRN_",
        "outputId": "3ce6c3cf-41ae-478a-b4ba-1d3020c98e95"
      },
      "outputs": [],
      "source": [
        "df_returns['RET'].describe()"
      ]
    },
    {
      "cell_type": "markdown",
      "metadata": {
        "id": "EOLm78I1UFPG"
      },
      "source": [
        "Note that the `date` column is an object. It is stored as a string. However, we may be interested in the date itself, i.e. the month or the year, such that we can compute monthly averages, changes over time, etc.\n"
      ]
    },
    {
      "cell_type": "code",
      "execution_count": null,
      "metadata": {
        "colab": {
          "base_uri": "https://localhost:8080/"
        },
        "id": "m_Gs5alsibLQ",
        "outputId": "bf870ed1-10db-4094-bc87-bea5f72aa7df"
      },
      "outputs": [],
      "source": [
        "df_returns['date'].head()"
      ]
    },
    {
      "cell_type": "code",
      "execution_count": null,
      "metadata": {
        "colab": {
          "base_uri": "https://localhost:8080/"
        },
        "id": "BlsNvzSET7fL",
        "outputId": "7f1ffdbf-d8d7-4976-a8a5-27b61b13c519"
      },
      "outputs": [],
      "source": [
        "df_returns['date'] = pd.to_datetime(df_returns['date'], format=\"%Y-%m-%d\")\n",
        "df_returns['date'].head()"
      ]
    },
    {
      "cell_type": "code",
      "execution_count": null,
      "metadata": {
        "colab": {
          "base_uri": "https://localhost:8080/"
        },
        "id": "vDq-O2QxT_h1",
        "outputId": "649c717e-7866-4625-f21a-7169e135bc68"
      },
      "outputs": [],
      "source": [
        "df_returns['date'].dt.hour"
      ]
    },
    {
      "cell_type": "markdown",
      "metadata": {
        "id": "ezbU0pNdVdi1"
      },
      "source": [
        "Now, let's tell python that this is a DataFrame that contains **panel** data, i.e. it has both an entity and date identifier. \n",
        "\n",
        "In Stata, this would be similar to `xtset`"
      ]
    },
    {
      "cell_type": "code",
      "execution_count": null,
      "metadata": {
        "id": "1S0Zj8L0TMT4"
      },
      "outputs": [],
      "source": [
        "df_returns = df_returns.set_index(['permno','date'])"
      ]
    },
    {
      "cell_type": "code",
      "execution_count": null,
      "metadata": {
        "colab": {
          "base_uri": "https://localhost:8080/",
          "height": 1000
        },
        "id": "awRtPl2ITEjM",
        "outputId": "a665da8e-9d52-4e8a-c697-bcb9f97ac5a8"
      },
      "outputs": [],
      "source": [
        "df_returns.tail(30)"
      ]
    },
    {
      "cell_type": "markdown",
      "metadata": {
        "id": "kqfFG-tcV1aw"
      },
      "source": [
        "Doing so allows us to select and aggregate relevant subsets. For example, we want to plot the return series of company with id `11018`"
      ]
    },
    {
      "cell_type": "code",
      "execution_count": null,
      "metadata": {
        "colab": {
          "base_uri": "https://localhost:8080/"
        },
        "id": "Q4tmdKkYTHzQ",
        "outputId": "9c584e86-d228-41f1-e171-40cfb4654c79"
      },
      "outputs": [],
      "source": [
        "sr_11018 = df_returns.loc[11018,'RET']\n",
        "sr_11018.head()"
      ]
    },
    {
      "cell_type": "code",
      "execution_count": null,
      "metadata": {
        "colab": {
          "base_uri": "https://localhost:8080/",
          "height": 285
        },
        "id": "_HpS1hACWTVd",
        "outputId": "3240a472-0160-4df0-f01f-bcee2694648c"
      },
      "outputs": [],
      "source": [
        "sr_11018.plot(title='Returns of 11018');"
      ]
    },
    {
      "cell_type": "markdown",
      "metadata": {
        "id": "k-LK9SdyWama"
      },
      "source": [
        "What if we want to know the 1-year average return?"
      ]
    },
    {
      "cell_type": "code",
      "execution_count": null,
      "metadata": {
        "colab": {
          "base_uri": "https://localhost:8080/",
          "height": 295
        },
        "id": "SqSNJylSWjUN",
        "outputId": "b9e6dc10-4252-4ca3-8523-5a086a82f9e8"
      },
      "outputs": [],
      "source": [
        "sr_11018_avg = sr_11018.resample('Y').std()\n",
        "sr_11018_avg.plot(title='Returns of 11018 (annual average)');"
      ]
    },
    {
      "cell_type": "markdown",
      "metadata": {
        "id": "7WRf9plVXME4"
      },
      "source": [
        "What if we want to know the 1-year moving average?"
      ]
    },
    {
      "cell_type": "code",
      "execution_count": null,
      "metadata": {
        "colab": {
          "base_uri": "https://localhost:8080/",
          "height": 285
        },
        "id": "Lz1t88YCXME4",
        "outputId": "dd9839dc-86c3-423d-f131-8077e46f65be"
      },
      "outputs": [],
      "source": [
        "sr_11018_ma = sr_11018.rolling(12).mean()\n",
        "sr_11018_ma.plot(title='Returns of 11018 (1-year MA)');"
      ]
    },
    {
      "cell_type": "markdown",
      "metadata": {
        "id": "MHV4yBR0WdSx"
      },
      "source": [
        "Or the 3-month rolling standard deviation?"
      ]
    },
    {
      "cell_type": "code",
      "execution_count": null,
      "metadata": {
        "colab": {
          "base_uri": "https://localhost:8080/",
          "height": 285
        },
        "id": "VvD_4-H4XBCt",
        "outputId": "54eb27e1-8db4-4449-8fb6-bd827cad09be"
      },
      "outputs": [],
      "source": [
        "sr_11018_sd = sr_11018.rolling(3).std()\n",
        "sr_11018_sd.plot(title='Returns of 11018 (1-year SD)');"
      ]
    },
    {
      "cell_type": "markdown",
      "metadata": {
        "id": "GxmlwGtGSU-9"
      },
      "source": [
        "## Firm characteristics\n",
        "\n",
        "`characteristics.csv` contains `df_features` Column 1 (`permno`) is the unique company identifier.\n",
        "Column 2 (`date`) is the unique date identifier.\n",
        "Column 3-96 are the 94 lagged firm characteristics.\n",
        "We will refer to these as $X_{it}$. For more information, have a look at Green, Hand, Zhang (2017), in the literature folder.\n"
      ]
    },
    {
      "cell_type": "code",
      "execution_count": null,
      "metadata": {
        "id": "MoudHQH5R7_r"
      },
      "outputs": [],
      "source": [
        "path = 'company.csv'\n",
        "df_features = pd.read_csv(path)\n",
        "\n",
        "df_features['date'] = pd.to_datetime(df_features['date'])\n",
        "df_features = df_features.set_index(['permno','date'])"
      ]
    },
    {
      "cell_type": "code",
      "execution_count": null,
      "metadata": {
        "colab": {
          "base_uri": "https://localhost:8080/"
        },
        "id": "gqlYpG4XXe1F",
        "outputId": "b7ef879f-dd31-43ba-bac0-c84a4ccf153a"
      },
      "outputs": [],
      "source": [
        "df_features.dtypes"
      ]
    },
    {
      "cell_type": "code",
      "execution_count": null,
      "metadata": {
        "colab": {
          "base_uri": "https://localhost:8080/",
          "height": 424
        },
        "id": "G4T-6A1WXxVW",
        "outputId": "1d2d1834-b9e2-45f5-da55-fc11fd69fbbd"
      },
      "outputs": [],
      "source": [
        "df_features.describe().T"
      ]
    },
    {
      "cell_type": "code",
      "execution_count": null,
      "metadata": {
        "colab": {
          "base_uri": "https://localhost:8080/",
          "height": 267
        },
        "id": "_8OcDW4OXdPP",
        "outputId": "4e6a4f88-bf53-4c11-a4fc-f07032400ad6"
      },
      "outputs": [],
      "source": [
        "df_features.head()"
      ]
    },
    {
      "cell_type": "markdown",
      "metadata": {
        "id": "dr9_i0RwYX52"
      },
      "source": [
        "## Missing values"
      ]
    },
    {
      "cell_type": "markdown",
      "metadata": {
        "id": "OK0LJR8FYn7F"
      },
      "source": [
        "## Over time"
      ]
    },
    {
      "cell_type": "code",
      "execution_count": null,
      "metadata": {
        "colab": {
          "base_uri": "https://localhost:8080/",
          "height": 455
        },
        "id": "h6FMipJCGtBB",
        "outputId": "b2448559-5d71-4e28-b6d5-9673e055ba2a"
      },
      "outputs": [],
      "source": [
        "df_returns.notna()"
      ]
    },
    {
      "cell_type": "code",
      "execution_count": null,
      "metadata": {
        "colab": {
          "base_uri": "https://localhost:8080/",
          "height": 455
        },
        "id": "I053siw8cnOe",
        "outputId": "c16e987f-ef5f-45ef-f7b7-82f753bd6be4"
      },
      "outputs": [],
      "source": [
        "df_returns.notna().groupby('date').mean()"
      ]
    },
    {
      "cell_type": "code",
      "execution_count": null,
      "metadata": {
        "colab": {
          "base_uri": "https://localhost:8080/",
          "height": 286
        },
        "id": "MpuUhL-1Yqp8",
        "outputId": "9d5cc95a-c073-44bd-f4a7-ed7a40ae788a"
      },
      "outputs": [],
      "source": [
        "df_returns.notna().groupby('date').sum().plot()"
      ]
    },
    {
      "cell_type": "markdown",
      "metadata": {
        "id": "b0baaZdFY6iA"
      },
      "source": [
        "## Fill missing values for companies\n",
        "\n",
        "### Returns\n",
        "After having a look at how severe the problem is, we decide to fill in those missing with the value `0`. In other words, we assume that the companies did not have any stock appreciation or depreciation in that month."
      ]
    },
    {
      "cell_type": "code",
      "execution_count": null,
      "metadata": {
        "id": "etSwy_HdZPnC"
      },
      "outputs": [],
      "source": [
        "sr_nb_missing = df_returns.notna().groupby('permno').sum()"
      ]
    },
    {
      "cell_type": "code",
      "execution_count": null,
      "metadata": {
        "colab": {
          "base_uri": "https://localhost:8080/"
        },
        "id": "pH2EghpYZS28",
        "outputId": "561a66a8-ee60-4a6c-fcab-965fec3eebbb"
      },
      "outputs": [],
      "source": [
        "sr_nb_missing.value_counts().sort_values()"
      ]
    },
    {
      "cell_type": "code",
      "execution_count": null,
      "metadata": {
        "id": "ixtHJNS8YaHa"
      },
      "outputs": [],
      "source": [
        "df_returns = df_returns.fillna(0)"
      ]
    },
    {
      "cell_type": "markdown",
      "metadata": {
        "id": "7CC78U7QbERE"
      },
      "source": [
        "### Firm characteristics\n",
        "In this case, for each characteristic we fill in the `median` over all companies."
      ]
    },
    {
      "cell_type": "code",
      "execution_count": null,
      "metadata": {
        "colab": {
          "base_uri": "https://localhost:8080/",
          "height": 455
        },
        "id": "8ZBxMC-beRQB",
        "outputId": "e6945fe8-41b5-46a4-8fb7-6e32d9212953"
      },
      "outputs": [],
      "source": [
        "df_features"
      ]
    },
    {
      "cell_type": "code",
      "execution_count": null,
      "metadata": {
        "colab": {
          "base_uri": "https://localhost:8080/"
        },
        "id": "ZDBSFd0xeW03",
        "outputId": "a8ac1936-9282-4c8d-ec1a-e9a8d45d9d15"
      },
      "outputs": [],
      "source": [
        "df_features.dropna(axis=0).shape"
      ]
    },
    {
      "cell_type": "code",
      "execution_count": null,
      "metadata": {
        "colab": {
          "base_uri": "https://localhost:8080/"
        },
        "id": "oDDo4jQVerpF",
        "outputId": "1290c992-bc0a-45e3-f8b7-c8299155fe45"
      },
      "outputs": [],
      "source": [
        "df_features.dropna(axis=1).shape"
      ]
    },
    {
      "cell_type": "code",
      "execution_count": null,
      "metadata": {
        "colab": {
          "base_uri": "https://localhost:8080/"
        },
        "id": "nBpAbni6evhT",
        "outputId": "b3612134-b2a5-4115-d158-aa5e1aeafc73"
      },
      "outputs": [],
      "source": [
        "df_features.dropna(how='all', axis=0).shape"
      ]
    },
    {
      "cell_type": "code",
      "execution_count": null,
      "metadata": {
        "colab": {
          "base_uri": "https://localhost:8080/"
        },
        "id": "Mebkt5ZxbQ0z",
        "outputId": "258b26c7-5b94-4b83-99f6-29efa5fea8d8"
      },
      "outputs": [],
      "source": [
        "sr_medians = df_features.median()\n",
        "sr_medians.head()"
      ]
    },
    {
      "cell_type": "code",
      "execution_count": null,
      "metadata": {
        "id": "0qG1s009ZLUP"
      },
      "outputs": [],
      "source": [
        "df_features = df_features.fillna(sr_medians)"
      ]
    },
    {
      "cell_type": "code",
      "execution_count": null,
      "metadata": {
        "colab": {
          "base_uri": "https://localhost:8080/"
        },
        "id": "jAuJDtvHbZ_A",
        "outputId": "94c65f67-5fed-4f4e-9f6d-78109349a0fa"
      },
      "outputs": [],
      "source": [
        "df_features.notna().mean().mean()"
      ]
    },
    {
      "cell_type": "markdown",
      "metadata": {
        "id": "0_CG0IhhbdN0"
      },
      "source": [
        "### Ensure that returns and characteristics cover the same firms and periods"
      ]
    },
    {
      "cell_type": "code",
      "execution_count": null,
      "metadata": {
        "colab": {
          "base_uri": "https://localhost:8080/"
        },
        "id": "7Ed70V9ZbpkA",
        "outputId": "a0a1de7c-30fb-4bac-99d0-620bb068c2a5"
      },
      "outputs": [],
      "source": [
        "df_returns.index.shape"
      ]
    },
    {
      "cell_type": "code",
      "execution_count": null,
      "metadata": {
        "colab": {
          "base_uri": "https://localhost:8080/"
        },
        "id": "ejWTZEFubrmt",
        "outputId": "db0d3e3d-b910-4563-abfc-609f37322b61"
      },
      "outputs": [],
      "source": [
        "df_features.index.shape"
      ]
    },
    {
      "cell_type": "code",
      "execution_count": null,
      "metadata": {
        "colab": {
          "base_uri": "https://localhost:8080/"
        },
        "id": "UmjmD27EfWa1",
        "outputId": "03adc769-1d25-46da-8485-27a233dd24dc"
      },
      "outputs": [],
      "source": [
        "df_returns.index"
      ]
    },
    {
      "cell_type": "code",
      "execution_count": null,
      "metadata": {
        "colab": {
          "base_uri": "https://localhost:8080/"
        },
        "id": "nTglAjZUfhQv",
        "outputId": "83947bb8-6faf-4c7c-e432-2ae89231cb13"
      },
      "outputs": [],
      "source": [
        "df_features.index"
      ]
    },
    {
      "cell_type": "code",
      "execution_count": null,
      "metadata": {
        "colab": {
          "base_uri": "https://localhost:8080/"
        },
        "id": "SyA_v276X_FK",
        "outputId": "0df1d0f8-2464-4fcd-df36-194bc3e122fa"
      },
      "outputs": [],
      "source": [
        "common_index = df_returns.index.intersection(df_features.index)\n",
        "common_index"
      ]
    },
    {
      "cell_type": "code",
      "execution_count": null,
      "metadata": {
        "colab": {
          "base_uri": "https://localhost:8080/"
        },
        "id": "XjK2AviBYBNF",
        "outputId": "69aa9596-5565-47c1-b9d7-a98eb1783dde"
      },
      "outputs": [],
      "source": [
        "common_index.shape"
      ]
    },
    {
      "cell_type": "code",
      "execution_count": null,
      "metadata": {
        "id": "bghMKvIIbytQ"
      },
      "outputs": [],
      "source": [
        "df_returns = df_returns.loc[common_index]\n",
        "df_features = df_features.loc[common_index]"
      ]
    },
    {
      "cell_type": "markdown",
      "metadata": {
        "id": "ircVunJBSuwg"
      },
      "source": [
        "# What characteristics explain stock returns?\n",
        "\n",
        "What determines the differences between average stock returns? This perspective implies that we do not care much about the time-variation. If this were a linear regression model, you would estimate\n",
        "\n",
        "$$\n",
        "r_i = X_i\\beta + e_i\n",
        "$$\n",
        "\n",
        "where $r_i$ is the average return over the entire observation sample. Similarly, $X_i$ is the average characteristic of firm $i$."
      ]
    },
    {
      "cell_type": "code",
      "execution_count": null,
      "metadata": {
        "id": "quQApuSVctHN"
      },
      "outputs": [],
      "source": [
        "import statsmodels.api as sm"
      ]
    },
    {
      "cell_type": "code",
      "execution_count": null,
      "metadata": {
        "colab": {
          "base_uri": "https://localhost:8080/",
          "height": 455
        },
        "id": "gcMWYtKegjaS",
        "outputId": "61c08775-c8f9-4e15-9067-3f0e48bd90b6"
      },
      "outputs": [],
      "source": [
        "df_returns"
      ]
    },
    {
      "cell_type": "code",
      "execution_count": null,
      "metadata": {
        "colab": {
          "base_uri": "https://localhost:8080/",
          "height": 237
        },
        "id": "NDQXkqROcxIs",
        "outputId": "c40326a1-e95b-448a-9a3d-62d1edae1cea"
      },
      "outputs": [],
      "source": [
        "sr_targets = df_returns.groupby('permno').mean()\n",
        "sr_targets.head()"
      ]
    },
    {
      "cell_type": "code",
      "execution_count": null,
      "metadata": {
        "colab": {
          "base_uri": "https://localhost:8080/",
          "height": 267
        },
        "id": "cKR9WImTc4lf",
        "outputId": "a8dda6c9-5da7-4c0b-f498-64278c67bf40"
      },
      "outputs": [],
      "source": [
        "df_features = df_features.groupby('permno').mean()\n",
        "df_features.head()"
      ]
    },
    {
      "cell_type": "code",
      "execution_count": null,
      "metadata": {
        "colab": {
          "base_uri": "https://localhost:8080/",
          "height": 424
        },
        "id": "_hn6nO2dMVyv",
        "outputId": "938d4042-19c1-43d3-e9f8-a6533b5a4344"
      },
      "outputs": [],
      "source": [
        "df_features.corr()"
      ]
    },
    {
      "cell_type": "markdown",
      "metadata": {
        "id": "Q0wDlwLt0Dgs"
      },
      "source": [
        "Let us only select those with low correlation."
      ]
    },
    {
      "cell_type": "code",
      "execution_count": null,
      "metadata": {
        "colab": {
          "base_uri": "https://localhost:8080/"
        },
        "id": "7LuJUyEZ0Lx0",
        "outputId": "f8881eb4-6f8b-480a-d581-1dc0284b0068"
      },
      "outputs": [],
      "source": [
        "sr_corr = df_features.corr().abs().stack().sort_values()\n",
        "sr_corr = sr_corr[sr_corr<1]\n",
        "sr_corr = sr_corr.groupby(level=0).max()\n",
        "sr_corr.sort_values()\n",
        "\n",
        "df_features = df_features.loc[:, sr_corr < .7]\n",
        "df_features.shape"
      ]
    },
    {
      "cell_type": "markdown",
      "metadata": {
        "id": "HKSkLEwF0SPf"
      },
      "source": [
        "We can now fit a regular OLS model"
      ]
    },
    {
      "cell_type": "code",
      "execution_count": null,
      "metadata": {
        "id": "sXfGsbQAcvTc"
      },
      "outputs": [],
      "source": [
        "ols = sm.OLS(sr_targets, df_features).fit()"
      ]
    },
    {
      "cell_type": "code",
      "execution_count": null,
      "metadata": {
        "colab": {
          "base_uri": "https://localhost:8080/",
          "height": 1000
        },
        "id": "O8AoptPJdBLj",
        "outputId": "8a78f69d-21cb-4980-aeba-3946ea78ff23"
      },
      "outputs": [],
      "source": [
        "ols.summary()"
      ]
    },
    {
      "cell_type": "markdown",
      "metadata": {
        "id": "XR7IfpOYdGDR"
      },
      "source": [
        "However, with 93 predictors, it is hard to see what the main drivers are. Plus, we have strong multicollinarity issues."
      ]
    },
    {
      "cell_type": "markdown",
      "metadata": {
        "id": "v0H5hfoCf_u5"
      },
      "source": [
        "# Regulariztion\n",
        "\n",
        "Lasso ($L_1$-norm)\n",
        "<img src=\"http://dieter.wang/files/images/l1-reg.png\" />"
      ]
    },
    {
      "cell_type": "code",
      "execution_count": null,
      "metadata": {
        "id": "aCKxE1rrgBjj"
      },
      "outputs": [],
      "source": [
        "from sklearn.linear_model import Lasso"
      ]
    },
    {
      "cell_type": "markdown",
      "metadata": {
        "id": "8D8t7EN6iCBR"
      },
      "source": [
        "Let us start with an arbitrary penalty `alpha = .001`"
      ]
    },
    {
      "cell_type": "code",
      "execution_count": null,
      "metadata": {
        "id": "Cdk2-W4jiHSH"
      },
      "outputs": [],
      "source": [
        "alpha = .001"
      ]
    },
    {
      "cell_type": "code",
      "execution_count": null,
      "metadata": {
        "id": "N1d2F4JqhHwI"
      },
      "outputs": [],
      "source": [
        "lasso = Lasso(\n",
        "    alpha=alpha,\n",
        "    fit_intercept=True\n",
        ")"
      ]
    },
    {
      "cell_type": "code",
      "execution_count": null,
      "metadata": {
        "colab": {
          "base_uri": "https://localhost:8080/"
        },
        "id": "x9IyDcUGiPho",
        "outputId": "613a4e36-ed11-4707-abc9-421b544c1ee9"
      },
      "outputs": [],
      "source": [
        "lasso.fit(\n",
        "    df_features,\n",
        "    sr_targets, \n",
        ")"
      ]
    },
    {
      "cell_type": "code",
      "execution_count": null,
      "metadata": {
        "colab": {
          "base_uri": "https://localhost:8080/"
        },
        "id": "HmegirYfiU5j",
        "outputId": "ceb12d09-16ab-4adb-f90d-768a235bd8af"
      },
      "outputs": [],
      "source": [
        "lasso.coef_.round(3)"
      ]
    },
    {
      "cell_type": "code",
      "execution_count": null,
      "metadata": {
        "id": "wFtFUnHPiaH_"
      },
      "outputs": [],
      "source": [
        "sr_coef = pd.Series(lasso.coef_, index=df_features.columns)"
      ]
    },
    {
      "cell_type": "code",
      "execution_count": null,
      "metadata": {
        "colab": {
          "base_uri": "https://localhost:8080/"
        },
        "id": "AX4ZgWbVlI77",
        "outputId": "c83d763d-0107-426e-8731-5c05dd890cb0"
      },
      "outputs": [],
      "source": [
        "marker = sr_coef != 0\n",
        "sum(marker)"
      ]
    },
    {
      "cell_type": "code",
      "execution_count": null,
      "metadata": {
        "colab": {
          "base_uri": "https://localhost:8080/"
        },
        "id": "PV3PtV84ijdq",
        "outputId": "7a38a71e-aaa7-44ef-d94d-9afcd319ce32"
      },
      "outputs": [],
      "source": [
        "sr_coef.loc[marker]"
      ]
    },
    {
      "cell_type": "markdown",
      "metadata": {
        "id": "DIpTMQ37ip3c"
      },
      "source": [
        "## Is this a fair competition?\n",
        "\n",
        "Regularization strongly depends on the scaling of the features. We can see that they are very heterogenous. Those with higher variance will be penalized more."
      ]
    },
    {
      "cell_type": "code",
      "execution_count": null,
      "metadata": {
        "colab": {
          "base_uri": "https://localhost:8080/"
        },
        "id": "urLpUcgmkiT7",
        "outputId": "c3179396-d3e4-4a96-e019-fff2a60d3090"
      },
      "outputs": [],
      "source": [
        "df_features.std()"
      ]
    },
    {
      "cell_type": "code",
      "execution_count": null,
      "metadata": {
        "colab": {
          "base_uri": "https://localhost:8080/"
        },
        "id": "Ju9Vs7cbiuEK",
        "outputId": "476bc929-e837-4652-d31e-8773bfcd7a6c"
      },
      "outputs": [],
      "source": [
        "df_features.std().sort_values()"
      ]
    },
    {
      "cell_type": "code",
      "execution_count": null,
      "metadata": {
        "id": "AMU_8gZClkIv"
      },
      "outputs": [],
      "source": [
        "from sklearn.preprocessing import StandardScaler"
      ]
    },
    {
      "cell_type": "code",
      "execution_count": null,
      "metadata": {
        "id": "xo89kbhVi6_M"
      },
      "outputs": [],
      "source": [
        "scaler = StandardScaler()\n",
        "\n",
        "df_features_rescaled = pd.DataFrame(\n",
        "    scaler.fit_transform(df_features),\n",
        "    index=df_features.index,\n",
        "    columns=df_features.columns,\n",
        ")"
      ]
    },
    {
      "cell_type": "code",
      "execution_count": null,
      "metadata": {
        "colab": {
          "base_uri": "https://localhost:8080/"
        },
        "id": "oZEO5sZ2lAJX",
        "outputId": "b7ec7f8d-61d8-4eef-bfb0-6271b1b05406"
      },
      "outputs": [],
      "source": [
        "df_features_rescaled.mean()"
      ]
    },
    {
      "cell_type": "code",
      "execution_count": null,
      "metadata": {
        "colab": {
          "base_uri": "https://localhost:8080/"
        },
        "id": "Qnke_vmNjFWy",
        "outputId": "5cd93ebd-01c8-4f06-97e9-2c05c5514014"
      },
      "outputs": [],
      "source": [
        "df_features_rescaled.std()"
      ]
    },
    {
      "cell_type": "markdown",
      "metadata": {
        "id": "HiOTlijfjNy8"
      },
      "source": [
        "Let us now re-fit the Lasso with the rescaled `df_features`"
      ]
    },
    {
      "cell_type": "code",
      "execution_count": null,
      "metadata": {
        "colab": {
          "base_uri": "https://localhost:8080/"
        },
        "id": "w-6FoIwujL8g",
        "outputId": "17613854-ba8e-4a08-8df4-9d2362c5116e"
      },
      "outputs": [],
      "source": [
        "lasso.fit(\n",
        "    df_features_rescaled,\n",
        "    sr_targets, \n",
        ")"
      ]
    },
    {
      "cell_type": "code",
      "execution_count": null,
      "metadata": {
        "colab": {
          "base_uri": "https://localhost:8080/"
        },
        "id": "tv15Zdmql6Cj",
        "outputId": "a25f3cba-3b56-465f-ba49-5ef1637e4b65"
      },
      "outputs": [],
      "source": [
        "sr_coef = pd.Series(lasso.coef_, index=df_features.columns)\n",
        "sr_coef.abs().sort_values()"
      ]
    },
    {
      "cell_type": "code",
      "execution_count": null,
      "metadata": {
        "colab": {
          "base_uri": "https://localhost:8080/"
        },
        "id": "pCCCEzDYjL8i",
        "outputId": "92ba46a0-7db4-4dbc-9fb0-f14ec70427b6"
      },
      "outputs": [],
      "source": [
        "sum(sr_coef != 0)"
      ]
    },
    {
      "cell_type": "markdown",
      "metadata": {
        "id": "wWFZguIbjmPl"
      },
      "source": [
        "## What is the right penalty?\n",
        "\n",
        "For illustration, we just used `alpha=` to show the issue of a \"non-level playing field\". But how would we select the ideal penalty? By what criterion should this be done?"
      ]
    },
    {
      "cell_type": "code",
      "execution_count": null,
      "metadata": {
        "id": "7igPdO6ojpE3"
      },
      "outputs": [],
      "source": [
        "from sklearn.linear_model import lasso_path"
      ]
    },
    {
      "cell_type": "code",
      "execution_count": null,
      "metadata": {
        "colab": {
          "base_uri": "https://localhost:8080/"
        },
        "id": "HrL_nAnWokvt",
        "outputId": "442a5548-0f87-491a-8b7b-303c09614c51"
      },
      "outputs": [],
      "source": [
        "np.logspace(-5,-1,30)"
      ]
    },
    {
      "cell_type": "code",
      "execution_count": null,
      "metadata": {
        "id": "y7smeU9Tk38G"
      },
      "outputs": [],
      "source": [
        "lasso_alphas, lasso_coefs, _ = lasso_path(\n",
        "    df_features_rescaled, \n",
        "    sr_targets, \n",
        "    alphas=np.logspace(-5,-1,30)\n",
        ")\n",
        "lasso_logalphas = np.log10(lasso_alphas)"
      ]
    },
    {
      "cell_type": "code",
      "execution_count": null,
      "metadata": {
        "colab": {
          "base_uri": "https://localhost:8080/",
          "height": 568
        },
        "id": "vOpnw1mHrLjV",
        "outputId": "5e038238-aadf-48f0-cd59-d7f02c1d7d60"
      },
      "outputs": [],
      "source": [
        "fig, ax = plt.subplots(figsize=[16,9])\n",
        "ax.plot(lasso_logalphas, lasso_coefs.squeeze().T)\n",
        "ax.set_title('Lasso path')\n",
        "ax.set_xlabel('< low penalty | high penalty >')\n",
        "plt.grid()"
      ]
    },
    {
      "cell_type": "markdown",
      "metadata": {
        "id": "XHAfBVVSpLdM"
      },
      "source": [
        "## K-fold cross-validation\n",
        "\n",
        "<img src=\"https://scikit-learn.org/stable/_images/grid_search_cross_validation.png\" />"
      ]
    },
    {
      "cell_type": "code",
      "execution_count": null,
      "metadata": {
        "id": "3FnBQBhwo4DF"
      },
      "outputs": [],
      "source": [
        "from sklearn.linear_model import LassoCV\n",
        "from sklearn.model_selection import KFold"
      ]
    },
    {
      "cell_type": "code",
      "execution_count": null,
      "metadata": {
        "id": "6IwQG1BjpU7s"
      },
      "outputs": [],
      "source": [
        "cv = KFold(n_splits=10)"
      ]
    },
    {
      "cell_type": "code",
      "execution_count": null,
      "metadata": {
        "colab": {
          "base_uri": "https://localhost:8080/"
        },
        "id": "ZNJubYMmpXup",
        "outputId": "de602c6c-9ff7-40fb-f7c1-52431221cdb4"
      },
      "outputs": [],
      "source": [
        "lassocv = LassoCV(fit_intercept=True, cv=cv, n_alphas=100)\n",
        "result = lassocv.fit(df_features_rescaled, sr_targets)"
      ]
    },
    {
      "cell_type": "code",
      "execution_count": null,
      "metadata": {
        "colab": {
          "base_uri": "https://localhost:8080/",
          "height": 553
        },
        "id": "uiU-YXS_rRTL",
        "outputId": "7294f5db-0555-42be-f407-eabf3b470815"
      },
      "outputs": [],
      "source": [
        "fig = plt.figure(figsize=[16,9])\n",
        "plt.plot(np.log10(result.alphas_), result.mse_path_ - result.mse_path_.mean(axis=0, keepdims=True))\n",
        "plt.axvline(np.log10(result.alpha_))\n",
        "plt.title('MSE across different log10(alpha) for 5-fold cross-validation')\n",
        "plt.grid()"
      ]
    },
    {
      "cell_type": "code",
      "execution_count": null,
      "metadata": {
        "colab": {
          "base_uri": "https://localhost:8080/"
        },
        "id": "qz1iLuX16jVy",
        "outputId": "addedc0c-9d13-4c21-ac21-29844cbd7ec9"
      },
      "outputs": [],
      "source": [
        "sr_coef = pd.Series(lassocv.coef_, index=df_features.columns)\n",
        "sr_coef[sr_coef != 0].sort_values()"
      ]
    },
    {
      "cell_type": "markdown",
      "metadata": {
        "id": "3Wlk8PQ4mPNY"
      },
      "source": [
        "## Other types of cross-validation techniques\n",
        "\n",
        "Different problems, data availability require different cross-validation methods. We discuss a few here. For a comprehensive overview, see [sklearn manual](https://scikit-learn.org/stable/modules/cross_validation.html)\n",
        "\n",
        "### Leave One Out\n",
        "```\n",
        "fold 0   x . . . . . . . . .\n",
        "fold 1   . x . . . . . . . .\n",
        " ...\n",
        "fold N   . . . . . . . . . x\n",
        "```\n",
        "Pros: ?  \n",
        "Cons: ?\n",
        "\n",
        "### Stratified K-Fold\n",
        "<img src=\"https://scikit-learn.org/stable/_images/sphx_glr_plot_cv_indices_009.png\" />\n",
        "\n",
        "Pros: ?  \n",
        "Cons: ?\n",
        "\n",
        "### Timeseries Split\n",
        "<img src=\"https://scikit-learn.org/stable/_images/sphx_glr_plot_cv_indices_013.png\" />\n",
        "\n",
        "Pros: ?  \n",
        "Cons: ?\n",
        "\n",
        "\n",
        "### hv-block Cross Validation\n",
        "<img src=\"https://images.deepai.org/converted-papers/1910.08904/images/hv-block.png\"/>\n",
        "\n",
        "Pros: ?  \n",
        "Cons: ?\n",
        "\n",
        "### Group K-fold\n",
        "<img src=\"https://scikit-learn.org/stable/_images/sphx_glr_plot_cv_indices_007.png\">\n",
        "\n",
        "Pros: ?  \n",
        "Cons: ?"
      ]
    },
    {
      "cell_type": "markdown",
      "metadata": {
        "id": "k29JTEl16sD4"
      },
      "source": [
        "# Decision trees and random forests\n",
        "\n",
        "<img src=\"https://scikit-learn.org/stable/_images/sphx_glr_plot_tree_regression_001.png\" />"
      ]
    },
    {
      "cell_type": "markdown",
      "metadata": {
        "id": "zftSLTGl7EAo"
      },
      "source": [
        "We now explore decision trees and their generalization, random forests. Trees are very powerful but tend to overfit. Yesterday, we looked at how their recall and precision fared when allowing for `max_depth` to change.\n",
        "\n",
        "Today we use the classification report to compare decision trees, random forests and support vector machines on **out-of-sample** performances.\n",
        "\n",
        "For this we do the following for each model\n",
        "\n",
        "1. Split the sample into training and testing\n",
        "2. Pick hyperparameters using cross-validation in the training\n",
        "3. Make predictions for the testing data"
      ]
    },
    {
      "cell_type": "code",
      "execution_count": null,
      "metadata": {
        "id": "fK3-y2kPZfui"
      },
      "outputs": [],
      "source": [
        "from sklearn.tree import DecisionTreeRegressor\n",
        "from sklearn.ensemble import RandomForestRegressor\n",
        "from sklearn.svm import SVR\n",
        "\n",
        "from sklearn.model_selection import train_test_split\n",
        "from sklearn.model_selection import GridSearchCV\n",
        "\n",
        "from sklearn.metrics import mean_squared_error"
      ]
    },
    {
      "cell_type": "markdown",
      "metadata": {
        "id": "6YqPRiqR8_95"
      },
      "source": [
        "Splitting into training and testing"
      ]
    },
    {
      "cell_type": "code",
      "execution_count": null,
      "metadata": {
        "id": "tI9xo6KZLw6a"
      },
      "outputs": [],
      "source": [
        "X = df_features.values \n",
        "y = sr_targets.squeeze().values"
      ]
    },
    {
      "cell_type": "code",
      "execution_count": null,
      "metadata": {
        "id": "2QH-BGcK9HYf"
      },
      "outputs": [],
      "source": [
        "X_train, X_test, y_train, y_test = train_test_split(\n",
        "    X, y, \n",
        "    test_size=.2,\n",
        "    shuffle=True,\n",
        "    random_state=1,\n",
        ")"
      ]
    },
    {
      "cell_type": "markdown",
      "metadata": {
        "id": "Bv16G0DX9RKf"
      },
      "source": [
        "## Decision tree"
      ]
    },
    {
      "cell_type": "code",
      "execution_count": null,
      "metadata": {
        "id": "45papqsEZfuj"
      },
      "outputs": [],
      "source": [
        "mdl_tree = DecisionTreeRegressor()"
      ]
    },
    {
      "cell_type": "code",
      "execution_count": null,
      "metadata": {
        "id": "x4cdmaJm_m_n"
      },
      "outputs": [],
      "source": [
        "gscv_tree = GridSearchCV(\n",
        "    estimator=mdl_tree,\n",
        "    param_grid=dict(\n",
        "        max_depth=np.arange(1,20),\n",
        "    ),\n",
        "    cv=KFold(n_splits=5),\n",
        ")"
      ]
    },
    {
      "cell_type": "code",
      "execution_count": null,
      "metadata": {
        "colab": {
          "base_uri": "https://localhost:8080/"
        },
        "id": "QJ8Dj8kqAXI6",
        "outputId": "66ff71aa-433a-436b-b978-5985c03e9a6c"
      },
      "outputs": [],
      "source": [
        "gscv_tree.fit(X_train, y_train)"
      ]
    },
    {
      "cell_type": "code",
      "execution_count": null,
      "metadata": {
        "colab": {
          "base_uri": "https://localhost:8080/"
        },
        "id": "vvozITKoBhHw",
        "outputId": "451737e6-cfed-4fbe-cf08-3c9b822ddc29"
      },
      "outputs": [],
      "source": [
        "gscv_tree.cv_results_"
      ]
    },
    {
      "cell_type": "code",
      "execution_count": null,
      "metadata": {
        "id": "wJmEl-kFBoir"
      },
      "outputs": [],
      "source": [
        "optm_tree = gscv_tree.best_estimator_"
      ]
    },
    {
      "cell_type": "code",
      "execution_count": null,
      "metadata": {
        "colab": {
          "base_uri": "https://localhost:8080/"
        },
        "id": "zkph-H4PQO3i",
        "outputId": "92f17c4c-833b-42e9-d8e1-4f502dcbda64"
      },
      "outputs": [],
      "source": [
        "optm_tree.max_depth"
      ]
    },
    {
      "cell_type": "code",
      "execution_count": null,
      "metadata": {
        "id": "-8-FJkVhHrBw"
      },
      "outputs": [],
      "source": [
        "nonzero = optm_tree.feature_importances_ != 0"
      ]
    },
    {
      "cell_type": "code",
      "execution_count": null,
      "metadata": {
        "colab": {
          "base_uri": "https://localhost:8080/"
        },
        "id": "rPypqKp1Qj_v",
        "outputId": "c36ce183-9904-405c-a77e-85df412b5be8"
      },
      "outputs": [],
      "source": [
        "df_features.columns[nonzero]"
      ]
    },
    {
      "cell_type": "code",
      "execution_count": null,
      "metadata": {
        "id": "_D83-B6dQYXL"
      },
      "outputs": [],
      "source": [
        "nonzero = optm_tree.feature_importances_ != 0"
      ]
    },
    {
      "cell_type": "code",
      "execution_count": null,
      "metadata": {
        "id": "n6pWef2DZfuk"
      },
      "outputs": [],
      "source": [
        "y_test_pred = optm_tree.predict(X_test)\n",
        "y_train_pred = optm_tree.predict(X_train)\n",
        "\n",
        "mse_tree_test = mean_squared_error(y_test_pred, y_test)\n",
        "mse_tree_train = mean_squared_error(y_train_pred, y_train)"
      ]
    },
    {
      "cell_type": "code",
      "execution_count": null,
      "metadata": {
        "colab": {
          "base_uri": "https://localhost:8080/"
        },
        "id": "07hiXWMuCfQS",
        "outputId": "2a6c8e97-e6e0-4ee2-a6fb-422c58ba887f"
      },
      "outputs": [],
      "source": [
        "mse_tree_test"
      ]
    },
    {
      "cell_type": "code",
      "execution_count": null,
      "metadata": {
        "colab": {
          "base_uri": "https://localhost:8080/"
        },
        "id": "pioIqvDXH2fR",
        "outputId": "376b4334-fd77-47ff-de7b-d8ccfbcdbce2"
      },
      "outputs": [],
      "source": [
        "mse_tree_train"
      ]
    },
    {
      "cell_type": "markdown",
      "metadata": {
        "id": "tTTY1M3OCqvG"
      },
      "source": [
        "## Random Forest\n",
        "\n",
        "<img src=\"https://upload.wikimedia.org/wikipedia/commons/7/76/Random_forest_diagram_complete.png\" />"
      ]
    },
    {
      "cell_type": "code",
      "execution_count": null,
      "metadata": {
        "id": "8KhXYOG2CqvH"
      },
      "outputs": [],
      "source": [
        "mdl_forest = RandomForestRegressor(\n",
        "    n_estimators=5\n",
        ")"
      ]
    },
    {
      "cell_type": "code",
      "execution_count": null,
      "metadata": {
        "id": "6HXjPLo4CqvH"
      },
      "outputs": [],
      "source": [
        "gscv_forest = GridSearchCV(\n",
        "    estimator=mdl_forest,\n",
        "    param_grid=dict(\n",
        "        max_depth=np.arange(1,20),\n",
        "    ),\n",
        "    cv=KFold(n_splits=10),\n",
        ")"
      ]
    },
    {
      "cell_type": "code",
      "execution_count": null,
      "metadata": {
        "colab": {
          "base_uri": "https://localhost:8080/"
        },
        "id": "q80Sqst9CqvI",
        "outputId": "12127ea7-8725-4f14-ae6e-624c2883366b"
      },
      "outputs": [],
      "source": [
        "gscv_forest.fit(X_train, y_train)"
      ]
    },
    {
      "cell_type": "code",
      "execution_count": null,
      "metadata": {
        "id": "t1j2DAlrCqvI"
      },
      "outputs": [],
      "source": [
        "optm_forest = gscv_forest.best_estimator_"
      ]
    },
    {
      "cell_type": "code",
      "execution_count": null,
      "metadata": {
        "colab": {
          "base_uri": "https://localhost:8080/"
        },
        "id": "hG_LEH1jQ15f",
        "outputId": "1ea029c8-fa6c-4b10-8c35-065f86f01893"
      },
      "outputs": [],
      "source": [
        "optm_forest.n_estimators"
      ]
    },
    {
      "cell_type": "code",
      "execution_count": null,
      "metadata": {
        "colab": {
          "base_uri": "https://localhost:8080/"
        },
        "id": "4pZvgv2dQ3qV",
        "outputId": "743f66f8-26e4-44ad-88c7-d664f19fd458"
      },
      "outputs": [],
      "source": [
        "optm_forest.max_depth"
      ]
    },
    {
      "cell_type": "code",
      "execution_count": null,
      "metadata": {
        "id": "vqVU9d22CqvJ"
      },
      "outputs": [],
      "source": [
        "y_test_pred = optm_forest.predict(X_test)\n",
        "y_train_pred = optm_forest.predict(X_train)\n",
        "mse_forest_test = mean_squared_error(y_test_pred, y_test)\n",
        "mse_forest_train = mean_squared_error(y_train_pred, y_train)"
      ]
    },
    {
      "cell_type": "code",
      "execution_count": null,
      "metadata": {
        "colab": {
          "base_uri": "https://localhost:8080/"
        },
        "id": "2DqxF9IsCqvJ",
        "outputId": "0cc88440-827e-441e-e6ec-e284d26796b2"
      },
      "outputs": [],
      "source": [
        "mse_forest_test"
      ]
    },
    {
      "cell_type": "code",
      "execution_count": null,
      "metadata": {
        "colab": {
          "base_uri": "https://localhost:8080/"
        },
        "id": "dlXTJ56-HEHb",
        "outputId": "d6016eec-45cc-4154-a83b-aa3bc91aac74"
      },
      "outputs": [],
      "source": [
        "mse_forest_train"
      ]
    },
    {
      "cell_type": "markdown",
      "metadata": {
        "id": "3rnW4agBIAwT"
      },
      "source": [
        "## Support Vector Regression\n",
        "\n",
        "\n",
        "<img src=\"https://upload.wikimedia.org/wikipedia/commons/thumb/7/7a/Svr_epsilons_demo.svg/2880px-Svr_epsilons_demo.svg.png\" />"
      ]
    },
    {
      "cell_type": "code",
      "execution_count": null,
      "metadata": {
        "id": "hK7LSKSSIAwU"
      },
      "outputs": [],
      "source": [
        "mdl_svr = SVR()"
      ]
    },
    {
      "cell_type": "code",
      "execution_count": null,
      "metadata": {
        "id": "_8tWYcPrIAwU"
      },
      "outputs": [],
      "source": [
        "gscv_svr = GridSearchCV(\n",
        "    estimator=mdl_svr,\n",
        "    param_grid=dict(\n",
        "        kernel=['linear','rbf'],\n",
        "        C=np.linspace(.1,2,10),\n",
        "    ),\n",
        "    cv=KFold(n_splits=10),\n",
        ")"
      ]
    },
    {
      "cell_type": "code",
      "execution_count": null,
      "metadata": {
        "id": "IppcUoo4IAwV"
      },
      "outputs": [],
      "source": [
        "gscv_svr.fit(X_train, y_train)"
      ]
    },
    {
      "cell_type": "code",
      "execution_count": null,
      "metadata": {
        "id": "OXEdpGOaIAwV"
      },
      "outputs": [],
      "source": [
        "optm_svr = gscv_svr.best_estimator_"
      ]
    },
    {
      "cell_type": "code",
      "execution_count": null,
      "metadata": {
        "id": "Vst5DbM9IAwV"
      },
      "outputs": [],
      "source": [
        "y_test_pred = optm_svr.predict(X_test)\n",
        "y_train_pred = optm_svr.predict(X_train)\n",
        "mse_svr_test = mean_squared_error(y_test_pred, y_test)\n",
        "mse_svr_train = mean_squared_error(y_train_pred, y_train)"
      ]
    },
    {
      "cell_type": "code",
      "execution_count": null,
      "metadata": {
        "id": "VAFGnIwqIAwW"
      },
      "outputs": [],
      "source": [
        "mse_svr_test"
      ]
    },
    {
      "cell_type": "code",
      "execution_count": null,
      "metadata": {
        "id": "KZFo-W-FJIBH"
      },
      "outputs": [],
      "source": [
        "mse_svr_train"
      ]
    },
    {
      "cell_type": "markdown",
      "metadata": {
        "id": "4Aw3fNO5KkYB"
      },
      "source": [
        "## Comparison"
      ]
    },
    {
      "cell_type": "code",
      "execution_count": null,
      "metadata": {
        "colab": {
          "base_uri": "https://localhost:8080/"
        },
        "id": "QJpNGuJiKyNu",
        "outputId": "ea954d5c-c0cc-402e-fa1c-6c10c7b5cd34"
      },
      "outputs": [],
      "source": [
        "print('mse_tree_test   ', mse_tree_test)\n",
        "print('mse_tree_train  ', mse_tree_train)\n",
        "print('mse_forest_test ', mse_forest_test)\n",
        "print('mse_forest_train', mse_forest_train)\n",
        "print('mse_svr_test    ', mse_svr_test)\n",
        "print('mse_svr_train   ', mse_svr_train)"
      ]
    },
    {
      "cell_type": "markdown",
      "metadata": {
        "id": "Pnng3L_RLgj4"
      },
      "source": [
        "# Clustering\n",
        "\n",
        "We try to cluster firms based on their characteristics. Note that we do not use the returns here, as this is **unsupervised learning**. I.e. we are not interested in clustering such that we obtain better predictions. Instead, we want to best \"summarize\" the data for the \"general reader\". \n",
        "\n",
        "See PCA and Dynamic factor models.\n",
        "\n",
        "Full documentation here [sklearn manual](https://scikit-learn.org/stable/modules/clustering.html#hierarchical-clustering)"
      ]
    },
    {
      "cell_type": "code",
      "execution_count": null,
      "metadata": {
        "id": "dMbXsT7YNDKh"
      },
      "outputs": [],
      "source": [
        "x = 'aeavol'\n",
        "y = 'rd'"
      ]
    },
    {
      "cell_type": "code",
      "execution_count": null,
      "metadata": {
        "id": "tqD_nEODZtq7"
      },
      "outputs": [],
      "source": [
        "df_X = np.sqrt(df_features.loc[:,[x,y]])\n",
        "df_X = df_X.dropna()"
      ]
    },
    {
      "cell_type": "code",
      "execution_count": null,
      "metadata": {
        "colab": {
          "base_uri": "https://localhost:8080/",
          "height": 296
        },
        "id": "MgtuCD-vE5n9",
        "outputId": "d6e35ab4-0321-46f1-a454-35c31d81fdbf"
      },
      "outputs": [],
      "source": [
        "df_X.plot.scatter(x,y)"
      ]
    },
    {
      "cell_type": "code",
      "execution_count": null,
      "metadata": {
        "id": "iS5-F1LGmsgg"
      },
      "outputs": [],
      "source": [
        "n_clusters = 3\n",
        "colors = ['red','blue','green']"
      ]
    },
    {
      "cell_type": "markdown",
      "metadata": {
        "id": "yoII7R0kbKnr"
      },
      "source": [
        "## KMeans clustering"
      ]
    },
    {
      "cell_type": "code",
      "execution_count": null,
      "metadata": {
        "id": "jN7qRigOdUiT"
      },
      "outputs": [],
      "source": [
        "from sklearn.cluster import KMeans"
      ]
    },
    {
      "cell_type": "markdown",
      "metadata": {
        "id": "3hQWqMorNl3k"
      },
      "source": [
        "We first estimate the full model using `KMeans`"
      ]
    },
    {
      "cell_type": "code",
      "execution_count": null,
      "metadata": {
        "id": "bOdbvEf8LoYn"
      },
      "outputs": [],
      "source": [
        "kmeans = KMeans(\n",
        "    n_clusters=n_clusters, \n",
        "    random_state=0,\n",
        ").fit(df_X)"
      ]
    },
    {
      "cell_type": "markdown",
      "metadata": {
        "id": "B30--UcjN5Je"
      },
      "source": [
        "Results are the cluster memberships of each company"
      ]
    },
    {
      "cell_type": "code",
      "execution_count": null,
      "metadata": {
        "colab": {
          "base_uri": "https://localhost:8080/"
        },
        "id": "OKsgFYTaNcfm",
        "outputId": "465c3f06-10d9-4bf1-a109-c9e25def1204"
      },
      "outputs": [],
      "source": [
        "sr_clusters = pd.Series(kmeans.labels_, index=df_X.index, name='clusters')\n",
        "sr_clusters"
      ]
    },
    {
      "cell_type": "code",
      "execution_count": null,
      "metadata": {
        "colab": {
          "base_uri": "https://localhost:8080/"
        },
        "id": "j-D8a7BCXi4G",
        "outputId": "9f9e7f23-a5d7-4284-a768-1cc6d82069f7"
      },
      "outputs": [],
      "source": [
        "sr_clusters.value_counts()"
      ]
    },
    {
      "cell_type": "code",
      "execution_count": null,
      "metadata": {
        "colab": {
          "base_uri": "https://localhost:8080/",
          "height": 175
        },
        "id": "HBysVyhSV8Kp",
        "outputId": "73bb4c06-2e20-48e5-cc5e-274d35488523"
      },
      "outputs": [],
      "source": [
        "df_X.join(sr_clusters).groupby('clusters').mean()"
      ]
    },
    {
      "cell_type": "code",
      "execution_count": null,
      "metadata": {
        "id": "Ru5E9tyfNkRi"
      },
      "outputs": [],
      "source": [
        "df_X_clusters = df_X.join(sr_clusters).groupby('clusters')\n",
        "centroids = df_X_clusters.mean().values"
      ]
    },
    {
      "cell_type": "code",
      "execution_count": null,
      "metadata": {
        "id": "oGwKYy9gl79L"
      },
      "outputs": [],
      "source": [
        "# store for comparison\n",
        "sr_clusters_km = sr_clusters.copy()"
      ]
    },
    {
      "cell_type": "code",
      "execution_count": null,
      "metadata": {
        "colab": {
          "base_uri": "https://localhost:8080/",
          "height": 265
        },
        "id": "s2cD2vwqMTAv",
        "outputId": "6d43e8c0-1c9e-4776-a8d3-40fa6cde9195"
      },
      "outputs": [],
      "source": [
        "for permno, (x1, x2) in df_X.iterrows():\n",
        "  cluster = sr_clusters[permno]\n",
        "  color = colors[cluster]\n",
        "  plt.plot(\n",
        "    x1, x2,\n",
        "    color=color,\n",
        "    marker='o', markersize=3, lw=0\n",
        "  )\n",
        "for i, (x1, x2) in enumerate(centroids):\n",
        "  plt.plot(x1, x2, color=colors[i], marker='X', markersize=40, alpha=.6)"
      ]
    },
    {
      "cell_type": "markdown",
      "metadata": {
        "id": "lWrjk0azbWXE"
      },
      "source": [
        "## AgglomerativeClustering\n",
        "\n",
        "<img src=\"https://scikit-learn.org/stable/_images/sphx_glr_plot_agglomerative_dendrogram_001.png\">"
      ]
    },
    {
      "cell_type": "code",
      "execution_count": null,
      "metadata": {
        "id": "PKjFCBvrdVU8"
      },
      "outputs": [],
      "source": [
        "from sklearn.cluster import AgglomerativeClustering"
      ]
    },
    {
      "cell_type": "code",
      "execution_count": null,
      "metadata": {
        "id": "dhO-dp_mbWXF"
      },
      "outputs": [],
      "source": [
        "agg = AgglomerativeClustering(\n",
        "    n_clusters=n_clusters\n",
        ").fit(df_X)\n",
        "\n",
        "sr_clusters = pd.Series(agg.labels_, index=df_X.index, name='clusters')\n",
        "df_X_clusters = df_X.join(sr_clusters).groupby('clusters')\n",
        "centers = df_X_clusters.mean().values"
      ]
    },
    {
      "cell_type": "code",
      "execution_count": null,
      "metadata": {
        "id": "bZVMZGUsl5yf"
      },
      "outputs": [],
      "source": [
        "# store for comparison\n",
        "sr_clusters_agg = sr_clusters.copy()"
      ]
    },
    {
      "cell_type": "code",
      "execution_count": null,
      "metadata": {
        "colab": {
          "base_uri": "https://localhost:8080/",
          "height": 265
        },
        "id": "YFKT8h0AbWXF",
        "outputId": "1dd88dbf-fa8a-4e9c-fad9-47404ed10e80"
      },
      "outputs": [],
      "source": [
        "for permno, (x1, x2) in df_X.iterrows():\n",
        "  cluster = sr_clusters[permno]\n",
        "  color = colors[cluster]\n",
        "  plt.plot(\n",
        "    x1, x2,\n",
        "    color=color,\n",
        "    marker='o', markersize=3, lw=0\n",
        "  )\n",
        "for i, (x1, x2) in enumerate(centers):\n",
        "  plt.plot(x1, x2, color=colors[i], marker='X', markersize=40, alpha=.6)"
      ]
    },
    {
      "cell_type": "markdown",
      "metadata": {
        "id": "vDJrU-_IfPFF"
      },
      "source": [
        "## How to evaluate clustering performance?"
      ]
    },
    {
      "cell_type": "code",
      "execution_count": null,
      "metadata": {
        "id": "cTC1iRB5jCuo"
      },
      "outputs": [],
      "source": [
        "from sklearn.metrics import silhouette_samples, silhouette_score"
      ]
    },
    {
      "cell_type": "code",
      "execution_count": null,
      "metadata": {
        "colab": {
          "base_uri": "https://localhost:8080/"
        },
        "id": "dOXe3sQKYuNO",
        "outputId": "b38689f5-b377-443a-d0de-d77f770b2ba9"
      },
      "outputs": [],
      "source": [
        "\n",
        "help(silhouette_score)"
      ]
    },
    {
      "cell_type": "markdown",
      "metadata": {
        "id": "5SMykwf4jWev"
      },
      "source": [
        "## KMeans silhouette"
      ]
    },
    {
      "cell_type": "code",
      "execution_count": null,
      "metadata": {
        "colab": {
          "base_uri": "https://localhost:8080/",
          "height": 369
        },
        "id": "mMT3itUbkfmr",
        "outputId": "9c0448e3-cb18-4046-a5b5-f718ca0b957d"
      },
      "outputs": [],
      "source": [
        "fig, axes = plt.subplots(1, n_clusters, sharey=True, figsize=[15,5])\n",
        "\n",
        "silhouette_values = silhouette_samples(df_X, sr_clusters_km)\n",
        "\n",
        "for cluster in sr_clusters.unique():\n",
        "  ax = axes[cluster]\n",
        "  color = colors[cluster]\n",
        "  sils = silhouette_values[sr_clusters == cluster]\n",
        "  sils = sorted(sils)\n",
        "  ax.bar(range(len(sils)), sils, color=color, width=2)\n",
        "\n",
        "  sils_avg = np.mean(sils)\n",
        "  ax.axhline(sils_avg, lw=3, ls='--', color=color)\n",
        "  ax.set_title(f'Cluster {cluster}\\n(avg. silhoutte: {sils_avg:.3f}')\n",
        "\n",
        "fig.tight_layout()"
      ]
    },
    {
      "cell_type": "markdown",
      "metadata": {
        "id": "9PSQzsH6mN5y"
      },
      "source": [
        "## Agglomerative clustering"
      ]
    },
    {
      "cell_type": "code",
      "execution_count": null,
      "metadata": {
        "colab": {
          "base_uri": "https://localhost:8080/",
          "height": 369
        },
        "id": "7gTRbVSxmN5z",
        "outputId": "99db5822-a030-4904-f816-f28eacc8e88a"
      },
      "outputs": [],
      "source": [
        "fig, axes = plt.subplots(1, n_clusters, sharey=True, figsize=[15,5])\n",
        "\n",
        "silhouette_values = silhouette_samples(df_X, sr_clusters_agg)\n",
        "\n",
        "for cluster in sr_clusters.unique():\n",
        "  ax = axes[cluster]\n",
        "  color = colors[cluster]\n",
        "  sils = silhouette_values[sr_clusters == cluster]\n",
        "  sils = sorted(sils)\n",
        "  ax.bar(range(len(sils)), sils, color=color, width=2)\n",
        "\n",
        "  sils_avg = np.mean(sils)\n",
        "  ax.axhline(sils_avg, lw=3, ls='--', color=color)\n",
        "  ax.set_title(f'Cluster {cluster}\\n(avg. silhoutte: {sils_avg:.3f}')\n",
        "\n",
        "fig.tight_layout()"
      ]
    }
  ],
  "metadata": {
    "colab": {
      "include_colab_link": true,
      "provenance": []
    },
    "kernelspec": {
      "display_name": "Python 3.9.0 64-bit",
      "language": "python",
      "name": "python3"
    },
    "language_info": {
      "name": "python",
      "version": "3.9.0"
    },
    "vscode": {
      "interpreter": {
        "hash": "11938c6bc6919ae2720b4d5011047913343b08a43b18698fd82dedb0d4417594"
      }
    }
  },
  "nbformat": 4,
  "nbformat_minor": 0
}
