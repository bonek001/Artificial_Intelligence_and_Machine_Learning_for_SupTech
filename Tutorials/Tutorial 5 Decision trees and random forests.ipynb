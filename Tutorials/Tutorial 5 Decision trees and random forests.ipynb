{
  "cells": [
    {
      "cell_type": "markdown",
      "metadata": {
        "id": "view-in-github",
        "colab_type": "text"
      },
      "source": [
        "<a href=\"https://colab.research.google.com/github/mnijhuis-dnb/Artificial_Intelligence_and_Machine_Learning_for_SupTech/blob/main/Tutorials/Tutorial%205%20Decision%20trees%20and%20random%20forests.ipynb\" target=\"_parent\"><img src=\"https://colab.research.google.com/assets/colab-badge.svg\" alt=\"Open In Colab\"/></a>"
      ]
    },
    {
      "cell_type": "markdown",
      "metadata": {
        "id": "NU0xCHIKJRSG"
      },
      "source": [
        "##Artificial Intelligence and Machine Learning for SupTech  \n",
        "Tutorial 5: Decision trees and random forests\n",
        "\n",
        "*\tGrowing your own decision tree\n",
        "*\tHow deep? How many splits? How big are the leaves?\n",
        "*\tFrom trees to random forests\n",
        "*\tComparing performance with the confusion matrix\n",
        "\n",
        "<br/>\n",
        "\n",
        "14 March 2023  \n",
        "\n",
        "**Instructors**  \n",
        "Prof. Iman van Lelyveld (iman.van.lelyveld@vu.nl)<br/>\n",
        "Dr. Michiel Nijhuis (m.nijhuis@dnb.nl)  "
      ]
    },
    {
      "cell_type": "markdown",
      "metadata": {
        "id": "JiFMCYvBSw7E"
      },
      "source": [
        "## Company performance\n",
        "The data we are going to work with in this tutorial is data from the performance of companies over a 5 year period. We are going to see if we can predict the sector a company is operating in based on the performance data"
      ]
    },
    {
      "cell_type": "code",
      "execution_count": null,
      "metadata": {
        "id": "cG7h_DZoN9Ld"
      },
      "outputs": [],
      "source": [
        "!gdown 1PCu4jNahysRpZ72z31KHpVkyAOp6nrKj"
      ]
    },
    {
      "cell_type": "code",
      "execution_count": null,
      "metadata": {
        "id": "LCMq0j6PR6Nz"
      },
      "outputs": [],
      "source": [
        "import pandas as pd\n",
        "import numpy as np\n",
        "import matplotlib.pyplot as plt"
      ]
    },
    {
      "cell_type": "markdown",
      "metadata": {
        "id": "FI4LnwlER-8c"
      },
      "source": [
        "Let's start by reading in the data"
      ]
    },
    {
      "cell_type": "code",
      "execution_count": null,
      "metadata": {
        "id": "mMbHUa4GGgv0"
      },
      "outputs": [],
      "source": [
        "df = pd.read_csv('/content/company_data.csv', index_col=0)"
      ]
    },
    {
      "cell_type": "code",
      "source": [
        "df = df.fillna(-1)"
      ],
      "metadata": {
        "id": "TjYHSndXOzpF"
      },
      "execution_count": null,
      "outputs": []
    },
    {
      "cell_type": "code",
      "execution_count": null,
      "metadata": {
        "id": "VvPJ_egTZpsN"
      },
      "outputs": [],
      "source": [
        "df"
      ]
    },
    {
      "cell_type": "markdown",
      "source": [
        "In this case we are going to take the data of 2017"
      ],
      "metadata": {
        "id": "vzcH44EdJ_B6"
      }
    },
    {
      "cell_type": "code",
      "execution_count": null,
      "metadata": {
        "id": "ONVovoMEZt-G"
      },
      "outputs": [],
      "source": [
        "df_2017 = df[df['year']==2017]"
      ]
    },
    {
      "cell_type": "markdown",
      "source": [
        "Explore the data a bit to get a better feel for what is in the data"
      ],
      "metadata": {
        "id": "Hs8X2J3WKOc_"
      }
    },
    {
      "cell_type": "code",
      "source": [],
      "metadata": {
        "id": "QkuBse-lWgyV"
      },
      "execution_count": null,
      "outputs": []
    },
    {
      "cell_type": "markdown",
      "metadata": {
        "id": "gz-dFhFoUlqw"
      },
      "source": [
        "There are some categories with a relatively low number of observations, so let's combine these observations within a single category"
      ]
    },
    {
      "cell_type": "code",
      "source": [
        "df_2017['Sector'] = df_2017['Sector'].replace({'Consumer Defensive':'Other', 'Utilities':'Other', 'Communication Services':'Other'})"
      ],
      "metadata": {
        "id": "tg1s-km3LzRW"
      },
      "execution_count": null,
      "outputs": []
    },
    {
      "cell_type": "markdown",
      "source": [
        "Now we can import the decision tree model, scale the data and make a test train split"
      ],
      "metadata": {
        "id": "TTyGlaigNUU8"
      }
    },
    {
      "cell_type": "code",
      "source": [
        "from sklearn.model_selection import train_test_split\n",
        "from sklearn.tree import DecisionTreeClassifier "
      ],
      "metadata": {
        "id": "9XWBqPdSMiNq"
      },
      "execution_count": null,
      "outputs": []
    },
    {
      "cell_type": "code",
      "source": [
        "from sklearn.preprocessing import MinMaxScaler"
      ],
      "metadata": {
        "id": "kzAfQDMiZVtg"
      },
      "execution_count": null,
      "outputs": []
    },
    {
      "cell_type": "code",
      "source": [
        "scaler = MinMaxScaler()\n",
        "numeric_columns = df_2017.select_dtypes(include=[np.float64, np.int64]).columns\n",
        "df_2017.loc[:,numeric_columns] = scaler.fit_transform(df_2017[numeric_columns])"
      ],
      "metadata": {
        "id": "dsj9xb8fZefm"
      },
      "execution_count": null,
      "outputs": []
    },
    {
      "cell_type": "code",
      "source": [
        "df_2017"
      ],
      "metadata": {
        "id": "9HdP-fL9ZjQ3"
      },
      "execution_count": null,
      "outputs": []
    },
    {
      "cell_type": "code",
      "execution_count": null,
      "metadata": {
        "id": "8qkXgQZdUxDi"
      },
      "outputs": [],
      "source": [
        " x_train, x_test, y_train, y_test = train_test_split(df_2017.drop(columns=['Sector']), df_2017['Sector'], test_size=0.33, random_state=42)"
      ]
    },
    {
      "cell_type": "markdown",
      "source": [
        "Let's check if we have enough data points of each sector in both the test and train data"
      ],
      "metadata": {
        "id": "hfBmNLLINjKi"
      }
    },
    {
      "cell_type": "code",
      "source": [
        "pd.concat([y_test.value_counts().rename('Test'), y_train.value_counts().rename('Train')], axis=1)"
      ],
      "metadata": {
        "id": "udy6s-zGNiwv"
      },
      "execution_count": null,
      "outputs": []
    },
    {
      "cell_type": "markdown",
      "source": [
        "We can set the parameters of the decision treee"
      ],
      "metadata": {
        "id": "3cB_FRi1Ndb5"
      }
    },
    {
      "cell_type": "code",
      "source": [
        "dtc = DecisionTreeClassifier(criterion = \"gini\", \n",
        "                             splitter = \"best\", \n",
        "                             max_depth = 7, \n",
        "                             min_samples_split = 10, \n",
        "                             min_samples_leaf = 5, \n",
        "                             min_weight_fraction_leaf = 0, \n",
        "                             max_features = None, \n",
        "                             random_state = 11, \n",
        "                             max_leaf_nodes = None, \n",
        "                             min_impurity_decrease = 0, \n",
        "                             class_weight = None, \n",
        "                             ccp_alpha = 0)"
      ],
      "metadata": {
        "id": "cg_n8nodNeMu"
      },
      "execution_count": null,
      "outputs": []
    },
    {
      "cell_type": "code",
      "execution_count": null,
      "metadata": {
        "id": "1DlmZeHxVOBP"
      },
      "outputs": [],
      "source": [
        "dtc = dtc.fit(x_train, y_train)"
      ]
    },
    {
      "cell_type": "code",
      "execution_count": null,
      "metadata": {
        "id": "9A7_pTl_VRN_"
      },
      "outputs": [],
      "source": [
        "dtc.predict(x_test)"
      ]
    },
    {
      "cell_type": "markdown",
      "source": [
        "To test how the model is performing we can just count the amount of correct classifications and divide it by the number of samples. Can you do this?"
      ],
      "metadata": {
        "id": "nzbN4sHPVLtq"
      }
    },
    {
      "cell_type": "code",
      "source": [],
      "metadata": {
        "id": "wCyK5_XWVlwC"
      },
      "execution_count": null,
      "outputs": []
    },
    {
      "cell_type": "markdown",
      "metadata": {
        "id": "EOLm78I1UFPG"
      },
      "source": [
        "We can analyse the results using a confusion matrix"
      ]
    },
    {
      "cell_type": "code",
      "execution_count": null,
      "metadata": {
        "id": "m_Gs5alsibLQ"
      },
      "outputs": [],
      "source": [
        "from sklearn.metrics import confusion_matrix"
      ]
    },
    {
      "cell_type": "code",
      "source": [
        "pd.DataFrame(confusion_matrix(y_test, dtc.predict(x_test), labels=y_test.unique()), index=y_test.unique(), columns=y_test.unique())"
      ],
      "metadata": {
        "id": "P40YpCtaPl-s"
      },
      "execution_count": null,
      "outputs": []
    },
    {
      "cell_type": "markdown",
      "source": [
        "We can also plot the whole decision tree to get a better understanding of what it is doing. When we plot the tree you get to see boxes with the following structure:\n",
        "</br>\n",
        "</br> Rule for splitting the samples\n",
        "</br> Gini coefficient, indication of how many different classes are present within the data at this node with 1 being all classes occur evenly and 0 only one class occurs\n",
        "</br> How many samples are present at the node\n",
        "</br> the occurence of each of the classes at the node\n",
        "</br> What the dominant class is in the node\n"
      ],
      "metadata": {
        "id": "5IavQtnWdLh0"
      }
    },
    {
      "cell_type": "code",
      "source": [
        "from sklearn.tree import plot_tree"
      ],
      "metadata": {
        "id": "QMkn1ZRnQpyq"
      },
      "execution_count": null,
      "outputs": []
    },
    {
      "cell_type": "code",
      "source": [
        "fig, ax = plt.subplots(figsize=(200, 20))\n",
        "plot_tree(dtc, ax=ax, label='root', fontsize=12, feature_names =x_train.columns, class_names=y_train.unique());"
      ],
      "metadata": {
        "id": "dlhQSV-QQsjV"
      },
      "execution_count": null,
      "outputs": []
    },
    {
      "cell_type": "markdown",
      "source": [
        "If you look at the tree you can see that the tree keeps on splitting the data, even if the dominant class does not change. The 'purity' of the data with the split increases in on node and decreases in the other. This way you can distinguish between instances which you can be more confidant of the correct classification and instances which you are more uncertain."
      ],
      "metadata": {
        "id": "n4UcqCcuewHr"
      }
    },
    {
      "cell_type": "markdown",
      "source": [
        "We can also look at the probabilities of the predictions"
      ],
      "metadata": {
        "id": "foRw6vvbWEtb"
      }
    },
    {
      "cell_type": "code",
      "source": [
        "pd.DataFrame(dtc.predict_proba(x_test), columns=y_train.unique(), index=x_test.index).head()"
      ],
      "metadata": {
        "id": "AYX98u8QWNFf"
      },
      "execution_count": null,
      "outputs": []
    },
    {
      "cell_type": "markdown",
      "source": [
        "This is still a relatively small decision tree, but already becomes large to plot. Can you find better parameters for the model?"
      ],
      "metadata": {
        "id": "9osgrhlEU0zs"
      }
    },
    {
      "cell_type": "code",
      "execution_count": null,
      "metadata": {
        "id": "BlsNvzSET7fL"
      },
      "outputs": [],
      "source": []
    },
    {
      "cell_type": "markdown",
      "metadata": {
        "id": "ezbU0pNdVdi1"
      },
      "source": [
        "In the previous code we just used a single decision tree, but we can also use multiple different decision trees to try and predict the sector of the companies. We do this with a random forest."
      ]
    },
    {
      "cell_type": "code",
      "execution_count": null,
      "metadata": {
        "id": "1S0Zj8L0TMT4"
      },
      "outputs": [],
      "source": [
        "from sklearn.ensemble import RandomForestClassifier"
      ]
    },
    {
      "cell_type": "code",
      "execution_count": null,
      "metadata": {
        "id": "awRtPl2ITEjM"
      },
      "outputs": [],
      "source": [
        "rfc = RandomForestClassifier(n_estimators = 10,\n",
        "                             criterion = \"gini\", \n",
        "                             max_depth = 5, \n",
        "                             min_samples_split = 10, \n",
        "                             min_samples_leaf = 5, \n",
        "                             min_weight_fraction_leaf = 0, \n",
        "                             max_features = \"sqrt\", \n",
        "                             max_leaf_nodes = None, \n",
        "                             min_impurity_decrease = 0, \n",
        "                             bootstrap = True, \n",
        "                             oob_score = False, \n",
        "                             n_jobs = None, \n",
        "                             random_state = None, \n",
        "                             verbose = 0, \n",
        "                             warm_start = False, \n",
        "                             class_weight = None, \n",
        "                             ccp_alpha = 0, \n",
        "                             max_samples = None)"
      ]
    },
    {
      "cell_type": "code",
      "source": [
        "rfc = rfc.fit(x_train, y_train)"
      ],
      "metadata": {
        "id": "A6aUwNFVYujh"
      },
      "execution_count": null,
      "outputs": []
    },
    {
      "cell_type": "markdown",
      "source": [
        "Can you analyse the performance of the random forest model"
      ],
      "metadata": {
        "id": "dbqAAQ2nZqWv"
      }
    },
    {
      "cell_type": "code",
      "source": [],
      "metadata": {
        "id": "FsmA82saZevo"
      },
      "execution_count": null,
      "outputs": []
    },
    {
      "cell_type": "code",
      "source": [
        "fig, ax = plt.subplots(figsize=(50, 200), nrows=10)\n",
        "for i in range(10):\n",
        "  plot_tree(rfc.estimators_[i], ax=ax[i], label='root', fontsize=12, feature_names =x_train.columns, class_names=y_train.unique());"
      ],
      "metadata": {
        "id": "mHQ-Hq2bZxUZ"
      },
      "execution_count": null,
      "outputs": []
    }
  ],
  "metadata": {
    "colab": {
      "provenance": [],
      "include_colab_link": true
    },
    "kernelspec": {
      "display_name": "Python 3.9.0 64-bit",
      "language": "python",
      "name": "python3"
    },
    "language_info": {
      "name": "python",
      "version": "3.9.0"
    },
    "vscode": {
      "interpreter": {
        "hash": "11938c6bc6919ae2720b4d5011047913343b08a43b18698fd82dedb0d4417594"
      }
    }
  },
  "nbformat": 4,
  "nbformat_minor": 0
}