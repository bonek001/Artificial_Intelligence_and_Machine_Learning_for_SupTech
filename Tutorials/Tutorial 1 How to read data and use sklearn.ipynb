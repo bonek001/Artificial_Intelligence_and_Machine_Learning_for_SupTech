{
  "nbformat": 4,
  "nbformat_minor": 0,
  "metadata": {
    "colab": {
      "provenance": [],
      "include_colab_link": true
    },
    "kernelspec": {
      "name": "python3",
      "display_name": "Python 3"
    },
    "language_info": {
      "name": "python"
    }
  },
  "cells": [
    {
      "cell_type": "markdown",
      "metadata": {
        "id": "view-in-github",
        "colab_type": "text"
      },
      "source": [
        "<a href=\"https://colab.research.google.com/github/mnijhuis-dnb/Artificial_Intelligence_and_Machine_Learning_for_SupTech/blob/main/Tutorials/Tutorial%201%20How%20to%20read%20data%20and%20use%20sklearn.ipynb\" target=\"_parent\"><img src=\"https://colab.research.google.com/assets/colab-badge.svg\" alt=\"Open In Colab\"/></a>"
      ]
    },
    {
      "cell_type": "markdown",
      "source": [
        "##Artificial Intelligence and Machine Learning for SupTech  \n",
        "Tutorial 1: How to read data and use sklearn\n",
        "*\tGetting started with Python and data manipulation. \n",
        "*\tHow is this different from Excel?\n",
        "*\tRead the data and get to know it. \n",
        "*\tIntroduction to sklearn: where to ﬁnd the buttons\n",
        "\n",
        "<br/>\n",
        "\n",
        "13 March 2023  \n",
        "\n",
        "**Instructors**  \n",
        "Prof. Iman van Lelyveld (iman.van.lelyveld@vu.nl)<br/>\n",
        "Dr. Michiel Nijhuis (m.nijhuis@dnb.nl)  "
      ],
      "metadata": {
        "id": "-x9uRovz0R8V"
      }
    },
    {
      "cell_type": "markdown",
      "source": [
        "----"
      ],
      "metadata": {
        "id": "Whl7phFpqJR8"
      }
    },
    {
      "cell_type": "markdown",
      "source": [
        "###Notebooks\n",
        "The tutorials in this course will be performed using notebooks. If you are unfamiliair with running code from a notebook you can follow this section to get aquinted with using notebooks."
      ],
      "metadata": {
        "id": "SgRY6vyVRdgA"
      }
    },
    {
      "cell_type": "code",
      "source": [],
      "metadata": {
        "id": "30Om2QWORbjW"
      },
      "execution_count": null,
      "outputs": []
    },
    {
      "cell_type": "markdown",
      "source": [
        "### Preparation\n",
        "\n",
        "At the beginning of each notebook, we have a short preparation section. This section will do two things. First of all it will loads all the necessary packages or download and install them. Secondly it will also download and extract the data we are going to use during the tutorial."
      ],
      "metadata": {
        "id": "ZqaAXvSoHWGO"
      }
    },
    {
      "cell_type": "markdown",
      "source": [
        "The first step is to going to load some of the general packages we are going to use throught the notebook. These are the following packages:\n",
        "* **Pandas** &emsp;&ensp;&nbsp; A package for data manipulation and analysis\n",
        "* **Numpy** &emsp;&emsp; A package for doing numerical calculations\n",
        "* **Matplotlib** &ensp; A package for plotting"
      ],
      "metadata": {
        "id": "NW-TXfiLvTii"
      }
    },
    {
      "cell_type": "code",
      "source": [
        "import pandas as pd\n",
        "import numpy as np\n",
        "import matplotlib.pyplot as plt"
      ],
      "metadata": {
        "id": "nAUm1PTv3Y5I",
        "colab": {
          "base_uri": "https://localhost:8080/"
        },
        "outputId": "41469a05-b0a4-4cbf-855c-5d3ba57e70ea"
      },
      "execution_count": null,
      "outputs": [
        {
          "output_type": "stream",
          "name": "stdout",
          "text": [
            "Hello world\n"
          ]
        }
      ]
    },
    {
      "cell_type": "markdown",
      "source": [
        "Next we are going to retrieve some data from, we are going to do this by using an exclamation mark to start our commands. This will send the commands to the terminal instead of using the Python interperter"
      ],
      "metadata": {
        "id": "UvOHCcxDyldS"
      }
    },
    {
      "cell_type": "code",
      "source": [
        "!wget -O bdp2022-material.zip https://dieter.wang/files/bdp2022-material.zip"
      ],
      "metadata": {
        "colab": {
          "base_uri": "https://localhost:8080/"
        },
        "id": "OSmrbk7jEnVo",
        "outputId": "25307460-3b76-4f3f-f762-c1f6438c679b"
      },
      "execution_count": null,
      "outputs": [
        {
          "output_type": "stream",
          "name": "stdout",
          "text": [
            "--2022-09-19 15:51:49--  https://dieter.wang/files/bdp2022-material.zip\n",
            "Resolving dieter.wang (dieter.wang)... 85.13.135.217\n",
            "Connecting to dieter.wang (dieter.wang)|85.13.135.217|:443... connected.\n",
            "HTTP request sent, awaiting response... 200 OK\n",
            "Length: 7092168 (6.8M) [application/zip]\n",
            "Saving to: ‘bdp2022-material.zip’\n",
            "\n",
            "bdp2022-material.zi 100%[===================>]   6.76M  4.18MB/s    in 1.6s    \n",
            "\n",
            "2022-09-19 15:51:52 (4.18 MB/s) - ‘bdp2022-material.zip’ saved [7092168/7092168]\n",
            "\n",
            "Archive:  bdp2022-material.zip\n",
            "  inflating: data/application_record.csv  \n",
            "  inflating: data/credit_record.csv  \n",
            "  inflating: data/df_articles.csv    \n",
            "  inflating: images/fig_linreg-logitreg.png  \n",
            "  inflating: images/fig_precision.png  \n",
            "  inflating: images/fig_recall.png   \n",
            "  inflating: images/fig_reg-vs-clf.png  \n",
            "  inflating: images/fig_vlookup.png  \n",
            "  inflating: images/SQL-LEFT-JOIN.png  \n"
          ]
        }
      ]
    },
    {
      "cell_type": "markdown",
      "source": [
        "As the data we retrieved is in an archive we are going to have to extract the data first"
      ],
      "metadata": {
        "id": "B4CruRKIzFl8"
      }
    },
    {
      "cell_type": "code",
      "source": [
        "!unzip -o bdp2022-material.zip"
      ],
      "metadata": {
        "id": "-HS2zMrWzF2f"
      },
      "execution_count": null,
      "outputs": []
    },
    {
      "cell_type": "markdown",
      "source": [
        "### Reading the data\n",
        "\n",
        "1. After downloading the data, we need to first make sure that it in the right format. That is, numbers are recognized as numeric `1` rathan than a string `'1'`.\n",
        "\n",
        "2. After the data is clear and in the right format, we split it into a training and a testing dataset. The training data will be used to train the model. This whole dataset is \"visible\" to the model. \n",
        "\n",
        "3. Afterwards, we will use a trained model and apply it to the testing data, which was \"invisible\" so far. This allows us to assess how well the model performs."
      ],
      "metadata": {
        "id": "-mvcA0CGxCKB"
      }
    },
    {
      "cell_type": "markdown",
      "source": [
        "# About the dataset\n",
        "\n",
        "This dataset consists of two files\n",
        "* `df_records`, stored as `credit_record.csv`  \n",
        "contains the monthly credit card status (paid off, overdue, written off, no loan). Each entry has a unique client number `ID`\n",
        "* `df_applications`, stored as `application_record.csv`  \n",
        "contains meta data about each client (gender, owns property, education, marital stats,...). Each client is also identfied with the unique client number `ID`\n",
        "\n",
        "Let's have a look at both. In each case, we want to know how many records there are in total and how the first couple of rows look like."
      ],
      "metadata": {
        "id": "inlbKvZ7yCa0"
      }
    },
    {
      "cell_type": "markdown",
      "source": [
        "# Make the labels: `df_records`\n",
        "The goal of this section is to define what the goal of the predictions are. In this case we want to predict whether or not a client defaults on their credit card.\n",
        "\n",
        "At this point we only focus on `df_records` and will get back to `df_applications` later. In the remainder of this notebook we will use `sr_defaults` as the outcome variable. In machine learning, the default status is often refered to as the label. In statistics or econometrics, this would be the dependent, endogenous or left-hand side variable.\n",
        "\n",
        "The remaining columns of `df_applications` are the features. Alternatively, we call them predictors, exogenous variables or right-hand side variables."
      ],
      "metadata": {
        "id": "f36-qJ8GyIci"
      }
    },
    {
      "cell_type": "code",
      "source": [
        "path = 'data/credit_record.csv'\n",
        "df_record = pd.read_csv(path)"
      ],
      "metadata": {
        "id": "LmnE663Kw5n2"
      },
      "execution_count": null,
      "outputs": []
    },
    {
      "cell_type": "code",
      "source": [
        "df_record"
      ],
      "metadata": {
        "colab": {
          "base_uri": "https://localhost:8080/",
          "height": 424
        },
        "id": "nhSpaWklVFvm",
        "outputId": "6b0c9d58-7b16-43db-adae-b11534a64632"
      },
      "execution_count": null,
      "outputs": [
        {
          "output_type": "execute_result",
          "data": {
            "text/plain": [
              "              ID  MONTHS_BALANCE STATUS\n",
              "0        5001711               0      X\n",
              "1        5001711              -1      0\n",
              "2        5001711              -2      0\n",
              "3        5001711              -3      0\n",
              "4        5001712               0      C\n",
              "...          ...             ...    ...\n",
              "1048570  5150487             -25      C\n",
              "1048571  5150487             -26      C\n",
              "1048572  5150487             -27      C\n",
              "1048573  5150487             -28      C\n",
              "1048574  5150487             -29      C\n",
              "\n",
              "[1048575 rows x 3 columns]"
            ],
            "text/html": [
              "\n",
              "  <div id=\"df-1736631f-2e11-4656-bed1-0f226bb5a723\">\n",
              "    <div class=\"colab-df-container\">\n",
              "      <div>\n",
              "<style scoped>\n",
              "    .dataframe tbody tr th:only-of-type {\n",
              "        vertical-align: middle;\n",
              "    }\n",
              "\n",
              "    .dataframe tbody tr th {\n",
              "        vertical-align: top;\n",
              "    }\n",
              "\n",
              "    .dataframe thead th {\n",
              "        text-align: right;\n",
              "    }\n",
              "</style>\n",
              "<table border=\"1\" class=\"dataframe\">\n",
              "  <thead>\n",
              "    <tr style=\"text-align: right;\">\n",
              "      <th></th>\n",
              "      <th>ID</th>\n",
              "      <th>MONTHS_BALANCE</th>\n",
              "      <th>STATUS</th>\n",
              "    </tr>\n",
              "  </thead>\n",
              "  <tbody>\n",
              "    <tr>\n",
              "      <th>0</th>\n",
              "      <td>5001711</td>\n",
              "      <td>0</td>\n",
              "      <td>X</td>\n",
              "    </tr>\n",
              "    <tr>\n",
              "      <th>1</th>\n",
              "      <td>5001711</td>\n",
              "      <td>-1</td>\n",
              "      <td>0</td>\n",
              "    </tr>\n",
              "    <tr>\n",
              "      <th>2</th>\n",
              "      <td>5001711</td>\n",
              "      <td>-2</td>\n",
              "      <td>0</td>\n",
              "    </tr>\n",
              "    <tr>\n",
              "      <th>3</th>\n",
              "      <td>5001711</td>\n",
              "      <td>-3</td>\n",
              "      <td>0</td>\n",
              "    </tr>\n",
              "    <tr>\n",
              "      <th>4</th>\n",
              "      <td>5001712</td>\n",
              "      <td>0</td>\n",
              "      <td>C</td>\n",
              "    </tr>\n",
              "    <tr>\n",
              "      <th>...</th>\n",
              "      <td>...</td>\n",
              "      <td>...</td>\n",
              "      <td>...</td>\n",
              "    </tr>\n",
              "    <tr>\n",
              "      <th>1048570</th>\n",
              "      <td>5150487</td>\n",
              "      <td>-25</td>\n",
              "      <td>C</td>\n",
              "    </tr>\n",
              "    <tr>\n",
              "      <th>1048571</th>\n",
              "      <td>5150487</td>\n",
              "      <td>-26</td>\n",
              "      <td>C</td>\n",
              "    </tr>\n",
              "    <tr>\n",
              "      <th>1048572</th>\n",
              "      <td>5150487</td>\n",
              "      <td>-27</td>\n",
              "      <td>C</td>\n",
              "    </tr>\n",
              "    <tr>\n",
              "      <th>1048573</th>\n",
              "      <td>5150487</td>\n",
              "      <td>-28</td>\n",
              "      <td>C</td>\n",
              "    </tr>\n",
              "    <tr>\n",
              "      <th>1048574</th>\n",
              "      <td>5150487</td>\n",
              "      <td>-29</td>\n",
              "      <td>C</td>\n",
              "    </tr>\n",
              "  </tbody>\n",
              "</table>\n",
              "<p>1048575 rows × 3 columns</p>\n",
              "</div>\n",
              "      <button class=\"colab-df-convert\" onclick=\"convertToInteractive('df-1736631f-2e11-4656-bed1-0f226bb5a723')\"\n",
              "              title=\"Convert this dataframe to an interactive table.\"\n",
              "              style=\"display:none;\">\n",
              "        \n",
              "  <svg xmlns=\"http://www.w3.org/2000/svg\" height=\"24px\"viewBox=\"0 0 24 24\"\n",
              "       width=\"24px\">\n",
              "    <path d=\"M0 0h24v24H0V0z\" fill=\"none\"/>\n",
              "    <path d=\"M18.56 5.44l.94 2.06.94-2.06 2.06-.94-2.06-.94-.94-2.06-.94 2.06-2.06.94zm-11 1L8.5 8.5l.94-2.06 2.06-.94-2.06-.94L8.5 2.5l-.94 2.06-2.06.94zm10 10l.94 2.06.94-2.06 2.06-.94-2.06-.94-.94-2.06-.94 2.06-2.06.94z\"/><path d=\"M17.41 7.96l-1.37-1.37c-.4-.4-.92-.59-1.43-.59-.52 0-1.04.2-1.43.59L10.3 9.45l-7.72 7.72c-.78.78-.78 2.05 0 2.83L4 21.41c.39.39.9.59 1.41.59.51 0 1.02-.2 1.41-.59l7.78-7.78 2.81-2.81c.8-.78.8-2.07 0-2.86zM5.41 20L4 18.59l7.72-7.72 1.47 1.35L5.41 20z\"/>\n",
              "  </svg>\n",
              "      </button>\n",
              "      \n",
              "  <style>\n",
              "    .colab-df-container {\n",
              "      display:flex;\n",
              "      flex-wrap:wrap;\n",
              "      gap: 12px;\n",
              "    }\n",
              "\n",
              "    .colab-df-convert {\n",
              "      background-color: #E8F0FE;\n",
              "      border: none;\n",
              "      border-radius: 50%;\n",
              "      cursor: pointer;\n",
              "      display: none;\n",
              "      fill: #1967D2;\n",
              "      height: 32px;\n",
              "      padding: 0 0 0 0;\n",
              "      width: 32px;\n",
              "    }\n",
              "\n",
              "    .colab-df-convert:hover {\n",
              "      background-color: #E2EBFA;\n",
              "      box-shadow: 0px 1px 2px rgba(60, 64, 67, 0.3), 0px 1px 3px 1px rgba(60, 64, 67, 0.15);\n",
              "      fill: #174EA6;\n",
              "    }\n",
              "\n",
              "    [theme=dark] .colab-df-convert {\n",
              "      background-color: #3B4455;\n",
              "      fill: #D2E3FC;\n",
              "    }\n",
              "\n",
              "    [theme=dark] .colab-df-convert:hover {\n",
              "      background-color: #434B5C;\n",
              "      box-shadow: 0px 1px 3px 1px rgba(0, 0, 0, 0.15);\n",
              "      filter: drop-shadow(0px 1px 2px rgba(0, 0, 0, 0.3));\n",
              "      fill: #FFFFFF;\n",
              "    }\n",
              "  </style>\n",
              "\n",
              "      <script>\n",
              "        const buttonEl =\n",
              "          document.querySelector('#df-1736631f-2e11-4656-bed1-0f226bb5a723 button.colab-df-convert');\n",
              "        buttonEl.style.display =\n",
              "          google.colab.kernel.accessAllowed ? 'block' : 'none';\n",
              "\n",
              "        async function convertToInteractive(key) {\n",
              "          const element = document.querySelector('#df-1736631f-2e11-4656-bed1-0f226bb5a723');\n",
              "          const dataTable =\n",
              "            await google.colab.kernel.invokeFunction('convertToInteractive',\n",
              "                                                     [key], {});\n",
              "          if (!dataTable) return;\n",
              "\n",
              "          const docLinkHtml = 'Like what you see? Visit the ' +\n",
              "            '<a target=\"_blank\" href=https://colab.research.google.com/notebooks/data_table.ipynb>data table notebook</a>'\n",
              "            + ' to learn more about interactive tables.';\n",
              "          element.innerHTML = '';\n",
              "          dataTable['output_type'] = 'display_data';\n",
              "          await google.colab.output.renderOutput(dataTable, element);\n",
              "          const docLink = document.createElement('div');\n",
              "          docLink.innerHTML = docLinkHtml;\n",
              "          element.appendChild(docLink);\n",
              "        }\n",
              "      </script>\n",
              "    </div>\n",
              "  </div>\n",
              "  "
            ]
          },
          "metadata": {},
          "execution_count": 272
        }
      ]
    },
    {
      "cell_type": "code",
      "source": [
        "df_record.dtypes"
      ],
      "metadata": {
        "colab": {
          "base_uri": "https://localhost:8080/"
        },
        "id": "NUsykRfeVFo2",
        "outputId": "5bbeddb6-e00a-4cc3-91e3-04805f32f229"
      },
      "execution_count": null,
      "outputs": [
        {
          "output_type": "execute_result",
          "data": {
            "text/plain": [
              "ID                 int64\n",
              "MONTHS_BALANCE     int64\n",
              "STATUS            object\n",
              "dtype: object"
            ]
          },
          "metadata": {},
          "execution_count": 273
        }
      ]
    },
    {
      "cell_type": "code",
      "source": [
        "path = 'data/application_record.csv'\n",
        "df_applications = pd.read_csv(path)"
      ],
      "metadata": {
        "id": "QeVVgitMy_kF"
      },
      "execution_count": null,
      "outputs": []
    },
    {
      "cell_type": "code",
      "source": [
        "# show the first 10 rows\n",
        "df_record.head(10)"
      ],
      "metadata": {
        "colab": {
          "base_uri": "https://localhost:8080/",
          "height": 363
        },
        "id": "u8HVHt2yyq6N",
        "outputId": "a3a3c6c1-4aa7-44c0-f419-ce693d570d78"
      },
      "execution_count": null,
      "outputs": [
        {
          "output_type": "execute_result",
          "data": {
            "text/plain": [
              "        ID  MONTHS_BALANCE STATUS\n",
              "0  5001711               0      X\n",
              "1  5001711              -1      0\n",
              "2  5001711              -2      0\n",
              "3  5001711              -3      0\n",
              "4  5001712               0      C\n",
              "5  5001712              -1      C\n",
              "6  5001712              -2      C\n",
              "7  5001712              -3      C\n",
              "8  5001712              -4      C\n",
              "9  5001712              -5      C"
            ],
            "text/html": [
              "\n",
              "  <div id=\"df-b1e7d5d0-48f5-4179-8e90-0042a0cc87a1\">\n",
              "    <div class=\"colab-df-container\">\n",
              "      <div>\n",
              "<style scoped>\n",
              "    .dataframe tbody tr th:only-of-type {\n",
              "        vertical-align: middle;\n",
              "    }\n",
              "\n",
              "    .dataframe tbody tr th {\n",
              "        vertical-align: top;\n",
              "    }\n",
              "\n",
              "    .dataframe thead th {\n",
              "        text-align: right;\n",
              "    }\n",
              "</style>\n",
              "<table border=\"1\" class=\"dataframe\">\n",
              "  <thead>\n",
              "    <tr style=\"text-align: right;\">\n",
              "      <th></th>\n",
              "      <th>ID</th>\n",
              "      <th>MONTHS_BALANCE</th>\n",
              "      <th>STATUS</th>\n",
              "    </tr>\n",
              "  </thead>\n",
              "  <tbody>\n",
              "    <tr>\n",
              "      <th>0</th>\n",
              "      <td>5001711</td>\n",
              "      <td>0</td>\n",
              "      <td>X</td>\n",
              "    </tr>\n",
              "    <tr>\n",
              "      <th>1</th>\n",
              "      <td>5001711</td>\n",
              "      <td>-1</td>\n",
              "      <td>0</td>\n",
              "    </tr>\n",
              "    <tr>\n",
              "      <th>2</th>\n",
              "      <td>5001711</td>\n",
              "      <td>-2</td>\n",
              "      <td>0</td>\n",
              "    </tr>\n",
              "    <tr>\n",
              "      <th>3</th>\n",
              "      <td>5001711</td>\n",
              "      <td>-3</td>\n",
              "      <td>0</td>\n",
              "    </tr>\n",
              "    <tr>\n",
              "      <th>4</th>\n",
              "      <td>5001712</td>\n",
              "      <td>0</td>\n",
              "      <td>C</td>\n",
              "    </tr>\n",
              "    <tr>\n",
              "      <th>5</th>\n",
              "      <td>5001712</td>\n",
              "      <td>-1</td>\n",
              "      <td>C</td>\n",
              "    </tr>\n",
              "    <tr>\n",
              "      <th>6</th>\n",
              "      <td>5001712</td>\n",
              "      <td>-2</td>\n",
              "      <td>C</td>\n",
              "    </tr>\n",
              "    <tr>\n",
              "      <th>7</th>\n",
              "      <td>5001712</td>\n",
              "      <td>-3</td>\n",
              "      <td>C</td>\n",
              "    </tr>\n",
              "    <tr>\n",
              "      <th>8</th>\n",
              "      <td>5001712</td>\n",
              "      <td>-4</td>\n",
              "      <td>C</td>\n",
              "    </tr>\n",
              "    <tr>\n",
              "      <th>9</th>\n",
              "      <td>5001712</td>\n",
              "      <td>-5</td>\n",
              "      <td>C</td>\n",
              "    </tr>\n",
              "  </tbody>\n",
              "</table>\n",
              "</div>\n",
              "      <button class=\"colab-df-convert\" onclick=\"convertToInteractive('df-b1e7d5d0-48f5-4179-8e90-0042a0cc87a1')\"\n",
              "              title=\"Convert this dataframe to an interactive table.\"\n",
              "              style=\"display:none;\">\n",
              "        \n",
              "  <svg xmlns=\"http://www.w3.org/2000/svg\" height=\"24px\"viewBox=\"0 0 24 24\"\n",
              "       width=\"24px\">\n",
              "    <path d=\"M0 0h24v24H0V0z\" fill=\"none\"/>\n",
              "    <path d=\"M18.56 5.44l.94 2.06.94-2.06 2.06-.94-2.06-.94-.94-2.06-.94 2.06-2.06.94zm-11 1L8.5 8.5l.94-2.06 2.06-.94-2.06-.94L8.5 2.5l-.94 2.06-2.06.94zm10 10l.94 2.06.94-2.06 2.06-.94-2.06-.94-.94-2.06-.94 2.06-2.06.94z\"/><path d=\"M17.41 7.96l-1.37-1.37c-.4-.4-.92-.59-1.43-.59-.52 0-1.04.2-1.43.59L10.3 9.45l-7.72 7.72c-.78.78-.78 2.05 0 2.83L4 21.41c.39.39.9.59 1.41.59.51 0 1.02-.2 1.41-.59l7.78-7.78 2.81-2.81c.8-.78.8-2.07 0-2.86zM5.41 20L4 18.59l7.72-7.72 1.47 1.35L5.41 20z\"/>\n",
              "  </svg>\n",
              "      </button>\n",
              "      \n",
              "  <style>\n",
              "    .colab-df-container {\n",
              "      display:flex;\n",
              "      flex-wrap:wrap;\n",
              "      gap: 12px;\n",
              "    }\n",
              "\n",
              "    .colab-df-convert {\n",
              "      background-color: #E8F0FE;\n",
              "      border: none;\n",
              "      border-radius: 50%;\n",
              "      cursor: pointer;\n",
              "      display: none;\n",
              "      fill: #1967D2;\n",
              "      height: 32px;\n",
              "      padding: 0 0 0 0;\n",
              "      width: 32px;\n",
              "    }\n",
              "\n",
              "    .colab-df-convert:hover {\n",
              "      background-color: #E2EBFA;\n",
              "      box-shadow: 0px 1px 2px rgba(60, 64, 67, 0.3), 0px 1px 3px 1px rgba(60, 64, 67, 0.15);\n",
              "      fill: #174EA6;\n",
              "    }\n",
              "\n",
              "    [theme=dark] .colab-df-convert {\n",
              "      background-color: #3B4455;\n",
              "      fill: #D2E3FC;\n",
              "    }\n",
              "\n",
              "    [theme=dark] .colab-df-convert:hover {\n",
              "      background-color: #434B5C;\n",
              "      box-shadow: 0px 1px 3px 1px rgba(0, 0, 0, 0.15);\n",
              "      filter: drop-shadow(0px 1px 2px rgba(0, 0, 0, 0.3));\n",
              "      fill: #FFFFFF;\n",
              "    }\n",
              "  </style>\n",
              "\n",
              "      <script>\n",
              "        const buttonEl =\n",
              "          document.querySelector('#df-b1e7d5d0-48f5-4179-8e90-0042a0cc87a1 button.colab-df-convert');\n",
              "        buttonEl.style.display =\n",
              "          google.colab.kernel.accessAllowed ? 'block' : 'none';\n",
              "\n",
              "        async function convertToInteractive(key) {\n",
              "          const element = document.querySelector('#df-b1e7d5d0-48f5-4179-8e90-0042a0cc87a1');\n",
              "          const dataTable =\n",
              "            await google.colab.kernel.invokeFunction('convertToInteractive',\n",
              "                                                     [key], {});\n",
              "          if (!dataTable) return;\n",
              "\n",
              "          const docLinkHtml = 'Like what you see? Visit the ' +\n",
              "            '<a target=\"_blank\" href=https://colab.research.google.com/notebooks/data_table.ipynb>data table notebook</a>'\n",
              "            + ' to learn more about interactive tables.';\n",
              "          element.innerHTML = '';\n",
              "          dataTable['output_type'] = 'display_data';\n",
              "          await google.colab.output.renderOutput(dataTable, element);\n",
              "          const docLink = document.createElement('div');\n",
              "          docLink.innerHTML = docLinkHtml;\n",
              "          element.appendChild(docLink);\n",
              "        }\n",
              "      </script>\n",
              "    </div>\n",
              "  </div>\n",
              "  "
            ]
          },
          "metadata": {},
          "execution_count": 275
        }
      ]
    },
    {
      "cell_type": "code",
      "source": [
        "# show the first 10 rows\n",
        "df_applications.head(10)"
      ],
      "metadata": {
        "colab": {
          "base_uri": "https://localhost:8080/",
          "height": 514
        },
        "id": "jlXnUP44zDeI",
        "outputId": "d3362297-fae2-4e74-f46f-bd290b9603f9"
      },
      "execution_count": null,
      "outputs": [
        {
          "output_type": "execute_result",
          "data": {
            "text/plain": [
              "        ID CODE_GENDER FLAG_OWN_CAR FLAG_OWN_REALTY  CNT_CHILDREN  \\\n",
              "0  5008804           M            Y               Y             0   \n",
              "1  5008805           M            Y               Y             0   \n",
              "2  5008806           M            Y               Y             0   \n",
              "3  5008808           F            N               Y             0   \n",
              "4  5008809           F            N               Y             0   \n",
              "5  5008810           F            N               Y             0   \n",
              "6  5008811           F            N               Y             0   \n",
              "7  5008812           F            N               Y             0   \n",
              "8  5008813           F            N               Y             0   \n",
              "9  5008814           F            N               Y             0   \n",
              "\n",
              "   AMT_INCOME_TOTAL      NAME_INCOME_TYPE            NAME_EDUCATION_TYPE  \\\n",
              "0          427500.0               Working               Higher education   \n",
              "1          427500.0               Working               Higher education   \n",
              "2          112500.0               Working  Secondary / secondary special   \n",
              "3          270000.0  Commercial associate  Secondary / secondary special   \n",
              "4          270000.0  Commercial associate  Secondary / secondary special   \n",
              "5          270000.0  Commercial associate  Secondary / secondary special   \n",
              "6          270000.0  Commercial associate  Secondary / secondary special   \n",
              "7          283500.0             Pensioner               Higher education   \n",
              "8          283500.0             Pensioner               Higher education   \n",
              "9          283500.0             Pensioner               Higher education   \n",
              "\n",
              "     NAME_FAMILY_STATUS  NAME_HOUSING_TYPE  DAYS_BIRTH  DAYS_EMPLOYED  \\\n",
              "0        Civil marriage   Rented apartment      -12005          -4542   \n",
              "1        Civil marriage   Rented apartment      -12005          -4542   \n",
              "2               Married  House / apartment      -21474          -1134   \n",
              "3  Single / not married  House / apartment      -19110          -3051   \n",
              "4  Single / not married  House / apartment      -19110          -3051   \n",
              "5  Single / not married  House / apartment      -19110          -3051   \n",
              "6  Single / not married  House / apartment      -19110          -3051   \n",
              "7             Separated  House / apartment      -22464         365243   \n",
              "8             Separated  House / apartment      -22464         365243   \n",
              "9             Separated  House / apartment      -22464         365243   \n",
              "\n",
              "   FLAG_MOBIL  FLAG_WORK_PHONE  FLAG_PHONE  FLAG_EMAIL OCCUPATION_TYPE  \\\n",
              "0           1                1           0           0             NaN   \n",
              "1           1                1           0           0             NaN   \n",
              "2           1                0           0           0  Security staff   \n",
              "3           1                0           1           1     Sales staff   \n",
              "4           1                0           1           1     Sales staff   \n",
              "5           1                0           1           1     Sales staff   \n",
              "6           1                0           1           1     Sales staff   \n",
              "7           1                0           0           0             NaN   \n",
              "8           1                0           0           0             NaN   \n",
              "9           1                0           0           0             NaN   \n",
              "\n",
              "   CNT_FAM_MEMBERS  \n",
              "0              2.0  \n",
              "1              2.0  \n",
              "2              2.0  \n",
              "3              1.0  \n",
              "4              1.0  \n",
              "5              1.0  \n",
              "6              1.0  \n",
              "7              1.0  \n",
              "8              1.0  \n",
              "9              1.0  "
            ],
            "text/html": [
              "\n",
              "  <div id=\"df-f8fb0c6a-1471-4eef-8baf-1d6ccb2de65e\">\n",
              "    <div class=\"colab-df-container\">\n",
              "      <div>\n",
              "<style scoped>\n",
              "    .dataframe tbody tr th:only-of-type {\n",
              "        vertical-align: middle;\n",
              "    }\n",
              "\n",
              "    .dataframe tbody tr th {\n",
              "        vertical-align: top;\n",
              "    }\n",
              "\n",
              "    .dataframe thead th {\n",
              "        text-align: right;\n",
              "    }\n",
              "</style>\n",
              "<table border=\"1\" class=\"dataframe\">\n",
              "  <thead>\n",
              "    <tr style=\"text-align: right;\">\n",
              "      <th></th>\n",
              "      <th>ID</th>\n",
              "      <th>CODE_GENDER</th>\n",
              "      <th>FLAG_OWN_CAR</th>\n",
              "      <th>FLAG_OWN_REALTY</th>\n",
              "      <th>CNT_CHILDREN</th>\n",
              "      <th>AMT_INCOME_TOTAL</th>\n",
              "      <th>NAME_INCOME_TYPE</th>\n",
              "      <th>NAME_EDUCATION_TYPE</th>\n",
              "      <th>NAME_FAMILY_STATUS</th>\n",
              "      <th>NAME_HOUSING_TYPE</th>\n",
              "      <th>DAYS_BIRTH</th>\n",
              "      <th>DAYS_EMPLOYED</th>\n",
              "      <th>FLAG_MOBIL</th>\n",
              "      <th>FLAG_WORK_PHONE</th>\n",
              "      <th>FLAG_PHONE</th>\n",
              "      <th>FLAG_EMAIL</th>\n",
              "      <th>OCCUPATION_TYPE</th>\n",
              "      <th>CNT_FAM_MEMBERS</th>\n",
              "    </tr>\n",
              "  </thead>\n",
              "  <tbody>\n",
              "    <tr>\n",
              "      <th>0</th>\n",
              "      <td>5008804</td>\n",
              "      <td>M</td>\n",
              "      <td>Y</td>\n",
              "      <td>Y</td>\n",
              "      <td>0</td>\n",
              "      <td>427500.0</td>\n",
              "      <td>Working</td>\n",
              "      <td>Higher education</td>\n",
              "      <td>Civil marriage</td>\n",
              "      <td>Rented apartment</td>\n",
              "      <td>-12005</td>\n",
              "      <td>-4542</td>\n",
              "      <td>1</td>\n",
              "      <td>1</td>\n",
              "      <td>0</td>\n",
              "      <td>0</td>\n",
              "      <td>NaN</td>\n",
              "      <td>2.0</td>\n",
              "    </tr>\n",
              "    <tr>\n",
              "      <th>1</th>\n",
              "      <td>5008805</td>\n",
              "      <td>M</td>\n",
              "      <td>Y</td>\n",
              "      <td>Y</td>\n",
              "      <td>0</td>\n",
              "      <td>427500.0</td>\n",
              "      <td>Working</td>\n",
              "      <td>Higher education</td>\n",
              "      <td>Civil marriage</td>\n",
              "      <td>Rented apartment</td>\n",
              "      <td>-12005</td>\n",
              "      <td>-4542</td>\n",
              "      <td>1</td>\n",
              "      <td>1</td>\n",
              "      <td>0</td>\n",
              "      <td>0</td>\n",
              "      <td>NaN</td>\n",
              "      <td>2.0</td>\n",
              "    </tr>\n",
              "    <tr>\n",
              "      <th>2</th>\n",
              "      <td>5008806</td>\n",
              "      <td>M</td>\n",
              "      <td>Y</td>\n",
              "      <td>Y</td>\n",
              "      <td>0</td>\n",
              "      <td>112500.0</td>\n",
              "      <td>Working</td>\n",
              "      <td>Secondary / secondary special</td>\n",
              "      <td>Married</td>\n",
              "      <td>House / apartment</td>\n",
              "      <td>-21474</td>\n",
              "      <td>-1134</td>\n",
              "      <td>1</td>\n",
              "      <td>0</td>\n",
              "      <td>0</td>\n",
              "      <td>0</td>\n",
              "      <td>Security staff</td>\n",
              "      <td>2.0</td>\n",
              "    </tr>\n",
              "    <tr>\n",
              "      <th>3</th>\n",
              "      <td>5008808</td>\n",
              "      <td>F</td>\n",
              "      <td>N</td>\n",
              "      <td>Y</td>\n",
              "      <td>0</td>\n",
              "      <td>270000.0</td>\n",
              "      <td>Commercial associate</td>\n",
              "      <td>Secondary / secondary special</td>\n",
              "      <td>Single / not married</td>\n",
              "      <td>House / apartment</td>\n",
              "      <td>-19110</td>\n",
              "      <td>-3051</td>\n",
              "      <td>1</td>\n",
              "      <td>0</td>\n",
              "      <td>1</td>\n",
              "      <td>1</td>\n",
              "      <td>Sales staff</td>\n",
              "      <td>1.0</td>\n",
              "    </tr>\n",
              "    <tr>\n",
              "      <th>4</th>\n",
              "      <td>5008809</td>\n",
              "      <td>F</td>\n",
              "      <td>N</td>\n",
              "      <td>Y</td>\n",
              "      <td>0</td>\n",
              "      <td>270000.0</td>\n",
              "      <td>Commercial associate</td>\n",
              "      <td>Secondary / secondary special</td>\n",
              "      <td>Single / not married</td>\n",
              "      <td>House / apartment</td>\n",
              "      <td>-19110</td>\n",
              "      <td>-3051</td>\n",
              "      <td>1</td>\n",
              "      <td>0</td>\n",
              "      <td>1</td>\n",
              "      <td>1</td>\n",
              "      <td>Sales staff</td>\n",
              "      <td>1.0</td>\n",
              "    </tr>\n",
              "    <tr>\n",
              "      <th>5</th>\n",
              "      <td>5008810</td>\n",
              "      <td>F</td>\n",
              "      <td>N</td>\n",
              "      <td>Y</td>\n",
              "      <td>0</td>\n",
              "      <td>270000.0</td>\n",
              "      <td>Commercial associate</td>\n",
              "      <td>Secondary / secondary special</td>\n",
              "      <td>Single / not married</td>\n",
              "      <td>House / apartment</td>\n",
              "      <td>-19110</td>\n",
              "      <td>-3051</td>\n",
              "      <td>1</td>\n",
              "      <td>0</td>\n",
              "      <td>1</td>\n",
              "      <td>1</td>\n",
              "      <td>Sales staff</td>\n",
              "      <td>1.0</td>\n",
              "    </tr>\n",
              "    <tr>\n",
              "      <th>6</th>\n",
              "      <td>5008811</td>\n",
              "      <td>F</td>\n",
              "      <td>N</td>\n",
              "      <td>Y</td>\n",
              "      <td>0</td>\n",
              "      <td>270000.0</td>\n",
              "      <td>Commercial associate</td>\n",
              "      <td>Secondary / secondary special</td>\n",
              "      <td>Single / not married</td>\n",
              "      <td>House / apartment</td>\n",
              "      <td>-19110</td>\n",
              "      <td>-3051</td>\n",
              "      <td>1</td>\n",
              "      <td>0</td>\n",
              "      <td>1</td>\n",
              "      <td>1</td>\n",
              "      <td>Sales staff</td>\n",
              "      <td>1.0</td>\n",
              "    </tr>\n",
              "    <tr>\n",
              "      <th>7</th>\n",
              "      <td>5008812</td>\n",
              "      <td>F</td>\n",
              "      <td>N</td>\n",
              "      <td>Y</td>\n",
              "      <td>0</td>\n",
              "      <td>283500.0</td>\n",
              "      <td>Pensioner</td>\n",
              "      <td>Higher education</td>\n",
              "      <td>Separated</td>\n",
              "      <td>House / apartment</td>\n",
              "      <td>-22464</td>\n",
              "      <td>365243</td>\n",
              "      <td>1</td>\n",
              "      <td>0</td>\n",
              "      <td>0</td>\n",
              "      <td>0</td>\n",
              "      <td>NaN</td>\n",
              "      <td>1.0</td>\n",
              "    </tr>\n",
              "    <tr>\n",
              "      <th>8</th>\n",
              "      <td>5008813</td>\n",
              "      <td>F</td>\n",
              "      <td>N</td>\n",
              "      <td>Y</td>\n",
              "      <td>0</td>\n",
              "      <td>283500.0</td>\n",
              "      <td>Pensioner</td>\n",
              "      <td>Higher education</td>\n",
              "      <td>Separated</td>\n",
              "      <td>House / apartment</td>\n",
              "      <td>-22464</td>\n",
              "      <td>365243</td>\n",
              "      <td>1</td>\n",
              "      <td>0</td>\n",
              "      <td>0</td>\n",
              "      <td>0</td>\n",
              "      <td>NaN</td>\n",
              "      <td>1.0</td>\n",
              "    </tr>\n",
              "    <tr>\n",
              "      <th>9</th>\n",
              "      <td>5008814</td>\n",
              "      <td>F</td>\n",
              "      <td>N</td>\n",
              "      <td>Y</td>\n",
              "      <td>0</td>\n",
              "      <td>283500.0</td>\n",
              "      <td>Pensioner</td>\n",
              "      <td>Higher education</td>\n",
              "      <td>Separated</td>\n",
              "      <td>House / apartment</td>\n",
              "      <td>-22464</td>\n",
              "      <td>365243</td>\n",
              "      <td>1</td>\n",
              "      <td>0</td>\n",
              "      <td>0</td>\n",
              "      <td>0</td>\n",
              "      <td>NaN</td>\n",
              "      <td>1.0</td>\n",
              "    </tr>\n",
              "  </tbody>\n",
              "</table>\n",
              "</div>\n",
              "      <button class=\"colab-df-convert\" onclick=\"convertToInteractive('df-f8fb0c6a-1471-4eef-8baf-1d6ccb2de65e')\"\n",
              "              title=\"Convert this dataframe to an interactive table.\"\n",
              "              style=\"display:none;\">\n",
              "        \n",
              "  <svg xmlns=\"http://www.w3.org/2000/svg\" height=\"24px\"viewBox=\"0 0 24 24\"\n",
              "       width=\"24px\">\n",
              "    <path d=\"M0 0h24v24H0V0z\" fill=\"none\"/>\n",
              "    <path d=\"M18.56 5.44l.94 2.06.94-2.06 2.06-.94-2.06-.94-.94-2.06-.94 2.06-2.06.94zm-11 1L8.5 8.5l.94-2.06 2.06-.94-2.06-.94L8.5 2.5l-.94 2.06-2.06.94zm10 10l.94 2.06.94-2.06 2.06-.94-2.06-.94-.94-2.06-.94 2.06-2.06.94z\"/><path d=\"M17.41 7.96l-1.37-1.37c-.4-.4-.92-.59-1.43-.59-.52 0-1.04.2-1.43.59L10.3 9.45l-7.72 7.72c-.78.78-.78 2.05 0 2.83L4 21.41c.39.39.9.59 1.41.59.51 0 1.02-.2 1.41-.59l7.78-7.78 2.81-2.81c.8-.78.8-2.07 0-2.86zM5.41 20L4 18.59l7.72-7.72 1.47 1.35L5.41 20z\"/>\n",
              "  </svg>\n",
              "      </button>\n",
              "      \n",
              "  <style>\n",
              "    .colab-df-container {\n",
              "      display:flex;\n",
              "      flex-wrap:wrap;\n",
              "      gap: 12px;\n",
              "    }\n",
              "\n",
              "    .colab-df-convert {\n",
              "      background-color: #E8F0FE;\n",
              "      border: none;\n",
              "      border-radius: 50%;\n",
              "      cursor: pointer;\n",
              "      display: none;\n",
              "      fill: #1967D2;\n",
              "      height: 32px;\n",
              "      padding: 0 0 0 0;\n",
              "      width: 32px;\n",
              "    }\n",
              "\n",
              "    .colab-df-convert:hover {\n",
              "      background-color: #E2EBFA;\n",
              "      box-shadow: 0px 1px 2px rgba(60, 64, 67, 0.3), 0px 1px 3px 1px rgba(60, 64, 67, 0.15);\n",
              "      fill: #174EA6;\n",
              "    }\n",
              "\n",
              "    [theme=dark] .colab-df-convert {\n",
              "      background-color: #3B4455;\n",
              "      fill: #D2E3FC;\n",
              "    }\n",
              "\n",
              "    [theme=dark] .colab-df-convert:hover {\n",
              "      background-color: #434B5C;\n",
              "      box-shadow: 0px 1px 3px 1px rgba(0, 0, 0, 0.15);\n",
              "      filter: drop-shadow(0px 1px 2px rgba(0, 0, 0, 0.3));\n",
              "      fill: #FFFFFF;\n",
              "    }\n",
              "  </style>\n",
              "\n",
              "      <script>\n",
              "        const buttonEl =\n",
              "          document.querySelector('#df-f8fb0c6a-1471-4eef-8baf-1d6ccb2de65e button.colab-df-convert');\n",
              "        buttonEl.style.display =\n",
              "          google.colab.kernel.accessAllowed ? 'block' : 'none';\n",
              "\n",
              "        async function convertToInteractive(key) {\n",
              "          const element = document.querySelector('#df-f8fb0c6a-1471-4eef-8baf-1d6ccb2de65e');\n",
              "          const dataTable =\n",
              "            await google.colab.kernel.invokeFunction('convertToInteractive',\n",
              "                                                     [key], {});\n",
              "          if (!dataTable) return;\n",
              "\n",
              "          const docLinkHtml = 'Like what you see? Visit the ' +\n",
              "            '<a target=\"_blank\" href=https://colab.research.google.com/notebooks/data_table.ipynb>data table notebook</a>'\n",
              "            + ' to learn more about interactive tables.';\n",
              "          element.innerHTML = '';\n",
              "          dataTable['output_type'] = 'display_data';\n",
              "          await google.colab.output.renderOutput(dataTable, element);\n",
              "          const docLink = document.createElement('div');\n",
              "          docLink.innerHTML = docLinkHtml;\n",
              "          element.appendChild(docLink);\n",
              "        }\n",
              "      </script>\n",
              "    </div>\n",
              "  </div>\n",
              "  "
            ]
          },
          "metadata": {},
          "execution_count": 276
        }
      ]
    },
    {
      "cell_type": "markdown",
      "source": [
        "## What are DataFrames?"
      ],
      "metadata": {
        "id": "OSZ-nCVD07IC"
      }
    },
    {
      "cell_type": "markdown",
      "source": [
        "These are what we call DataFrames. They are a flexible and powerful data storage unit and one of the main reasons for Python's popularity. Think of it as containing an excel spreadsheet. It contains rows, columns and cells. For those familiar with relational databases, you can also think of these as tables. What is powerful about DataFrames is that it automates what you usually do in Excel.\n",
        "\n",
        "Each client has a credit card that can used each month. \n",
        "\n",
        "The columns\n",
        "* `MONTHS_BALANCE` is a time indicator. When it is `0` it refers to the current month. When it is `-1` it refers to last month, and so on. \n",
        "* `STATUS` tells us what the status of the credit card debt is. The possible values are\n",
        "\n",
        "```\n",
        "X: no loan\n",
        "C: paid off\n",
        "0: overdue <1 month\n",
        "1: overdue 1 months\n",
        "2: overdue 2 months\n",
        "3: overdue 3 months\n",
        "4: overdue 4 months\n",
        "5: overdue 5 months or more (written-off)\n",
        "```\n"
      ],
      "metadata": {
        "id": "p6s0_XT_y6_t"
      }
    },
    {
      "cell_type": "markdown",
      "source": [
        "## Navigating DataFrames\n",
        "\n",
        "\n",
        "Let us start by selecting the credit card status of client `5001711`. For this purpose we can tell the dataframe to use the column `ID` as the index. An index is like the \"name\" of the row, such that we can more easily refer to it. "
      ],
      "metadata": {
        "id": "P9rSOHsY1KmN"
      }
    },
    {
      "cell_type": "code",
      "source": [
        "df_record = df_record.set_index('ID')\n",
        "df_record.head(10)"
      ],
      "metadata": {
        "colab": {
          "base_uri": "https://localhost:8080/",
          "height": 394
        },
        "id": "AHuPcJddy5gW",
        "outputId": "231f2f59-f7eb-4786-f909-8ff5b4cc763a"
      },
      "execution_count": null,
      "outputs": [
        {
          "output_type": "execute_result",
          "data": {
            "text/plain": [
              "         MONTHS_BALANCE STATUS\n",
              "ID                            \n",
              "5001711               0      X\n",
              "5001711              -1      0\n",
              "5001711              -2      0\n",
              "5001711              -3      0\n",
              "5001712               0      C\n",
              "5001712              -1      C\n",
              "5001712              -2      C\n",
              "5001712              -3      C\n",
              "5001712              -4      C\n",
              "5001712              -5      C"
            ],
            "text/html": [
              "\n",
              "  <div id=\"df-836a5898-0f01-4ea1-af4d-bc2151c1844b\">\n",
              "    <div class=\"colab-df-container\">\n",
              "      <div>\n",
              "<style scoped>\n",
              "    .dataframe tbody tr th:only-of-type {\n",
              "        vertical-align: middle;\n",
              "    }\n",
              "\n",
              "    .dataframe tbody tr th {\n",
              "        vertical-align: top;\n",
              "    }\n",
              "\n",
              "    .dataframe thead th {\n",
              "        text-align: right;\n",
              "    }\n",
              "</style>\n",
              "<table border=\"1\" class=\"dataframe\">\n",
              "  <thead>\n",
              "    <tr style=\"text-align: right;\">\n",
              "      <th></th>\n",
              "      <th>MONTHS_BALANCE</th>\n",
              "      <th>STATUS</th>\n",
              "    </tr>\n",
              "    <tr>\n",
              "      <th>ID</th>\n",
              "      <th></th>\n",
              "      <th></th>\n",
              "    </tr>\n",
              "  </thead>\n",
              "  <tbody>\n",
              "    <tr>\n",
              "      <th>5001711</th>\n",
              "      <td>0</td>\n",
              "      <td>X</td>\n",
              "    </tr>\n",
              "    <tr>\n",
              "      <th>5001711</th>\n",
              "      <td>-1</td>\n",
              "      <td>0</td>\n",
              "    </tr>\n",
              "    <tr>\n",
              "      <th>5001711</th>\n",
              "      <td>-2</td>\n",
              "      <td>0</td>\n",
              "    </tr>\n",
              "    <tr>\n",
              "      <th>5001711</th>\n",
              "      <td>-3</td>\n",
              "      <td>0</td>\n",
              "    </tr>\n",
              "    <tr>\n",
              "      <th>5001712</th>\n",
              "      <td>0</td>\n",
              "      <td>C</td>\n",
              "    </tr>\n",
              "    <tr>\n",
              "      <th>5001712</th>\n",
              "      <td>-1</td>\n",
              "      <td>C</td>\n",
              "    </tr>\n",
              "    <tr>\n",
              "      <th>5001712</th>\n",
              "      <td>-2</td>\n",
              "      <td>C</td>\n",
              "    </tr>\n",
              "    <tr>\n",
              "      <th>5001712</th>\n",
              "      <td>-3</td>\n",
              "      <td>C</td>\n",
              "    </tr>\n",
              "    <tr>\n",
              "      <th>5001712</th>\n",
              "      <td>-4</td>\n",
              "      <td>C</td>\n",
              "    </tr>\n",
              "    <tr>\n",
              "      <th>5001712</th>\n",
              "      <td>-5</td>\n",
              "      <td>C</td>\n",
              "    </tr>\n",
              "  </tbody>\n",
              "</table>\n",
              "</div>\n",
              "      <button class=\"colab-df-convert\" onclick=\"convertToInteractive('df-836a5898-0f01-4ea1-af4d-bc2151c1844b')\"\n",
              "              title=\"Convert this dataframe to an interactive table.\"\n",
              "              style=\"display:none;\">\n",
              "        \n",
              "  <svg xmlns=\"http://www.w3.org/2000/svg\" height=\"24px\"viewBox=\"0 0 24 24\"\n",
              "       width=\"24px\">\n",
              "    <path d=\"M0 0h24v24H0V0z\" fill=\"none\"/>\n",
              "    <path d=\"M18.56 5.44l.94 2.06.94-2.06 2.06-.94-2.06-.94-.94-2.06-.94 2.06-2.06.94zm-11 1L8.5 8.5l.94-2.06 2.06-.94-2.06-.94L8.5 2.5l-.94 2.06-2.06.94zm10 10l.94 2.06.94-2.06 2.06-.94-2.06-.94-.94-2.06-.94 2.06-2.06.94z\"/><path d=\"M17.41 7.96l-1.37-1.37c-.4-.4-.92-.59-1.43-.59-.52 0-1.04.2-1.43.59L10.3 9.45l-7.72 7.72c-.78.78-.78 2.05 0 2.83L4 21.41c.39.39.9.59 1.41.59.51 0 1.02-.2 1.41-.59l7.78-7.78 2.81-2.81c.8-.78.8-2.07 0-2.86zM5.41 20L4 18.59l7.72-7.72 1.47 1.35L5.41 20z\"/>\n",
              "  </svg>\n",
              "      </button>\n",
              "      \n",
              "  <style>\n",
              "    .colab-df-container {\n",
              "      display:flex;\n",
              "      flex-wrap:wrap;\n",
              "      gap: 12px;\n",
              "    }\n",
              "\n",
              "    .colab-df-convert {\n",
              "      background-color: #E8F0FE;\n",
              "      border: none;\n",
              "      border-radius: 50%;\n",
              "      cursor: pointer;\n",
              "      display: none;\n",
              "      fill: #1967D2;\n",
              "      height: 32px;\n",
              "      padding: 0 0 0 0;\n",
              "      width: 32px;\n",
              "    }\n",
              "\n",
              "    .colab-df-convert:hover {\n",
              "      background-color: #E2EBFA;\n",
              "      box-shadow: 0px 1px 2px rgba(60, 64, 67, 0.3), 0px 1px 3px 1px rgba(60, 64, 67, 0.15);\n",
              "      fill: #174EA6;\n",
              "    }\n",
              "\n",
              "    [theme=dark] .colab-df-convert {\n",
              "      background-color: #3B4455;\n",
              "      fill: #D2E3FC;\n",
              "    }\n",
              "\n",
              "    [theme=dark] .colab-df-convert:hover {\n",
              "      background-color: #434B5C;\n",
              "      box-shadow: 0px 1px 3px 1px rgba(0, 0, 0, 0.15);\n",
              "      filter: drop-shadow(0px 1px 2px rgba(0, 0, 0, 0.3));\n",
              "      fill: #FFFFFF;\n",
              "    }\n",
              "  </style>\n",
              "\n",
              "      <script>\n",
              "        const buttonEl =\n",
              "          document.querySelector('#df-836a5898-0f01-4ea1-af4d-bc2151c1844b button.colab-df-convert');\n",
              "        buttonEl.style.display =\n",
              "          google.colab.kernel.accessAllowed ? 'block' : 'none';\n",
              "\n",
              "        async function convertToInteractive(key) {\n",
              "          const element = document.querySelector('#df-836a5898-0f01-4ea1-af4d-bc2151c1844b');\n",
              "          const dataTable =\n",
              "            await google.colab.kernel.invokeFunction('convertToInteractive',\n",
              "                                                     [key], {});\n",
              "          if (!dataTable) return;\n",
              "\n",
              "          const docLinkHtml = 'Like what you see? Visit the ' +\n",
              "            '<a target=\"_blank\" href=https://colab.research.google.com/notebooks/data_table.ipynb>data table notebook</a>'\n",
              "            + ' to learn more about interactive tables.';\n",
              "          element.innerHTML = '';\n",
              "          dataTable['output_type'] = 'display_data';\n",
              "          await google.colab.output.renderOutput(dataTable, element);\n",
              "          const docLink = document.createElement('div');\n",
              "          docLink.innerHTML = docLinkHtml;\n",
              "          element.appendChild(docLink);\n",
              "        }\n",
              "      </script>\n",
              "    </div>\n",
              "  </div>\n",
              "  "
            ]
          },
          "metadata": {},
          "execution_count": 277
        }
      ]
    },
    {
      "cell_type": "markdown",
      "source": [
        "To select a row (or rows) by the client number `ID`, we use the `.loc` operator. "
      ],
      "metadata": {
        "id": "Nfh9RmfS0AmF"
      }
    },
    {
      "cell_type": "code",
      "source": [
        "df_record.loc[5001711]"
      ],
      "metadata": {
        "colab": {
          "base_uri": "https://localhost:8080/",
          "height": 206
        },
        "id": "i7T3LUQ-0D8V",
        "outputId": "666db8bb-eb8b-4641-e269-56b5db835e52"
      },
      "execution_count": null,
      "outputs": [
        {
          "output_type": "execute_result",
          "data": {
            "text/plain": [
              "         MONTHS_BALANCE STATUS\n",
              "ID                            \n",
              "5001711               0      X\n",
              "5001711              -1      0\n",
              "5001711              -2      0\n",
              "5001711              -3      0"
            ],
            "text/html": [
              "\n",
              "  <div id=\"df-a58376c3-57bd-4da7-b007-07f549a5b200\">\n",
              "    <div class=\"colab-df-container\">\n",
              "      <div>\n",
              "<style scoped>\n",
              "    .dataframe tbody tr th:only-of-type {\n",
              "        vertical-align: middle;\n",
              "    }\n",
              "\n",
              "    .dataframe tbody tr th {\n",
              "        vertical-align: top;\n",
              "    }\n",
              "\n",
              "    .dataframe thead th {\n",
              "        text-align: right;\n",
              "    }\n",
              "</style>\n",
              "<table border=\"1\" class=\"dataframe\">\n",
              "  <thead>\n",
              "    <tr style=\"text-align: right;\">\n",
              "      <th></th>\n",
              "      <th>MONTHS_BALANCE</th>\n",
              "      <th>STATUS</th>\n",
              "    </tr>\n",
              "    <tr>\n",
              "      <th>ID</th>\n",
              "      <th></th>\n",
              "      <th></th>\n",
              "    </tr>\n",
              "  </thead>\n",
              "  <tbody>\n",
              "    <tr>\n",
              "      <th>5001711</th>\n",
              "      <td>0</td>\n",
              "      <td>X</td>\n",
              "    </tr>\n",
              "    <tr>\n",
              "      <th>5001711</th>\n",
              "      <td>-1</td>\n",
              "      <td>0</td>\n",
              "    </tr>\n",
              "    <tr>\n",
              "      <th>5001711</th>\n",
              "      <td>-2</td>\n",
              "      <td>0</td>\n",
              "    </tr>\n",
              "    <tr>\n",
              "      <th>5001711</th>\n",
              "      <td>-3</td>\n",
              "      <td>0</td>\n",
              "    </tr>\n",
              "  </tbody>\n",
              "</table>\n",
              "</div>\n",
              "      <button class=\"colab-df-convert\" onclick=\"convertToInteractive('df-a58376c3-57bd-4da7-b007-07f549a5b200')\"\n",
              "              title=\"Convert this dataframe to an interactive table.\"\n",
              "              style=\"display:none;\">\n",
              "        \n",
              "  <svg xmlns=\"http://www.w3.org/2000/svg\" height=\"24px\"viewBox=\"0 0 24 24\"\n",
              "       width=\"24px\">\n",
              "    <path d=\"M0 0h24v24H0V0z\" fill=\"none\"/>\n",
              "    <path d=\"M18.56 5.44l.94 2.06.94-2.06 2.06-.94-2.06-.94-.94-2.06-.94 2.06-2.06.94zm-11 1L8.5 8.5l.94-2.06 2.06-.94-2.06-.94L8.5 2.5l-.94 2.06-2.06.94zm10 10l.94 2.06.94-2.06 2.06-.94-2.06-.94-.94-2.06-.94 2.06-2.06.94z\"/><path d=\"M17.41 7.96l-1.37-1.37c-.4-.4-.92-.59-1.43-.59-.52 0-1.04.2-1.43.59L10.3 9.45l-7.72 7.72c-.78.78-.78 2.05 0 2.83L4 21.41c.39.39.9.59 1.41.59.51 0 1.02-.2 1.41-.59l7.78-7.78 2.81-2.81c.8-.78.8-2.07 0-2.86zM5.41 20L4 18.59l7.72-7.72 1.47 1.35L5.41 20z\"/>\n",
              "  </svg>\n",
              "      </button>\n",
              "      \n",
              "  <style>\n",
              "    .colab-df-container {\n",
              "      display:flex;\n",
              "      flex-wrap:wrap;\n",
              "      gap: 12px;\n",
              "    }\n",
              "\n",
              "    .colab-df-convert {\n",
              "      background-color: #E8F0FE;\n",
              "      border: none;\n",
              "      border-radius: 50%;\n",
              "      cursor: pointer;\n",
              "      display: none;\n",
              "      fill: #1967D2;\n",
              "      height: 32px;\n",
              "      padding: 0 0 0 0;\n",
              "      width: 32px;\n",
              "    }\n",
              "\n",
              "    .colab-df-convert:hover {\n",
              "      background-color: #E2EBFA;\n",
              "      box-shadow: 0px 1px 2px rgba(60, 64, 67, 0.3), 0px 1px 3px 1px rgba(60, 64, 67, 0.15);\n",
              "      fill: #174EA6;\n",
              "    }\n",
              "\n",
              "    [theme=dark] .colab-df-convert {\n",
              "      background-color: #3B4455;\n",
              "      fill: #D2E3FC;\n",
              "    }\n",
              "\n",
              "    [theme=dark] .colab-df-convert:hover {\n",
              "      background-color: #434B5C;\n",
              "      box-shadow: 0px 1px 3px 1px rgba(0, 0, 0, 0.15);\n",
              "      filter: drop-shadow(0px 1px 2px rgba(0, 0, 0, 0.3));\n",
              "      fill: #FFFFFF;\n",
              "    }\n",
              "  </style>\n",
              "\n",
              "      <script>\n",
              "        const buttonEl =\n",
              "          document.querySelector('#df-a58376c3-57bd-4da7-b007-07f549a5b200 button.colab-df-convert');\n",
              "        buttonEl.style.display =\n",
              "          google.colab.kernel.accessAllowed ? 'block' : 'none';\n",
              "\n",
              "        async function convertToInteractive(key) {\n",
              "          const element = document.querySelector('#df-a58376c3-57bd-4da7-b007-07f549a5b200');\n",
              "          const dataTable =\n",
              "            await google.colab.kernel.invokeFunction('convertToInteractive',\n",
              "                                                     [key], {});\n",
              "          if (!dataTable) return;\n",
              "\n",
              "          const docLinkHtml = 'Like what you see? Visit the ' +\n",
              "            '<a target=\"_blank\" href=https://colab.research.google.com/notebooks/data_table.ipynb>data table notebook</a>'\n",
              "            + ' to learn more about interactive tables.';\n",
              "          element.innerHTML = '';\n",
              "          dataTable['output_type'] = 'display_data';\n",
              "          await google.colab.output.renderOutput(dataTable, element);\n",
              "          const docLink = document.createElement('div');\n",
              "          docLink.innerHTML = docLinkHtml;\n",
              "          element.appendChild(docLink);\n",
              "        }\n",
              "      </script>\n",
              "    </div>\n",
              "  </div>\n",
              "  "
            ]
          },
          "metadata": {},
          "execution_count": 278
        }
      ]
    },
    {
      "cell_type": "markdown",
      "source": [
        "We can also select entire columns. For this we need to tell python to select all rows (`:`) of a specific column"
      ],
      "metadata": {
        "id": "0q_t92xE0Fw_"
      }
    },
    {
      "cell_type": "code",
      "source": [
        "df_record.loc[:,'STATUS']"
      ],
      "metadata": {
        "colab": {
          "base_uri": "https://localhost:8080/"
        },
        "id": "Ddfgsflz0G5e",
        "outputId": "0e3695d9-795b-4dea-ad81-11a4995c3d8f"
      },
      "execution_count": null,
      "outputs": [
        {
          "output_type": "execute_result",
          "data": {
            "text/plain": [
              "ID\n",
              "5001711    X\n",
              "5001711    0\n",
              "5001711    0\n",
              "5001711    0\n",
              "5001712    C\n",
              "          ..\n",
              "5150487    C\n",
              "5150487    C\n",
              "5150487    C\n",
              "5150487    C\n",
              "5150487    C\n",
              "Name: STATUS, Length: 1048575, dtype: object"
            ]
          },
          "metadata": {},
          "execution_count": 279
        }
      ]
    },
    {
      "cell_type": "markdown",
      "source": [
        "Finally, we can also select the statuses of a specific client"
      ],
      "metadata": {
        "id": "YvXx9U4r0JBc"
      }
    },
    {
      "cell_type": "code",
      "source": [
        "df_record.loc[5001711,'STATUS']"
      ],
      "metadata": {
        "colab": {
          "base_uri": "https://localhost:8080/"
        },
        "id": "xlAzL1y60KT2",
        "outputId": "ce3e03f8-a601-4977-89d8-1df5a3849539"
      },
      "execution_count": null,
      "outputs": [
        {
          "output_type": "execute_result",
          "data": {
            "text/plain": [
              "ID\n",
              "5001711    X\n",
              "5001711    0\n",
              "5001711    0\n",
              "5001711    0\n",
              "Name: STATUS, dtype: object"
            ]
          },
          "metadata": {},
          "execution_count": 280
        }
      ]
    },
    {
      "cell_type": "markdown",
      "source": [
        "##  Renaming columns and values"
      ],
      "metadata": {
        "id": "-DuBRFo10MNJ"
      }
    },
    {
      "cell_type": "markdown",
      "source": [
        "The columns `MONTHS_BALANCE` and `STATUS` are given. Let create new columns that are more easily readable and easier to plot. \n",
        "\n",
        "For `MONTHS_BALANCE`, we only want to give it a different name."
      ],
      "metadata": {
        "id": "VkyFLJIx0Q9v"
      }
    },
    {
      "cell_type": "code",
      "source": [
        "df_record = df_record.rename(columns={'MONTHS_BALANCE': 'month'})\n",
        "df_record.head()"
      ],
      "metadata": {
        "colab": {
          "base_uri": "https://localhost:8080/",
          "height": 237
        },
        "id": "SnK0p8kX0TvI",
        "outputId": "4802ffa9-a1d7-4e83-aab7-4b46e2bb7314"
      },
      "execution_count": null,
      "outputs": [
        {
          "output_type": "execute_result",
          "data": {
            "text/plain": [
              "         month STATUS\n",
              "ID                   \n",
              "5001711      0      X\n",
              "5001711     -1      0\n",
              "5001711     -2      0\n",
              "5001711     -3      0\n",
              "5001712      0      C"
            ],
            "text/html": [
              "\n",
              "  <div id=\"df-c58ad2f0-bc55-4970-b2bf-bd0ed89d5870\">\n",
              "    <div class=\"colab-df-container\">\n",
              "      <div>\n",
              "<style scoped>\n",
              "    .dataframe tbody tr th:only-of-type {\n",
              "        vertical-align: middle;\n",
              "    }\n",
              "\n",
              "    .dataframe tbody tr th {\n",
              "        vertical-align: top;\n",
              "    }\n",
              "\n",
              "    .dataframe thead th {\n",
              "        text-align: right;\n",
              "    }\n",
              "</style>\n",
              "<table border=\"1\" class=\"dataframe\">\n",
              "  <thead>\n",
              "    <tr style=\"text-align: right;\">\n",
              "      <th></th>\n",
              "      <th>month</th>\n",
              "      <th>STATUS</th>\n",
              "    </tr>\n",
              "    <tr>\n",
              "      <th>ID</th>\n",
              "      <th></th>\n",
              "      <th></th>\n",
              "    </tr>\n",
              "  </thead>\n",
              "  <tbody>\n",
              "    <tr>\n",
              "      <th>5001711</th>\n",
              "      <td>0</td>\n",
              "      <td>X</td>\n",
              "    </tr>\n",
              "    <tr>\n",
              "      <th>5001711</th>\n",
              "      <td>-1</td>\n",
              "      <td>0</td>\n",
              "    </tr>\n",
              "    <tr>\n",
              "      <th>5001711</th>\n",
              "      <td>-2</td>\n",
              "      <td>0</td>\n",
              "    </tr>\n",
              "    <tr>\n",
              "      <th>5001711</th>\n",
              "      <td>-3</td>\n",
              "      <td>0</td>\n",
              "    </tr>\n",
              "    <tr>\n",
              "      <th>5001712</th>\n",
              "      <td>0</td>\n",
              "      <td>C</td>\n",
              "    </tr>\n",
              "  </tbody>\n",
              "</table>\n",
              "</div>\n",
              "      <button class=\"colab-df-convert\" onclick=\"convertToInteractive('df-c58ad2f0-bc55-4970-b2bf-bd0ed89d5870')\"\n",
              "              title=\"Convert this dataframe to an interactive table.\"\n",
              "              style=\"display:none;\">\n",
              "        \n",
              "  <svg xmlns=\"http://www.w3.org/2000/svg\" height=\"24px\"viewBox=\"0 0 24 24\"\n",
              "       width=\"24px\">\n",
              "    <path d=\"M0 0h24v24H0V0z\" fill=\"none\"/>\n",
              "    <path d=\"M18.56 5.44l.94 2.06.94-2.06 2.06-.94-2.06-.94-.94-2.06-.94 2.06-2.06.94zm-11 1L8.5 8.5l.94-2.06 2.06-.94-2.06-.94L8.5 2.5l-.94 2.06-2.06.94zm10 10l.94 2.06.94-2.06 2.06-.94-2.06-.94-.94-2.06-.94 2.06-2.06.94z\"/><path d=\"M17.41 7.96l-1.37-1.37c-.4-.4-.92-.59-1.43-.59-.52 0-1.04.2-1.43.59L10.3 9.45l-7.72 7.72c-.78.78-.78 2.05 0 2.83L4 21.41c.39.39.9.59 1.41.59.51 0 1.02-.2 1.41-.59l7.78-7.78 2.81-2.81c.8-.78.8-2.07 0-2.86zM5.41 20L4 18.59l7.72-7.72 1.47 1.35L5.41 20z\"/>\n",
              "  </svg>\n",
              "      </button>\n",
              "      \n",
              "  <style>\n",
              "    .colab-df-container {\n",
              "      display:flex;\n",
              "      flex-wrap:wrap;\n",
              "      gap: 12px;\n",
              "    }\n",
              "\n",
              "    .colab-df-convert {\n",
              "      background-color: #E8F0FE;\n",
              "      border: none;\n",
              "      border-radius: 50%;\n",
              "      cursor: pointer;\n",
              "      display: none;\n",
              "      fill: #1967D2;\n",
              "      height: 32px;\n",
              "      padding: 0 0 0 0;\n",
              "      width: 32px;\n",
              "    }\n",
              "\n",
              "    .colab-df-convert:hover {\n",
              "      background-color: #E2EBFA;\n",
              "      box-shadow: 0px 1px 2px rgba(60, 64, 67, 0.3), 0px 1px 3px 1px rgba(60, 64, 67, 0.15);\n",
              "      fill: #174EA6;\n",
              "    }\n",
              "\n",
              "    [theme=dark] .colab-df-convert {\n",
              "      background-color: #3B4455;\n",
              "      fill: #D2E3FC;\n",
              "    }\n",
              "\n",
              "    [theme=dark] .colab-df-convert:hover {\n",
              "      background-color: #434B5C;\n",
              "      box-shadow: 0px 1px 3px 1px rgba(0, 0, 0, 0.15);\n",
              "      filter: drop-shadow(0px 1px 2px rgba(0, 0, 0, 0.3));\n",
              "      fill: #FFFFFF;\n",
              "    }\n",
              "  </style>\n",
              "\n",
              "      <script>\n",
              "        const buttonEl =\n",
              "          document.querySelector('#df-c58ad2f0-bc55-4970-b2bf-bd0ed89d5870 button.colab-df-convert');\n",
              "        buttonEl.style.display =\n",
              "          google.colab.kernel.accessAllowed ? 'block' : 'none';\n",
              "\n",
              "        async function convertToInteractive(key) {\n",
              "          const element = document.querySelector('#df-c58ad2f0-bc55-4970-b2bf-bd0ed89d5870');\n",
              "          const dataTable =\n",
              "            await google.colab.kernel.invokeFunction('convertToInteractive',\n",
              "                                                     [key], {});\n",
              "          if (!dataTable) return;\n",
              "\n",
              "          const docLinkHtml = 'Like what you see? Visit the ' +\n",
              "            '<a target=\"_blank\" href=https://colab.research.google.com/notebooks/data_table.ipynb>data table notebook</a>'\n",
              "            + ' to learn more about interactive tables.';\n",
              "          element.innerHTML = '';\n",
              "          dataTable['output_type'] = 'display_data';\n",
              "          await google.colab.output.renderOutput(dataTable, element);\n",
              "          const docLink = document.createElement('div');\n",
              "          docLink.innerHTML = docLinkHtml;\n",
              "          element.appendChild(docLink);\n",
              "        }\n",
              "      </script>\n",
              "    </div>\n",
              "  </div>\n",
              "  "
            ]
          },
          "metadata": {},
          "execution_count": 281
        }
      ]
    },
    {
      "cell_type": "markdown",
      "source": [
        "For `STATUS`, we want to not only rename it, but also convert it to numeric values. Recall that the possible values are\n",
        "\n",
        "```\n",
        "X: no loan\n",
        "C: paid off\n",
        "0: overdue <1 month\n",
        "1: overdue 1 months\n",
        "2: overdue 2 months\n",
        "3: overdue 3 months\n",
        "4: overdue 4 months\n",
        "5: overdue 5 months or more (written-off)\n",
        "```\n",
        "\n",
        "This means, it has strings (`X` or `C`) as well as integers (`0,1,...5`). For our purposes, we do not need to differentiate whether the client has status `X: no loan` or `'C: paid off` or is `0: overdue <1 month`. Let us therefore convert `X` and `C` to `0`."
      ],
      "metadata": {
        "id": "7FZeDTD90biw"
      }
    },
    {
      "cell_type": "code",
      "source": [
        "df_record.loc[:,'status'] = df_record.loc[:,'STATUS']\n",
        "df_record.loc[:,'status'] = df_record.loc[:,'status'].replace('X', '0')\n",
        "df_record.loc[:,'status'] = df_record.loc[:,'status'].replace('C', '0')"
      ],
      "metadata": {
        "id": "2rVTrcMP0jpt"
      },
      "execution_count": null,
      "outputs": []
    },
    {
      "cell_type": "markdown",
      "source": [
        "Now we can tell the column to be integers instead of strings."
      ],
      "metadata": {
        "id": "QGvTUlIT0msP"
      }
    },
    {
      "cell_type": "code",
      "source": [
        "df_record.loc[:,'status'].values"
      ],
      "metadata": {
        "colab": {
          "base_uri": "https://localhost:8080/"
        },
        "id": "OkdISIUk0oDG",
        "outputId": "50f807be-8f28-42ab-cafc-f69d7bfc4eb2"
      },
      "execution_count": null,
      "outputs": [
        {
          "output_type": "execute_result",
          "data": {
            "text/plain": [
              "array(['0', '0', '0', ..., '0', '0', '0'], dtype=object)"
            ]
          },
          "metadata": {},
          "execution_count": 283
        }
      ]
    },
    {
      "cell_type": "code",
      "source": [
        "df_record.loc[:,'status'] = df_record.loc[:,'status'].astype(int)\n",
        "df_record.loc[:,'status'].values"
      ],
      "metadata": {
        "colab": {
          "base_uri": "https://localhost:8080/"
        },
        "id": "fM0qCRyr0pJ9",
        "outputId": "d49b52e3-42a4-4210-e6ce-b0500857d40e"
      },
      "execution_count": null,
      "outputs": [
        {
          "output_type": "execute_result",
          "data": {
            "text/plain": [
              "array([0, 0, 0, ..., 0, 0, 0])"
            ]
          },
          "metadata": {},
          "execution_count": 284
        }
      ]
    },
    {
      "cell_type": "code",
      "source": [],
      "metadata": {
        "id": "xMjtVIzxZgZD"
      },
      "execution_count": null,
      "outputs": []
    },
    {
      "cell_type": "markdown",
      "source": [
        "This is important because we want to plot the results in the next step. If the values are stored as strings `'0'` rather than integers `0`, the plotter wouldn't know how to plot `'0'` just like it wouldn't know how to plot the letter `C`."
      ],
      "metadata": {
        "id": "foWqb4B70rA_"
      }
    },
    {
      "cell_type": "markdown",
      "source": [
        "## Visually inspect the results"
      ],
      "metadata": {
        "id": "qWsCU4s-1RA4"
      }
    },
    {
      "cell_type": "code",
      "source": [
        "import matplotlib.pyplot as plt"
      ],
      "metadata": {
        "id": "8-OWaOMr1o9g"
      },
      "execution_count": null,
      "outputs": []
    },
    {
      "cell_type": "code",
      "source": [
        "client_id = 5112594\n",
        "\n",
        "x = df_record.loc[client_id, 'month']\n",
        "y = df_record.loc[client_id, 'status']\n",
        "\n",
        "plt.plot(x, y, marker='o')"
      ],
      "metadata": {
        "colab": {
          "base_uri": "https://localhost:8080/",
          "height": 282
        },
        "id": "VuA3TZCX1UJ6",
        "outputId": "db5af8da-0c9e-4d38-8680-497538dd7c6e"
      },
      "execution_count": null,
      "outputs": [
        {
          "output_type": "execute_result",
          "data": {
            "text/plain": [
              "[<matplotlib.lines.Line2D at 0x7f852180aad0>]"
            ]
          },
          "metadata": {},
          "execution_count": 286
        },
        {
          "output_type": "display_data",
          "data": {
            "text/plain": [
              "<Figure size 432x288 with 1 Axes>"
            ],
            "image/png": "[encoded data removed]"
          },
          "metadata": {
            "needs_background": "light"
          }
        }
      ]
    },
    {
      "cell_type": "code",
      "source": [
        "client_id = 5112599\n",
        "\n",
        "x = df_record.loc[client_id, 'month']\n",
        "y = df_record.loc[client_id, 'status']\n",
        "\n",
        "plt.plot(x, y, marker='o')"
      ],
      "metadata": {
        "colab": {
          "base_uri": "https://localhost:8080/",
          "height": 282
        },
        "id": "t7CChNK91r8h",
        "outputId": "71295b23-e2d8-456a-f866-ace60140cfc6"
      },
      "execution_count": null,
      "outputs": [
        {
          "output_type": "execute_result",
          "data": {
            "text/plain": [
              "[<matplotlib.lines.Line2D at 0x7f85217719d0>]"
            ]
          },
          "metadata": {},
          "execution_count": 287
        },
        {
          "output_type": "display_data",
          "data": {
            "text/plain": [
              "<Figure size 432x288 with 1 Axes>"
            ],
            "image/png": "[encoded data removed]"
          },
          "metadata": {
            "needs_background": "light"
          }
        }
      ]
    },
    {
      "cell_type": "code",
      "source": [
        "client_id = 5085886\n",
        "\n",
        "x = df_record.loc[client_id, 'month']\n",
        "y = df_record.loc[client_id, 'status']\n",
        "\n",
        "plt.plot(x, y, marker='o')"
      ],
      "metadata": {
        "colab": {
          "base_uri": "https://localhost:8080/",
          "height": 282
        },
        "id": "RPEKG4BU1t_2",
        "outputId": "562883fb-2748-4894-c9ee-4e815e9d53ee"
      },
      "execution_count": null,
      "outputs": [
        {
          "output_type": "execute_result",
          "data": {
            "text/plain": [
              "[<matplotlib.lines.Line2D at 0x7f85216e3490>]"
            ]
          },
          "metadata": {},
          "execution_count": 288
        },
        {
          "output_type": "display_data",
          "data": {
            "text/plain": [
              "<Figure size 432x288 with 1 Axes>"
            ],
            "image/png": "[encoded data removed]"
          },
          "metadata": {
            "needs_background": "light"
          }
        }
      ]
    },
    {
      "cell_type": "markdown",
      "source": [
        "## Create variable `DEFAULTED`\n",
        "\n",
        "For our later exercise of classifying and predicting clients based on their application characteristics in `df_applicaitons`, we want to summarize the time series of each client to one variable, which captures: Did the client default at some point?\n",
        "\n",
        "Since the column `status` contains all necessary information, all we need to do is to ask: Was the `status` at any point higher or equal than `3`? That is, was the client at any point past due more than 90 days? \n",
        "\n",
        "To make life easier, let us first select the history of one client that we know to have defaulted and one that did not. "
      ],
      "metadata": {
        "id": "X2AM6rqM139x"
      }
    },
    {
      "cell_type": "code",
      "source": [
        "bad_client_id = 5085886\n",
        "good_client_id = 5112594"
      ],
      "metadata": {
        "id": "LizK8n7Q2BWu"
      },
      "execution_count": null,
      "outputs": []
    },
    {
      "cell_type": "markdown",
      "source": [
        "### Bad client\n",
        "\n",
        "Since we want to know a client defaulted at **any** point, we do not need the months anymore. We only need to select one column. In such a case, there is no need for a full dataframe. Instead, a Series sufficies.\n",
        "\n",
        "Series are to DataFrames what vectors are to matrices. They are simpler and only 1-dimensional. You can decompose a DataFrame into Series and build a DataFrame out of Series."
      ],
      "metadata": {
        "id": "0WfUIYzO2Cvf"
      }
    },
    {
      "cell_type": "code",
      "source": [
        "type(df_record)"
      ],
      "metadata": {
        "colab": {
          "base_uri": "https://localhost:8080/"
        },
        "id": "Ya7ASJmZ2aye",
        "outputId": "a87f7306-5350-4133-e430-caa2c1c04412"
      },
      "execution_count": null,
      "outputs": [
        {
          "output_type": "execute_result",
          "data": {
            "text/plain": [
              "pandas.core.frame.DataFrame"
            ]
          },
          "metadata": {},
          "execution_count": 290
        }
      ]
    },
    {
      "cell_type": "code",
      "source": [
        "sr_client = df_record.loc[bad_client_id, 'status']\n",
        "sr_client"
      ],
      "metadata": {
        "colab": {
          "base_uri": "https://localhost:8080/"
        },
        "id": "mHoDg99g2d-m",
        "outputId": "5ba5c302-0b10-4d2c-8e78-c5837509b5b6"
      },
      "execution_count": null,
      "outputs": [
        {
          "output_type": "execute_result",
          "data": {
            "text/plain": [
              "ID\n",
              "5085886    5\n",
              "5085886    5\n",
              "5085886    5\n",
              "5085886    5\n",
              "5085886    5\n",
              "          ..\n",
              "5085886    0\n",
              "5085886    0\n",
              "5085886    0\n",
              "5085886    0\n",
              "5085886    0\n",
              "Name: status, Length: 61, dtype: int64"
            ]
          },
          "metadata": {},
          "execution_count": 291
        }
      ]
    },
    {
      "cell_type": "code",
      "source": [
        "type(sr_client)"
      ],
      "metadata": {
        "colab": {
          "base_uri": "https://localhost:8080/"
        },
        "id": "7z9Jm8BR2ftp",
        "outputId": "308a853b-db94-49df-e5ac-d4249f2c4c7a"
      },
      "execution_count": null,
      "outputs": [
        {
          "output_type": "execute_result",
          "data": {
            "text/plain": [
              "pandas.core.series.Series"
            ]
          },
          "metadata": {},
          "execution_count": 292
        }
      ]
    },
    {
      "cell_type": "code",
      "source": [
        "sr_defaulted = sr_client >= 2\n",
        "sr_defaulted"
      ],
      "metadata": {
        "colab": {
          "base_uri": "https://localhost:8080/"
        },
        "id": "g0oAoFck2htx",
        "outputId": "67d20eb6-6aec-409d-cb5f-31cd4fb75c2e"
      },
      "execution_count": null,
      "outputs": [
        {
          "output_type": "execute_result",
          "data": {
            "text/plain": [
              "ID\n",
              "5085886     True\n",
              "5085886     True\n",
              "5085886     True\n",
              "5085886     True\n",
              "5085886     True\n",
              "           ...  \n",
              "5085886    False\n",
              "5085886    False\n",
              "5085886    False\n",
              "5085886    False\n",
              "5085886    False\n",
              "Name: status, Length: 61, dtype: bool"
            ]
          },
          "metadata": {},
          "execution_count": 293
        }
      ]
    },
    {
      "cell_type": "markdown",
      "source": [
        "Note that we now know if the client defaulted in each month, but this is not yet aggregated. We only want to know if any **any** point, the client defaulted. One way to ask this question is to count the number of `True` values and ask whether this total count is larger than `0`"
      ],
      "metadata": {
        "id": "sj9nopE-2jFz"
      }
    },
    {
      "cell_type": "code",
      "source": [
        "sr_defaulted.sum()"
      ],
      "metadata": {
        "colab": {
          "base_uri": "https://localhost:8080/"
        },
        "id": "l6idYrVJ2pXq",
        "outputId": "bfa3fb16-cb90-4aa9-9f75-5682b298f656"
      },
      "execution_count": null,
      "outputs": [
        {
          "output_type": "execute_result",
          "data": {
            "text/plain": [
              "48"
            ]
          },
          "metadata": {},
          "execution_count": 294
        }
      ]
    },
    {
      "cell_type": "code",
      "source": [
        "plt.plot(sr_defaulted.values)"
      ],
      "metadata": {
        "colab": {
          "base_uri": "https://localhost:8080/",
          "height": 282
        },
        "id": "gYjAdv_J734N",
        "outputId": "19ebfe0b-e758-4c91-9056-4d25daf8c064"
      },
      "execution_count": null,
      "outputs": [
        {
          "output_type": "execute_result",
          "data": {
            "text/plain": [
              "[<matplotlib.lines.Line2D at 0x7f852165a410>]"
            ]
          },
          "metadata": {},
          "execution_count": 295
        },
        {
          "output_type": "display_data",
          "data": {
            "text/plain": [
              "<Figure size 432x288 with 1 Axes>"
            ],
            "image/png": "[encoded data removed]"
          },
          "metadata": {
            "needs_background": "light"
          }
        }
      ]
    },
    {
      "cell_type": "code",
      "source": [
        "sr_defaulted.sum() > 0"
      ],
      "metadata": {
        "colab": {
          "base_uri": "https://localhost:8080/"
        },
        "id": "kSVLYUoB2qrA",
        "outputId": "163bc42a-1365-4863-97b5-764d43062b94"
      },
      "execution_count": null,
      "outputs": [
        {
          "output_type": "execute_result",
          "data": {
            "text/plain": [
              "True"
            ]
          },
          "metadata": {},
          "execution_count": 296
        }
      ]
    },
    {
      "cell_type": "markdown",
      "source": [
        "### Good client\n",
        "For a good client, the result should be `False`"
      ],
      "metadata": {
        "id": "K3TylZxg2sqD"
      }
    },
    {
      "cell_type": "code",
      "source": [
        "sr_client = df_record.loc[good_client_id, 'status']\n",
        "sr_defaulted = sr_client >= 2\n",
        "sr_defaulted.sum() > 0"
      ],
      "metadata": {
        "colab": {
          "base_uri": "https://localhost:8080/"
        },
        "id": "CkZ0ATCk20i_",
        "outputId": "8b76677a-277f-4107-debf-53a1da2a4686"
      },
      "execution_count": null,
      "outputs": [
        {
          "output_type": "execute_result",
          "data": {
            "text/plain": [
              "False"
            ]
          },
          "metadata": {},
          "execution_count": 297
        }
      ]
    },
    {
      "cell_type": "markdown",
      "source": [
        "### Automation: define a function\n",
        "Given that there are 45,985 unique clients, we do not want to do this manually. As we will see, we can do this in just one step later one. But first, let us automate the last tasks we did: Did a client default at any point?"
      ],
      "metadata": {
        "id": "Uc9ddn_822mt"
      }
    },
    {
      "cell_type": "code",
      "source": [
        "def was_there_a_default(sr_client):\n",
        "    sr_defaulted = sr_client >= 2\n",
        "    return sr_defaulted.sum() > 0"
      ],
      "metadata": {
        "id": "jXylkdTg27vY"
      },
      "execution_count": null,
      "outputs": []
    },
    {
      "cell_type": "code",
      "source": [
        "sr_good_client = df_record.loc[good_client_id, 'status']\n",
        "sr_bad_client = df_record.loc[bad_client_id, 'status']"
      ],
      "metadata": {
        "id": "cXDvCgHa28_i"
      },
      "execution_count": null,
      "outputs": []
    },
    {
      "cell_type": "code",
      "source": [
        "was_there_a_default(sr_good_client)"
      ],
      "metadata": {
        "colab": {
          "base_uri": "https://localhost:8080/"
        },
        "id": "zVw3babL2-Tz",
        "outputId": "cb8e9608-9f43-4f0a-fbb1-35d56de06c91"
      },
      "execution_count": null,
      "outputs": [
        {
          "output_type": "execute_result",
          "data": {
            "text/plain": [
              "False"
            ]
          },
          "metadata": {},
          "execution_count": 300
        }
      ]
    },
    {
      "cell_type": "code",
      "source": [
        "was_there_a_default(sr_bad_client)"
      ],
      "metadata": {
        "colab": {
          "base_uri": "https://localhost:8080/"
        },
        "id": "tzy8Hy_x2_V0",
        "outputId": "b6dbe07c-1fed-495c-f605-5b3d0bc5697d"
      },
      "execution_count": null,
      "outputs": [
        {
          "output_type": "execute_result",
          "data": {
            "text/plain": [
              "True"
            ]
          },
          "metadata": {},
          "execution_count": 301
        }
      ]
    },
    {
      "cell_type": "markdown",
      "source": [
        "### Automation: Apply the function across all clients"
      ],
      "metadata": {
        "id": "qsILfxWt3Bcg"
      }
    },
    {
      "cell_type": "code",
      "source": [
        "sr_all_statuses = df_record.loc[:,'status']\n",
        "sr_all_statuses.head(10)"
      ],
      "metadata": {
        "colab": {
          "base_uri": "https://localhost:8080/"
        },
        "id": "YhSfeGLn3FV0",
        "outputId": "15feca69-a95b-4576-981f-e98a2cf4b11f"
      },
      "execution_count": null,
      "outputs": [
        {
          "output_type": "execute_result",
          "data": {
            "text/plain": [
              "ID\n",
              "5001711    0\n",
              "5001711    0\n",
              "5001711    0\n",
              "5001711    0\n",
              "5001712    0\n",
              "5001712    0\n",
              "5001712    0\n",
              "5001712    0\n",
              "5001712    0\n",
              "5001712    0\n",
              "Name: status, dtype: int64"
            ]
          },
          "metadata": {},
          "execution_count": 302
        }
      ]
    },
    {
      "cell_type": "code",
      "source": [
        "sr_defaults = sr_all_statuses.groupby('ID').apply(was_there_a_default)"
      ],
      "metadata": {
        "id": "AM5_vBLA3KSb"
      },
      "execution_count": null,
      "outputs": []
    },
    {
      "cell_type": "code",
      "source": [
        "sr_defaults.value_counts()"
      ],
      "metadata": {
        "colab": {
          "base_uri": "https://localhost:8080/"
        },
        "id": "fnMoAT3G3N1K",
        "outputId": "71c500a8-ab36-4a8d-b199-81f3681cb6b2"
      },
      "execution_count": null,
      "outputs": [
        {
          "output_type": "execute_result",
          "data": {
            "text/plain": [
              "False    45318\n",
              "True       667\n",
              "Name: status, dtype: int64"
            ]
          },
          "metadata": {},
          "execution_count": 304
        }
      ]
    },
    {
      "cell_type": "code",
      "source": [
        "sr_defaults.value_counts().plot.bar()"
      ],
      "metadata": {
        "colab": {
          "base_uri": "https://localhost:8080/",
          "height": 298
        },
        "id": "7vUZSjBN3P93",
        "outputId": "5bf613e3-f235-4431-930f-cc022ef2f190"
      },
      "execution_count": null,
      "outputs": [
        {
          "output_type": "execute_result",
          "data": {
            "text/plain": [
              "<matplotlib.axes._subplots.AxesSubplot at 0x7f8521677d50>"
            ]
          },
          "metadata": {},
          "execution_count": 305
        },
        {
          "output_type": "display_data",
          "data": {
            "text/plain": [
              "<Figure size 432x288 with 1 Axes>"
            ],
            "image/png": "[encoded data removed]"
          },
          "metadata": {
            "needs_background": "light"
          }
        }
      ]
    },
    {
      "cell_type": "markdown",
      "source": [
        "## Sidebar: What is `groupby`?\n",
        "One of the most useful features of Series (and DataFrames) is the `groupby` method. It groups all rows with the same index together and applies a function to each of the groups as if they were separate Series. Afterwards, it glues them together again.\n",
        "\n",
        "For instance, if we have this simple series\n",
        "```\n",
        ">>> sr \n",
        "ID\n",
        "A    0\n",
        "A    1\n",
        "A    1\n",
        "B    1\n",
        "B    0\n",
        "```\n",
        "we can then run the command `sr.groupby('ID').apply(sum)`. This will first split them into two \"subseries\"\n",
        "```\n",
        "A = [0, 1, 1]\n",
        "B = [1, 0]\n",
        "```\n",
        "to which it then applies the function `sum` to\n",
        "```\n",
        "A = f([0, 1, 1])\n",
        "B = f([1, 0])\n",
        "```\n",
        "The result would then be\n",
        "```\n",
        ">>> sr.groupby('ID').apply(sum)\n",
        "ID\n",
        "A    2\n",
        "B    1\n",
        "```"
      ],
      "metadata": {
        "id": "UZo4MNoKjeFp"
      }
    },
    {
      "cell_type": "markdown",
      "source": [
        "----"
      ],
      "metadata": {
        "id": "9gR_yyJ8qfJa"
      }
    },
    {
      "cell_type": "markdown",
      "source": [
        "# Make the features: `df_applications`"
      ],
      "metadata": {
        "id": "k_dMX4Y-3YFX"
      }
    },
    {
      "cell_type": "code",
      "source": [
        "df_applications.shape"
      ],
      "metadata": {
        "colab": {
          "base_uri": "https://localhost:8080/"
        },
        "id": "dGnoNcSzA22J",
        "outputId": "193a728d-1901-41f8-9dda-8debf6a69102"
      },
      "execution_count": null,
      "outputs": [
        {
          "output_type": "execute_result",
          "data": {
            "text/plain": [
              "(438557, 18)"
            ]
          },
          "metadata": {},
          "execution_count": 306
        }
      ]
    },
    {
      "cell_type": "code",
      "source": [
        "df_applications = df_applications.drop_duplicates(subset='ID')"
      ],
      "metadata": {
        "id": "8L18eOAdA4eu"
      },
      "execution_count": null,
      "outputs": []
    },
    {
      "cell_type": "code",
      "source": [
        "df_applications = df_applications.set_index('ID')"
      ],
      "metadata": {
        "id": "u2wh3U3X3d7k"
      },
      "execution_count": null,
      "outputs": []
    },
    {
      "cell_type": "code",
      "source": [
        "df_applications = df_applications.dropna()"
      ],
      "metadata": {
        "id": "Z5LpPaJE8L68"
      },
      "execution_count": null,
      "outputs": []
    },
    {
      "cell_type": "markdown",
      "source": [
        "## What type of data is in each column?"
      ],
      "metadata": {
        "id": "ZEGsCbc03ho7"
      }
    },
    {
      "cell_type": "code",
      "source": [
        "df_dtypes = df_applications.dtypes.to_frame('dtypes')\n",
        "df_dtypes"
      ],
      "metadata": {
        "colab": {
          "base_uri": "https://localhost:8080/",
          "height": 582
        },
        "id": "wcyripy53lAz",
        "outputId": "894c5219-03a3-4d20-99dd-ebdc7fd3f5b1"
      },
      "execution_count": null,
      "outputs": [
        {
          "output_type": "execute_result",
          "data": {
            "text/plain": [
              "                      dtypes\n",
              "CODE_GENDER           object\n",
              "FLAG_OWN_CAR          object\n",
              "FLAG_OWN_REALTY       object\n",
              "CNT_CHILDREN           int64\n",
              "AMT_INCOME_TOTAL     float64\n",
              "NAME_INCOME_TYPE      object\n",
              "NAME_EDUCATION_TYPE   object\n",
              "NAME_FAMILY_STATUS    object\n",
              "NAME_HOUSING_TYPE     object\n",
              "DAYS_BIRTH             int64\n",
              "DAYS_EMPLOYED          int64\n",
              "FLAG_MOBIL             int64\n",
              "FLAG_WORK_PHONE        int64\n",
              "FLAG_PHONE             int64\n",
              "FLAG_EMAIL             int64\n",
              "OCCUPATION_TYPE       object\n",
              "CNT_FAM_MEMBERS      float64"
            ],
            "text/html": [
              "\n",
              "  <div id=\"df-4adc5b29-7a59-4ea0-90a0-344fa3cc680c\">\n",
              "    <div class=\"colab-df-container\">\n",
              "      <div>\n",
              "<style scoped>\n",
              "    .dataframe tbody tr th:only-of-type {\n",
              "        vertical-align: middle;\n",
              "    }\n",
              "\n",
              "    .dataframe tbody tr th {\n",
              "        vertical-align: top;\n",
              "    }\n",
              "\n",
              "    .dataframe thead th {\n",
              "        text-align: right;\n",
              "    }\n",
              "</style>\n",
              "<table border=\"1\" class=\"dataframe\">\n",
              "  <thead>\n",
              "    <tr style=\"text-align: right;\">\n",
              "      <th></th>\n",
              "      <th>dtypes</th>\n",
              "    </tr>\n",
              "  </thead>\n",
              "  <tbody>\n",
              "    <tr>\n",
              "      <th>CODE_GENDER</th>\n",
              "      <td>object</td>\n",
              "    </tr>\n",
              "    <tr>\n",
              "      <th>FLAG_OWN_CAR</th>\n",
              "      <td>object</td>\n",
              "    </tr>\n",
              "    <tr>\n",
              "      <th>FLAG_OWN_REALTY</th>\n",
              "      <td>object</td>\n",
              "    </tr>\n",
              "    <tr>\n",
              "      <th>CNT_CHILDREN</th>\n",
              "      <td>int64</td>\n",
              "    </tr>\n",
              "    <tr>\n",
              "      <th>AMT_INCOME_TOTAL</th>\n",
              "      <td>float64</td>\n",
              "    </tr>\n",
              "    <tr>\n",
              "      <th>NAME_INCOME_TYPE</th>\n",
              "      <td>object</td>\n",
              "    </tr>\n",
              "    <tr>\n",
              "      <th>NAME_EDUCATION_TYPE</th>\n",
              "      <td>object</td>\n",
              "    </tr>\n",
              "    <tr>\n",
              "      <th>NAME_FAMILY_STATUS</th>\n",
              "      <td>object</td>\n",
              "    </tr>\n",
              "    <tr>\n",
              "      <th>NAME_HOUSING_TYPE</th>\n",
              "      <td>object</td>\n",
              "    </tr>\n",
              "    <tr>\n",
              "      <th>DAYS_BIRTH</th>\n",
              "      <td>int64</td>\n",
              "    </tr>\n",
              "    <tr>\n",
              "      <th>DAYS_EMPLOYED</th>\n",
              "      <td>int64</td>\n",
              "    </tr>\n",
              "    <tr>\n",
              "      <th>FLAG_MOBIL</th>\n",
              "      <td>int64</td>\n",
              "    </tr>\n",
              "    <tr>\n",
              "      <th>FLAG_WORK_PHONE</th>\n",
              "      <td>int64</td>\n",
              "    </tr>\n",
              "    <tr>\n",
              "      <th>FLAG_PHONE</th>\n",
              "      <td>int64</td>\n",
              "    </tr>\n",
              "    <tr>\n",
              "      <th>FLAG_EMAIL</th>\n",
              "      <td>int64</td>\n",
              "    </tr>\n",
              "    <tr>\n",
              "      <th>OCCUPATION_TYPE</th>\n",
              "      <td>object</td>\n",
              "    </tr>\n",
              "    <tr>\n",
              "      <th>CNT_FAM_MEMBERS</th>\n",
              "      <td>float64</td>\n",
              "    </tr>\n",
              "  </tbody>\n",
              "</table>\n",
              "</div>\n",
              "      <button class=\"colab-df-convert\" onclick=\"convertToInteractive('df-4adc5b29-7a59-4ea0-90a0-344fa3cc680c')\"\n",
              "              title=\"Convert this dataframe to an interactive table.\"\n",
              "              style=\"display:none;\">\n",
              "        \n",
              "  <svg xmlns=\"http://www.w3.org/2000/svg\" height=\"24px\"viewBox=\"0 0 24 24\"\n",
              "       width=\"24px\">\n",
              "    <path d=\"M0 0h24v24H0V0z\" fill=\"none\"/>\n",
              "    <path d=\"M18.56 5.44l.94 2.06.94-2.06 2.06-.94-2.06-.94-.94-2.06-.94 2.06-2.06.94zm-11 1L8.5 8.5l.94-2.06 2.06-.94-2.06-.94L8.5 2.5l-.94 2.06-2.06.94zm10 10l.94 2.06.94-2.06 2.06-.94-2.06-.94-.94-2.06-.94 2.06-2.06.94z\"/><path d=\"M17.41 7.96l-1.37-1.37c-.4-.4-.92-.59-1.43-.59-.52 0-1.04.2-1.43.59L10.3 9.45l-7.72 7.72c-.78.78-.78 2.05 0 2.83L4 21.41c.39.39.9.59 1.41.59.51 0 1.02-.2 1.41-.59l7.78-7.78 2.81-2.81c.8-.78.8-2.07 0-2.86zM5.41 20L4 18.59l7.72-7.72 1.47 1.35L5.41 20z\"/>\n",
              "  </svg>\n",
              "      </button>\n",
              "      \n",
              "  <style>\n",
              "    .colab-df-container {\n",
              "      display:flex;\n",
              "      flex-wrap:wrap;\n",
              "      gap: 12px;\n",
              "    }\n",
              "\n",
              "    .colab-df-convert {\n",
              "      background-color: #E8F0FE;\n",
              "      border: none;\n",
              "      border-radius: 50%;\n",
              "      cursor: pointer;\n",
              "      display: none;\n",
              "      fill: #1967D2;\n",
              "      height: 32px;\n",
              "      padding: 0 0 0 0;\n",
              "      width: 32px;\n",
              "    }\n",
              "\n",
              "    .colab-df-convert:hover {\n",
              "      background-color: #E2EBFA;\n",
              "      box-shadow: 0px 1px 2px rgba(60, 64, 67, 0.3), 0px 1px 3px 1px rgba(60, 64, 67, 0.15);\n",
              "      fill: #174EA6;\n",
              "    }\n",
              "\n",
              "    [theme=dark] .colab-df-convert {\n",
              "      background-color: #3B4455;\n",
              "      fill: #D2E3FC;\n",
              "    }\n",
              "\n",
              "    [theme=dark] .colab-df-convert:hover {\n",
              "      background-color: #434B5C;\n",
              "      box-shadow: 0px 1px 3px 1px rgba(0, 0, 0, 0.15);\n",
              "      filter: drop-shadow(0px 1px 2px rgba(0, 0, 0, 0.3));\n",
              "      fill: #FFFFFF;\n",
              "    }\n",
              "  </style>\n",
              "\n",
              "      <script>\n",
              "        const buttonEl =\n",
              "          document.querySelector('#df-4adc5b29-7a59-4ea0-90a0-344fa3cc680c button.colab-df-convert');\n",
              "        buttonEl.style.display =\n",
              "          google.colab.kernel.accessAllowed ? 'block' : 'none';\n",
              "\n",
              "        async function convertToInteractive(key) {\n",
              "          const element = document.querySelector('#df-4adc5b29-7a59-4ea0-90a0-344fa3cc680c');\n",
              "          const dataTable =\n",
              "            await google.colab.kernel.invokeFunction('convertToInteractive',\n",
              "                                                     [key], {});\n",
              "          if (!dataTable) return;\n",
              "\n",
              "          const docLinkHtml = 'Like what you see? Visit the ' +\n",
              "            '<a target=\"_blank\" href=https://colab.research.google.com/notebooks/data_table.ipynb>data table notebook</a>'\n",
              "            + ' to learn more about interactive tables.';\n",
              "          element.innerHTML = '';\n",
              "          dataTable['output_type'] = 'display_data';\n",
              "          await google.colab.output.renderOutput(dataTable, element);\n",
              "          const docLink = document.createElement('div');\n",
              "          docLink.innerHTML = docLinkHtml;\n",
              "          element.appendChild(docLink);\n",
              "        }\n",
              "      </script>\n",
              "    </div>\n",
              "  </div>\n",
              "  "
            ]
          },
          "metadata": {},
          "execution_count": 310
        }
      ]
    },
    {
      "cell_type": "markdown",
      "source": [
        "The `.dtypes` attribute tells us what the datatype of this each column is. `int64` and `float64` are numeric, e.g. `1` and `1.0` respectively. For `object`, however, it isn't clear. Sometimes, these can be `'1'` strings that are actually numeric values. Or, these are actual strings, such as `'Cooking staff'`. Finally, boolean values (`True` or `False`) can also have the data type `object`.\n",
        "\n",
        "Let us create a convenient DataFrame that contains the first two rows as columns, along with an additional column on the data types."
      ],
      "metadata": {
        "id": "1rpA_fQB3p3E"
      }
    },
    {
      "cell_type": "code",
      "source": [
        "df_dtypes = df_dtypes.join(df_applications.head(2).T)\n",
        "df_dtypes"
      ],
      "metadata": {
        "colab": {
          "base_uri": "https://localhost:8080/",
          "height": 582
        },
        "id": "oRaKNqjj4J2l",
        "outputId": "4a02d0c7-763c-4bb4-e554-2e005892e2a1"
      },
      "execution_count": null,
      "outputs": [
        {
          "output_type": "execute_result",
          "data": {
            "text/plain": [
              "                      dtypes                        5008806  \\\n",
              "CODE_GENDER           object                              M   \n",
              "FLAG_OWN_CAR          object                              Y   \n",
              "FLAG_OWN_REALTY       object                              Y   \n",
              "CNT_CHILDREN           int64                              0   \n",
              "AMT_INCOME_TOTAL     float64                       112500.0   \n",
              "NAME_INCOME_TYPE      object                        Working   \n",
              "NAME_EDUCATION_TYPE   object  Secondary / secondary special   \n",
              "NAME_FAMILY_STATUS    object                        Married   \n",
              "NAME_HOUSING_TYPE     object              House / apartment   \n",
              "DAYS_BIRTH             int64                         -21474   \n",
              "DAYS_EMPLOYED          int64                          -1134   \n",
              "FLAG_MOBIL             int64                              1   \n",
              "FLAG_WORK_PHONE        int64                              0   \n",
              "FLAG_PHONE             int64                              0   \n",
              "FLAG_EMAIL             int64                              0   \n",
              "OCCUPATION_TYPE       object                 Security staff   \n",
              "CNT_FAM_MEMBERS      float64                            2.0   \n",
              "\n",
              "                                           5008808  \n",
              "CODE_GENDER                                      F  \n",
              "FLAG_OWN_CAR                                     N  \n",
              "FLAG_OWN_REALTY                                  Y  \n",
              "CNT_CHILDREN                                     0  \n",
              "AMT_INCOME_TOTAL                          270000.0  \n",
              "NAME_INCOME_TYPE              Commercial associate  \n",
              "NAME_EDUCATION_TYPE  Secondary / secondary special  \n",
              "NAME_FAMILY_STATUS            Single / not married  \n",
              "NAME_HOUSING_TYPE                House / apartment  \n",
              "DAYS_BIRTH                                  -19110  \n",
              "DAYS_EMPLOYED                                -3051  \n",
              "FLAG_MOBIL                                       1  \n",
              "FLAG_WORK_PHONE                                  0  \n",
              "FLAG_PHONE                                       1  \n",
              "FLAG_EMAIL                                       1  \n",
              "OCCUPATION_TYPE                        Sales staff  \n",
              "CNT_FAM_MEMBERS                                1.0  "
            ],
            "text/html": [
              "\n",
              "  <div id=\"df-94becf95-bfc2-449d-9354-5a57cfe8c19f\">\n",
              "    <div class=\"colab-df-container\">\n",
              "      <div>\n",
              "<style scoped>\n",
              "    .dataframe tbody tr th:only-of-type {\n",
              "        vertical-align: middle;\n",
              "    }\n",
              "\n",
              "    .dataframe tbody tr th {\n",
              "        vertical-align: top;\n",
              "    }\n",
              "\n",
              "    .dataframe thead th {\n",
              "        text-align: right;\n",
              "    }\n",
              "</style>\n",
              "<table border=\"1\" class=\"dataframe\">\n",
              "  <thead>\n",
              "    <tr style=\"text-align: right;\">\n",
              "      <th></th>\n",
              "      <th>dtypes</th>\n",
              "      <th>5008806</th>\n",
              "      <th>5008808</th>\n",
              "    </tr>\n",
              "  </thead>\n",
              "  <tbody>\n",
              "    <tr>\n",
              "      <th>CODE_GENDER</th>\n",
              "      <td>object</td>\n",
              "      <td>M</td>\n",
              "      <td>F</td>\n",
              "    </tr>\n",
              "    <tr>\n",
              "      <th>FLAG_OWN_CAR</th>\n",
              "      <td>object</td>\n",
              "      <td>Y</td>\n",
              "      <td>N</td>\n",
              "    </tr>\n",
              "    <tr>\n",
              "      <th>FLAG_OWN_REALTY</th>\n",
              "      <td>object</td>\n",
              "      <td>Y</td>\n",
              "      <td>Y</td>\n",
              "    </tr>\n",
              "    <tr>\n",
              "      <th>CNT_CHILDREN</th>\n",
              "      <td>int64</td>\n",
              "      <td>0</td>\n",
              "      <td>0</td>\n",
              "    </tr>\n",
              "    <tr>\n",
              "      <th>AMT_INCOME_TOTAL</th>\n",
              "      <td>float64</td>\n",
              "      <td>112500.0</td>\n",
              "      <td>270000.0</td>\n",
              "    </tr>\n",
              "    <tr>\n",
              "      <th>NAME_INCOME_TYPE</th>\n",
              "      <td>object</td>\n",
              "      <td>Working</td>\n",
              "      <td>Commercial associate</td>\n",
              "    </tr>\n",
              "    <tr>\n",
              "      <th>NAME_EDUCATION_TYPE</th>\n",
              "      <td>object</td>\n",
              "      <td>Secondary / secondary special</td>\n",
              "      <td>Secondary / secondary special</td>\n",
              "    </tr>\n",
              "    <tr>\n",
              "      <th>NAME_FAMILY_STATUS</th>\n",
              "      <td>object</td>\n",
              "      <td>Married</td>\n",
              "      <td>Single / not married</td>\n",
              "    </tr>\n",
              "    <tr>\n",
              "      <th>NAME_HOUSING_TYPE</th>\n",
              "      <td>object</td>\n",
              "      <td>House / apartment</td>\n",
              "      <td>House / apartment</td>\n",
              "    </tr>\n",
              "    <tr>\n",
              "      <th>DAYS_BIRTH</th>\n",
              "      <td>int64</td>\n",
              "      <td>-21474</td>\n",
              "      <td>-19110</td>\n",
              "    </tr>\n",
              "    <tr>\n",
              "      <th>DAYS_EMPLOYED</th>\n",
              "      <td>int64</td>\n",
              "      <td>-1134</td>\n",
              "      <td>-3051</td>\n",
              "    </tr>\n",
              "    <tr>\n",
              "      <th>FLAG_MOBIL</th>\n",
              "      <td>int64</td>\n",
              "      <td>1</td>\n",
              "      <td>1</td>\n",
              "    </tr>\n",
              "    <tr>\n",
              "      <th>FLAG_WORK_PHONE</th>\n",
              "      <td>int64</td>\n",
              "      <td>0</td>\n",
              "      <td>0</td>\n",
              "    </tr>\n",
              "    <tr>\n",
              "      <th>FLAG_PHONE</th>\n",
              "      <td>int64</td>\n",
              "      <td>0</td>\n",
              "      <td>1</td>\n",
              "    </tr>\n",
              "    <tr>\n",
              "      <th>FLAG_EMAIL</th>\n",
              "      <td>int64</td>\n",
              "      <td>0</td>\n",
              "      <td>1</td>\n",
              "    </tr>\n",
              "    <tr>\n",
              "      <th>OCCUPATION_TYPE</th>\n",
              "      <td>object</td>\n",
              "      <td>Security staff</td>\n",
              "      <td>Sales staff</td>\n",
              "    </tr>\n",
              "    <tr>\n",
              "      <th>CNT_FAM_MEMBERS</th>\n",
              "      <td>float64</td>\n",
              "      <td>2.0</td>\n",
              "      <td>1.0</td>\n",
              "    </tr>\n",
              "  </tbody>\n",
              "</table>\n",
              "</div>\n",
              "      <button class=\"colab-df-convert\" onclick=\"convertToInteractive('df-94becf95-bfc2-449d-9354-5a57cfe8c19f')\"\n",
              "              title=\"Convert this dataframe to an interactive table.\"\n",
              "              style=\"display:none;\">\n",
              "        \n",
              "  <svg xmlns=\"http://www.w3.org/2000/svg\" height=\"24px\"viewBox=\"0 0 24 24\"\n",
              "       width=\"24px\">\n",
              "    <path d=\"M0 0h24v24H0V0z\" fill=\"none\"/>\n",
              "    <path d=\"M18.56 5.44l.94 2.06.94-2.06 2.06-.94-2.06-.94-.94-2.06-.94 2.06-2.06.94zm-11 1L8.5 8.5l.94-2.06 2.06-.94-2.06-.94L8.5 2.5l-.94 2.06-2.06.94zm10 10l.94 2.06.94-2.06 2.06-.94-2.06-.94-.94-2.06-.94 2.06-2.06.94z\"/><path d=\"M17.41 7.96l-1.37-1.37c-.4-.4-.92-.59-1.43-.59-.52 0-1.04.2-1.43.59L10.3 9.45l-7.72 7.72c-.78.78-.78 2.05 0 2.83L4 21.41c.39.39.9.59 1.41.59.51 0 1.02-.2 1.41-.59l7.78-7.78 2.81-2.81c.8-.78.8-2.07 0-2.86zM5.41 20L4 18.59l7.72-7.72 1.47 1.35L5.41 20z\"/>\n",
              "  </svg>\n",
              "      </button>\n",
              "      \n",
              "  <style>\n",
              "    .colab-df-container {\n",
              "      display:flex;\n",
              "      flex-wrap:wrap;\n",
              "      gap: 12px;\n",
              "    }\n",
              "\n",
              "    .colab-df-convert {\n",
              "      background-color: #E8F0FE;\n",
              "      border: none;\n",
              "      border-radius: 50%;\n",
              "      cursor: pointer;\n",
              "      display: none;\n",
              "      fill: #1967D2;\n",
              "      height: 32px;\n",
              "      padding: 0 0 0 0;\n",
              "      width: 32px;\n",
              "    }\n",
              "\n",
              "    .colab-df-convert:hover {\n",
              "      background-color: #E2EBFA;\n",
              "      box-shadow: 0px 1px 2px rgba(60, 64, 67, 0.3), 0px 1px 3px 1px rgba(60, 64, 67, 0.15);\n",
              "      fill: #174EA6;\n",
              "    }\n",
              "\n",
              "    [theme=dark] .colab-df-convert {\n",
              "      background-color: #3B4455;\n",
              "      fill: #D2E3FC;\n",
              "    }\n",
              "\n",
              "    [theme=dark] .colab-df-convert:hover {\n",
              "      background-color: #434B5C;\n",
              "      box-shadow: 0px 1px 3px 1px rgba(0, 0, 0, 0.15);\n",
              "      filter: drop-shadow(0px 1px 2px rgba(0, 0, 0, 0.3));\n",
              "      fill: #FFFFFF;\n",
              "    }\n",
              "  </style>\n",
              "\n",
              "      <script>\n",
              "        const buttonEl =\n",
              "          document.querySelector('#df-94becf95-bfc2-449d-9354-5a57cfe8c19f button.colab-df-convert');\n",
              "        buttonEl.style.display =\n",
              "          google.colab.kernel.accessAllowed ? 'block' : 'none';\n",
              "\n",
              "        async function convertToInteractive(key) {\n",
              "          const element = document.querySelector('#df-94becf95-bfc2-449d-9354-5a57cfe8c19f');\n",
              "          const dataTable =\n",
              "            await google.colab.kernel.invokeFunction('convertToInteractive',\n",
              "                                                     [key], {});\n",
              "          if (!dataTable) return;\n",
              "\n",
              "          const docLinkHtml = 'Like what you see? Visit the ' +\n",
              "            '<a target=\"_blank\" href=https://colab.research.google.com/notebooks/data_table.ipynb>data table notebook</a>'\n",
              "            + ' to learn more about interactive tables.';\n",
              "          element.innerHTML = '';\n",
              "          dataTable['output_type'] = 'display_data';\n",
              "          await google.colab.output.renderOutput(dataTable, element);\n",
              "          const docLink = document.createElement('div');\n",
              "          docLink.innerHTML = docLinkHtml;\n",
              "          element.appendChild(docLink);\n",
              "        }\n",
              "      </script>\n",
              "    </div>\n",
              "  </div>\n",
              "  "
            ]
          },
          "metadata": {},
          "execution_count": 311
        }
      ]
    },
    {
      "cell_type": "code",
      "source": [
        "rows_not_object = df_dtypes['dtypes'] != 'object'\n",
        "df_dtypes_notobj = df_dtypes.loc[rows_not_object]\n",
        "df_dtypes_notobj"
      ],
      "metadata": {
        "colab": {
          "base_uri": "https://localhost:8080/",
          "height": 332
        },
        "id": "qXwg2b344W0C",
        "outputId": "a54a6404-6399-4129-d6b6-b59daa72d6b8"
      },
      "execution_count": null,
      "outputs": [
        {
          "output_type": "execute_result",
          "data": {
            "text/plain": [
              "                   dtypes   5008806   5008808\n",
              "CNT_CHILDREN        int64         0         0\n",
              "AMT_INCOME_TOTAL  float64  112500.0  270000.0\n",
              "DAYS_BIRTH          int64    -21474    -19110\n",
              "DAYS_EMPLOYED       int64     -1134     -3051\n",
              "FLAG_MOBIL          int64         1         1\n",
              "FLAG_WORK_PHONE     int64         0         0\n",
              "FLAG_PHONE          int64         0         1\n",
              "FLAG_EMAIL          int64         0         1\n",
              "CNT_FAM_MEMBERS   float64       2.0       1.0"
            ],
            "text/html": [
              "\n",
              "  <div id=\"df-7693215d-0904-44d3-891d-e15ed53c8620\">\n",
              "    <div class=\"colab-df-container\">\n",
              "      <div>\n",
              "<style scoped>\n",
              "    .dataframe tbody tr th:only-of-type {\n",
              "        vertical-align: middle;\n",
              "    }\n",
              "\n",
              "    .dataframe tbody tr th {\n",
              "        vertical-align: top;\n",
              "    }\n",
              "\n",
              "    .dataframe thead th {\n",
              "        text-align: right;\n",
              "    }\n",
              "</style>\n",
              "<table border=\"1\" class=\"dataframe\">\n",
              "  <thead>\n",
              "    <tr style=\"text-align: right;\">\n",
              "      <th></th>\n",
              "      <th>dtypes</th>\n",
              "      <th>5008806</th>\n",
              "      <th>5008808</th>\n",
              "    </tr>\n",
              "  </thead>\n",
              "  <tbody>\n",
              "    <tr>\n",
              "      <th>CNT_CHILDREN</th>\n",
              "      <td>int64</td>\n",
              "      <td>0</td>\n",
              "      <td>0</td>\n",
              "    </tr>\n",
              "    <tr>\n",
              "      <th>AMT_INCOME_TOTAL</th>\n",
              "      <td>float64</td>\n",
              "      <td>112500.0</td>\n",
              "      <td>270000.0</td>\n",
              "    </tr>\n",
              "    <tr>\n",
              "      <th>DAYS_BIRTH</th>\n",
              "      <td>int64</td>\n",
              "      <td>-21474</td>\n",
              "      <td>-19110</td>\n",
              "    </tr>\n",
              "    <tr>\n",
              "      <th>DAYS_EMPLOYED</th>\n",
              "      <td>int64</td>\n",
              "      <td>-1134</td>\n",
              "      <td>-3051</td>\n",
              "    </tr>\n",
              "    <tr>\n",
              "      <th>FLAG_MOBIL</th>\n",
              "      <td>int64</td>\n",
              "      <td>1</td>\n",
              "      <td>1</td>\n",
              "    </tr>\n",
              "    <tr>\n",
              "      <th>FLAG_WORK_PHONE</th>\n",
              "      <td>int64</td>\n",
              "      <td>0</td>\n",
              "      <td>0</td>\n",
              "    </tr>\n",
              "    <tr>\n",
              "      <th>FLAG_PHONE</th>\n",
              "      <td>int64</td>\n",
              "      <td>0</td>\n",
              "      <td>1</td>\n",
              "    </tr>\n",
              "    <tr>\n",
              "      <th>FLAG_EMAIL</th>\n",
              "      <td>int64</td>\n",
              "      <td>0</td>\n",
              "      <td>1</td>\n",
              "    </tr>\n",
              "    <tr>\n",
              "      <th>CNT_FAM_MEMBERS</th>\n",
              "      <td>float64</td>\n",
              "      <td>2.0</td>\n",
              "      <td>1.0</td>\n",
              "    </tr>\n",
              "  </tbody>\n",
              "</table>\n",
              "</div>\n",
              "      <button class=\"colab-df-convert\" onclick=\"convertToInteractive('df-7693215d-0904-44d3-891d-e15ed53c8620')\"\n",
              "              title=\"Convert this dataframe to an interactive table.\"\n",
              "              style=\"display:none;\">\n",
              "        \n",
              "  <svg xmlns=\"http://www.w3.org/2000/svg\" height=\"24px\"viewBox=\"0 0 24 24\"\n",
              "       width=\"24px\">\n",
              "    <path d=\"M0 0h24v24H0V0z\" fill=\"none\"/>\n",
              "    <path d=\"M18.56 5.44l.94 2.06.94-2.06 2.06-.94-2.06-.94-.94-2.06-.94 2.06-2.06.94zm-11 1L8.5 8.5l.94-2.06 2.06-.94-2.06-.94L8.5 2.5l-.94 2.06-2.06.94zm10 10l.94 2.06.94-2.06 2.06-.94-2.06-.94-.94-2.06-.94 2.06-2.06.94z\"/><path d=\"M17.41 7.96l-1.37-1.37c-.4-.4-.92-.59-1.43-.59-.52 0-1.04.2-1.43.59L10.3 9.45l-7.72 7.72c-.78.78-.78 2.05 0 2.83L4 21.41c.39.39.9.59 1.41.59.51 0 1.02-.2 1.41-.59l7.78-7.78 2.81-2.81c.8-.78.8-2.07 0-2.86zM5.41 20L4 18.59l7.72-7.72 1.47 1.35L5.41 20z\"/>\n",
              "  </svg>\n",
              "      </button>\n",
              "      \n",
              "  <style>\n",
              "    .colab-df-container {\n",
              "      display:flex;\n",
              "      flex-wrap:wrap;\n",
              "      gap: 12px;\n",
              "    }\n",
              "\n",
              "    .colab-df-convert {\n",
              "      background-color: #E8F0FE;\n",
              "      border: none;\n",
              "      border-radius: 50%;\n",
              "      cursor: pointer;\n",
              "      display: none;\n",
              "      fill: #1967D2;\n",
              "      height: 32px;\n",
              "      padding: 0 0 0 0;\n",
              "      width: 32px;\n",
              "    }\n",
              "\n",
              "    .colab-df-convert:hover {\n",
              "      background-color: #E2EBFA;\n",
              "      box-shadow: 0px 1px 2px rgba(60, 64, 67, 0.3), 0px 1px 3px 1px rgba(60, 64, 67, 0.15);\n",
              "      fill: #174EA6;\n",
              "    }\n",
              "\n",
              "    [theme=dark] .colab-df-convert {\n",
              "      background-color: #3B4455;\n",
              "      fill: #D2E3FC;\n",
              "    }\n",
              "\n",
              "    [theme=dark] .colab-df-convert:hover {\n",
              "      background-color: #434B5C;\n",
              "      box-shadow: 0px 1px 3px 1px rgba(0, 0, 0, 0.15);\n",
              "      filter: drop-shadow(0px 1px 2px rgba(0, 0, 0, 0.3));\n",
              "      fill: #FFFFFF;\n",
              "    }\n",
              "  </style>\n",
              "\n",
              "      <script>\n",
              "        const buttonEl =\n",
              "          document.querySelector('#df-7693215d-0904-44d3-891d-e15ed53c8620 button.colab-df-convert');\n",
              "        buttonEl.style.display =\n",
              "          google.colab.kernel.accessAllowed ? 'block' : 'none';\n",
              "\n",
              "        async function convertToInteractive(key) {\n",
              "          const element = document.querySelector('#df-7693215d-0904-44d3-891d-e15ed53c8620');\n",
              "          const dataTable =\n",
              "            await google.colab.kernel.invokeFunction('convertToInteractive',\n",
              "                                                     [key], {});\n",
              "          if (!dataTable) return;\n",
              "\n",
              "          const docLinkHtml = 'Like what you see? Visit the ' +\n",
              "            '<a target=\"_blank\" href=https://colab.research.google.com/notebooks/data_table.ipynb>data table notebook</a>'\n",
              "            + ' to learn more about interactive tables.';\n",
              "          element.innerHTML = '';\n",
              "          dataTable['output_type'] = 'display_data';\n",
              "          await google.colab.output.renderOutput(dataTable, element);\n",
              "          const docLink = document.createElement('div');\n",
              "          docLink.innerHTML = docLinkHtml;\n",
              "          element.appendChild(docLink);\n",
              "        }\n",
              "      </script>\n",
              "    </div>\n",
              "  </div>\n",
              "  "
            ]
          },
          "metadata": {},
          "execution_count": 312
        }
      ]
    },
    {
      "cell_type": "code",
      "source": [
        "rows_object = df_dtypes['dtypes'] == 'object'\n",
        "df_dtypes_obj = df_dtypes.loc[rows_object]\n",
        "df_dtypes_obj"
      ],
      "metadata": {
        "colab": {
          "base_uri": "https://localhost:8080/",
          "height": 300
        },
        "id": "Gx2BvZ374YVt",
        "outputId": "c56e956d-f988-436d-8d55-ffa5fad3d2b8"
      },
      "execution_count": null,
      "outputs": [
        {
          "output_type": "execute_result",
          "data": {
            "text/plain": [
              "                     dtypes                        5008806  \\\n",
              "CODE_GENDER          object                              M   \n",
              "FLAG_OWN_CAR         object                              Y   \n",
              "FLAG_OWN_REALTY      object                              Y   \n",
              "NAME_INCOME_TYPE     object                        Working   \n",
              "NAME_EDUCATION_TYPE  object  Secondary / secondary special   \n",
              "NAME_FAMILY_STATUS   object                        Married   \n",
              "NAME_HOUSING_TYPE    object              House / apartment   \n",
              "OCCUPATION_TYPE      object                 Security staff   \n",
              "\n",
              "                                           5008808  \n",
              "CODE_GENDER                                      F  \n",
              "FLAG_OWN_CAR                                     N  \n",
              "FLAG_OWN_REALTY                                  Y  \n",
              "NAME_INCOME_TYPE              Commercial associate  \n",
              "NAME_EDUCATION_TYPE  Secondary / secondary special  \n",
              "NAME_FAMILY_STATUS            Single / not married  \n",
              "NAME_HOUSING_TYPE                House / apartment  \n",
              "OCCUPATION_TYPE                        Sales staff  "
            ],
            "text/html": [
              "\n",
              "  <div id=\"df-f46edfc4-0226-46f7-8b9d-9fbbd826f2fd\">\n",
              "    <div class=\"colab-df-container\">\n",
              "      <div>\n",
              "<style scoped>\n",
              "    .dataframe tbody tr th:only-of-type {\n",
              "        vertical-align: middle;\n",
              "    }\n",
              "\n",
              "    .dataframe tbody tr th {\n",
              "        vertical-align: top;\n",
              "    }\n",
              "\n",
              "    .dataframe thead th {\n",
              "        text-align: right;\n",
              "    }\n",
              "</style>\n",
              "<table border=\"1\" class=\"dataframe\">\n",
              "  <thead>\n",
              "    <tr style=\"text-align: right;\">\n",
              "      <th></th>\n",
              "      <th>dtypes</th>\n",
              "      <th>5008806</th>\n",
              "      <th>5008808</th>\n",
              "    </tr>\n",
              "  </thead>\n",
              "  <tbody>\n",
              "    <tr>\n",
              "      <th>CODE_GENDER</th>\n",
              "      <td>object</td>\n",
              "      <td>M</td>\n",
              "      <td>F</td>\n",
              "    </tr>\n",
              "    <tr>\n",
              "      <th>FLAG_OWN_CAR</th>\n",
              "      <td>object</td>\n",
              "      <td>Y</td>\n",
              "      <td>N</td>\n",
              "    </tr>\n",
              "    <tr>\n",
              "      <th>FLAG_OWN_REALTY</th>\n",
              "      <td>object</td>\n",
              "      <td>Y</td>\n",
              "      <td>Y</td>\n",
              "    </tr>\n",
              "    <tr>\n",
              "      <th>NAME_INCOME_TYPE</th>\n",
              "      <td>object</td>\n",
              "      <td>Working</td>\n",
              "      <td>Commercial associate</td>\n",
              "    </tr>\n",
              "    <tr>\n",
              "      <th>NAME_EDUCATION_TYPE</th>\n",
              "      <td>object</td>\n",
              "      <td>Secondary / secondary special</td>\n",
              "      <td>Secondary / secondary special</td>\n",
              "    </tr>\n",
              "    <tr>\n",
              "      <th>NAME_FAMILY_STATUS</th>\n",
              "      <td>object</td>\n",
              "      <td>Married</td>\n",
              "      <td>Single / not married</td>\n",
              "    </tr>\n",
              "    <tr>\n",
              "      <th>NAME_HOUSING_TYPE</th>\n",
              "      <td>object</td>\n",
              "      <td>House / apartment</td>\n",
              "      <td>House / apartment</td>\n",
              "    </tr>\n",
              "    <tr>\n",
              "      <th>OCCUPATION_TYPE</th>\n",
              "      <td>object</td>\n",
              "      <td>Security staff</td>\n",
              "      <td>Sales staff</td>\n",
              "    </tr>\n",
              "  </tbody>\n",
              "</table>\n",
              "</div>\n",
              "      <button class=\"colab-df-convert\" onclick=\"convertToInteractive('df-f46edfc4-0226-46f7-8b9d-9fbbd826f2fd')\"\n",
              "              title=\"Convert this dataframe to an interactive table.\"\n",
              "              style=\"display:none;\">\n",
              "        \n",
              "  <svg xmlns=\"http://www.w3.org/2000/svg\" height=\"24px\"viewBox=\"0 0 24 24\"\n",
              "       width=\"24px\">\n",
              "    <path d=\"M0 0h24v24H0V0z\" fill=\"none\"/>\n",
              "    <path d=\"M18.56 5.44l.94 2.06.94-2.06 2.06-.94-2.06-.94-.94-2.06-.94 2.06-2.06.94zm-11 1L8.5 8.5l.94-2.06 2.06-.94-2.06-.94L8.5 2.5l-.94 2.06-2.06.94zm10 10l.94 2.06.94-2.06 2.06-.94-2.06-.94-.94-2.06-.94 2.06-2.06.94z\"/><path d=\"M17.41 7.96l-1.37-1.37c-.4-.4-.92-.59-1.43-.59-.52 0-1.04.2-1.43.59L10.3 9.45l-7.72 7.72c-.78.78-.78 2.05 0 2.83L4 21.41c.39.39.9.59 1.41.59.51 0 1.02-.2 1.41-.59l7.78-7.78 2.81-2.81c.8-.78.8-2.07 0-2.86zM5.41 20L4 18.59l7.72-7.72 1.47 1.35L5.41 20z\"/>\n",
              "  </svg>\n",
              "      </button>\n",
              "      \n",
              "  <style>\n",
              "    .colab-df-container {\n",
              "      display:flex;\n",
              "      flex-wrap:wrap;\n",
              "      gap: 12px;\n",
              "    }\n",
              "\n",
              "    .colab-df-convert {\n",
              "      background-color: #E8F0FE;\n",
              "      border: none;\n",
              "      border-radius: 50%;\n",
              "      cursor: pointer;\n",
              "      display: none;\n",
              "      fill: #1967D2;\n",
              "      height: 32px;\n",
              "      padding: 0 0 0 0;\n",
              "      width: 32px;\n",
              "    }\n",
              "\n",
              "    .colab-df-convert:hover {\n",
              "      background-color: #E2EBFA;\n",
              "      box-shadow: 0px 1px 2px rgba(60, 64, 67, 0.3), 0px 1px 3px 1px rgba(60, 64, 67, 0.15);\n",
              "      fill: #174EA6;\n",
              "    }\n",
              "\n",
              "    [theme=dark] .colab-df-convert {\n",
              "      background-color: #3B4455;\n",
              "      fill: #D2E3FC;\n",
              "    }\n",
              "\n",
              "    [theme=dark] .colab-df-convert:hover {\n",
              "      background-color: #434B5C;\n",
              "      box-shadow: 0px 1px 3px 1px rgba(0, 0, 0, 0.15);\n",
              "      filter: drop-shadow(0px 1px 2px rgba(0, 0, 0, 0.3));\n",
              "      fill: #FFFFFF;\n",
              "    }\n",
              "  </style>\n",
              "\n",
              "      <script>\n",
              "        const buttonEl =\n",
              "          document.querySelector('#df-f46edfc4-0226-46f7-8b9d-9fbbd826f2fd button.colab-df-convert');\n",
              "        buttonEl.style.display =\n",
              "          google.colab.kernel.accessAllowed ? 'block' : 'none';\n",
              "\n",
              "        async function convertToInteractive(key) {\n",
              "          const element = document.querySelector('#df-f46edfc4-0226-46f7-8b9d-9fbbd826f2fd');\n",
              "          const dataTable =\n",
              "            await google.colab.kernel.invokeFunction('convertToInteractive',\n",
              "                                                     [key], {});\n",
              "          if (!dataTable) return;\n",
              "\n",
              "          const docLinkHtml = 'Like what you see? Visit the ' +\n",
              "            '<a target=\"_blank\" href=https://colab.research.google.com/notebooks/data_table.ipynb>data table notebook</a>'\n",
              "            + ' to learn more about interactive tables.';\n",
              "          element.innerHTML = '';\n",
              "          dataTable['output_type'] = 'display_data';\n",
              "          await google.colab.output.renderOutput(dataTable, element);\n",
              "          const docLink = document.createElement('div');\n",
              "          docLink.innerHTML = docLinkHtml;\n",
              "          element.appendChild(docLink);\n",
              "        }\n",
              "      </script>\n",
              "    </div>\n",
              "  </div>\n",
              "  "
            ]
          },
          "metadata": {},
          "execution_count": 313
        }
      ]
    },
    {
      "cell_type": "markdown",
      "source": [
        "## Convert binary to numeric?\n",
        "\n",
        "This requires careful thinking. If the values are actually numeric but stored as strings, e.g. `'1'`, it's easy to just convert them to numeric. Boolean values `True` and `False` also translate into integers `1` and `0`.\n",
        "\n",
        "It turns out, all variables starting with `FLAG_` are actually boolean values. Moreover, `CODE_GENDER` is binary. Finally, the `DEFAULTED` column we created is binary as well."
      ],
      "metadata": {
        "id": "OFrQDcgl4are"
      }
    },
    {
      "cell_type": "markdown",
      "source": [
        "### Manually convert: `CODE_GENDER`\n",
        "\n",
        "To convert this into a numeric column, we generate a new series `sr_female` manually as follows"
      ],
      "metadata": {
        "id": "xjEBWuU134TW"
      }
    },
    {
      "cell_type": "code",
      "source": [
        "sr_female = df_applications.loc[:,'CODE_GENDER']"
      ],
      "metadata": {
        "id": "WUq5NDkW4pYG"
      },
      "execution_count": null,
      "outputs": []
    },
    {
      "cell_type": "code",
      "source": [
        "sr_female = sr_female == 'F'\n",
        "# Note: The first equal sign (=) is to define a variable\n",
        "# The two equal signs (==) is a comparison operator and returns the result"
      ],
      "metadata": {
        "id": "8cHMEZUZj1fK"
      },
      "execution_count": null,
      "outputs": []
    },
    {
      "cell_type": "code",
      "source": [
        "sr_female = sr_female.astype(int)"
      ],
      "metadata": {
        "id": "fMk_ke-BkChj"
      },
      "execution_count": null,
      "outputs": []
    },
    {
      "cell_type": "code",
      "source": [
        "df_applications.shape"
      ],
      "metadata": {
        "colab": {
          "base_uri": "https://localhost:8080/"
        },
        "id": "6-gQ92Dg9aUz",
        "outputId": "f90f53f0-915f-49e3-8818-23eea627b770"
      },
      "execution_count": null,
      "outputs": [
        {
          "output_type": "execute_result",
          "data": {
            "text/plain": [
              "(304317, 17)"
            ]
          },
          "metadata": {},
          "execution_count": 317
        }
      ]
    },
    {
      "cell_type": "code",
      "source": [
        "# Defining a 'name' for Series is necessary before a `.join()`, \n",
        "# as the name becomes the column label in the joined DataFrame, which we will do next\n",
        "\n",
        "sr_female.name = 'FEMALE'\n",
        "df_applications = df_applications.join(sr_female)"
      ],
      "metadata": {
        "id": "OCxblyY84puE"
      },
      "execution_count": null,
      "outputs": []
    },
    {
      "cell_type": "code",
      "source": [
        "df_applications"
      ],
      "metadata": {
        "colab": {
          "base_uri": "https://localhost:8080/",
          "height": 675
        },
        "id": "aKWNixQv-X1M",
        "outputId": "ed83c23e-be95-4c13-a5ab-04a154cc46e1"
      },
      "execution_count": null,
      "outputs": [
        {
          "output_type": "execute_result",
          "data": {
            "text/plain": [
              "        CODE_GENDER FLAG_OWN_CAR FLAG_OWN_REALTY  CNT_CHILDREN  \\\n",
              "ID                                                               \n",
              "5008806           M            Y               Y             0   \n",
              "5008808           F            N               Y             0   \n",
              "5008809           F            N               Y             0   \n",
              "5008810           F            N               Y             0   \n",
              "5008811           F            N               Y             0   \n",
              "...             ...          ...             ...           ...   \n",
              "6837707           M            N               Y             0   \n",
              "6839936           M            Y               Y             1   \n",
              "6840222           F            N               N             0   \n",
              "6841878           F            N               N             0   \n",
              "6842885           F            N               Y             0   \n",
              "\n",
              "         AMT_INCOME_TOTAL      NAME_INCOME_TYPE  \\\n",
              "ID                                                \n",
              "5008806          112500.0               Working   \n",
              "5008808          270000.0  Commercial associate   \n",
              "5008809          270000.0  Commercial associate   \n",
              "5008810          270000.0  Commercial associate   \n",
              "5008811          270000.0  Commercial associate   \n",
              "...                   ...                   ...   \n",
              "6837707          202500.0               Working   \n",
              "6839936          135000.0               Working   \n",
              "6840222          103500.0               Working   \n",
              "6841878           54000.0  Commercial associate   \n",
              "6842885          121500.0               Working   \n",
              "\n",
              "                   NAME_EDUCATION_TYPE    NAME_FAMILY_STATUS  \\\n",
              "ID                                                             \n",
              "5008806  Secondary / secondary special               Married   \n",
              "5008808  Secondary / secondary special  Single / not married   \n",
              "5008809  Secondary / secondary special  Single / not married   \n",
              "5008810  Secondary / secondary special  Single / not married   \n",
              "5008811  Secondary / secondary special  Single / not married   \n",
              "...                                ...                   ...   \n",
              "6837707               Higher education        Civil marriage   \n",
              "6839936  Secondary / secondary special               Married   \n",
              "6840222  Secondary / secondary special  Single / not married   \n",
              "6841878               Higher education  Single / not married   \n",
              "6842885  Secondary / secondary special               Married   \n",
              "\n",
              "         NAME_HOUSING_TYPE  DAYS_BIRTH  DAYS_EMPLOYED  FLAG_MOBIL  \\\n",
              "ID                                                                  \n",
              "5008806  House / apartment      -21474          -1134           1   \n",
              "5008808  House / apartment      -19110          -3051           1   \n",
              "5008809  House / apartment      -19110          -3051           1   \n",
              "5008810  House / apartment      -19110          -3051           1   \n",
              "5008811  House / apartment      -19110          -3051           1   \n",
              "...                    ...         ...            ...         ...   \n",
              "6837707  House / apartment      -13510          -2309           1   \n",
              "6839936  House / apartment      -12569          -2095           1   \n",
              "6840222  House / apartment      -15939          -3007           1   \n",
              "6841878       With parents       -8169           -372           1   \n",
              "6842885  House / apartment      -18858          -1201           1   \n",
              "\n",
              "         FLAG_WORK_PHONE  FLAG_PHONE  FLAG_EMAIL OCCUPATION_TYPE  \\\n",
              "ID                                                                 \n",
              "5008806                0           0           0  Security staff   \n",
              "5008808                0           1           1     Sales staff   \n",
              "5008809                0           1           1     Sales staff   \n",
              "5008810                0           1           1     Sales staff   \n",
              "5008811                0           1           1     Sales staff   \n",
              "...                  ...         ...         ...             ...   \n",
              "6837707                1           0           0        Laborers   \n",
              "6839936                0           0           0        Laborers   \n",
              "6840222                0           0           0        Laborers   \n",
              "6841878                1           0           0     Sales staff   \n",
              "6842885                0           1           0     Sales staff   \n",
              "\n",
              "         CNT_FAM_MEMBERS  FEMALE  \n",
              "ID                                \n",
              "5008806              2.0       0  \n",
              "5008808              1.0       1  \n",
              "5008809              1.0       1  \n",
              "5008810              1.0       1  \n",
              "5008811              1.0       1  \n",
              "...                  ...     ...  \n",
              "6837707              2.0       0  \n",
              "6839936              3.0       0  \n",
              "6840222              1.0       1  \n",
              "6841878              1.0       1  \n",
              "6842885              2.0       1  \n",
              "\n",
              "[304317 rows x 18 columns]"
            ],
            "text/html": [
              "\n",
              "  <div id=\"df-2597dd33-d14c-4d21-a470-c9b7eae533bb\">\n",
              "    <div class=\"colab-df-container\">\n",
              "      <div>\n",
              "<style scoped>\n",
              "    .dataframe tbody tr th:only-of-type {\n",
              "        vertical-align: middle;\n",
              "    }\n",
              "\n",
              "    .dataframe tbody tr th {\n",
              "        vertical-align: top;\n",
              "    }\n",
              "\n",
              "    .dataframe thead th {\n",
              "        text-align: right;\n",
              "    }\n",
              "</style>\n",
              "<table border=\"1\" class=\"dataframe\">\n",
              "  <thead>\n",
              "    <tr style=\"text-align: right;\">\n",
              "      <th></th>\n",
              "      <th>CODE_GENDER</th>\n",
              "      <th>FLAG_OWN_CAR</th>\n",
              "      <th>FLAG_OWN_REALTY</th>\n",
              "      <th>CNT_CHILDREN</th>\n",
              "      <th>AMT_INCOME_TOTAL</th>\n",
              "      <th>NAME_INCOME_TYPE</th>\n",
              "      <th>NAME_EDUCATION_TYPE</th>\n",
              "      <th>NAME_FAMILY_STATUS</th>\n",
              "      <th>NAME_HOUSING_TYPE</th>\n",
              "      <th>DAYS_BIRTH</th>\n",
              "      <th>DAYS_EMPLOYED</th>\n",
              "      <th>FLAG_MOBIL</th>\n",
              "      <th>FLAG_WORK_PHONE</th>\n",
              "      <th>FLAG_PHONE</th>\n",
              "      <th>FLAG_EMAIL</th>\n",
              "      <th>OCCUPATION_TYPE</th>\n",
              "      <th>CNT_FAM_MEMBERS</th>\n",
              "      <th>FEMALE</th>\n",
              "    </tr>\n",
              "    <tr>\n",
              "      <th>ID</th>\n",
              "      <th></th>\n",
              "      <th></th>\n",
              "      <th></th>\n",
              "      <th></th>\n",
              "      <th></th>\n",
              "      <th></th>\n",
              "      <th></th>\n",
              "      <th></th>\n",
              "      <th></th>\n",
              "      <th></th>\n",
              "      <th></th>\n",
              "      <th></th>\n",
              "      <th></th>\n",
              "      <th></th>\n",
              "      <th></th>\n",
              "      <th></th>\n",
              "      <th></th>\n",
              "      <th></th>\n",
              "    </tr>\n",
              "  </thead>\n",
              "  <tbody>\n",
              "    <tr>\n",
              "      <th>5008806</th>\n",
              "      <td>M</td>\n",
              "      <td>Y</td>\n",
              "      <td>Y</td>\n",
              "      <td>0</td>\n",
              "      <td>112500.0</td>\n",
              "      <td>Working</td>\n",
              "      <td>Secondary / secondary special</td>\n",
              "      <td>Married</td>\n",
              "      <td>House / apartment</td>\n",
              "      <td>-21474</td>\n",
              "      <td>-1134</td>\n",
              "      <td>1</td>\n",
              "      <td>0</td>\n",
              "      <td>0</td>\n",
              "      <td>0</td>\n",
              "      <td>Security staff</td>\n",
              "      <td>2.0</td>\n",
              "      <td>0</td>\n",
              "    </tr>\n",
              "    <tr>\n",
              "      <th>5008808</th>\n",
              "      <td>F</td>\n",
              "      <td>N</td>\n",
              "      <td>Y</td>\n",
              "      <td>0</td>\n",
              "      <td>270000.0</td>\n",
              "      <td>Commercial associate</td>\n",
              "      <td>Secondary / secondary special</td>\n",
              "      <td>Single / not married</td>\n",
              "      <td>House / apartment</td>\n",
              "      <td>-19110</td>\n",
              "      <td>-3051</td>\n",
              "      <td>1</td>\n",
              "      <td>0</td>\n",
              "      <td>1</td>\n",
              "      <td>1</td>\n",
              "      <td>Sales staff</td>\n",
              "      <td>1.0</td>\n",
              "      <td>1</td>\n",
              "    </tr>\n",
              "    <tr>\n",
              "      <th>5008809</th>\n",
              "      <td>F</td>\n",
              "      <td>N</td>\n",
              "      <td>Y</td>\n",
              "      <td>0</td>\n",
              "      <td>270000.0</td>\n",
              "      <td>Commercial associate</td>\n",
              "      <td>Secondary / secondary special</td>\n",
              "      <td>Single / not married</td>\n",
              "      <td>House / apartment</td>\n",
              "      <td>-19110</td>\n",
              "      <td>-3051</td>\n",
              "      <td>1</td>\n",
              "      <td>0</td>\n",
              "      <td>1</td>\n",
              "      <td>1</td>\n",
              "      <td>Sales staff</td>\n",
              "      <td>1.0</td>\n",
              "      <td>1</td>\n",
              "    </tr>\n",
              "    <tr>\n",
              "      <th>5008810</th>\n",
              "      <td>F</td>\n",
              "      <td>N</td>\n",
              "      <td>Y</td>\n",
              "      <td>0</td>\n",
              "      <td>270000.0</td>\n",
              "      <td>Commercial associate</td>\n",
              "      <td>Secondary / secondary special</td>\n",
              "      <td>Single / not married</td>\n",
              "      <td>House / apartment</td>\n",
              "      <td>-19110</td>\n",
              "      <td>-3051</td>\n",
              "      <td>1</td>\n",
              "      <td>0</td>\n",
              "      <td>1</td>\n",
              "      <td>1</td>\n",
              "      <td>Sales staff</td>\n",
              "      <td>1.0</td>\n",
              "      <td>1</td>\n",
              "    </tr>\n",
              "    <tr>\n",
              "      <th>5008811</th>\n",
              "      <td>F</td>\n",
              "      <td>N</td>\n",
              "      <td>Y</td>\n",
              "      <td>0</td>\n",
              "      <td>270000.0</td>\n",
              "      <td>Commercial associate</td>\n",
              "      <td>Secondary / secondary special</td>\n",
              "      <td>Single / not married</td>\n",
              "      <td>House / apartment</td>\n",
              "      <td>-19110</td>\n",
              "      <td>-3051</td>\n",
              "      <td>1</td>\n",
              "      <td>0</td>\n",
              "      <td>1</td>\n",
              "      <td>1</td>\n",
              "      <td>Sales staff</td>\n",
              "      <td>1.0</td>\n",
              "      <td>1</td>\n",
              "    </tr>\n",
              "    <tr>\n",
              "      <th>...</th>\n",
              "      <td>...</td>\n",
              "      <td>...</td>\n",
              "      <td>...</td>\n",
              "      <td>...</td>\n",
              "      <td>...</td>\n",
              "      <td>...</td>\n",
              "      <td>...</td>\n",
              "      <td>...</td>\n",
              "      <td>...</td>\n",
              "      <td>...</td>\n",
              "      <td>...</td>\n",
              "      <td>...</td>\n",
              "      <td>...</td>\n",
              "      <td>...</td>\n",
              "      <td>...</td>\n",
              "      <td>...</td>\n",
              "      <td>...</td>\n",
              "      <td>...</td>\n",
              "    </tr>\n",
              "    <tr>\n",
              "      <th>6837707</th>\n",
              "      <td>M</td>\n",
              "      <td>N</td>\n",
              "      <td>Y</td>\n",
              "      <td>0</td>\n",
              "      <td>202500.0</td>\n",
              "      <td>Working</td>\n",
              "      <td>Higher education</td>\n",
              "      <td>Civil marriage</td>\n",
              "      <td>House / apartment</td>\n",
              "      <td>-13510</td>\n",
              "      <td>-2309</td>\n",
              "      <td>1</td>\n",
              "      <td>1</td>\n",
              "      <td>0</td>\n",
              "      <td>0</td>\n",
              "      <td>Laborers</td>\n",
              "      <td>2.0</td>\n",
              "      <td>0</td>\n",
              "    </tr>\n",
              "    <tr>\n",
              "      <th>6839936</th>\n",
              "      <td>M</td>\n",
              "      <td>Y</td>\n",
              "      <td>Y</td>\n",
              "      <td>1</td>\n",
              "      <td>135000.0</td>\n",
              "      <td>Working</td>\n",
              "      <td>Secondary / secondary special</td>\n",
              "      <td>Married</td>\n",
              "      <td>House / apartment</td>\n",
              "      <td>-12569</td>\n",
              "      <td>-2095</td>\n",
              "      <td>1</td>\n",
              "      <td>0</td>\n",
              "      <td>0</td>\n",
              "      <td>0</td>\n",
              "      <td>Laborers</td>\n",
              "      <td>3.0</td>\n",
              "      <td>0</td>\n",
              "    </tr>\n",
              "    <tr>\n",
              "      <th>6840222</th>\n",
              "      <td>F</td>\n",
              "      <td>N</td>\n",
              "      <td>N</td>\n",
              "      <td>0</td>\n",
              "      <td>103500.0</td>\n",
              "      <td>Working</td>\n",
              "      <td>Secondary / secondary special</td>\n",
              "      <td>Single / not married</td>\n",
              "      <td>House / apartment</td>\n",
              "      <td>-15939</td>\n",
              "      <td>-3007</td>\n",
              "      <td>1</td>\n",
              "      <td>0</td>\n",
              "      <td>0</td>\n",
              "      <td>0</td>\n",
              "      <td>Laborers</td>\n",
              "      <td>1.0</td>\n",
              "      <td>1</td>\n",
              "    </tr>\n",
              "    <tr>\n",
              "      <th>6841878</th>\n",
              "      <td>F</td>\n",
              "      <td>N</td>\n",
              "      <td>N</td>\n",
              "      <td>0</td>\n",
              "      <td>54000.0</td>\n",
              "      <td>Commercial associate</td>\n",
              "      <td>Higher education</td>\n",
              "      <td>Single / not married</td>\n",
              "      <td>With parents</td>\n",
              "      <td>-8169</td>\n",
              "      <td>-372</td>\n",
              "      <td>1</td>\n",
              "      <td>1</td>\n",
              "      <td>0</td>\n",
              "      <td>0</td>\n",
              "      <td>Sales staff</td>\n",
              "      <td>1.0</td>\n",
              "      <td>1</td>\n",
              "    </tr>\n",
              "    <tr>\n",
              "      <th>6842885</th>\n",
              "      <td>F</td>\n",
              "      <td>N</td>\n",
              "      <td>Y</td>\n",
              "      <td>0</td>\n",
              "      <td>121500.0</td>\n",
              "      <td>Working</td>\n",
              "      <td>Secondary / secondary special</td>\n",
              "      <td>Married</td>\n",
              "      <td>House / apartment</td>\n",
              "      <td>-18858</td>\n",
              "      <td>-1201</td>\n",
              "      <td>1</td>\n",
              "      <td>0</td>\n",
              "      <td>1</td>\n",
              "      <td>0</td>\n",
              "      <td>Sales staff</td>\n",
              "      <td>2.0</td>\n",
              "      <td>1</td>\n",
              "    </tr>\n",
              "  </tbody>\n",
              "</table>\n",
              "<p>304317 rows × 18 columns</p>\n",
              "</div>\n",
              "      <button class=\"colab-df-convert\" onclick=\"convertToInteractive('df-2597dd33-d14c-4d21-a470-c9b7eae533bb')\"\n",
              "              title=\"Convert this dataframe to an interactive table.\"\n",
              "              style=\"display:none;\">\n",
              "        \n",
              "  <svg xmlns=\"http://www.w3.org/2000/svg\" height=\"24px\"viewBox=\"0 0 24 24\"\n",
              "       width=\"24px\">\n",
              "    <path d=\"M0 0h24v24H0V0z\" fill=\"none\"/>\n",
              "    <path d=\"M18.56 5.44l.94 2.06.94-2.06 2.06-.94-2.06-.94-.94-2.06-.94 2.06-2.06.94zm-11 1L8.5 8.5l.94-2.06 2.06-.94-2.06-.94L8.5 2.5l-.94 2.06-2.06.94zm10 10l.94 2.06.94-2.06 2.06-.94-2.06-.94-.94-2.06-.94 2.06-2.06.94z\"/><path d=\"M17.41 7.96l-1.37-1.37c-.4-.4-.92-.59-1.43-.59-.52 0-1.04.2-1.43.59L10.3 9.45l-7.72 7.72c-.78.78-.78 2.05 0 2.83L4 21.41c.39.39.9.59 1.41.59.51 0 1.02-.2 1.41-.59l7.78-7.78 2.81-2.81c.8-.78.8-2.07 0-2.86zM5.41 20L4 18.59l7.72-7.72 1.47 1.35L5.41 20z\"/>\n",
              "  </svg>\n",
              "      </button>\n",
              "      \n",
              "  <style>\n",
              "    .colab-df-container {\n",
              "      display:flex;\n",
              "      flex-wrap:wrap;\n",
              "      gap: 12px;\n",
              "    }\n",
              "\n",
              "    .colab-df-convert {\n",
              "      background-color: #E8F0FE;\n",
              "      border: none;\n",
              "      border-radius: 50%;\n",
              "      cursor: pointer;\n",
              "      display: none;\n",
              "      fill: #1967D2;\n",
              "      height: 32px;\n",
              "      padding: 0 0 0 0;\n",
              "      width: 32px;\n",
              "    }\n",
              "\n",
              "    .colab-df-convert:hover {\n",
              "      background-color: #E2EBFA;\n",
              "      box-shadow: 0px 1px 2px rgba(60, 64, 67, 0.3), 0px 1px 3px 1px rgba(60, 64, 67, 0.15);\n",
              "      fill: #174EA6;\n",
              "    }\n",
              "\n",
              "    [theme=dark] .colab-df-convert {\n",
              "      background-color: #3B4455;\n",
              "      fill: #D2E3FC;\n",
              "    }\n",
              "\n",
              "    [theme=dark] .colab-df-convert:hover {\n",
              "      background-color: #434B5C;\n",
              "      box-shadow: 0px 1px 3px 1px rgba(0, 0, 0, 0.15);\n",
              "      filter: drop-shadow(0px 1px 2px rgba(0, 0, 0, 0.3));\n",
              "      fill: #FFFFFF;\n",
              "    }\n",
              "  </style>\n",
              "\n",
              "      <script>\n",
              "        const buttonEl =\n",
              "          document.querySelector('#df-2597dd33-d14c-4d21-a470-c9b7eae533bb button.colab-df-convert');\n",
              "        buttonEl.style.display =\n",
              "          google.colab.kernel.accessAllowed ? 'block' : 'none';\n",
              "\n",
              "        async function convertToInteractive(key) {\n",
              "          const element = document.querySelector('#df-2597dd33-d14c-4d21-a470-c9b7eae533bb');\n",
              "          const dataTable =\n",
              "            await google.colab.kernel.invokeFunction('convertToInteractive',\n",
              "                                                     [key], {});\n",
              "          if (!dataTable) return;\n",
              "\n",
              "          const docLinkHtml = 'Like what you see? Visit the ' +\n",
              "            '<a target=\"_blank\" href=https://colab.research.google.com/notebooks/data_table.ipynb>data table notebook</a>'\n",
              "            + ' to learn more about interactive tables.';\n",
              "          element.innerHTML = '';\n",
              "          dataTable['output_type'] = 'display_data';\n",
              "          await google.colab.output.renderOutput(dataTable, element);\n",
              "          const docLink = document.createElement('div');\n",
              "          docLink.innerHTML = docLinkHtml;\n",
              "          element.appendChild(docLink);\n",
              "        }\n",
              "      </script>\n",
              "    </div>\n",
              "  </div>\n",
              "  "
            ]
          },
          "metadata": {},
          "execution_count": 319
        }
      ]
    },
    {
      "cell_type": "markdown",
      "source": [
        "Since we do not need the original column `CODE_GENDER` anymore, let us drop it."
      ],
      "metadata": {
        "id": "Oa_zJt4M5GzW"
      }
    },
    {
      "cell_type": "code",
      "source": [
        "df_applications = df_applications.drop('CODE_GENDER', axis=1)"
      ],
      "metadata": {
        "id": "yVOofKgn4p7m"
      },
      "execution_count": null,
      "outputs": []
    },
    {
      "cell_type": "markdown",
      "source": [
        "## Sidebar: What is join?\n",
        "\n",
        "We now add the `sr_defaults` data as a column into `df_applications`. For this purpose we use `df_applications.join(sr_defaults)`. In words, we are joining `sr_defaults` into `df_applications` where we use `ID` as the key to join upon.\n",
        "\n",
        "For those familiar with SQL, this is equivalent to a `LEFT JOIN`. \n",
        "\n",
        "<img src=\"http://dieter.wang/files/images/SQL-LEFT-JOIN.png\">\n",
        "\n",
        "In excel, this corresponds to `=VLOOKUP()` where the lookup variable is `ID`.\n",
        "\n",
        "<img src=\"http://dieter.wang/files/images/fig_vlookup.png\">\n"
      ],
      "metadata": {
        "id": "sPCD36jn_6QL"
      }
    },
    {
      "cell_type": "markdown",
      "source": [
        "### Automatically convert binary data"
      ],
      "metadata": {
        "id": "t_XDsxe14qGj"
      }
    },
    {
      "cell_type": "code",
      "source": [
        "def make_binary_columns(df, column, value, name):\n",
        "    sr_binary = df.loc[:,column]\n",
        "    sr_binary = (sr_binary == value).astype(int)\n",
        "    sr_binary.name = name\n",
        "    return sr_binary"
      ],
      "metadata": {
        "id": "vctiDh_W4qUW"
      },
      "execution_count": null,
      "outputs": []
    },
    {
      "cell_type": "code",
      "source": [
        "column = 'FLAG_OWN_REALTY'\n",
        "sr = make_binary_columns(df_applications, column, 'Y', 'HAS_REALTY')\n",
        "df_applications = df_applications.join(sr).drop(column, axis=1)"
      ],
      "metadata": {
        "id": "XnADi_nk4qYK"
      },
      "execution_count": null,
      "outputs": []
    },
    {
      "cell_type": "code",
      "source": [
        "column = 'FLAG_OWN_CAR'\n",
        "sr = make_binary_columns(df_applications, column, 'Y', 'HAS_CAR')\n",
        "df_applications = df_applications.join(sr).drop(column, axis=1)"
      ],
      "metadata": {
        "id": "conoIwQK4qbn"
      },
      "execution_count": null,
      "outputs": []
    },
    {
      "cell_type": "code",
      "source": [
        "df_applications.head()"
      ],
      "metadata": {
        "colab": {
          "base_uri": "https://localhost:8080/",
          "height": 388
        },
        "id": "A3YuuM5c4qe_",
        "outputId": "e34ffce7-946f-43a1-ad1c-d527ddf0c009"
      },
      "execution_count": null,
      "outputs": [
        {
          "output_type": "execute_result",
          "data": {
            "text/plain": [
              "         CNT_CHILDREN  AMT_INCOME_TOTAL      NAME_INCOME_TYPE  \\\n",
              "ID                                                              \n",
              "5008806             0          112500.0               Working   \n",
              "5008808             0          270000.0  Commercial associate   \n",
              "5008809             0          270000.0  Commercial associate   \n",
              "5008810             0          270000.0  Commercial associate   \n",
              "5008811             0          270000.0  Commercial associate   \n",
              "\n",
              "                   NAME_EDUCATION_TYPE    NAME_FAMILY_STATUS  \\\n",
              "ID                                                             \n",
              "5008806  Secondary / secondary special               Married   \n",
              "5008808  Secondary / secondary special  Single / not married   \n",
              "5008809  Secondary / secondary special  Single / not married   \n",
              "5008810  Secondary / secondary special  Single / not married   \n",
              "5008811  Secondary / secondary special  Single / not married   \n",
              "\n",
              "         NAME_HOUSING_TYPE  DAYS_BIRTH  DAYS_EMPLOYED  FLAG_MOBIL  \\\n",
              "ID                                                                  \n",
              "5008806  House / apartment      -21474          -1134           1   \n",
              "5008808  House / apartment      -19110          -3051           1   \n",
              "5008809  House / apartment      -19110          -3051           1   \n",
              "5008810  House / apartment      -19110          -3051           1   \n",
              "5008811  House / apartment      -19110          -3051           1   \n",
              "\n",
              "         FLAG_WORK_PHONE  FLAG_PHONE  FLAG_EMAIL OCCUPATION_TYPE  \\\n",
              "ID                                                                 \n",
              "5008806                0           0           0  Security staff   \n",
              "5008808                0           1           1     Sales staff   \n",
              "5008809                0           1           1     Sales staff   \n",
              "5008810                0           1           1     Sales staff   \n",
              "5008811                0           1           1     Sales staff   \n",
              "\n",
              "         CNT_FAM_MEMBERS  FEMALE  HAS_REALTY  HAS_CAR  \n",
              "ID                                                     \n",
              "5008806              2.0       0           1        1  \n",
              "5008808              1.0       1           1        0  \n",
              "5008809              1.0       1           1        0  \n",
              "5008810              1.0       1           1        0  \n",
              "5008811              1.0       1           1        0  "
            ],
            "text/html": [
              "\n",
              "  <div id=\"df-f982efa0-afe7-4a54-9ce3-ec437f8b2296\">\n",
              "    <div class=\"colab-df-container\">\n",
              "      <div>\n",
              "<style scoped>\n",
              "    .dataframe tbody tr th:only-of-type {\n",
              "        vertical-align: middle;\n",
              "    }\n",
              "\n",
              "    .dataframe tbody tr th {\n",
              "        vertical-align: top;\n",
              "    }\n",
              "\n",
              "    .dataframe thead th {\n",
              "        text-align: right;\n",
              "    }\n",
              "</style>\n",
              "<table border=\"1\" class=\"dataframe\">\n",
              "  <thead>\n",
              "    <tr style=\"text-align: right;\">\n",
              "      <th></th>\n",
              "      <th>CNT_CHILDREN</th>\n",
              "      <th>AMT_INCOME_TOTAL</th>\n",
              "      <th>NAME_INCOME_TYPE</th>\n",
              "      <th>NAME_EDUCATION_TYPE</th>\n",
              "      <th>NAME_FAMILY_STATUS</th>\n",
              "      <th>NAME_HOUSING_TYPE</th>\n",
              "      <th>DAYS_BIRTH</th>\n",
              "      <th>DAYS_EMPLOYED</th>\n",
              "      <th>FLAG_MOBIL</th>\n",
              "      <th>FLAG_WORK_PHONE</th>\n",
              "      <th>FLAG_PHONE</th>\n",
              "      <th>FLAG_EMAIL</th>\n",
              "      <th>OCCUPATION_TYPE</th>\n",
              "      <th>CNT_FAM_MEMBERS</th>\n",
              "      <th>FEMALE</th>\n",
              "      <th>HAS_REALTY</th>\n",
              "      <th>HAS_CAR</th>\n",
              "    </tr>\n",
              "    <tr>\n",
              "      <th>ID</th>\n",
              "      <th></th>\n",
              "      <th></th>\n",
              "      <th></th>\n",
              "      <th></th>\n",
              "      <th></th>\n",
              "      <th></th>\n",
              "      <th></th>\n",
              "      <th></th>\n",
              "      <th></th>\n",
              "      <th></th>\n",
              "      <th></th>\n",
              "      <th></th>\n",
              "      <th></th>\n",
              "      <th></th>\n",
              "      <th></th>\n",
              "      <th></th>\n",
              "      <th></th>\n",
              "    </tr>\n",
              "  </thead>\n",
              "  <tbody>\n",
              "    <tr>\n",
              "      <th>5008806</th>\n",
              "      <td>0</td>\n",
              "      <td>112500.0</td>\n",
              "      <td>Working</td>\n",
              "      <td>Secondary / secondary special</td>\n",
              "      <td>Married</td>\n",
              "      <td>House / apartment</td>\n",
              "      <td>-21474</td>\n",
              "      <td>-1134</td>\n",
              "      <td>1</td>\n",
              "      <td>0</td>\n",
              "      <td>0</td>\n",
              "      <td>0</td>\n",
              "      <td>Security staff</td>\n",
              "      <td>2.0</td>\n",
              "      <td>0</td>\n",
              "      <td>1</td>\n",
              "      <td>1</td>\n",
              "    </tr>\n",
              "    <tr>\n",
              "      <th>5008808</th>\n",
              "      <td>0</td>\n",
              "      <td>270000.0</td>\n",
              "      <td>Commercial associate</td>\n",
              "      <td>Secondary / secondary special</td>\n",
              "      <td>Single / not married</td>\n",
              "      <td>House / apartment</td>\n",
              "      <td>-19110</td>\n",
              "      <td>-3051</td>\n",
              "      <td>1</td>\n",
              "      <td>0</td>\n",
              "      <td>1</td>\n",
              "      <td>1</td>\n",
              "      <td>Sales staff</td>\n",
              "      <td>1.0</td>\n",
              "      <td>1</td>\n",
              "      <td>1</td>\n",
              "      <td>0</td>\n",
              "    </tr>\n",
              "    <tr>\n",
              "      <th>5008809</th>\n",
              "      <td>0</td>\n",
              "      <td>270000.0</td>\n",
              "      <td>Commercial associate</td>\n",
              "      <td>Secondary / secondary special</td>\n",
              "      <td>Single / not married</td>\n",
              "      <td>House / apartment</td>\n",
              "      <td>-19110</td>\n",
              "      <td>-3051</td>\n",
              "      <td>1</td>\n",
              "      <td>0</td>\n",
              "      <td>1</td>\n",
              "      <td>1</td>\n",
              "      <td>Sales staff</td>\n",
              "      <td>1.0</td>\n",
              "      <td>1</td>\n",
              "      <td>1</td>\n",
              "      <td>0</td>\n",
              "    </tr>\n",
              "    <tr>\n",
              "      <th>5008810</th>\n",
              "      <td>0</td>\n",
              "      <td>270000.0</td>\n",
              "      <td>Commercial associate</td>\n",
              "      <td>Secondary / secondary special</td>\n",
              "      <td>Single / not married</td>\n",
              "      <td>House / apartment</td>\n",
              "      <td>-19110</td>\n",
              "      <td>-3051</td>\n",
              "      <td>1</td>\n",
              "      <td>0</td>\n",
              "      <td>1</td>\n",
              "      <td>1</td>\n",
              "      <td>Sales staff</td>\n",
              "      <td>1.0</td>\n",
              "      <td>1</td>\n",
              "      <td>1</td>\n",
              "      <td>0</td>\n",
              "    </tr>\n",
              "    <tr>\n",
              "      <th>5008811</th>\n",
              "      <td>0</td>\n",
              "      <td>270000.0</td>\n",
              "      <td>Commercial associate</td>\n",
              "      <td>Secondary / secondary special</td>\n",
              "      <td>Single / not married</td>\n",
              "      <td>House / apartment</td>\n",
              "      <td>-19110</td>\n",
              "      <td>-3051</td>\n",
              "      <td>1</td>\n",
              "      <td>0</td>\n",
              "      <td>1</td>\n",
              "      <td>1</td>\n",
              "      <td>Sales staff</td>\n",
              "      <td>1.0</td>\n",
              "      <td>1</td>\n",
              "      <td>1</td>\n",
              "      <td>0</td>\n",
              "    </tr>\n",
              "  </tbody>\n",
              "</table>\n",
              "</div>\n",
              "      <button class=\"colab-df-convert\" onclick=\"convertToInteractive('df-f982efa0-afe7-4a54-9ce3-ec437f8b2296')\"\n",
              "              title=\"Convert this dataframe to an interactive table.\"\n",
              "              style=\"display:none;\">\n",
              "        \n",
              "  <svg xmlns=\"http://www.w3.org/2000/svg\" height=\"24px\"viewBox=\"0 0 24 24\"\n",
              "       width=\"24px\">\n",
              "    <path d=\"M0 0h24v24H0V0z\" fill=\"none\"/>\n",
              "    <path d=\"M18.56 5.44l.94 2.06.94-2.06 2.06-.94-2.06-.94-.94-2.06-.94 2.06-2.06.94zm-11 1L8.5 8.5l.94-2.06 2.06-.94-2.06-.94L8.5 2.5l-.94 2.06-2.06.94zm10 10l.94 2.06.94-2.06 2.06-.94-2.06-.94-.94-2.06-.94 2.06-2.06.94z\"/><path d=\"M17.41 7.96l-1.37-1.37c-.4-.4-.92-.59-1.43-.59-.52 0-1.04.2-1.43.59L10.3 9.45l-7.72 7.72c-.78.78-.78 2.05 0 2.83L4 21.41c.39.39.9.59 1.41.59.51 0 1.02-.2 1.41-.59l7.78-7.78 2.81-2.81c.8-.78.8-2.07 0-2.86zM5.41 20L4 18.59l7.72-7.72 1.47 1.35L5.41 20z\"/>\n",
              "  </svg>\n",
              "      </button>\n",
              "      \n",
              "  <style>\n",
              "    .colab-df-container {\n",
              "      display:flex;\n",
              "      flex-wrap:wrap;\n",
              "      gap: 12px;\n",
              "    }\n",
              "\n",
              "    .colab-df-convert {\n",
              "      background-color: #E8F0FE;\n",
              "      border: none;\n",
              "      border-radius: 50%;\n",
              "      cursor: pointer;\n",
              "      display: none;\n",
              "      fill: #1967D2;\n",
              "      height: 32px;\n",
              "      padding: 0 0 0 0;\n",
              "      width: 32px;\n",
              "    }\n",
              "\n",
              "    .colab-df-convert:hover {\n",
              "      background-color: #E2EBFA;\n",
              "      box-shadow: 0px 1px 2px rgba(60, 64, 67, 0.3), 0px 1px 3px 1px rgba(60, 64, 67, 0.15);\n",
              "      fill: #174EA6;\n",
              "    }\n",
              "\n",
              "    [theme=dark] .colab-df-convert {\n",
              "      background-color: #3B4455;\n",
              "      fill: #D2E3FC;\n",
              "    }\n",
              "\n",
              "    [theme=dark] .colab-df-convert:hover {\n",
              "      background-color: #434B5C;\n",
              "      box-shadow: 0px 1px 3px 1px rgba(0, 0, 0, 0.15);\n",
              "      filter: drop-shadow(0px 1px 2px rgba(0, 0, 0, 0.3));\n",
              "      fill: #FFFFFF;\n",
              "    }\n",
              "  </style>\n",
              "\n",
              "      <script>\n",
              "        const buttonEl =\n",
              "          document.querySelector('#df-f982efa0-afe7-4a54-9ce3-ec437f8b2296 button.colab-df-convert');\n",
              "        buttonEl.style.display =\n",
              "          google.colab.kernel.accessAllowed ? 'block' : 'none';\n",
              "\n",
              "        async function convertToInteractive(key) {\n",
              "          const element = document.querySelector('#df-f982efa0-afe7-4a54-9ce3-ec437f8b2296');\n",
              "          const dataTable =\n",
              "            await google.colab.kernel.invokeFunction('convertToInteractive',\n",
              "                                                     [key], {});\n",
              "          if (!dataTable) return;\n",
              "\n",
              "          const docLinkHtml = 'Like what you see? Visit the ' +\n",
              "            '<a target=\"_blank\" href=https://colab.research.google.com/notebooks/data_table.ipynb>data table notebook</a>'\n",
              "            + ' to learn more about interactive tables.';\n",
              "          element.innerHTML = '';\n",
              "          dataTable['output_type'] = 'display_data';\n",
              "          await google.colab.output.renderOutput(dataTable, element);\n",
              "          const docLink = document.createElement('div');\n",
              "          docLink.innerHTML = docLinkHtml;\n",
              "          element.appendChild(docLink);\n",
              "        }\n",
              "      </script>\n",
              "    </div>\n",
              "  </div>\n",
              "  "
            ]
          },
          "metadata": {},
          "execution_count": 324
        }
      ]
    },
    {
      "cell_type": "markdown",
      "source": [
        "## Convert multinomial to numeric?\n",
        "\n",
        "This requires even more careful thinking. How should we translate `NAME_FAMILY_STATUS` into numeric values?"
      ],
      "metadata": {
        "id": "NG3pCy-o5mBb"
      }
    },
    {
      "cell_type": "code",
      "source": [
        "df_applications['NAME_FAMILY_STATUS'].value_counts()"
      ],
      "metadata": {
        "colab": {
          "base_uri": "https://localhost:8080/"
        },
        "id": "GRaOsPB15rse",
        "outputId": "ebda1b45-5373-4b2f-a83a-ecf6373e2194"
      },
      "execution_count": null,
      "outputs": [
        {
          "output_type": "execute_result",
          "data": {
            "text/plain": [
              "Married                 212697\n",
              "Single / not married     39638\n",
              "Civil marriage           26800\n",
              "Separated                18470\n",
              "Widow                     6712\n",
              "Name: NAME_FAMILY_STATUS, dtype: int64"
            ]
          },
          "metadata": {},
          "execution_count": 325
        }
      ]
    },
    {
      "cell_type": "markdown",
      "source": [
        "Should we use the following?\n",
        "\n",
        "```\n",
        "Married                => 0\n",
        "Single / not married   => 1\n",
        "Civil marriage         => 2\n",
        "Separated              => 3\n",
        "Widow                  => 4\n",
        "```\n",
        "\n",
        "This is problematic. Not only do we impose an \"order\" to the statuses. More problematically, we say that `Separated` is the average of `Civil marriage` and `Widow`."
      ],
      "metadata": {
        "id": "nRgdbGTA5tgJ"
      }
    },
    {
      "cell_type": "markdown",
      "source": [
        "### Manually: One-hot encoding\n",
        "A better way is to give each possible state a dummy column"
      ],
      "metadata": {
        "id": "FExCARqx50Z3"
      }
    },
    {
      "cell_type": "code",
      "source": [
        "df_dummies = pd.get_dummies(df_applications['NAME_FAMILY_STATUS'])\n",
        "df_dummies.head(10)"
      ],
      "metadata": {
        "colab": {
          "base_uri": "https://localhost:8080/",
          "height": 394
        },
        "id": "2BvtkseZ55BY",
        "outputId": "20efd288-4c4d-44c1-dc1c-92ad1a0ffea4"
      },
      "execution_count": null,
      "outputs": [
        {
          "output_type": "execute_result",
          "data": {
            "text/plain": [
              "         Civil marriage  Married  Separated  Single / not married  Widow\n",
              "ID                                                                      \n",
              "5008806               0        1          0                     0      0\n",
              "5008808               0        0          0                     1      0\n",
              "5008809               0        0          0                     1      0\n",
              "5008810               0        0          0                     1      0\n",
              "5008811               0        0          0                     1      0\n",
              "5008815               0        1          0                     0      0\n",
              "5112956               0        1          0                     0      0\n",
              "6153651               0        1          0                     0      0\n",
              "5008819               0        1          0                     0      0\n",
              "5008820               0        1          0                     0      0"
            ],
            "text/html": [
              "\n",
              "  <div id=\"df-41ef8949-c7ab-4422-a01d-52b3803eeaaa\">\n",
              "    <div class=\"colab-df-container\">\n",
              "      <div>\n",
              "<style scoped>\n",
              "    .dataframe tbody tr th:only-of-type {\n",
              "        vertical-align: middle;\n",
              "    }\n",
              "\n",
              "    .dataframe tbody tr th {\n",
              "        vertical-align: top;\n",
              "    }\n",
              "\n",
              "    .dataframe thead th {\n",
              "        text-align: right;\n",
              "    }\n",
              "</style>\n",
              "<table border=\"1\" class=\"dataframe\">\n",
              "  <thead>\n",
              "    <tr style=\"text-align: right;\">\n",
              "      <th></th>\n",
              "      <th>Civil marriage</th>\n",
              "      <th>Married</th>\n",
              "      <th>Separated</th>\n",
              "      <th>Single / not married</th>\n",
              "      <th>Widow</th>\n",
              "    </tr>\n",
              "    <tr>\n",
              "      <th>ID</th>\n",
              "      <th></th>\n",
              "      <th></th>\n",
              "      <th></th>\n",
              "      <th></th>\n",
              "      <th></th>\n",
              "    </tr>\n",
              "  </thead>\n",
              "  <tbody>\n",
              "    <tr>\n",
              "      <th>5008806</th>\n",
              "      <td>0</td>\n",
              "      <td>1</td>\n",
              "      <td>0</td>\n",
              "      <td>0</td>\n",
              "      <td>0</td>\n",
              "    </tr>\n",
              "    <tr>\n",
              "      <th>5008808</th>\n",
              "      <td>0</td>\n",
              "      <td>0</td>\n",
              "      <td>0</td>\n",
              "      <td>1</td>\n",
              "      <td>0</td>\n",
              "    </tr>\n",
              "    <tr>\n",
              "      <th>5008809</th>\n",
              "      <td>0</td>\n",
              "      <td>0</td>\n",
              "      <td>0</td>\n",
              "      <td>1</td>\n",
              "      <td>0</td>\n",
              "    </tr>\n",
              "    <tr>\n",
              "      <th>5008810</th>\n",
              "      <td>0</td>\n",
              "      <td>0</td>\n",
              "      <td>0</td>\n",
              "      <td>1</td>\n",
              "      <td>0</td>\n",
              "    </tr>\n",
              "    <tr>\n",
              "      <th>5008811</th>\n",
              "      <td>0</td>\n",
              "      <td>0</td>\n",
              "      <td>0</td>\n",
              "      <td>1</td>\n",
              "      <td>0</td>\n",
              "    </tr>\n",
              "    <tr>\n",
              "      <th>5008815</th>\n",
              "      <td>0</td>\n",
              "      <td>1</td>\n",
              "      <td>0</td>\n",
              "      <td>0</td>\n",
              "      <td>0</td>\n",
              "    </tr>\n",
              "    <tr>\n",
              "      <th>5112956</th>\n",
              "      <td>0</td>\n",
              "      <td>1</td>\n",
              "      <td>0</td>\n",
              "      <td>0</td>\n",
              "      <td>0</td>\n",
              "    </tr>\n",
              "    <tr>\n",
              "      <th>6153651</th>\n",
              "      <td>0</td>\n",
              "      <td>1</td>\n",
              "      <td>0</td>\n",
              "      <td>0</td>\n",
              "      <td>0</td>\n",
              "    </tr>\n",
              "    <tr>\n",
              "      <th>5008819</th>\n",
              "      <td>0</td>\n",
              "      <td>1</td>\n",
              "      <td>0</td>\n",
              "      <td>0</td>\n",
              "      <td>0</td>\n",
              "    </tr>\n",
              "    <tr>\n",
              "      <th>5008820</th>\n",
              "      <td>0</td>\n",
              "      <td>1</td>\n",
              "      <td>0</td>\n",
              "      <td>0</td>\n",
              "      <td>0</td>\n",
              "    </tr>\n",
              "  </tbody>\n",
              "</table>\n",
              "</div>\n",
              "      <button class=\"colab-df-convert\" onclick=\"convertToInteractive('df-41ef8949-c7ab-4422-a01d-52b3803eeaaa')\"\n",
              "              title=\"Convert this dataframe to an interactive table.\"\n",
              "              style=\"display:none;\">\n",
              "        \n",
              "  <svg xmlns=\"http://www.w3.org/2000/svg\" height=\"24px\"viewBox=\"0 0 24 24\"\n",
              "       width=\"24px\">\n",
              "    <path d=\"M0 0h24v24H0V0z\" fill=\"none\"/>\n",
              "    <path d=\"M18.56 5.44l.94 2.06.94-2.06 2.06-.94-2.06-.94-.94-2.06-.94 2.06-2.06.94zm-11 1L8.5 8.5l.94-2.06 2.06-.94-2.06-.94L8.5 2.5l-.94 2.06-2.06.94zm10 10l.94 2.06.94-2.06 2.06-.94-2.06-.94-.94-2.06-.94 2.06-2.06.94z\"/><path d=\"M17.41 7.96l-1.37-1.37c-.4-.4-.92-.59-1.43-.59-.52 0-1.04.2-1.43.59L10.3 9.45l-7.72 7.72c-.78.78-.78 2.05 0 2.83L4 21.41c.39.39.9.59 1.41.59.51 0 1.02-.2 1.41-.59l7.78-7.78 2.81-2.81c.8-.78.8-2.07 0-2.86zM5.41 20L4 18.59l7.72-7.72 1.47 1.35L5.41 20z\"/>\n",
              "  </svg>\n",
              "      </button>\n",
              "      \n",
              "  <style>\n",
              "    .colab-df-container {\n",
              "      display:flex;\n",
              "      flex-wrap:wrap;\n",
              "      gap: 12px;\n",
              "    }\n",
              "\n",
              "    .colab-df-convert {\n",
              "      background-color: #E8F0FE;\n",
              "      border: none;\n",
              "      border-radius: 50%;\n",
              "      cursor: pointer;\n",
              "      display: none;\n",
              "      fill: #1967D2;\n",
              "      height: 32px;\n",
              "      padding: 0 0 0 0;\n",
              "      width: 32px;\n",
              "    }\n",
              "\n",
              "    .colab-df-convert:hover {\n",
              "      background-color: #E2EBFA;\n",
              "      box-shadow: 0px 1px 2px rgba(60, 64, 67, 0.3), 0px 1px 3px 1px rgba(60, 64, 67, 0.15);\n",
              "      fill: #174EA6;\n",
              "    }\n",
              "\n",
              "    [theme=dark] .colab-df-convert {\n",
              "      background-color: #3B4455;\n",
              "      fill: #D2E3FC;\n",
              "    }\n",
              "\n",
              "    [theme=dark] .colab-df-convert:hover {\n",
              "      background-color: #434B5C;\n",
              "      box-shadow: 0px 1px 3px 1px rgba(0, 0, 0, 0.15);\n",
              "      filter: drop-shadow(0px 1px 2px rgba(0, 0, 0, 0.3));\n",
              "      fill: #FFFFFF;\n",
              "    }\n",
              "  </style>\n",
              "\n",
              "      <script>\n",
              "        const buttonEl =\n",
              "          document.querySelector('#df-41ef8949-c7ab-4422-a01d-52b3803eeaaa button.colab-df-convert');\n",
              "        buttonEl.style.display =\n",
              "          google.colab.kernel.accessAllowed ? 'block' : 'none';\n",
              "\n",
              "        async function convertToInteractive(key) {\n",
              "          const element = document.querySelector('#df-41ef8949-c7ab-4422-a01d-52b3803eeaaa');\n",
              "          const dataTable =\n",
              "            await google.colab.kernel.invokeFunction('convertToInteractive',\n",
              "                                                     [key], {});\n",
              "          if (!dataTable) return;\n",
              "\n",
              "          const docLinkHtml = 'Like what you see? Visit the ' +\n",
              "            '<a target=\"_blank\" href=https://colab.research.google.com/notebooks/data_table.ipynb>data table notebook</a>'\n",
              "            + ' to learn more about interactive tables.';\n",
              "          element.innerHTML = '';\n",
              "          dataTable['output_type'] = 'display_data';\n",
              "          await google.colab.output.renderOutput(dataTable, element);\n",
              "          const docLink = document.createElement('div');\n",
              "          docLink.innerHTML = docLinkHtml;\n",
              "          element.appendChild(docLink);\n",
              "        }\n",
              "      </script>\n",
              "    </div>\n",
              "  </div>\n",
              "  "
            ]
          },
          "metadata": {},
          "execution_count": 326
        }
      ]
    },
    {
      "cell_type": "markdown",
      "source": [
        "Once again, we need to define a base category for removal to avoid multicollinarity"
      ],
      "metadata": {
        "id": "G4lNdA1D57Nx"
      }
    },
    {
      "cell_type": "code",
      "source": [
        "base_category = 'Single / not married'"
      ],
      "metadata": {
        "id": "RoxAfqT-5-dA"
      },
      "execution_count": null,
      "outputs": []
    },
    {
      "cell_type": "code",
      "source": [
        "df_dummies = df_dummies.drop(base_category, axis=1)\n",
        "df_dummies"
      ],
      "metadata": {
        "colab": {
          "base_uri": "https://localhost:8080/",
          "height": 455
        },
        "id": "-3VHUamL5_h6",
        "outputId": "18699f12-b873-4923-ebd2-c2d8d6a74a5f"
      },
      "execution_count": null,
      "outputs": [
        {
          "output_type": "execute_result",
          "data": {
            "text/plain": [
              "         Civil marriage  Married  Separated  Widow\n",
              "ID                                                \n",
              "5008806               0        1          0      0\n",
              "5008808               0        0          0      0\n",
              "5008809               0        0          0      0\n",
              "5008810               0        0          0      0\n",
              "5008811               0        0          0      0\n",
              "...                 ...      ...        ...    ...\n",
              "6837707               1        0          0      0\n",
              "6839936               0        1          0      0\n",
              "6840222               0        0          0      0\n",
              "6841878               0        0          0      0\n",
              "6842885               0        1          0      0\n",
              "\n",
              "[304317 rows x 4 columns]"
            ],
            "text/html": [
              "\n",
              "  <div id=\"df-4211409c-aabc-4b49-ac34-1e5a15a5ea7d\">\n",
              "    <div class=\"colab-df-container\">\n",
              "      <div>\n",
              "<style scoped>\n",
              "    .dataframe tbody tr th:only-of-type {\n",
              "        vertical-align: middle;\n",
              "    }\n",
              "\n",
              "    .dataframe tbody tr th {\n",
              "        vertical-align: top;\n",
              "    }\n",
              "\n",
              "    .dataframe thead th {\n",
              "        text-align: right;\n",
              "    }\n",
              "</style>\n",
              "<table border=\"1\" class=\"dataframe\">\n",
              "  <thead>\n",
              "    <tr style=\"text-align: right;\">\n",
              "      <th></th>\n",
              "      <th>Civil marriage</th>\n",
              "      <th>Married</th>\n",
              "      <th>Separated</th>\n",
              "      <th>Widow</th>\n",
              "    </tr>\n",
              "    <tr>\n",
              "      <th>ID</th>\n",
              "      <th></th>\n",
              "      <th></th>\n",
              "      <th></th>\n",
              "      <th></th>\n",
              "    </tr>\n",
              "  </thead>\n",
              "  <tbody>\n",
              "    <tr>\n",
              "      <th>5008806</th>\n",
              "      <td>0</td>\n",
              "      <td>1</td>\n",
              "      <td>0</td>\n",
              "      <td>0</td>\n",
              "    </tr>\n",
              "    <tr>\n",
              "      <th>5008808</th>\n",
              "      <td>0</td>\n",
              "      <td>0</td>\n",
              "      <td>0</td>\n",
              "      <td>0</td>\n",
              "    </tr>\n",
              "    <tr>\n",
              "      <th>5008809</th>\n",
              "      <td>0</td>\n",
              "      <td>0</td>\n",
              "      <td>0</td>\n",
              "      <td>0</td>\n",
              "    </tr>\n",
              "    <tr>\n",
              "      <th>5008810</th>\n",
              "      <td>0</td>\n",
              "      <td>0</td>\n",
              "      <td>0</td>\n",
              "      <td>0</td>\n",
              "    </tr>\n",
              "    <tr>\n",
              "      <th>5008811</th>\n",
              "      <td>0</td>\n",
              "      <td>0</td>\n",
              "      <td>0</td>\n",
              "      <td>0</td>\n",
              "    </tr>\n",
              "    <tr>\n",
              "      <th>...</th>\n",
              "      <td>...</td>\n",
              "      <td>...</td>\n",
              "      <td>...</td>\n",
              "      <td>...</td>\n",
              "    </tr>\n",
              "    <tr>\n",
              "      <th>6837707</th>\n",
              "      <td>1</td>\n",
              "      <td>0</td>\n",
              "      <td>0</td>\n",
              "      <td>0</td>\n",
              "    </tr>\n",
              "    <tr>\n",
              "      <th>6839936</th>\n",
              "      <td>0</td>\n",
              "      <td>1</td>\n",
              "      <td>0</td>\n",
              "      <td>0</td>\n",
              "    </tr>\n",
              "    <tr>\n",
              "      <th>6840222</th>\n",
              "      <td>0</td>\n",
              "      <td>0</td>\n",
              "      <td>0</td>\n",
              "      <td>0</td>\n",
              "    </tr>\n",
              "    <tr>\n",
              "      <th>6841878</th>\n",
              "      <td>0</td>\n",
              "      <td>0</td>\n",
              "      <td>0</td>\n",
              "      <td>0</td>\n",
              "    </tr>\n",
              "    <tr>\n",
              "      <th>6842885</th>\n",
              "      <td>0</td>\n",
              "      <td>1</td>\n",
              "      <td>0</td>\n",
              "      <td>0</td>\n",
              "    </tr>\n",
              "  </tbody>\n",
              "</table>\n",
              "<p>304317 rows × 4 columns</p>\n",
              "</div>\n",
              "      <button class=\"colab-df-convert\" onclick=\"convertToInteractive('df-4211409c-aabc-4b49-ac34-1e5a15a5ea7d')\"\n",
              "              title=\"Convert this dataframe to an interactive table.\"\n",
              "              style=\"display:none;\">\n",
              "        \n",
              "  <svg xmlns=\"http://www.w3.org/2000/svg\" height=\"24px\"viewBox=\"0 0 24 24\"\n",
              "       width=\"24px\">\n",
              "    <path d=\"M0 0h24v24H0V0z\" fill=\"none\"/>\n",
              "    <path d=\"M18.56 5.44l.94 2.06.94-2.06 2.06-.94-2.06-.94-.94-2.06-.94 2.06-2.06.94zm-11 1L8.5 8.5l.94-2.06 2.06-.94-2.06-.94L8.5 2.5l-.94 2.06-2.06.94zm10 10l.94 2.06.94-2.06 2.06-.94-2.06-.94-.94-2.06-.94 2.06-2.06.94z\"/><path d=\"M17.41 7.96l-1.37-1.37c-.4-.4-.92-.59-1.43-.59-.52 0-1.04.2-1.43.59L10.3 9.45l-7.72 7.72c-.78.78-.78 2.05 0 2.83L4 21.41c.39.39.9.59 1.41.59.51 0 1.02-.2 1.41-.59l7.78-7.78 2.81-2.81c.8-.78.8-2.07 0-2.86zM5.41 20L4 18.59l7.72-7.72 1.47 1.35L5.41 20z\"/>\n",
              "  </svg>\n",
              "      </button>\n",
              "      \n",
              "  <style>\n",
              "    .colab-df-container {\n",
              "      display:flex;\n",
              "      flex-wrap:wrap;\n",
              "      gap: 12px;\n",
              "    }\n",
              "\n",
              "    .colab-df-convert {\n",
              "      background-color: #E8F0FE;\n",
              "      border: none;\n",
              "      border-radius: 50%;\n",
              "      cursor: pointer;\n",
              "      display: none;\n",
              "      fill: #1967D2;\n",
              "      height: 32px;\n",
              "      padding: 0 0 0 0;\n",
              "      width: 32px;\n",
              "    }\n",
              "\n",
              "    .colab-df-convert:hover {\n",
              "      background-color: #E2EBFA;\n",
              "      box-shadow: 0px 1px 2px rgba(60, 64, 67, 0.3), 0px 1px 3px 1px rgba(60, 64, 67, 0.15);\n",
              "      fill: #174EA6;\n",
              "    }\n",
              "\n",
              "    [theme=dark] .colab-df-convert {\n",
              "      background-color: #3B4455;\n",
              "      fill: #D2E3FC;\n",
              "    }\n",
              "\n",
              "    [theme=dark] .colab-df-convert:hover {\n",
              "      background-color: #434B5C;\n",
              "      box-shadow: 0px 1px 3px 1px rgba(0, 0, 0, 0.15);\n",
              "      filter: drop-shadow(0px 1px 2px rgba(0, 0, 0, 0.3));\n",
              "      fill: #FFFFFF;\n",
              "    }\n",
              "  </style>\n",
              "\n",
              "      <script>\n",
              "        const buttonEl =\n",
              "          document.querySelector('#df-4211409c-aabc-4b49-ac34-1e5a15a5ea7d button.colab-df-convert');\n",
              "        buttonEl.style.display =\n",
              "          google.colab.kernel.accessAllowed ? 'block' : 'none';\n",
              "\n",
              "        async function convertToInteractive(key) {\n",
              "          const element = document.querySelector('#df-4211409c-aabc-4b49-ac34-1e5a15a5ea7d');\n",
              "          const dataTable =\n",
              "            await google.colab.kernel.invokeFunction('convertToInteractive',\n",
              "                                                     [key], {});\n",
              "          if (!dataTable) return;\n",
              "\n",
              "          const docLinkHtml = 'Like what you see? Visit the ' +\n",
              "            '<a target=\"_blank\" href=https://colab.research.google.com/notebooks/data_table.ipynb>data table notebook</a>'\n",
              "            + ' to learn more about interactive tables.';\n",
              "          element.innerHTML = '';\n",
              "          dataTable['output_type'] = 'display_data';\n",
              "          await google.colab.output.renderOutput(dataTable, element);\n",
              "          const docLink = document.createElement('div');\n",
              "          docLink.innerHTML = docLinkHtml;\n",
              "          element.appendChild(docLink);\n",
              "        }\n",
              "      </script>\n",
              "    </div>\n",
              "  </div>\n",
              "  "
            ]
          },
          "metadata": {},
          "execution_count": 328
        }
      ]
    },
    {
      "cell_type": "markdown",
      "source": [
        "For the sake of consistency, let us convert all column names to upper case"
      ],
      "metadata": {
        "id": "pEqbY8YO6Brf"
      }
    },
    {
      "cell_type": "code",
      "source": [
        "df_dummies.columns = df_dummies.columns.map(str.upper)\n",
        "df_dummies.columns"
      ],
      "metadata": {
        "colab": {
          "base_uri": "https://localhost:8080/"
        },
        "id": "p-EVWfK-6By7",
        "outputId": "d6892185-0fe6-425a-e7c3-fac628b103c9"
      },
      "execution_count": null,
      "outputs": [
        {
          "output_type": "execute_result",
          "data": {
            "text/plain": [
              "Index(['CIVIL MARRIAGE', 'MARRIED', 'SEPARATED', 'WIDOW'], dtype='object')"
            ]
          },
          "metadata": {},
          "execution_count": 329
        }
      ]
    },
    {
      "cell_type": "markdown",
      "source": [
        "Now we can join it into the full dataset and drop the original column"
      ],
      "metadata": {
        "id": "_WiOHGL26B1r"
      }
    },
    {
      "cell_type": "code",
      "source": [
        "df_applications = df_applications.join(df_dummies)\n",
        "df_applications = df_applications.drop('NAME_FAMILY_STATUS', axis=1)\n",
        "df_applications.head()"
      ],
      "metadata": {
        "colab": {
          "base_uri": "https://localhost:8080/",
          "height": 406
        },
        "id": "K2yXVgfh6B52",
        "outputId": "76ed99b9-5068-41f5-dec7-e397701a2d5b"
      },
      "execution_count": null,
      "outputs": [
        {
          "output_type": "execute_result",
          "data": {
            "text/plain": [
              "         CNT_CHILDREN  AMT_INCOME_TOTAL      NAME_INCOME_TYPE  \\\n",
              "ID                                                              \n",
              "5008806             0          112500.0               Working   \n",
              "5008808             0          270000.0  Commercial associate   \n",
              "5008809             0          270000.0  Commercial associate   \n",
              "5008810             0          270000.0  Commercial associate   \n",
              "5008811             0          270000.0  Commercial associate   \n",
              "\n",
              "                   NAME_EDUCATION_TYPE  NAME_HOUSING_TYPE  DAYS_BIRTH  \\\n",
              "ID                                                                      \n",
              "5008806  Secondary / secondary special  House / apartment      -21474   \n",
              "5008808  Secondary / secondary special  House / apartment      -19110   \n",
              "5008809  Secondary / secondary special  House / apartment      -19110   \n",
              "5008810  Secondary / secondary special  House / apartment      -19110   \n",
              "5008811  Secondary / secondary special  House / apartment      -19110   \n",
              "\n",
              "         DAYS_EMPLOYED  FLAG_MOBIL  FLAG_WORK_PHONE  FLAG_PHONE  FLAG_EMAIL  \\\n",
              "ID                                                                            \n",
              "5008806          -1134           1                0           0           0   \n",
              "5008808          -3051           1                0           1           1   \n",
              "5008809          -3051           1                0           1           1   \n",
              "5008810          -3051           1                0           1           1   \n",
              "5008811          -3051           1                0           1           1   \n",
              "\n",
              "        OCCUPATION_TYPE  CNT_FAM_MEMBERS  FEMALE  HAS_REALTY  HAS_CAR  \\\n",
              "ID                                                                      \n",
              "5008806  Security staff              2.0       0           1        1   \n",
              "5008808     Sales staff              1.0       1           1        0   \n",
              "5008809     Sales staff              1.0       1           1        0   \n",
              "5008810     Sales staff              1.0       1           1        0   \n",
              "5008811     Sales staff              1.0       1           1        0   \n",
              "\n",
              "         CIVIL MARRIAGE  MARRIED  SEPARATED  WIDOW  \n",
              "ID                                                  \n",
              "5008806               0        1          0      0  \n",
              "5008808               0        0          0      0  \n",
              "5008809               0        0          0      0  \n",
              "5008810               0        0          0      0  \n",
              "5008811               0        0          0      0  "
            ],
            "text/html": [
              "\n",
              "  <div id=\"df-8594f90c-50bb-435a-8ce5-7f22013ded3a\">\n",
              "    <div class=\"colab-df-container\">\n",
              "      <div>\n",
              "<style scoped>\n",
              "    .dataframe tbody tr th:only-of-type {\n",
              "        vertical-align: middle;\n",
              "    }\n",
              "\n",
              "    .dataframe tbody tr th {\n",
              "        vertical-align: top;\n",
              "    }\n",
              "\n",
              "    .dataframe thead th {\n",
              "        text-align: right;\n",
              "    }\n",
              "</style>\n",
              "<table border=\"1\" class=\"dataframe\">\n",
              "  <thead>\n",
              "    <tr style=\"text-align: right;\">\n",
              "      <th></th>\n",
              "      <th>CNT_CHILDREN</th>\n",
              "      <th>AMT_INCOME_TOTAL</th>\n",
              "      <th>NAME_INCOME_TYPE</th>\n",
              "      <th>NAME_EDUCATION_TYPE</th>\n",
              "      <th>NAME_HOUSING_TYPE</th>\n",
              "      <th>DAYS_BIRTH</th>\n",
              "      <th>DAYS_EMPLOYED</th>\n",
              "      <th>FLAG_MOBIL</th>\n",
              "      <th>FLAG_WORK_PHONE</th>\n",
              "      <th>FLAG_PHONE</th>\n",
              "      <th>FLAG_EMAIL</th>\n",
              "      <th>OCCUPATION_TYPE</th>\n",
              "      <th>CNT_FAM_MEMBERS</th>\n",
              "      <th>FEMALE</th>\n",
              "      <th>HAS_REALTY</th>\n",
              "      <th>HAS_CAR</th>\n",
              "      <th>CIVIL MARRIAGE</th>\n",
              "      <th>MARRIED</th>\n",
              "      <th>SEPARATED</th>\n",
              "      <th>WIDOW</th>\n",
              "    </tr>\n",
              "    <tr>\n",
              "      <th>ID</th>\n",
              "      <th></th>\n",
              "      <th></th>\n",
              "      <th></th>\n",
              "      <th></th>\n",
              "      <th></th>\n",
              "      <th></th>\n",
              "      <th></th>\n",
              "      <th></th>\n",
              "      <th></th>\n",
              "      <th></th>\n",
              "      <th></th>\n",
              "      <th></th>\n",
              "      <th></th>\n",
              "      <th></th>\n",
              "      <th></th>\n",
              "      <th></th>\n",
              "      <th></th>\n",
              "      <th></th>\n",
              "      <th></th>\n",
              "      <th></th>\n",
              "    </tr>\n",
              "  </thead>\n",
              "  <tbody>\n",
              "    <tr>\n",
              "      <th>5008806</th>\n",
              "      <td>0</td>\n",
              "      <td>112500.0</td>\n",
              "      <td>Working</td>\n",
              "      <td>Secondary / secondary special</td>\n",
              "      <td>House / apartment</td>\n",
              "      <td>-21474</td>\n",
              "      <td>-1134</td>\n",
              "      <td>1</td>\n",
              "      <td>0</td>\n",
              "      <td>0</td>\n",
              "      <td>0</td>\n",
              "      <td>Security staff</td>\n",
              "      <td>2.0</td>\n",
              "      <td>0</td>\n",
              "      <td>1</td>\n",
              "      <td>1</td>\n",
              "      <td>0</td>\n",
              "      <td>1</td>\n",
              "      <td>0</td>\n",
              "      <td>0</td>\n",
              "    </tr>\n",
              "    <tr>\n",
              "      <th>5008808</th>\n",
              "      <td>0</td>\n",
              "      <td>270000.0</td>\n",
              "      <td>Commercial associate</td>\n",
              "      <td>Secondary / secondary special</td>\n",
              "      <td>House / apartment</td>\n",
              "      <td>-19110</td>\n",
              "      <td>-3051</td>\n",
              "      <td>1</td>\n",
              "      <td>0</td>\n",
              "      <td>1</td>\n",
              "      <td>1</td>\n",
              "      <td>Sales staff</td>\n",
              "      <td>1.0</td>\n",
              "      <td>1</td>\n",
              "      <td>1</td>\n",
              "      <td>0</td>\n",
              "      <td>0</td>\n",
              "      <td>0</td>\n",
              "      <td>0</td>\n",
              "      <td>0</td>\n",
              "    </tr>\n",
              "    <tr>\n",
              "      <th>5008809</th>\n",
              "      <td>0</td>\n",
              "      <td>270000.0</td>\n",
              "      <td>Commercial associate</td>\n",
              "      <td>Secondary / secondary special</td>\n",
              "      <td>House / apartment</td>\n",
              "      <td>-19110</td>\n",
              "      <td>-3051</td>\n",
              "      <td>1</td>\n",
              "      <td>0</td>\n",
              "      <td>1</td>\n",
              "      <td>1</td>\n",
              "      <td>Sales staff</td>\n",
              "      <td>1.0</td>\n",
              "      <td>1</td>\n",
              "      <td>1</td>\n",
              "      <td>0</td>\n",
              "      <td>0</td>\n",
              "      <td>0</td>\n",
              "      <td>0</td>\n",
              "      <td>0</td>\n",
              "    </tr>\n",
              "    <tr>\n",
              "      <th>5008810</th>\n",
              "      <td>0</td>\n",
              "      <td>270000.0</td>\n",
              "      <td>Commercial associate</td>\n",
              "      <td>Secondary / secondary special</td>\n",
              "      <td>House / apartment</td>\n",
              "      <td>-19110</td>\n",
              "      <td>-3051</td>\n",
              "      <td>1</td>\n",
              "      <td>0</td>\n",
              "      <td>1</td>\n",
              "      <td>1</td>\n",
              "      <td>Sales staff</td>\n",
              "      <td>1.0</td>\n",
              "      <td>1</td>\n",
              "      <td>1</td>\n",
              "      <td>0</td>\n",
              "      <td>0</td>\n",
              "      <td>0</td>\n",
              "      <td>0</td>\n",
              "      <td>0</td>\n",
              "    </tr>\n",
              "    <tr>\n",
              "      <th>5008811</th>\n",
              "      <td>0</td>\n",
              "      <td>270000.0</td>\n",
              "      <td>Commercial associate</td>\n",
              "      <td>Secondary / secondary special</td>\n",
              "      <td>House / apartment</td>\n",
              "      <td>-19110</td>\n",
              "      <td>-3051</td>\n",
              "      <td>1</td>\n",
              "      <td>0</td>\n",
              "      <td>1</td>\n",
              "      <td>1</td>\n",
              "      <td>Sales staff</td>\n",
              "      <td>1.0</td>\n",
              "      <td>1</td>\n",
              "      <td>1</td>\n",
              "      <td>0</td>\n",
              "      <td>0</td>\n",
              "      <td>0</td>\n",
              "      <td>0</td>\n",
              "      <td>0</td>\n",
              "    </tr>\n",
              "  </tbody>\n",
              "</table>\n",
              "</div>\n",
              "      <button class=\"colab-df-convert\" onclick=\"convertToInteractive('df-8594f90c-50bb-435a-8ce5-7f22013ded3a')\"\n",
              "              title=\"Convert this dataframe to an interactive table.\"\n",
              "              style=\"display:none;\">\n",
              "        \n",
              "  <svg xmlns=\"http://www.w3.org/2000/svg\" height=\"24px\"viewBox=\"0 0 24 24\"\n",
              "       width=\"24px\">\n",
              "    <path d=\"M0 0h24v24H0V0z\" fill=\"none\"/>\n",
              "    <path d=\"M18.56 5.44l.94 2.06.94-2.06 2.06-.94-2.06-.94-.94-2.06-.94 2.06-2.06.94zm-11 1L8.5 8.5l.94-2.06 2.06-.94-2.06-.94L8.5 2.5l-.94 2.06-2.06.94zm10 10l.94 2.06.94-2.06 2.06-.94-2.06-.94-.94-2.06-.94 2.06-2.06.94z\"/><path d=\"M17.41 7.96l-1.37-1.37c-.4-.4-.92-.59-1.43-.59-.52 0-1.04.2-1.43.59L10.3 9.45l-7.72 7.72c-.78.78-.78 2.05 0 2.83L4 21.41c.39.39.9.59 1.41.59.51 0 1.02-.2 1.41-.59l7.78-7.78 2.81-2.81c.8-.78.8-2.07 0-2.86zM5.41 20L4 18.59l7.72-7.72 1.47 1.35L5.41 20z\"/>\n",
              "  </svg>\n",
              "      </button>\n",
              "      \n",
              "  <style>\n",
              "    .colab-df-container {\n",
              "      display:flex;\n",
              "      flex-wrap:wrap;\n",
              "      gap: 12px;\n",
              "    }\n",
              "\n",
              "    .colab-df-convert {\n",
              "      background-color: #E8F0FE;\n",
              "      border: none;\n",
              "      border-radius: 50%;\n",
              "      cursor: pointer;\n",
              "      display: none;\n",
              "      fill: #1967D2;\n",
              "      height: 32px;\n",
              "      padding: 0 0 0 0;\n",
              "      width: 32px;\n",
              "    }\n",
              "\n",
              "    .colab-df-convert:hover {\n",
              "      background-color: #E2EBFA;\n",
              "      box-shadow: 0px 1px 2px rgba(60, 64, 67, 0.3), 0px 1px 3px 1px rgba(60, 64, 67, 0.15);\n",
              "      fill: #174EA6;\n",
              "    }\n",
              "\n",
              "    [theme=dark] .colab-df-convert {\n",
              "      background-color: #3B4455;\n",
              "      fill: #D2E3FC;\n",
              "    }\n",
              "\n",
              "    [theme=dark] .colab-df-convert:hover {\n",
              "      background-color: #434B5C;\n",
              "      box-shadow: 0px 1px 3px 1px rgba(0, 0, 0, 0.15);\n",
              "      filter: drop-shadow(0px 1px 2px rgba(0, 0, 0, 0.3));\n",
              "      fill: #FFFFFF;\n",
              "    }\n",
              "  </style>\n",
              "\n",
              "      <script>\n",
              "        const buttonEl =\n",
              "          document.querySelector('#df-8594f90c-50bb-435a-8ce5-7f22013ded3a button.colab-df-convert');\n",
              "        buttonEl.style.display =\n",
              "          google.colab.kernel.accessAllowed ? 'block' : 'none';\n",
              "\n",
              "        async function convertToInteractive(key) {\n",
              "          const element = document.querySelector('#df-8594f90c-50bb-435a-8ce5-7f22013ded3a');\n",
              "          const dataTable =\n",
              "            await google.colab.kernel.invokeFunction('convertToInteractive',\n",
              "                                                     [key], {});\n",
              "          if (!dataTable) return;\n",
              "\n",
              "          const docLinkHtml = 'Like what you see? Visit the ' +\n",
              "            '<a target=\"_blank\" href=https://colab.research.google.com/notebooks/data_table.ipynb>data table notebook</a>'\n",
              "            + ' to learn more about interactive tables.';\n",
              "          element.innerHTML = '';\n",
              "          dataTable['output_type'] = 'display_data';\n",
              "          await google.colab.output.renderOutput(dataTable, element);\n",
              "          const docLink = document.createElement('div');\n",
              "          docLink.innerHTML = docLinkHtml;\n",
              "          element.appendChild(docLink);\n",
              "        }\n",
              "      </script>\n",
              "    </div>\n",
              "  </div>\n",
              "  "
            ]
          },
          "metadata": {},
          "execution_count": 330
        }
      ]
    },
    {
      "cell_type": "markdown",
      "source": [
        "### Automatically convert multinomial data"
      ],
      "metadata": {
        "id": "DtyRuueC6B9i"
      }
    },
    {
      "cell_type": "code",
      "source": [
        "df_dtypes_obj"
      ],
      "metadata": {
        "colab": {
          "base_uri": "https://localhost:8080/",
          "height": 300
        },
        "id": "dkPCvZ3X6Ty3",
        "outputId": "d6d1a31b-5081-4bc6-fc0a-f8c4f1380836"
      },
      "execution_count": null,
      "outputs": [
        {
          "output_type": "execute_result",
          "data": {
            "text/plain": [
              "                     dtypes                        5008806  \\\n",
              "CODE_GENDER          object                              M   \n",
              "FLAG_OWN_CAR         object                              Y   \n",
              "FLAG_OWN_REALTY      object                              Y   \n",
              "NAME_INCOME_TYPE     object                        Working   \n",
              "NAME_EDUCATION_TYPE  object  Secondary / secondary special   \n",
              "NAME_FAMILY_STATUS   object                        Married   \n",
              "NAME_HOUSING_TYPE    object              House / apartment   \n",
              "OCCUPATION_TYPE      object                 Security staff   \n",
              "\n",
              "                                           5008808  \n",
              "CODE_GENDER                                      F  \n",
              "FLAG_OWN_CAR                                     N  \n",
              "FLAG_OWN_REALTY                                  Y  \n",
              "NAME_INCOME_TYPE              Commercial associate  \n",
              "NAME_EDUCATION_TYPE  Secondary / secondary special  \n",
              "NAME_FAMILY_STATUS            Single / not married  \n",
              "NAME_HOUSING_TYPE                House / apartment  \n",
              "OCCUPATION_TYPE                        Sales staff  "
            ],
            "text/html": [
              "\n",
              "  <div id=\"df-2ce2240d-1d09-4c97-ab0a-28023ac68903\">\n",
              "    <div class=\"colab-df-container\">\n",
              "      <div>\n",
              "<style scoped>\n",
              "    .dataframe tbody tr th:only-of-type {\n",
              "        vertical-align: middle;\n",
              "    }\n",
              "\n",
              "    .dataframe tbody tr th {\n",
              "        vertical-align: top;\n",
              "    }\n",
              "\n",
              "    .dataframe thead th {\n",
              "        text-align: right;\n",
              "    }\n",
              "</style>\n",
              "<table border=\"1\" class=\"dataframe\">\n",
              "  <thead>\n",
              "    <tr style=\"text-align: right;\">\n",
              "      <th></th>\n",
              "      <th>dtypes</th>\n",
              "      <th>5008806</th>\n",
              "      <th>5008808</th>\n",
              "    </tr>\n",
              "  </thead>\n",
              "  <tbody>\n",
              "    <tr>\n",
              "      <th>CODE_GENDER</th>\n",
              "      <td>object</td>\n",
              "      <td>M</td>\n",
              "      <td>F</td>\n",
              "    </tr>\n",
              "    <tr>\n",
              "      <th>FLAG_OWN_CAR</th>\n",
              "      <td>object</td>\n",
              "      <td>Y</td>\n",
              "      <td>N</td>\n",
              "    </tr>\n",
              "    <tr>\n",
              "      <th>FLAG_OWN_REALTY</th>\n",
              "      <td>object</td>\n",
              "      <td>Y</td>\n",
              "      <td>Y</td>\n",
              "    </tr>\n",
              "    <tr>\n",
              "      <th>NAME_INCOME_TYPE</th>\n",
              "      <td>object</td>\n",
              "      <td>Working</td>\n",
              "      <td>Commercial associate</td>\n",
              "    </tr>\n",
              "    <tr>\n",
              "      <th>NAME_EDUCATION_TYPE</th>\n",
              "      <td>object</td>\n",
              "      <td>Secondary / secondary special</td>\n",
              "      <td>Secondary / secondary special</td>\n",
              "    </tr>\n",
              "    <tr>\n",
              "      <th>NAME_FAMILY_STATUS</th>\n",
              "      <td>object</td>\n",
              "      <td>Married</td>\n",
              "      <td>Single / not married</td>\n",
              "    </tr>\n",
              "    <tr>\n",
              "      <th>NAME_HOUSING_TYPE</th>\n",
              "      <td>object</td>\n",
              "      <td>House / apartment</td>\n",
              "      <td>House / apartment</td>\n",
              "    </tr>\n",
              "    <tr>\n",
              "      <th>OCCUPATION_TYPE</th>\n",
              "      <td>object</td>\n",
              "      <td>Security staff</td>\n",
              "      <td>Sales staff</td>\n",
              "    </tr>\n",
              "  </tbody>\n",
              "</table>\n",
              "</div>\n",
              "      <button class=\"colab-df-convert\" onclick=\"convertToInteractive('df-2ce2240d-1d09-4c97-ab0a-28023ac68903')\"\n",
              "              title=\"Convert this dataframe to an interactive table.\"\n",
              "              style=\"display:none;\">\n",
              "        \n",
              "  <svg xmlns=\"http://www.w3.org/2000/svg\" height=\"24px\"viewBox=\"0 0 24 24\"\n",
              "       width=\"24px\">\n",
              "    <path d=\"M0 0h24v24H0V0z\" fill=\"none\"/>\n",
              "    <path d=\"M18.56 5.44l.94 2.06.94-2.06 2.06-.94-2.06-.94-.94-2.06-.94 2.06-2.06.94zm-11 1L8.5 8.5l.94-2.06 2.06-.94-2.06-.94L8.5 2.5l-.94 2.06-2.06.94zm10 10l.94 2.06.94-2.06 2.06-.94-2.06-.94-.94-2.06-.94 2.06-2.06.94z\"/><path d=\"M17.41 7.96l-1.37-1.37c-.4-.4-.92-.59-1.43-.59-.52 0-1.04.2-1.43.59L10.3 9.45l-7.72 7.72c-.78.78-.78 2.05 0 2.83L4 21.41c.39.39.9.59 1.41.59.51 0 1.02-.2 1.41-.59l7.78-7.78 2.81-2.81c.8-.78.8-2.07 0-2.86zM5.41 20L4 18.59l7.72-7.72 1.47 1.35L5.41 20z\"/>\n",
              "  </svg>\n",
              "      </button>\n",
              "      \n",
              "  <style>\n",
              "    .colab-df-container {\n",
              "      display:flex;\n",
              "      flex-wrap:wrap;\n",
              "      gap: 12px;\n",
              "    }\n",
              "\n",
              "    .colab-df-convert {\n",
              "      background-color: #E8F0FE;\n",
              "      border: none;\n",
              "      border-radius: 50%;\n",
              "      cursor: pointer;\n",
              "      display: none;\n",
              "      fill: #1967D2;\n",
              "      height: 32px;\n",
              "      padding: 0 0 0 0;\n",
              "      width: 32px;\n",
              "    }\n",
              "\n",
              "    .colab-df-convert:hover {\n",
              "      background-color: #E2EBFA;\n",
              "      box-shadow: 0px 1px 2px rgba(60, 64, 67, 0.3), 0px 1px 3px 1px rgba(60, 64, 67, 0.15);\n",
              "      fill: #174EA6;\n",
              "    }\n",
              "\n",
              "    [theme=dark] .colab-df-convert {\n",
              "      background-color: #3B4455;\n",
              "      fill: #D2E3FC;\n",
              "    }\n",
              "\n",
              "    [theme=dark] .colab-df-convert:hover {\n",
              "      background-color: #434B5C;\n",
              "      box-shadow: 0px 1px 3px 1px rgba(0, 0, 0, 0.15);\n",
              "      filter: drop-shadow(0px 1px 2px rgba(0, 0, 0, 0.3));\n",
              "      fill: #FFFFFF;\n",
              "    }\n",
              "  </style>\n",
              "\n",
              "      <script>\n",
              "        const buttonEl =\n",
              "          document.querySelector('#df-2ce2240d-1d09-4c97-ab0a-28023ac68903 button.colab-df-convert');\n",
              "        buttonEl.style.display =\n",
              "          google.colab.kernel.accessAllowed ? 'block' : 'none';\n",
              "\n",
              "        async function convertToInteractive(key) {\n",
              "          const element = document.querySelector('#df-2ce2240d-1d09-4c97-ab0a-28023ac68903');\n",
              "          const dataTable =\n",
              "            await google.colab.kernel.invokeFunction('convertToInteractive',\n",
              "                                                     [key], {});\n",
              "          if (!dataTable) return;\n",
              "\n",
              "          const docLinkHtml = 'Like what you see? Visit the ' +\n",
              "            '<a target=\"_blank\" href=https://colab.research.google.com/notebooks/data_table.ipynb>data table notebook</a>'\n",
              "            + ' to learn more about interactive tables.';\n",
              "          element.innerHTML = '';\n",
              "          dataTable['output_type'] = 'display_data';\n",
              "          await google.colab.output.renderOutput(dataTable, element);\n",
              "          const docLink = document.createElement('div');\n",
              "          docLink.innerHTML = docLinkHtml;\n",
              "          element.appendChild(docLink);\n",
              "        }\n",
              "      </script>\n",
              "    </div>\n",
              "  </div>\n",
              "  "
            ]
          },
          "metadata": {},
          "execution_count": 331
        }
      ]
    },
    {
      "cell_type": "code",
      "source": [
        "def make_multinomial_columns(df, column, base_category):\n",
        "    df_dummies = pd.get_dummies(df_applications[column])\n",
        "    df_dummies = df_dummies.drop(base_category, axis=1)\n",
        "    df_dummies.columns = df_dummies.columns.map(str.upper)\n",
        "    \n",
        "    return df_dummies"
      ],
      "metadata": {
        "id": "yIzFFjqf6VhZ"
      },
      "execution_count": null,
      "outputs": []
    },
    {
      "cell_type": "markdown",
      "source": [
        "#### Income type"
      ],
      "metadata": {
        "id": "60YEb6pR6iAo"
      }
    },
    {
      "cell_type": "code",
      "source": [
        "df_applications.shape"
      ],
      "metadata": {
        "colab": {
          "base_uri": "https://localhost:8080/"
        },
        "id": "nFt_rLNb8ghL",
        "outputId": "d8b72fb0-775d-43d6-dbac-0a983e52deb3"
      },
      "execution_count": null,
      "outputs": [
        {
          "output_type": "execute_result",
          "data": {
            "text/plain": [
              "(304317, 20)"
            ]
          },
          "metadata": {},
          "execution_count": 333
        }
      ]
    },
    {
      "cell_type": "code",
      "source": [
        "column = 'NAME_INCOME_TYPE'\n",
        "df_applications.loc[:,column].value_counts()"
      ],
      "metadata": {
        "id": "VU02UXyO6CC-",
        "colab": {
          "base_uri": "https://localhost:8080/"
        },
        "outputId": "2d48dab0-7873-4721-b87f-6ffdeb48f899"
      },
      "execution_count": null,
      "outputs": [
        {
          "output_type": "execute_result",
          "data": {
            "text/plain": [
              "Working                 190192\n",
              "Commercial associate     84002\n",
              "State servant            29975\n",
              "Pensioner                  136\n",
              "Student                     12\n",
              "Name: NAME_INCOME_TYPE, dtype: int64"
            ]
          },
          "metadata": {},
          "execution_count": 334
        }
      ]
    },
    {
      "cell_type": "code",
      "source": [
        "df_dummies = make_multinomial_columns(df_applications, column, 'Working')\n",
        "df_applications = df_applications.join(df_dummies).drop(column, axis=1)"
      ],
      "metadata": {
        "id": "834X0wW56CLl"
      },
      "execution_count": null,
      "outputs": []
    },
    {
      "cell_type": "markdown",
      "source": [
        "#### Education type"
      ],
      "metadata": {
        "id": "EE1NfRlx6pgj"
      }
    },
    {
      "cell_type": "code",
      "source": [
        "column = 'NAME_EDUCATION_TYPE'\n",
        "df_applications.loc[:,column].value_counts()"
      ],
      "metadata": {
        "id": "QwLi2j2R6mpf",
        "colab": {
          "base_uri": "https://localhost:8080/"
        },
        "outputId": "5014c789-5dbc-42f7-c0f1-3713c398cdde"
      },
      "execution_count": null,
      "outputs": [
        {
          "output_type": "execute_result",
          "data": {
            "text/plain": [
              "Secondary / secondary special    204766\n",
              "Higher education                  85655\n",
              "Incomplete higher                 11632\n",
              "Lower secondary                    2039\n",
              "Academic degree                     225\n",
              "Name: NAME_EDUCATION_TYPE, dtype: int64"
            ]
          },
          "metadata": {},
          "execution_count": 336
        }
      ]
    },
    {
      "cell_type": "code",
      "source": [
        "df_dummies = make_multinomial_columns(df_applications, column, 'Academic degree')\n",
        "df_applications = df_applications.join(df_dummies).drop(column, axis=1)"
      ],
      "metadata": {
        "id": "Nl7BnCgq6COn"
      },
      "execution_count": null,
      "outputs": []
    },
    {
      "cell_type": "markdown",
      "source": [
        "#### Housing type"
      ],
      "metadata": {
        "id": "Y2ijBs7F6tTT"
      }
    },
    {
      "cell_type": "code",
      "source": [
        "column = 'NAME_HOUSING_TYPE'\n",
        "df_applications.loc[:,column].value_counts()"
      ],
      "metadata": {
        "colab": {
          "base_uri": "https://localhost:8080/"
        },
        "id": "Bofqz0yt6vK1",
        "outputId": "3b26a461-e56a-41e9-e015-00ae6e5ee458"
      },
      "execution_count": null,
      "outputs": [
        {
          "output_type": "execute_result",
          "data": {
            "text/plain": [
              "House / apartment      269985\n",
              "With parents            15639\n",
              "Municipal apartment      9662\n",
              "Rented apartment         4818\n",
              "Office apartment         3005\n",
              "Co-op apartment          1208\n",
              "Name: NAME_HOUSING_TYPE, dtype: int64"
            ]
          },
          "metadata": {},
          "execution_count": 338
        }
      ]
    },
    {
      "cell_type": "code",
      "source": [
        "df_dummies = make_multinomial_columns(df_applications, column, 'House / apartment')\n",
        "df_applications = df_applications.join(df_dummies).drop(column, axis=1)"
      ],
      "metadata": {
        "id": "cqTjYt7w6v9L"
      },
      "execution_count": null,
      "outputs": []
    },
    {
      "cell_type": "markdown",
      "source": [
        "#### Occupation type"
      ],
      "metadata": {
        "id": "OUbrJ7wr6xgC"
      }
    },
    {
      "cell_type": "code",
      "source": [
        "column = 'OCCUPATION_TYPE'\n",
        "df_applications.loc[:,column].value_counts()"
      ],
      "metadata": {
        "colab": {
          "base_uri": "https://localhost:8080/"
        },
        "id": "lqppaI_K6CRy",
        "outputId": "b8ff864c-e2ad-4978-dcba-413dc89e9706"
      },
      "execution_count": null,
      "outputs": [
        {
          "output_type": "execute_result",
          "data": {
            "text/plain": [
              "Laborers                 78231\n",
              "Core staff               43000\n",
              "Sales staff              41094\n",
              "Managers                 35481\n",
              "Drivers                  26090\n",
              "High skill tech staff    17285\n",
              "Accountants              15983\n",
              "Medicine staff           13518\n",
              "Cooking staff             8076\n",
              "Security staff            7993\n",
              "Cleaning staff            5843\n",
              "Private service staff     3455\n",
              "Low-skill Laborers        2140\n",
              "Secretaries               2044\n",
              "Waiters/barmen staff      1665\n",
              "Realty agents             1041\n",
              "HR staff                   774\n",
              "IT staff                   604\n",
              "Name: OCCUPATION_TYPE, dtype: int64"
            ]
          },
          "metadata": {},
          "execution_count": 340
        }
      ]
    },
    {
      "cell_type": "code",
      "source": [
        "df_dummies = make_multinomial_columns(df_applications, column, 'Laborers')\n",
        "df_applications = df_applications.join(df_dummies).drop(column, axis=1)"
      ],
      "metadata": {
        "id": "QX02nnAG60QJ"
      },
      "execution_count": null,
      "outputs": []
    },
    {
      "cell_type": "markdown",
      "source": [
        "## Inspect the final `df_applications`"
      ],
      "metadata": {
        "id": "N4vcvJl26CVB"
      }
    },
    {
      "cell_type": "code",
      "source": [
        "df_applications.dtypes"
      ],
      "metadata": {
        "colab": {
          "base_uri": "https://localhost:8080/"
        },
        "id": "rWhlrJYk6CXq",
        "outputId": "17dccb33-f7b8-4e30-ceb2-40d2a7741586"
      },
      "execution_count": null,
      "outputs": [
        {
          "output_type": "execute_result",
          "data": {
            "text/plain": [
              "CNT_CHILDREN                       int64\n",
              "AMT_INCOME_TOTAL                 float64\n",
              "DAYS_BIRTH                         int64\n",
              "DAYS_EMPLOYED                      int64\n",
              "FLAG_MOBIL                         int64\n",
              "FLAG_WORK_PHONE                    int64\n",
              "FLAG_PHONE                         int64\n",
              "FLAG_EMAIL                         int64\n",
              "CNT_FAM_MEMBERS                  float64\n",
              "FEMALE                             int64\n",
              "HAS_REALTY                         int64\n",
              "HAS_CAR                            int64\n",
              "CIVIL MARRIAGE                     uint8\n",
              "MARRIED                            uint8\n",
              "SEPARATED                          uint8\n",
              "WIDOW                              uint8\n",
              "COMMERCIAL ASSOCIATE               uint8\n",
              "PENSIONER                          uint8\n",
              "STATE SERVANT                      uint8\n",
              "STUDENT                            uint8\n",
              "HIGHER EDUCATION                   uint8\n",
              "INCOMPLETE HIGHER                  uint8\n",
              "LOWER SECONDARY                    uint8\n",
              "SECONDARY / SECONDARY SPECIAL      uint8\n",
              "CO-OP APARTMENT                    uint8\n",
              "MUNICIPAL APARTMENT                uint8\n",
              "OFFICE APARTMENT                   uint8\n",
              "RENTED APARTMENT                   uint8\n",
              "WITH PARENTS                       uint8\n",
              "ACCOUNTANTS                        uint8\n",
              "CLEANING STAFF                     uint8\n",
              "COOKING STAFF                      uint8\n",
              "CORE STAFF                         uint8\n",
              "DRIVERS                            uint8\n",
              "HR STAFF                           uint8\n",
              "HIGH SKILL TECH STAFF              uint8\n",
              "IT STAFF                           uint8\n",
              "LOW-SKILL LABORERS                 uint8\n",
              "MANAGERS                           uint8\n",
              "MEDICINE STAFF                     uint8\n",
              "PRIVATE SERVICE STAFF              uint8\n",
              "REALTY AGENTS                      uint8\n",
              "SALES STAFF                        uint8\n",
              "SECRETARIES                        uint8\n",
              "SECURITY STAFF                     uint8\n",
              "WAITERS/BARMEN STAFF               uint8\n",
              "dtype: object"
            ]
          },
          "metadata": {},
          "execution_count": 342
        }
      ]
    },
    {
      "cell_type": "markdown",
      "source": [
        "## Getting all together into one\n",
        "\n",
        "Now it is time to merge both `sr_defaults` and `df_applications`. Using the latter as the main DataFrame, we join `sr_defaults` into it."
      ],
      "metadata": {
        "id": "OjUkGSqe6Cab"
      }
    },
    {
      "cell_type": "code",
      "source": [
        "sr_defaults = sr_defaults.astype(int)"
      ],
      "metadata": {
        "id": "BQ_xC1c5B7h_"
      },
      "execution_count": null,
      "outputs": []
    },
    {
      "cell_type": "code",
      "source": [
        "sr_defaults.name = 'DEFAULTED'"
      ],
      "metadata": {
        "id": "-u8QLwqOCR3Q"
      },
      "execution_count": null,
      "outputs": []
    },
    {
      "cell_type": "code",
      "source": [
        "df_data = df_applications.join(sr_defaults)\n",
        "df_data = df_data.dropna()"
      ],
      "metadata": {
        "id": "o30Qf8lIBzV-"
      },
      "execution_count": null,
      "outputs": []
    },
    {
      "cell_type": "markdown",
      "source": [
        "----"
      ],
      "metadata": {
        "id": "Z4ricB7Kqzi0"
      }
    },
    {
      "cell_type": "markdown",
      "source": [
        "# Analysis\n",
        "\n",
        "Now that we have gotten to know the data, let us proceed with the analysis. At the end of the day, we want to best predict the outcome of `sr_defaults`. That is, given a set of features or client characteristics, would we predict a default or not? \n",
        "\n",
        "Note that at this point, the goal is not to make the best possible predictions. Rather, we would like to understand the pros and cons of each model.\n",
        "\n",
        "The dataset is strongly unbalanced, i.e. most cases are not defaults and few are defaults. To make the tutorial more insightful, let us select a random subset of the not-defaulted"
      ],
      "metadata": {
        "id": "xmdXobjzq38Z"
      }
    },
    {
      "cell_type": "code",
      "source": [
        "df_data['DEFAULTED'].value_counts()"
      ],
      "metadata": {
        "colab": {
          "base_uri": "https://localhost:8080/"
        },
        "id": "57licXTluMTh",
        "outputId": "6a4120eb-482c-43f6-fc79-6f4362d8e158"
      },
      "execution_count": null,
      "outputs": [
        {
          "output_type": "execute_result",
          "data": {
            "text/plain": [
              "0.0    24712\n",
              "1.0      422\n",
              "Name: DEFAULTED, dtype: int64"
            ]
          },
          "metadata": {},
          "execution_count": 346
        }
      ]
    },
    {
      "cell_type": "code",
      "source": [
        "df_data = pd.concat([\n",
        "  df_data.loc[df_data['DEFAULTED'] == 0].sample(2513),\n",
        "  df_data.loc[df_data['DEFAULTED'] == 1],\n",
        "])"
      ],
      "metadata": {
        "id": "TNd_LXRTJn0y"
      },
      "execution_count": null,
      "outputs": []
    },
    {
      "cell_type": "code",
      "source": [
        "df_data['DEFAULTED'].value_counts()"
      ],
      "metadata": {
        "colab": {
          "base_uri": "https://localhost:8080/"
        },
        "id": "UL5NJyFku2PJ",
        "outputId": "bb205f67-6ee7-4a71-b941-888fccfac97a"
      },
      "execution_count": null,
      "outputs": [
        {
          "output_type": "execute_result",
          "data": {
            "text/plain": [
              "0.0    2513\n",
              "1.0     422\n",
              "Name: DEFAULTED, dtype: int64"
            ]
          },
          "metadata": {},
          "execution_count": 348
        }
      ]
    },
    {
      "cell_type": "markdown",
      "source": [
        "Let us look the most correlated regressors with respect to `DEFAULTED`"
      ],
      "metadata": {
        "id": "bEnxXx3yu4WT"
      }
    },
    {
      "cell_type": "code",
      "source": [
        "df_corr = df_data.corr()\n",
        "df_corr"
      ],
      "metadata": {
        "id": "Kps7R8evDQXZ",
        "colab": {
          "base_uri": "https://localhost:8080/",
          "height": 1000
        },
        "outputId": "fa6bef82-7777-4ad4-d75f-9ce150a84575"
      },
      "execution_count": null,
      "outputs": [
        {
          "output_type": "execute_result",
          "data": {
            "text/plain": [
              "                               CNT_CHILDREN  AMT_INCOME_TOTAL  DAYS_BIRTH  \\\n",
              "CNT_CHILDREN                       1.000000         -0.028367    0.244459   \n",
              "AMT_INCOME_TOTAL                  -0.028367          1.000000   -0.058118   \n",
              "DAYS_BIRTH                         0.244459         -0.058118    1.000000   \n",
              "DAYS_EMPLOYED                      0.028190         -0.031333    0.310082   \n",
              "FLAG_MOBIL                              NaN               NaN         NaN   \n",
              "FLAG_WORK_PHONE                    0.019392         -0.071839    0.043393   \n",
              "FLAG_PHONE                        -0.000722          0.011040   -0.030930   \n",
              "FLAG_EMAIL                        -0.011569          0.083245    0.043278   \n",
              "CNT_FAM_MEMBERS                    0.894908         -0.042827    0.190099   \n",
              "FEMALE                             0.041338         -0.191181   -0.088344   \n",
              "HAS_REALTY                        -0.013357          0.037472   -0.137130   \n",
              "HAS_CAR                            0.043702          0.177988    0.067417   \n",
              "CIVIL MARRIAGE                    -0.019756         -0.038075    0.050858   \n",
              "MARRIED                            0.176703         -0.013733   -0.046774   \n",
              "SEPARATED                         -0.027428          0.027072   -0.084797   \n",
              "WIDOW                             -0.085877         -0.014724   -0.153427   \n",
              "COMMERCIAL ASSOCIATE              -0.016691          0.132871    0.017302   \n",
              "PENSIONER                          0.009569          0.039630   -0.008942   \n",
              "STATE SERVANT                      0.045007          0.036027   -0.020662   \n",
              "STUDENT                           -0.020591         -0.008090   -0.037748   \n",
              "HIGHER EDUCATION                   0.001575          0.171049    0.089808   \n",
              "INCOMPLETE HIGHER                  0.015864          0.025407    0.146589   \n",
              "LOWER SECONDARY                   -0.022610         -0.039055   -0.006998   \n",
              "SECONDARY / SECONDARY SPECIAL     -0.004300         -0.168247   -0.145849   \n",
              "CO-OP APARTMENT                   -0.008108          0.012005   -0.024438   \n",
              "MUNICIPAL APARTMENT                0.012109          0.009422   -0.007358   \n",
              "OFFICE APARTMENT                  -0.008486          0.048038   -0.020330   \n",
              "RENTED APARTMENT                  -0.036304          0.008713    0.074195   \n",
              "WITH PARENTS                       0.009396         -0.055223    0.185478   \n",
              "ACCOUNTANTS                        0.008935          0.018449    0.020855   \n",
              "CLEANING STAFF                    -0.009447         -0.046914   -0.131299   \n",
              "COOKING STAFF                     -0.032505         -0.076710   -0.005681   \n",
              "CORE STAFF                         0.077260          0.027895    0.059177   \n",
              "DRIVERS                           -0.008878          0.012154   -0.010646   \n",
              "HR STAFF                          -0.022680         -0.017364   -0.006643   \n",
              "HIGH SKILL TECH STAFF              0.009142          0.007300   -0.010869   \n",
              "IT STAFF                          -0.012938         -0.001609    0.027705   \n",
              "LOW-SKILL LABORERS                -0.018996         -0.063151   -0.018651   \n",
              "MANAGERS                           0.004364          0.265880   -0.047908   \n",
              "MEDICINE STAFF                     0.007797         -0.071976   -0.040858   \n",
              "PRIVATE SERVICE STAFF             -0.032138          0.002903   -0.011974   \n",
              "REALTY AGENTS                     -0.010953          0.051046   -0.003604   \n",
              "SALES STAFF                        0.011318         -0.098261    0.054137   \n",
              "SECRETARIES                       -0.000360         -0.043555   -0.003033   \n",
              "SECURITY STAFF                    -0.027969          0.007905   -0.109417   \n",
              "WAITERS/BARMEN STAFF              -0.003558         -0.034724    0.037646   \n",
              "DEFAULTED                          0.002030          0.012906    0.015281   \n",
              "\n",
              "                               DAYS_EMPLOYED  FLAG_MOBIL  FLAG_WORK_PHONE  \\\n",
              "CNT_CHILDREN                        0.028190         NaN         0.019392   \n",
              "AMT_INCOME_TOTAL                   -0.031333         NaN        -0.071839   \n",
              "DAYS_BIRTH                          0.310082         NaN         0.043393   \n",
              "DAYS_EMPLOYED                       1.000000         NaN        -0.019358   \n",
              "FLAG_MOBIL                               NaN         NaN              NaN   \n",
              "FLAG_WORK_PHONE                    -0.019358         NaN         1.000000   \n",
              "FLAG_PHONE                         -0.048561         NaN         0.352535   \n",
              "FLAG_EMAIL                          0.065863         NaN        -0.100592   \n",
              "CNT_FAM_MEMBERS                    -0.000114         NaN         0.036082   \n",
              "FEMALE                             -0.131024         NaN        -0.023897   \n",
              "HAS_REALTY                         -0.051443         NaN        -0.227267   \n",
              "HAS_CAR                             0.054856         NaN         0.024073   \n",
              "CIVIL MARRIAGE                      0.034832         NaN         0.030395   \n",
              "MARRIED                            -0.066136         NaN         0.021441   \n",
              "SEPARATED                          -0.007427         NaN         0.007407   \n",
              "WIDOW                               0.020036         NaN         0.004155   \n",
              "COMMERCIAL ASSOCIATE                0.064177         NaN        -0.104941   \n",
              "PENSIONER                          -0.005727         NaN        -0.006698   \n",
              "STATE SERVANT                      -0.118015         NaN         0.016592   \n",
              "STUDENT                            -0.019563         NaN        -0.019732   \n",
              "HIGHER EDUCATION                    0.014674         NaN         0.002852   \n",
              "INCOMPLETE HIGHER                   0.042775         NaN         0.038002   \n",
              "LOWER SECONDARY                     0.016125         NaN         0.040300   \n",
              "SECONDARY / SECONDARY SPECIAL      -0.035172         NaN        -0.025378   \n",
              "CO-OP APARTMENT                     0.035577         NaN         0.020008   \n",
              "MUNICIPAL APARTMENT                 0.007614         NaN        -0.028501   \n",
              "OFFICE APARTMENT                    0.009199         NaN        -0.040286   \n",
              "RENTED APARTMENT                    0.018186         NaN        -0.034025   \n",
              "WITH PARENTS                        0.071711         NaN         0.028203   \n",
              "ACCOUNTANTS                        -0.024215         NaN         0.002265   \n",
              "CLEANING STAFF                      0.038544         NaN        -0.006131   \n",
              "COOKING STAFF                       0.016510         NaN        -0.029111   \n",
              "CORE STAFF                         -0.016661         NaN         0.019483   \n",
              "DRIVERS                             0.074174         NaN         0.013577   \n",
              "HR STAFF                            0.002358         NaN        -0.022983   \n",
              "HIGH SKILL TECH STAFF              -0.043415         NaN        -0.005457   \n",
              "IT STAFF                            0.032760         NaN        -0.042706   \n",
              "LOW-SKILL LABORERS                  0.018040         NaN         0.006782   \n",
              "MANAGERS                           -0.065126         NaN         0.029601   \n",
              "MEDICINE STAFF                     -0.159693         NaN        -0.000679   \n",
              "PRIVATE SERVICE STAFF              -0.002983         NaN        -0.006394   \n",
              "REALTY AGENTS                       0.001945         NaN        -0.000400   \n",
              "SALES STAFF                         0.104739         NaN        -0.017740   \n",
              "SECRETARIES                        -0.011456         NaN         0.008274   \n",
              "SECURITY STAFF                      0.066824         NaN        -0.010161   \n",
              "WAITERS/BARMEN STAFF                0.025715         NaN         0.027750   \n",
              "DEFAULTED                           0.091458         NaN         0.016691   \n",
              "\n",
              "                               FLAG_PHONE  FLAG_EMAIL  CNT_FAM_MEMBERS  \\\n",
              "CNT_CHILDREN                    -0.000722   -0.011569         0.894908   \n",
              "AMT_INCOME_TOTAL                 0.011040    0.083245        -0.042827   \n",
              "DAYS_BIRTH                      -0.030930    0.043278         0.190099   \n",
              "DAYS_EMPLOYED                   -0.048561    0.065863        -0.000114   \n",
              "FLAG_MOBIL                            NaN         NaN              NaN   \n",
              "FLAG_WORK_PHONE                  0.352535   -0.100592         0.036082   \n",
              "FLAG_PHONE                       1.000000    0.016148         0.000704   \n",
              "FLAG_EMAIL                       0.016148    1.000000        -0.002861   \n",
              "CNT_FAM_MEMBERS                  0.000704   -0.002861         1.000000   \n",
              "FEMALE                           0.051778   -0.008135         0.016556   \n",
              "HAS_REALTY                      -0.061247    0.064480        -0.016719   \n",
              "HAS_CAR                         -0.036009    0.002608         0.103117   \n",
              "CIVIL MARRIAGE                  -0.040230    0.020291         0.055148   \n",
              "MARRIED                          0.025697    0.005723         0.496142   \n",
              "SEPARATED                        0.045282   -0.002539        -0.220254   \n",
              "WIDOW                           -0.000578   -0.027381        -0.193017   \n",
              "COMMERCIAL ASSOCIATE             0.011973    0.069530        -0.025218   \n",
              "PENSIONER                        0.025283    0.012113         0.007899   \n",
              "STATE SERVANT                    0.006245   -0.009051         0.044139   \n",
              "STUDENT                         -0.020424    0.096236        -0.009137   \n",
              "HIGHER EDUCATION                 0.043352    0.108229        -0.001557   \n",
              "INCOMPLETE HIGHER                0.035001   -0.038635         0.016813   \n",
              "LOWER SECONDARY                  0.011407   -0.016631        -0.013208   \n",
              "SECONDARY / SECONDARY SPECIAL   -0.057735   -0.084913        -0.003511   \n",
              "CO-OP APARTMENT                 -0.036378   -0.028217        -0.015755   \n",
              "MUNICIPAL APARTMENT              0.026657   -0.002736        -0.002985   \n",
              "OFFICE APARTMENT                -0.042173   -0.012637         0.008186   \n",
              "RENTED APARTMENT                -0.053986    0.041608        -0.058767   \n",
              "WITH PARENTS                    -0.025389   -0.041589         0.020417   \n",
              "ACCOUNTANTS                      0.005317    0.005565         0.013356   \n",
              "CLEANING STAFF                  -0.025911   -0.027381        -0.033668   \n",
              "COOKING STAFF                    0.001531   -0.020923        -0.029716   \n",
              "CORE STAFF                       0.028020    0.075066         0.061818   \n",
              "DRIVERS                         -0.025074    0.005283         0.008864   \n",
              "HR STAFF                         0.001340    0.039169        -0.035131   \n",
              "HIGH SKILL TECH STAFF            0.076220    0.008644         0.006023   \n",
              "IT STAFF                        -0.000594    0.043073        -0.014581   \n",
              "LOW-SKILL LABORERS              -0.004247    0.005021        -0.000264   \n",
              "MANAGERS                         0.015247   -0.008646         0.027289   \n",
              "MEDICINE STAFF                   0.019002   -0.013223         0.018303   \n",
              "PRIVATE SERVICE STAFF            0.010742    0.025010        -0.057849   \n",
              "REALTY AGENTS                    0.010010    0.016871         0.005912   \n",
              "SALES STAFF                     -0.013832   -0.034443         0.018676   \n",
              "SECRETARIES                      0.014184   -0.002491        -0.004074   \n",
              "SECURITY STAFF                  -0.029662    0.053606        -0.011247   \n",
              "WAITERS/BARMEN STAFF            -0.008653   -0.005029        -0.002882   \n",
              "DEFAULTED                        0.012386    0.003295        -0.007894   \n",
              "\n",
              "                                 FEMALE  ...  LOW-SKILL LABORERS  MANAGERS  \\\n",
              "CNT_CHILDREN                   0.041338  ...           -0.018996  0.004364   \n",
              "AMT_INCOME_TOTAL              -0.191181  ...           -0.063151  0.265880   \n",
              "DAYS_BIRTH                    -0.088344  ...           -0.018651 -0.047908   \n",
              "DAYS_EMPLOYED                 -0.131024  ...            0.018040 -0.065126   \n",
              "FLAG_MOBIL                          NaN  ...                 NaN       NaN   \n",
              "FLAG_WORK_PHONE               -0.023897  ...            0.006782  0.029601   \n",
              "FLAG_PHONE                     0.051778  ...           -0.004247  0.015247   \n",
              "FLAG_EMAIL                    -0.008135  ...            0.005021 -0.008646   \n",
              "CNT_FAM_MEMBERS                0.016556  ...           -0.000264  0.027289   \n",
              "FEMALE                         1.000000  ...           -0.074571 -0.071067   \n",
              "HAS_REALTY                     0.055342  ...            0.001351  0.011950   \n",
              "HAS_CAR                       -0.331963  ...           -0.036387  0.082568   \n",
              "CIVIL MARRIAGE                 0.051239  ...            0.066389 -0.023376   \n",
              "MARRIED                       -0.072105  ...           -0.022492  0.059520   \n",
              "SEPARATED                      0.057486  ...           -0.007407 -0.025672   \n",
              "WIDOW                          0.105928  ...           -0.014339 -0.015652   \n",
              "COMMERCIAL ASSOCIATE           0.014901  ...            0.014764  0.049734   \n",
              "PENSIONER                     -0.010442  ...            0.048451 -0.009704   \n",
              "STATE SERVANT                  0.082338  ...           -0.018724  0.025614   \n",
              "STUDENT                        0.025327  ...           -0.003024 -0.012092   \n",
              "HIGHER EDUCATION               0.053071  ...           -0.045938  0.213843   \n",
              "INCOMPLETE HIGHER             -0.031899  ...           -0.019264  0.049335   \n",
              "LOWER SECONDARY               -0.001087  ...           -0.008402 -0.033597   \n",
              "SECONDARY / SECONDARY SPECIAL -0.038308  ...            0.053725 -0.219469   \n",
              "CO-OP APARTMENT               -0.007539  ...           -0.008026  0.004572   \n",
              "MUNICIPAL APARTMENT           -0.028415  ...            0.001367  0.004828   \n",
              "OFFICE APARTMENT              -0.049569  ...            0.037708 -0.030515   \n",
              "RENTED APARTMENT              -0.011295  ...           -0.013541 -0.039467   \n",
              "WITH PARENTS                  -0.049898  ...           -0.023074 -0.065434   \n",
              "ACCOUNTANTS                    0.164683  ...           -0.021941 -0.087734   \n",
              "CLEANING STAFF                 0.110650  ...           -0.014339 -0.057338   \n",
              "COOKING STAFF                  0.080060  ...           -0.014560 -0.058221   \n",
              "CORE STAFF                     0.156250  ...           -0.038688 -0.154701   \n",
              "DRIVERS                       -0.356605  ...           -0.029969 -0.119837   \n",
              "HR STAFF                       0.046297  ...           -0.005528 -0.022104   \n",
              "HIGH SKILL TECH STAFF          0.049538  ...           -0.023661 -0.094612   \n",
              "IT STAFF                      -0.006148  ...           -0.006545 -0.026172   \n",
              "LOW-SKILL LABORERS            -0.074571  ...            1.000000 -0.035740   \n",
              "MANAGERS                      -0.071067  ...           -0.035740  1.000000   \n",
              "MEDICINE STAFF                 0.148899  ...           -0.019856 -0.079399   \n",
              "PRIVATE SERVICE STAFF          0.069154  ...           -0.010535 -0.042127   \n",
              "REALTY AGENTS                  0.037108  ...           -0.005799 -0.023187   \n",
              "SALES STAFF                    0.199247  ...           -0.036680 -0.146672   \n",
              "SECRETARIES                    0.068810  ...           -0.008216 -0.032853   \n",
              "SECURITY STAFF                -0.126654  ...           -0.014669 -0.058657   \n",
              "WAITERS/BARMEN STAFF           0.031728  ...           -0.006306 -0.025215   \n",
              "DEFAULTED                     -0.058627  ...            0.044165 -0.016934   \n",
              "\n",
              "                               MEDICINE STAFF  PRIVATE SERVICE STAFF  \\\n",
              "CNT_CHILDREN                         0.007797              -0.032138   \n",
              "AMT_INCOME_TOTAL                    -0.071976               0.002903   \n",
              "DAYS_BIRTH                          -0.040858              -0.011974   \n",
              "DAYS_EMPLOYED                       -0.159693              -0.002983   \n",
              "FLAG_MOBIL                                NaN                    NaN   \n",
              "FLAG_WORK_PHONE                     -0.000679              -0.006394   \n",
              "FLAG_PHONE                           0.019002               0.010742   \n",
              "FLAG_EMAIL                          -0.013223               0.025010   \n",
              "CNT_FAM_MEMBERS                      0.018303              -0.057849   \n",
              "FEMALE                               0.148899               0.069154   \n",
              "HAS_REALTY                           0.002728               0.017536   \n",
              "HAS_CAR                             -0.034917              -0.057360   \n",
              "CIVIL MARRIAGE                      -0.024084               0.024527   \n",
              "MARRIED                              0.039399              -0.078384   \n",
              "SEPARATED                           -0.007430               0.039717   \n",
              "WIDOW                               -0.020431               0.087490   \n",
              "COMMERCIAL ASSOCIATE                -0.046452               0.021130   \n",
              "PENSIONER                            0.011498              -0.007433   \n",
              "STATE SERVANT                        0.148495              -0.026091   \n",
              "STUDENT                             -0.006718              -0.003565   \n",
              "HIGHER EDUCATION                    -0.059672              -0.032315   \n",
              "INCOMPLETE HIGHER                   -0.042796              -0.022706   \n",
              "LOWER SECONDARY                      0.038961              -0.009904   \n",
              "SECONDARY / SECONDARY SPECIAL        0.067916               0.042325   \n",
              "CO-OP APARTMENT                      0.002266              -0.009460   \n",
              "MUNICIPAL APARTMENT                 -0.013097              -0.021465   \n",
              "OFFICE APARTMENT                    -0.016954              -0.008995   \n",
              "RENTED APARTMENT                    -0.005946              -0.015961   \n",
              "WITH PARENTS                         0.029626              -0.000321   \n",
              "ACCOUNTANTS                         -0.048743              -0.025862   \n",
              "CLEANING STAFF                      -0.031856              -0.016902   \n",
              "COOKING STAFF                       -0.032346              -0.017162   \n",
              "CORE STAFF                          -0.085949              -0.045602   \n",
              "DRIVERS                             -0.066579              -0.035325   \n",
              "HR STAFF                            -0.012281              -0.006516   \n",
              "HIGH SKILL TECH STAFF               -0.052564              -0.027889   \n",
              "IT STAFF                            -0.014540              -0.007715   \n",
              "LOW-SKILL LABORERS                  -0.019856              -0.010535   \n",
              "MANAGERS                            -0.079399              -0.042127   \n",
              "MEDICINE STAFF                       1.000000              -0.023405   \n",
              "PRIVATE SERVICE STAFF               -0.023405               1.000000   \n",
              "REALTY AGENTS                       -0.012882              -0.006835   \n",
              "SALES STAFF                         -0.081487              -0.043235   \n",
              "SECRETARIES                         -0.018252              -0.009684   \n",
              "SECURITY STAFF                      -0.032589              -0.017291   \n",
              "WAITERS/BARMEN STAFF                -0.014009              -0.007433   \n",
              "DEFAULTED                           -0.037794              -0.028021   \n",
              "\n",
              "                               REALTY AGENTS  SALES STAFF  SECRETARIES  \\\n",
              "CNT_CHILDREN                       -0.010953     0.011318    -0.000360   \n",
              "AMT_INCOME_TOTAL                    0.051046    -0.098261    -0.043555   \n",
              "DAYS_BIRTH                         -0.003604     0.054137    -0.003033   \n",
              "DAYS_EMPLOYED                       0.001945     0.104739    -0.011456   \n",
              "FLAG_MOBIL                               NaN          NaN          NaN   \n",
              "FLAG_WORK_PHONE                    -0.000400    -0.017740     0.008274   \n",
              "FLAG_PHONE                          0.010010    -0.013832     0.014184   \n",
              "FLAG_EMAIL                          0.016871    -0.034443    -0.002491   \n",
              "CNT_FAM_MEMBERS                     0.005912     0.018676    -0.004074   \n",
              "FEMALE                              0.037108     0.199247     0.068810   \n",
              "HAS_REALTY                         -0.013035    -0.007305    -0.001938   \n",
              "HAS_CAR                            -0.007100    -0.083052    -0.042066   \n",
              "CIVIL MARRIAGE                     -0.018011     0.039300     0.018316   \n",
              "MARRIED                             0.041379    -0.001948    -0.018054   \n",
              "SEPARATED                          -0.015018    -0.025013    -0.021278   \n",
              "WIDOW                              -0.009303     0.022931     0.013462   \n",
              "COMMERCIAL ASSOCIATE                0.074322     0.056244    -0.027199   \n",
              "PENSIONER                          -0.004091    -0.025879    -0.005797   \n",
              "STATE SERVANT                      -0.020114    -0.120411     0.038204   \n",
              "STUDENT                            -0.001962    -0.012410    -0.002780   \n",
              "HIGHER EDUCATION                   -0.040104    -0.057361     0.029419   \n",
              "INCOMPLETE HIGHER                   0.044504     0.019069     0.042866   \n",
              "LOWER SECONDARY                    -0.005451    -0.023022    -0.007723   \n",
              "SECONDARY / SECONDARY SPECIAL       0.021344     0.049759    -0.044417   \n",
              "CO-OP APARTMENT                    -0.005207     0.003027    -0.007377   \n",
              "MUNICIPAL APARTMENT                -0.011814     0.050387     0.004529   \n",
              "OFFICE APARTMENT                   -0.004951    -0.031318    -0.007015   \n",
              "RENTED APARTMENT                   -0.008785    -0.005178    -0.012447   \n",
              "WITH PARENTS                       -0.014970    -0.006964     0.013088   \n",
              "ACCOUNTANTS                        -0.014234    -0.090042    -0.020169   \n",
              "CLEANING STAFF                     -0.009303    -0.058846    -0.013181   \n",
              "COOKING STAFF                      -0.009446    -0.059752    -0.013384   \n",
              "CORE STAFF                         -0.025100    -0.158770    -0.035563   \n",
              "DRIVERS                            -0.019443    -0.122989    -0.027548   \n",
              "HR STAFF                           -0.003586    -0.022685    -0.005081   \n",
              "HIGH SKILL TECH STAFF              -0.015350    -0.097101    -0.021750   \n",
              "IT STAFF                           -0.004246    -0.026860    -0.006016   \n",
              "LOW-SKILL LABORERS                 -0.005799    -0.036680    -0.008216   \n",
              "MANAGERS                           -0.023187    -0.146672    -0.032853   \n",
              "MEDICINE STAFF                     -0.012882    -0.081487    -0.018252   \n",
              "PRIVATE SERVICE STAFF              -0.006835    -0.043235    -0.009684   \n",
              "REALTY AGENTS                       1.000000    -0.023797    -0.005330   \n",
              "SALES STAFF                        -0.023797     1.000000    -0.033717   \n",
              "SECRETARIES                        -0.005330    -0.033717     1.000000   \n",
              "SECURITY STAFF                     -0.009517    -0.060200    -0.013484   \n",
              "WAITERS/BARMEN STAFF               -0.004091    -0.025879    -0.005797   \n",
              "DEFAULTED                          -0.025134    -0.029407    -0.013096   \n",
              "\n",
              "                               SECURITY STAFF  WAITERS/BARMEN STAFF  DEFAULTED  \n",
              "CNT_CHILDREN                        -0.027969             -0.003558   0.002030  \n",
              "AMT_INCOME_TOTAL                     0.007905             -0.034724   0.012906  \n",
              "DAYS_BIRTH                          -0.109417              0.037646   0.015281  \n",
              "DAYS_EMPLOYED                        0.066824              0.025715   0.091458  \n",
              "FLAG_MOBIL                                NaN                   NaN        NaN  \n",
              "FLAG_WORK_PHONE                     -0.010161              0.027750   0.016691  \n",
              "FLAG_PHONE                          -0.029662             -0.008653   0.012386  \n",
              "FLAG_EMAIL                           0.053606             -0.005029   0.003295  \n",
              "CNT_FAM_MEMBERS                     -0.011247             -0.002882  -0.007894  \n",
              "FEMALE                              -0.126654              0.031728  -0.058627  \n",
              "HAS_REALTY                          -0.021854             -0.015152  -0.061044  \n",
              "HAS_CAR                             -0.013820             -0.036065  -0.001123  \n",
              "CIVIL MARRIAGE                      -0.012292              0.037350  -0.005392  \n",
              "MARRIED                              0.031923             -0.021402  -0.027246  \n",
              "SEPARATED                           -0.008786              0.005880  -0.037278  \n",
              "WIDOW                                0.037135             -0.010117   0.036091  \n",
              "COMMERCIAL ASSOCIATE                 0.019783              0.004679   0.005196  \n",
              "PENSIONER                           -0.010349             -0.004449   0.162769  \n",
              "STATE SERVANT                       -0.035696              0.030110  -0.039282  \n",
              "STUDENT                             -0.004963             -0.002134  -0.013108  \n",
              "HIGHER EDUCATION                    -0.052359             -0.010007   0.003425  \n",
              "INCOMPLETE HIGHER                   -0.008628             -0.013591   0.020735  \n",
              "LOWER SECONDARY                     -0.013790             -0.005928   0.029658  \n",
              "SECONDARY / SECONDARY SPECIAL        0.056572              0.016355  -0.017012  \n",
              "CO-OP APARTMENT                     -0.013172             -0.005662  -0.000224  \n",
              "MUNICIPAL APARTMENT                  0.042758             -0.012848   0.020406  \n",
              "OFFICE APARTMENT                     0.099634             -0.005384   0.027463  \n",
              "RENTED APARTMENT                     0.025843             -0.009554  -0.017180  \n",
              "WITH PARENTS                        -0.018344             -0.016279   0.005379  \n",
              "ACCOUNTANTS                         -0.036010             -0.015480   0.006318  \n",
              "CLEANING STAFF                      -0.023534             -0.010117  -0.029405  \n",
              "COOKING STAFF                       -0.023896             -0.010272  -0.005017  \n",
              "CORE STAFF                          -0.063496             -0.027295   0.037310  \n",
              "DRIVERS                             -0.049186             -0.021144   0.035284  \n",
              "HR STAFF                            -0.009072             -0.003900  -0.007296  \n",
              "HIGH SKILL TECH STAFF               -0.038833             -0.016693   0.021134  \n",
              "IT STAFF                            -0.010742             -0.004618   0.013911  \n",
              "LOW-SKILL LABORERS                  -0.014669             -0.006306   0.044165  \n",
              "MANAGERS                            -0.058657             -0.025215  -0.016934  \n",
              "MEDICINE STAFF                      -0.032589             -0.014009  -0.037794  \n",
              "PRIVATE SERVICE STAFF               -0.017291             -0.007433  -0.028021  \n",
              "REALTY AGENTS                       -0.009517             -0.004091  -0.025134  \n",
              "SALES STAFF                         -0.060200             -0.025879  -0.029407  \n",
              "SECRETARIES                         -0.013484             -0.005797  -0.013096  \n",
              "SECURITY STAFF                       1.000000             -0.010349   0.019734  \n",
              "WAITERS/BARMEN STAFF                -0.010349              1.000000   0.001913  \n",
              "DEFAULTED                            0.019734              0.001913   1.000000  \n",
              "\n",
              "[47 rows x 47 columns]"
            ],
            "text/html": [
              "\n",
              "  <div id=\"df-a461e657-7b95-48b1-b9d8-c009666d10cd\">\n",
              "    <div class=\"colab-df-container\">\n",
              "      <div>\n",
              "<style scoped>\n",
              "    .dataframe tbody tr th:only-of-type {\n",
              "        vertical-align: middle;\n",
              "    }\n",
              "\n",
              "    .dataframe tbody tr th {\n",
              "        vertical-align: top;\n",
              "    }\n",
              "\n",
              "    .dataframe thead th {\n",
              "        text-align: right;\n",
              "    }\n",
              "</style>\n",
              "<table border=\"1\" class=\"dataframe\">\n",
              "  <thead>\n",
              "    <tr style=\"text-align: right;\">\n",
              "      <th></th>\n",
              "      <th>CNT_CHILDREN</th>\n",
              "      <th>AMT_INCOME_TOTAL</th>\n",
              "      <th>DAYS_BIRTH</th>\n",
              "      <th>DAYS_EMPLOYED</th>\n",
              "      <th>FLAG_MOBIL</th>\n",
              "      <th>FLAG_WORK_PHONE</th>\n",
              "      <th>FLAG_PHONE</th>\n",
              "      <th>FLAG_EMAIL</th>\n",
              "      <th>CNT_FAM_MEMBERS</th>\n",
              "      <th>FEMALE</th>\n",
              "      <th>...</th>\n",
              "      <th>LOW-SKILL LABORERS</th>\n",
              "      <th>MANAGERS</th>\n",
              "      <th>MEDICINE STAFF</th>\n",
              "      <th>PRIVATE SERVICE STAFF</th>\n",
              "      <th>REALTY AGENTS</th>\n",
              "      <th>SALES STAFF</th>\n",
              "      <th>SECRETARIES</th>\n",
              "      <th>SECURITY STAFF</th>\n",
              "      <th>WAITERS/BARMEN STAFF</th>\n",
              "      <th>DEFAULTED</th>\n",
              "    </tr>\n",
              "  </thead>\n",
              "  <tbody>\n",
              "    <tr>\n",
              "      <th>CNT_CHILDREN</th>\n",
              "      <td>1.000000</td>\n",
              "      <td>-0.028367</td>\n",
              "      <td>0.244459</td>\n",
              "      <td>0.028190</td>\n",
              "      <td>NaN</td>\n",
              "      <td>0.019392</td>\n",
              "      <td>-0.000722</td>\n",
              "      <td>-0.011569</td>\n",
              "      <td>0.894908</td>\n",
              "      <td>0.041338</td>\n",
              "      <td>...</td>\n",
              "      <td>-0.018996</td>\n",
              "      <td>0.004364</td>\n",
              "      <td>0.007797</td>\n",
              "      <td>-0.032138</td>\n",
              "      <td>-0.010953</td>\n",
              "      <td>0.011318</td>\n",
              "      <td>-0.000360</td>\n",
              "      <td>-0.027969</td>\n",
              "      <td>-0.003558</td>\n",
              "      <td>0.002030</td>\n",
              "    </tr>\n",
              "    <tr>\n",
              "      <th>AMT_INCOME_TOTAL</th>\n",
              "      <td>-0.028367</td>\n",
              "      <td>1.000000</td>\n",
              "      <td>-0.058118</td>\n",
              "      <td>-0.031333</td>\n",
              "      <td>NaN</td>\n",
              "      <td>-0.071839</td>\n",
              "      <td>0.011040</td>\n",
              "      <td>0.083245</td>\n",
              "      <td>-0.042827</td>\n",
              "      <td>-0.191181</td>\n",
              "      <td>...</td>\n",
              "      <td>-0.063151</td>\n",
              "      <td>0.265880</td>\n",
              "      <td>-0.071976</td>\n",
              "      <td>0.002903</td>\n",
              "      <td>0.051046</td>\n",
              "      <td>-0.098261</td>\n",
              "      <td>-0.043555</td>\n",
              "      <td>0.007905</td>\n",
              "      <td>-0.034724</td>\n",
              "      <td>0.012906</td>\n",
              "    </tr>\n",
              "    <tr>\n",
              "      <th>DAYS_BIRTH</th>\n",
              "      <td>0.244459</td>\n",
              "      <td>-0.058118</td>\n",
              "      <td>1.000000</td>\n",
              "      <td>0.310082</td>\n",
              "      <td>NaN</td>\n",
              "      <td>0.043393</td>\n",
              "      <td>-0.030930</td>\n",
              "      <td>0.043278</td>\n",
              "      <td>0.190099</td>\n",
              "      <td>-0.088344</td>\n",
              "      <td>...</td>\n",
              "      <td>-0.018651</td>\n",
              "      <td>-0.047908</td>\n",
              "      <td>-0.040858</td>\n",
              "      <td>-0.011974</td>\n",
              "      <td>-0.003604</td>\n",
              "      <td>0.054137</td>\n",
              "      <td>-0.003033</td>\n",
              "      <td>-0.109417</td>\n",
              "      <td>0.037646</td>\n",
              "      <td>0.015281</td>\n",
              "    </tr>\n",
              "    <tr>\n",
              "      <th>DAYS_EMPLOYED</th>\n",
              "      <td>0.028190</td>\n",
              "      <td>-0.031333</td>\n",
              "      <td>0.310082</td>\n",
              "      <td>1.000000</td>\n",
              "      <td>NaN</td>\n",
              "      <td>-0.019358</td>\n",
              "      <td>-0.048561</td>\n",
              "      <td>0.065863</td>\n",
              "      <td>-0.000114</td>\n",
              "      <td>-0.131024</td>\n",
              "      <td>...</td>\n",
              "      <td>0.018040</td>\n",
              "      <td>-0.065126</td>\n",
              "      <td>-0.159693</td>\n",
              "      <td>-0.002983</td>\n",
              "      <td>0.001945</td>\n",
              "      <td>0.104739</td>\n",
              "      <td>-0.011456</td>\n",
              "      <td>0.066824</td>\n",
              "      <td>0.025715</td>\n",
              "      <td>0.091458</td>\n",
              "    </tr>\n",
              "    <tr>\n",
              "      <th>FLAG_MOBIL</th>\n",
              "      <td>NaN</td>\n",
              "      <td>NaN</td>\n",
              "      <td>NaN</td>\n",
              "      <td>NaN</td>\n",
              "      <td>NaN</td>\n",
              "      <td>NaN</td>\n",
              "      <td>NaN</td>\n",
              "      <td>NaN</td>\n",
              "      <td>NaN</td>\n",
              "      <td>NaN</td>\n",
              "      <td>...</td>\n",
              "      <td>NaN</td>\n",
              "      <td>NaN</td>\n",
              "      <td>NaN</td>\n",
              "      <td>NaN</td>\n",
              "      <td>NaN</td>\n",
              "      <td>NaN</td>\n",
              "      <td>NaN</td>\n",
              "      <td>NaN</td>\n",
              "      <td>NaN</td>\n",
              "      <td>NaN</td>\n",
              "    </tr>\n",
              "    <tr>\n",
              "      <th>FLAG_WORK_PHONE</th>\n",
              "      <td>0.019392</td>\n",
              "      <td>-0.071839</td>\n",
              "      <td>0.043393</td>\n",
              "      <td>-0.019358</td>\n",
              "      <td>NaN</td>\n",
              "      <td>1.000000</td>\n",
              "      <td>0.352535</td>\n",
              "      <td>-0.100592</td>\n",
              "      <td>0.036082</td>\n",
              "      <td>-0.023897</td>\n",
              "      <td>...</td>\n",
              "      <td>0.006782</td>\n",
              "      <td>0.029601</td>\n",
              "      <td>-0.000679</td>\n",
              "      <td>-0.006394</td>\n",
              "      <td>-0.000400</td>\n",
              "      <td>-0.017740</td>\n",
              "      <td>0.008274</td>\n",
              "      <td>-0.010161</td>\n",
              "      <td>0.027750</td>\n",
              "      <td>0.016691</td>\n",
              "    </tr>\n",
              "    <tr>\n",
              "      <th>FLAG_PHONE</th>\n",
              "      <td>-0.000722</td>\n",
              "      <td>0.011040</td>\n",
              "      <td>-0.030930</td>\n",
              "      <td>-0.048561</td>\n",
              "      <td>NaN</td>\n",
              "      <td>0.352535</td>\n",
              "      <td>1.000000</td>\n",
              "      <td>0.016148</td>\n",
              "      <td>0.000704</td>\n",
              "      <td>0.051778</td>\n",
              "      <td>...</td>\n",
              "      <td>-0.004247</td>\n",
              "      <td>0.015247</td>\n",
              "      <td>0.019002</td>\n",
              "      <td>0.010742</td>\n",
              "      <td>0.010010</td>\n",
              "      <td>-0.013832</td>\n",
              "      <td>0.014184</td>\n",
              "      <td>-0.029662</td>\n",
              "      <td>-0.008653</td>\n",
              "      <td>0.012386</td>\n",
              "    </tr>\n",
              "    <tr>\n",
              "      <th>FLAG_EMAIL</th>\n",
              "      <td>-0.011569</td>\n",
              "      <td>0.083245</td>\n",
              "      <td>0.043278</td>\n",
              "      <td>0.065863</td>\n",
              "      <td>NaN</td>\n",
              "      <td>-0.100592</td>\n",
              "      <td>0.016148</td>\n",
              "      <td>1.000000</td>\n",
              "      <td>-0.002861</td>\n",
              "      <td>-0.008135</td>\n",
              "      <td>...</td>\n",
              "      <td>0.005021</td>\n",
              "      <td>-0.008646</td>\n",
              "      <td>-0.013223</td>\n",
              "      <td>0.025010</td>\n",
              "      <td>0.016871</td>\n",
              "      <td>-0.034443</td>\n",
              "      <td>-0.002491</td>\n",
              "      <td>0.053606</td>\n",
              "      <td>-0.005029</td>\n",
              "      <td>0.003295</td>\n",
              "    </tr>\n",
              "    <tr>\n",
              "      <th>CNT_FAM_MEMBERS</th>\n",
              "      <td>0.894908</td>\n",
              "      <td>-0.042827</td>\n",
              "      <td>0.190099</td>\n",
              "      <td>-0.000114</td>\n",
              "      <td>NaN</td>\n",
              "      <td>0.036082</td>\n",
              "      <td>0.000704</td>\n",
              "      <td>-0.002861</td>\n",
              "      <td>1.000000</td>\n",
              "      <td>0.016556</td>\n",
              "      <td>...</td>\n",
              "      <td>-0.000264</td>\n",
              "      <td>0.027289</td>\n",
              "      <td>0.018303</td>\n",
              "      <td>-0.057849</td>\n",
              "      <td>0.005912</td>\n",
              "      <td>0.018676</td>\n",
              "      <td>-0.004074</td>\n",
              "      <td>-0.011247</td>\n",
              "      <td>-0.002882</td>\n",
              "      <td>-0.007894</td>\n",
              "    </tr>\n",
              "    <tr>\n",
              "      <th>FEMALE</th>\n",
              "      <td>0.041338</td>\n",
              "      <td>-0.191181</td>\n",
              "      <td>-0.088344</td>\n",
              "      <td>-0.131024</td>\n",
              "      <td>NaN</td>\n",
              "      <td>-0.023897</td>\n",
              "      <td>0.051778</td>\n",
              "      <td>-0.008135</td>\n",
              "      <td>0.016556</td>\n",
              "      <td>1.000000</td>\n",
              "      <td>...</td>\n",
              "      <td>-0.074571</td>\n",
              "      <td>-0.071067</td>\n",
              "      <td>0.148899</td>\n",
              "      <td>0.069154</td>\n",
              "      <td>0.037108</td>\n",
              "      <td>0.199247</td>\n",
              "      <td>0.068810</td>\n",
              "      <td>-0.126654</td>\n",
              "      <td>0.031728</td>\n",
              "      <td>-0.058627</td>\n",
              "    </tr>\n",
              "    <tr>\n",
              "      <th>HAS_REALTY</th>\n",
              "      <td>-0.013357</td>\n",
              "      <td>0.037472</td>\n",
              "      <td>-0.137130</td>\n",
              "      <td>-0.051443</td>\n",
              "      <td>NaN</td>\n",
              "      <td>-0.227267</td>\n",
              "      <td>-0.061247</td>\n",
              "      <td>0.064480</td>\n",
              "      <td>-0.016719</td>\n",
              "      <td>0.055342</td>\n",
              "      <td>...</td>\n",
              "      <td>0.001351</td>\n",
              "      <td>0.011950</td>\n",
              "      <td>0.002728</td>\n",
              "      <td>0.017536</td>\n",
              "      <td>-0.013035</td>\n",
              "      <td>-0.007305</td>\n",
              "      <td>-0.001938</td>\n",
              "      <td>-0.021854</td>\n",
              "      <td>-0.015152</td>\n",
              "      <td>-0.061044</td>\n",
              "    </tr>\n",
              "    <tr>\n",
              "      <th>HAS_CAR</th>\n",
              "      <td>0.043702</td>\n",
              "      <td>0.177988</td>\n",
              "      <td>0.067417</td>\n",
              "      <td>0.054856</td>\n",
              "      <td>NaN</td>\n",
              "      <td>0.024073</td>\n",
              "      <td>-0.036009</td>\n",
              "      <td>0.002608</td>\n",
              "      <td>0.103117</td>\n",
              "      <td>-0.331963</td>\n",
              "      <td>...</td>\n",
              "      <td>-0.036387</td>\n",
              "      <td>0.082568</td>\n",
              "      <td>-0.034917</td>\n",
              "      <td>-0.057360</td>\n",
              "      <td>-0.007100</td>\n",
              "      <td>-0.083052</td>\n",
              "      <td>-0.042066</td>\n",
              "      <td>-0.013820</td>\n",
              "      <td>-0.036065</td>\n",
              "      <td>-0.001123</td>\n",
              "    </tr>\n",
              "    <tr>\n",
              "      <th>CIVIL MARRIAGE</th>\n",
              "      <td>-0.019756</td>\n",
              "      <td>-0.038075</td>\n",
              "      <td>0.050858</td>\n",
              "      <td>0.034832</td>\n",
              "      <td>NaN</td>\n",
              "      <td>0.030395</td>\n",
              "      <td>-0.040230</td>\n",
              "      <td>0.020291</td>\n",
              "      <td>0.055148</td>\n",
              "      <td>0.051239</td>\n",
              "      <td>...</td>\n",
              "      <td>0.066389</td>\n",
              "      <td>-0.023376</td>\n",
              "      <td>-0.024084</td>\n",
              "      <td>0.024527</td>\n",
              "      <td>-0.018011</td>\n",
              "      <td>0.039300</td>\n",
              "      <td>0.018316</td>\n",
              "      <td>-0.012292</td>\n",
              "      <td>0.037350</td>\n",
              "      <td>-0.005392</td>\n",
              "    </tr>\n",
              "    <tr>\n",
              "      <th>MARRIED</th>\n",
              "      <td>0.176703</td>\n",
              "      <td>-0.013733</td>\n",
              "      <td>-0.046774</td>\n",
              "      <td>-0.066136</td>\n",
              "      <td>NaN</td>\n",
              "      <td>0.021441</td>\n",
              "      <td>0.025697</td>\n",
              "      <td>0.005723</td>\n",
              "      <td>0.496142</td>\n",
              "      <td>-0.072105</td>\n",
              "      <td>...</td>\n",
              "      <td>-0.022492</td>\n",
              "      <td>0.059520</td>\n",
              "      <td>0.039399</td>\n",
              "      <td>-0.078384</td>\n",
              "      <td>0.041379</td>\n",
              "      <td>-0.001948</td>\n",
              "      <td>-0.018054</td>\n",
              "      <td>0.031923</td>\n",
              "      <td>-0.021402</td>\n",
              "      <td>-0.027246</td>\n",
              "    </tr>\n",
              "    <tr>\n",
              "      <th>SEPARATED</th>\n",
              "      <td>-0.027428</td>\n",
              "      <td>0.027072</td>\n",
              "      <td>-0.084797</td>\n",
              "      <td>-0.007427</td>\n",
              "      <td>NaN</td>\n",
              "      <td>0.007407</td>\n",
              "      <td>0.045282</td>\n",
              "      <td>-0.002539</td>\n",
              "      <td>-0.220254</td>\n",
              "      <td>0.057486</td>\n",
              "      <td>...</td>\n",
              "      <td>-0.007407</td>\n",
              "      <td>-0.025672</td>\n",
              "      <td>-0.007430</td>\n",
              "      <td>0.039717</td>\n",
              "      <td>-0.015018</td>\n",
              "      <td>-0.025013</td>\n",
              "      <td>-0.021278</td>\n",
              "      <td>-0.008786</td>\n",
              "      <td>0.005880</td>\n",
              "      <td>-0.037278</td>\n",
              "    </tr>\n",
              "    <tr>\n",
              "      <th>WIDOW</th>\n",
              "      <td>-0.085877</td>\n",
              "      <td>-0.014724</td>\n",
              "      <td>-0.153427</td>\n",
              "      <td>0.020036</td>\n",
              "      <td>NaN</td>\n",
              "      <td>0.004155</td>\n",
              "      <td>-0.000578</td>\n",
              "      <td>-0.027381</td>\n",
              "      <td>-0.193017</td>\n",
              "      <td>0.105928</td>\n",
              "      <td>...</td>\n",
              "      <td>-0.014339</td>\n",
              "      <td>-0.015652</td>\n",
              "      <td>-0.020431</td>\n",
              "      <td>0.087490</td>\n",
              "      <td>-0.009303</td>\n",
              "      <td>0.022931</td>\n",
              "      <td>0.013462</td>\n",
              "      <td>0.037135</td>\n",
              "      <td>-0.010117</td>\n",
              "      <td>0.036091</td>\n",
              "    </tr>\n",
              "    <tr>\n",
              "      <th>COMMERCIAL ASSOCIATE</th>\n",
              "      <td>-0.016691</td>\n",
              "      <td>0.132871</td>\n",
              "      <td>0.017302</td>\n",
              "      <td>0.064177</td>\n",
              "      <td>NaN</td>\n",
              "      <td>-0.104941</td>\n",
              "      <td>0.011973</td>\n",
              "      <td>0.069530</td>\n",
              "      <td>-0.025218</td>\n",
              "      <td>0.014901</td>\n",
              "      <td>...</td>\n",
              "      <td>0.014764</td>\n",
              "      <td>0.049734</td>\n",
              "      <td>-0.046452</td>\n",
              "      <td>0.021130</td>\n",
              "      <td>0.074322</td>\n",
              "      <td>0.056244</td>\n",
              "      <td>-0.027199</td>\n",
              "      <td>0.019783</td>\n",
              "      <td>0.004679</td>\n",
              "      <td>0.005196</td>\n",
              "    </tr>\n",
              "    <tr>\n",
              "      <th>PENSIONER</th>\n",
              "      <td>0.009569</td>\n",
              "      <td>0.039630</td>\n",
              "      <td>-0.008942</td>\n",
              "      <td>-0.005727</td>\n",
              "      <td>NaN</td>\n",
              "      <td>-0.006698</td>\n",
              "      <td>0.025283</td>\n",
              "      <td>0.012113</td>\n",
              "      <td>0.007899</td>\n",
              "      <td>-0.010442</td>\n",
              "      <td>...</td>\n",
              "      <td>0.048451</td>\n",
              "      <td>-0.009704</td>\n",
              "      <td>0.011498</td>\n",
              "      <td>-0.007433</td>\n",
              "      <td>-0.004091</td>\n",
              "      <td>-0.025879</td>\n",
              "      <td>-0.005797</td>\n",
              "      <td>-0.010349</td>\n",
              "      <td>-0.004449</td>\n",
              "      <td>0.162769</td>\n",
              "    </tr>\n",
              "    <tr>\n",
              "      <th>STATE SERVANT</th>\n",
              "      <td>0.045007</td>\n",
              "      <td>0.036027</td>\n",
              "      <td>-0.020662</td>\n",
              "      <td>-0.118015</td>\n",
              "      <td>NaN</td>\n",
              "      <td>0.016592</td>\n",
              "      <td>0.006245</td>\n",
              "      <td>-0.009051</td>\n",
              "      <td>0.044139</td>\n",
              "      <td>0.082338</td>\n",
              "      <td>...</td>\n",
              "      <td>-0.018724</td>\n",
              "      <td>0.025614</td>\n",
              "      <td>0.148495</td>\n",
              "      <td>-0.026091</td>\n",
              "      <td>-0.020114</td>\n",
              "      <td>-0.120411</td>\n",
              "      <td>0.038204</td>\n",
              "      <td>-0.035696</td>\n",
              "      <td>0.030110</td>\n",
              "      <td>-0.039282</td>\n",
              "    </tr>\n",
              "    <tr>\n",
              "      <th>STUDENT</th>\n",
              "      <td>-0.020591</td>\n",
              "      <td>-0.008090</td>\n",
              "      <td>-0.037748</td>\n",
              "      <td>-0.019563</td>\n",
              "      <td>NaN</td>\n",
              "      <td>-0.019732</td>\n",
              "      <td>-0.020424</td>\n",
              "      <td>0.096236</td>\n",
              "      <td>-0.009137</td>\n",
              "      <td>0.025327</td>\n",
              "      <td>...</td>\n",
              "      <td>-0.003024</td>\n",
              "      <td>-0.012092</td>\n",
              "      <td>-0.006718</td>\n",
              "      <td>-0.003565</td>\n",
              "      <td>-0.001962</td>\n",
              "      <td>-0.012410</td>\n",
              "      <td>-0.002780</td>\n",
              "      <td>-0.004963</td>\n",
              "      <td>-0.002134</td>\n",
              "      <td>-0.013108</td>\n",
              "    </tr>\n",
              "    <tr>\n",
              "      <th>HIGHER EDUCATION</th>\n",
              "      <td>0.001575</td>\n",
              "      <td>0.171049</td>\n",
              "      <td>0.089808</td>\n",
              "      <td>0.014674</td>\n",
              "      <td>NaN</td>\n",
              "      <td>0.002852</td>\n",
              "      <td>0.043352</td>\n",
              "      <td>0.108229</td>\n",
              "      <td>-0.001557</td>\n",
              "      <td>0.053071</td>\n",
              "      <td>...</td>\n",
              "      <td>-0.045938</td>\n",
              "      <td>0.213843</td>\n",
              "      <td>-0.059672</td>\n",
              "      <td>-0.032315</td>\n",
              "      <td>-0.040104</td>\n",
              "      <td>-0.057361</td>\n",
              "      <td>0.029419</td>\n",
              "      <td>-0.052359</td>\n",
              "      <td>-0.010007</td>\n",
              "      <td>0.003425</td>\n",
              "    </tr>\n",
              "    <tr>\n",
              "      <th>INCOMPLETE HIGHER</th>\n",
              "      <td>0.015864</td>\n",
              "      <td>0.025407</td>\n",
              "      <td>0.146589</td>\n",
              "      <td>0.042775</td>\n",
              "      <td>NaN</td>\n",
              "      <td>0.038002</td>\n",
              "      <td>0.035001</td>\n",
              "      <td>-0.038635</td>\n",
              "      <td>0.016813</td>\n",
              "      <td>-0.031899</td>\n",
              "      <td>...</td>\n",
              "      <td>-0.019264</td>\n",
              "      <td>0.049335</td>\n",
              "      <td>-0.042796</td>\n",
              "      <td>-0.022706</td>\n",
              "      <td>0.044504</td>\n",
              "      <td>0.019069</td>\n",
              "      <td>0.042866</td>\n",
              "      <td>-0.008628</td>\n",
              "      <td>-0.013591</td>\n",
              "      <td>0.020735</td>\n",
              "    </tr>\n",
              "    <tr>\n",
              "      <th>LOWER SECONDARY</th>\n",
              "      <td>-0.022610</td>\n",
              "      <td>-0.039055</td>\n",
              "      <td>-0.006998</td>\n",
              "      <td>0.016125</td>\n",
              "      <td>NaN</td>\n",
              "      <td>0.040300</td>\n",
              "      <td>0.011407</td>\n",
              "      <td>-0.016631</td>\n",
              "      <td>-0.013208</td>\n",
              "      <td>-0.001087</td>\n",
              "      <td>...</td>\n",
              "      <td>-0.008402</td>\n",
              "      <td>-0.033597</td>\n",
              "      <td>0.038961</td>\n",
              "      <td>-0.009904</td>\n",
              "      <td>-0.005451</td>\n",
              "      <td>-0.023022</td>\n",
              "      <td>-0.007723</td>\n",
              "      <td>-0.013790</td>\n",
              "      <td>-0.005928</td>\n",
              "      <td>0.029658</td>\n",
              "    </tr>\n",
              "    <tr>\n",
              "      <th>SECONDARY / SECONDARY SPECIAL</th>\n",
              "      <td>-0.004300</td>\n",
              "      <td>-0.168247</td>\n",
              "      <td>-0.145849</td>\n",
              "      <td>-0.035172</td>\n",
              "      <td>NaN</td>\n",
              "      <td>-0.025378</td>\n",
              "      <td>-0.057735</td>\n",
              "      <td>-0.084913</td>\n",
              "      <td>-0.003511</td>\n",
              "      <td>-0.038308</td>\n",
              "      <td>...</td>\n",
              "      <td>0.053725</td>\n",
              "      <td>-0.219469</td>\n",
              "      <td>0.067916</td>\n",
              "      <td>0.042325</td>\n",
              "      <td>0.021344</td>\n",
              "      <td>0.049759</td>\n",
              "      <td>-0.044417</td>\n",
              "      <td>0.056572</td>\n",
              "      <td>0.016355</td>\n",
              "      <td>-0.017012</td>\n",
              "    </tr>\n",
              "    <tr>\n",
              "      <th>CO-OP APARTMENT</th>\n",
              "      <td>-0.008108</td>\n",
              "      <td>0.012005</td>\n",
              "      <td>-0.024438</td>\n",
              "      <td>0.035577</td>\n",
              "      <td>NaN</td>\n",
              "      <td>0.020008</td>\n",
              "      <td>-0.036378</td>\n",
              "      <td>-0.028217</td>\n",
              "      <td>-0.015755</td>\n",
              "      <td>-0.007539</td>\n",
              "      <td>...</td>\n",
              "      <td>-0.008026</td>\n",
              "      <td>0.004572</td>\n",
              "      <td>0.002266</td>\n",
              "      <td>-0.009460</td>\n",
              "      <td>-0.005207</td>\n",
              "      <td>0.003027</td>\n",
              "      <td>-0.007377</td>\n",
              "      <td>-0.013172</td>\n",
              "      <td>-0.005662</td>\n",
              "      <td>-0.000224</td>\n",
              "    </tr>\n",
              "    <tr>\n",
              "      <th>MUNICIPAL APARTMENT</th>\n",
              "      <td>0.012109</td>\n",
              "      <td>0.009422</td>\n",
              "      <td>-0.007358</td>\n",
              "      <td>0.007614</td>\n",
              "      <td>NaN</td>\n",
              "      <td>-0.028501</td>\n",
              "      <td>0.026657</td>\n",
              "      <td>-0.002736</td>\n",
              "      <td>-0.002985</td>\n",
              "      <td>-0.028415</td>\n",
              "      <td>...</td>\n",
              "      <td>0.001367</td>\n",
              "      <td>0.004828</td>\n",
              "      <td>-0.013097</td>\n",
              "      <td>-0.021465</td>\n",
              "      <td>-0.011814</td>\n",
              "      <td>0.050387</td>\n",
              "      <td>0.004529</td>\n",
              "      <td>0.042758</td>\n",
              "      <td>-0.012848</td>\n",
              "      <td>0.020406</td>\n",
              "    </tr>\n",
              "    <tr>\n",
              "      <th>OFFICE APARTMENT</th>\n",
              "      <td>-0.008486</td>\n",
              "      <td>0.048038</td>\n",
              "      <td>-0.020330</td>\n",
              "      <td>0.009199</td>\n",
              "      <td>NaN</td>\n",
              "      <td>-0.040286</td>\n",
              "      <td>-0.042173</td>\n",
              "      <td>-0.012637</td>\n",
              "      <td>0.008186</td>\n",
              "      <td>-0.049569</td>\n",
              "      <td>...</td>\n",
              "      <td>0.037708</td>\n",
              "      <td>-0.030515</td>\n",
              "      <td>-0.016954</td>\n",
              "      <td>-0.008995</td>\n",
              "      <td>-0.004951</td>\n",
              "      <td>-0.031318</td>\n",
              "      <td>-0.007015</td>\n",
              "      <td>0.099634</td>\n",
              "      <td>-0.005384</td>\n",
              "      <td>0.027463</td>\n",
              "    </tr>\n",
              "    <tr>\n",
              "      <th>RENTED APARTMENT</th>\n",
              "      <td>-0.036304</td>\n",
              "      <td>0.008713</td>\n",
              "      <td>0.074195</td>\n",
              "      <td>0.018186</td>\n",
              "      <td>NaN</td>\n",
              "      <td>-0.034025</td>\n",
              "      <td>-0.053986</td>\n",
              "      <td>0.041608</td>\n",
              "      <td>-0.058767</td>\n",
              "      <td>-0.011295</td>\n",
              "      <td>...</td>\n",
              "      <td>-0.013541</td>\n",
              "      <td>-0.039467</td>\n",
              "      <td>-0.005946</td>\n",
              "      <td>-0.015961</td>\n",
              "      <td>-0.008785</td>\n",
              "      <td>-0.005178</td>\n",
              "      <td>-0.012447</td>\n",
              "      <td>0.025843</td>\n",
              "      <td>-0.009554</td>\n",
              "      <td>-0.017180</td>\n",
              "    </tr>\n",
              "    <tr>\n",
              "      <th>WITH PARENTS</th>\n",
              "      <td>0.009396</td>\n",
              "      <td>-0.055223</td>\n",
              "      <td>0.185478</td>\n",
              "      <td>0.071711</td>\n",
              "      <td>NaN</td>\n",
              "      <td>0.028203</td>\n",
              "      <td>-0.025389</td>\n",
              "      <td>-0.041589</td>\n",
              "      <td>0.020417</td>\n",
              "      <td>-0.049898</td>\n",
              "      <td>...</td>\n",
              "      <td>-0.023074</td>\n",
              "      <td>-0.065434</td>\n",
              "      <td>0.029626</td>\n",
              "      <td>-0.000321</td>\n",
              "      <td>-0.014970</td>\n",
              "      <td>-0.006964</td>\n",
              "      <td>0.013088</td>\n",
              "      <td>-0.018344</td>\n",
              "      <td>-0.016279</td>\n",
              "      <td>0.005379</td>\n",
              "    </tr>\n",
              "    <tr>\n",
              "      <th>ACCOUNTANTS</th>\n",
              "      <td>0.008935</td>\n",
              "      <td>0.018449</td>\n",
              "      <td>0.020855</td>\n",
              "      <td>-0.024215</td>\n",
              "      <td>NaN</td>\n",
              "      <td>0.002265</td>\n",
              "      <td>0.005317</td>\n",
              "      <td>0.005565</td>\n",
              "      <td>0.013356</td>\n",
              "      <td>0.164683</td>\n",
              "      <td>...</td>\n",
              "      <td>-0.021941</td>\n",
              "      <td>-0.087734</td>\n",
              "      <td>-0.048743</td>\n",
              "      <td>-0.025862</td>\n",
              "      <td>-0.014234</td>\n",
              "      <td>-0.090042</td>\n",
              "      <td>-0.020169</td>\n",
              "      <td>-0.036010</td>\n",
              "      <td>-0.015480</td>\n",
              "      <td>0.006318</td>\n",
              "    </tr>\n",
              "    <tr>\n",
              "      <th>CLEANING STAFF</th>\n",
              "      <td>-0.009447</td>\n",
              "      <td>-0.046914</td>\n",
              "      <td>-0.131299</td>\n",
              "      <td>0.038544</td>\n",
              "      <td>NaN</td>\n",
              "      <td>-0.006131</td>\n",
              "      <td>-0.025911</td>\n",
              "      <td>-0.027381</td>\n",
              "      <td>-0.033668</td>\n",
              "      <td>0.110650</td>\n",
              "      <td>...</td>\n",
              "      <td>-0.014339</td>\n",
              "      <td>-0.057338</td>\n",
              "      <td>-0.031856</td>\n",
              "      <td>-0.016902</td>\n",
              "      <td>-0.009303</td>\n",
              "      <td>-0.058846</td>\n",
              "      <td>-0.013181</td>\n",
              "      <td>-0.023534</td>\n",
              "      <td>-0.010117</td>\n",
              "      <td>-0.029405</td>\n",
              "    </tr>\n",
              "    <tr>\n",
              "      <th>COOKING STAFF</th>\n",
              "      <td>-0.032505</td>\n",
              "      <td>-0.076710</td>\n",
              "      <td>-0.005681</td>\n",
              "      <td>0.016510</td>\n",
              "      <td>NaN</td>\n",
              "      <td>-0.029111</td>\n",
              "      <td>0.001531</td>\n",
              "      <td>-0.020923</td>\n",
              "      <td>-0.029716</td>\n",
              "      <td>0.080060</td>\n",
              "      <td>...</td>\n",
              "      <td>-0.014560</td>\n",
              "      <td>-0.058221</td>\n",
              "      <td>-0.032346</td>\n",
              "      <td>-0.017162</td>\n",
              "      <td>-0.009446</td>\n",
              "      <td>-0.059752</td>\n",
              "      <td>-0.013384</td>\n",
              "      <td>-0.023896</td>\n",
              "      <td>-0.010272</td>\n",
              "      <td>-0.005017</td>\n",
              "    </tr>\n",
              "    <tr>\n",
              "      <th>CORE STAFF</th>\n",
              "      <td>0.077260</td>\n",
              "      <td>0.027895</td>\n",
              "      <td>0.059177</td>\n",
              "      <td>-0.016661</td>\n",
              "      <td>NaN</td>\n",
              "      <td>0.019483</td>\n",
              "      <td>0.028020</td>\n",
              "      <td>0.075066</td>\n",
              "      <td>0.061818</td>\n",
              "      <td>0.156250</td>\n",
              "      <td>...</td>\n",
              "      <td>-0.038688</td>\n",
              "      <td>-0.154701</td>\n",
              "      <td>-0.085949</td>\n",
              "      <td>-0.045602</td>\n",
              "      <td>-0.025100</td>\n",
              "      <td>-0.158770</td>\n",
              "      <td>-0.035563</td>\n",
              "      <td>-0.063496</td>\n",
              "      <td>-0.027295</td>\n",
              "      <td>0.037310</td>\n",
              "    </tr>\n",
              "    <tr>\n",
              "      <th>DRIVERS</th>\n",
              "      <td>-0.008878</td>\n",
              "      <td>0.012154</td>\n",
              "      <td>-0.010646</td>\n",
              "      <td>0.074174</td>\n",
              "      <td>NaN</td>\n",
              "      <td>0.013577</td>\n",
              "      <td>-0.025074</td>\n",
              "      <td>0.005283</td>\n",
              "      <td>0.008864</td>\n",
              "      <td>-0.356605</td>\n",
              "      <td>...</td>\n",
              "      <td>-0.029969</td>\n",
              "      <td>-0.119837</td>\n",
              "      <td>-0.066579</td>\n",
              "      <td>-0.035325</td>\n",
              "      <td>-0.019443</td>\n",
              "      <td>-0.122989</td>\n",
              "      <td>-0.027548</td>\n",
              "      <td>-0.049186</td>\n",
              "      <td>-0.021144</td>\n",
              "      <td>0.035284</td>\n",
              "    </tr>\n",
              "    <tr>\n",
              "      <th>HR STAFF</th>\n",
              "      <td>-0.022680</td>\n",
              "      <td>-0.017364</td>\n",
              "      <td>-0.006643</td>\n",
              "      <td>0.002358</td>\n",
              "      <td>NaN</td>\n",
              "      <td>-0.022983</td>\n",
              "      <td>0.001340</td>\n",
              "      <td>0.039169</td>\n",
              "      <td>-0.035131</td>\n",
              "      <td>0.046297</td>\n",
              "      <td>...</td>\n",
              "      <td>-0.005528</td>\n",
              "      <td>-0.022104</td>\n",
              "      <td>-0.012281</td>\n",
              "      <td>-0.006516</td>\n",
              "      <td>-0.003586</td>\n",
              "      <td>-0.022685</td>\n",
              "      <td>-0.005081</td>\n",
              "      <td>-0.009072</td>\n",
              "      <td>-0.003900</td>\n",
              "      <td>-0.007296</td>\n",
              "    </tr>\n",
              "    <tr>\n",
              "      <th>HIGH SKILL TECH STAFF</th>\n",
              "      <td>0.009142</td>\n",
              "      <td>0.007300</td>\n",
              "      <td>-0.010869</td>\n",
              "      <td>-0.043415</td>\n",
              "      <td>NaN</td>\n",
              "      <td>-0.005457</td>\n",
              "      <td>0.076220</td>\n",
              "      <td>0.008644</td>\n",
              "      <td>0.006023</td>\n",
              "      <td>0.049538</td>\n",
              "      <td>...</td>\n",
              "      <td>-0.023661</td>\n",
              "      <td>-0.094612</td>\n",
              "      <td>-0.052564</td>\n",
              "      <td>-0.027889</td>\n",
              "      <td>-0.015350</td>\n",
              "      <td>-0.097101</td>\n",
              "      <td>-0.021750</td>\n",
              "      <td>-0.038833</td>\n",
              "      <td>-0.016693</td>\n",
              "      <td>0.021134</td>\n",
              "    </tr>\n",
              "    <tr>\n",
              "      <th>IT STAFF</th>\n",
              "      <td>-0.012938</td>\n",
              "      <td>-0.001609</td>\n",
              "      <td>0.027705</td>\n",
              "      <td>0.032760</td>\n",
              "      <td>NaN</td>\n",
              "      <td>-0.042706</td>\n",
              "      <td>-0.000594</td>\n",
              "      <td>0.043073</td>\n",
              "      <td>-0.014581</td>\n",
              "      <td>-0.006148</td>\n",
              "      <td>...</td>\n",
              "      <td>-0.006545</td>\n",
              "      <td>-0.026172</td>\n",
              "      <td>-0.014540</td>\n",
              "      <td>-0.007715</td>\n",
              "      <td>-0.004246</td>\n",
              "      <td>-0.026860</td>\n",
              "      <td>-0.006016</td>\n",
              "      <td>-0.010742</td>\n",
              "      <td>-0.004618</td>\n",
              "      <td>0.013911</td>\n",
              "    </tr>\n",
              "    <tr>\n",
              "      <th>LOW-SKILL LABORERS</th>\n",
              "      <td>-0.018996</td>\n",
              "      <td>-0.063151</td>\n",
              "      <td>-0.018651</td>\n",
              "      <td>0.018040</td>\n",
              "      <td>NaN</td>\n",
              "      <td>0.006782</td>\n",
              "      <td>-0.004247</td>\n",
              "      <td>0.005021</td>\n",
              "      <td>-0.000264</td>\n",
              "      <td>-0.074571</td>\n",
              "      <td>...</td>\n",
              "      <td>1.000000</td>\n",
              "      <td>-0.035740</td>\n",
              "      <td>-0.019856</td>\n",
              "      <td>-0.010535</td>\n",
              "      <td>-0.005799</td>\n",
              "      <td>-0.036680</td>\n",
              "      <td>-0.008216</td>\n",
              "      <td>-0.014669</td>\n",
              "      <td>-0.006306</td>\n",
              "      <td>0.044165</td>\n",
              "    </tr>\n",
              "    <tr>\n",
              "      <th>MANAGERS</th>\n",
              "      <td>0.004364</td>\n",
              "      <td>0.265880</td>\n",
              "      <td>-0.047908</td>\n",
              "      <td>-0.065126</td>\n",
              "      <td>NaN</td>\n",
              "      <td>0.029601</td>\n",
              "      <td>0.015247</td>\n",
              "      <td>-0.008646</td>\n",
              "      <td>0.027289</td>\n",
              "      <td>-0.071067</td>\n",
              "      <td>...</td>\n",
              "      <td>-0.035740</td>\n",
              "      <td>1.000000</td>\n",
              "      <td>-0.079399</td>\n",
              "      <td>-0.042127</td>\n",
              "      <td>-0.023187</td>\n",
              "      <td>-0.146672</td>\n",
              "      <td>-0.032853</td>\n",
              "      <td>-0.058657</td>\n",
              "      <td>-0.025215</td>\n",
              "      <td>-0.016934</td>\n",
              "    </tr>\n",
              "    <tr>\n",
              "      <th>MEDICINE STAFF</th>\n",
              "      <td>0.007797</td>\n",
              "      <td>-0.071976</td>\n",
              "      <td>-0.040858</td>\n",
              "      <td>-0.159693</td>\n",
              "      <td>NaN</td>\n",
              "      <td>-0.000679</td>\n",
              "      <td>0.019002</td>\n",
              "      <td>-0.013223</td>\n",
              "      <td>0.018303</td>\n",
              "      <td>0.148899</td>\n",
              "      <td>...</td>\n",
              "      <td>-0.019856</td>\n",
              "      <td>-0.079399</td>\n",
              "      <td>1.000000</td>\n",
              "      <td>-0.023405</td>\n",
              "      <td>-0.012882</td>\n",
              "      <td>-0.081487</td>\n",
              "      <td>-0.018252</td>\n",
              "      <td>-0.032589</td>\n",
              "      <td>-0.014009</td>\n",
              "      <td>-0.037794</td>\n",
              "    </tr>\n",
              "    <tr>\n",
              "      <th>PRIVATE SERVICE STAFF</th>\n",
              "      <td>-0.032138</td>\n",
              "      <td>0.002903</td>\n",
              "      <td>-0.011974</td>\n",
              "      <td>-0.002983</td>\n",
              "      <td>NaN</td>\n",
              "      <td>-0.006394</td>\n",
              "      <td>0.010742</td>\n",
              "      <td>0.025010</td>\n",
              "      <td>-0.057849</td>\n",
              "      <td>0.069154</td>\n",
              "      <td>...</td>\n",
              "      <td>-0.010535</td>\n",
              "      <td>-0.042127</td>\n",
              "      <td>-0.023405</td>\n",
              "      <td>1.000000</td>\n",
              "      <td>-0.006835</td>\n",
              "      <td>-0.043235</td>\n",
              "      <td>-0.009684</td>\n",
              "      <td>-0.017291</td>\n",
              "      <td>-0.007433</td>\n",
              "      <td>-0.028021</td>\n",
              "    </tr>\n",
              "    <tr>\n",
              "      <th>REALTY AGENTS</th>\n",
              "      <td>-0.010953</td>\n",
              "      <td>0.051046</td>\n",
              "      <td>-0.003604</td>\n",
              "      <td>0.001945</td>\n",
              "      <td>NaN</td>\n",
              "      <td>-0.000400</td>\n",
              "      <td>0.010010</td>\n",
              "      <td>0.016871</td>\n",
              "      <td>0.005912</td>\n",
              "      <td>0.037108</td>\n",
              "      <td>...</td>\n",
              "      <td>-0.005799</td>\n",
              "      <td>-0.023187</td>\n",
              "      <td>-0.012882</td>\n",
              "      <td>-0.006835</td>\n",
              "      <td>1.000000</td>\n",
              "      <td>-0.023797</td>\n",
              "      <td>-0.005330</td>\n",
              "      <td>-0.009517</td>\n",
              "      <td>-0.004091</td>\n",
              "      <td>-0.025134</td>\n",
              "    </tr>\n",
              "    <tr>\n",
              "      <th>SALES STAFF</th>\n",
              "      <td>0.011318</td>\n",
              "      <td>-0.098261</td>\n",
              "      <td>0.054137</td>\n",
              "      <td>0.104739</td>\n",
              "      <td>NaN</td>\n",
              "      <td>-0.017740</td>\n",
              "      <td>-0.013832</td>\n",
              "      <td>-0.034443</td>\n",
              "      <td>0.018676</td>\n",
              "      <td>0.199247</td>\n",
              "      <td>...</td>\n",
              "      <td>-0.036680</td>\n",
              "      <td>-0.146672</td>\n",
              "      <td>-0.081487</td>\n",
              "      <td>-0.043235</td>\n",
              "      <td>-0.023797</td>\n",
              "      <td>1.000000</td>\n",
              "      <td>-0.033717</td>\n",
              "      <td>-0.060200</td>\n",
              "      <td>-0.025879</td>\n",
              "      <td>-0.029407</td>\n",
              "    </tr>\n",
              "    <tr>\n",
              "      <th>SECRETARIES</th>\n",
              "      <td>-0.000360</td>\n",
              "      <td>-0.043555</td>\n",
              "      <td>-0.003033</td>\n",
              "      <td>-0.011456</td>\n",
              "      <td>NaN</td>\n",
              "      <td>0.008274</td>\n",
              "      <td>0.014184</td>\n",
              "      <td>-0.002491</td>\n",
              "      <td>-0.004074</td>\n",
              "      <td>0.068810</td>\n",
              "      <td>...</td>\n",
              "      <td>-0.008216</td>\n",
              "      <td>-0.032853</td>\n",
              "      <td>-0.018252</td>\n",
              "      <td>-0.009684</td>\n",
              "      <td>-0.005330</td>\n",
              "      <td>-0.033717</td>\n",
              "      <td>1.000000</td>\n",
              "      <td>-0.013484</td>\n",
              "      <td>-0.005797</td>\n",
              "      <td>-0.013096</td>\n",
              "    </tr>\n",
              "    <tr>\n",
              "      <th>SECURITY STAFF</th>\n",
              "      <td>-0.027969</td>\n",
              "      <td>0.007905</td>\n",
              "      <td>-0.109417</td>\n",
              "      <td>0.066824</td>\n",
              "      <td>NaN</td>\n",
              "      <td>-0.010161</td>\n",
              "      <td>-0.029662</td>\n",
              "      <td>0.053606</td>\n",
              "      <td>-0.011247</td>\n",
              "      <td>-0.126654</td>\n",
              "      <td>...</td>\n",
              "      <td>-0.014669</td>\n",
              "      <td>-0.058657</td>\n",
              "      <td>-0.032589</td>\n",
              "      <td>-0.017291</td>\n",
              "      <td>-0.009517</td>\n",
              "      <td>-0.060200</td>\n",
              "      <td>-0.013484</td>\n",
              "      <td>1.000000</td>\n",
              "      <td>-0.010349</td>\n",
              "      <td>0.019734</td>\n",
              "    </tr>\n",
              "    <tr>\n",
              "      <th>WAITERS/BARMEN STAFF</th>\n",
              "      <td>-0.003558</td>\n",
              "      <td>-0.034724</td>\n",
              "      <td>0.037646</td>\n",
              "      <td>0.025715</td>\n",
              "      <td>NaN</td>\n",
              "      <td>0.027750</td>\n",
              "      <td>-0.008653</td>\n",
              "      <td>-0.005029</td>\n",
              "      <td>-0.002882</td>\n",
              "      <td>0.031728</td>\n",
              "      <td>...</td>\n",
              "      <td>-0.006306</td>\n",
              "      <td>-0.025215</td>\n",
              "      <td>-0.014009</td>\n",
              "      <td>-0.007433</td>\n",
              "      <td>-0.004091</td>\n",
              "      <td>-0.025879</td>\n",
              "      <td>-0.005797</td>\n",
              "      <td>-0.010349</td>\n",
              "      <td>1.000000</td>\n",
              "      <td>0.001913</td>\n",
              "    </tr>\n",
              "    <tr>\n",
              "      <th>DEFAULTED</th>\n",
              "      <td>0.002030</td>\n",
              "      <td>0.012906</td>\n",
              "      <td>0.015281</td>\n",
              "      <td>0.091458</td>\n",
              "      <td>NaN</td>\n",
              "      <td>0.016691</td>\n",
              "      <td>0.012386</td>\n",
              "      <td>0.003295</td>\n",
              "      <td>-0.007894</td>\n",
              "      <td>-0.058627</td>\n",
              "      <td>...</td>\n",
              "      <td>0.044165</td>\n",
              "      <td>-0.016934</td>\n",
              "      <td>-0.037794</td>\n",
              "      <td>-0.028021</td>\n",
              "      <td>-0.025134</td>\n",
              "      <td>-0.029407</td>\n",
              "      <td>-0.013096</td>\n",
              "      <td>0.019734</td>\n",
              "      <td>0.001913</td>\n",
              "      <td>1.000000</td>\n",
              "    </tr>\n",
              "  </tbody>\n",
              "</table>\n",
              "<p>47 rows × 47 columns</p>\n",
              "</div>\n",
              "      <button class=\"colab-df-convert\" onclick=\"convertToInteractive('df-a461e657-7b95-48b1-b9d8-c009666d10cd')\"\n",
              "              title=\"Convert this dataframe to an interactive table.\"\n",
              "              style=\"display:none;\">\n",
              "        \n",
              "  <svg xmlns=\"http://www.w3.org/2000/svg\" height=\"24px\"viewBox=\"0 0 24 24\"\n",
              "       width=\"24px\">\n",
              "    <path d=\"M0 0h24v24H0V0z\" fill=\"none\"/>\n",
              "    <path d=\"M18.56 5.44l.94 2.06.94-2.06 2.06-.94-2.06-.94-.94-2.06-.94 2.06-2.06.94zm-11 1L8.5 8.5l.94-2.06 2.06-.94-2.06-.94L8.5 2.5l-.94 2.06-2.06.94zm10 10l.94 2.06.94-2.06 2.06-.94-2.06-.94-.94-2.06-.94 2.06-2.06.94z\"/><path d=\"M17.41 7.96l-1.37-1.37c-.4-.4-.92-.59-1.43-.59-.52 0-1.04.2-1.43.59L10.3 9.45l-7.72 7.72c-.78.78-.78 2.05 0 2.83L4 21.41c.39.39.9.59 1.41.59.51 0 1.02-.2 1.41-.59l7.78-7.78 2.81-2.81c.8-.78.8-2.07 0-2.86zM5.41 20L4 18.59l7.72-7.72 1.47 1.35L5.41 20z\"/>\n",
              "  </svg>\n",
              "      </button>\n",
              "      \n",
              "  <style>\n",
              "    .colab-df-container {\n",
              "      display:flex;\n",
              "      flex-wrap:wrap;\n",
              "      gap: 12px;\n",
              "    }\n",
              "\n",
              "    .colab-df-convert {\n",
              "      background-color: #E8F0FE;\n",
              "      border: none;\n",
              "      border-radius: 50%;\n",
              "      cursor: pointer;\n",
              "      display: none;\n",
              "      fill: #1967D2;\n",
              "      height: 32px;\n",
              "      padding: 0 0 0 0;\n",
              "      width: 32px;\n",
              "    }\n",
              "\n",
              "    .colab-df-convert:hover {\n",
              "      background-color: #E2EBFA;\n",
              "      box-shadow: 0px 1px 2px rgba(60, 64, 67, 0.3), 0px 1px 3px 1px rgba(60, 64, 67, 0.15);\n",
              "      fill: #174EA6;\n",
              "    }\n",
              "\n",
              "    [theme=dark] .colab-df-convert {\n",
              "      background-color: #3B4455;\n",
              "      fill: #D2E3FC;\n",
              "    }\n",
              "\n",
              "    [theme=dark] .colab-df-convert:hover {\n",
              "      background-color: #434B5C;\n",
              "      box-shadow: 0px 1px 3px 1px rgba(0, 0, 0, 0.15);\n",
              "      filter: drop-shadow(0px 1px 2px rgba(0, 0, 0, 0.3));\n",
              "      fill: #FFFFFF;\n",
              "    }\n",
              "  </style>\n",
              "\n",
              "      <script>\n",
              "        const buttonEl =\n",
              "          document.querySelector('#df-a461e657-7b95-48b1-b9d8-c009666d10cd button.colab-df-convert');\n",
              "        buttonEl.style.display =\n",
              "          google.colab.kernel.accessAllowed ? 'block' : 'none';\n",
              "\n",
              "        async function convertToInteractive(key) {\n",
              "          const element = document.querySelector('#df-a461e657-7b95-48b1-b9d8-c009666d10cd');\n",
              "          const dataTable =\n",
              "            await google.colab.kernel.invokeFunction('convertToInteractive',\n",
              "                                                     [key], {});\n",
              "          if (!dataTable) return;\n",
              "\n",
              "          const docLinkHtml = 'Like what you see? Visit the ' +\n",
              "            '<a target=\"_blank\" href=https://colab.research.google.com/notebooks/data_table.ipynb>data table notebook</a>'\n",
              "            + ' to learn more about interactive tables.';\n",
              "          element.innerHTML = '';\n",
              "          dataTable['output_type'] = 'display_data';\n",
              "          await google.colab.output.renderOutput(dataTable, element);\n",
              "          const docLink = document.createElement('div');\n",
              "          docLink.innerHTML = docLinkHtml;\n",
              "          element.appendChild(docLink);\n",
              "        }\n",
              "      </script>\n",
              "    </div>\n",
              "  </div>\n",
              "  "
            ]
          },
          "metadata": {},
          "execution_count": 349
        }
      ]
    },
    {
      "cell_type": "code",
      "source": [
        "df_corr.loc['DEFAULTED'].abs().sort_values(ascending=False).head(10)"
      ],
      "metadata": {
        "colab": {
          "base_uri": "https://localhost:8080/"
        },
        "id": "mcKk3V_FKDcF",
        "outputId": "4f1d997d-2ab5-4fba-9870-e11df65bd984"
      },
      "execution_count": null,
      "outputs": [
        {
          "output_type": "execute_result",
          "data": {
            "text/plain": [
              "DEFAULTED             1.000000\n",
              "PENSIONER             0.162769\n",
              "DAYS_EMPLOYED         0.091458\n",
              "HAS_REALTY            0.061044\n",
              "FEMALE                0.058627\n",
              "LOW-SKILL LABORERS    0.044165\n",
              "STATE SERVANT         0.039282\n",
              "MEDICINE STAFF        0.037794\n",
              "CORE STAFF            0.037310\n",
              "SEPARATED             0.037278\n",
              "Name: DEFAULTED, dtype: float64"
            ]
          },
          "metadata": {},
          "execution_count": 350
        }
      ]
    },
    {
      "cell_type": "code",
      "source": [
        "df_corr.loc['DEFAULTED'].abs().sort_values(ascending=False).head(10).index"
      ],
      "metadata": {
        "colab": {
          "base_uri": "https://localhost:8080/"
        },
        "id": "Re4UxnugHMFw",
        "outputId": "bef3fb5d-1ebb-44be-e0d3-3b5d3842cb72"
      },
      "execution_count": null,
      "outputs": [
        {
          "output_type": "execute_result",
          "data": {
            "text/plain": [
              "Index(['DEFAULTED', 'PENSIONER', 'DAYS_EMPLOYED', 'HAS_REALTY', 'FEMALE',\n",
              "       'LOW-SKILL LABORERS', 'STATE SERVANT', 'MEDICINE STAFF', 'CORE STAFF',\n",
              "       'SEPARATED'],\n",
              "      dtype='object')"
            ]
          },
          "metadata": {},
          "execution_count": 351
        }
      ]
    },
    {
      "cell_type": "markdown",
      "source": [
        "## Employment duration\n",
        "\n",
        "For the sake of simplicity, let us only look at the predictive power of `DAYS_EMPLOYED` on the outcome variable `DEFAULTED`\n",
        "\n",
        "If `DAYS_EMPLOYED` is negative, it counts the number of days the client has already been employed.\n",
        "If it is positive, it counts how many days the client has been unemployed.\n",
        "\n",
        "Since we would assume that the longer one is employed, the lower one is to default, let us switch the signs."
      ],
      "metadata": {
        "id": "Sh0fSGMzP2E2"
      }
    },
    {
      "cell_type": "code",
      "source": [
        "sr_employ = -df_data.loc[:,'DAYS_EMPLOYED']"
      ],
      "metadata": {
        "id": "Nyi3m3BDP50f"
      },
      "execution_count": null,
      "outputs": []
    },
    {
      "cell_type": "code",
      "source": [
        "sr_employ.plot.hist(bins=20)"
      ],
      "metadata": {
        "colab": {
          "base_uri": "https://localhost:8080/",
          "height": 282
        },
        "outputId": "2b5e0773-a01d-449c-cf5d-42368e279adf",
        "id": "9ChBJMq3P50f"
      },
      "execution_count": null,
      "outputs": [
        {
          "output_type": "execute_result",
          "data": {
            "text/plain": [
              "<matplotlib.axes._subplots.AxesSubplot at 0x7f8521638b50>"
            ]
          },
          "metadata": {},
          "execution_count": 353
        },
        {
          "output_type": "display_data",
          "data": {
            "text/plain": [
              "<Figure size 432x288 with 1 Axes>"
            ],
            "image/png": "[encoded data removed]"
          },
          "metadata": {
            "needs_background": "light"
          }
        }
      ]
    },
    {
      "cell_type": "markdown",
      "source": [
        "### Log10 transformation\n",
        "\n",
        "A base-10 logarithmic transformation removes the outliers. This is useful for a regression."
      ],
      "metadata": {
        "id": "EPdwglYFTKau"
      }
    },
    {
      "cell_type": "code",
      "source": [
        "sr_employ_log10 = np.log10(sr_employ)"
      ],
      "metadata": {
        "id": "MdJecm_iTTDI"
      },
      "execution_count": null,
      "outputs": []
    },
    {
      "cell_type": "code",
      "source": [
        "sr_employ_log10.plot.hist(bins=20)"
      ],
      "metadata": {
        "colab": {
          "base_uri": "https://localhost:8080/",
          "height": 282
        },
        "outputId": "1609ca9c-c837-4675-8892-265f512e1c94",
        "id": "XxR4jTqqTTDJ"
      },
      "execution_count": null,
      "outputs": [
        {
          "output_type": "execute_result",
          "data": {
            "text/plain": [
              "<matplotlib.axes._subplots.AxesSubplot at 0x7f8521490950>"
            ]
          },
          "metadata": {},
          "execution_count": 355
        },
        {
          "output_type": "display_data",
          "data": {
            "text/plain": [
              "<Figure size 432x288 with 1 Axes>"
            ],
            "image/png": "[encoded data removed]"
          },
          "metadata": {
            "needs_background": "light"
          }
        }
      ]
    },
    {
      "cell_type": "code",
      "source": [
        "df_data.loc[:,'DAYS_EMPLOYED_LOG10'] = sr_employ_log10"
      ],
      "metadata": {
        "id": "8E3clMjDTYl5"
      },
      "execution_count": null,
      "outputs": []
    },
    {
      "cell_type": "markdown",
      "source": [
        "### Binning\n",
        "Instead of knowing how many days exactly the employment duration was, what matters for a classifier is the rough range. That is, a categorization into whether a client just started, has some experience, is very experienced, etc. We achieve this through binning."
      ],
      "metadata": {
        "id": "EBNanO_lTNwN"
      }
    },
    {
      "cell_type": "code",
      "source": [
        "sr_bins = pd.cut(sr_employ, 10)\n",
        "sr_bins.value_counts()"
      ],
      "metadata": {
        "colab": {
          "base_uri": "https://localhost:8080/"
        },
        "id": "grl2G-R6UyfC",
        "outputId": "75acc28d-1767-4128-e83e-15dd75f266a6"
      },
      "execution_count": null,
      "outputs": [
        {
          "output_type": "execute_result",
          "data": {
            "text/plain": [
              "(49.404, 1624.6]      1263\n",
              "(1624.6, 3184.2]       829\n",
              "(3184.2, 4743.8]       437\n",
              "(4743.8, 6303.4]       202\n",
              "(6303.4, 7863.0]       105\n",
              "(7863.0, 9422.6]        55\n",
              "(9422.6, 10982.2]       20\n",
              "(12541.8, 14101.4]      12\n",
              "(10982.2, 12541.8]      11\n",
              "(14101.4, 15661.0]       1\n",
              "Name: DAYS_EMPLOYED, dtype: int64"
            ]
          },
          "metadata": {},
          "execution_count": 357
        }
      ]
    },
    {
      "cell_type": "code",
      "source": [
        "df_data.loc[:,'DAYS_EMPLOYED_BINS'] = sr_bins.cat.codes"
      ],
      "metadata": {
        "id": "FGN1FJ2STNwO"
      },
      "execution_count": null,
      "outputs": []
    },
    {
      "cell_type": "markdown",
      "source": [
        "## Total income\n",
        "\n",
        "A similar argument can be made for total income. We use log-10 transformation and binning."
      ],
      "metadata": {
        "id": "dVmHcihHTuo5"
      }
    },
    {
      "cell_type": "code",
      "source": [
        "sr_income = df_data.loc[:,'AMT_INCOME_TOTAL']"
      ],
      "metadata": {
        "id": "7KTjW6bNTuo6"
      },
      "execution_count": null,
      "outputs": []
    },
    {
      "cell_type": "code",
      "source": [
        "sr_income.plot.hist(bins=20)"
      ],
      "metadata": {
        "colab": {
          "base_uri": "https://localhost:8080/",
          "height": 295
        },
        "outputId": "74aeb1d7-40b4-4474-a4f8-fdf566d28f42",
        "id": "JjrV5HU4Tuo6"
      },
      "execution_count": null,
      "outputs": [
        {
          "output_type": "execute_result",
          "data": {
            "text/plain": [
              "<matplotlib.axes._subplots.AxesSubplot at 0x7f852143d210>"
            ]
          },
          "metadata": {},
          "execution_count": 360
        },
        {
          "output_type": "display_data",
          "data": {
            "text/plain": [
              "<Figure size 432x288 with 1 Axes>"
            ],
            "image/png": "[encoded data removed]"
          },
          "metadata": {
            "needs_background": "light"
          }
        }
      ]
    },
    {
      "cell_type": "markdown",
      "source": [
        "### Log10 transformation"
      ],
      "metadata": {
        "id": "kLpq_oq4Tuo7"
      }
    },
    {
      "cell_type": "code",
      "source": [
        "sr_income_log10 = np.log10(df_data.loc[:,'AMT_INCOME_TOTAL'])"
      ],
      "metadata": {
        "id": "Rh5GJ276Tuo7"
      },
      "execution_count": null,
      "outputs": []
    },
    {
      "cell_type": "code",
      "source": [
        "sr_income_log10.plot.hist(bins=20)"
      ],
      "metadata": {
        "colab": {
          "base_uri": "https://localhost:8080/",
          "height": 282
        },
        "outputId": "990ada0e-b790-4f5e-af5c-d11209bbda1a",
        "id": "2YPmoGAfTuo7"
      },
      "execution_count": null,
      "outputs": [
        {
          "output_type": "execute_result",
          "data": {
            "text/plain": [
              "<matplotlib.axes._subplots.AxesSubplot at 0x7f8521352510>"
            ]
          },
          "metadata": {},
          "execution_count": 362
        },
        {
          "output_type": "display_data",
          "data": {
            "text/plain": [
              "<Figure size 432x288 with 1 Axes>"
            ],
            "image/png": "[encoded data removed]"
          },
          "metadata": {
            "needs_background": "light"
          }
        }
      ]
    },
    {
      "cell_type": "code",
      "source": [
        "df_data.loc[:,'AMT_INCOME_TOTAL_LOG10'] = sr_income_log10"
      ],
      "metadata": {
        "id": "9GaUhRK1Tuo7"
      },
      "execution_count": null,
      "outputs": []
    },
    {
      "cell_type": "markdown",
      "source": [
        "### Binning"
      ],
      "metadata": {
        "id": "Mbi6bc2STuo8"
      }
    },
    {
      "cell_type": "code",
      "source": [
        "sr_bins = pd.cut(sr_income, 10)"
      ],
      "metadata": {
        "id": "Xqr17efPWNLJ"
      },
      "execution_count": null,
      "outputs": []
    },
    {
      "cell_type": "code",
      "source": [
        "df_data.loc[:,'AMT_INCOME_TOTAL_BINS'] = sr_bins.cat.codes"
      ],
      "metadata": {
        "id": "yxaNv9PVTuo8"
      },
      "execution_count": null,
      "outputs": []
    },
    {
      "cell_type": "markdown",
      "source": [
        "# Linear Regression"
      ],
      "metadata": {
        "id": "1FKRhDl6F5UI"
      }
    },
    {
      "cell_type": "code",
      "source": [
        "import statsmodels.api as sm\n",
        "from sklearn.linear_model import LinearRegression"
      ],
      "metadata": {
        "id": "L0YwOfy5F_uh"
      },
      "execution_count": null,
      "outputs": []
    },
    {
      "cell_type": "code",
      "source": [
        "sr_endog = df_data.loc[:,'DEFAULTED'].astype(float)\n",
        "\n",
        "df_exogs = df_data.loc[:,[\n",
        "  'DAYS_EMPLOYED_LOG10',\n",
        "  'AMT_INCOME_TOTAL_LOG10', \n",
        "  'FEMALE',\n",
        "  'PENSIONER', \n",
        "  'CORE STAFF', \n",
        "  'LOWER SECONDARY', \n",
        "  'CIVIL MARRIAGE', \n",
        "  'MUNICIPAL APARTMENT', \n",
        "]]\n",
        "df_exogs = sm.add_constant(df_exogs)\n",
        "df_exogs.head()"
      ],
      "metadata": {
        "colab": {
          "base_uri": "https://localhost:8080/",
          "height": 354
        },
        "id": "7yvYSJfqF7Yk",
        "outputId": "4da7db41-043f-4cad-abb1-111b648487f8"
      },
      "execution_count": null,
      "outputs": [
        {
          "output_type": "stream",
          "name": "stderr",
          "text": [
            "/usr/local/lib/python3.7/dist-packages/statsmodels/tsa/tsatools.py:142: FutureWarning: In a future version of pandas all arguments of concat except for the argument 'objs' will be keyword-only\n",
            "  x = pd.concat(x[::order], 1)\n"
          ]
        },
        {
          "output_type": "execute_result",
          "data": {
            "text/plain": [
              "         const  DAYS_EMPLOYED_LOG10  AMT_INCOME_TOTAL_LOG10  FEMALE  \\\n",
              "ID                                                                    \n",
              "5088290    1.0             2.454845                5.352183       0   \n",
              "5135669    1.0             3.894316                5.334454       1   \n",
              "5143600    1.0             3.522835                4.954243       1   \n",
              "5038615    1.0             3.514813                5.051153       1   \n",
              "5050542    1.0             3.489677                5.352183       0   \n",
              "\n",
              "         PENSIONER  CORE STAFF  LOWER SECONDARY  CIVIL MARRIAGE  \\\n",
              "ID                                                                \n",
              "5088290          0           0                0               0   \n",
              "5135669          0           0                0               0   \n",
              "5143600          0           0                0               1   \n",
              "5038615          0           1                0               0   \n",
              "5050542          0           0                0               1   \n",
              "\n",
              "         MUNICIPAL APARTMENT  \n",
              "ID                            \n",
              "5088290                    0  \n",
              "5135669                    0  \n",
              "5143600                    0  \n",
              "5038615                    0  \n",
              "5050542                    0  "
            ],
            "text/html": [
              "\n",
              "  <div id=\"df-1b0a2772-2d40-4be2-9e68-b6b8f74eeda6\">\n",
              "    <div class=\"colab-df-container\">\n",
              "      <div>\n",
              "<style scoped>\n",
              "    .dataframe tbody tr th:only-of-type {\n",
              "        vertical-align: middle;\n",
              "    }\n",
              "\n",
              "    .dataframe tbody tr th {\n",
              "        vertical-align: top;\n",
              "    }\n",
              "\n",
              "    .dataframe thead th {\n",
              "        text-align: right;\n",
              "    }\n",
              "</style>\n",
              "<table border=\"1\" class=\"dataframe\">\n",
              "  <thead>\n",
              "    <tr style=\"text-align: right;\">\n",
              "      <th></th>\n",
              "      <th>const</th>\n",
              "      <th>DAYS_EMPLOYED_LOG10</th>\n",
              "      <th>AMT_INCOME_TOTAL_LOG10</th>\n",
              "      <th>FEMALE</th>\n",
              "      <th>PENSIONER</th>\n",
              "      <th>CORE STAFF</th>\n",
              "      <th>LOWER SECONDARY</th>\n",
              "      <th>CIVIL MARRIAGE</th>\n",
              "      <th>MUNICIPAL APARTMENT</th>\n",
              "    </tr>\n",
              "    <tr>\n",
              "      <th>ID</th>\n",
              "      <th></th>\n",
              "      <th></th>\n",
              "      <th></th>\n",
              "      <th></th>\n",
              "      <th></th>\n",
              "      <th></th>\n",
              "      <th></th>\n",
              "      <th></th>\n",
              "      <th></th>\n",
              "    </tr>\n",
              "  </thead>\n",
              "  <tbody>\n",
              "    <tr>\n",
              "      <th>5088290</th>\n",
              "      <td>1.0</td>\n",
              "      <td>2.454845</td>\n",
              "      <td>5.352183</td>\n",
              "      <td>0</td>\n",
              "      <td>0</td>\n",
              "      <td>0</td>\n",
              "      <td>0</td>\n",
              "      <td>0</td>\n",
              "      <td>0</td>\n",
              "    </tr>\n",
              "    <tr>\n",
              "      <th>5135669</th>\n",
              "      <td>1.0</td>\n",
              "      <td>3.894316</td>\n",
              "      <td>5.334454</td>\n",
              "      <td>1</td>\n",
              "      <td>0</td>\n",
              "      <td>0</td>\n",
              "      <td>0</td>\n",
              "      <td>0</td>\n",
              "      <td>0</td>\n",
              "    </tr>\n",
              "    <tr>\n",
              "      <th>5143600</th>\n",
              "      <td>1.0</td>\n",
              "      <td>3.522835</td>\n",
              "      <td>4.954243</td>\n",
              "      <td>1</td>\n",
              "      <td>0</td>\n",
              "      <td>0</td>\n",
              "      <td>0</td>\n",
              "      <td>1</td>\n",
              "      <td>0</td>\n",
              "    </tr>\n",
              "    <tr>\n",
              "      <th>5038615</th>\n",
              "      <td>1.0</td>\n",
              "      <td>3.514813</td>\n",
              "      <td>5.051153</td>\n",
              "      <td>1</td>\n",
              "      <td>0</td>\n",
              "      <td>1</td>\n",
              "      <td>0</td>\n",
              "      <td>0</td>\n",
              "      <td>0</td>\n",
              "    </tr>\n",
              "    <tr>\n",
              "      <th>5050542</th>\n",
              "      <td>1.0</td>\n",
              "      <td>3.489677</td>\n",
              "      <td>5.352183</td>\n",
              "      <td>0</td>\n",
              "      <td>0</td>\n",
              "      <td>0</td>\n",
              "      <td>0</td>\n",
              "      <td>1</td>\n",
              "      <td>0</td>\n",
              "    </tr>\n",
              "  </tbody>\n",
              "</table>\n",
              "</div>\n",
              "      <button class=\"colab-df-convert\" onclick=\"convertToInteractive('df-1b0a2772-2d40-4be2-9e68-b6b8f74eeda6')\"\n",
              "              title=\"Convert this dataframe to an interactive table.\"\n",
              "              style=\"display:none;\">\n",
              "        \n",
              "  <svg xmlns=\"http://www.w3.org/2000/svg\" height=\"24px\"viewBox=\"0 0 24 24\"\n",
              "       width=\"24px\">\n",
              "    <path d=\"M0 0h24v24H0V0z\" fill=\"none\"/>\n",
              "    <path d=\"M18.56 5.44l.94 2.06.94-2.06 2.06-.94-2.06-.94-.94-2.06-.94 2.06-2.06.94zm-11 1L8.5 8.5l.94-2.06 2.06-.94-2.06-.94L8.5 2.5l-.94 2.06-2.06.94zm10 10l.94 2.06.94-2.06 2.06-.94-2.06-.94-.94-2.06-.94 2.06-2.06.94z\"/><path d=\"M17.41 7.96l-1.37-1.37c-.4-.4-.92-.59-1.43-.59-.52 0-1.04.2-1.43.59L10.3 9.45l-7.72 7.72c-.78.78-.78 2.05 0 2.83L4 21.41c.39.39.9.59 1.41.59.51 0 1.02-.2 1.41-.59l7.78-7.78 2.81-2.81c.8-.78.8-2.07 0-2.86zM5.41 20L4 18.59l7.72-7.72 1.47 1.35L5.41 20z\"/>\n",
              "  </svg>\n",
              "      </button>\n",
              "      \n",
              "  <style>\n",
              "    .colab-df-container {\n",
              "      display:flex;\n",
              "      flex-wrap:wrap;\n",
              "      gap: 12px;\n",
              "    }\n",
              "\n",
              "    .colab-df-convert {\n",
              "      background-color: #E8F0FE;\n",
              "      border: none;\n",
              "      border-radius: 50%;\n",
              "      cursor: pointer;\n",
              "      display: none;\n",
              "      fill: #1967D2;\n",
              "      height: 32px;\n",
              "      padding: 0 0 0 0;\n",
              "      width: 32px;\n",
              "    }\n",
              "\n",
              "    .colab-df-convert:hover {\n",
              "      background-color: #E2EBFA;\n",
              "      box-shadow: 0px 1px 2px rgba(60, 64, 67, 0.3), 0px 1px 3px 1px rgba(60, 64, 67, 0.15);\n",
              "      fill: #174EA6;\n",
              "    }\n",
              "\n",
              "    [theme=dark] .colab-df-convert {\n",
              "      background-color: #3B4455;\n",
              "      fill: #D2E3FC;\n",
              "    }\n",
              "\n",
              "    [theme=dark] .colab-df-convert:hover {\n",
              "      background-color: #434B5C;\n",
              "      box-shadow: 0px 1px 3px 1px rgba(0, 0, 0, 0.15);\n",
              "      filter: drop-shadow(0px 1px 2px rgba(0, 0, 0, 0.3));\n",
              "      fill: #FFFFFF;\n",
              "    }\n",
              "  </style>\n",
              "\n",
              "      <script>\n",
              "        const buttonEl =\n",
              "          document.querySelector('#df-1b0a2772-2d40-4be2-9e68-b6b8f74eeda6 button.colab-df-convert');\n",
              "        buttonEl.style.display =\n",
              "          google.colab.kernel.accessAllowed ? 'block' : 'none';\n",
              "\n",
              "        async function convertToInteractive(key) {\n",
              "          const element = document.querySelector('#df-1b0a2772-2d40-4be2-9e68-b6b8f74eeda6');\n",
              "          const dataTable =\n",
              "            await google.colab.kernel.invokeFunction('convertToInteractive',\n",
              "                                                     [key], {});\n",
              "          if (!dataTable) return;\n",
              "\n",
              "          const docLinkHtml = 'Like what you see? Visit the ' +\n",
              "            '<a target=\"_blank\" href=https://colab.research.google.com/notebooks/data_table.ipynb>data table notebook</a>'\n",
              "            + ' to learn more about interactive tables.';\n",
              "          element.innerHTML = '';\n",
              "          dataTable['output_type'] = 'display_data';\n",
              "          await google.colab.output.renderOutput(dataTable, element);\n",
              "          const docLink = document.createElement('div');\n",
              "          docLink.innerHTML = docLinkHtml;\n",
              "          element.appendChild(docLink);\n",
              "        }\n",
              "      </script>\n",
              "    </div>\n",
              "  </div>\n",
              "  "
            ]
          },
          "metadata": {},
          "execution_count": 367
        }
      ]
    },
    {
      "cell_type": "markdown",
      "source": [
        "## Econometric view: with `statsmodels`"
      ],
      "metadata": {
        "id": "lEjpN_SiamWx"
      }
    },
    {
      "cell_type": "code",
      "source": [
        "linreg_sm = sm.OLS(\n",
        "    endog=sr_endog,\n",
        "    exog=df_exogs,\n",
        ").fit()\n",
        "\n",
        "print(linreg_sm.summary())"
      ],
      "metadata": {
        "colab": {
          "base_uri": "https://localhost:8080/"
        },
        "id": "_jTihRQiGIcs",
        "outputId": "1835c52b-0050-4bc0-8dc1-b40b8d19f9da"
      },
      "execution_count": null,
      "outputs": [
        {
          "output_type": "stream",
          "name": "stdout",
          "text": [
            "                            OLS Regression Results                            \n",
            "==============================================================================\n",
            "Dep. Variable:              DEFAULTED   R-squared:                       0.042\n",
            "Model:                            OLS   Adj. R-squared:                  0.040\n",
            "Method:                 Least Squares   F-statistic:                     16.11\n",
            "Date:                Mon, 19 Sep 2022   Prob (F-statistic):           1.69e-23\n",
            "Time:                        15:52:08   Log-Likelihood:                -1027.4\n",
            "No. Observations:                2935   AIC:                             2073.\n",
            "Df Residuals:                    2926   BIC:                             2127.\n",
            "Df Model:                           8                                         \n",
            "Covariance Type:            nonrobust                                         \n",
            "==========================================================================================\n",
            "                             coef    std err          t      P>|t|      [0.025      0.975]\n",
            "------------------------------------------------------------------------------------------\n",
            "const                      0.3821      0.174      2.200      0.028       0.042       0.723\n",
            "DAYS_EMPLOYED_LOG10       -0.0789      0.015     -5.412      0.000      -0.107      -0.050\n",
            "AMT_INCOME_TOTAL_LOG10     0.0053      0.032      0.164      0.870      -0.058       0.069\n",
            "FEMALE                    -0.0368      0.014     -2.684      0.007      -0.064      -0.010\n",
            "PENSIONER                  0.8454      0.096      8.823      0.000       0.657       1.033\n",
            "CORE STAFF                 0.0409      0.018      2.223      0.026       0.005       0.077\n",
            "LOWER SECONDARY            0.1171      0.072      1.623      0.105      -0.024       0.259\n",
            "CIVIL MARRIAGE            -0.0104      0.024     -0.443      0.657      -0.057       0.036\n",
            "MUNICIPAL APARTMENT        0.0264      0.034      0.772      0.440      -0.041       0.094\n",
            "==============================================================================\n",
            "Omnibus:                     1046.698   Durbin-Watson:                   0.083\n",
            "Prob(Omnibus):                  0.000   Jarque-Bera (JB):             2645.767\n",
            "Skew:                           2.031   Prob(JB):                         0.00\n",
            "Kurtosis:                       5.266   Cond. No.                         175.\n",
            "==============================================================================\n",
            "\n",
            "Notes:\n",
            "[1] Standard Errors assume that the covariance matrix of the errors is correctly specified.\n"
          ]
        }
      ]
    },
    {
      "cell_type": "markdown",
      "source": [
        "## Machine learning: with `scikit-learn`"
      ],
      "metadata": {
        "id": "tYd3dXa4ar40"
      }
    },
    {
      "cell_type": "code",
      "source": [
        "X = df_exogs.values\n",
        "y = sr_endog.values"
      ],
      "metadata": {
        "id": "2EN2luwybHqe"
      },
      "execution_count": null,
      "outputs": []
    },
    {
      "cell_type": "code",
      "source": [
        "linreg_ml = LinearRegression(fit_intercept=False)\n",
        "linreg_ml.fit(X, y)"
      ],
      "metadata": {
        "colab": {
          "base_uri": "https://localhost:8080/"
        },
        "id": "CJ_29PnIavLz",
        "outputId": "342540e5-c97c-4bad-cd3d-5b078c170ec2"
      },
      "execution_count": null,
      "outputs": [
        {
          "output_type": "execute_result",
          "data": {
            "text/plain": [
              "LinearRegression(fit_intercept=False)"
            ]
          },
          "metadata": {},
          "execution_count": 370
        }
      ]
    },
    {
      "cell_type": "code",
      "source": [
        "linreg_ml.coef_"
      ],
      "metadata": {
        "colab": {
          "base_uri": "https://localhost:8080/"
        },
        "id": "qyr5soYYa5iR",
        "outputId": "eb29f9ef-3e1b-4e22-a8dd-e5735b47f58d"
      },
      "execution_count": null,
      "outputs": [
        {
          "output_type": "execute_result",
          "data": {
            "text/plain": [
              "array([ 0.3821456 , -0.07890382,  0.00530433, -0.03677142,  0.84535328,\n",
              "        0.04088663,  0.1170635 , -0.01044891,  0.0264349 ])"
            ]
          },
          "metadata": {},
          "execution_count": 371
        }
      ]
    },
    {
      "cell_type": "code",
      "source": [
        "linreg_ml.score(X, y)"
      ],
      "metadata": {
        "colab": {
          "base_uri": "https://localhost:8080/"
        },
        "id": "IPmmHO_8a7AZ",
        "outputId": "c97e201b-26e9-4363-a014-548375b1530c"
      },
      "execution_count": null,
      "outputs": [
        {
          "output_type": "execute_result",
          "data": {
            "text/plain": [
              "0.042188629479862794"
            ]
          },
          "metadata": {},
          "execution_count": 372
        }
      ]
    },
    {
      "cell_type": "markdown",
      "source": [
        "# Classification\n",
        "\n",
        "Until now we have used linear regressions to best predict the outcome. The results are very poor. With $R^2$ of 3-4%, there is little hope for this to continue well, especially if we are concerned about \"external validity\". \n",
        "\n",
        "This is not surprising since we do not have a regression problem. Instead, the outcome is binary. We are not that much interested in a trend or \"regressing toward the mean\". A better approach is classification.\n",
        "\n",
        "<img src=\"http://dieter.wang/files/images/fig_reg-vs-clf.png\" />"
      ],
      "metadata": {
        "id": "zvnbS3yzN-oY"
      }
    },
    {
      "cell_type": "code",
      "source": [
        "sr_endog = df_data.loc[:,'DEFAULTED'].astype(float)\n",
        "\n",
        "df_exogs = df_data.loc[:,[\n",
        "  'DAYS_EMPLOYED_LOG10',\n",
        "  'AMT_INCOME_TOTAL_LOG10', \n",
        "  'DAYS_EMPLOYED_BINS',\n",
        "  'AMT_INCOME_TOTAL_BINS', \n",
        "  'FEMALE',\n",
        "  'PENSIONER', \n",
        "  'CORE STAFF', \n",
        "  'LOWER SECONDARY', \n",
        "  'CIVIL MARRIAGE', \n",
        "  'MUNICIPAL APARTMENT', \n",
        "]]\n",
        "df_exogs = sm.add_constant(df_exogs)\n",
        "df_exogs.head()"
      ],
      "metadata": {
        "id": "omqwH0zAvZAP",
        "colab": {
          "base_uri": "https://localhost:8080/",
          "height": 354
        },
        "outputId": "d29b2215-4df5-45d2-8510-f2509e47714d"
      },
      "execution_count": null,
      "outputs": [
        {
          "output_type": "stream",
          "name": "stderr",
          "text": [
            "/usr/local/lib/python3.7/dist-packages/statsmodels/tsa/tsatools.py:142: FutureWarning: In a future version of pandas all arguments of concat except for the argument 'objs' will be keyword-only\n",
            "  x = pd.concat(x[::order], 1)\n"
          ]
        },
        {
          "output_type": "execute_result",
          "data": {
            "text/plain": [
              "         const  DAYS_EMPLOYED_LOG10  AMT_INCOME_TOTAL_LOG10  \\\n",
              "ID                                                            \n",
              "5088290    1.0             2.454845                5.352183   \n",
              "5135669    1.0             3.894316                5.334454   \n",
              "5143600    1.0             3.522835                4.954243   \n",
              "5038615    1.0             3.514813                5.051153   \n",
              "5050542    1.0             3.489677                5.352183   \n",
              "\n",
              "         DAYS_EMPLOYED_BINS  AMT_INCOME_TOTAL_BINS  FEMALE  PENSIONER  \\\n",
              "ID                                                                      \n",
              "5088290                   0                      1       0          0   \n",
              "5135669                   4                      1       1          0   \n",
              "5143600                   2                      0       1          0   \n",
              "5038615                   2                      0       1          0   \n",
              "5050542                   1                      1       0          0   \n",
              "\n",
              "         CORE STAFF  LOWER SECONDARY  CIVIL MARRIAGE  MUNICIPAL APARTMENT  \n",
              "ID                                                                         \n",
              "5088290           0                0               0                    0  \n",
              "5135669           0                0               0                    0  \n",
              "5143600           0                0               1                    0  \n",
              "5038615           1                0               0                    0  \n",
              "5050542           0                0               1                    0  "
            ],
            "text/html": [
              "\n",
              "  <div id=\"df-51aa2fe2-45de-4f94-a02a-2ad82da0c956\">\n",
              "    <div class=\"colab-df-container\">\n",
              "      <div>\n",
              "<style scoped>\n",
              "    .dataframe tbody tr th:only-of-type {\n",
              "        vertical-align: middle;\n",
              "    }\n",
              "\n",
              "    .dataframe tbody tr th {\n",
              "        vertical-align: top;\n",
              "    }\n",
              "\n",
              "    .dataframe thead th {\n",
              "        text-align: right;\n",
              "    }\n",
              "</style>\n",
              "<table border=\"1\" class=\"dataframe\">\n",
              "  <thead>\n",
              "    <tr style=\"text-align: right;\">\n",
              "      <th></th>\n",
              "      <th>const</th>\n",
              "      <th>DAYS_EMPLOYED_LOG10</th>\n",
              "      <th>AMT_INCOME_TOTAL_LOG10</th>\n",
              "      <th>DAYS_EMPLOYED_BINS</th>\n",
              "      <th>AMT_INCOME_TOTAL_BINS</th>\n",
              "      <th>FEMALE</th>\n",
              "      <th>PENSIONER</th>\n",
              "      <th>CORE STAFF</th>\n",
              "      <th>LOWER SECONDARY</th>\n",
              "      <th>CIVIL MARRIAGE</th>\n",
              "      <th>MUNICIPAL APARTMENT</th>\n",
              "    </tr>\n",
              "    <tr>\n",
              "      <th>ID</th>\n",
              "      <th></th>\n",
              "      <th></th>\n",
              "      <th></th>\n",
              "      <th></th>\n",
              "      <th></th>\n",
              "      <th></th>\n",
              "      <th></th>\n",
              "      <th></th>\n",
              "      <th></th>\n",
              "      <th></th>\n",
              "      <th></th>\n",
              "    </tr>\n",
              "  </thead>\n",
              "  <tbody>\n",
              "    <tr>\n",
              "      <th>5088290</th>\n",
              "      <td>1.0</td>\n",
              "      <td>2.454845</td>\n",
              "      <td>5.352183</td>\n",
              "      <td>0</td>\n",
              "      <td>1</td>\n",
              "      <td>0</td>\n",
              "      <td>0</td>\n",
              "      <td>0</td>\n",
              "      <td>0</td>\n",
              "      <td>0</td>\n",
              "      <td>0</td>\n",
              "    </tr>\n",
              "    <tr>\n",
              "      <th>5135669</th>\n",
              "      <td>1.0</td>\n",
              "      <td>3.894316</td>\n",
              "      <td>5.334454</td>\n",
              "      <td>4</td>\n",
              "      <td>1</td>\n",
              "      <td>1</td>\n",
              "      <td>0</td>\n",
              "      <td>0</td>\n",
              "      <td>0</td>\n",
              "      <td>0</td>\n",
              "      <td>0</td>\n",
              "    </tr>\n",
              "    <tr>\n",
              "      <th>5143600</th>\n",
              "      <td>1.0</td>\n",
              "      <td>3.522835</td>\n",
              "      <td>4.954243</td>\n",
              "      <td>2</td>\n",
              "      <td>0</td>\n",
              "      <td>1</td>\n",
              "      <td>0</td>\n",
              "      <td>0</td>\n",
              "      <td>0</td>\n",
              "      <td>1</td>\n",
              "      <td>0</td>\n",
              "    </tr>\n",
              "    <tr>\n",
              "      <th>5038615</th>\n",
              "      <td>1.0</td>\n",
              "      <td>3.514813</td>\n",
              "      <td>5.051153</td>\n",
              "      <td>2</td>\n",
              "      <td>0</td>\n",
              "      <td>1</td>\n",
              "      <td>0</td>\n",
              "      <td>1</td>\n",
              "      <td>0</td>\n",
              "      <td>0</td>\n",
              "      <td>0</td>\n",
              "    </tr>\n",
              "    <tr>\n",
              "      <th>5050542</th>\n",
              "      <td>1.0</td>\n",
              "      <td>3.489677</td>\n",
              "      <td>5.352183</td>\n",
              "      <td>1</td>\n",
              "      <td>1</td>\n",
              "      <td>0</td>\n",
              "      <td>0</td>\n",
              "      <td>0</td>\n",
              "      <td>0</td>\n",
              "      <td>1</td>\n",
              "      <td>0</td>\n",
              "    </tr>\n",
              "  </tbody>\n",
              "</table>\n",
              "</div>\n",
              "      <button class=\"colab-df-convert\" onclick=\"convertToInteractive('df-51aa2fe2-45de-4f94-a02a-2ad82da0c956')\"\n",
              "              title=\"Convert this dataframe to an interactive table.\"\n",
              "              style=\"display:none;\">\n",
              "        \n",
              "  <svg xmlns=\"http://www.w3.org/2000/svg\" height=\"24px\"viewBox=\"0 0 24 24\"\n",
              "       width=\"24px\">\n",
              "    <path d=\"M0 0h24v24H0V0z\" fill=\"none\"/>\n",
              "    <path d=\"M18.56 5.44l.94 2.06.94-2.06 2.06-.94-2.06-.94-.94-2.06-.94 2.06-2.06.94zm-11 1L8.5 8.5l.94-2.06 2.06-.94-2.06-.94L8.5 2.5l-.94 2.06-2.06.94zm10 10l.94 2.06.94-2.06 2.06-.94-2.06-.94-.94-2.06-.94 2.06-2.06.94z\"/><path d=\"M17.41 7.96l-1.37-1.37c-.4-.4-.92-.59-1.43-.59-.52 0-1.04.2-1.43.59L10.3 9.45l-7.72 7.72c-.78.78-.78 2.05 0 2.83L4 21.41c.39.39.9.59 1.41.59.51 0 1.02-.2 1.41-.59l7.78-7.78 2.81-2.81c.8-.78.8-2.07 0-2.86zM5.41 20L4 18.59l7.72-7.72 1.47 1.35L5.41 20z\"/>\n",
              "  </svg>\n",
              "      </button>\n",
              "      \n",
              "  <style>\n",
              "    .colab-df-container {\n",
              "      display:flex;\n",
              "      flex-wrap:wrap;\n",
              "      gap: 12px;\n",
              "    }\n",
              "\n",
              "    .colab-df-convert {\n",
              "      background-color: #E8F0FE;\n",
              "      border: none;\n",
              "      border-radius: 50%;\n",
              "      cursor: pointer;\n",
              "      display: none;\n",
              "      fill: #1967D2;\n",
              "      height: 32px;\n",
              "      padding: 0 0 0 0;\n",
              "      width: 32px;\n",
              "    }\n",
              "\n",
              "    .colab-df-convert:hover {\n",
              "      background-color: #E2EBFA;\n",
              "      box-shadow: 0px 1px 2px rgba(60, 64, 67, 0.3), 0px 1px 3px 1px rgba(60, 64, 67, 0.15);\n",
              "      fill: #174EA6;\n",
              "    }\n",
              "\n",
              "    [theme=dark] .colab-df-convert {\n",
              "      background-color: #3B4455;\n",
              "      fill: #D2E3FC;\n",
              "    }\n",
              "\n",
              "    [theme=dark] .colab-df-convert:hover {\n",
              "      background-color: #434B5C;\n",
              "      box-shadow: 0px 1px 3px 1px rgba(0, 0, 0, 0.15);\n",
              "      filter: drop-shadow(0px 1px 2px rgba(0, 0, 0, 0.3));\n",
              "      fill: #FFFFFF;\n",
              "    }\n",
              "  </style>\n",
              "\n",
              "      <script>\n",
              "        const buttonEl =\n",
              "          document.querySelector('#df-51aa2fe2-45de-4f94-a02a-2ad82da0c956 button.colab-df-convert');\n",
              "        buttonEl.style.display =\n",
              "          google.colab.kernel.accessAllowed ? 'block' : 'none';\n",
              "\n",
              "        async function convertToInteractive(key) {\n",
              "          const element = document.querySelector('#df-51aa2fe2-45de-4f94-a02a-2ad82da0c956');\n",
              "          const dataTable =\n",
              "            await google.colab.kernel.invokeFunction('convertToInteractive',\n",
              "                                                     [key], {});\n",
              "          if (!dataTable) return;\n",
              "\n",
              "          const docLinkHtml = 'Like what you see? Visit the ' +\n",
              "            '<a target=\"_blank\" href=https://colab.research.google.com/notebooks/data_table.ipynb>data table notebook</a>'\n",
              "            + ' to learn more about interactive tables.';\n",
              "          element.innerHTML = '';\n",
              "          dataTable['output_type'] = 'display_data';\n",
              "          await google.colab.output.renderOutput(dataTable, element);\n",
              "          const docLink = document.createElement('div');\n",
              "          docLink.innerHTML = docLinkHtml;\n",
              "          element.appendChild(docLink);\n",
              "        }\n",
              "      </script>\n",
              "    </div>\n",
              "  </div>\n",
              "  "
            ]
          },
          "metadata": {},
          "execution_count": 373
        }
      ]
    },
    {
      "cell_type": "code",
      "source": [
        "from sklearn.preprocessing import StandardScaler\n",
        "\n",
        "X = StandardScaler().fit_transform(df_exogs)\n",
        "y = sr_endog.values"
      ],
      "metadata": {
        "id": "LESlM8ElHx4U"
      },
      "execution_count": null,
      "outputs": []
    },
    {
      "cell_type": "markdown",
      "source": [
        "## Logistic regression\n",
        "\n",
        "<img src=\"http://dieter.wang/files/images/fig_linreg-logitreg.png\" />"
      ],
      "metadata": {
        "id": "dQhrOjNNcoOp"
      }
    },
    {
      "cell_type": "code",
      "source": [
        "from sklearn.linear_model import LogisticRegression"
      ],
      "metadata": {
        "id": "Cj7AI2luYzs4"
      },
      "execution_count": null,
      "outputs": []
    },
    {
      "cell_type": "code",
      "source": [
        "mdl_logit = LogisticRegression(\n",
        "    fit_intercept=True\n",
        ").fit(\n",
        "    X=X,\n",
        "    y=y,\n",
        ")"
      ],
      "metadata": {
        "id": "xs24v8r6Yzs4"
      },
      "execution_count": null,
      "outputs": []
    },
    {
      "cell_type": "code",
      "source": [
        "y_pred_logit = mdl_logit.predict(X)\n",
        "y_pred_logit.sum()"
      ],
      "metadata": {
        "colab": {
          "base_uri": "https://localhost:8080/"
        },
        "outputId": "b300ab85-205c-40b8-d7dc-7239c3e70768",
        "id": "0dz_EdQnYzs5"
      },
      "execution_count": null,
      "outputs": [
        {
          "output_type": "execute_result",
          "data": {
            "text/plain": [
              "13.0"
            ]
          },
          "metadata": {},
          "execution_count": 377
        }
      ]
    },
    {
      "cell_type": "code",
      "source": [
        "x = df_exogs['DAYS_EMPLOYED_LOG10']\n",
        "plt.scatter(x, y, marker='x', color='royalblue', label='true data')\n",
        "plt.scatter(x, y_pred_logit+.05, marker='o', color='r', label='predicted data')\n",
        "plt.title('DecisionTreeClassifier')\n",
        "plt.legend()\n",
        "plt.tight_layout()"
      ],
      "metadata": {
        "colab": {
          "base_uri": "https://localhost:8080/",
          "height": 297
        },
        "outputId": "977f7720-b89d-4a3e-da1b-5f2f409fb3c2",
        "id": "vjvY69J-Yzs5"
      },
      "execution_count": null,
      "outputs": [
        {
          "output_type": "display_data",
          "data": {
            "text/plain": [
              "<Figure size 432x288 with 1 Axes>"
            ],
            "image/png": "[encoded data removed]"
          },
          "metadata": {
            "needs_background": "light"
          }
        }
      ]
    },
    {
      "cell_type": "markdown",
      "source": [
        "## Perceptron"
      ],
      "metadata": {
        "id": "HKhWt03ic6Z8"
      }
    },
    {
      "cell_type": "code",
      "source": [
        "from sklearn.linear_model import Perceptron"
      ],
      "metadata": {
        "id": "sAOAVLpnOier"
      },
      "execution_count": null,
      "outputs": []
    },
    {
      "cell_type": "code",
      "source": [
        "mdl_percep = Perceptron().fit(\n",
        "    X=X,\n",
        "    y=y,\n",
        ")"
      ],
      "metadata": {
        "id": "0g7WWKUSOies"
      },
      "execution_count": null,
      "outputs": []
    },
    {
      "cell_type": "code",
      "source": [
        "y_pred_percep = mdl_percep.predict(X)\n",
        "y_pred_percep.sum()"
      ],
      "metadata": {
        "colab": {
          "base_uri": "https://localhost:8080/"
        },
        "id": "KYe_MQ8AOies",
        "outputId": "a739dbc8-754b-4f57-b199-e5c98a58e82f"
      },
      "execution_count": null,
      "outputs": [
        {
          "output_type": "execute_result",
          "data": {
            "text/plain": [
              "1009.0"
            ]
          },
          "metadata": {},
          "execution_count": 381
        }
      ]
    },
    {
      "cell_type": "code",
      "source": [
        "x = df_exogs['DAYS_EMPLOYED_LOG10']\n",
        "plt.scatter(x, y, marker='x', color='royalblue', label='true data')\n",
        "plt.scatter(x, y_pred_percep+.05, marker='o', color='r', label='predicted data')\n",
        "plt.title('Perceptron')\n",
        "plt.legend()\n",
        "plt.tight_layout()"
      ],
      "metadata": {
        "colab": {
          "base_uri": "https://localhost:8080/",
          "height": 297
        },
        "outputId": "be1100a9-6f66-49d4-d9bb-d88ada188bca",
        "id": "FosgQj8-Oies"
      },
      "execution_count": null,
      "outputs": [
        {
          "output_type": "display_data",
          "data": {
            "text/plain": [
              "<Figure size 432x288 with 1 Axes>"
            ],
            "image/png": "[encoded data removed]"
          },
          "metadata": {
            "needs_background": "light"
          }
        }
      ]
    },
    {
      "cell_type": "markdown",
      "source": [
        "## Decision tree classifier"
      ],
      "metadata": {
        "id": "04WN_m_6cu-S"
      }
    },
    {
      "cell_type": "code",
      "source": [
        "from sklearn import tree"
      ],
      "metadata": {
        "id": "fK3-y2kPZfui"
      },
      "execution_count": null,
      "outputs": []
    },
    {
      "cell_type": "code",
      "source": [
        "mdl_tree = tree.DecisionTreeClassifier(\n",
        ").fit(\n",
        "    X=X,\n",
        "    y=y,\n",
        ")"
      ],
      "metadata": {
        "id": "45papqsEZfuj"
      },
      "execution_count": null,
      "outputs": []
    },
    {
      "cell_type": "code",
      "source": [
        "y_pred_dtree = mdl_tree.predict(X)\n",
        "y_pred_dtree.sum()"
      ],
      "metadata": {
        "colab": {
          "base_uri": "https://localhost:8080/"
        },
        "outputId": "3ac9fd5e-c8c6-447b-91db-2b2354481741",
        "id": "n6pWef2DZfuk"
      },
      "execution_count": null,
      "outputs": [
        {
          "output_type": "execute_result",
          "data": {
            "text/plain": [
              "393.0"
            ]
          },
          "metadata": {},
          "execution_count": 385
        }
      ]
    },
    {
      "cell_type": "code",
      "source": [
        "x = df_exogs['DAYS_EMPLOYED_LOG10']\n",
        "plt.scatter(x, y, marker='x', color='royalblue', label='true data')\n",
        "plt.scatter(x, y_pred_dtree+.05, marker='o', color='r', label='predicted data')\n",
        "plt.title('DecisionTreeClassifier')\n",
        "plt.legend()\n",
        "plt.tight_layout()"
      ],
      "metadata": {
        "colab": {
          "base_uri": "https://localhost:8080/",
          "height": 297
        },
        "outputId": "bd35767b-0c43-4d6c-bf5d-abf6c6c71aed",
        "id": "hxTK8RqDZful"
      },
      "execution_count": null,
      "outputs": [
        {
          "output_type": "display_data",
          "data": {
            "text/plain": [
              "<Figure size 432x288 with 1 Axes>"
            ],
            "image/png": "[encoded data removed]"
          },
          "metadata": {
            "needs_background": "light"
          }
        }
      ]
    },
    {
      "cell_type": "markdown",
      "source": [
        "# Evaluate the classification results\n",
        "\n",
        "## How **precise** were your shots?\n",
        "\n",
        "<img src=\"https://images.squarespace-cdn.com/content/v1/5ac114ac96d455c1a62e09e7/1550637780435-FZLDGOPKWGG63PY15893/Precision+from+Brandmaier+2018.jpg?format=2500w\" />\n",
        "<img src=\"http://dieter.wang/files/images/fig_precision.png\" />\n",
        "\n",
        "## How many of the correct answers do you **recall**?\n",
        "\n",
        "\n",
        "<img src=\"https://cdn-www.momtastic.com/assets/uploads/2011/09/file_104021_0_100715-memory-game6.jpg\" />\n",
        "<img src=\"http://dieter.wang/files/images/fig_recall.png\" />"
      ],
      "metadata": {
        "id": "QBHnqrTxPmMR"
      }
    },
    {
      "cell_type": "markdown",
      "source": [
        "## Confusion matrix"
      ],
      "metadata": {
        "id": "Szp99YQscayP"
      }
    },
    {
      "cell_type": "code",
      "source": [
        "from sklearn.metrics import confusion_matrix\n",
        "from sklearn.metrics import ConfusionMatrixDisplay\n",
        "from sklearn.metrics import classification_report"
      ],
      "metadata": {
        "id": "I3T_VNz1dl32"
      },
      "execution_count": null,
      "outputs": []
    },
    {
      "cell_type": "code",
      "source": [
        "cm = confusion_matrix(y, y_pred_logit)\n",
        "disp = ConfusionMatrixDisplay(cm, display_labels=['NO DEFAULT', 'DEFAULTED'])\n",
        "disp.plot()"
      ],
      "metadata": {
        "colab": {
          "base_uri": "https://localhost:8080/",
          "height": 299
        },
        "id": "sQDYs7rTdqgd",
        "outputId": "7d12b641-556a-4dde-d114-b3d11f14269b"
      },
      "execution_count": null,
      "outputs": [
        {
          "output_type": "execute_result",
          "data": {
            "text/plain": [
              "<sklearn.metrics._plot.confusion_matrix.ConfusionMatrixDisplay at 0x7f8520d798d0>"
            ]
          },
          "metadata": {},
          "execution_count": 388
        },
        {
          "output_type": "display_data",
          "data": {
            "text/plain": [
              "<Figure size 432x288 with 2 Axes>"
            ],
            "image/png": "[encoded data removed]"
          },
          "metadata": {
            "needs_background": "light"
          }
        }
      ]
    },
    {
      "cell_type": "code",
      "source": [
        "print(classification_report(y, y_pred_logit))"
      ],
      "metadata": {
        "colab": {
          "base_uri": "https://localhost:8080/"
        },
        "id": "VqBGxMdQGrvU",
        "outputId": "5eae65ed-bce8-4c70-e049-b792c8c91b26"
      },
      "execution_count": null,
      "outputs": [
        {
          "output_type": "stream",
          "name": "stdout",
          "text": [
            "              precision    recall  f1-score   support\n",
            "\n",
            "         0.0       0.86      1.00      0.92      2513\n",
            "         1.0       1.00      0.03      0.06       422\n",
            "\n",
            "    accuracy                           0.86      2935\n",
            "   macro avg       0.93      0.52      0.49      2935\n",
            "weighted avg       0.88      0.86      0.80      2935\n",
            "\n"
          ]
        }
      ]
    },
    {
      "cell_type": "code",
      "source": [
        "cm = confusion_matrix(y, y_pred_percep)\n",
        "disp = ConfusionMatrixDisplay(cm, display_labels=['NO DEFAULT', 'DEFAULTED'])\n",
        "disp.plot()"
      ],
      "metadata": {
        "colab": {
          "base_uri": "https://localhost:8080/",
          "height": 296
        },
        "id": "lAlcfdvOekPt",
        "outputId": "e98b40c4-7def-4d91-dc09-4eb9f732d1b4"
      },
      "execution_count": null,
      "outputs": [
        {
          "output_type": "execute_result",
          "data": {
            "text/plain": [
              "<sklearn.metrics._plot.confusion_matrix.ConfusionMatrixDisplay at 0x7f8520d79290>"
            ]
          },
          "metadata": {},
          "execution_count": 390
        },
        {
          "output_type": "display_data",
          "data": {
            "text/plain": [
              "<Figure size 432x288 with 2 Axes>"
            ],
            "image/png": "[encoded data removed]"
          },
          "metadata": {
            "needs_background": "light"
          }
        }
      ]
    },
    {
      "cell_type": "code",
      "source": [
        "print(classification_report(y, y_pred_percep))"
      ],
      "metadata": {
        "id": "S7flnEeAG2la",
        "colab": {
          "base_uri": "https://localhost:8080/"
        },
        "outputId": "d46110e0-41e9-4798-b9ca-14be66cae120"
      },
      "execution_count": null,
      "outputs": [
        {
          "output_type": "stream",
          "name": "stdout",
          "text": [
            "              precision    recall  f1-score   support\n",
            "\n",
            "         0.0       0.86      0.66      0.75      2513\n",
            "         1.0       0.16      0.38      0.23       422\n",
            "\n",
            "    accuracy                           0.62      2935\n",
            "   macro avg       0.51      0.52      0.49      2935\n",
            "weighted avg       0.76      0.62      0.67      2935\n",
            "\n"
          ]
        }
      ]
    },
    {
      "cell_type": "code",
      "source": [
        "cm = confusion_matrix(y, y_pred_dtree)\n",
        "disp = ConfusionMatrixDisplay(cm, display_labels=['NO DEFAULT', 'DEFAULTED'])\n",
        "disp.plot()"
      ],
      "metadata": {
        "colab": {
          "base_uri": "https://localhost:8080/",
          "height": 296
        },
        "id": "LmSNp9MIeki_",
        "outputId": "c4c170cb-dca0-4953-c5c3-8be1add57f0c"
      },
      "execution_count": null,
      "outputs": [
        {
          "output_type": "execute_result",
          "data": {
            "text/plain": [
              "<sklearn.metrics._plot.confusion_matrix.ConfusionMatrixDisplay at 0x7f8520d16710>"
            ]
          },
          "metadata": {},
          "execution_count": 392
        },
        {
          "output_type": "display_data",
          "data": {
            "text/plain": [
              "<Figure size 432x288 with 2 Axes>"
            ],
            "image/png": "[encoded data removed]"
          },
          "metadata": {
            "needs_background": "light"
          }
        }
      ]
    },
    {
      "cell_type": "code",
      "source": [
        "print(classification_report(y, y_pred_dtree))"
      ],
      "metadata": {
        "id": "PHYTS-weG5Ih",
        "colab": {
          "base_uri": "https://localhost:8080/"
        },
        "outputId": "522e548f-dd01-488b-b615-c242330fe8d9"
      },
      "execution_count": null,
      "outputs": [
        {
          "output_type": "stream",
          "name": "stdout",
          "text": [
            "              precision    recall  f1-score   support\n",
            "\n",
            "         0.0       0.98      0.99      0.99      2513\n",
            "         1.0       0.95      0.89      0.92       422\n",
            "\n",
            "    accuracy                           0.98      2935\n",
            "   macro avg       0.97      0.94      0.95      2935\n",
            "weighted avg       0.98      0.98      0.98      2935\n",
            "\n"
          ]
        }
      ]
    }
  ]
}