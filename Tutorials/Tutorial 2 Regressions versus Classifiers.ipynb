{
  "nbformat": 4,
  "nbformat_minor": 0,
  "metadata": {
    "colab": {
      "provenance": [],
      "include_colab_link": true
    },
    "kernelspec": {
      "name": "python3",
      "display_name": "Python 3"
    },
    "language_info": {
      "name": "python"
    }
  },
  "cells": [
    {
      "cell_type": "markdown",
      "metadata": {
        "id": "view-in-github",
        "colab_type": "text"
      },
      "source": [
        "<a href=\"https://colab.research.google.com/github/mnijhuis-dnb/Artificial_Intelligence_and_Machine_Learning_for_SupTech/blob/main/Tutorials/Tutorial%202%20Regressions%20versus%20Classifiers.ipynb\" target=\"_parent\"><img src=\"https://colab.research.google.com/assets/colab-badge.svg\" alt=\"Open In Colab\"/></a>"
      ]
    },
    {
      "cell_type": "markdown",
      "source": [
        "##Artificial Intelligence and Machine Learning for SupTech  \n",
        "Tutorial 2: Regressions versus Classifiers\n",
        "*\tLogit as a statistical model vs ML model\n",
        "*\tHow to find the optimal (hyper)parameters\n",
        "*\tA different classifier: Support vector machines \n",
        "  *\tDifferent types of kernels\n",
        "  *\tFirst glimpse: Dangers of overfitting\n",
        "  *\tEvaluating performance\n",
        "\n",
        "<br/>\n",
        "\n",
        "13 March 2023  \n",
        "\n",
        "**Instructors**  \n",
        "Prof. Iman van Lelyveld (iman.van.lelyveld@vu.nl)<br/>\n",
        "Dr. Michiel Nijhuis (m.nijhuis@dnb.nl)  "
      ],
      "metadata": {
        "id": "-x9uRovz0R8V"
      }
    },
    {
      "cell_type": "markdown",
      "source": [
        "# Preparation\n",
        "\n",
        "At the beginning of each notebook, we have a short preparation section. This section will do three things. First of all it will loads all the necessary packages or download and install them. Secondly it will also download and extract the data we are going to use during the tutorial. The third thing is to run most of the code from the previous noteboo so we can continue working with the data"
      ],
      "metadata": {
        "id": "ZqaAXvSoHWGO"
      }
    },
    {
      "cell_type": "code",
      "source": [
        "import pandas as pd\n",
        "import numpy as np\n",
        "import matplotlib.pyplot as plt"
      ],
      "metadata": {
        "id": "nAUm1PTv3Y5I"
      },
      "execution_count": null,
      "outputs": []
    },
    {
      "cell_type": "code",
      "source": [
        "!gdown 1-3c9BhPfl6D92HvTI4kNd0MfmTquiUwQ\n",
        "!gdown 1-5ZzK3EAqc-i3AgnLOSZXTGGZsEPEmzH"
      ],
      "metadata": {
        "id": "OSmrbk7jEnVo"
      },
      "execution_count": null,
      "outputs": []
    },
    {
      "cell_type": "markdown",
      "source": [
        "### Tutorial 1\n",
        "In this section we re-run most of the code from tutorial 1. This setups up the data so we can use it for this tutorial"
      ],
      "metadata": {
        "id": "Fic-DPeTKChS"
      }
    },
    {
      "cell_type": "code",
      "source": [
        "path = 'credit_record.csv'\n",
        "df_record = pd.read_csv(path)"
      ],
      "metadata": {
        "id": "LmnE663Kw5n2"
      },
      "execution_count": null,
      "outputs": []
    },
    {
      "cell_type": "code",
      "source": [
        "path = 'application_record.csv'\n",
        "df_applications = pd.read_csv(path)"
      ],
      "metadata": {
        "id": "QeVVgitMy_kF"
      },
      "execution_count": null,
      "outputs": []
    },
    {
      "cell_type": "code",
      "source": [
        "df_record.loc[:,'status'] = df_record.loc[:,'STATUS']\n",
        "df_record.loc[:,'status'] = df_record.loc[:,'status'].replace('X', '0')\n",
        "df_record.loc[:,'status'] = df_record.loc[:,'status'].replace('C', '0')"
      ],
      "metadata": {
        "id": "2rVTrcMP0jpt"
      },
      "execution_count": null,
      "outputs": []
    },
    {
      "cell_type": "code",
      "source": [
        "df_record.loc[:,'status'] = pd.to_numeric(df_record.loc[:,'status'])"
      ],
      "metadata": {
        "id": "fM0qCRyr0pJ9"
      },
      "execution_count": null,
      "outputs": []
    },
    {
      "cell_type": "code",
      "source": [
        "sr_defaults = df_record.groupby('ID')['status'].agg(lambda x: sum(x>=2)>0)"
      ],
      "metadata": {
        "id": "AM5_vBLA3KSb"
      },
      "execution_count": null,
      "outputs": []
    },
    {
      "cell_type": "code",
      "source": [
        "df_applications = df_applications.drop_duplicates(subset='ID')"
      ],
      "metadata": {
        "id": "8L18eOAdA4eu"
      },
      "execution_count": null,
      "outputs": []
    },
    {
      "cell_type": "code",
      "source": [
        "df_applications = df_applications.set_index('ID')"
      ],
      "metadata": {
        "id": "u2wh3U3X3d7k"
      },
      "execution_count": null,
      "outputs": []
    },
    {
      "cell_type": "code",
      "source": [
        "df_applications = df_applications.dropna()"
      ],
      "metadata": {
        "id": "Z5LpPaJE8L68"
      },
      "execution_count": null,
      "outputs": []
    },
    {
      "cell_type": "code",
      "source": [
        "obj_cols = df_applications.select_dtypes(include=['object']).columns.tolist()\n",
        "dummies_list = [pd.get_dummies(df_applications[col], prefix=col, drop_first=True) for col in obj_cols]\n",
        "df_applications = pd.concat([df_applications.drop(columns=obj_cols)] + dummies_list, axis=1)"
      ],
      "metadata": {
        "id": "WdixnHsgVKCA"
      },
      "execution_count": null,
      "outputs": []
    },
    {
      "cell_type": "code",
      "source": [
        "df_data = df_applications.merge(sr_defaults, how='inner', left_index=True, right_on='ID')"
      ],
      "metadata": {
        "id": "50Uo0hr-VbJB"
      },
      "execution_count": null,
      "outputs": []
    },
    {
      "cell_type": "code",
      "source": [
        "df_data= df_data.rename(columns={'status':'DEFAULTED'}).dropna()"
      ],
      "metadata": {
        "id": "kCZHB6vhWPqx"
      },
      "execution_count": null,
      "outputs": []
    },
    {
      "cell_type": "markdown",
      "source": [
        "## Data analysis\n",
        "Before we can make our model we first have to apply some data analysis to get a better understanding of the data"
      ],
      "metadata": {
        "id": "45ZZYB8xV-Ip"
      }
    },
    {
      "cell_type": "code",
      "source": [
        "df_corr = df_data.corr()\n",
        "df_corr"
      ],
      "metadata": {
        "id": "Kps7R8evDQXZ"
      },
      "execution_count": null,
      "outputs": []
    },
    {
      "cell_type": "code",
      "source": [
        "df_corr.loc['DEFAULTED'].sort_values(ascending=False)"
      ],
      "metadata": {
        "id": "mcKk3V_FKDcF"
      },
      "execution_count": null,
      "outputs": []
    },
    {
      "cell_type": "markdown",
      "source": [
        "# Linear Regression\n",
        "Now we can apply our linear regression model, both from sklearn (which takes more of a machine learning view) and for statsmodels (which takes more of an econometrics view)"
      ],
      "metadata": {
        "id": "1FKRhDl6F5UI"
      }
    },
    {
      "cell_type": "code",
      "source": [
        "import statsmodels.api as sm\n",
        "from sklearn.linear_model import LinearRegression"
      ],
      "metadata": {
        "id": "L0YwOfy5F_uh"
      },
      "execution_count": null,
      "outputs": []
    },
    {
      "cell_type": "markdown",
      "source": [
        "Select the columns that you want to use for the regression"
      ],
      "metadata": {
        "id": "QHQVCOaxE5m7"
      }
    },
    {
      "cell_type": "code",
      "source": [
        "exogenous_collumns = []"
      ],
      "metadata": {
        "id": "vFMuANZ0E9Jl"
      },
      "execution_count": null,
      "outputs": []
    },
    {
      "cell_type": "markdown",
      "source": [
        "Get the data ready for the regression"
      ],
      "metadata": {
        "id": "iDVh9CsmFPv1"
      }
    },
    {
      "cell_type": "code",
      "source": [
        "sr_endog = df_data.loc[:,'DEFAULTED'].astype(float)\n",
        "\n",
        "df_exogs = df_data[exogenous_collumns]\n",
        "df_exogs = sm.add_constant(df_exogs)\n",
        "df_exogs.head()"
      ],
      "metadata": {
        "id": "7yvYSJfqF7Yk"
      },
      "execution_count": null,
      "outputs": []
    },
    {
      "cell_type": "markdown",
      "source": [
        "## Econometric view: with `statsmodels`"
      ],
      "metadata": {
        "id": "lEjpN_SiamWx"
      }
    },
    {
      "cell_type": "code",
      "source": [
        "linreg_sm = sm.OLS(\n",
        "    endog=sr_endog,\n",
        "    exog=df_exogs,\n",
        ").fit()\n",
        "\n",
        "print(linreg_sm.summary())"
      ],
      "metadata": {
        "id": "_jTihRQiGIcs"
      },
      "execution_count": null,
      "outputs": []
    },
    {
      "cell_type": "markdown",
      "source": [
        "## Machine learning: with `scikit-learn`"
      ],
      "metadata": {
        "id": "tYd3dXa4ar40"
      }
    },
    {
      "cell_type": "code",
      "source": [
        "X = df_exogs.values\n",
        "y = sr_endog.values"
      ],
      "metadata": {
        "id": "2EN2luwybHqe"
      },
      "execution_count": null,
      "outputs": []
    },
    {
      "cell_type": "code",
      "source": [
        "linreg_ml = LinearRegression(fit_intercept=False)\n",
        "linreg_ml.fit(X, y)"
      ],
      "metadata": {
        "id": "CJ_29PnIavLz"
      },
      "execution_count": null,
      "outputs": []
    },
    {
      "cell_type": "code",
      "source": [
        "linreg_ml.coef_"
      ],
      "metadata": {
        "id": "qyr5soYYa5iR"
      },
      "execution_count": null,
      "outputs": []
    },
    {
      "cell_type": "code",
      "source": [
        "linreg_ml.score(X, y)"
      ],
      "metadata": {
        "id": "IPmmHO_8a7AZ"
      },
      "execution_count": null,
      "outputs": []
    },
    {
      "cell_type": "markdown",
      "source": [
        "# Classification\n",
        "\n",
        "Until now we have used linear regressions to best predict the outcome. The results are very poor. With $R^2$ of 3-4%, there is little hope for this to continue well, especially if we are concerned about \"external validity\". \n",
        "\n",
        "This is not surprising since we do not have a regression problem. Instead, the outcome is binary. We are not that much interested in a trend or \"regressing toward the mean\". A better approach is classification, so we can use logistic regression."
      ],
      "metadata": {
        "id": "zvnbS3yzN-oY"
      }
    },
    {
      "cell_type": "code",
      "source": [
        "from sklearn.linear_model import LogisticRegression"
      ],
      "metadata": {
        "id": "Cj7AI2luYzs4"
      },
      "execution_count": null,
      "outputs": []
    },
    {
      "cell_type": "code",
      "source": [
        "mdl_logit = LogisticRegression(fit_intercept=True)"
      ],
      "metadata": {
        "id": "xs24v8r6Yzs4"
      },
      "execution_count": null,
      "outputs": []
    },
    {
      "cell_type": "markdown",
      "source": [
        "Fit the logistic regression"
      ],
      "metadata": {
        "id": "hvH1UHN7GO0v"
      }
    },
    {
      "cell_type": "code",
      "source": [],
      "metadata": {
        "id": "ocxGaKrpGewg"
      },
      "execution_count": null,
      "outputs": []
    },
    {
      "cell_type": "markdown",
      "source": [
        "Make prediction for the all the data"
      ],
      "metadata": {
        "id": "TnxEW8OZGZ-t"
      }
    },
    {
      "cell_type": "code",
      "source": [],
      "metadata": {
        "id": "uDmetwy3GfUr"
      },
      "execution_count": null,
      "outputs": []
    },
    {
      "cell_type": "markdown",
      "source": [
        "Assess the performance of the logit model"
      ],
      "metadata": {
        "id": "E6C8oY-fH1Wy"
      }
    },
    {
      "cell_type": "code",
      "source": [],
      "metadata": {
        "id": "NwHmQZp2H2Ea"
      },
      "execution_count": null,
      "outputs": []
    },
    {
      "cell_type": "markdown",
      "source": [
        "### Support Vector Machine\n",
        "The next step is to use a SVM to predict the classification"
      ],
      "metadata": {
        "id": "tOCxeVjVIFGT"
      }
    },
    {
      "cell_type": "code",
      "source": [
        "from sklearn.svm import SVC"
      ],
      "metadata": {
        "id": "PAHQJ8OBIUmu"
      },
      "execution_count": null,
      "outputs": []
    },
    {
      "cell_type": "code",
      "source": [
        "clf = SVC(C=1.0, \n",
        "          kernel='rbf', \n",
        "          degree=3, \n",
        "          gamma='scale', \n",
        "          coef0=0.0, \n",
        "          shrinking=True, \n",
        "          probability=False, \n",
        "          tol=0.1, \n",
        "          cache_size=200, \n",
        "          class_weight=None, \n",
        "          verbose=False, \n",
        "          max_iter=20, \n",
        "          decision_function_shape='ovr', \n",
        "          break_ties=False, \n",
        "          random_state=43)"
      ],
      "metadata": {
        "id": "vjvY69J-Yzs5"
      },
      "execution_count": null,
      "outputs": []
    },
    {
      "cell_type": "markdown",
      "source": [
        "Fit the data to the model"
      ],
      "metadata": {
        "id": "B6mUMrp8MIfs"
      }
    },
    {
      "cell_type": "code",
      "source": [],
      "metadata": {
        "id": "oc7C0IfEBaAY"
      },
      "execution_count": null,
      "outputs": []
    },
    {
      "cell_type": "markdown",
      "source": [
        "Make a prediction"
      ],
      "metadata": {
        "id": "ci-OLnVKNHNF"
      }
    },
    {
      "cell_type": "code",
      "source": [
        "y_model = clf.predict(X)"
      ],
      "metadata": {
        "id": "lO2w1k8dNHr-"
      },
      "execution_count": null,
      "outputs": []
    },
    {
      "cell_type": "markdown",
      "source": [
        "Calculate the recall and the precision"
      ],
      "metadata": {
        "id": "P4vyqEDkMLB7"
      }
    },
    {
      "cell_type": "code",
      "source": [
        "from sklearn.metrics import recall_score, precision_score"
      ],
      "metadata": {
        "id": "Q7QFZcJHMwvh"
      },
      "execution_count": null,
      "outputs": []
    },
    {
      "cell_type": "markdown",
      "source": [
        "Calculate the prediction yourself"
      ],
      "metadata": {
        "id": "kVcWclGyNqWk"
      }
    },
    {
      "cell_type": "code",
      "source": [
        "recall = recall_score(y,y_model)\n",
        "\n",
        "print(f'The recall is:{recall} \\t The precision is: ')"
      ],
      "metadata": {
        "id": "AEU1HV_7MUmv"
      },
      "execution_count": null,
      "outputs": []
    },
    {
      "cell_type": "markdown",
      "source": [
        "The following code is a function to plot the decision boundary of a SVC"
      ],
      "metadata": {
        "id": "F4ovBmcOzboI"
      }
    },
    {
      "cell_type": "code",
      "source": [
        "import matplotlib as mpl\n",
        "from Typing import Tuple, Dict, Any\n",
        "\n",
        "def plot_decision_boundary(model: SVC, \n",
        "                           data_x: pd.DataFrame, \n",
        "                           data_y: pd.Series) -> None:\n",
        "    \"\"\"\n",
        "    Plot the decision boundary of a classifier using the given data.\n",
        "\n",
        "    Parameters\n",
        "    ----------\n",
        "    model : sklearn.svm.SVC\n",
        "        The classifier to use for generating the decision boundary.\n",
        "    data_x : pandas.DataFrame\n",
        "        The input data to use for generating the decision boundary.\n",
        "    data_y : pandas.Series\n",
        "        The target values to use for generating the decision boundary.\n",
        "\n",
        "    Returns\n",
        "    -------\n",
        "    None\n",
        "        This function does not return anything, but it generates a plot of the decision boundary.\n",
        "    \"\"\"\n",
        "\n",
        "\n",
        "    def make_meshgrid(x_in: pd.Series, \n",
        "                      y_in: pd.Series) -> Tuple[np.ndarray, np.ndarray]:\n",
        "        \"\"\"\n",
        "        Generate a meshgrid based on the given x and y series.\n",
        "\n",
        "        Parameters\n",
        "        ----------\n",
        "        x_in : pandas.Series\n",
        "            Input x values.\n",
        "        y_in : pandas.Series\n",
        "            Input y values.\n",
        "\n",
        "        Returns\n",
        "        -------\n",
        "        Tuple[np.ndarray, np.ndarray]\n",
        "            A tuple of two NumPy arrays representing the meshgrid generated from x and y values.\n",
        "            The first array represents the x-coordinates and the second array represents the y-coordinates.\n",
        "        \"\"\"\n",
        "        x_min, x_max = x_in.min() - 1, x_in.max() + 1\n",
        "        y_min, y_max = y_in.min() - 1, y_in.max() + 1\n",
        "        x, y = np.meshgrid(np.arange(x_min, x_max, (x_max - x_min)/100), \n",
        "                           np.arange(y_min, y_max, (y_max - y_min)/100))\n",
        "        \n",
        "        return x, y\n",
        "\n",
        "    def plot_contours(ax: mpl.axes.Axes, \n",
        "                      clf: SVC, \n",
        "                      xx: np.array, \n",
        "                      yy: np.array, \n",
        "                      **kwargs: Dict[str,Any]) -> mpl.figure.Figure:\n",
        "        \"\"\"\n",
        "        Plot the decision boundaries for a classifier.\n",
        "\n",
        "        Parameters\n",
        "        ----------\n",
        "        ax : matplotlib.axes.Axes\n",
        "            The axes on which to plot the decision boundaries.\n",
        "        clf : sklearn.svm.SVC\n",
        "            The classifier to use for generating the decision boundaries.\n",
        "        xx : numpy.ndarray\n",
        "            The x values for the meshgrid used to generate the decision boundaries.\n",
        "        yy : numpy.ndarray\n",
        "            The y values for the meshgrid used to generate the decision boundaries.\n",
        "        **kwargs : Dict[str,Any]\n",
        "            Additional keyword arguments to pass to the `contourf` method.\n",
        "\n",
        "        Returns\n",
        "        -------\n",
        "        matplotlib.figure.Figure\n",
        "            The figure object returned by the `contourf` method.\n",
        "        \"\"\"\n",
        "        Z = clf.predict(np.c_[xx.ravel(), yy.ravel()])\n",
        "        Z = Z.reshape(xx.shape)\n",
        "        out = ax.contourf(xx, yy, Z, **kwargs)\n",
        "        return out\n",
        "\n",
        "    fig, ax = plt.subplots()\n",
        "    x, y = make_meshgrid(data_x[:, 0], data_x[:, 1])\n",
        "\n",
        "    ax.scatter(data_x[:, 0], \n",
        "               data_x[:, 1], \n",
        "               c=data_y, \n",
        "               cmap=plt.cm.coolwarm, \n",
        "               s=20)\n",
        "    plot_contours(ax, \n",
        "                  model, \n",
        "                  x, \n",
        "                  y, \n",
        "                  cmap=plt.cm.coolwarm, \n",
        "                  alpha=0.4)\n",
        "    ax.set_ylabel(data_x.columns[0])\n",
        "    ax.set_xlabel(data_x.columns[1])\n",
        "    ax.set_xticks(())\n",
        "    ax.set_yticks(())\n",
        "    ax.set_title('Decision boundary SVC ')\n",
        "\n",
        "    return None"
      ],
      "metadata": {
        "id": "texQG5y4zcHW"
      },
      "execution_count": null,
      "outputs": []
    },
    {
      "cell_type": "markdown",
      "source": [
        "Redo the prediction with just a couple of variables, so we can plot the decision boundary and see the effect of different kernels. You can use the following kernels: 'linear', 'poly', 'rbf', 'sigmoid' "
      ],
      "metadata": {
        "id": "RnvmWi3l48Yr"
      }
    },
    {
      "cell_type": "code",
      "source": [
        "clf = SVC(kernel='linear', \n",
        "          degree=3, \n",
        "          gamma='scale', \n",
        "          coef0=0.0, \n",
        "          shrinking=True, \n",
        "          probability=False, \n",
        "          tol=0.1, \n",
        "          cache_size=200, \n",
        "          class_weight=None, \n",
        "          verbose=False, \n",
        "          max_iter=20, \n",
        "          decision_function_shape='ovr', \n",
        "          break_ties=False, \n",
        "          random_state=43)"
      ],
      "metadata": {
        "id": "s0fU5CWs4QIn"
      },
      "execution_count": null,
      "outputs": []
    },
    {
      "cell_type": "markdown",
      "source": [
        "Select the two columns which you will use for the model and fit the model"
      ],
      "metadata": {
        "id": "bpgfIGju5FQJ"
      }
    },
    {
      "cell_type": "code",
      "source": [
        "two_selected_columns = []\n",
        "\n",
        "clf = clf.fit(X[two_selected_columns], y)"
      ],
      "metadata": {
        "id": "MeazfuLh5Bj1"
      },
      "execution_count": null,
      "outputs": []
    },
    {
      "cell_type": "markdown",
      "source": [
        "Plot the decision boundary"
      ],
      "metadata": {
        "id": "tFIXZ-Dy5jn4"
      }
    },
    {
      "cell_type": "code",
      "source": [
        "plot_decision_boundary(clf, X, y)"
      ],
      "metadata": {
        "id": "5yZ5B9j04851"
      },
      "execution_count": null,
      "outputs": []
    },
    {
      "cell_type": "markdown",
      "source": [
        "Adjust the kernel and see the effects"
      ],
      "metadata": {
        "id": "TgnPS0XN5hni"
      }
    },
    {
      "cell_type": "code",
      "source": [],
      "metadata": {
        "id": "R8b155lp5hQS"
      },
      "execution_count": null,
      "outputs": []
    },
    {
      "cell_type": "markdown",
      "source": [
        "Changing the model to get a better prediction"
      ],
      "metadata": {
        "id": "yNSGUrcsOxUN"
      }
    },
    {
      "cell_type": "code",
      "source": [
        "clf = SVC(C=1.0, \n",
        "          kernel='poly', \n",
        "          degree=30, \n",
        "          gamma='scale', \n",
        "          coef0=0.0, \n",
        "          shrinking=True, \n",
        "          probability=False, \n",
        "          tol=0.0001, \n",
        "          cache_size=200, \n",
        "          class_weight=None, \n",
        "          verbose=False, \n",
        "          max_iter=-1, \n",
        "          decision_function_shape='ovr', \n",
        "          break_ties=False, \n",
        "          random_state=43)"
      ],
      "metadata": {
        "id": "hPUA1p3MOw5Q"
      },
      "execution_count": null,
      "outputs": []
    },
    {
      "cell_type": "markdown",
      "source": [
        "See how the prediction is changed"
      ],
      "metadata": {
        "id": "mf-NbLJgPAMa"
      }
    },
    {
      "cell_type": "code",
      "source": [],
      "metadata": {
        "id": "Bp-uiSJ3O_4h"
      },
      "execution_count": null,
      "outputs": []
    },
    {
      "cell_type": "markdown",
      "source": [
        "Do you think this is a good prediction?"
      ],
      "metadata": {
        "id": "67QcM4GgPfNH"
      }
    },
    {
      "cell_type": "markdown",
      "source": [
        "Can you select better parameters for the model?"
      ],
      "metadata": {
        "id": "HtnjSnFJPmVb"
      }
    },
    {
      "cell_type": "code",
      "source": [],
      "metadata": {
        "id": "K_bB5OVtPeyS"
      },
      "execution_count": null,
      "outputs": []
    }
  ]
}